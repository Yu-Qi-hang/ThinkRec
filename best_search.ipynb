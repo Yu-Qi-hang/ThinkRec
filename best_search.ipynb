{
 "cells": [
  {
   "cell_type": "code",
   "execution_count": 1,
   "metadata": {},
   "outputs": [],
   "source": [
    "file = \"/data/yuqihang/result/CoLLM/checkpoints/mf/yelp_best_model.txt\""
   ]
  },
  {
   "cell_type": "code",
   "execution_count": 2,
   "metadata": {},
   "outputs": [],
   "source": [
    "with open(file,'r') as f:\n",
    "    results = f.readlines()"
   ]
  },
  {
   "cell_type": "code",
   "execution_count": 3,
   "metadata": {},
   "outputs": [],
   "source": [
    "def str2dict(log_string):\n",
    "    parts = log_string.strip('\\n').split(\" best result: \")\n",
    "\n",
    "    train_config_str = ':'.join(parts[0].split(\":\")[1:])\n",
    "    best_result_str = parts[1]\n",
    "\n",
    "    # 使用 ast.literal_eval 将字符串转换为字典\n",
    "    train_config = eval(train_config_str.strip())\n",
    "    best_result = eval(best_result_str.strip())\n",
    "    return {\"best_result\": best_result,\"lr\": train_config['lr'],\"wd\": train_config['wd'], \"embedding_size\":train_config['embedding_size']}"
   ]
  },
  {
   "cell_type": "code",
   "execution_count": 4,
   "metadata": {},
   "outputs": [],
   "source": [
    "results = [str2dict(result) for result in results]\n",
    "results = [result for result in results if result['best_result']['valid_auc']!=0]\n",
    "results = [result for result in results if result['best_result']['valid_uauc']!=0]\n",
    "results = [result for result in results if result['best_result']['test_auc']!=0]\n",
    "results = [result for result in results if result['best_result']['test_uauc']!=0]"
   ]
  },
  {
   "cell_type": "code",
   "execution_count": 5,
   "metadata": {},
   "outputs": [],
   "source": [
    "results.sort(key=lambda x: x['best_result']['valid_auc']+x['best_result']['test_auc'], reverse=True)\n"
   ]
  },
  {
   "cell_type": "code",
   "execution_count": 6,
   "metadata": {},
   "outputs": [
    {
     "data": {
      "text/plain": [
       "[{'best_result': {'valid_auc': 0.6545819258903994,\n",
       "   'valid_uauc': 0.5835647081186833,\n",
       "   'test_auc': 0.6120313777951534,\n",
       "   'test_uauc': 0.562611297630413,\n",
       "   'epoch': 621},\n",
       "  'lr': 0.0001,\n",
       "  'wd': 1e-06,\n",
       "  'embedding_size': 256},\n",
       " {'best_result': {'valid_auc': 0.6544280644406302,\n",
       "   'valid_uauc': 0.5840358372907528,\n",
       "   'test_auc': 0.6111194358532352,\n",
       "   'test_uauc': 0.5612067518178286,\n",
       "   'epoch': 66},\n",
       "  'lr': 0.001,\n",
       "  'wd': 1e-06,\n",
       "  'embedding_size': 256},\n",
       " {'best_result': {'valid_auc': 0.6479537399606166,\n",
       "   'valid_uauc': 0.57835050570386,\n",
       "   'test_auc': 0.6078729859289351,\n",
       "   'test_uauc': 0.5581895611290827,\n",
       "   'epoch': 378},\n",
       "  'lr': 0.001,\n",
       "  'wd': 1e-07,\n",
       "  'embedding_size': 256},\n",
       " {'best_result': {'valid_auc': 0.6318907955901258,\n",
       "   'valid_uauc': 0.5644366512014887,\n",
       "   'test_auc': 0.5958236948779863,\n",
       "   'test_uauc': 0.5468990314132619,\n",
       "   'epoch': 105},\n",
       "  'lr': 0.0001,\n",
       "  'wd': 1e-05,\n",
       "  'embedding_size': 256}]"
      ]
     },
     "execution_count": 6,
     "metadata": {},
     "output_type": "execute_result"
    }
   ],
   "source": [
    "results[:4]"
   ]
  }
 ],
 "metadata": {
  "kernelspec": {
   "display_name": "Python 3",
   "language": "python",
   "name": "python3"
  },
  "language_info": {
   "codemirror_mode": {
    "name": "ipython",
    "version": 3
   },
   "file_extension": ".py",
   "mimetype": "text/x-python",
   "name": "python",
   "nbconvert_exporter": "python",
   "pygments_lexer": "ipython3",
   "version": "3.9.20"
  }
 },
 "nbformat": 4,
 "nbformat_minor": 2
}
