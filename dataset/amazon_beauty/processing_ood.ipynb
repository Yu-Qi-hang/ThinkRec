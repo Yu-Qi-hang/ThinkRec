{
 "cells": [
  {
   "cell_type": "code",
   "execution_count": 1,
   "metadata": {},
   "outputs": [],
   "source": [
    "import os\n",
    "import re\n",
    "import json\n",
    "import gzip\n",
    "import numpy as np\n",
    "import pandas as pd\n",
    "from urllib.request import urlopen"
   ]
  },
  {
   "cell_type": "code",
   "execution_count": 2,
   "metadata": {},
   "outputs": [],
   "source": [
    "def parse(path):\n",
    "  g = gzip.open(path, 'rb')\n",
    "  for l in g:\n",
    "    yield json.loads(l)\n",
    "\n",
    "def getDF(path):\n",
    "  i = 0\n",
    "  df = {}\n",
    "  for d in parse(path):\n",
    "    df[i] = d\n",
    "    i += 1\n",
    "  return pd.DataFrame.from_dict(df, orient='index')"
   ]
  },
  {
   "cell_type": "code",
   "execution_count": 3,
   "metadata": {},
   "outputs": [],
   "source": [
    "df = getDF('/home/yuqihang/workroot/models/data/recsys/Amazon/All_Beauty.json.gz')"
   ]
  },
  {
   "cell_type": "code",
   "execution_count": 4,
   "metadata": {},
   "outputs": [
    {
     "data": {
      "text/html": [
       "<div>\n",
       "<style scoped>\n",
       "    .dataframe tbody tr th:only-of-type {\n",
       "        vertical-align: middle;\n",
       "    }\n",
       "\n",
       "    .dataframe tbody tr th {\n",
       "        vertical-align: top;\n",
       "    }\n",
       "\n",
       "    .dataframe thead th {\n",
       "        text-align: right;\n",
       "    }\n",
       "</style>\n",
       "<table border=\"1\" class=\"dataframe\">\n",
       "  <thead>\n",
       "    <tr style=\"text-align: right;\">\n",
       "      <th></th>\n",
       "      <th>overall</th>\n",
       "      <th>verified</th>\n",
       "      <th>reviewTime</th>\n",
       "      <th>reviewerID</th>\n",
       "      <th>asin</th>\n",
       "      <th>reviewerName</th>\n",
       "      <th>reviewText</th>\n",
       "      <th>summary</th>\n",
       "      <th>unixReviewTime</th>\n",
       "      <th>vote</th>\n",
       "      <th>style</th>\n",
       "      <th>image</th>\n",
       "    </tr>\n",
       "  </thead>\n",
       "  <tbody>\n",
       "    <tr>\n",
       "      <th>0</th>\n",
       "      <td>1.0</td>\n",
       "      <td>True</td>\n",
       "      <td>02 19, 2015</td>\n",
       "      <td>A1V6B6TNIC10QE</td>\n",
       "      <td>0143026860</td>\n",
       "      <td>theodore j bigham</td>\n",
       "      <td>great</td>\n",
       "      <td>One Star</td>\n",
       "      <td>1424304000</td>\n",
       "      <td>NaN</td>\n",
       "      <td>NaN</td>\n",
       "      <td>NaN</td>\n",
       "    </tr>\n",
       "    <tr>\n",
       "      <th>1</th>\n",
       "      <td>4.0</td>\n",
       "      <td>True</td>\n",
       "      <td>12 18, 2014</td>\n",
       "      <td>A2F5GHSXFQ0W6J</td>\n",
       "      <td>0143026860</td>\n",
       "      <td>Mary K. Byke</td>\n",
       "      <td>My  husband wanted to reading about the Negro ...</td>\n",
       "      <td>... to reading about the Negro Baseball and th...</td>\n",
       "      <td>1418860800</td>\n",
       "      <td>NaN</td>\n",
       "      <td>NaN</td>\n",
       "      <td>NaN</td>\n",
       "    </tr>\n",
       "  </tbody>\n",
       "</table>\n",
       "</div>"
      ],
      "text/plain": [
       "   overall  verified   reviewTime      reviewerID        asin  \\\n",
       "0      1.0      True  02 19, 2015  A1V6B6TNIC10QE  0143026860   \n",
       "1      4.0      True  12 18, 2014  A2F5GHSXFQ0W6J  0143026860   \n",
       "\n",
       "        reviewerName                                         reviewText  \\\n",
       "0  theodore j bigham                                              great   \n",
       "1       Mary K. Byke  My  husband wanted to reading about the Negro ...   \n",
       "\n",
       "                                             summary  unixReviewTime vote  \\\n",
       "0                                           One Star      1424304000  NaN   \n",
       "1  ... to reading about the Negro Baseball and th...      1418860800  NaN   \n",
       "\n",
       "  style image  \n",
       "0   NaN   NaN  \n",
       "1   NaN   NaN  "
      ]
     },
     "execution_count": 4,
     "metadata": {},
     "output_type": "execute_result"
    }
   ],
   "source": [
    "df.head(2)"
   ]
  },
  {
   "cell_type": "code",
   "execution_count": 5,
   "metadata": {},
   "outputs": [],
   "source": [
    "metadata = []\n",
    "with gzip.open('/home/yuqihang/workroot/models/data/recsys/Amazon/meta_All_Beauty.json.gz') as f:\n",
    "    for l in f:\n",
    "        metadata.append(json.loads(l.strip()))"
   ]
  },
  {
   "cell_type": "code",
   "execution_count": 6,
   "metadata": {},
   "outputs": [
    {
     "name": "stdout",
     "output_type": "stream",
     "text": [
      "32892\n",
      "{'category': [], 'tech1': '', 'description': [\"Loud 'N Clear Personal Sound Amplifier allows you to turn up the volume on what people around you are saying, listen at the level you want without disturbing others, hear a pin drop from across the room.\"], 'fit': '', 'title': \"Loud 'N Clear&trade; Personal Sound Amplifier\", 'also_buy': [], 'tech2': '', 'brand': 'idea village', 'feature': [], 'rank': '2,938,573 in Beauty & Personal Care (', 'also_view': [], 'details': {'ASIN: ': '6546546450'}, 'main_cat': 'All Beauty', 'similar_item': '', 'date': '', 'price': '', 'asin': '6546546450', 'imageURL': [], 'imageURLHighRes': []}\n",
      "32892\n"
     ]
    }
   ],
   "source": [
    "# total length of list, this number equals total number of products\n",
    "print(len(metadata))\n",
    "\n",
    "# first row of the list\n",
    "print(metadata[0])\n",
    "\n",
    "# convert list into pandas dataframe\n",
    "\n",
    "df_meta = pd.DataFrame.from_dict(metadata)\n",
    "\n",
    "print(len(df_meta))"
   ]
  },
  {
   "cell_type": "code",
   "execution_count": 7,
   "metadata": {},
   "outputs": [
    {
     "data": {
      "text/html": [
       "<div>\n",
       "<style scoped>\n",
       "    .dataframe tbody tr th:only-of-type {\n",
       "        vertical-align: middle;\n",
       "    }\n",
       "\n",
       "    .dataframe tbody tr th {\n",
       "        vertical-align: top;\n",
       "    }\n",
       "\n",
       "    .dataframe thead th {\n",
       "        text-align: right;\n",
       "    }\n",
       "</style>\n",
       "<table border=\"1\" class=\"dataframe\">\n",
       "  <thead>\n",
       "    <tr style=\"text-align: right;\">\n",
       "      <th></th>\n",
       "      <th>category</th>\n",
       "      <th>tech1</th>\n",
       "      <th>description</th>\n",
       "      <th>fit</th>\n",
       "      <th>title</th>\n",
       "      <th>also_buy</th>\n",
       "      <th>tech2</th>\n",
       "      <th>brand</th>\n",
       "      <th>feature</th>\n",
       "      <th>rank</th>\n",
       "      <th>also_view</th>\n",
       "      <th>details</th>\n",
       "      <th>main_cat</th>\n",
       "      <th>similar_item</th>\n",
       "      <th>date</th>\n",
       "      <th>price</th>\n",
       "      <th>asin</th>\n",
       "      <th>imageURL</th>\n",
       "      <th>imageURLHighRes</th>\n",
       "    </tr>\n",
       "  </thead>\n",
       "  <tbody>\n",
       "    <tr>\n",
       "      <th>0</th>\n",
       "      <td>[]</td>\n",
       "      <td></td>\n",
       "      <td>[Loud 'N Clear Personal Sound Amplifier allows...</td>\n",
       "      <td></td>\n",
       "      <td>Loud 'N Clear&amp;trade; Personal Sound Amplifier</td>\n",
       "      <td>[]</td>\n",
       "      <td></td>\n",
       "      <td>idea village</td>\n",
       "      <td>[]</td>\n",
       "      <td>2,938,573 in Beauty &amp; Personal Care (</td>\n",
       "      <td>[]</td>\n",
       "      <td>{'ASIN: ': '6546546450'}</td>\n",
       "      <td>All Beauty</td>\n",
       "      <td></td>\n",
       "      <td></td>\n",
       "      <td></td>\n",
       "      <td>6546546450</td>\n",
       "      <td>[]</td>\n",
       "      <td>[]</td>\n",
       "    </tr>\n",
       "    <tr>\n",
       "      <th>1</th>\n",
       "      <td>[]</td>\n",
       "      <td></td>\n",
       "      <td>[No7 Lift &amp; Luminate Triple Action Serum 50ml ...</td>\n",
       "      <td></td>\n",
       "      <td>No7 Lift &amp;amp; Luminate Triple Action Serum 50...</td>\n",
       "      <td>[B01E7LCSL6, B008X5RVME]</td>\n",
       "      <td></td>\n",
       "      <td></td>\n",
       "      <td>[]</td>\n",
       "      <td>872,854 in Beauty &amp; Personal Care (</td>\n",
       "      <td>[]</td>\n",
       "      <td>{'Shipping Weight:': '0.3 ounces (', 'ASIN: ':...</td>\n",
       "      <td>All Beauty</td>\n",
       "      <td>class=\"a-bordered a-horizontal-stripes  a-spa...</td>\n",
       "      <td></td>\n",
       "      <td>$44.99</td>\n",
       "      <td>7178680776</td>\n",
       "      <td>[]</td>\n",
       "      <td>[]</td>\n",
       "    </tr>\n",
       "    <tr>\n",
       "      <th>2</th>\n",
       "      <td>[]</td>\n",
       "      <td></td>\n",
       "      <td>[No7 Stay Perfect Foundation now stays perfect...</td>\n",
       "      <td></td>\n",
       "      <td>No7 Stay Perfect Foundation Cool Vanilla by No7</td>\n",
       "      <td>[]</td>\n",
       "      <td></td>\n",
       "      <td>No7</td>\n",
       "      <td>[]</td>\n",
       "      <td>956,696 in Beauty &amp; Personal Care (</td>\n",
       "      <td>[B01B8BR0O8, B01B8BR0NO, B014MHXXM8]</td>\n",
       "      <td>{'Shipping Weight:': '3.5 ounces (', 'ASIN: ':...</td>\n",
       "      <td>All Beauty</td>\n",
       "      <td></td>\n",
       "      <td></td>\n",
       "      <td>$28.76</td>\n",
       "      <td>7250468162</td>\n",
       "      <td>[]</td>\n",
       "      <td>[]</td>\n",
       "    </tr>\n",
       "    <tr>\n",
       "      <th>3</th>\n",
       "      <td>[]</td>\n",
       "      <td></td>\n",
       "      <td>[]</td>\n",
       "      <td></td>\n",
       "      <td>Wella Koleston Perfect Hair Colour 44/44 Mediu...</td>\n",
       "      <td>[B0041PBXX8]</td>\n",
       "      <td></td>\n",
       "      <td></td>\n",
       "      <td>[]</td>\n",
       "      <td>1,870,258 in Beauty &amp; Personal Care (</td>\n",
       "      <td>[]</td>\n",
       "      <td>{'\n",
       "    Item Weight: \n",
       "    ': '1.76 ounces', 'Sh...</td>\n",
       "      <td>All Beauty</td>\n",
       "      <td></td>\n",
       "      <td></td>\n",
       "      <td></td>\n",
       "      <td>7367905066</td>\n",
       "      <td>[https://images-na.ssl-images-amazon.com/image...</td>\n",
       "      <td>[https://images-na.ssl-images-amazon.com/image...</td>\n",
       "    </tr>\n",
       "    <tr>\n",
       "      <th>4</th>\n",
       "      <td>[]</td>\n",
       "      <td></td>\n",
       "      <td>[Lacto Calamine Skin Balance Daily Nourishing ...</td>\n",
       "      <td></td>\n",
       "      <td>Lacto Calamine Skin Balance Oil control 120 ml...</td>\n",
       "      <td>[]</td>\n",
       "      <td></td>\n",
       "      <td>Pirmal Healthcare</td>\n",
       "      <td>[]</td>\n",
       "      <td>67,701 in Beauty &amp; Personal Care (</td>\n",
       "      <td>[3254895630, B007VL1D9S, B00EH9A0RI, B0773MBG4...</td>\n",
       "      <td>{'Shipping Weight:': '12 ounces (', 'ASIN: ': ...</td>\n",
       "      <td>All Beauty</td>\n",
       "      <td></td>\n",
       "      <td></td>\n",
       "      <td>$12.15</td>\n",
       "      <td>7414204790</td>\n",
       "      <td>[https://images-na.ssl-images-amazon.com/image...</td>\n",
       "      <td>[https://images-na.ssl-images-amazon.com/image...</td>\n",
       "    </tr>\n",
       "  </tbody>\n",
       "</table>\n",
       "</div>"
      ],
      "text/plain": [
       "  category tech1                                        description fit  \\\n",
       "0       []        [Loud 'N Clear Personal Sound Amplifier allows...       \n",
       "1       []        [No7 Lift & Luminate Triple Action Serum 50ml ...       \n",
       "2       []        [No7 Stay Perfect Foundation now stays perfect...       \n",
       "3       []                                                       []       \n",
       "4       []        [Lacto Calamine Skin Balance Daily Nourishing ...       \n",
       "\n",
       "                                               title  \\\n",
       "0      Loud 'N Clear&trade; Personal Sound Amplifier   \n",
       "1  No7 Lift &amp; Luminate Triple Action Serum 50...   \n",
       "2    No7 Stay Perfect Foundation Cool Vanilla by No7   \n",
       "3  Wella Koleston Perfect Hair Colour 44/44 Mediu...   \n",
       "4  Lacto Calamine Skin Balance Oil control 120 ml...   \n",
       "\n",
       "                   also_buy tech2              brand feature  \\\n",
       "0                        []             idea village      []   \n",
       "1  [B01E7LCSL6, B008X5RVME]                               []   \n",
       "2                        []                      No7      []   \n",
       "3              [B0041PBXX8]                               []   \n",
       "4                        []        Pirmal Healthcare      []   \n",
       "\n",
       "                                    rank  \\\n",
       "0  2,938,573 in Beauty & Personal Care (   \n",
       "1    872,854 in Beauty & Personal Care (   \n",
       "2    956,696 in Beauty & Personal Care (   \n",
       "3  1,870,258 in Beauty & Personal Care (   \n",
       "4     67,701 in Beauty & Personal Care (   \n",
       "\n",
       "                                           also_view  \\\n",
       "0                                                 []   \n",
       "1                                                 []   \n",
       "2               [B01B8BR0O8, B01B8BR0NO, B014MHXXM8]   \n",
       "3                                                 []   \n",
       "4  [3254895630, B007VL1D9S, B00EH9A0RI, B0773MBG4...   \n",
       "\n",
       "                                             details    main_cat  \\\n",
       "0                           {'ASIN: ': '6546546450'}  All Beauty   \n",
       "1  {'Shipping Weight:': '0.3 ounces (', 'ASIN: ':...  All Beauty   \n",
       "2  {'Shipping Weight:': '3.5 ounces (', 'ASIN: ':...  All Beauty   \n",
       "3  {'\n",
       "    Item Weight: \n",
       "    ': '1.76 ounces', 'Sh...  All Beauty   \n",
       "4  {'Shipping Weight:': '12 ounces (', 'ASIN: ': ...  All Beauty   \n",
       "\n",
       "                                        similar_item date   price        asin  \\\n",
       "0                                                                  6546546450   \n",
       "1   class=\"a-bordered a-horizontal-stripes  a-spa...       $44.99  7178680776   \n",
       "2                                                          $28.76  7250468162   \n",
       "3                                                                  7367905066   \n",
       "4                                                          $12.15  7414204790   \n",
       "\n",
       "                                            imageURL  \\\n",
       "0                                                 []   \n",
       "1                                                 []   \n",
       "2                                                 []   \n",
       "3  [https://images-na.ssl-images-amazon.com/image...   \n",
       "4  [https://images-na.ssl-images-amazon.com/image...   \n",
       "\n",
       "                                     imageURLHighRes  \n",
       "0                                                 []  \n",
       "1                                                 []  \n",
       "2                                                 []  \n",
       "3  [https://images-na.ssl-images-amazon.com/image...  \n",
       "4  [https://images-na.ssl-images-amazon.com/image...  "
      ]
     },
     "execution_count": 7,
     "metadata": {},
     "output_type": "execute_result"
    }
   ],
   "source": [
    "df_meta.head(5)"
   ]
  },
  {
   "cell_type": "code",
   "execution_count": 8,
   "metadata": {},
   "outputs": [
    {
     "name": "stdout",
     "output_type": "stream",
     "text": [
      "0\n",
      "32892\n"
     ]
    }
   ],
   "source": [
    "df3 = df_meta.fillna('')\n",
    "df4 = df3[df3.title.str.contains('getTime')] # unformatted rows\n",
    "df5 = df3[~df3.title.str.contains('getTime')] # filter those unformatted rows\n",
    "print(len(df4))\n",
    "print(len(df5))"
   ]
  },
  {
   "cell_type": "code",
   "execution_count": 9,
   "metadata": {},
   "outputs": [
    {
     "data": {
      "text/plain": [
       "count    371345.000000\n",
       "mean          4.112093\n",
       "std           1.362099\n",
       "min           1.000000\n",
       "25%           4.000000\n",
       "50%           5.000000\n",
       "75%           5.000000\n",
       "max           5.000000\n",
       "Name: overall, dtype: float64"
      ]
     },
     "execution_count": 9,
     "metadata": {},
     "output_type": "execute_result"
    }
   ],
   "source": [
    "# df['rating'].dropna().describe()\n",
    "df['overall'].dropna().describe()"
   ]
  },
  {
   "cell_type": "code",
   "execution_count": 10,
   "metadata": {},
   "outputs": [
    {
     "data": {
      "text/plain": [
       "Index(['overall', 'verified', 'reviewTime', 'reviewerID', 'asin',\n",
       "       'reviewerName', 'reviewText', 'summary', 'unixReviewTime', 'vote',\n",
       "       'style', 'image'],\n",
       "      dtype='object')"
      ]
     },
     "execution_count": 10,
     "metadata": {},
     "output_type": "execute_result"
    }
   ],
   "source": [
    "df.columns"
   ]
  },
  {
   "cell_type": "code",
   "execution_count": 11,
   "metadata": {},
   "outputs": [
    {
     "data": {
      "text/html": [
       "<div>\n",
       "<style scoped>\n",
       "    .dataframe tbody tr th:only-of-type {\n",
       "        vertical-align: middle;\n",
       "    }\n",
       "\n",
       "    .dataframe tbody tr th {\n",
       "        vertical-align: top;\n",
       "    }\n",
       "\n",
       "    .dataframe thead th {\n",
       "        text-align: right;\n",
       "    }\n",
       "</style>\n",
       "<table border=\"1\" class=\"dataframe\">\n",
       "  <thead>\n",
       "    <tr style=\"text-align: right;\">\n",
       "      <th></th>\n",
       "      <th>asin</th>\n",
       "      <th>reviewerID</th>\n",
       "      <th>overall</th>\n",
       "      <th>unixReviewTime</th>\n",
       "    </tr>\n",
       "  </thead>\n",
       "  <tbody>\n",
       "    <tr>\n",
       "      <th>0</th>\n",
       "      <td>0143026860</td>\n",
       "      <td>A1V6B6TNIC10QE</td>\n",
       "      <td>1.0</td>\n",
       "      <td>1424304000</td>\n",
       "    </tr>\n",
       "    <tr>\n",
       "      <th>1</th>\n",
       "      <td>0143026860</td>\n",
       "      <td>A2F5GHSXFQ0W6J</td>\n",
       "      <td>4.0</td>\n",
       "      <td>1418860800</td>\n",
       "    </tr>\n",
       "  </tbody>\n",
       "</table>\n",
       "</div>"
      ],
      "text/plain": [
       "         asin      reviewerID  overall  unixReviewTime\n",
       "0  0143026860  A1V6B6TNIC10QE      1.0      1424304000\n",
       "1  0143026860  A2F5GHSXFQ0W6J      4.0      1418860800"
      ]
     },
     "execution_count": 11,
     "metadata": {},
     "output_type": "execute_result"
    }
   ],
   "source": [
    "rating = df[['asin','reviewerID','overall','unixReviewTime']]\n",
    "# rating = df[['rating','timestamp','user_id','asin','helpful_vote']]\n",
    "rating.head(2) "
   ]
  },
  {
   "cell_type": "code",
   "execution_count": 12,
   "metadata": {},
   "outputs": [
    {
     "data": {
      "text/plain": [
       "count    371345.000000\n",
       "mean          4.112093\n",
       "std           1.362099\n",
       "min           1.000000\n",
       "25%           4.000000\n",
       "50%           5.000000\n",
       "75%           5.000000\n",
       "max           5.000000\n",
       "Name: overall, dtype: float64"
      ]
     },
     "execution_count": 12,
     "metadata": {},
     "output_type": "execute_result"
    }
   ],
   "source": [
    "rating['overall'].describe()"
   ]
  },
  {
   "cell_type": "code",
   "execution_count": 13,
   "metadata": {},
   "outputs": [],
   "source": [
    "# rating = rating[['asin','reviewerID','overall','unixReviewTime']]\n",
    "# rating = rating[['asin','user_id','rating','timestamp']]\n",
    "rating.columns = ['asin','user','rating','timestamp']"
   ]
  },
  {
   "cell_type": "code",
   "execution_count": 14,
   "metadata": {},
   "outputs": [
    {
     "data": {
      "text/plain": [
       "Index(['category', 'tech1', 'description', 'fit', 'title', 'also_buy', 'tech2',\n",
       "       'brand', 'feature', 'rank', 'also_view', 'details', 'main_cat',\n",
       "       'similar_item', 'date', 'price', 'asin', 'imageURL', 'imageURLHighRes'],\n",
       "      dtype='object')"
      ]
     },
     "execution_count": 14,
     "metadata": {},
     "output_type": "execute_result"
    }
   ],
   "source": [
    "df5.columns"
   ]
  },
  {
   "cell_type": "code",
   "execution_count": 15,
   "metadata": {},
   "outputs": [
    {
     "data": {
      "text/html": [
       "<div>\n",
       "<style scoped>\n",
       "    .dataframe tbody tr th:only-of-type {\n",
       "        vertical-align: middle;\n",
       "    }\n",
       "\n",
       "    .dataframe tbody tr th {\n",
       "        vertical-align: top;\n",
       "    }\n",
       "\n",
       "    .dataframe thead th {\n",
       "        text-align: right;\n",
       "    }\n",
       "</style>\n",
       "<table border=\"1\" class=\"dataframe\">\n",
       "  <thead>\n",
       "    <tr style=\"text-align: right;\">\n",
       "      <th></th>\n",
       "      <th>asin</th>\n",
       "      <th>category</th>\n",
       "      <th>title</th>\n",
       "      <th>description</th>\n",
       "      <th>price</th>\n",
       "      <th>brand</th>\n",
       "    </tr>\n",
       "  </thead>\n",
       "  <tbody>\n",
       "    <tr>\n",
       "      <th>0</th>\n",
       "      <td>6546546450</td>\n",
       "      <td>[]</td>\n",
       "      <td>Loud 'N Clear&amp;trade; Personal Sound Amplifier</td>\n",
       "      <td>[Loud 'N Clear Personal Sound Amplifier allows...</td>\n",
       "      <td></td>\n",
       "      <td>idea village</td>\n",
       "    </tr>\n",
       "    <tr>\n",
       "      <th>1</th>\n",
       "      <td>7178680776</td>\n",
       "      <td>[]</td>\n",
       "      <td>No7 Lift &amp;amp; Luminate Triple Action Serum 50...</td>\n",
       "      <td>[No7 Lift &amp; Luminate Triple Action Serum 50ml ...</td>\n",
       "      <td>$44.99</td>\n",
       "      <td></td>\n",
       "    </tr>\n",
       "  </tbody>\n",
       "</table>\n",
       "</div>"
      ],
      "text/plain": [
       "         asin category                                              title  \\\n",
       "0  6546546450       []      Loud 'N Clear&trade; Personal Sound Amplifier   \n",
       "1  7178680776       []  No7 Lift &amp; Luminate Triple Action Serum 50...   \n",
       "\n",
       "                                         description   price         brand  \n",
       "0  [Loud 'N Clear Personal Sound Amplifier allows...          idea village  \n",
       "1  [No7 Lift & Luminate Triple Action Serum 50ml ...  $44.99                "
      ]
     },
     "execution_count": 15,
     "metadata": {},
     "output_type": "execute_result"
    }
   ],
   "source": [
    "# meta_data = df5[['asin','category','title','brand','price']]\n",
    "meta_data = df5[['asin','category','title','description','price','brand']]\n",
    "# meta_data.columns = ['asin','category','title','brand','price']\n",
    "meta_data.head(2)"
   ]
  },
  {
   "cell_type": "code",
   "execution_count": 16,
   "metadata": {},
   "outputs": [
    {
     "data": {
      "text/plain": [
       "(32892, 6)"
      ]
     },
     "execution_count": 16,
     "metadata": {},
     "output_type": "execute_result"
    }
   ],
   "source": [
    "meta_data.shape"
   ]
  },
  {
   "cell_type": "code",
   "execution_count": 17,
   "metadata": {},
   "outputs": [
    {
     "name": "stderr",
     "output_type": "stream",
     "text": [
      "/tmp/ipykernel_2058465/2482686894.py:1: SettingWithCopyWarning: \n",
      "A value is trying to be set on a copy of a slice from a DataFrame.\n",
      "Try using .loc[row_indexer,col_indexer] = value instead\n",
      "\n",
      "See the caveats in the documentation: https://pandas.pydata.org/pandas-docs/stable/user_guide/indexing.html#returning-a-view-versus-a-copy\n",
      "  meta_data['title'] = meta_data['title'].apply(lambda x: re.sub(r'<[^>]+>', ' ', x.replace('&','')))\n",
      "/tmp/ipykernel_2058465/2482686894.py:2: SettingWithCopyWarning: \n",
      "A value is trying to be set on a copy of a slice from a DataFrame.\n",
      "Try using .loc[row_indexer,col_indexer] = value instead\n",
      "\n",
      "See the caveats in the documentation: https://pandas.pydata.org/pandas-docs/stable/user_guide/indexing.html#returning-a-view-versus-a-copy\n",
      "  meta_data['title'] = meta_data['title'].apply(lambda x: re.sub(r'\\s+', ' ', x.strip()))\n"
     ]
    }
   ],
   "source": [
    "meta_data['title'] = meta_data['title'].apply(lambda x: re.sub(r'<[^>]+>', ' ', x.replace('&','')))\n",
    "meta_data['title'] = meta_data['title'].apply(lambda x: re.sub(r'\\s+', ' ', x.strip()))"
   ]
  },
  {
   "cell_type": "code",
   "execution_count": 18,
   "metadata": {},
   "outputs": [
    {
     "data": {
      "text/plain": [
       "(32488, 6)"
      ]
     },
     "execution_count": 18,
     "metadata": {},
     "output_type": "execute_result"
    }
   ],
   "source": [
    "meta_data = meta_data.drop_duplicates(subset=['asin'],keep='last')\n",
    "# meta_data = meta_data.drop_duplicates(subset=['title'],keep='last')\n",
    "meta_data.shape"
   ]
  },
  {
   "cell_type": "code",
   "execution_count": 19,
   "metadata": {},
   "outputs": [
    {
     "data": {
      "text/plain": [
       "32297"
      ]
     },
     "execution_count": 19,
     "metadata": {},
     "output_type": "execute_result"
    }
   ],
   "source": [
    "len(set(meta_data['title']))"
   ]
  },
  {
   "cell_type": "code",
   "execution_count": 20,
   "metadata": {},
   "outputs": [
    {
     "data": {
      "text/html": [
       "<div>\n",
       "<style scoped>\n",
       "    .dataframe tbody tr th:only-of-type {\n",
       "        vertical-align: middle;\n",
       "    }\n",
       "\n",
       "    .dataframe tbody tr th {\n",
       "        vertical-align: top;\n",
       "    }\n",
       "\n",
       "    .dataframe thead th {\n",
       "        text-align: right;\n",
       "    }\n",
       "</style>\n",
       "<table border=\"1\" class=\"dataframe\">\n",
       "  <thead>\n",
       "    <tr style=\"text-align: right;\">\n",
       "      <th></th>\n",
       "      <th>asin</th>\n",
       "      <th>category</th>\n",
       "      <th>title</th>\n",
       "      <th>description</th>\n",
       "      <th>price</th>\n",
       "      <th>brand</th>\n",
       "    </tr>\n",
       "  </thead>\n",
       "  <tbody>\n",
       "    <tr>\n",
       "      <th>0</th>\n",
       "      <td>6546546450</td>\n",
       "      <td>[]</td>\n",
       "      <td>Loud 'N Cleartrade; Personal Sound Amplifier</td>\n",
       "      <td>[Loud 'N Clear Personal Sound Amplifier allows...</td>\n",
       "      <td></td>\n",
       "      <td>idea village</td>\n",
       "    </tr>\n",
       "    <tr>\n",
       "      <th>1</th>\n",
       "      <td>7178680776</td>\n",
       "      <td>[]</td>\n",
       "      <td>No7 Lift amp; Luminate Triple Action Serum 50m...</td>\n",
       "      <td>[No7 Lift &amp; Luminate Triple Action Serum 50ml ...</td>\n",
       "      <td>$44.99</td>\n",
       "      <td></td>\n",
       "    </tr>\n",
       "  </tbody>\n",
       "</table>\n",
       "</div>"
      ],
      "text/plain": [
       "         asin category                                              title  \\\n",
       "0  6546546450       []       Loud 'N Cleartrade; Personal Sound Amplifier   \n",
       "1  7178680776       []  No7 Lift amp; Luminate Triple Action Serum 50m...   \n",
       "\n",
       "                                         description   price         brand  \n",
       "0  [Loud 'N Clear Personal Sound Amplifier allows...          idea village  \n",
       "1  [No7 Lift & Luminate Triple Action Serum 50ml ...  $44.99                "
      ]
     },
     "execution_count": 20,
     "metadata": {},
     "output_type": "execute_result"
    }
   ],
   "source": [
    "meta_data.head(2)"
   ]
  },
  {
   "cell_type": "code",
   "execution_count": 21,
   "metadata": {},
   "outputs": [],
   "source": [
    "data = rating.merge(meta_data,on='asin',how='right')"
   ]
  },
  {
   "cell_type": "code",
   "execution_count": 22,
   "metadata": {},
   "outputs": [
    {
     "data": {
      "text/html": [
       "<div>\n",
       "<style scoped>\n",
       "    .dataframe tbody tr th:only-of-type {\n",
       "        vertical-align: middle;\n",
       "    }\n",
       "\n",
       "    .dataframe tbody tr th {\n",
       "        vertical-align: top;\n",
       "    }\n",
       "\n",
       "    .dataframe thead th {\n",
       "        text-align: right;\n",
       "    }\n",
       "</style>\n",
       "<table border=\"1\" class=\"dataframe\">\n",
       "  <thead>\n",
       "    <tr style=\"text-align: right;\">\n",
       "      <th></th>\n",
       "      <th>asin</th>\n",
       "      <th>user</th>\n",
       "      <th>rating</th>\n",
       "      <th>timestamp</th>\n",
       "      <th>category</th>\n",
       "      <th>title</th>\n",
       "      <th>description</th>\n",
       "      <th>price</th>\n",
       "      <th>brand</th>\n",
       "    </tr>\n",
       "  </thead>\n",
       "  <tbody>\n",
       "    <tr>\n",
       "      <th>0</th>\n",
       "      <td>6546546450</td>\n",
       "      <td>A3349A7IGM954K</td>\n",
       "      <td>4.0</td>\n",
       "      <td>1.376352e+09</td>\n",
       "      <td>[]</td>\n",
       "      <td>Loud 'N Cleartrade; Personal Sound Amplifier</td>\n",
       "      <td>[Loud 'N Clear Personal Sound Amplifier allows...</td>\n",
       "      <td></td>\n",
       "      <td>idea village</td>\n",
       "    </tr>\n",
       "    <tr>\n",
       "      <th>1</th>\n",
       "      <td>6546546450</td>\n",
       "      <td>A1OMHUU58XHQNG</td>\n",
       "      <td>1.0</td>\n",
       "      <td>1.233187e+09</td>\n",
       "      <td>[]</td>\n",
       "      <td>Loud 'N Cleartrade; Personal Sound Amplifier</td>\n",
       "      <td>[Loud 'N Clear Personal Sound Amplifier allows...</td>\n",
       "      <td></td>\n",
       "      <td>idea village</td>\n",
       "    </tr>\n",
       "  </tbody>\n",
       "</table>\n",
       "</div>"
      ],
      "text/plain": [
       "         asin            user  rating     timestamp category  \\\n",
       "0  6546546450  A3349A7IGM954K     4.0  1.376352e+09       []   \n",
       "1  6546546450  A1OMHUU58XHQNG     1.0  1.233187e+09       []   \n",
       "\n",
       "                                          title  \\\n",
       "0  Loud 'N Cleartrade; Personal Sound Amplifier   \n",
       "1  Loud 'N Cleartrade; Personal Sound Amplifier   \n",
       "\n",
       "                                         description price         brand  \n",
       "0  [Loud 'N Clear Personal Sound Amplifier allows...        idea village  \n",
       "1  [Loud 'N Clear Personal Sound Amplifier allows...        idea village  "
      ]
     },
     "execution_count": 22,
     "metadata": {},
     "output_type": "execute_result"
    }
   ],
   "source": [
    "data.head(2)"
   ]
  },
  {
   "cell_type": "code",
   "execution_count": 23,
   "metadata": {},
   "outputs": [
    {
     "data": {
      "text/plain": [
       "(366225, 9)"
      ]
     },
     "execution_count": 23,
     "metadata": {},
     "output_type": "execute_result"
    }
   ],
   "source": [
    "data.shape"
   ]
  },
  {
   "cell_type": "code",
   "execution_count": 24,
   "metadata": {},
   "outputs": [],
   "source": [
    "data.dropna(subset=['user'], inplace=True)\n",
    "data.dropna(subset=['asin'], inplace=True)\n",
    "data.dropna(subset=['title'], inplace=True)\n",
    "data.dropna(subset=['timestamp'], inplace=True)"
   ]
  },
  {
   "cell_type": "code",
   "execution_count": 25,
   "metadata": {},
   "outputs": [
    {
     "data": {
      "text/plain": [
       "(366223, 9)"
      ]
     },
     "execution_count": 25,
     "metadata": {},
     "output_type": "execute_result"
    }
   ],
   "source": [
    "data.shape"
   ]
  },
  {
   "cell_type": "code",
   "execution_count": 26,
   "metadata": {},
   "outputs": [
    {
     "data": {
      "text/html": [
       "<div>\n",
       "<style scoped>\n",
       "    .dataframe tbody tr th:only-of-type {\n",
       "        vertical-align: middle;\n",
       "    }\n",
       "\n",
       "    .dataframe tbody tr th {\n",
       "        vertical-align: top;\n",
       "    }\n",
       "\n",
       "    .dataframe thead th {\n",
       "        text-align: right;\n",
       "    }\n",
       "</style>\n",
       "<table border=\"1\" class=\"dataframe\">\n",
       "  <thead>\n",
       "    <tr style=\"text-align: right;\">\n",
       "      <th></th>\n",
       "      <th>asin</th>\n",
       "      <th>user</th>\n",
       "      <th>rating</th>\n",
       "      <th>timestamp</th>\n",
       "      <th>category</th>\n",
       "      <th>title</th>\n",
       "      <th>description</th>\n",
       "      <th>price</th>\n",
       "      <th>brand</th>\n",
       "    </tr>\n",
       "  </thead>\n",
       "  <tbody>\n",
       "    <tr>\n",
       "      <th>0</th>\n",
       "      <td>6546546450</td>\n",
       "      <td>A3349A7IGM954K</td>\n",
       "      <td>4.0</td>\n",
       "      <td>1.376352e+09</td>\n",
       "      <td>[]</td>\n",
       "      <td>Loud 'N Cleartrade; Personal Sound Amplifier</td>\n",
       "      <td>[Loud 'N Clear Personal Sound Amplifier allows...</td>\n",
       "      <td></td>\n",
       "      <td>idea village</td>\n",
       "    </tr>\n",
       "    <tr>\n",
       "      <th>1</th>\n",
       "      <td>6546546450</td>\n",
       "      <td>A1OMHUU58XHQNG</td>\n",
       "      <td>1.0</td>\n",
       "      <td>1.233187e+09</td>\n",
       "      <td>[]</td>\n",
       "      <td>Loud 'N Cleartrade; Personal Sound Amplifier</td>\n",
       "      <td>[Loud 'N Clear Personal Sound Amplifier allows...</td>\n",
       "      <td></td>\n",
       "      <td>idea village</td>\n",
       "    </tr>\n",
       "    <tr>\n",
       "      <th>2</th>\n",
       "      <td>7178680776</td>\n",
       "      <td>A3Q0QXUKRGACMU</td>\n",
       "      <td>3.0</td>\n",
       "      <td>1.507248e+09</td>\n",
       "      <td>[]</td>\n",
       "      <td>No7 Lift amp; Luminate Triple Action Serum 50m...</td>\n",
       "      <td>[No7 Lift &amp; Luminate Triple Action Serum 50ml ...</td>\n",
       "      <td>$44.99</td>\n",
       "      <td></td>\n",
       "    </tr>\n",
       "    <tr>\n",
       "      <th>3</th>\n",
       "      <td>7250468162</td>\n",
       "      <td>A3MQI5EJSEDO1K</td>\n",
       "      <td>5.0</td>\n",
       "      <td>1.503706e+09</td>\n",
       "      <td>[]</td>\n",
       "      <td>No7 Stay Perfect Foundation Cool Vanilla by No7</td>\n",
       "      <td>[No7 Stay Perfect Foundation now stays perfect...</td>\n",
       "      <td>$28.76</td>\n",
       "      <td>No7</td>\n",
       "    </tr>\n",
       "    <tr>\n",
       "      <th>4</th>\n",
       "      <td>7367905066</td>\n",
       "      <td>A29TKERPFM55B6</td>\n",
       "      <td>5.0</td>\n",
       "      <td>1.491955e+09</td>\n",
       "      <td>[]</td>\n",
       "      <td>Wella Koleston Perfect Hair Colour 44/44 Mediu...</td>\n",
       "      <td>[]</td>\n",
       "      <td></td>\n",
       "      <td></td>\n",
       "    </tr>\n",
       "  </tbody>\n",
       "</table>\n",
       "</div>"
      ],
      "text/plain": [
       "         asin            user  rating     timestamp category  \\\n",
       "0  6546546450  A3349A7IGM954K     4.0  1.376352e+09       []   \n",
       "1  6546546450  A1OMHUU58XHQNG     1.0  1.233187e+09       []   \n",
       "2  7178680776  A3Q0QXUKRGACMU     3.0  1.507248e+09       []   \n",
       "3  7250468162  A3MQI5EJSEDO1K     5.0  1.503706e+09       []   \n",
       "4  7367905066  A29TKERPFM55B6     5.0  1.491955e+09       []   \n",
       "\n",
       "                                               title  \\\n",
       "0       Loud 'N Cleartrade; Personal Sound Amplifier   \n",
       "1       Loud 'N Cleartrade; Personal Sound Amplifier   \n",
       "2  No7 Lift amp; Luminate Triple Action Serum 50m...   \n",
       "3    No7 Stay Perfect Foundation Cool Vanilla by No7   \n",
       "4  Wella Koleston Perfect Hair Colour 44/44 Mediu...   \n",
       "\n",
       "                                         description   price         brand  \n",
       "0  [Loud 'N Clear Personal Sound Amplifier allows...          idea village  \n",
       "1  [Loud 'N Clear Personal Sound Amplifier allows...          idea village  \n",
       "2  [No7 Lift & Luminate Triple Action Serum 50ml ...  $44.99                \n",
       "3  [No7 Stay Perfect Foundation now stays perfect...  $28.76           No7  \n",
       "4                                                 []                        "
      ]
     },
     "execution_count": 26,
     "metadata": {},
     "output_type": "execute_result"
    }
   ],
   "source": [
    "data.head()"
   ]
  },
  {
   "cell_type": "code",
   "execution_count": 27,
   "metadata": {},
   "outputs": [
    {
     "data": {
      "text/plain": [
       "(list, list, str, str, str)"
      ]
     },
     "execution_count": 27,
     "metadata": {},
     "output_type": "execute_result"
    }
   ],
   "source": [
    "#查看title列数据类型\n",
    "type(data['category'][0]),type(data['description'][0]),type(data['title'][0]),type(data['price'][0]),type(data['brand'][0])"
   ]
  },
  {
   "cell_type": "code",
   "execution_count": 28,
   "metadata": {},
   "outputs": [],
   "source": [
    "data['description'] = data['description'].apply(lambda x: ', '.join(x) if x else '')\n",
    "data['category'] = data['category'].apply(lambda x: ', '.join(x[1:]) if x else '')"
   ]
  },
  {
   "cell_type": "code",
   "execution_count": 35,
   "metadata": {},
   "outputs": [
    {
     "data": {
      "text/html": [
       "<div>\n",
       "<style scoped>\n",
       "    .dataframe tbody tr th:only-of-type {\n",
       "        vertical-align: middle;\n",
       "    }\n",
       "\n",
       "    .dataframe tbody tr th {\n",
       "        vertical-align: top;\n",
       "    }\n",
       "\n",
       "    .dataframe thead th {\n",
       "        text-align: right;\n",
       "    }\n",
       "</style>\n",
       "<table border=\"1\" class=\"dataframe\">\n",
       "  <thead>\n",
       "    <tr style=\"text-align: right;\">\n",
       "      <th></th>\n",
       "      <th>asin</th>\n",
       "      <th>user</th>\n",
       "      <th>rating</th>\n",
       "      <th>timestamp</th>\n",
       "      <th>title</th>\n",
       "      <th>description</th>\n",
       "      <th>price</th>\n",
       "      <th>brand</th>\n",
       "    </tr>\n",
       "  </thead>\n",
       "  <tbody>\n",
       "    <tr>\n",
       "      <th>0</th>\n",
       "      <td>6546546450</td>\n",
       "      <td>A3349A7IGM954K</td>\n",
       "      <td>4.0</td>\n",
       "      <td>1.376352e+09</td>\n",
       "      <td>Loud 'N Cleartrade; Personal Sound Amplifier</td>\n",
       "      <td>Loud 'N Clear Personal Sound Amplifier allows ...</td>\n",
       "      <td></td>\n",
       "      <td>idea village</td>\n",
       "    </tr>\n",
       "    <tr>\n",
       "      <th>1</th>\n",
       "      <td>6546546450</td>\n",
       "      <td>A1OMHUU58XHQNG</td>\n",
       "      <td>1.0</td>\n",
       "      <td>1.233187e+09</td>\n",
       "      <td>Loud 'N Cleartrade; Personal Sound Amplifier</td>\n",
       "      <td>Loud 'N Clear Personal Sound Amplifier allows ...</td>\n",
       "      <td></td>\n",
       "      <td>idea village</td>\n",
       "    </tr>\n",
       "    <tr>\n",
       "      <th>2</th>\n",
       "      <td>7178680776</td>\n",
       "      <td>A3Q0QXUKRGACMU</td>\n",
       "      <td>3.0</td>\n",
       "      <td>1.507248e+09</td>\n",
       "      <td>No7 Lift amp; Luminate Triple Action Serum 50m...</td>\n",
       "      <td>No7 Lift &amp; Luminate Triple Action Serum 50ml b...</td>\n",
       "      <td>$44.99</td>\n",
       "      <td></td>\n",
       "    </tr>\n",
       "    <tr>\n",
       "      <th>3</th>\n",
       "      <td>7250468162</td>\n",
       "      <td>A3MQI5EJSEDO1K</td>\n",
       "      <td>5.0</td>\n",
       "      <td>1.503706e+09</td>\n",
       "      <td>No7 Stay Perfect Foundation Cool Vanilla by No7</td>\n",
       "      <td>No7 Stay Perfect Foundation now stays perfect ...</td>\n",
       "      <td>$28.76</td>\n",
       "      <td>No7</td>\n",
       "    </tr>\n",
       "    <tr>\n",
       "      <th>4</th>\n",
       "      <td>7367905066</td>\n",
       "      <td>A29TKERPFM55B6</td>\n",
       "      <td>5.0</td>\n",
       "      <td>1.491955e+09</td>\n",
       "      <td>Wella Koleston Perfect Hair Colour 44/44 Mediu...</td>\n",
       "      <td></td>\n",
       "      <td></td>\n",
       "      <td></td>\n",
       "    </tr>\n",
       "  </tbody>\n",
       "</table>\n",
       "</div>"
      ],
      "text/plain": [
       "         asin            user  rating     timestamp  \\\n",
       "0  6546546450  A3349A7IGM954K     4.0  1.376352e+09   \n",
       "1  6546546450  A1OMHUU58XHQNG     1.0  1.233187e+09   \n",
       "2  7178680776  A3Q0QXUKRGACMU     3.0  1.507248e+09   \n",
       "3  7250468162  A3MQI5EJSEDO1K     5.0  1.503706e+09   \n",
       "4  7367905066  A29TKERPFM55B6     5.0  1.491955e+09   \n",
       "\n",
       "                                               title  \\\n",
       "0       Loud 'N Cleartrade; Personal Sound Amplifier   \n",
       "1       Loud 'N Cleartrade; Personal Sound Amplifier   \n",
       "2  No7 Lift amp; Luminate Triple Action Serum 50m...   \n",
       "3    No7 Stay Perfect Foundation Cool Vanilla by No7   \n",
       "4  Wella Koleston Perfect Hair Colour 44/44 Mediu...   \n",
       "\n",
       "                                         description   price         brand  \n",
       "0  Loud 'N Clear Personal Sound Amplifier allows ...          idea village  \n",
       "1  Loud 'N Clear Personal Sound Amplifier allows ...          idea village  \n",
       "2  No7 Lift & Luminate Triple Action Serum 50ml b...  $44.99                \n",
       "3  No7 Stay Perfect Foundation now stays perfect ...  $28.76           No7  \n",
       "4                                                                           "
      ]
     },
     "execution_count": 35,
     "metadata": {},
     "output_type": "execute_result"
    }
   ],
   "source": [
    "data.head(5)"
   ]
  },
  {
   "cell_type": "code",
   "execution_count": 36,
   "metadata": {},
   "outputs": [
    {
     "data": {
      "text/html": [
       "<div>\n",
       "<style scoped>\n",
       "    .dataframe tbody tr th:only-of-type {\n",
       "        vertical-align: middle;\n",
       "    }\n",
       "\n",
       "    .dataframe tbody tr th {\n",
       "        vertical-align: top;\n",
       "    }\n",
       "\n",
       "    .dataframe thead th {\n",
       "        text-align: right;\n",
       "    }\n",
       "</style>\n",
       "<table border=\"1\" class=\"dataframe\">\n",
       "  <thead>\n",
       "    <tr style=\"text-align: right;\">\n",
       "      <th></th>\n",
       "      <th>asin</th>\n",
       "      <th>user</th>\n",
       "      <th>rating</th>\n",
       "      <th>timestamp</th>\n",
       "      <th>title</th>\n",
       "      <th>description</th>\n",
       "      <th>price</th>\n",
       "      <th>brand</th>\n",
       "    </tr>\n",
       "  </thead>\n",
       "  <tbody>\n",
       "    <tr>\n",
       "      <th>0</th>\n",
       "      <td>6546546450</td>\n",
       "      <td>A3349A7IGM954K</td>\n",
       "      <td>4.0</td>\n",
       "      <td>1.376352e+09</td>\n",
       "      <td>Loud 'N Cleartrade; Personal Sound Amplifier</td>\n",
       "      <td>Loud 'N Clear Personal Sound Amplifier allows ...</td>\n",
       "      <td></td>\n",
       "      <td>idea village</td>\n",
       "    </tr>\n",
       "    <tr>\n",
       "      <th>1</th>\n",
       "      <td>6546546450</td>\n",
       "      <td>A1OMHUU58XHQNG</td>\n",
       "      <td>1.0</td>\n",
       "      <td>1.233187e+09</td>\n",
       "      <td>Loud 'N Cleartrade; Personal Sound Amplifier</td>\n",
       "      <td>Loud 'N Clear Personal Sound Amplifier allows ...</td>\n",
       "      <td></td>\n",
       "      <td>idea village</td>\n",
       "    </tr>\n",
       "  </tbody>\n",
       "</table>\n",
       "</div>"
      ],
      "text/plain": [
       "         asin            user  rating     timestamp  \\\n",
       "0  6546546450  A3349A7IGM954K     4.0  1.376352e+09   \n",
       "1  6546546450  A1OMHUU58XHQNG     1.0  1.233187e+09   \n",
       "\n",
       "                                          title  \\\n",
       "0  Loud 'N Cleartrade; Personal Sound Amplifier   \n",
       "1  Loud 'N Cleartrade; Personal Sound Amplifier   \n",
       "\n",
       "                                         description price         brand  \n",
       "0  Loud 'N Clear Personal Sound Amplifier allows ...        idea village  \n",
       "1  Loud 'N Clear Personal Sound Amplifier allows ...        idea village  "
      ]
     },
     "execution_count": 36,
     "metadata": {},
     "output_type": "execute_result"
    }
   ],
   "source": [
    "rating_ = data.copy()\n",
    "rating_.head(2)"
   ]
  },
  {
   "cell_type": "code",
   "execution_count": 37,
   "metadata": {},
   "outputs": [
    {
     "data": {
      "text/html": [
       "<div>\n",
       "<style scoped>\n",
       "    .dataframe tbody tr th:only-of-type {\n",
       "        vertical-align: middle;\n",
       "    }\n",
       "\n",
       "    .dataframe tbody tr th {\n",
       "        vertical-align: top;\n",
       "    }\n",
       "\n",
       "    .dataframe thead th {\n",
       "        text-align: right;\n",
       "    }\n",
       "</style>\n",
       "<table border=\"1\" class=\"dataframe\">\n",
       "  <thead>\n",
       "    <tr style=\"text-align: right;\">\n",
       "      <th></th>\n",
       "      <th>iid</th>\n",
       "      <th>uid</th>\n",
       "      <th>rating</th>\n",
       "      <th>timestamp</th>\n",
       "      <th>title</th>\n",
       "      <th>description</th>\n",
       "      <th>price</th>\n",
       "      <th>brand</th>\n",
       "    </tr>\n",
       "  </thead>\n",
       "  <tbody>\n",
       "    <tr>\n",
       "      <th>0</th>\n",
       "      <td>6546546450</td>\n",
       "      <td>A3349A7IGM954K</td>\n",
       "      <td>4.0</td>\n",
       "      <td>1.376352e+09</td>\n",
       "      <td>Loud 'N Cleartrade; Personal Sound Amplifier</td>\n",
       "      <td>Loud 'N Clear Personal Sound Amplifier allows ...</td>\n",
       "      <td></td>\n",
       "      <td>idea village</td>\n",
       "    </tr>\n",
       "    <tr>\n",
       "      <th>1</th>\n",
       "      <td>6546546450</td>\n",
       "      <td>A1OMHUU58XHQNG</td>\n",
       "      <td>1.0</td>\n",
       "      <td>1.233187e+09</td>\n",
       "      <td>Loud 'N Cleartrade; Personal Sound Amplifier</td>\n",
       "      <td>Loud 'N Clear Personal Sound Amplifier allows ...</td>\n",
       "      <td></td>\n",
       "      <td>idea village</td>\n",
       "    </tr>\n",
       "  </tbody>\n",
       "</table>\n",
       "</div>"
      ],
      "text/plain": [
       "          iid             uid  rating     timestamp  \\\n",
       "0  6546546450  A3349A7IGM954K     4.0  1.376352e+09   \n",
       "1  6546546450  A1OMHUU58XHQNG     1.0  1.233187e+09   \n",
       "\n",
       "                                          title  \\\n",
       "0  Loud 'N Cleartrade; Personal Sound Amplifier   \n",
       "1  Loud 'N Cleartrade; Personal Sound Amplifier   \n",
       "\n",
       "                                         description price         brand  \n",
       "0  Loud 'N Clear Personal Sound Amplifier allows ...        idea village  \n",
       "1  Loud 'N Clear Personal Sound Amplifier allows ...        idea village  "
      ]
     },
     "execution_count": 37,
     "metadata": {},
     "output_type": "execute_result"
    }
   ],
   "source": [
    "rating_.columns = ['iid','uid','rating','timestamp','title','description','price','brand']\n",
    "rating_.head(2)"
   ]
  },
  {
   "cell_type": "code",
   "execution_count": 38,
   "metadata": {},
   "outputs": [
    {
     "data": {
      "text/plain": [
       "(Timestamp('2000-10-29 00:00:00'), Timestamp('2018-10-02 00:00:00'))"
      ]
     },
     "execution_count": 38,
     "metadata": {},
     "output_type": "execute_result"
    }
   ],
   "source": [
    "date_min = pd.to_datetime(rating_.timestamp,unit='s').min()\n",
    "date_max = pd.to_datetime(rating_.timestamp,unit='s').max()\n",
    "date_min,date_max"
   ]
  },
  {
   "cell_type": "code",
   "execution_count": 39,
   "metadata": {},
   "outputs": [
    {
     "data": {
      "text/plain": [
       "(366223, 8)"
      ]
     },
     "execution_count": 39,
     "metadata": {},
     "output_type": "execute_result"
    }
   ],
   "source": [
    "rating_.shape"
   ]
  },
  {
   "cell_type": "code",
   "execution_count": 33,
   "metadata": {},
   "outputs": [
    {
     "data": {
      "text/plain": [
       "Timedelta('215 days 00:00:00')"
      ]
     },
     "execution_count": 33,
     "metadata": {},
     "output_type": "execute_result"
    }
   ],
   "source": [
    "date_gap = (date_max-date_min)//(19*2)\n",
    "date_gap"
   ]
  },
  {
   "cell_type": "code",
   "execution_count": 40,
   "metadata": {},
   "outputs": [],
   "source": [
    "rating_['time'] = pd.to_datetime(rating_.timestamp, unit='s').map(lambda x: x.year )"
   ]
  },
  {
   "cell_type": "code",
   "execution_count": 41,
   "metadata": {},
   "outputs": [
    {
     "data": {
      "text/html": [
       "<div>\n",
       "<style scoped>\n",
       "    .dataframe tbody tr th:only-of-type {\n",
       "        vertical-align: middle;\n",
       "    }\n",
       "\n",
       "    .dataframe tbody tr th {\n",
       "        vertical-align: top;\n",
       "    }\n",
       "\n",
       "    .dataframe thead th {\n",
       "        text-align: right;\n",
       "    }\n",
       "</style>\n",
       "<table border=\"1\" class=\"dataframe\">\n",
       "  <thead>\n",
       "    <tr style=\"text-align: right;\">\n",
       "      <th></th>\n",
       "      <th>iid</th>\n",
       "      <th>uid</th>\n",
       "      <th>rating</th>\n",
       "      <th>timestamp</th>\n",
       "      <th>title</th>\n",
       "      <th>description</th>\n",
       "      <th>price</th>\n",
       "      <th>brand</th>\n",
       "      <th>time</th>\n",
       "    </tr>\n",
       "  </thead>\n",
       "  <tbody>\n",
       "    <tr>\n",
       "      <th>0</th>\n",
       "      <td>6546546450</td>\n",
       "      <td>A3349A7IGM954K</td>\n",
       "      <td>4.0</td>\n",
       "      <td>1.376352e+09</td>\n",
       "      <td>Loud 'N Cleartrade; Personal Sound Amplifier</td>\n",
       "      <td>Loud 'N Clear Personal Sound Amplifier allows ...</td>\n",
       "      <td></td>\n",
       "      <td>idea village</td>\n",
       "      <td>2013</td>\n",
       "    </tr>\n",
       "    <tr>\n",
       "      <th>1</th>\n",
       "      <td>6546546450</td>\n",
       "      <td>A1OMHUU58XHQNG</td>\n",
       "      <td>1.0</td>\n",
       "      <td>1.233187e+09</td>\n",
       "      <td>Loud 'N Cleartrade; Personal Sound Amplifier</td>\n",
       "      <td>Loud 'N Clear Personal Sound Amplifier allows ...</td>\n",
       "      <td></td>\n",
       "      <td>idea village</td>\n",
       "      <td>2009</td>\n",
       "    </tr>\n",
       "  </tbody>\n",
       "</table>\n",
       "</div>"
      ],
      "text/plain": [
       "          iid             uid  rating     timestamp  \\\n",
       "0  6546546450  A3349A7IGM954K     4.0  1.376352e+09   \n",
       "1  6546546450  A1OMHUU58XHQNG     1.0  1.233187e+09   \n",
       "\n",
       "                                          title  \\\n",
       "0  Loud 'N Cleartrade; Personal Sound Amplifier   \n",
       "1  Loud 'N Cleartrade; Personal Sound Amplifier   \n",
       "\n",
       "                                         description price         brand  time  \n",
       "0  Loud 'N Clear Personal Sound Amplifier allows ...        idea village  2013  \n",
       "1  Loud 'N Clear Personal Sound Amplifier allows ...        idea village  2009  "
      ]
     },
     "execution_count": 41,
     "metadata": {},
     "output_type": "execute_result"
    }
   ],
   "source": [
    "rating_.head(2)"
   ]
  },
  {
   "cell_type": "code",
   "execution_count": 42,
   "metadata": {},
   "outputs": [
    {
     "data": {
      "text/plain": [
       "array([2000, 2001, 2002, 2003, 2004, 2005, 2006, 2007, 2008, 2009, 2010,\n",
       "       2011, 2012, 2013, 2014, 2015, 2016, 2017, 2018])"
      ]
     },
     "execution_count": 42,
     "metadata": {},
     "output_type": "execute_result"
    }
   ],
   "source": [
    "import numpy as np\n",
    "np.sort(rating_.time.unique())"
   ]
  },
  {
   "cell_type": "code",
   "execution_count": 43,
   "metadata": {},
   "outputs": [
    {
     "data": {
      "text/plain": [
       "((319335,), (32486,))"
      ]
     },
     "execution_count": 43,
     "metadata": {},
     "output_type": "execute_result"
    }
   ],
   "source": [
    "rating_.uid.unique().shape, rating_.iid.unique().shape"
   ]
  },
  {
   "cell_type": "code",
   "execution_count": 44,
   "metadata": {},
   "outputs": [],
   "source": [
    "rating_ = rating_[['iid','uid','rating','timestamp','title','description','price','brand','time']]"
   ]
  },
  {
   "cell_type": "code",
   "execution_count": 33,
   "metadata": {},
   "outputs": [],
   "source": [
    "# rating_['length'] = rating_['description'].apply(lambda x: len(x.split()))"
   ]
  },
  {
   "cell_type": "code",
   "execution_count": 45,
   "metadata": {},
   "outputs": [
    {
     "data": {
      "text/html": [
       "<div>\n",
       "<style scoped>\n",
       "    .dataframe tbody tr th:only-of-type {\n",
       "        vertical-align: middle;\n",
       "    }\n",
       "\n",
       "    .dataframe tbody tr th {\n",
       "        vertical-align: top;\n",
       "    }\n",
       "\n",
       "    .dataframe thead th {\n",
       "        text-align: right;\n",
       "    }\n",
       "</style>\n",
       "<table border=\"1\" class=\"dataframe\">\n",
       "  <thead>\n",
       "    <tr style=\"text-align: right;\">\n",
       "      <th></th>\n",
       "      <th>iid</th>\n",
       "      <th>uid</th>\n",
       "      <th>rating</th>\n",
       "      <th>timestamp</th>\n",
       "      <th>title</th>\n",
       "      <th>description</th>\n",
       "      <th>price</th>\n",
       "      <th>brand</th>\n",
       "      <th>time</th>\n",
       "    </tr>\n",
       "  </thead>\n",
       "  <tbody>\n",
       "    <tr>\n",
       "      <th>0</th>\n",
       "      <td>6546546450</td>\n",
       "      <td>A3349A7IGM954K</td>\n",
       "      <td>4.0</td>\n",
       "      <td>1.376352e+09</td>\n",
       "      <td>Loud 'N Cleartrade; Personal Sound Amplifier</td>\n",
       "      <td>Loud 'N Clear Personal Sound Amplifier allows ...</td>\n",
       "      <td></td>\n",
       "      <td>idea village</td>\n",
       "      <td>2013</td>\n",
       "    </tr>\n",
       "    <tr>\n",
       "      <th>1</th>\n",
       "      <td>6546546450</td>\n",
       "      <td>A1OMHUU58XHQNG</td>\n",
       "      <td>1.0</td>\n",
       "      <td>1.233187e+09</td>\n",
       "      <td>Loud 'N Cleartrade; Personal Sound Amplifier</td>\n",
       "      <td>Loud 'N Clear Personal Sound Amplifier allows ...</td>\n",
       "      <td></td>\n",
       "      <td>idea village</td>\n",
       "      <td>2009</td>\n",
       "    </tr>\n",
       "    <tr>\n",
       "      <th>2</th>\n",
       "      <td>7178680776</td>\n",
       "      <td>A3Q0QXUKRGACMU</td>\n",
       "      <td>3.0</td>\n",
       "      <td>1.507248e+09</td>\n",
       "      <td>No7 Lift amp; Luminate Triple Action Serum 50m...</td>\n",
       "      <td>No7 Lift &amp; Luminate Triple Action Serum 50ml b...</td>\n",
       "      <td>$44.99</td>\n",
       "      <td></td>\n",
       "      <td>2017</td>\n",
       "    </tr>\n",
       "    <tr>\n",
       "      <th>3</th>\n",
       "      <td>7250468162</td>\n",
       "      <td>A3MQI5EJSEDO1K</td>\n",
       "      <td>5.0</td>\n",
       "      <td>1.503706e+09</td>\n",
       "      <td>No7 Stay Perfect Foundation Cool Vanilla by No7</td>\n",
       "      <td>No7 Stay Perfect Foundation now stays perfect ...</td>\n",
       "      <td>$28.76</td>\n",
       "      <td>No7</td>\n",
       "      <td>2017</td>\n",
       "    </tr>\n",
       "    <tr>\n",
       "      <th>4</th>\n",
       "      <td>7367905066</td>\n",
       "      <td>A29TKERPFM55B6</td>\n",
       "      <td>5.0</td>\n",
       "      <td>1.491955e+09</td>\n",
       "      <td>Wella Koleston Perfect Hair Colour 44/44 Mediu...</td>\n",
       "      <td></td>\n",
       "      <td></td>\n",
       "      <td></td>\n",
       "      <td>2017</td>\n",
       "    </tr>\n",
       "  </tbody>\n",
       "</table>\n",
       "</div>"
      ],
      "text/plain": [
       "          iid             uid  rating     timestamp  \\\n",
       "0  6546546450  A3349A7IGM954K     4.0  1.376352e+09   \n",
       "1  6546546450  A1OMHUU58XHQNG     1.0  1.233187e+09   \n",
       "2  7178680776  A3Q0QXUKRGACMU     3.0  1.507248e+09   \n",
       "3  7250468162  A3MQI5EJSEDO1K     5.0  1.503706e+09   \n",
       "4  7367905066  A29TKERPFM55B6     5.0  1.491955e+09   \n",
       "\n",
       "                                               title  \\\n",
       "0       Loud 'N Cleartrade; Personal Sound Amplifier   \n",
       "1       Loud 'N Cleartrade; Personal Sound Amplifier   \n",
       "2  No7 Lift amp; Luminate Triple Action Serum 50m...   \n",
       "3    No7 Stay Perfect Foundation Cool Vanilla by No7   \n",
       "4  Wella Koleston Perfect Hair Colour 44/44 Mediu...   \n",
       "\n",
       "                                         description   price         brand  \\\n",
       "0  Loud 'N Clear Personal Sound Amplifier allows ...          idea village   \n",
       "1  Loud 'N Clear Personal Sound Amplifier allows ...          idea village   \n",
       "2  No7 Lift & Luminate Triple Action Serum 50ml b...  $44.99                 \n",
       "3  No7 Stay Perfect Foundation now stays perfect ...  $28.76           No7   \n",
       "4                                                                            \n",
       "\n",
       "   time  \n",
       "0  2013  \n",
       "1  2009  \n",
       "2  2017  \n",
       "3  2017  \n",
       "4  2017  "
      ]
     },
     "execution_count": 45,
     "metadata": {},
     "output_type": "execute_result"
    }
   ],
   "source": [
    "rating_.head()"
   ]
  },
  {
   "cell_type": "code",
   "execution_count": 35,
   "metadata": {},
   "outputs": [],
   "source": [
    "# rating__ = rating_[rating_['length'] > 15]"
   ]
  },
  {
   "cell_type": "code",
   "execution_count": 36,
   "metadata": {},
   "outputs": [],
   "source": [
    "# rating__ = rating__[rating__['length'] < 500]"
   ]
  },
  {
   "cell_type": "code",
   "execution_count": 50,
   "metadata": {},
   "outputs": [
    {
     "ename": "NameError",
     "evalue": "name 'rating__' is not defined",
     "output_type": "error",
     "traceback": [
      "\u001b[0;31m---------------------------------------------------------------------------\u001b[0m",
      "\u001b[0;31mNameError\u001b[0m                                 Traceback (most recent call last)",
      "Cell \u001b[0;32mIn[50], line 1\u001b[0m\n\u001b[0;32m----> 1\u001b[0m \u001b[43mrating__\u001b[49m\u001b[38;5;241m.\u001b[39mlength\u001b[38;5;241m.\u001b[39mdescribe()\n",
      "\u001b[0;31mNameError\u001b[0m: name 'rating__' is not defined"
     ]
    }
   ],
   "source": [
    "# rating__.length.describe()"
   ]
  },
  {
   "cell_type": "code",
   "execution_count": 46,
   "metadata": {},
   "outputs": [],
   "source": [
    "rating__ = rating_.copy()"
   ]
  },
  {
   "cell_type": "code",
   "execution_count": 49,
   "metadata": {},
   "outputs": [],
   "source": [
    "s_rating = rating__"
   ]
  },
  {
   "cell_type": "code",
   "execution_count": 62,
   "metadata": {},
   "outputs": [],
   "source": [
    "s_rating = rating__[rating__.time.isin([2014,2015,2016,2017,2018])].copy()\n",
    "s_rating['time'] = pd.to_datetime(s_rating.timestamp, unit='s').map(lambda x: (x.year-2014)*12+x.month)\n",
    "# s_rating = s_rating[s_rating.time.isin(range(1,13))]"
   ]
  },
  {
   "cell_type": "code",
   "execution_count": 63,
   "metadata": {},
   "outputs": [
    {
     "data": {
      "text/plain": [
       "(305911, 9)"
      ]
     },
     "execution_count": 63,
     "metadata": {},
     "output_type": "execute_result"
    }
   ],
   "source": [
    "s_rating.shape"
   ]
  },
  {
   "cell_type": "code",
   "execution_count": 64,
   "metadata": {},
   "outputs": [
    {
     "data": {
      "text/html": [
       "<div>\n",
       "<style scoped>\n",
       "    .dataframe tbody tr th:only-of-type {\n",
       "        vertical-align: middle;\n",
       "    }\n",
       "\n",
       "    .dataframe tbody tr th {\n",
       "        vertical-align: top;\n",
       "    }\n",
       "\n",
       "    .dataframe thead th {\n",
       "        text-align: right;\n",
       "    }\n",
       "</style>\n",
       "<table border=\"1\" class=\"dataframe\">\n",
       "  <thead>\n",
       "    <tr style=\"text-align: right;\">\n",
       "      <th></th>\n",
       "      <th>rating</th>\n",
       "    </tr>\n",
       "  </thead>\n",
       "  <tbody>\n",
       "    <tr>\n",
       "      <th>count</th>\n",
       "      <td>271156.000000</td>\n",
       "    </tr>\n",
       "    <tr>\n",
       "      <th>mean</th>\n",
       "      <td>1.128173</td>\n",
       "    </tr>\n",
       "    <tr>\n",
       "      <th>std</th>\n",
       "      <td>0.479985</td>\n",
       "    </tr>\n",
       "    <tr>\n",
       "      <th>min</th>\n",
       "      <td>1.000000</td>\n",
       "    </tr>\n",
       "    <tr>\n",
       "      <th>25%</th>\n",
       "      <td>1.000000</td>\n",
       "    </tr>\n",
       "    <tr>\n",
       "      <th>50%</th>\n",
       "      <td>1.000000</td>\n",
       "    </tr>\n",
       "    <tr>\n",
       "      <th>75%</th>\n",
       "      <td>1.000000</td>\n",
       "    </tr>\n",
       "    <tr>\n",
       "      <th>max</th>\n",
       "      <td>26.000000</td>\n",
       "    </tr>\n",
       "  </tbody>\n",
       "</table>\n",
       "</div>"
      ],
      "text/plain": [
       "              rating\n",
       "count  271156.000000\n",
       "mean        1.128173\n",
       "std         0.479985\n",
       "min         1.000000\n",
       "25%         1.000000\n",
       "50%         1.000000\n",
       "75%         1.000000\n",
       "max        26.000000"
      ]
     },
     "execution_count": 64,
     "metadata": {},
     "output_type": "execute_result"
    }
   ],
   "source": [
    "s_rating.groupby('uid').agg({\"rating\":'count'}).describe()"
   ]
  },
  {
   "cell_type": "code",
   "execution_count": 33,
   "metadata": {},
   "outputs": [
    {
     "data": {
      "text/html": [
       "<div>\n",
       "<style scoped>\n",
       "    .dataframe tbody tr th:only-of-type {\n",
       "        vertical-align: middle;\n",
       "    }\n",
       "\n",
       "    .dataframe tbody tr th {\n",
       "        vertical-align: top;\n",
       "    }\n",
       "\n",
       "    .dataframe thead th {\n",
       "        text-align: right;\n",
       "    }\n",
       "</style>\n",
       "<table border=\"1\" class=\"dataframe\">\n",
       "  <thead>\n",
       "    <tr style=\"text-align: right;\">\n",
       "      <th></th>\n",
       "      <th>rating</th>\n",
       "    </tr>\n",
       "  </thead>\n",
       "  <tbody>\n",
       "    <tr>\n",
       "      <th>count</th>\n",
       "      <td>3.330909e+06</td>\n",
       "    </tr>\n",
       "    <tr>\n",
       "      <th>mean</th>\n",
       "      <td>2.185934e+00</td>\n",
       "    </tr>\n",
       "    <tr>\n",
       "      <th>std</th>\n",
       "      <td>6.108465e+00</td>\n",
       "    </tr>\n",
       "    <tr>\n",
       "      <th>min</th>\n",
       "      <td>1.000000e+00</td>\n",
       "    </tr>\n",
       "    <tr>\n",
       "      <th>25%</th>\n",
       "      <td>1.000000e+00</td>\n",
       "    </tr>\n",
       "    <tr>\n",
       "      <th>50%</th>\n",
       "      <td>1.000000e+00</td>\n",
       "    </tr>\n",
       "    <tr>\n",
       "      <th>75%</th>\n",
       "      <td>2.000000e+00</td>\n",
       "    </tr>\n",
       "    <tr>\n",
       "      <th>max</th>\n",
       "      <td>1.294000e+03</td>\n",
       "    </tr>\n",
       "  </tbody>\n",
       "</table>\n",
       "</div>"
      ],
      "text/plain": [
       "             rating\n",
       "count  3.330909e+06\n",
       "mean   2.185934e+00\n",
       "std    6.108465e+00\n",
       "min    1.000000e+00\n",
       "25%    1.000000e+00\n",
       "50%    1.000000e+00\n",
       "75%    2.000000e+00\n",
       "max    1.294000e+03"
      ]
     },
     "execution_count": 33,
     "metadata": {},
     "output_type": "execute_result"
    }
   ],
   "source": [
    "s_rating.groupby('uid').agg({\"rating\":'count'}).describe()"
   ]
  },
  {
   "cell_type": "code",
   "execution_count": 65,
   "metadata": {},
   "outputs": [],
   "source": [
    "item_info = s_rating.groupby('iid').agg({\"rating\":'count'})\n",
    "user_info = s_rating.groupby('uid').agg({\"rating\":'count'})"
   ]
  },
  {
   "cell_type": "code",
   "execution_count": 66,
   "metadata": {},
   "outputs": [
    {
     "data": {
      "text/plain": [
       "((6920,), (501,))"
      ]
     },
     "execution_count": 66,
     "metadata": {},
     "output_type": "execute_result"
    }
   ],
   "source": [
    "active_item = item_info[item_info['rating']>5].index #.sample(frac=10/20,random_state=2023).index\n",
    "active_user = user_info[user_info['rating']>5].index #.sample(frac=10/20,random_state=2023).index\n",
    "active_item.shape, active_user.shape"
   ]
  },
  {
   "cell_type": "code",
   "execution_count": 41,
   "metadata": {},
   "outputs": [
    {
     "data": {
      "text/plain": [
       "((68023,), (24291,))"
      ]
     },
     "execution_count": 41,
     "metadata": {},
     "output_type": "execute_result"
    }
   ],
   "source": [
    "active_item = item_info[item_info['rating']>20].index #.sample(frac=10/20,random_state=2023).index\n",
    "active_user = user_info[user_info['rating']>20].index #.sample(frac=10/20,random_state=2023).index\n",
    "active_item.shape, active_user.shape"
   ]
  },
  {
   "cell_type": "code",
   "execution_count": 67,
   "metadata": {},
   "outputs": [
    {
     "data": {
      "text/plain": [
       "(2868, 9)"
      ]
     },
     "execution_count": 67,
     "metadata": {},
     "output_type": "execute_result"
    }
   ],
   "source": [
    "s_rating = s_rating[s_rating['uid'].isin(active_user)]\n",
    "s_rating = s_rating[s_rating['iid'].isin(active_item)]\n",
    "s_rating.shape"
   ]
  },
  {
   "cell_type": "code",
   "execution_count": 36,
   "metadata": {},
   "outputs": [
    {
     "data": {
      "text/plain": [
       "(845689, 9)"
      ]
     },
     "execution_count": 36,
     "metadata": {},
     "output_type": "execute_result"
    }
   ],
   "source": [
    "s_rating = s_rating[s_rating['uid'].isin(active_user)]\n",
    "s_rating = s_rating[s_rating['iid'].isin(active_item)]\n",
    "s_rating.shape"
   ]
  },
  {
   "cell_type": "code",
   "execution_count": 68,
   "metadata": {},
   "outputs": [
    {
     "data": {
      "text/plain": [
       "(rating    5.747495\n",
       " dtype: float64,\n",
       " rating    4.425926\n",
       " dtype: float64)"
      ]
     },
     "execution_count": 68,
     "metadata": {},
     "output_type": "execute_result"
    }
   ],
   "source": [
    "item_info = s_rating.groupby('iid').agg({\"rating\":'count'})\n",
    "user_info = s_rating.groupby('uid').agg({\"rating\":'count'})\n",
    "user_info.mean(), item_info.mean()"
   ]
  },
  {
   "cell_type": "code",
   "execution_count": 37,
   "metadata": {},
   "outputs": [
    {
     "data": {
      "text/plain": [
       "(rating    34.018061\n",
       " dtype: float64,\n",
       " rating    16.628436\n",
       " dtype: float64)"
      ]
     },
     "execution_count": 37,
     "metadata": {},
     "output_type": "execute_result"
    }
   ],
   "source": [
    "item_info = s_rating.groupby('iid').agg({\"rating\":'count'})\n",
    "user_info = s_rating.groupby('uid').agg({\"rating\":'count'})\n",
    "user_info.mean(), item_info.mean()"
   ]
  },
  {
   "cell_type": "code",
   "execution_count": 69,
   "metadata": {},
   "outputs": [
    {
     "data": {
      "text/plain": [
       "((2868, 9), (499,), (648,))"
      ]
     },
     "execution_count": 69,
     "metadata": {},
     "output_type": "execute_result"
    }
   ],
   "source": [
    "s_rating.shape, s_rating.uid.unique().shape, s_rating.iid.unique().shape"
   ]
  },
  {
   "cell_type": "code",
   "execution_count": 38,
   "metadata": {},
   "outputs": [
    {
     "data": {
      "text/plain": [
       "((845689, 9), (24860,), (50858,))"
      ]
     },
     "execution_count": 38,
     "metadata": {},
     "output_type": "execute_result"
    }
   ],
   "source": [
    "s_rating.shape, s_rating.uid.unique().shape, s_rating.iid.unique().shape"
   ]
  },
  {
   "cell_type": "code",
   "execution_count": 70,
   "metadata": {},
   "outputs": [
    {
     "data": {
      "text/html": [
       "<div>\n",
       "<style scoped>\n",
       "    .dataframe tbody tr th:only-of-type {\n",
       "        vertical-align: middle;\n",
       "    }\n",
       "\n",
       "    .dataframe tbody tr th {\n",
       "        vertical-align: top;\n",
       "    }\n",
       "\n",
       "    .dataframe thead th {\n",
       "        text-align: right;\n",
       "    }\n",
       "</style>\n",
       "<table border=\"1\" class=\"dataframe\">\n",
       "  <thead>\n",
       "    <tr style=\"text-align: right;\">\n",
       "      <th></th>\n",
       "      <th>index</th>\n",
       "      <th>iid</th>\n",
       "      <th>uid</th>\n",
       "      <th>rating</th>\n",
       "      <th>timestamp</th>\n",
       "      <th>title</th>\n",
       "      <th>description</th>\n",
       "      <th>price</th>\n",
       "      <th>brand</th>\n",
       "      <th>time</th>\n",
       "    </tr>\n",
       "  </thead>\n",
       "  <tbody>\n",
       "    <tr>\n",
       "      <th>0</th>\n",
       "      <td>1476</td>\n",
       "      <td>B000050FDY</td>\n",
       "      <td>A10ZBR6O8S8OCY</td>\n",
       "      <td>5.0</td>\n",
       "      <td>1.497830e+09</td>\n",
       "      <td>Braun Clean amp; Renew Refill Cartridges CCR -...</td>\n",
       "      <td>With Braun Clean &amp; Renew refills, you can keep...</td>\n",
       "      <td>$11.94</td>\n",
       "      <td>Braun</td>\n",
       "      <td>42</td>\n",
       "    </tr>\n",
       "    <tr>\n",
       "      <th>1</th>\n",
       "      <td>1815</td>\n",
       "      <td>B000050FDY</td>\n",
       "      <td>A198RQKA8VFDQ8</td>\n",
       "      <td>5.0</td>\n",
       "      <td>1.444262e+09</td>\n",
       "      <td>Braun Clean amp; Renew Refill Cartridges CCR -...</td>\n",
       "      <td>With Braun Clean &amp; Renew refills, you can keep...</td>\n",
       "      <td>$11.94</td>\n",
       "      <td>Braun</td>\n",
       "      <td>22</td>\n",
       "    </tr>\n",
       "  </tbody>\n",
       "</table>\n",
       "</div>"
      ],
      "text/plain": [
       "   index         iid             uid  rating     timestamp  \\\n",
       "0   1476  B000050FDY  A10ZBR6O8S8OCY     5.0  1.497830e+09   \n",
       "1   1815  B000050FDY  A198RQKA8VFDQ8     5.0  1.444262e+09   \n",
       "\n",
       "                                               title  \\\n",
       "0  Braun Clean amp; Renew Refill Cartridges CCR -...   \n",
       "1  Braun Clean amp; Renew Refill Cartridges CCR -...   \n",
       "\n",
       "                                         description   price  brand  time  \n",
       "0  With Braun Clean & Renew refills, you can keep...  $11.94  Braun    42  \n",
       "1  With Braun Clean & Renew refills, you can keep...  $11.94  Braun    22  "
      ]
     },
     "execution_count": 70,
     "metadata": {},
     "output_type": "execute_result"
    }
   ],
   "source": [
    "s_rating = s_rating.reset_index()\n",
    "s_rating.head(2)"
   ]
  },
  {
   "cell_type": "code",
   "execution_count": 71,
   "metadata": {},
   "outputs": [
    {
     "data": {
      "text/plain": [
       "<Axes: xlabel='time'>"
      ]
     },
     "execution_count": 71,
     "metadata": {},
     "output_type": "execute_result"
    },
    {
     "data": {
      "image/png": "[encoded data removed]",
      "text/plain": [
       "<Figure size 640x480 with 1 Axes>"
      ]
     },
     "metadata": {},
     "output_type": "display_data"
    }
   ],
   "source": [
    "s_rating.groupby('time').agg({'rating':'count'}).reset_index().plot(x='time',kind='bar')"
   ]
  },
  {
   "cell_type": "code",
   "execution_count": 72,
   "metadata": {},
   "outputs": [
    {
     "data": {
      "text/plain": [
       "array([5., 2., 4., 3., 1.])"
      ]
     },
     "execution_count": 72,
     "metadata": {},
     "output_type": "execute_result"
    }
   ],
   "source": [
    "s_rating.rating.unique()"
   ]
  },
  {
   "cell_type": "code",
   "execution_count": 73,
   "metadata": {},
   "outputs": [
    {
     "data": {
      "text/plain": [
       "count    2868.000000\n",
       "mean        0.815551\n",
       "std         0.387918\n",
       "min         0.000000\n",
       "25%         1.000000\n",
       "50%         1.000000\n",
       "75%         1.000000\n",
       "max         1.000000\n",
       "Name: label, dtype: float64"
      ]
     },
     "execution_count": 73,
     "metadata": {},
     "output_type": "execute_result"
    }
   ],
   "source": [
    "s_rating['label'] = s_rating['rating'].apply(lambda x: 1 if x>=5 else 0)\n",
    "s_rating['label'].describe()"
   ]
  },
  {
   "cell_type": "code",
   "execution_count": 42,
   "metadata": {},
   "outputs": [
    {
     "data": {
      "text/plain": [
       "count    845689.00000\n",
       "mean          0.63175\n",
       "std           0.48233\n",
       "min           0.00000\n",
       "25%           0.00000\n",
       "50%           1.00000\n",
       "75%           1.00000\n",
       "max           1.00000\n",
       "Name: label, dtype: float64"
      ]
     },
     "execution_count": 42,
     "metadata": {},
     "output_type": "execute_result"
    }
   ],
   "source": [
    "s_rating['label'] = s_rating['rating'].apply(lambda x: 1 if x>=5 else 0)\n",
    "s_rating['label'].describe()"
   ]
  },
  {
   "cell_type": "code",
   "execution_count": 74,
   "metadata": {},
   "outputs": [
    {
     "data": {
      "text/plain": [
       "(499, 648)"
      ]
     },
     "execution_count": 74,
     "metadata": {},
     "output_type": "execute_result"
    }
   ],
   "source": [
    "users = s_rating.uid.unique()\n",
    "items = s_rating.iid.unique()\n",
    "users_map = dict(zip(users, np.arange(users.shape[0])+1))\n",
    "items_map = dict(zip(items, np.arange(items.shape[0])+1))\n",
    "s_rating['uid'] = s_rating['uid'].map(users_map)\n",
    "s_rating['iid'] = s_rating['iid'].map(items_map)\n",
    "s_rating.uid.max(), s_rating.iid.max()"
   ]
  },
  {
   "cell_type": "code",
   "execution_count": 75,
   "metadata": {},
   "outputs": [],
   "source": [
    "s_rating['description'] = s_rating['description'].apply(lambda x: re.sub(r'<[^>]+>', ' ', x.replace('&','')))\n",
    "s_rating['description'] = s_rating['description'].apply(lambda x: re.sub(r'\\s+', ' ', x.strip()))\n",
    "s_rating['title'] = s_rating['title'].apply(lambda x: re.sub(r'<[^>]+>', ' ', x.replace('&','')))\n",
    "s_rating['title'] = s_rating['title'].apply(lambda x: re.sub(r'\\s+', ' ', x.strip()))\n",
    "s_rating['brand'] = s_rating['brand'].apply(lambda x: re.sub(r'<[^>]+>', ' ', x.replace('&','')))\n",
    "s_rating['brand'] = s_rating['brand'].apply(lambda x: re.sub(r'\\s+', ' ', x.strip()))\n",
    "s_rating['price'] = s_rating['price'].apply(lambda x: re.sub(r'\\s+', ' ', x.strip()))"
   ]
  },
  {
   "cell_type": "code",
   "execution_count": 76,
   "metadata": {},
   "outputs": [
    {
     "data": {
      "text/html": [
       "<div>\n",
       "<style scoped>\n",
       "    .dataframe tbody tr th:only-of-type {\n",
       "        vertical-align: middle;\n",
       "    }\n",
       "\n",
       "    .dataframe tbody tr th {\n",
       "        vertical-align: top;\n",
       "    }\n",
       "\n",
       "    .dataframe thead th {\n",
       "        text-align: right;\n",
       "    }\n",
       "</style>\n",
       "<table border=\"1\" class=\"dataframe\">\n",
       "  <thead>\n",
       "    <tr style=\"text-align: right;\">\n",
       "      <th></th>\n",
       "      <th>index</th>\n",
       "      <th>iid</th>\n",
       "      <th>uid</th>\n",
       "      <th>rating</th>\n",
       "      <th>timestamp</th>\n",
       "      <th>title</th>\n",
       "      <th>description</th>\n",
       "      <th>price</th>\n",
       "      <th>brand</th>\n",
       "      <th>time</th>\n",
       "      <th>label</th>\n",
       "    </tr>\n",
       "  </thead>\n",
       "  <tbody>\n",
       "    <tr>\n",
       "      <th>0</th>\n",
       "      <td>1476</td>\n",
       "      <td>1</td>\n",
       "      <td>1</td>\n",
       "      <td>5.0</td>\n",
       "      <td>1.497830e+09</td>\n",
       "      <td>Braun Clean amp; Renew Refill Cartridges CCR -...</td>\n",
       "      <td>With Braun Clean Renew refills, you can keep y...</td>\n",
       "      <td>$11.94</td>\n",
       "      <td>Braun</td>\n",
       "      <td>42</td>\n",
       "      <td>1</td>\n",
       "    </tr>\n",
       "    <tr>\n",
       "      <th>1</th>\n",
       "      <td>1815</td>\n",
       "      <td>1</td>\n",
       "      <td>2</td>\n",
       "      <td>5.0</td>\n",
       "      <td>1.444262e+09</td>\n",
       "      <td>Braun Clean amp; Renew Refill Cartridges CCR -...</td>\n",
       "      <td>With Braun Clean Renew refills, you can keep y...</td>\n",
       "      <td>$11.94</td>\n",
       "      <td>Braun</td>\n",
       "      <td>22</td>\n",
       "      <td>1</td>\n",
       "    </tr>\n",
       "    <tr>\n",
       "      <th>2</th>\n",
       "      <td>2248</td>\n",
       "      <td>2</td>\n",
       "      <td>3</td>\n",
       "      <td>5.0</td>\n",
       "      <td>1.447286e+09</td>\n",
       "      <td>Scope Original Mint Mouthwash 50.7 Fl Oz</td>\n",
       "      <td>Scope Original Mint Rinse kills bad breath ger...</td>\n",
       "      <td></td>\n",
       "      <td>Unknown</td>\n",
       "      <td>23</td>\n",
       "      <td>1</td>\n",
       "    </tr>\n",
       "    <tr>\n",
       "      <th>3</th>\n",
       "      <td>4108</td>\n",
       "      <td>3</td>\n",
       "      <td>4</td>\n",
       "      <td>5.0</td>\n",
       "      <td>1.433117e+09</td>\n",
       "      <td>Panasonic Bikini Shaper and Trimmer for Women ...</td>\n",
       "      <td>Perfect for sensitive skin types, this bikini ...</td>\n",
       "      <td>$18.49</td>\n",
       "      <td>Panasonic</td>\n",
       "      <td>18</td>\n",
       "      <td>1</td>\n",
       "    </tr>\n",
       "    <tr>\n",
       "      <th>4</th>\n",
       "      <td>5566</td>\n",
       "      <td>4</td>\n",
       "      <td>5</td>\n",
       "      <td>5.0</td>\n",
       "      <td>1.524614e+09</td>\n",
       "      <td>Citre Shine Moisture Burst Shampoo - 16 fl oz</td>\n",
       "      <td>Restores Moisture to Dehydrated Hair End your ...</td>\n",
       "      <td>$23.00</td>\n",
       "      <td>Citre Shine</td>\n",
       "      <td>52</td>\n",
       "      <td>1</td>\n",
       "    </tr>\n",
       "  </tbody>\n",
       "</table>\n",
       "</div>"
      ],
      "text/plain": [
       "   index  iid  uid  rating     timestamp  \\\n",
       "0   1476    1    1     5.0  1.497830e+09   \n",
       "1   1815    1    2     5.0  1.444262e+09   \n",
       "2   2248    2    3     5.0  1.447286e+09   \n",
       "3   4108    3    4     5.0  1.433117e+09   \n",
       "4   5566    4    5     5.0  1.524614e+09   \n",
       "\n",
       "                                               title  \\\n",
       "0  Braun Clean amp; Renew Refill Cartridges CCR -...   \n",
       "1  Braun Clean amp; Renew Refill Cartridges CCR -...   \n",
       "2           Scope Original Mint Mouthwash 50.7 Fl Oz   \n",
       "3  Panasonic Bikini Shaper and Trimmer for Women ...   \n",
       "4      Citre Shine Moisture Burst Shampoo - 16 fl oz   \n",
       "\n",
       "                                         description   price        brand  \\\n",
       "0  With Braun Clean Renew refills, you can keep y...  $11.94        Braun   \n",
       "1  With Braun Clean Renew refills, you can keep y...  $11.94        Braun   \n",
       "2  Scope Original Mint Rinse kills bad breath ger...              Unknown   \n",
       "3  Perfect for sensitive skin types, this bikini ...  $18.49    Panasonic   \n",
       "4  Restores Moisture to Dehydrated Hair End your ...  $23.00  Citre Shine   \n",
       "\n",
       "   time  label  \n",
       "0    42      1  \n",
       "1    22      1  \n",
       "2    23      1  \n",
       "3    18      1  \n",
       "4    52      1  "
      ]
     },
     "execution_count": 76,
     "metadata": {},
     "output_type": "execute_result"
    }
   ],
   "source": [
    "s_rating.head()"
   ]
  },
  {
   "cell_type": "code",
   "execution_count": 77,
   "metadata": {},
   "outputs": [
    {
     "data": {
      "text/html": [
       "<div>\n",
       "<style scoped>\n",
       "    .dataframe tbody tr th:only-of-type {\n",
       "        vertical-align: middle;\n",
       "    }\n",
       "\n",
       "    .dataframe tbody tr th {\n",
       "        vertical-align: top;\n",
       "    }\n",
       "\n",
       "    .dataframe thead th {\n",
       "        text-align: right;\n",
       "    }\n",
       "</style>\n",
       "<table border=\"1\" class=\"dataframe\">\n",
       "  <thead>\n",
       "    <tr style=\"text-align: right;\">\n",
       "      <th></th>\n",
       "      <th>index</th>\n",
       "      <th>iid</th>\n",
       "      <th>uid</th>\n",
       "      <th>rating</th>\n",
       "      <th>timestamp</th>\n",
       "      <th>title</th>\n",
       "      <th>description</th>\n",
       "      <th>price</th>\n",
       "      <th>brand</th>\n",
       "      <th>time</th>\n",
       "      <th>label</th>\n",
       "    </tr>\n",
       "  </thead>\n",
       "  <tbody>\n",
       "    <tr>\n",
       "      <th>2863</th>\n",
       "      <td>363988</td>\n",
       "      <td>644</td>\n",
       "      <td>489</td>\n",
       "      <td>5.0</td>\n",
       "      <td>1.468627e+09</td>\n",
       "      <td>Ameacute;lie Brightening Eye Cream For Dark Ci...</td>\n",
       "      <td></td>\n",
       "      <td></td>\n",
       "      <td></td>\n",
       "      <td>31</td>\n",
       "      <td>1</td>\n",
       "    </tr>\n",
       "    <tr>\n",
       "      <th>2864</th>\n",
       "      <td>364114</td>\n",
       "      <td>645</td>\n",
       "      <td>492</td>\n",
       "      <td>4.0</td>\n",
       "      <td>1.467677e+09</td>\n",
       "      <td>Eshion 12pcs High Quality Makeup Cosmetic Lips...</td>\n",
       "      <td></td>\n",
       "      <td>$9.99</td>\n",
       "      <td></td>\n",
       "      <td>31</td>\n",
       "      <td>0</td>\n",
       "    </tr>\n",
       "    <tr>\n",
       "      <th>2865</th>\n",
       "      <td>364651</td>\n",
       "      <td>646</td>\n",
       "      <td>448</td>\n",
       "      <td>5.0</td>\n",
       "      <td>1.488758e+09</td>\n",
       "      <td>E'TAE Natural Products - Carmel Deep Reconstru...</td>\n",
       "      <td>Use before shampooing. Store at room temperatu...</td>\n",
       "      <td>$20.72</td>\n",
       "      <td></td>\n",
       "      <td>39</td>\n",
       "      <td>1</td>\n",
       "    </tr>\n",
       "    <tr>\n",
       "      <th>2866</th>\n",
       "      <td>364850</td>\n",
       "      <td>647</td>\n",
       "      <td>478</td>\n",
       "      <td>5.0</td>\n",
       "      <td>1.509926e+09</td>\n",
       "      <td>Women's Chic Sterling Silver Crystal Heart Sha...</td>\n",
       "      <td></td>\n",
       "      <td></td>\n",
       "      <td></td>\n",
       "      <td>47</td>\n",
       "      <td>1</td>\n",
       "    </tr>\n",
       "    <tr>\n",
       "      <th>2867</th>\n",
       "      <td>365655</td>\n",
       "      <td>648</td>\n",
       "      <td>434</td>\n",
       "      <td>3.0</td>\n",
       "      <td>1.504483e+09</td>\n",
       "      <td>Technic Get Gorgeous Bronzing Highlighting Pow...</td>\n",
       "      <td>Highlight, sculpt and define your face feature...</td>\n",
       "      <td>$6.99</td>\n",
       "      <td>Technic</td>\n",
       "      <td>45</td>\n",
       "      <td>0</td>\n",
       "    </tr>\n",
       "  </tbody>\n",
       "</table>\n",
       "</div>"
      ],
      "text/plain": [
       "       index  iid  uid  rating     timestamp  \\\n",
       "2863  363988  644  489     5.0  1.468627e+09   \n",
       "2864  364114  645  492     4.0  1.467677e+09   \n",
       "2865  364651  646  448     5.0  1.488758e+09   \n",
       "2866  364850  647  478     5.0  1.509926e+09   \n",
       "2867  365655  648  434     3.0  1.504483e+09   \n",
       "\n",
       "                                                  title  \\\n",
       "2863  Ameacute;lie Brightening Eye Cream For Dark Ci...   \n",
       "2864  Eshion 12pcs High Quality Makeup Cosmetic Lips...   \n",
       "2865  E'TAE Natural Products - Carmel Deep Reconstru...   \n",
       "2866  Women's Chic Sterling Silver Crystal Heart Sha...   \n",
       "2867  Technic Get Gorgeous Bronzing Highlighting Pow...   \n",
       "\n",
       "                                            description   price    brand  \\\n",
       "2863                                                                       \n",
       "2864                                                      $9.99            \n",
       "2865  Use before shampooing. Store at room temperatu...  $20.72            \n",
       "2866                                                                       \n",
       "2867  Highlight, sculpt and define your face feature...   $6.99  Technic   \n",
       "\n",
       "      time  label  \n",
       "2863    31      1  \n",
       "2864    31      0  \n",
       "2865    39      1  \n",
       "2866    47      1  \n",
       "2867    45      0  "
      ]
     },
     "execution_count": 77,
     "metadata": {},
     "output_type": "execute_result"
    }
   ],
   "source": [
    "s_rating.tail()"
   ]
  },
  {
   "cell_type": "code",
   "execution_count": 78,
   "metadata": {},
   "outputs": [
    {
     "data": {
      "text/plain": [
       "(648,)"
      ]
     },
     "execution_count": 78,
     "metadata": {},
     "output_type": "execute_result"
    }
   ],
   "source": [
    "s_rating.iid.unique().shape"
   ]
  },
  {
   "cell_type": "code",
   "execution_count": 79,
   "metadata": {},
   "outputs": [
    {
     "name": "stdout",
     "output_type": "stream",
     "text": [
      "648\n"
     ]
    }
   ],
   "source": [
    "id2title = {}\n",
    "# title2id = {}\n",
    "for i in range(len(s_rating)):\n",
    "    iid = int(s_rating.iloc[i]['iid'])\n",
    "    title = str(s_rating.iloc[i]['title'])\n",
    "    description = str(s_rating.iloc[i]['description'])\n",
    "    # category = str(s_rating.iloc[i]['category'])\n",
    "    brand = str(s_rating.iloc[i]['brand'])\n",
    "    price = str(s_rating.iloc[i]['price'])\n",
    "    if iid not in id2title:\n",
    "        id2title[iid] = {\n",
    "            'title':title,\n",
    "            'description':description,\n",
    "            # 'category':category,\n",
    "            'brand':brand,\n",
    "            'price':price,\n",
    "            }\n",
    "    # if title not in title2id:\n",
    "    #     title2id[title] = {\n",
    "    #         'id':iid,\n",
    "    #         'description':description,\n",
    "    #         'category':category,\n",
    "    #         'brand':brand,\n",
    "    #         'price':price,\n",
    "    #         }\n",
    "print(len(id2title.keys()))\n",
    "# print(len(id2title.keys()),len(title2id.keys()))\n"
   ]
  },
  {
   "cell_type": "code",
   "execution_count": 80,
   "metadata": {},
   "outputs": [],
   "source": [
    "#保存为字典 id2title 为 json 文件\n",
    "import json\n",
    "json_dir = '/home/yuqihang/workroot/models/data/collm/Beauty'\n",
    "json.dump(id2title, open(f\"{json_dir}/id2title.json\", \"w\"), indent=4)\n",
    "# json.dump(title2id, open(f\"{json_dir}/title2id.json\", \"w\"), indent=4)"
   ]
  },
  {
   "cell_type": "code",
   "execution_count": 62,
   "metadata": {},
   "outputs": [],
   "source": [
    "with open('/home/yuqihang/projects/CoLLM/collm-datasets/booknew/id2keywords.json','r') as f:\n",
    "    id2keywords = json.load(f)"
   ]
  },
  {
   "cell_type": "code",
   "execution_count": 71,
   "metadata": {},
   "outputs": [],
   "source": [
    "for idx,meta in id2title.items():\n",
    "    try:\n",
    "        meta['keywords'] = id2keywords[idx]['keywords']\n",
    "    except:\n",
    "        print(f'can\\'t find {idx} in id2keywords')\n",
    "    id2title[idx] = meta"
   ]
  },
  {
   "cell_type": "code",
   "execution_count": 72,
   "metadata": {},
   "outputs": [],
   "source": [
    "json.dump(id2title, open(f\"{json_dir}/id2title.json\", \"w\"), indent=4)"
   ]
  },
  {
   "cell_type": "code",
   "execution_count": 73,
   "metadata": {},
   "outputs": [],
   "source": [
    "# id2title = {}\n",
    "# for title,meta in title2id.items():\n",
    "#     idx = meta['id']\n",
    "#     del meta['id']\n",
    "#     meta['title'] = title\n",
    "#     id2title[idx] = meta"
   ]
  },
  {
   "cell_type": "code",
   "execution_count": 74,
   "metadata": {},
   "outputs": [],
   "source": [
    "# json.dump(id2title, open(f\"{json_dir}/id2title.json\", \"w\"), indent=4)"
   ]
  },
  {
   "cell_type": "code",
   "execution_count": 78,
   "metadata": {},
   "outputs": [],
   "source": [
    "del id2title\n",
    "# del title2id\n",
    "del title2keywords"
   ]
  },
  {
   "cell_type": "code",
   "execution_count": 82,
   "metadata": {},
   "outputs": [
    {
     "data": {
      "text/plain": [
       "((1885, 11), (123, 11), (123, 11))"
      ]
     },
     "execution_count": 82,
     "metadata": {},
     "output_type": "execute_result"
    }
   ],
   "source": [
    "rating_train = s_rating[s_rating.time.isin(range(33))].copy()\n",
    "rating_valid_test = s_rating[s_rating.time.isin(range(33,37))].copy()\n",
    "rating_valid_test.sort_values(by=\"timestamp\",inplace=True)\n",
    "N_ = rating_valid_test.shape[0]//2\n",
    "rating_valid = rating_valid_test.iloc[:N_].copy()\n",
    "rating_test = rating_valid_test.iloc[N_:].copy()\n",
    "rating_train.shape, rating_valid.shape, rating_test.shape"
   ]
  },
  {
   "cell_type": "code",
   "execution_count": 83,
   "metadata": {},
   "outputs": [
    {
     "data": {
      "text/plain": [
       "array([0, 1, 2, 3, 4])"
      ]
     },
     "execution_count": 83,
     "metadata": {},
     "output_type": "execute_result"
    }
   ],
   "source": [
    "rating_valid_test.timestamp.values[0:5].argsort()"
   ]
  },
  {
   "cell_type": "code",
   "execution_count": 84,
   "metadata": {},
   "outputs": [
    {
     "data": {
      "text/plain": [
       "(array([22, 23, 18, 32, 31, 30, 29, 28, 27, 26, 25, 24, 21, 20, 19, 17, 16,\n",
       "        15, 14, 13, 12, 11, 10,  8,  7,  6,  2,  1,  9,  5,  4,  3]),\n",
       " array([33, 34, 35]),\n",
       " array([35, 36]))"
      ]
     },
     "execution_count": 84,
     "metadata": {},
     "output_type": "execute_result"
    }
   ],
   "source": [
    "rating_train.time.unique(),rating_valid.time.unique(),rating_test.time.unique()"
   ]
  },
  {
   "cell_type": "code",
   "execution_count": 85,
   "metadata": {},
   "outputs": [
    {
     "data": {
      "text/plain": [
       "rating    3.70334\n",
       "dtype: float64"
      ]
     },
     "execution_count": 85,
     "metadata": {},
     "output_type": "execute_result"
    }
   ],
   "source": [
    "s_rating[s_rating.time.isin(range(33))].groupby('iid').agg({\"rating\":'count'}).mean()"
   ]
  },
  {
   "cell_type": "code",
   "execution_count": 86,
   "metadata": {},
   "outputs": [],
   "source": [
    "train_user = rating_train['uid'].unique()\n",
    "train_item = rating_train['iid'].unique()\n",
    "rating_valid['not_cold'] = rating_valid[['uid','iid']].apply(lambda x: x.uid in train_user and x.iid in train_item, axis=1).astype(\"int\")\n",
    "rating_test['not_cold'] = rating_test[['uid','iid']].apply(lambda x: x.uid in train_user and x.iid in train_item, axis=1).astype(\"int\")"
   ]
  },
  {
   "cell_type": "code",
   "execution_count": 87,
   "metadata": {},
   "outputs": [
    {
     "data": {
      "text/plain": [
       "(count    123.000000\n",
       " mean       0.105691\n",
       " std        0.308699\n",
       " min        0.000000\n",
       " 25%        0.000000\n",
       " 50%        0.000000\n",
       " 75%        0.000000\n",
       " max        1.000000\n",
       " Name: not_cold, dtype: float64,\n",
       " count    123.000000\n",
       " mean       0.065041\n",
       " std        0.247606\n",
       " min        0.000000\n",
       " 25%        0.000000\n",
       " 50%        0.000000\n",
       " 75%        0.000000\n",
       " max        1.000000\n",
       " Name: not_cold, dtype: float64)"
      ]
     },
     "execution_count": 87,
     "metadata": {},
     "output_type": "execute_result"
    }
   ],
   "source": [
    "rating_valid['not_cold'].describe(), rating_test['not_cold'].describe()"
   ]
  },
  {
   "cell_type": "code",
   "execution_count": 88,
   "metadata": {},
   "outputs": [
    {
     "data": {
      "text/plain": [
       "((1885, 11), (123, 12), (123, 12))"
      ]
     },
     "execution_count": 88,
     "metadata": {},
     "output_type": "execute_result"
    }
   ],
   "source": [
    "rating_train.shape, rating_valid.shape, rating_test.shape"
   ]
  },
  {
   "cell_type": "code",
   "execution_count": 89,
   "metadata": {},
   "outputs": [
    {
     "data": {
      "text/plain": [
       "(            label            \n",
       "             count         sum\n",
       " count  386.000000  386.000000\n",
       " mean     4.883420    4.106218\n",
       " std      1.777021    2.194826\n",
       " min      1.000000    0.000000\n",
       " 25%      4.000000    2.000000\n",
       " 50%      5.000000    5.000000\n",
       " 75%      6.000000    5.000000\n",
       " max     14.000000   13.000000,\n",
       "             label            \n",
       "             count         sum\n",
       " count  509.000000  509.000000\n",
       " mean     3.703340    3.113949\n",
       " std     24.025503   22.590387\n",
       " min      1.000000    0.000000\n",
       " 25%      1.000000    0.000000\n",
       " 50%      1.000000    1.000000\n",
       " 75%      2.000000    1.000000\n",
       " max    442.000000  416.000000)"
      ]
     },
     "execution_count": 89,
     "metadata": {},
     "output_type": "execute_result"
    }
   ],
   "source": [
    "rating_train.groupby(\"uid\").agg({'label':['count','sum']}).describe(), rating_train.groupby(\"iid\").agg({'label':['count','sum']}).describe()"
   ]
  },
  {
   "cell_type": "code",
   "execution_count": 138,
   "metadata": {},
   "outputs": [
    {
     "data": {
      "text/plain": [
       "(              label              \n",
       "               count           sum\n",
       " count  21700.000000  21700.000000\n",
       " mean      33.217005     19.755161\n",
       " std       31.872163     21.036342\n",
       " min        1.000000      0.000000\n",
       " 25%       17.000000      8.000000\n",
       " 50%       24.000000     15.000000\n",
       " 75%       38.000000     24.000000\n",
       " max      698.000000    642.000000,\n",
       "               label              \n",
       "               count           sum\n",
       " count  52444.000000  52444.000000\n",
       " mean      13.744356      8.174186\n",
       " std       25.850157     17.063427\n",
       " min        1.000000      0.000000\n",
       " 25%        2.000000      1.000000\n",
       " 50%        6.000000      3.000000\n",
       " 75%       15.000000      8.000000\n",
       " max     2120.000000   1272.000000)"
      ]
     },
     "execution_count": 138,
     "metadata": {},
     "output_type": "execute_result"
    }
   ],
   "source": [
    "rating_train.groupby(\"uid\").agg({'label':['count','sum']}).describe(), rating_train.groupby(\"iid\").agg({'label':['count','sum']}).describe()"
   ]
  },
  {
   "cell_type": "code",
   "execution_count": 90,
   "metadata": {},
   "outputs": [
    {
     "data": {
      "text/plain": [
       "(           label           \n",
       "            count        sum\n",
       " count  34.000000  34.000000\n",
       " mean    3.617647   3.470588\n",
       " std     2.089145   2.246011\n",
       " min     1.000000   0.000000\n",
       " 25%     1.000000   1.000000\n",
       " 50%     5.000000   5.000000\n",
       " 75%     5.000000   5.000000\n",
       " max     7.000000   7.000000,\n",
       "            label           \n",
       "            count        sum\n",
       " count  38.000000  38.000000\n",
       " mean    3.236842   3.105263\n",
       " std     6.740095   6.793437\n",
       " min     1.000000   0.000000\n",
       " 25%     1.000000   1.000000\n",
       " 50%     1.000000   1.000000\n",
       " 75%     1.000000   1.000000\n",
       " max    36.000000  36.000000)"
      ]
     },
     "execution_count": 90,
     "metadata": {},
     "output_type": "execute_result"
    }
   ],
   "source": [
    "# rating_valid.groupby(\"uid\").agg({'label':['count','sum']}).describe()\n",
    "rating_test.groupby(\"uid\").agg({'label':['count','sum']}).describe(), rating_test.groupby(\"iid\").agg({'label':['count','sum']}).describe()\n",
    "# rating_valid_test.groupby(\"uid\").agg({'label':['count','sum']}).describe()"
   ]
  },
  {
   "attachments": {},
   "cell_type": "markdown",
   "metadata": {},
   "source": [
    "## split by time order"
   ]
  },
  {
   "cell_type": "code",
   "execution_count": 91,
   "metadata": {},
   "outputs": [
    {
     "data": {
      "text/plain": [
       "((1885, 11), (123, 12), (123, 12))"
      ]
     },
     "execution_count": 91,
     "metadata": {},
     "output_type": "execute_result"
    }
   ],
   "source": [
    "rating_train.shape, rating_valid.shape, rating_test.shape"
   ]
  },
  {
   "cell_type": "code",
   "execution_count": 92,
   "metadata": {},
   "outputs": [],
   "source": [
    "rating_valid_f = rating_valid\n",
    "rating_test_f = rating_test"
   ]
  },
  {
   "cell_type": "code",
   "execution_count": 93,
   "metadata": {},
   "outputs": [],
   "source": [
    "def filter_cold_start(train,valid,test):\n",
    "    train_user = train.uid.unique()\n",
    "    train_item = train.iid.unique()\n",
    "    valid = valid[valid['uid'].isin(train_user)]\n",
    "    test = test[test['uid'].isin(train_user)]\n",
    "    valid = valid[valid['iid'].isin(train_item)]\n",
    "    test = test[test['iid'].isin(train_item)]\n",
    "    return valid, test"
   ]
  },
  {
   "cell_type": "code",
   "execution_count": 94,
   "metadata": {},
   "outputs": [
    {
     "data": {
      "text/plain": [
       "(0.8408488063660478, 0.7967479674796748, 0.959349593495935)"
      ]
     },
     "execution_count": 94,
     "metadata": {},
     "output_type": "execute_result"
    }
   ],
   "source": [
    "rating_train.label.mean(), rating_valid.label.mean(), rating_test.label.mean()"
   ]
  },
  {
   "cell_type": "code",
   "execution_count": 95,
   "metadata": {},
   "outputs": [
    {
     "data": {
      "text/plain": [
       "(0.7967479674796748, 0.959349593495935)"
      ]
     },
     "execution_count": 95,
     "metadata": {},
     "output_type": "execute_result"
    }
   ],
   "source": [
    "rating_valid_f.label.mean(), rating_test_f.label.mean() "
   ]
  },
  {
   "cell_type": "code",
   "execution_count": 96,
   "metadata": {},
   "outputs": [
    {
     "data": {
      "text/plain": [
       "Index(['index', 'iid', 'uid', 'rating', 'timestamp', 'title', 'description',\n",
       "       'price', 'brand', 'time', 'label', 'not_cold'],\n",
       "      dtype='object')"
      ]
     },
     "execution_count": 96,
     "metadata": {},
     "output_type": "execute_result"
    }
   ],
   "source": [
    "rating_valid_f.columns"
   ]
  },
  {
   "cell_type": "code",
   "execution_count": 97,
   "metadata": {},
   "outputs": [],
   "source": [
    "import copy\n",
    "def deal_with_each_u_both(x,u):\n",
    "    items = np.array(x.iid)\n",
    "    labels = np.array(x.label)\n",
    "    titles = np.array(x.title)\n",
    "    descriptions = np.array(x.description)\n",
    "    timestamp = np.array(x.timestamp)\n",
    "    flags =  np.array(x.flag) \n",
    "    his = [0] # adding a '0' by default\n",
    "    his_label = [0]\n",
    "    # his_title = ['']\n",
    "    # his_desc = ['']\n",
    "    results = []\n",
    "    for i in range(items.shape[0]):\n",
    "        results.append((u, items[i], timestamp[i], np.array(his), np.array(his_label), labels[i], flags[i]))\n",
    "        # results.append((u, items[i], titles[i], timestamp[i], np.array(his), np.array(his_label), copy.copy(his_title), labels[i], flags[i]))\n",
    "        # training data\n",
    "        # if labels[i] > 0: # positive \n",
    "        his.append(items[i])\n",
    "        his_label.append(labels[i])\n",
    "        # his_title.append(titles[i])\n",
    "        # his_desc.append(descriptions[i])\n",
    "    return results\n",
    "\n",
    "def deal_with_each_u(x,u):\n",
    "    items = np.array(x.iid)\n",
    "    labels = np.array(x.label)\n",
    "    titles = np.array(x.title)\n",
    "    descriptions = np.array(x.description)\n",
    "    timestamp = np.array(x.timestamp)\n",
    "    flags =  np.array(x.flag) \n",
    "    his = [0] # adding a '0' by default\n",
    "    # his_title = ['']\n",
    "    # his_desc = ['']\n",
    "    results = []\n",
    "    for i in range(items.shape[0]):\n",
    "        results.append((u, items[i], timestamp[i], np.array(his), labels[i], flags[i]))\n",
    "        # results.append((u, items[i], titles[i], timestamp[i], np.array(his), copy.copy(his_title), labels[i], flags[i]))\n",
    "        # training data\n",
    "        if labels[i] > 0: # positive \n",
    "            his.append(items[i])\n",
    "            # his_title.append(titles[i])\n",
    "    return results"
   ]
  },
  {
   "cell_type": "code",
   "execution_count": 98,
   "metadata": {},
   "outputs": [],
   "source": [
    "rating_train = rating_train.copy()"
   ]
  },
  {
   "cell_type": "code",
   "execution_count": 99,
   "metadata": {},
   "outputs": [],
   "source": [
    "rating_train['flag'] =  pd.DataFrame(np.ones(rating_train.shape[0])*-1, index=rating_train.index)\n",
    "rating_valid_f['flag'] = pd.DataFrame(np.zeros(rating_valid_f.shape[0]), index=rating_valid_f.index)\n",
    "rating_test_f['flag'] = pd.DataFrame(np.ones(rating_test_f.shape[0]), index=rating_test_f.index)\n",
    "data_ = pd.concat([rating_train, rating_valid_f, rating_test_f],axis=0,ignore_index=True)\n",
    "data_ = data_.sort_values(by=['uid','timestamp'])\n",
    "u_inter_all = data_.groupby('uid').agg({'iid':list, 'label':list, 'title':list, 'timestamp':list, 'description':list, 'flag':list})"
   ]
  },
  {
   "cell_type": "code",
   "execution_count": 100,
   "metadata": {},
   "outputs": [
    {
     "data": {
      "text/plain": [
       "array([-1.,  1.,  0.])"
      ]
     },
     "execution_count": 100,
     "metadata": {},
     "output_type": "execute_result"
    }
   ],
   "source": [
    "data_.flag.unique()"
   ]
  },
  {
   "cell_type": "code",
   "execution_count": 101,
   "metadata": {},
   "outputs": [],
   "source": [
    "results = []\n",
    "results_both = []\n",
    "for u in u_inter_all.index:\n",
    "    results.extend(deal_with_each_u(u_inter_all.loc[u],u))\n",
    "    results_both.extend(deal_with_each_u_both(u_inter_all.loc[u],u))"
   ]
  },
  {
   "cell_type": "code",
   "execution_count": 102,
   "metadata": {},
   "outputs": [],
   "source": [
    "def list2pd(seqs):\n",
    "    u_, i_, time_, label_, his_, flag_ = [],[],[],[],[],[]\n",
    "    if len(seqs[0]) == 7:\n",
    "        his_label_ = []\n",
    "    for re_ in seqs:\n",
    "        u_.append(re_[0])\n",
    "        i_.append(re_[1])\n",
    "        time_.append(re_[2])\n",
    "        his_.append(re_[3])\n",
    "        if len(seqs[0]) == 7:\n",
    "            his_label_.append(re_[4])\n",
    "        label_.append(re_[-2])\n",
    "        flag_.append(re_[-1])\n",
    "    columns = {\"uid\":u_,'iid':i_,'label':label_, 'timestamp': time_ , 'his':his_, 'flag': flag_}\n",
    "    if len(seqs[0]) == 7:\n",
    "        columns['his_label']=his_label_\n",
    "    return pd.DataFrame(columns)"
   ]
  },
  {
   "cell_type": "code",
   "execution_count": 115,
   "metadata": {},
   "outputs": [
    {
     "data": {
      "text/html": [
       "<div>\n",
       "<style scoped>\n",
       "    .dataframe tbody tr th:only-of-type {\n",
       "        vertical-align: middle;\n",
       "    }\n",
       "\n",
       "    .dataframe tbody tr th {\n",
       "        vertical-align: top;\n",
       "    }\n",
       "\n",
       "    .dataframe thead th {\n",
       "        text-align: right;\n",
       "    }\n",
       "</style>\n",
       "<table border=\"1\" class=\"dataframe\">\n",
       "  <thead>\n",
       "    <tr style=\"text-align: right;\">\n",
       "      <th></th>\n",
       "      <th>uid</th>\n",
       "      <th>iid</th>\n",
       "      <th>label</th>\n",
       "      <th>timestamp</th>\n",
       "      <th>his</th>\n",
       "      <th>flag</th>\n",
       "      <th>his_label</th>\n",
       "    </tr>\n",
       "  </thead>\n",
       "  <tbody>\n",
       "    <tr>\n",
       "      <th>0</th>\n",
       "      <td>1</td>\n",
       "      <td>177</td>\n",
       "      <td>0</td>\n",
       "      <td>1.395014e+09</td>\n",
       "      <td>[0]</td>\n",
       "      <td>-1.0</td>\n",
       "      <td>[0]</td>\n",
       "    </tr>\n",
       "    <tr>\n",
       "      <th>1</th>\n",
       "      <td>1</td>\n",
       "      <td>181</td>\n",
       "      <td>0</td>\n",
       "      <td>1.408406e+09</td>\n",
       "      <td>[0, 177]</td>\n",
       "      <td>-1.0</td>\n",
       "      <td>[0, 0]</td>\n",
       "    </tr>\n",
       "    <tr>\n",
       "      <th>2</th>\n",
       "      <td>1</td>\n",
       "      <td>232</td>\n",
       "      <td>0</td>\n",
       "      <td>1.423786e+09</td>\n",
       "      <td>[0, 177, 181]</td>\n",
       "      <td>-1.0</td>\n",
       "      <td>[0, 0, 0]</td>\n",
       "    </tr>\n",
       "    <tr>\n",
       "      <th>3</th>\n",
       "      <td>2</td>\n",
       "      <td>56</td>\n",
       "      <td>1</td>\n",
       "      <td>1.397606e+09</td>\n",
       "      <td>[0]</td>\n",
       "      <td>-1.0</td>\n",
       "      <td>[0]</td>\n",
       "    </tr>\n",
       "    <tr>\n",
       "      <th>4</th>\n",
       "      <td>2</td>\n",
       "      <td>1</td>\n",
       "      <td>1</td>\n",
       "      <td>1.444262e+09</td>\n",
       "      <td>[0, 56]</td>\n",
       "      <td>-1.0</td>\n",
       "      <td>[0, 1]</td>\n",
       "    </tr>\n",
       "    <tr>\n",
       "      <th>5</th>\n",
       "      <td>2</td>\n",
       "      <td>50</td>\n",
       "      <td>1</td>\n",
       "      <td>1.444262e+09</td>\n",
       "      <td>[0, 56, 1]</td>\n",
       "      <td>-1.0</td>\n",
       "      <td>[0, 1, 1]</td>\n",
       "    </tr>\n",
       "    <tr>\n",
       "      <th>6</th>\n",
       "      <td>2</td>\n",
       "      <td>50</td>\n",
       "      <td>1</td>\n",
       "      <td>1.444262e+09</td>\n",
       "      <td>[0, 56, 1, 50]</td>\n",
       "      <td>-1.0</td>\n",
       "      <td>[0, 1, 1, 1]</td>\n",
       "    </tr>\n",
       "    <tr>\n",
       "      <th>7</th>\n",
       "      <td>2</td>\n",
       "      <td>143</td>\n",
       "      <td>1</td>\n",
       "      <td>1.444262e+09</td>\n",
       "      <td>[0, 56, 1, 50, 50]</td>\n",
       "      <td>-1.0</td>\n",
       "      <td>[0, 1, 1, 1, 1]</td>\n",
       "    </tr>\n",
       "    <tr>\n",
       "      <th>8</th>\n",
       "      <td>2</td>\n",
       "      <td>520</td>\n",
       "      <td>1</td>\n",
       "      <td>1.444262e+09</td>\n",
       "      <td>[0, 56, 1, 50, 50, 143]</td>\n",
       "      <td>-1.0</td>\n",
       "      <td>[0, 1, 1, 1, 1, 1]</td>\n",
       "    </tr>\n",
       "    <tr>\n",
       "      <th>9</th>\n",
       "      <td>3</td>\n",
       "      <td>22</td>\n",
       "      <td>1</td>\n",
       "      <td>1.402445e+09</td>\n",
       "      <td>[0]</td>\n",
       "      <td>-1.0</td>\n",
       "      <td>[0]</td>\n",
       "    </tr>\n",
       "  </tbody>\n",
       "</table>\n",
       "</div>"
      ],
      "text/plain": [
       "   uid  iid  label     timestamp                      his  flag  \\\n",
       "0    1  177      0  1.395014e+09                      [0]  -1.0   \n",
       "1    1  181      0  1.408406e+09                 [0, 177]  -1.0   \n",
       "2    1  232      0  1.423786e+09            [0, 177, 181]  -1.0   \n",
       "3    2   56      1  1.397606e+09                      [0]  -1.0   \n",
       "4    2    1      1  1.444262e+09                  [0, 56]  -1.0   \n",
       "5    2   50      1  1.444262e+09               [0, 56, 1]  -1.0   \n",
       "6    2   50      1  1.444262e+09           [0, 56, 1, 50]  -1.0   \n",
       "7    2  143      1  1.444262e+09       [0, 56, 1, 50, 50]  -1.0   \n",
       "8    2  520      1  1.444262e+09  [0, 56, 1, 50, 50, 143]  -1.0   \n",
       "9    3   22      1  1.402445e+09                      [0]  -1.0   \n",
       "\n",
       "            his_label  \n",
       "0                 [0]  \n",
       "1              [0, 0]  \n",
       "2           [0, 0, 0]  \n",
       "3                 [0]  \n",
       "4              [0, 1]  \n",
       "5           [0, 1, 1]  \n",
       "6        [0, 1, 1, 1]  \n",
       "7     [0, 1, 1, 1, 1]  \n",
       "8  [0, 1, 1, 1, 1, 1]  \n",
       "9                 [0]  "
      ]
     },
     "execution_count": 115,
     "metadata": {},
     "output_type": "execute_result"
    }
   ],
   "source": [
    "data_ = list2pd(results_both)\n",
    "data_.head(10)"
   ]
  },
  {
   "cell_type": "code",
   "execution_count": 116,
   "metadata": {},
   "outputs": [
    {
     "data": {
      "text/plain": [
       "count    2131.000000\n",
       "mean        0.845143\n",
       "std         0.361853\n",
       "min         0.000000\n",
       "25%         1.000000\n",
       "50%         1.000000\n",
       "75%         1.000000\n",
       "max         1.000000\n",
       "Name: label, dtype: float64"
      ]
     },
     "execution_count": 116,
     "metadata": {},
     "output_type": "execute_result"
    }
   ],
   "source": [
    "data_.label.describe()"
   ]
  },
  {
   "cell_type": "code",
   "execution_count": 117,
   "metadata": {},
   "outputs": [
    {
     "data": {
      "text/html": [
       "<div>\n",
       "<style scoped>\n",
       "    .dataframe tbody tr th:only-of-type {\n",
       "        vertical-align: middle;\n",
       "    }\n",
       "\n",
       "    .dataframe tbody tr th {\n",
       "        vertical-align: top;\n",
       "    }\n",
       "\n",
       "    .dataframe thead th {\n",
       "        text-align: right;\n",
       "    }\n",
       "</style>\n",
       "<table border=\"1\" class=\"dataframe\">\n",
       "  <thead>\n",
       "    <tr style=\"text-align: right;\">\n",
       "      <th></th>\n",
       "      <th>uid</th>\n",
       "      <th>iid</th>\n",
       "      <th>label</th>\n",
       "      <th>timestamp</th>\n",
       "      <th>his</th>\n",
       "      <th>flag</th>\n",
       "      <th>his_label</th>\n",
       "    </tr>\n",
       "  </thead>\n",
       "  <tbody>\n",
       "    <tr>\n",
       "      <th>2126</th>\n",
       "      <td>495</td>\n",
       "      <td>572</td>\n",
       "      <td>1</td>\n",
       "      <td>1.466813e+09</td>\n",
       "      <td>[0, 613, 614, 562]</td>\n",
       "      <td>-1.0</td>\n",
       "      <td>[0, 1, 1, 1]</td>\n",
       "    </tr>\n",
       "    <tr>\n",
       "      <th>2127</th>\n",
       "      <td>498</td>\n",
       "      <td>605</td>\n",
       "      <td>1</td>\n",
       "      <td>1.460678e+09</td>\n",
       "      <td>[0]</td>\n",
       "      <td>-1.0</td>\n",
       "      <td>[0]</td>\n",
       "    </tr>\n",
       "    <tr>\n",
       "      <th>2128</th>\n",
       "      <td>498</td>\n",
       "      <td>612</td>\n",
       "      <td>1</td>\n",
       "      <td>1.461802e+09</td>\n",
       "      <td>[0, 605]</td>\n",
       "      <td>-1.0</td>\n",
       "      <td>[0, 1]</td>\n",
       "    </tr>\n",
       "    <tr>\n",
       "      <th>2129</th>\n",
       "      <td>499</td>\n",
       "      <td>605</td>\n",
       "      <td>1</td>\n",
       "      <td>1.460419e+09</td>\n",
       "      <td>[0]</td>\n",
       "      <td>-1.0</td>\n",
       "      <td>[0]</td>\n",
       "    </tr>\n",
       "    <tr>\n",
       "      <th>2130</th>\n",
       "      <td>499</td>\n",
       "      <td>612</td>\n",
       "      <td>1</td>\n",
       "      <td>1.461715e+09</td>\n",
       "      <td>[0, 605]</td>\n",
       "      <td>-1.0</td>\n",
       "      <td>[0, 1]</td>\n",
       "    </tr>\n",
       "  </tbody>\n",
       "</table>\n",
       "</div>"
      ],
      "text/plain": [
       "      uid  iid  label     timestamp                 his  flag     his_label\n",
       "2126  495  572      1  1.466813e+09  [0, 613, 614, 562]  -1.0  [0, 1, 1, 1]\n",
       "2127  498  605      1  1.460678e+09                 [0]  -1.0           [0]\n",
       "2128  498  612      1  1.461802e+09            [0, 605]  -1.0        [0, 1]\n",
       "2129  499  605      1  1.460419e+09                 [0]  -1.0           [0]\n",
       "2130  499  612      1  1.461715e+09            [0, 605]  -1.0        [0, 1]"
      ]
     },
     "execution_count": 117,
     "metadata": {},
     "output_type": "execute_result"
    }
   ],
   "source": [
    "data_.tail(5)"
   ]
  },
  {
   "cell_type": "code",
   "execution_count": 118,
   "metadata": {},
   "outputs": [
    {
     "data": {
      "text/plain": [
       "((1885, 7), (123, 7), (123, 7))"
      ]
     },
     "execution_count": 118,
     "metadata": {},
     "output_type": "execute_result"
    }
   ],
   "source": [
    "train_ = data_[data_['flag'].isin([-1])].copy()\n",
    "valid_ = data_[data_['flag'].isin([0])].copy()\n",
    "test_ = data_[data_['flag'].isin([1])].copy()\n",
    "train_.shape,valid_.shape,test_.shape"
   ]
  },
  {
   "cell_type": "code",
   "execution_count": 119,
   "metadata": {},
   "outputs": [],
   "source": [
    "train_user = train_['uid'].unique()\n",
    "train_item = train_['iid'].unique()\n",
    "valid_['not_cold'] = valid_[['uid','iid']].apply(lambda x: x.uid in train_user and x.iid in train_item, axis=1).astype(\"int\")\n",
    "test_['not_cold'] = test_[['uid','iid']].apply(lambda x: x.uid in train_user and x.iid in train_item, axis=1).astype(\"int\")"
   ]
  },
  {
   "cell_type": "code",
   "execution_count": 120,
   "metadata": {},
   "outputs": [
    {
     "data": {
      "text/plain": [
       "(count    123.000000\n",
       " mean       0.105691\n",
       " std        0.308699\n",
       " min        0.000000\n",
       " 25%        0.000000\n",
       " 50%        0.000000\n",
       " 75%        0.000000\n",
       " max        1.000000\n",
       " Name: not_cold, dtype: float64,\n",
       " count    123.000000\n",
       " mean       0.065041\n",
       " std        0.247606\n",
       " min        0.000000\n",
       " 25%        0.000000\n",
       " 50%        0.000000\n",
       " 75%        0.000000\n",
       " max        1.000000\n",
       " Name: not_cold, dtype: float64)"
      ]
     },
     "execution_count": 120,
     "metadata": {},
     "output_type": "execute_result"
    }
   ],
   "source": [
    "valid_['not_cold'].describe(), test_['not_cold'].describe()"
   ]
  },
  {
   "cell_type": "code",
   "execution_count": 121,
   "metadata": {},
   "outputs": [
    {
     "data": {
      "text/html": [
       "<div>\n",
       "<style scoped>\n",
       "    .dataframe tbody tr th:only-of-type {\n",
       "        vertical-align: middle;\n",
       "    }\n",
       "\n",
       "    .dataframe tbody tr th {\n",
       "        vertical-align: top;\n",
       "    }\n",
       "\n",
       "    .dataframe thead th {\n",
       "        text-align: right;\n",
       "    }\n",
       "</style>\n",
       "<table border=\"1\" class=\"dataframe\">\n",
       "  <thead>\n",
       "    <tr style=\"text-align: right;\">\n",
       "      <th></th>\n",
       "      <th>uid</th>\n",
       "      <th>iid</th>\n",
       "      <th>label</th>\n",
       "      <th>timestamp</th>\n",
       "      <th>his</th>\n",
       "      <th>flag</th>\n",
       "      <th>his_label</th>\n",
       "      <th>not_cold</th>\n",
       "    </tr>\n",
       "  </thead>\n",
       "  <tbody>\n",
       "    <tr>\n",
       "      <th>0</th>\n",
       "      <td>1</td>\n",
       "      <td>177</td>\n",
       "      <td>0</td>\n",
       "      <td>1.395014e+09</td>\n",
       "      <td>[0]</td>\n",
       "      <td>-1.0</td>\n",
       "      <td>[0]</td>\n",
       "      <td>1</td>\n",
       "    </tr>\n",
       "    <tr>\n",
       "      <th>1</th>\n",
       "      <td>1</td>\n",
       "      <td>181</td>\n",
       "      <td>0</td>\n",
       "      <td>1.408406e+09</td>\n",
       "      <td>[0, 177]</td>\n",
       "      <td>-1.0</td>\n",
       "      <td>[0, 0]</td>\n",
       "      <td>1</td>\n",
       "    </tr>\n",
       "  </tbody>\n",
       "</table>\n",
       "</div>"
      ],
      "text/plain": [
       "   uid  iid  label     timestamp       his  flag his_label  not_cold\n",
       "0    1  177      0  1.395014e+09       [0]  -1.0       [0]         1\n",
       "1    1  181      0  1.408406e+09  [0, 177]  -1.0    [0, 0]         1"
      ]
     },
     "execution_count": 121,
     "metadata": {},
     "output_type": "execute_result"
    }
   ],
   "source": [
    "train_['not_cold'] = pd.DataFrame(np.ones(train_.shape[0]),index=train_.index).astype(\"int\")\n",
    "train_.head(2)"
   ]
  },
  {
   "cell_type": "code",
   "execution_count": 122,
   "metadata": {},
   "outputs": [],
   "source": [
    "save_path = \"/home/yuqihang/workroot/models/data/collm/beautydu\"\n",
    "os.makedirs(save_path, exist_ok=True)\n",
    "train_.to_pickle(os.path.join(save_path,\"train_ood2.pkl\"))\n",
    "valid_.to_pickle(os.path.join(save_path,\"valid_ood2.pkl\"))\n",
    "test_.to_pickle(os.path.join(save_path,\"test_ood2.pkl\"))"
   ]
  },
  {
   "cell_type": "code",
   "execution_count": 123,
   "metadata": {},
   "outputs": [
    {
     "data": {
      "text/html": [
       "<div>\n",
       "<style scoped>\n",
       "    .dataframe tbody tr th:only-of-type {\n",
       "        vertical-align: middle;\n",
       "    }\n",
       "\n",
       "    .dataframe tbody tr th {\n",
       "        vertical-align: top;\n",
       "    }\n",
       "\n",
       "    .dataframe thead th {\n",
       "        text-align: right;\n",
       "    }\n",
       "</style>\n",
       "<table border=\"1\" class=\"dataframe\">\n",
       "  <thead>\n",
       "    <tr style=\"text-align: right;\">\n",
       "      <th></th>\n",
       "      <th>uid</th>\n",
       "      <th>iid</th>\n",
       "      <th>label</th>\n",
       "      <th>timestamp</th>\n",
       "      <th>his</th>\n",
       "      <th>flag</th>\n",
       "      <th>his_label</th>\n",
       "      <th>not_cold</th>\n",
       "    </tr>\n",
       "  </thead>\n",
       "  <tbody>\n",
       "    <tr>\n",
       "      <th>0</th>\n",
       "      <td>1</td>\n",
       "      <td>177</td>\n",
       "      <td>0</td>\n",
       "      <td>1.395014e+09</td>\n",
       "      <td>[0]</td>\n",
       "      <td>-1.0</td>\n",
       "      <td>[0]</td>\n",
       "      <td>1</td>\n",
       "    </tr>\n",
       "    <tr>\n",
       "      <th>1</th>\n",
       "      <td>1</td>\n",
       "      <td>181</td>\n",
       "      <td>0</td>\n",
       "      <td>1.408406e+09</td>\n",
       "      <td>[0, 177]</td>\n",
       "      <td>-1.0</td>\n",
       "      <td>[0, 0]</td>\n",
       "      <td>1</td>\n",
       "    </tr>\n",
       "  </tbody>\n",
       "</table>\n",
       "</div>"
      ],
      "text/plain": [
       "   uid  iid  label     timestamp       his  flag his_label  not_cold\n",
       "0    1  177      0  1.395014e+09       [0]  -1.0       [0]         1\n",
       "1    1  181      0  1.408406e+09  [0, 177]  -1.0    [0, 0]         1"
      ]
     },
     "execution_count": 123,
     "metadata": {},
     "output_type": "execute_result"
    }
   ],
   "source": [
    "train_.head(2)"
   ]
  },
  {
   "cell_type": "code",
   "execution_count": 124,
   "metadata": {},
   "outputs": [
    {
     "data": {
      "text/plain": [
       "(123, 8)"
      ]
     },
     "execution_count": 124,
     "metadata": {},
     "output_type": "execute_result"
    }
   ],
   "source": [
    "valid_.shape"
   ]
  },
  {
   "cell_type": "code",
   "execution_count": 139,
   "metadata": {},
   "outputs": [],
   "source": [
    "# valid_small = valid_.sample(frac=0.25,random_state=2025)\n",
    "# valid_small.to_pickle(os.path.join(save_path,\"valid_small_ood2.pkl\"))\n",
    "# test_small = test_.sample(frac=0.25,random_state=2025)\n",
    "# test_small.to_pickle(os.path.join(save_path,\"test_small_ood2.pkl\"))\n",
    "# test_tiny= test_.sample(n=200, random_state=2025)\n",
    "# test_tiny.to_pickle(os.path.join(save_path,\"test_tiny_ood2.pkl\"))"
   ]
  },
  {
   "cell_type": "code",
   "execution_count": 140,
   "metadata": {},
   "outputs": [
    {
     "data": {
      "text/plain": [
       "(14066, 7)"
      ]
     },
     "execution_count": 140,
     "metadata": {},
     "output_type": "execute_result"
    }
   ],
   "source": [
    "valid_small.shape"
   ]
  },
  {
   "cell_type": "code",
   "execution_count": 114,
   "metadata": {},
   "outputs": [
    {
     "data": {
      "text/plain": [
       "count    1885.000000\n",
       "mean        2.945889\n",
       "std         1.797096\n",
       "min         1.000000\n",
       "25%         1.000000\n",
       "50%         3.000000\n",
       "75%         4.000000\n",
       "max        14.000000\n",
       "Name: his, dtype: float64"
      ]
     },
     "execution_count": 114,
     "metadata": {},
     "output_type": "execute_result"
    }
   ],
   "source": [
    "train_['his'].apply(len).describe()"
   ]
  },
  {
   "cell_type": "code",
   "execution_count": 111,
   "metadata": {},
   "outputs": [
    {
     "data": {
      "text/plain": [
       "(0.6336170043240162, 0.6288648821244213, 0.6356056977631136)"
      ]
     },
     "execution_count": 111,
     "metadata": {},
     "output_type": "execute_result"
    }
   ],
   "source": [
    "train_.label.mean(), test_.label.mean(), valid_.label.mean()  "
   ]
  },
  {
   "cell_type": "code",
   "execution_count": 94,
   "metadata": {},
   "outputs": [
    {
     "data": {
      "text/html": [
       "<div>\n",
       "<style scoped>\n",
       "    .dataframe tbody tr th:only-of-type {\n",
       "        vertical-align: middle;\n",
       "    }\n",
       "\n",
       "    .dataframe tbody tr th {\n",
       "        vertical-align: top;\n",
       "    }\n",
       "\n",
       "    .dataframe thead tr th {\n",
       "        text-align: left;\n",
       "    }\n",
       "</style>\n",
       "<table border=\"1\" class=\"dataframe\">\n",
       "  <thead>\n",
       "    <tr>\n",
       "      <th></th>\n",
       "      <th colspan=\"2\" halign=\"left\">label</th>\n",
       "    </tr>\n",
       "    <tr>\n",
       "      <th></th>\n",
       "      <th>count</th>\n",
       "      <th>sum</th>\n",
       "    </tr>\n",
       "  </thead>\n",
       "  <tbody>\n",
       "    <tr>\n",
       "      <th>count</th>\n",
       "      <td>11673.000000</td>\n",
       "      <td>11673.000000</td>\n",
       "    </tr>\n",
       "    <tr>\n",
       "      <th>mean</th>\n",
       "      <td>3.219481</td>\n",
       "      <td>1.986807</td>\n",
       "    </tr>\n",
       "    <tr>\n",
       "      <th>std</th>\n",
       "      <td>3.586153</td>\n",
       "      <td>2.719840</td>\n",
       "    </tr>\n",
       "    <tr>\n",
       "      <th>min</th>\n",
       "      <td>1.000000</td>\n",
       "      <td>0.000000</td>\n",
       "    </tr>\n",
       "    <tr>\n",
       "      <th>25%</th>\n",
       "      <td>1.000000</td>\n",
       "      <td>1.000000</td>\n",
       "    </tr>\n",
       "    <tr>\n",
       "      <th>50%</th>\n",
       "      <td>2.000000</td>\n",
       "      <td>1.000000</td>\n",
       "    </tr>\n",
       "    <tr>\n",
       "      <th>75%</th>\n",
       "      <td>4.000000</td>\n",
       "      <td>2.000000</td>\n",
       "    </tr>\n",
       "    <tr>\n",
       "      <th>max</th>\n",
       "      <td>57.000000</td>\n",
       "      <td>49.000000</td>\n",
       "    </tr>\n",
       "  </tbody>\n",
       "</table>\n",
       "</div>"
      ],
      "text/plain": [
       "              label              \n",
       "              count           sum\n",
       "count  11673.000000  11673.000000\n",
       "mean       3.219481      1.986807\n",
       "std        3.586153      2.719840\n",
       "min        1.000000      0.000000\n",
       "25%        1.000000      1.000000\n",
       "50%        2.000000      1.000000\n",
       "75%        4.000000      2.000000\n",
       "max       57.000000     49.000000"
      ]
     },
     "execution_count": 94,
     "metadata": {},
     "output_type": "execute_result"
    }
   ],
   "source": [
    "test_.groupby(\"uid\").agg({\"label\":['count','sum']}).describe()"
   ]
  },
  {
   "cell_type": "code",
   "execution_count": 82,
   "metadata": {},
   "outputs": [
    {
     "data": {
      "text/html": [
       "<div>\n",
       "<style scoped>\n",
       "    .dataframe tbody tr th:only-of-type {\n",
       "        vertical-align: middle;\n",
       "    }\n",
       "\n",
       "    .dataframe tbody tr th {\n",
       "        vertical-align: top;\n",
       "    }\n",
       "\n",
       "    .dataframe thead tr th {\n",
       "        text-align: left;\n",
       "    }\n",
       "</style>\n",
       "<table border=\"1\" class=\"dataframe\">\n",
       "  <thead>\n",
       "    <tr>\n",
       "      <th></th>\n",
       "      <th colspan=\"2\" halign=\"left\">label</th>\n",
       "    </tr>\n",
       "    <tr>\n",
       "      <th></th>\n",
       "      <th>count</th>\n",
       "      <th>sum</th>\n",
       "    </tr>\n",
       "  </thead>\n",
       "  <tbody>\n",
       "    <tr>\n",
       "      <th>count</th>\n",
       "      <td>49923.000000</td>\n",
       "      <td>49923.000000</td>\n",
       "    </tr>\n",
       "    <tr>\n",
       "      <th>mean</th>\n",
       "      <td>15.811730</td>\n",
       "      <td>9.997476</td>\n",
       "    </tr>\n",
       "    <tr>\n",
       "      <th>std</th>\n",
       "      <td>28.974308</td>\n",
       "      <td>20.085800</td>\n",
       "    </tr>\n",
       "    <tr>\n",
       "      <th>min</th>\n",
       "      <td>1.000000</td>\n",
       "      <td>0.000000</td>\n",
       "    </tr>\n",
       "    <tr>\n",
       "      <th>25%</th>\n",
       "      <td>3.000000</td>\n",
       "      <td>2.000000</td>\n",
       "    </tr>\n",
       "    <tr>\n",
       "      <th>50%</th>\n",
       "      <td>7.000000</td>\n",
       "      <td>4.000000</td>\n",
       "    </tr>\n",
       "    <tr>\n",
       "      <th>75%</th>\n",
       "      <td>17.000000</td>\n",
       "      <td>10.000000</td>\n",
       "    </tr>\n",
       "    <tr>\n",
       "      <th>max</th>\n",
       "      <td>1060.000000</td>\n",
       "      <td>464.000000</td>\n",
       "    </tr>\n",
       "  </tbody>\n",
       "</table>\n",
       "</div>"
      ],
      "text/plain": [
       "              label              \n",
       "              count           sum\n",
       "count  49923.000000  49923.000000\n",
       "mean      15.811730      9.997476\n",
       "std       28.974308     20.085800\n",
       "min        1.000000      0.000000\n",
       "25%        3.000000      2.000000\n",
       "50%        7.000000      4.000000\n",
       "75%       17.000000     10.000000\n",
       "max     1060.000000    464.000000"
      ]
     },
     "execution_count": 82,
     "metadata": {},
     "output_type": "execute_result"
    }
   ],
   "source": [
    "train_.groupby(\"iid\").agg({\"label\":['count','sum']}).describe()"
   ]
  },
  {
   "cell_type": "code",
   "execution_count": 83,
   "metadata": {},
   "outputs": [
    {
     "data": {
      "text/plain": [
       "(10883,)"
      ]
     },
     "execution_count": 83,
     "metadata": {},
     "output_type": "execute_result"
    }
   ],
   "source": [
    "valid_[valid_['uid'].isin(train_['uid'].unique())].uid.unique().shape"
   ]
  },
  {
   "cell_type": "code",
   "execution_count": 84,
   "metadata": {},
   "outputs": [
    {
     "data": {
      "text/plain": [
       "array([ 4756,  3059, 37440, ..., 50848, 45323, 46200])"
      ]
     },
     "execution_count": 84,
     "metadata": {},
     "output_type": "execute_result"
    }
   ],
   "source": [
    "train_['iid'].unique()"
   ]
  },
  {
   "cell_type": "code",
   "execution_count": 85,
   "metadata": {},
   "outputs": [
    {
     "data": {
      "text/plain": [
       "(9873,)"
      ]
     },
     "execution_count": 85,
     "metadata": {},
     "output_type": "execute_result"
    }
   ],
   "source": [
    "valid_[valid_['iid'].isin(train_['iid'].unique())].iid.unique().shape"
   ]
  },
  {
   "cell_type": "code",
   "execution_count": 86,
   "metadata": {},
   "outputs": [
    {
     "data": {
      "text/plain": [
       "((10414,), (11911,))"
      ]
     },
     "execution_count": 86,
     "metadata": {},
     "output_type": "execute_result"
    }
   ],
   "source": [
    "valid_.iid.unique().shape, test_.iid.unique().shape"
   ]
  },
  {
   "cell_type": "code",
   "execution_count": 87,
   "metadata": {},
   "outputs": [
    {
     "data": {
      "text/plain": [
       "((10946,), (10883,))"
      ]
     },
     "execution_count": 87,
     "metadata": {},
     "output_type": "execute_result"
    }
   ],
   "source": [
    "valid_.uid.unique().shape, test_.uid.unique().shape"
   ]
  },
  {
   "cell_type": "code",
   "execution_count": 88,
   "metadata": {},
   "outputs": [
    {
     "data": {
      "text/plain": [
       "((24722,), (49923,))"
      ]
     },
     "execution_count": 88,
     "metadata": {},
     "output_type": "execute_result"
    }
   ],
   "source": [
    "train_.uid.unique().shape, train_.iid.unique().shape"
   ]
  },
  {
   "cell_type": "code",
   "execution_count": 89,
   "metadata": {},
   "outputs": [
    {
     "data": {
      "text/plain": [
       "((86,), (63,))"
      ]
     },
     "execution_count": 89,
     "metadata": {},
     "output_type": "execute_result"
    }
   ],
   "source": [
    "\n",
    "np.setdiff1d(test_.uid.unique(),train_.uid.unique()).shape, np.setdiff1d(valid_.uid.unique(),train_.uid.unique()).shape"
   ]
  },
  {
   "cell_type": "code",
   "execution_count": 90,
   "metadata": {},
   "outputs": [
    {
     "data": {
      "text/plain": [
       "((683,), (541,))"
      ]
     },
     "execution_count": 90,
     "metadata": {},
     "output_type": "execute_result"
    }
   ],
   "source": [
    "np.setdiff1d(test_.iid.unique(),train_.iid.unique()).shape, np.setdiff1d(valid_.iid.unique(),train_.iid.unique()).shape"
   ]
  },
  {
   "cell_type": "code",
   "execution_count": 91,
   "metadata": {},
   "outputs": [
    {
     "data": {
      "text/plain": [
       "(24861, 50859)"
      ]
     },
     "execution_count": 91,
     "metadata": {},
     "output_type": "execute_result"
    }
   ],
   "source": [
    "max(train_.uid.max(),test_.uid.max(),valid_.uid.max())+1, max(train_.iid.max(),test_.iid.max(),valid_.iid.max())+1"
   ]
  },
  {
   "cell_type": "code",
   "execution_count": 92,
   "metadata": {},
   "outputs": [
    {
     "data": {
      "text/html": [
       "<div>\n",
       "<style scoped>\n",
       "    .dataframe tbody tr th:only-of-type {\n",
       "        vertical-align: middle;\n",
       "    }\n",
       "\n",
       "    .dataframe tbody tr th {\n",
       "        vertical-align: top;\n",
       "    }\n",
       "\n",
       "    .dataframe thead tr th {\n",
       "        text-align: left;\n",
       "    }\n",
       "</style>\n",
       "<table border=\"1\" class=\"dataframe\">\n",
       "  <thead>\n",
       "    <tr>\n",
       "      <th></th>\n",
       "      <th colspan=\"2\" halign=\"left\">label</th>\n",
       "    </tr>\n",
       "    <tr>\n",
       "      <th></th>\n",
       "      <th>count</th>\n",
       "      <th>mean</th>\n",
       "    </tr>\n",
       "  </thead>\n",
       "  <tbody>\n",
       "    <tr>\n",
       "      <th>count</th>\n",
       "      <td>10946.000000</td>\n",
       "      <td>10946.000000</td>\n",
       "    </tr>\n",
       "    <tr>\n",
       "      <th>mean</th>\n",
       "      <td>2.572629</td>\n",
       "      <td>0.630332</td>\n",
       "    </tr>\n",
       "    <tr>\n",
       "      <th>std</th>\n",
       "      <td>2.696948</td>\n",
       "      <td>0.420832</td>\n",
       "    </tr>\n",
       "    <tr>\n",
       "      <th>min</th>\n",
       "      <td>1.000000</td>\n",
       "      <td>0.000000</td>\n",
       "    </tr>\n",
       "    <tr>\n",
       "      <th>25%</th>\n",
       "      <td>1.000000</td>\n",
       "      <td>0.142857</td>\n",
       "    </tr>\n",
       "    <tr>\n",
       "      <th>50%</th>\n",
       "      <td>2.000000</td>\n",
       "      <td>0.875000</td>\n",
       "    </tr>\n",
       "    <tr>\n",
       "      <th>75%</th>\n",
       "      <td>3.000000</td>\n",
       "      <td>1.000000</td>\n",
       "    </tr>\n",
       "    <tr>\n",
       "      <th>max</th>\n",
       "      <td>46.000000</td>\n",
       "      <td>1.000000</td>\n",
       "    </tr>\n",
       "  </tbody>\n",
       "</table>\n",
       "</div>"
      ],
      "text/plain": [
       "              label              \n",
       "              count          mean\n",
       "count  10946.000000  10946.000000\n",
       "mean       2.572629      0.630332\n",
       "std        2.696948      0.420832\n",
       "min        1.000000      0.000000\n",
       "25%        1.000000      0.142857\n",
       "50%        2.000000      0.875000\n",
       "75%        3.000000      1.000000\n",
       "max       46.000000      1.000000"
      ]
     },
     "execution_count": 92,
     "metadata": {},
     "output_type": "execute_result"
    }
   ],
   "source": [
    "valid_.groupby(\"uid\").agg({\"label\":['count','mean']}).describe()"
   ]
  },
  {
   "cell_type": "code",
   "execution_count": 93,
   "metadata": {},
   "outputs": [
    {
     "data": {
      "text/html": [
       "<div>\n",
       "<style scoped>\n",
       "    .dataframe tbody tr th:only-of-type {\n",
       "        vertical-align: middle;\n",
       "    }\n",
       "\n",
       "    .dataframe tbody tr th {\n",
       "        vertical-align: top;\n",
       "    }\n",
       "\n",
       "    .dataframe thead tr th {\n",
       "        text-align: left;\n",
       "    }\n",
       "</style>\n",
       "<table border=\"1\" class=\"dataframe\">\n",
       "  <thead>\n",
       "    <tr>\n",
       "      <th></th>\n",
       "      <th colspan=\"2\" halign=\"left\">label</th>\n",
       "    </tr>\n",
       "    <tr>\n",
       "      <th></th>\n",
       "      <th>count</th>\n",
       "      <th>mean</th>\n",
       "    </tr>\n",
       "  </thead>\n",
       "  <tbody>\n",
       "    <tr>\n",
       "      <th>count</th>\n",
       "      <td>10883.000000</td>\n",
       "      <td>10883.000000</td>\n",
       "    </tr>\n",
       "    <tr>\n",
       "      <th>mean</th>\n",
       "      <td>2.587522</td>\n",
       "      <td>0.630343</td>\n",
       "    </tr>\n",
       "    <tr>\n",
       "      <th>std</th>\n",
       "      <td>2.851553</td>\n",
       "      <td>0.423754</td>\n",
       "    </tr>\n",
       "    <tr>\n",
       "      <th>min</th>\n",
       "      <td>1.000000</td>\n",
       "      <td>0.000000</td>\n",
       "    </tr>\n",
       "    <tr>\n",
       "      <th>25%</th>\n",
       "      <td>1.000000</td>\n",
       "      <td>0.000000</td>\n",
       "    </tr>\n",
       "    <tr>\n",
       "      <th>50%</th>\n",
       "      <td>2.000000</td>\n",
       "      <td>1.000000</td>\n",
       "    </tr>\n",
       "    <tr>\n",
       "      <th>75%</th>\n",
       "      <td>3.000000</td>\n",
       "      <td>1.000000</td>\n",
       "    </tr>\n",
       "    <tr>\n",
       "      <th>max</th>\n",
       "      <td>92.000000</td>\n",
       "      <td>1.000000</td>\n",
       "    </tr>\n",
       "  </tbody>\n",
       "</table>\n",
       "</div>"
      ],
      "text/plain": [
       "              label              \n",
       "              count          mean\n",
       "count  10883.000000  10883.000000\n",
       "mean       2.587522      0.630343\n",
       "std        2.851553      0.423754\n",
       "min        1.000000      0.000000\n",
       "25%        1.000000      0.000000\n",
       "50%        2.000000      1.000000\n",
       "75%        3.000000      1.000000\n",
       "max       92.000000      1.000000"
      ]
     },
     "execution_count": 93,
     "metadata": {},
     "output_type": "execute_result"
    }
   ],
   "source": [
    "test_.groupby(\"uid\").agg({\"label\":['count','mean']}).describe()"
   ]
  },
  {
   "cell_type": "markdown",
   "metadata": {},
   "source": [
    "## read info"
   ]
  },
  {
   "cell_type": "code",
   "execution_count": 9,
   "metadata": {},
   "outputs": [],
   "source": [
    "# import pandas as pd\n",
    "save_path = \"/data/yuqihang/datasets/collm-datasets/booknew/\"\n",
    "# train_.to_pickle(os.path.join(save_path,\"train_ood2.pkl\"))\n",
    "# valid_.to_pickle(os.path.join(save_path,\"valid_ood2.pkl\"))\n",
    "test_ = pd.read_pickle(os.path.join(save_path,\"test_ood2.pkl\"))\n",
    "# data = pd.concat([train_,valid_,test_],axis=0)"
   ]
  },
  {
   "cell_type": "code",
   "execution_count": 10,
   "metadata": {},
   "outputs": [],
   "source": [
    "# 从test中随机采样获取200条作为test_tiny\n",
    "test_tiny= test_.sample(n=200, random_state=2025)\n",
    "test_tiny.to_pickle(os.path.join(save_path,\"test_tiny_ood2.pkl\"))"
   ]
  },
  {
   "cell_type": "code",
   "execution_count": 7,
   "metadata": {},
   "outputs": [
    {
     "data": {
      "text/html": [
       "<div>\n",
       "<style scoped>\n",
       "    .dataframe tbody tr th:only-of-type {\n",
       "        vertical-align: middle;\n",
       "    }\n",
       "\n",
       "    .dataframe tbody tr th {\n",
       "        vertical-align: top;\n",
       "    }\n",
       "\n",
       "    .dataframe thead th {\n",
       "        text-align: right;\n",
       "    }\n",
       "</style>\n",
       "<table border=\"1\" class=\"dataframe\">\n",
       "  <thead>\n",
       "    <tr style=\"text-align: right;\">\n",
       "      <th></th>\n",
       "      <th>uid</th>\n",
       "      <th>iid</th>\n",
       "      <th>label</th>\n",
       "      <th>timestamp</th>\n",
       "      <th>his</th>\n",
       "      <th>flag</th>\n",
       "      <th>his_label</th>\n",
       "      <th>not_cold</th>\n",
       "    </tr>\n",
       "  </thead>\n",
       "  <tbody>\n",
       "    <tr>\n",
       "      <th>191171</th>\n",
       "      <td>5804</td>\n",
       "      <td>6570</td>\n",
       "      <td>0</td>\n",
       "      <td>1.513555e+09</td>\n",
       "      <td>[0, 27079, 39289, 35499, 24100, 34624, 35639, ...</td>\n",
       "      <td>1.0</td>\n",
       "      <td>[0, 0, 0, 0, 0, 0, 0, 0, 1, 1, 1, 1, 1, 0, 1, ...</td>\n",
       "      <td>1</td>\n",
       "    </tr>\n",
       "    <tr>\n",
       "      <th>679137</th>\n",
       "      <td>19615</td>\n",
       "      <td>46888</td>\n",
       "      <td>1</td>\n",
       "      <td>1.514678e+09</td>\n",
       "      <td>[0, 17763, 17282, 24523, 24307, 24494, 27735, ...</td>\n",
       "      <td>1.0</td>\n",
       "      <td>[0, 1, 1, 1, 1, 1, 1, 0, 0, 1, 1, 1, 1, 0, 1, ...</td>\n",
       "      <td>1</td>\n",
       "    </tr>\n",
       "    <tr>\n",
       "      <th>412505</th>\n",
       "      <td>12411</td>\n",
       "      <td>33620</td>\n",
       "      <td>1</td>\n",
       "      <td>1.513037e+09</td>\n",
       "      <td>[0, 33401, 43627, 43455, 19316, 16577, 40047, ...</td>\n",
       "      <td>1.0</td>\n",
       "      <td>[0, 1, 1, 1, 1, 0, 1, 1, 1, 1, 1, 0, 1, 0, 1, ...</td>\n",
       "      <td>0</td>\n",
       "    </tr>\n",
       "    <tr>\n",
       "      <th>285172</th>\n",
       "      <td>7988</td>\n",
       "      <td>7750</td>\n",
       "      <td>1</td>\n",
       "      <td>1.514246e+09</td>\n",
       "      <td>[0, 2213, 3233, 14025, 14029, 21089, 21374, 21...</td>\n",
       "      <td>1.0</td>\n",
       "      <td>[0, 1, 1, 1, 1, 1, 1, 1, 1, 1, 1, 1, 1, 1, 1, ...</td>\n",
       "      <td>1</td>\n",
       "    </tr>\n",
       "    <tr>\n",
       "      <th>322394</th>\n",
       "      <td>9167</td>\n",
       "      <td>26440</td>\n",
       "      <td>1</td>\n",
       "      <td>1.512864e+09</td>\n",
       "      <td>[0, 27372, 10921, 19212, 33871, 42100, 26396, ...</td>\n",
       "      <td>1.0</td>\n",
       "      <td>[0, 1, 1, 1, 1, 1, 1, 0, 0, 1, 1, 0, 1, 1, 1, ...</td>\n",
       "      <td>1</td>\n",
       "    </tr>\n",
       "    <tr>\n",
       "      <th>...</th>\n",
       "      <td>...</td>\n",
       "      <td>...</td>\n",
       "      <td>...</td>\n",
       "      <td>...</td>\n",
       "      <td>...</td>\n",
       "      <td>...</td>\n",
       "      <td>...</td>\n",
       "      <td>...</td>\n",
       "    </tr>\n",
       "    <tr>\n",
       "      <th>725261</th>\n",
       "      <td>20972</td>\n",
       "      <td>45776</td>\n",
       "      <td>1</td>\n",
       "      <td>1.514419e+09</td>\n",
       "      <td>[0, 33924, 29894, 25774, 18838, 27262, 34278, ...</td>\n",
       "      <td>1.0</td>\n",
       "      <td>[0, 1, 0, 1, 1, 1, 1, 1, 1, 1, 1, 1, 1, 0, 1, ...</td>\n",
       "      <td>0</td>\n",
       "    </tr>\n",
       "    <tr>\n",
       "      <th>271835</th>\n",
       "      <td>7642</td>\n",
       "      <td>8836</td>\n",
       "      <td>1</td>\n",
       "      <td>1.512259e+09</td>\n",
       "      <td>[0, 6623, 20299, 31326, 6966, 33906, 35341, 18...</td>\n",
       "      <td>1.0</td>\n",
       "      <td>[0, 1, 1, 1, 0, 0, 1, 1, 0, 0, 0, 1, 0, 0, 1, ...</td>\n",
       "      <td>1</td>\n",
       "    </tr>\n",
       "    <tr>\n",
       "      <th>566985</th>\n",
       "      <td>16388</td>\n",
       "      <td>33308</td>\n",
       "      <td>0</td>\n",
       "      <td>1.512864e+09</td>\n",
       "      <td>[0, 23724, 24153, 30480, 28543, 32626, 25902, ...</td>\n",
       "      <td>1.0</td>\n",
       "      <td>[0, 0, 0, 0, 0, 0, 0, 0, 0, 0, 0, 0, 0, 0, 0, ...</td>\n",
       "      <td>1</td>\n",
       "    </tr>\n",
       "    <tr>\n",
       "      <th>47850</th>\n",
       "      <td>1531</td>\n",
       "      <td>23758</td>\n",
       "      <td>1</td>\n",
       "      <td>1.513555e+09</td>\n",
       "      <td>[0, 2024, 312, 20881, 301, 304, 302, 1760, 562...</td>\n",
       "      <td>1.0</td>\n",
       "      <td>[0, 1, 0, 0, 0, 0, 1, 0, 0, 0, 0, 1, 1, 1, 0, ...</td>\n",
       "      <td>1</td>\n",
       "    </tr>\n",
       "    <tr>\n",
       "      <th>674607</th>\n",
       "      <td>19461</td>\n",
       "      <td>44843</td>\n",
       "      <td>0</td>\n",
       "      <td>1.512346e+09</td>\n",
       "      <td>[0, 28712, 42716, 42718, 33895, 29837, 34274, ...</td>\n",
       "      <td>1.0</td>\n",
       "      <td>[0, 1, 1, 1, 0, 1, 0, 1, 0, 0, 1, 0, 0, 0, 0, ...</td>\n",
       "      <td>1</td>\n",
       "    </tr>\n",
       "  </tbody>\n",
       "</table>\n",
       "<p>200 rows × 8 columns</p>\n",
       "</div>"
      ],
      "text/plain": [
       "          uid    iid  label     timestamp  \\\n",
       "191171   5804   6570      0  1.513555e+09   \n",
       "679137  19615  46888      1  1.514678e+09   \n",
       "412505  12411  33620      1  1.513037e+09   \n",
       "285172   7988   7750      1  1.514246e+09   \n",
       "322394   9167  26440      1  1.512864e+09   \n",
       "...       ...    ...    ...           ...   \n",
       "725261  20972  45776      1  1.514419e+09   \n",
       "271835   7642   8836      1  1.512259e+09   \n",
       "566985  16388  33308      0  1.512864e+09   \n",
       "47850    1531  23758      1  1.513555e+09   \n",
       "674607  19461  44843      0  1.512346e+09   \n",
       "\n",
       "                                                      his  flag  \\\n",
       "191171  [0, 27079, 39289, 35499, 24100, 34624, 35639, ...   1.0   \n",
       "679137  [0, 17763, 17282, 24523, 24307, 24494, 27735, ...   1.0   \n",
       "412505  [0, 33401, 43627, 43455, 19316, 16577, 40047, ...   1.0   \n",
       "285172  [0, 2213, 3233, 14025, 14029, 21089, 21374, 21...   1.0   \n",
       "322394  [0, 27372, 10921, 19212, 33871, 42100, 26396, ...   1.0   \n",
       "...                                                   ...   ...   \n",
       "725261  [0, 33924, 29894, 25774, 18838, 27262, 34278, ...   1.0   \n",
       "271835  [0, 6623, 20299, 31326, 6966, 33906, 35341, 18...   1.0   \n",
       "566985  [0, 23724, 24153, 30480, 28543, 32626, 25902, ...   1.0   \n",
       "47850   [0, 2024, 312, 20881, 301, 304, 302, 1760, 562...   1.0   \n",
       "674607  [0, 28712, 42716, 42718, 33895, 29837, 34274, ...   1.0   \n",
       "\n",
       "                                                his_label  not_cold  \n",
       "191171  [0, 0, 0, 0, 0, 0, 0, 0, 1, 1, 1, 1, 1, 0, 1, ...         1  \n",
       "679137  [0, 1, 1, 1, 1, 1, 1, 0, 0, 1, 1, 1, 1, 0, 1, ...         1  \n",
       "412505  [0, 1, 1, 1, 1, 0, 1, 1, 1, 1, 1, 0, 1, 0, 1, ...         0  \n",
       "285172  [0, 1, 1, 1, 1, 1, 1, 1, 1, 1, 1, 1, 1, 1, 1, ...         1  \n",
       "322394  [0, 1, 1, 1, 1, 1, 1, 0, 0, 1, 1, 0, 1, 1, 1, ...         1  \n",
       "...                                                   ...       ...  \n",
       "725261  [0, 1, 0, 1, 1, 1, 1, 1, 1, 1, 1, 1, 1, 0, 1, ...         0  \n",
       "271835  [0, 1, 1, 1, 0, 0, 1, 1, 0, 0, 0, 1, 0, 0, 1, ...         1  \n",
       "566985  [0, 0, 0, 0, 0, 0, 0, 0, 0, 0, 0, 0, 0, 0, 0, ...         1  \n",
       "47850   [0, 1, 0, 0, 0, 0, 1, 0, 0, 0, 0, 1, 1, 1, 0, ...         1  \n",
       "674607  [0, 1, 1, 1, 0, 1, 0, 1, 0, 0, 1, 0, 0, 0, 0, ...         1  \n",
       "\n",
       "[200 rows x 8 columns]"
      ]
     },
     "execution_count": 7,
     "metadata": {},
     "output_type": "execute_result"
    }
   ],
   "source": [
    "test_tiny"
   ]
  },
  {
   "cell_type": "code",
   "execution_count": 7,
   "metadata": {},
   "outputs": [],
   "source": [
    "test_small = test_.sample(frac=0.25,random_state=2023)\n",
    "test_small.to_pickle(os.path.join(save_path,\"test_small_ood2.pkl\"))"
   ]
  },
  {
   "cell_type": "code",
   "execution_count": 95,
   "metadata": {},
   "outputs": [
    {
     "data": {
      "text/html": [
       "<div>\n",
       "<style scoped>\n",
       "    .dataframe tbody tr th:only-of-type {\n",
       "        vertical-align: middle;\n",
       "    }\n",
       "\n",
       "    .dataframe tbody tr th {\n",
       "        vertical-align: top;\n",
       "    }\n",
       "\n",
       "    .dataframe thead tr th {\n",
       "        text-align: left;\n",
       "    }\n",
       "</style>\n",
       "<table border=\"1\" class=\"dataframe\">\n",
       "  <thead>\n",
       "    <tr>\n",
       "      <th></th>\n",
       "      <th colspan=\"2\" halign=\"left\">label</th>\n",
       "    </tr>\n",
       "    <tr>\n",
       "      <th></th>\n",
       "      <th>sum</th>\n",
       "      <th>count</th>\n",
       "    </tr>\n",
       "  </thead>\n",
       "  <tbody>\n",
       "    <tr>\n",
       "      <th>count</th>\n",
       "      <td>24860.000000</td>\n",
       "      <td>24860.000000</td>\n",
       "    </tr>\n",
       "    <tr>\n",
       "      <th>mean</th>\n",
       "      <td>21.490909</td>\n",
       "      <td>34.018061</td>\n",
       "    </tr>\n",
       "    <tr>\n",
       "      <th>std</th>\n",
       "      <td>27.100474</td>\n",
       "      <td>37.169312</td>\n",
       "    </tr>\n",
       "    <tr>\n",
       "      <th>min</th>\n",
       "      <td>0.000000</td>\n",
       "      <td>1.000000</td>\n",
       "    </tr>\n",
       "    <tr>\n",
       "      <th>25%</th>\n",
       "      <td>8.000000</td>\n",
       "      <td>16.000000</td>\n",
       "    </tr>\n",
       "    <tr>\n",
       "      <th>50%</th>\n",
       "      <td>15.000000</td>\n",
       "      <td>24.000000</td>\n",
       "    </tr>\n",
       "    <tr>\n",
       "      <th>75%</th>\n",
       "      <td>26.000000</td>\n",
       "      <td>39.000000</td>\n",
       "    </tr>\n",
       "    <tr>\n",
       "      <th>max</th>\n",
       "      <td>925.000000</td>\n",
       "      <td>941.000000</td>\n",
       "    </tr>\n",
       "  </tbody>\n",
       "</table>\n",
       "</div>"
      ],
      "text/plain": [
       "              label              \n",
       "                sum         count\n",
       "count  24860.000000  24860.000000\n",
       "mean      21.490909     34.018061\n",
       "std       27.100474     37.169312\n",
       "min        0.000000      1.000000\n",
       "25%        8.000000     16.000000\n",
       "50%       15.000000     24.000000\n",
       "75%       26.000000     39.000000\n",
       "max      925.000000    941.000000"
      ]
     },
     "execution_count": 95,
     "metadata": {},
     "output_type": "execute_result"
    }
   ],
   "source": [
    "data.groupby(\"uid\").agg({\"label\":['sum','count']}).describe()"
   ]
  },
  {
   "cell_type": "code",
   "execution_count": 96,
   "metadata": {},
   "outputs": [
    {
     "data": {
      "text/html": [
       "<div>\n",
       "<style scoped>\n",
       "    .dataframe tbody tr th:only-of-type {\n",
       "        vertical-align: middle;\n",
       "    }\n",
       "\n",
       "    .dataframe tbody tr th {\n",
       "        vertical-align: top;\n",
       "    }\n",
       "\n",
       "    .dataframe thead th {\n",
       "        text-align: right;\n",
       "    }\n",
       "</style>\n",
       "<table border=\"1\" class=\"dataframe\">\n",
       "  <thead>\n",
       "    <tr style=\"text-align: right;\">\n",
       "      <th></th>\n",
       "      <th>uid</th>\n",
       "      <th>iid</th>\n",
       "      <th>label</th>\n",
       "      <th>timestamp</th>\n",
       "      <th>his</th>\n",
       "      <th>his_title</th>\n",
       "      <th>title</th>\n",
       "      <th>flag</th>\n",
       "      <th>not_cold</th>\n",
       "    </tr>\n",
       "  </thead>\n",
       "  <tbody>\n",
       "    <tr>\n",
       "      <th>0</th>\n",
       "      <td>1</td>\n",
       "      <td>4756</td>\n",
       "      <td>1</td>\n",
       "      <td>1.483920e+09</td>\n",
       "      <td>[0]</td>\n",
       "      <td>[]</td>\n",
       "      <td>ENDURANCE: SHACKLETON'S INCREDIBLE VOYAGE by L...</td>\n",
       "      <td>-1.0</td>\n",
       "      <td>1</td>\n",
       "    </tr>\n",
       "    <tr>\n",
       "      <th>1</th>\n",
       "      <td>1</td>\n",
       "      <td>3059</td>\n",
       "      <td>0</td>\n",
       "      <td>1.484525e+09</td>\n",
       "      <td>[0, 4756]</td>\n",
       "      <td>[, ENDURANCE: SHACKLETON'S INCREDIBLE VOYAGE b...</td>\n",
       "      <td>Norwegian Wood</td>\n",
       "      <td>-1.0</td>\n",
       "      <td>1</td>\n",
       "    </tr>\n",
       "    <tr>\n",
       "      <th>2</th>\n",
       "      <td>1</td>\n",
       "      <td>37440</td>\n",
       "      <td>1</td>\n",
       "      <td>1.484698e+09</td>\n",
       "      <td>[0, 4756]</td>\n",
       "      <td>[, ENDURANCE: SHACKLETON'S INCREDIBLE VOYAGE b...</td>\n",
       "      <td>Summer at Sunset (The Summer Series) (Volume 2)</td>\n",
       "      <td>-1.0</td>\n",
       "      <td>1</td>\n",
       "    </tr>\n",
       "    <tr>\n",
       "      <th>3</th>\n",
       "      <td>1</td>\n",
       "      <td>29038</td>\n",
       "      <td>0</td>\n",
       "      <td>1.485130e+09</td>\n",
       "      <td>[0, 4756, 37440]</td>\n",
       "      <td>[, ENDURANCE: SHACKLETON'S INCREDIBLE VOYAGE b...</td>\n",
       "      <td>Every Day Is a Holiday</td>\n",
       "      <td>-1.0</td>\n",
       "      <td>1</td>\n",
       "    </tr>\n",
       "    <tr>\n",
       "      <th>4</th>\n",
       "      <td>1</td>\n",
       "      <td>187</td>\n",
       "      <td>0</td>\n",
       "      <td>1.485389e+09</td>\n",
       "      <td>[0, 4756, 37440]</td>\n",
       "      <td>[, ENDURANCE: SHACKLETON'S INCREDIBLE VOYAGE b...</td>\n",
       "      <td>The Yiddish Policemen's Union: A Novel (P.S.)</td>\n",
       "      <td>-1.0</td>\n",
       "      <td>1</td>\n",
       "    </tr>\n",
       "  </tbody>\n",
       "</table>\n",
       "</div>"
      ],
      "text/plain": [
       "   uid    iid  label     timestamp               his  \\\n",
       "0    1   4756      1  1.483920e+09               [0]   \n",
       "1    1   3059      0  1.484525e+09         [0, 4756]   \n",
       "2    1  37440      1  1.484698e+09         [0, 4756]   \n",
       "3    1  29038      0  1.485130e+09  [0, 4756, 37440]   \n",
       "4    1    187      0  1.485389e+09  [0, 4756, 37440]   \n",
       "\n",
       "                                           his_title  \\\n",
       "0                                                 []   \n",
       "1  [, ENDURANCE: SHACKLETON'S INCREDIBLE VOYAGE b...   \n",
       "2  [, ENDURANCE: SHACKLETON'S INCREDIBLE VOYAGE b...   \n",
       "3  [, ENDURANCE: SHACKLETON'S INCREDIBLE VOYAGE b...   \n",
       "4  [, ENDURANCE: SHACKLETON'S INCREDIBLE VOYAGE b...   \n",
       "\n",
       "                                               title  flag  not_cold  \n",
       "0  ENDURANCE: SHACKLETON'S INCREDIBLE VOYAGE by L...  -1.0         1  \n",
       "1                                     Norwegian Wood  -1.0         1  \n",
       "2    Summer at Sunset (The Summer Series) (Volume 2)  -1.0         1  \n",
       "3                             Every Day Is a Holiday  -1.0         1  \n",
       "4      The Yiddish Policemen's Union: A Novel (P.S.)  -1.0         1  "
      ]
     },
     "execution_count": 96,
     "metadata": {},
     "output_type": "execute_result"
    }
   ],
   "source": [
    "data.head(5)"
   ]
  }
 ],
 "metadata": {
  "kernelspec": {
   "display_name": "minigpt4",
   "language": "python",
   "name": "python3"
  },
  "language_info": {
   "codemirror_mode": {
    "name": "ipython",
    "version": 3
   },
   "file_extension": ".py",
   "mimetype": "text/x-python",
   "name": "python",
   "nbconvert_exporter": "python",
   "pygments_lexer": "ipython3",
   "version": "3.10.16"
  },
  "orig_nbformat": 4
 },
 "nbformat": 4,
 "nbformat_minor": 2
}
