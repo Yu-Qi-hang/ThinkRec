{
 "cells": [
  {
   "cell_type": "code",
   "execution_count": 1,
   "metadata": {},
   "outputs": [],
   "source": [
    "import os\n",
    "import re\n",
    "import json\n",
    "import gzip\n",
    "import numpy as np\n",
    "import pandas as pd\n",
    "from urllib.request import urlopen"
   ]
  },
  {
   "cell_type": "code",
   "execution_count": 2,
   "metadata": {},
   "outputs": [],
   "source": [
    "def parse(path):\n",
    "  g = gzip.open(path, 'rb')\n",
    "  for l in g:\n",
    "    yield json.loads(l)\n",
    "\n",
    "def getDF(path):\n",
    "  i = 0\n",
    "  df = {}\n",
    "  for d in parse(path):\n",
    "    df[i] = d\n",
    "    i += 1\n",
    "  return pd.DataFrame.from_dict(df, orient='index')"
   ]
  },
  {
   "cell_type": "code",
   "execution_count": 3,
   "metadata": {},
   "outputs": [],
   "source": [
    "df = getDF('/home/yuqihang/workroot/models/data/recsys/Amazon/Toys_and_Games.json.gz')"
   ]
  },
  {
   "cell_type": "code",
   "execution_count": 4,
   "metadata": {},
   "outputs": [
    {
     "data": {
      "text/html": [
       "<div>\n",
       "<style scoped>\n",
       "    .dataframe tbody tr th:only-of-type {\n",
       "        vertical-align: middle;\n",
       "    }\n",
       "\n",
       "    .dataframe tbody tr th {\n",
       "        vertical-align: top;\n",
       "    }\n",
       "\n",
       "    .dataframe thead th {\n",
       "        text-align: right;\n",
       "    }\n",
       "</style>\n",
       "<table border=\"1\" class=\"dataframe\">\n",
       "  <thead>\n",
       "    <tr style=\"text-align: right;\">\n",
       "      <th></th>\n",
       "      <th>overall</th>\n",
       "      <th>vote</th>\n",
       "      <th>verified</th>\n",
       "      <th>reviewTime</th>\n",
       "      <th>reviewerID</th>\n",
       "      <th>asin</th>\n",
       "      <th>reviewerName</th>\n",
       "      <th>reviewText</th>\n",
       "      <th>summary</th>\n",
       "      <th>unixReviewTime</th>\n",
       "      <th>image</th>\n",
       "      <th>style</th>\n",
       "    </tr>\n",
       "  </thead>\n",
       "  <tbody>\n",
       "    <tr>\n",
       "      <th>0</th>\n",
       "      <td>2.0</td>\n",
       "      <td>12</td>\n",
       "      <td>False</td>\n",
       "      <td>09 22, 2016</td>\n",
       "      <td>A1IDMI31WEANAF</td>\n",
       "      <td>0020232233</td>\n",
       "      <td>Mackenzie Kent</td>\n",
       "      <td>When it comes to a DM's screen, the space on t...</td>\n",
       "      <td>The fact that 50% of this space is wasted on a...</td>\n",
       "      <td>1474502400</td>\n",
       "      <td>NaN</td>\n",
       "      <td>NaN</td>\n",
       "    </tr>\n",
       "    <tr>\n",
       "      <th>1</th>\n",
       "      <td>1.0</td>\n",
       "      <td>21</td>\n",
       "      <td>False</td>\n",
       "      <td>09 18, 2016</td>\n",
       "      <td>A4BCEVVZ4Y3V3</td>\n",
       "      <td>0020232233</td>\n",
       "      <td>Jonathan Christian</td>\n",
       "      <td>An Open Letter to GaleForce9*:\\n\\nYour unpaint...</td>\n",
       "      <td>Another worthless Dungeon Master's screen from...</td>\n",
       "      <td>1474156800</td>\n",
       "      <td>NaN</td>\n",
       "      <td>NaN</td>\n",
       "    </tr>\n",
       "  </tbody>\n",
       "</table>\n",
       "</div>"
      ],
      "text/plain": [
       "   overall vote  verified   reviewTime      reviewerID        asin  \\\n",
       "0      2.0   12     False  09 22, 2016  A1IDMI31WEANAF  0020232233   \n",
       "1      1.0   21     False  09 18, 2016   A4BCEVVZ4Y3V3  0020232233   \n",
       "\n",
       "         reviewerName                                         reviewText  \\\n",
       "0      Mackenzie Kent  When it comes to a DM's screen, the space on t...   \n",
       "1  Jonathan Christian  An Open Letter to GaleForce9*:\\n\\nYour unpaint...   \n",
       "\n",
       "                                             summary  unixReviewTime image  \\\n",
       "0  The fact that 50% of this space is wasted on a...      1474502400   NaN   \n",
       "1  Another worthless Dungeon Master's screen from...      1474156800   NaN   \n",
       "\n",
       "  style  \n",
       "0   NaN  \n",
       "1   NaN  "
      ]
     },
     "execution_count": 4,
     "metadata": {},
     "output_type": "execute_result"
    }
   ],
   "source": [
    "df.head(2)"
   ]
  },
  {
   "cell_type": "code",
   "execution_count": 5,
   "metadata": {},
   "outputs": [],
   "source": [
    "metadata = []\n",
    "with gzip.open('/home/yuqihang/workroot/models/data/recsys/Amazon/meta_Toys_and_Games.json.gz') as f:\n",
    "    for l in f:\n",
    "        metadata.append(json.loads(l.strip()))"
   ]
  },
  {
   "cell_type": "code",
   "execution_count": 6,
   "metadata": {},
   "outputs": [
    {
     "name": "stdout",
     "output_type": "stream",
     "text": [
      "633883\n",
      "{'category': ['Toys & Games', 'Puzzles', 'Jigsaw Puzzles'], 'tech1': '', 'description': [\"Three Dr. Suess' Puzzles: Green Eggs and Ham, Favorite Friends, and One Fish Two Fish Red Fish Blue Fish\"], 'fit': '', 'title': 'Dr. Suess 19163 Dr. Seuss Puzzle 3 Pack Bundle', 'also_buy': [], 'tech2': '', 'brand': 'Dr. Seuss', 'feature': ['Three giant floor puzzles', 'Includes: Dr. Suess Green Eggs and Ham, Favorite Friends, and One Fish Two Fish Blue Fish', 'Each puzzle has 48 pieces', 'Ages 3 and up'], 'rank': ['>#2,230,717 in Toys & Games (See Top 100 in Toys & Games)', '>#57,419 in Toys & Games > Puzzles > Jigsaw Puzzles'], 'also_view': [], 'main_cat': 'Toys & Games', 'similar_item': '', 'date': '', 'price': '', 'asin': '0000191639', 'imageURL': ['https://images-na.ssl-images-amazon.com/images/I/51rn8TxbcoL._SS40_.jpg', 'https://images-na.ssl-images-amazon.com/images/I/51j1Fep1niL._SS40_.jpg'], 'imageURLHighRes': ['https://images-na.ssl-images-amazon.com/images/I/51rn8TxbcoL.jpg', 'https://images-na.ssl-images-amazon.com/images/I/51j1Fep1niL.jpg']}\n",
      "633883\n"
     ]
    }
   ],
   "source": [
    "# total length of list, this number equals total number of products\n",
    "print(len(metadata))\n",
    "\n",
    "# first row of the list\n",
    "print(metadata[0])\n",
    "\n",
    "# convert list into pandas dataframe\n",
    "\n",
    "df_meta = pd.DataFrame.from_dict(metadata)\n",
    "\n",
    "print(len(df_meta))"
   ]
  },
  {
   "cell_type": "code",
   "execution_count": 7,
   "metadata": {},
   "outputs": [
    {
     "data": {
      "text/html": [
       "<div>\n",
       "<style scoped>\n",
       "    .dataframe tbody tr th:only-of-type {\n",
       "        vertical-align: middle;\n",
       "    }\n",
       "\n",
       "    .dataframe tbody tr th {\n",
       "        vertical-align: top;\n",
       "    }\n",
       "\n",
       "    .dataframe thead th {\n",
       "        text-align: right;\n",
       "    }\n",
       "</style>\n",
       "<table border=\"1\" class=\"dataframe\">\n",
       "  <thead>\n",
       "    <tr style=\"text-align: right;\">\n",
       "      <th></th>\n",
       "      <th>category</th>\n",
       "      <th>tech1</th>\n",
       "      <th>description</th>\n",
       "      <th>fit</th>\n",
       "      <th>title</th>\n",
       "      <th>also_buy</th>\n",
       "      <th>tech2</th>\n",
       "      <th>brand</th>\n",
       "      <th>feature</th>\n",
       "      <th>rank</th>\n",
       "      <th>also_view</th>\n",
       "      <th>main_cat</th>\n",
       "      <th>similar_item</th>\n",
       "      <th>date</th>\n",
       "      <th>price</th>\n",
       "      <th>asin</th>\n",
       "      <th>imageURL</th>\n",
       "      <th>imageURLHighRes</th>\n",
       "      <th>details</th>\n",
       "    </tr>\n",
       "  </thead>\n",
       "  <tbody>\n",
       "    <tr>\n",
       "      <th>0</th>\n",
       "      <td>[Toys &amp; Games, Puzzles, Jigsaw Puzzles]</td>\n",
       "      <td></td>\n",
       "      <td>[Three Dr. Suess' Puzzles: Green Eggs and Ham,...</td>\n",
       "      <td></td>\n",
       "      <td>Dr. Suess 19163 Dr. Seuss Puzzle 3 Pack Bundle</td>\n",
       "      <td>[]</td>\n",
       "      <td></td>\n",
       "      <td>Dr. Seuss</td>\n",
       "      <td>[Three giant floor puzzles, Includes: Dr. Sues...</td>\n",
       "      <td>[&gt;#2,230,717 in Toys &amp; Games (See Top 100 in T...</td>\n",
       "      <td>[]</td>\n",
       "      <td>Toys &amp; Games</td>\n",
       "      <td></td>\n",
       "      <td></td>\n",
       "      <td></td>\n",
       "      <td>0000191639</td>\n",
       "      <td>[https://images-na.ssl-images-amazon.com/image...</td>\n",
       "      <td>[https://images-na.ssl-images-amazon.com/image...</td>\n",
       "      <td>NaN</td>\n",
       "    </tr>\n",
       "    <tr>\n",
       "      <th>1</th>\n",
       "      <td>[]</td>\n",
       "      <td></td>\n",
       "      <td>[&lt;b&gt;Prepare to be Afraid!&lt;/b&gt;&lt;br /&gt;&lt;br /&gt;The B...</td>\n",
       "      <td></td>\n",
       "      <td>Pathfinder: Book of Beasts - Legendary Foes</td>\n",
       "      <td>[]</td>\n",
       "      <td></td>\n",
       "      <td>Pathfinder Roleplaying Jon Brazer Productions</td>\n",
       "      <td>[]</td>\n",
       "      <td>[&gt;#2,294,535 in Toys &amp; Games (See Top 100 in T...</td>\n",
       "      <td>[]</td>\n",
       "      <td>Toys &amp; Games</td>\n",
       "      <td></td>\n",
       "      <td></td>\n",
       "      <td>.a-box-inner{background-color:#fff}#alohaBuyBo...</td>\n",
       "      <td>0004950763</td>\n",
       "      <td>[]</td>\n",
       "      <td>[]</td>\n",
       "      <td>NaN</td>\n",
       "    </tr>\n",
       "    <tr>\n",
       "      <th>2</th>\n",
       "      <td>[]</td>\n",
       "      <td></td>\n",
       "      <td>[]</td>\n",
       "      <td></td>\n",
       "      <td>Nursery Rhymes Felt Book</td>\n",
       "      <td>[]</td>\n",
       "      <td></td>\n",
       "      <td>Betty Lukens</td>\n",
       "      <td>[]</td>\n",
       "      <td>[&gt;#2,871,983 in Toys &amp; Games (See Top 100 in T...</td>\n",
       "      <td>[]</td>\n",
       "      <td>Toys &amp; Games</td>\n",
       "      <td></td>\n",
       "      <td></td>\n",
       "      <td>.a-box-inner{background-color:#fff}#alohaBuyBo...</td>\n",
       "      <td>0005069491</td>\n",
       "      <td>[]</td>\n",
       "      <td>[]</td>\n",
       "      <td>NaN</td>\n",
       "    </tr>\n",
       "    <tr>\n",
       "      <th>3</th>\n",
       "      <td>[Toys &amp; Games, Games, Card Games]</td>\n",
       "      <td></td>\n",
       "      <td>[Blitz Vintage Card Game]</td>\n",
       "      <td></td>\n",
       "      <td>Dutch Blitz Card Game</td>\n",
       "      <td>[B00WIIPQEC]</td>\n",
       "      <td></td>\n",
       "      <td>Dutch Blitz Games Co</td>\n",
       "      <td>[]</td>\n",
       "      <td>[&gt;#376,337 in Toys &amp; Games (See Top 100 in Toy...</td>\n",
       "      <td>[B000BBU0KS, B00NQQTZ5G, B00WIIPQEC, B001VIWAO...</td>\n",
       "      <td>Toys &amp; Games</td>\n",
       "      <td>class=\"a-bordered a-horizontal-stripes  a-spa...</td>\n",
       "      <td></td>\n",
       "      <td>$24.95</td>\n",
       "      <td>0004983289</td>\n",
       "      <td>[]</td>\n",
       "      <td>[]</td>\n",
       "      <td>NaN</td>\n",
       "    </tr>\n",
       "    <tr>\n",
       "      <th>4</th>\n",
       "      <td>[]</td>\n",
       "      <td></td>\n",
       "      <td>[Marvel SuperHeroes themed \"magic ink\" colorin...</td>\n",
       "      <td></td>\n",
       "      <td>Magic Pen Painting (Marvel Super Heroes)</td>\n",
       "      <td>[B009SB7TI8, B009SB8Z1I]</td>\n",
       "      <td></td>\n",
       "      <td>Lee Publications</td>\n",
       "      <td>[]</td>\n",
       "      <td>[&gt;#934,954 in Toys &amp; Games (See Top 100 in Toy...</td>\n",
       "      <td>[]</td>\n",
       "      <td>Toys &amp; Games</td>\n",
       "      <td></td>\n",
       "      <td></td>\n",
       "      <td>$4.92</td>\n",
       "      <td>0006466222</td>\n",
       "      <td>[]</td>\n",
       "      <td>[]</td>\n",
       "      <td>NaN</td>\n",
       "    </tr>\n",
       "  </tbody>\n",
       "</table>\n",
       "</div>"
      ],
      "text/plain": [
       "                                  category tech1  \\\n",
       "0  [Toys & Games, Puzzles, Jigsaw Puzzles]         \n",
       "1                                       []         \n",
       "2                                       []         \n",
       "3        [Toys & Games, Games, Card Games]         \n",
       "4                                       []         \n",
       "\n",
       "                                         description fit  \\\n",
       "0  [Three Dr. Suess' Puzzles: Green Eggs and Ham,...       \n",
       "1  [<b>Prepare to be Afraid!</b><br /><br />The B...       \n",
       "2                                                 []       \n",
       "3                          [Blitz Vintage Card Game]       \n",
       "4  [Marvel SuperHeroes themed \"magic ink\" colorin...       \n",
       "\n",
       "                                            title                  also_buy  \\\n",
       "0  Dr. Suess 19163 Dr. Seuss Puzzle 3 Pack Bundle                        []   \n",
       "1     Pathfinder: Book of Beasts - Legendary Foes                        []   \n",
       "2                        Nursery Rhymes Felt Book                        []   \n",
       "3                           Dutch Blitz Card Game              [B00WIIPQEC]   \n",
       "4        Magic Pen Painting (Marvel Super Heroes)  [B009SB7TI8, B009SB8Z1I]   \n",
       "\n",
       "  tech2                                          brand  \\\n",
       "0                                            Dr. Seuss   \n",
       "1        Pathfinder Roleplaying Jon Brazer Productions   \n",
       "2                                         Betty Lukens   \n",
       "3                                 Dutch Blitz Games Co   \n",
       "4                                     Lee Publications   \n",
       "\n",
       "                                             feature  \\\n",
       "0  [Three giant floor puzzles, Includes: Dr. Sues...   \n",
       "1                                                 []   \n",
       "2                                                 []   \n",
       "3                                                 []   \n",
       "4                                                 []   \n",
       "\n",
       "                                                rank  \\\n",
       "0  [>#2,230,717 in Toys & Games (See Top 100 in T...   \n",
       "1  [>#2,294,535 in Toys & Games (See Top 100 in T...   \n",
       "2  [>#2,871,983 in Toys & Games (See Top 100 in T...   \n",
       "3  [>#376,337 in Toys & Games (See Top 100 in Toy...   \n",
       "4  [>#934,954 in Toys & Games (See Top 100 in Toy...   \n",
       "\n",
       "                                           also_view      main_cat  \\\n",
       "0                                                 []  Toys & Games   \n",
       "1                                                 []  Toys & Games   \n",
       "2                                                 []  Toys & Games   \n",
       "3  [B000BBU0KS, B00NQQTZ5G, B00WIIPQEC, B001VIWAO...  Toys & Games   \n",
       "4                                                 []  Toys & Games   \n",
       "\n",
       "                                        similar_item date  \\\n",
       "0                                                           \n",
       "1                                                           \n",
       "2                                                           \n",
       "3   class=\"a-bordered a-horizontal-stripes  a-spa...        \n",
       "4                                                           \n",
       "\n",
       "                                               price        asin  \\\n",
       "0                                                     0000191639   \n",
       "1  .a-box-inner{background-color:#fff}#alohaBuyBo...  0004950763   \n",
       "2  .a-box-inner{background-color:#fff}#alohaBuyBo...  0005069491   \n",
       "3                                             $24.95  0004983289   \n",
       "4                                              $4.92  0006466222   \n",
       "\n",
       "                                            imageURL  \\\n",
       "0  [https://images-na.ssl-images-amazon.com/image...   \n",
       "1                                                 []   \n",
       "2                                                 []   \n",
       "3                                                 []   \n",
       "4                                                 []   \n",
       "\n",
       "                                     imageURLHighRes details  \n",
       "0  [https://images-na.ssl-images-amazon.com/image...     NaN  \n",
       "1                                                 []     NaN  \n",
       "2                                                 []     NaN  \n",
       "3                                                 []     NaN  \n",
       "4                                                 []     NaN  "
      ]
     },
     "execution_count": 7,
     "metadata": {},
     "output_type": "execute_result"
    }
   ],
   "source": [
    "df_meta.head(5)"
   ]
  },
  {
   "cell_type": "code",
   "execution_count": 8,
   "metadata": {},
   "outputs": [
    {
     "name": "stdout",
     "output_type": "stream",
     "text": [
      "0\n",
      "633883\n"
     ]
    }
   ],
   "source": [
    "df3 = df_meta.fillna('')\n",
    "df4 = df3[df3.title.str.contains('getTime')] # unformatted rows\n",
    "df5 = df3[~df3.title.str.contains('getTime')] # filter those unformatted rows\n",
    "print(len(df4))\n",
    "print(len(df5))"
   ]
  },
  {
   "cell_type": "code",
   "execution_count": 9,
   "metadata": {},
   "outputs": [
    {
     "data": {
      "text/plain": [
       "count    8.201231e+06\n",
       "mean     4.229314e+00\n",
       "std      1.280496e+00\n",
       "min      1.000000e+00\n",
       "25%      4.000000e+00\n",
       "50%      5.000000e+00\n",
       "75%      5.000000e+00\n",
       "max      5.000000e+00\n",
       "Name: overall, dtype: float64"
      ]
     },
     "execution_count": 9,
     "metadata": {},
     "output_type": "execute_result"
    }
   ],
   "source": [
    "# df['rating'].dropna().describe()\n",
    "df['overall'].dropna().describe()"
   ]
  },
  {
   "cell_type": "code",
   "execution_count": 10,
   "metadata": {},
   "outputs": [
    {
     "data": {
      "text/plain": [
       "Index(['overall', 'vote', 'verified', 'reviewTime', 'reviewerID', 'asin',\n",
       "       'reviewerName', 'reviewText', 'summary', 'unixReviewTime', 'image',\n",
       "       'style'],\n",
       "      dtype='object')"
      ]
     },
     "execution_count": 10,
     "metadata": {},
     "output_type": "execute_result"
    }
   ],
   "source": [
    "df.columns"
   ]
  },
  {
   "cell_type": "code",
   "execution_count": 11,
   "metadata": {},
   "outputs": [
    {
     "data": {
      "text/html": [
       "<div>\n",
       "<style scoped>\n",
       "    .dataframe tbody tr th:only-of-type {\n",
       "        vertical-align: middle;\n",
       "    }\n",
       "\n",
       "    .dataframe tbody tr th {\n",
       "        vertical-align: top;\n",
       "    }\n",
       "\n",
       "    .dataframe thead th {\n",
       "        text-align: right;\n",
       "    }\n",
       "</style>\n",
       "<table border=\"1\" class=\"dataframe\">\n",
       "  <thead>\n",
       "    <tr style=\"text-align: right;\">\n",
       "      <th></th>\n",
       "      <th>asin</th>\n",
       "      <th>reviewerID</th>\n",
       "      <th>overall</th>\n",
       "      <th>unixReviewTime</th>\n",
       "      <th>reviewText</th>\n",
       "      <th>summary</th>\n",
       "    </tr>\n",
       "  </thead>\n",
       "  <tbody>\n",
       "    <tr>\n",
       "      <th>0</th>\n",
       "      <td>0020232233</td>\n",
       "      <td>A1IDMI31WEANAF</td>\n",
       "      <td>2.0</td>\n",
       "      <td>1474502400</td>\n",
       "      <td>When it comes to a DM's screen, the space on t...</td>\n",
       "      <td>The fact that 50% of this space is wasted on a...</td>\n",
       "    </tr>\n",
       "    <tr>\n",
       "      <th>1</th>\n",
       "      <td>0020232233</td>\n",
       "      <td>A4BCEVVZ4Y3V3</td>\n",
       "      <td>1.0</td>\n",
       "      <td>1474156800</td>\n",
       "      <td>An Open Letter to GaleForce9*:\\n\\nYour unpaint...</td>\n",
       "      <td>Another worthless Dungeon Master's screen from...</td>\n",
       "    </tr>\n",
       "  </tbody>\n",
       "</table>\n",
       "</div>"
      ],
      "text/plain": [
       "         asin      reviewerID  overall  unixReviewTime  \\\n",
       "0  0020232233  A1IDMI31WEANAF      2.0      1474502400   \n",
       "1  0020232233   A4BCEVVZ4Y3V3      1.0      1474156800   \n",
       "\n",
       "                                          reviewText  \\\n",
       "0  When it comes to a DM's screen, the space on t...   \n",
       "1  An Open Letter to GaleForce9*:\\n\\nYour unpaint...   \n",
       "\n",
       "                                             summary  \n",
       "0  The fact that 50% of this space is wasted on a...  \n",
       "1  Another worthless Dungeon Master's screen from...  "
      ]
     },
     "execution_count": 11,
     "metadata": {},
     "output_type": "execute_result"
    }
   ],
   "source": [
    "rating = df[['asin','reviewerID','overall','unixReviewTime','reviewText','summary']]\n",
    "# rating = df[['rating','timestamp','user_id','asin','helpful_vote']]\n",
    "rating.head(2) "
   ]
  },
  {
   "cell_type": "code",
   "execution_count": 12,
   "metadata": {},
   "outputs": [
    {
     "data": {
      "text/plain": [
       "count    8.201231e+06\n",
       "mean     4.229314e+00\n",
       "std      1.280496e+00\n",
       "min      1.000000e+00\n",
       "25%      4.000000e+00\n",
       "50%      5.000000e+00\n",
       "75%      5.000000e+00\n",
       "max      5.000000e+00\n",
       "Name: overall, dtype: float64"
      ]
     },
     "execution_count": 12,
     "metadata": {},
     "output_type": "execute_result"
    }
   ],
   "source": [
    "rating['overall'].describe()"
   ]
  },
  {
   "cell_type": "code",
   "execution_count": 13,
   "metadata": {},
   "outputs": [],
   "source": [
    "# rating = rating[['asin','reviewerID','overall','unixReviewTime']]\n",
    "# rating = rating[['asin','user_id','rating','timestamp']]\n",
    "rating.columns = ['asin','user','rating','timestamp','review','summary']"
   ]
  },
  {
   "cell_type": "code",
   "execution_count": 14,
   "metadata": {},
   "outputs": [
    {
     "data": {
      "text/plain": [
       "Index(['category', 'tech1', 'description', 'fit', 'title', 'also_buy', 'tech2',\n",
       "       'brand', 'feature', 'rank', 'also_view', 'main_cat', 'similar_item',\n",
       "       'date', 'price', 'asin', 'imageURL', 'imageURLHighRes', 'details'],\n",
       "      dtype='object')"
      ]
     },
     "execution_count": 14,
     "metadata": {},
     "output_type": "execute_result"
    }
   ],
   "source": [
    "df5.columns"
   ]
  },
  {
   "cell_type": "code",
   "execution_count": 15,
   "metadata": {},
   "outputs": [
    {
     "data": {
      "text/html": [
       "<div>\n",
       "<style scoped>\n",
       "    .dataframe tbody tr th:only-of-type {\n",
       "        vertical-align: middle;\n",
       "    }\n",
       "\n",
       "    .dataframe tbody tr th {\n",
       "        vertical-align: top;\n",
       "    }\n",
       "\n",
       "    .dataframe thead th {\n",
       "        text-align: right;\n",
       "    }\n",
       "</style>\n",
       "<table border=\"1\" class=\"dataframe\">\n",
       "  <thead>\n",
       "    <tr style=\"text-align: right;\">\n",
       "      <th></th>\n",
       "      <th>asin</th>\n",
       "      <th>category</th>\n",
       "      <th>title</th>\n",
       "      <th>description</th>\n",
       "      <th>price</th>\n",
       "      <th>brand</th>\n",
       "    </tr>\n",
       "  </thead>\n",
       "  <tbody>\n",
       "    <tr>\n",
       "      <th>0</th>\n",
       "      <td>0000191639</td>\n",
       "      <td>[Toys &amp; Games, Puzzles, Jigsaw Puzzles]</td>\n",
       "      <td>Dr. Suess 19163 Dr. Seuss Puzzle 3 Pack Bundle</td>\n",
       "      <td>[Three Dr. Suess' Puzzles: Green Eggs and Ham,...</td>\n",
       "      <td></td>\n",
       "      <td>Dr. Seuss</td>\n",
       "    </tr>\n",
       "    <tr>\n",
       "      <th>1</th>\n",
       "      <td>0004950763</td>\n",
       "      <td>[]</td>\n",
       "      <td>Pathfinder: Book of Beasts - Legendary Foes</td>\n",
       "      <td>[&lt;b&gt;Prepare to be Afraid!&lt;/b&gt;&lt;br /&gt;&lt;br /&gt;The B...</td>\n",
       "      <td>.a-box-inner{background-color:#fff}#alohaBuyBo...</td>\n",
       "      <td>Pathfinder Roleplaying Jon Brazer Productions</td>\n",
       "    </tr>\n",
       "  </tbody>\n",
       "</table>\n",
       "</div>"
      ],
      "text/plain": [
       "         asin                                 category  \\\n",
       "0  0000191639  [Toys & Games, Puzzles, Jigsaw Puzzles]   \n",
       "1  0004950763                                       []   \n",
       "\n",
       "                                            title  \\\n",
       "0  Dr. Suess 19163 Dr. Seuss Puzzle 3 Pack Bundle   \n",
       "1     Pathfinder: Book of Beasts - Legendary Foes   \n",
       "\n",
       "                                         description  \\\n",
       "0  [Three Dr. Suess' Puzzles: Green Eggs and Ham,...   \n",
       "1  [<b>Prepare to be Afraid!</b><br /><br />The B...   \n",
       "\n",
       "                                               price  \\\n",
       "0                                                      \n",
       "1  .a-box-inner{background-color:#fff}#alohaBuyBo...   \n",
       "\n",
       "                                           brand  \n",
       "0                                      Dr. Seuss  \n",
       "1  Pathfinder Roleplaying Jon Brazer Productions  "
      ]
     },
     "execution_count": 15,
     "metadata": {},
     "output_type": "execute_result"
    }
   ],
   "source": [
    "# meta_data = df5[['asin','category','title','brand','price']]\n",
    "meta_data = df5[['asin','category','title','description','price','brand']]\n",
    "# meta_data.columns = ['asin','category','title','brand','price']\n",
    "meta_data.head(2)"
   ]
  },
  {
   "cell_type": "code",
   "execution_count": 16,
   "metadata": {},
   "outputs": [
    {
     "data": {
      "text/plain": [
       "(633883, 6)"
      ]
     },
     "execution_count": 16,
     "metadata": {},
     "output_type": "execute_result"
    }
   ],
   "source": [
    "meta_data.shape"
   ]
  },
  {
   "cell_type": "code",
   "execution_count": 17,
   "metadata": {},
   "outputs": [
    {
     "name": "stderr",
     "output_type": "stream",
     "text": [
      "/tmp/ipykernel_2145651/2482686894.py:1: SettingWithCopyWarning: \n",
      "A value is trying to be set on a copy of a slice from a DataFrame.\n",
      "Try using .loc[row_indexer,col_indexer] = value instead\n",
      "\n",
      "See the caveats in the documentation: https://pandas.pydata.org/pandas-docs/stable/user_guide/indexing.html#returning-a-view-versus-a-copy\n",
      "  meta_data['title'] = meta_data['title'].apply(lambda x: re.sub(r'<[^>]+>', ' ', x.replace('&','')))\n",
      "/tmp/ipykernel_2145651/2482686894.py:2: SettingWithCopyWarning: \n",
      "A value is trying to be set on a copy of a slice from a DataFrame.\n",
      "Try using .loc[row_indexer,col_indexer] = value instead\n",
      "\n",
      "See the caveats in the documentation: https://pandas.pydata.org/pandas-docs/stable/user_guide/indexing.html#returning-a-view-versus-a-copy\n",
      "  meta_data['title'] = meta_data['title'].apply(lambda x: re.sub(r'\\s+', ' ', x.strip()))\n"
     ]
    }
   ],
   "source": [
    "meta_data['title'] = meta_data['title'].apply(lambda x: re.sub(r'<[^>]+>', ' ', x.replace('&','')))\n",
    "meta_data['title'] = meta_data['title'].apply(lambda x: re.sub(r'\\s+', ' ', x.strip()))"
   ]
  },
  {
   "cell_type": "code",
   "execution_count": 18,
   "metadata": {},
   "outputs": [
    {
     "data": {
      "text/plain": [
       "(624284, 6)"
      ]
     },
     "execution_count": 18,
     "metadata": {},
     "output_type": "execute_result"
    }
   ],
   "source": [
    "meta_data = meta_data.drop_duplicates(subset=['asin'],keep='last')\n",
    "# meta_data = meta_data.drop_duplicates(subset=['title'],keep='last')\n",
    "meta_data.shape"
   ]
  },
  {
   "cell_type": "code",
   "execution_count": 19,
   "metadata": {},
   "outputs": [
    {
     "data": {
      "text/plain": [
       "617895"
      ]
     },
     "execution_count": 19,
     "metadata": {},
     "output_type": "execute_result"
    }
   ],
   "source": [
    "len(set(meta_data['title']))"
   ]
  },
  {
   "cell_type": "code",
   "execution_count": 20,
   "metadata": {},
   "outputs": [
    {
     "data": {
      "text/html": [
       "<div>\n",
       "<style scoped>\n",
       "    .dataframe tbody tr th:only-of-type {\n",
       "        vertical-align: middle;\n",
       "    }\n",
       "\n",
       "    .dataframe tbody tr th {\n",
       "        vertical-align: top;\n",
       "    }\n",
       "\n",
       "    .dataframe thead th {\n",
       "        text-align: right;\n",
       "    }\n",
       "</style>\n",
       "<table border=\"1\" class=\"dataframe\">\n",
       "  <thead>\n",
       "    <tr style=\"text-align: right;\">\n",
       "      <th></th>\n",
       "      <th>asin</th>\n",
       "      <th>category</th>\n",
       "      <th>title</th>\n",
       "      <th>description</th>\n",
       "      <th>price</th>\n",
       "      <th>brand</th>\n",
       "    </tr>\n",
       "  </thead>\n",
       "  <tbody>\n",
       "    <tr>\n",
       "      <th>0</th>\n",
       "      <td>0000191639</td>\n",
       "      <td>[Toys &amp; Games, Puzzles, Jigsaw Puzzles]</td>\n",
       "      <td>Dr. Suess 19163 Dr. Seuss Puzzle 3 Pack Bundle</td>\n",
       "      <td>[Three Dr. Suess' Puzzles: Green Eggs and Ham,...</td>\n",
       "      <td></td>\n",
       "      <td>Dr. Seuss</td>\n",
       "    </tr>\n",
       "    <tr>\n",
       "      <th>1</th>\n",
       "      <td>0004950763</td>\n",
       "      <td>[]</td>\n",
       "      <td>Pathfinder: Book of Beasts - Legendary Foes</td>\n",
       "      <td>[&lt;b&gt;Prepare to be Afraid!&lt;/b&gt;&lt;br /&gt;&lt;br /&gt;The B...</td>\n",
       "      <td>.a-box-inner{background-color:#fff}#alohaBuyBo...</td>\n",
       "      <td>Pathfinder Roleplaying Jon Brazer Productions</td>\n",
       "    </tr>\n",
       "  </tbody>\n",
       "</table>\n",
       "</div>"
      ],
      "text/plain": [
       "         asin                                 category  \\\n",
       "0  0000191639  [Toys & Games, Puzzles, Jigsaw Puzzles]   \n",
       "1  0004950763                                       []   \n",
       "\n",
       "                                            title  \\\n",
       "0  Dr. Suess 19163 Dr. Seuss Puzzle 3 Pack Bundle   \n",
       "1     Pathfinder: Book of Beasts - Legendary Foes   \n",
       "\n",
       "                                         description  \\\n",
       "0  [Three Dr. Suess' Puzzles: Green Eggs and Ham,...   \n",
       "1  [<b>Prepare to be Afraid!</b><br /><br />The B...   \n",
       "\n",
       "                                               price  \\\n",
       "0                                                      \n",
       "1  .a-box-inner{background-color:#fff}#alohaBuyBo...   \n",
       "\n",
       "                                           brand  \n",
       "0                                      Dr. Seuss  \n",
       "1  Pathfinder Roleplaying Jon Brazer Productions  "
      ]
     },
     "execution_count": 20,
     "metadata": {},
     "output_type": "execute_result"
    }
   ],
   "source": [
    "meta_data.head(2)"
   ]
  },
  {
   "cell_type": "code",
   "execution_count": 21,
   "metadata": {},
   "outputs": [],
   "source": [
    "data = rating.merge(meta_data,on='asin',how='right')"
   ]
  },
  {
   "cell_type": "code",
   "execution_count": 22,
   "metadata": {},
   "outputs": [
    {
     "data": {
      "text/html": [
       "<div>\n",
       "<style scoped>\n",
       "    .dataframe tbody tr th:only-of-type {\n",
       "        vertical-align: middle;\n",
       "    }\n",
       "\n",
       "    .dataframe tbody tr th {\n",
       "        vertical-align: top;\n",
       "    }\n",
       "\n",
       "    .dataframe thead th {\n",
       "        text-align: right;\n",
       "    }\n",
       "</style>\n",
       "<table border=\"1\" class=\"dataframe\">\n",
       "  <thead>\n",
       "    <tr style=\"text-align: right;\">\n",
       "      <th></th>\n",
       "      <th>asin</th>\n",
       "      <th>user</th>\n",
       "      <th>rating</th>\n",
       "      <th>timestamp</th>\n",
       "      <th>review</th>\n",
       "      <th>summary</th>\n",
       "      <th>category</th>\n",
       "      <th>title</th>\n",
       "      <th>description</th>\n",
       "      <th>price</th>\n",
       "      <th>brand</th>\n",
       "    </tr>\n",
       "  </thead>\n",
       "  <tbody>\n",
       "    <tr>\n",
       "      <th>0</th>\n",
       "      <td>0000191639</td>\n",
       "      <td>AMEVO2LY6VEJA</td>\n",
       "      <td>5.0</td>\n",
       "      <td>1.388016e+09</td>\n",
       "      <td>Great product, thank you! Our son loved the pu...</td>\n",
       "      <td>Puzzles</td>\n",
       "      <td>[Toys &amp; Games, Puzzles, Jigsaw Puzzles]</td>\n",
       "      <td>Dr. Suess 19163 Dr. Seuss Puzzle 3 Pack Bundle</td>\n",
       "      <td>[Three Dr. Suess' Puzzles: Green Eggs and Ham,...</td>\n",
       "      <td></td>\n",
       "      <td>Dr. Seuss</td>\n",
       "    </tr>\n",
       "    <tr>\n",
       "      <th>1</th>\n",
       "      <td>0004950763</td>\n",
       "      <td>A3H4ZZTMCQK1A2</td>\n",
       "      <td>5.0</td>\n",
       "      <td>1.444781e+09</td>\n",
       "      <td>Truly amazing</td>\n",
       "      <td>Five Stars</td>\n",
       "      <td>[]</td>\n",
       "      <td>Pathfinder: Book of Beasts - Legendary Foes</td>\n",
       "      <td>[&lt;b&gt;Prepare to be Afraid!&lt;/b&gt;&lt;br /&gt;&lt;br /&gt;The B...</td>\n",
       "      <td>.a-box-inner{background-color:#fff}#alohaBuyBo...</td>\n",
       "      <td>Pathfinder Roleplaying Jon Brazer Productions</td>\n",
       "    </tr>\n",
       "  </tbody>\n",
       "</table>\n",
       "</div>"
      ],
      "text/plain": [
       "         asin            user  rating     timestamp  \\\n",
       "0  0000191639   AMEVO2LY6VEJA     5.0  1.388016e+09   \n",
       "1  0004950763  A3H4ZZTMCQK1A2     5.0  1.444781e+09   \n",
       "\n",
       "                                              review     summary  \\\n",
       "0  Great product, thank you! Our son loved the pu...     Puzzles   \n",
       "1                                      Truly amazing  Five Stars   \n",
       "\n",
       "                                  category  \\\n",
       "0  [Toys & Games, Puzzles, Jigsaw Puzzles]   \n",
       "1                                       []   \n",
       "\n",
       "                                            title  \\\n",
       "0  Dr. Suess 19163 Dr. Seuss Puzzle 3 Pack Bundle   \n",
       "1     Pathfinder: Book of Beasts - Legendary Foes   \n",
       "\n",
       "                                         description  \\\n",
       "0  [Three Dr. Suess' Puzzles: Green Eggs and Ham,...   \n",
       "1  [<b>Prepare to be Afraid!</b><br /><br />The B...   \n",
       "\n",
       "                                               price  \\\n",
       "0                                                      \n",
       "1  .a-box-inner{background-color:#fff}#alohaBuyBo...   \n",
       "\n",
       "                                           brand  \n",
       "0                                      Dr. Seuss  \n",
       "1  Pathfinder Roleplaying Jon Brazer Productions  "
      ]
     },
     "execution_count": 22,
     "metadata": {},
     "output_type": "execute_result"
    }
   ],
   "source": [
    "data.head(2)"
   ]
  },
  {
   "cell_type": "code",
   "execution_count": 23,
   "metadata": {},
   "outputs": [
    {
     "data": {
      "text/plain": [
       "(8191697, 11)"
      ]
     },
     "execution_count": 23,
     "metadata": {},
     "output_type": "execute_result"
    }
   ],
   "source": [
    "data.shape"
   ]
  },
  {
   "cell_type": "code",
   "execution_count": 24,
   "metadata": {},
   "outputs": [],
   "source": [
    "data.dropna(subset=['user'], inplace=True)\n",
    "data.dropna(subset=['asin'], inplace=True)\n",
    "data.dropna(subset=['title'], inplace=True)\n",
    "data.dropna(subset=['timestamp'], inplace=True)"
   ]
  },
  {
   "cell_type": "code",
   "execution_count": 25,
   "metadata": {},
   "outputs": [
    {
     "data": {
      "text/plain": [
       "(8191674, 11)"
      ]
     },
     "execution_count": 25,
     "metadata": {},
     "output_type": "execute_result"
    }
   ],
   "source": [
    "data.shape"
   ]
  },
  {
   "cell_type": "code",
   "execution_count": 26,
   "metadata": {},
   "outputs": [
    {
     "data": {
      "text/html": [
       "<div>\n",
       "<style scoped>\n",
       "    .dataframe tbody tr th:only-of-type {\n",
       "        vertical-align: middle;\n",
       "    }\n",
       "\n",
       "    .dataframe tbody tr th {\n",
       "        vertical-align: top;\n",
       "    }\n",
       "\n",
       "    .dataframe thead th {\n",
       "        text-align: right;\n",
       "    }\n",
       "</style>\n",
       "<table border=\"1\" class=\"dataframe\">\n",
       "  <thead>\n",
       "    <tr style=\"text-align: right;\">\n",
       "      <th></th>\n",
       "      <th>asin</th>\n",
       "      <th>user</th>\n",
       "      <th>rating</th>\n",
       "      <th>timestamp</th>\n",
       "      <th>review</th>\n",
       "      <th>summary</th>\n",
       "      <th>category</th>\n",
       "      <th>title</th>\n",
       "      <th>description</th>\n",
       "      <th>price</th>\n",
       "      <th>brand</th>\n",
       "    </tr>\n",
       "  </thead>\n",
       "  <tbody>\n",
       "    <tr>\n",
       "      <th>0</th>\n",
       "      <td>0000191639</td>\n",
       "      <td>AMEVO2LY6VEJA</td>\n",
       "      <td>5.0</td>\n",
       "      <td>1.388016e+09</td>\n",
       "      <td>Great product, thank you! Our son loved the pu...</td>\n",
       "      <td>Puzzles</td>\n",
       "      <td>[Toys &amp; Games, Puzzles, Jigsaw Puzzles]</td>\n",
       "      <td>Dr. Suess 19163 Dr. Seuss Puzzle 3 Pack Bundle</td>\n",
       "      <td>[Three Dr. Suess' Puzzles: Green Eggs and Ham,...</td>\n",
       "      <td></td>\n",
       "      <td>Dr. Seuss</td>\n",
       "    </tr>\n",
       "    <tr>\n",
       "      <th>1</th>\n",
       "      <td>0004950763</td>\n",
       "      <td>A3H4ZZTMCQK1A2</td>\n",
       "      <td>5.0</td>\n",
       "      <td>1.444781e+09</td>\n",
       "      <td>Truly amazing</td>\n",
       "      <td>Five Stars</td>\n",
       "      <td>[]</td>\n",
       "      <td>Pathfinder: Book of Beasts - Legendary Foes</td>\n",
       "      <td>[&lt;b&gt;Prepare to be Afraid!&lt;/b&gt;&lt;br /&gt;&lt;br /&gt;The B...</td>\n",
       "      <td>.a-box-inner{background-color:#fff}#alohaBuyBo...</td>\n",
       "      <td>Pathfinder Roleplaying Jon Brazer Productions</td>\n",
       "    </tr>\n",
       "    <tr>\n",
       "      <th>2</th>\n",
       "      <td>0005069491</td>\n",
       "      <td>A3C9CSW3TJITGT</td>\n",
       "      <td>4.0</td>\n",
       "      <td>1.377562e+09</td>\n",
       "      <td>I love these felt nursery rhyme characters and...</td>\n",
       "      <td>Charming characters but busy work required</td>\n",
       "      <td>[]</td>\n",
       "      <td>Nursery Rhymes Felt Book</td>\n",
       "      <td>[]</td>\n",
       "      <td>.a-box-inner{background-color:#fff}#alohaBuyBo...</td>\n",
       "      <td>Betty Lukens</td>\n",
       "    </tr>\n",
       "    <tr>\n",
       "      <th>3</th>\n",
       "      <td>0004983289</td>\n",
       "      <td>ASZZ869682237</td>\n",
       "      <td>5.0</td>\n",
       "      <td>1.522195e+09</td>\n",
       "      <td>Love this game!!! Game came with 4 different c...</td>\n",
       "      <td>Fun Game!!</td>\n",
       "      <td>[Toys &amp; Games, Games, Card Games]</td>\n",
       "      <td>Dutch Blitz Card Game</td>\n",
       "      <td>[Blitz Vintage Card Game]</td>\n",
       "      <td>$24.95</td>\n",
       "      <td>Dutch Blitz Games Co</td>\n",
       "    </tr>\n",
       "    <tr>\n",
       "      <th>4</th>\n",
       "      <td>0004983289</td>\n",
       "      <td>A2N9CIXRV5BBKM</td>\n",
       "      <td>5.0</td>\n",
       "      <td>1.497139e+09</td>\n",
       "      <td>Love this game!  It's fast, entertaining and j...</td>\n",
       "      <td>Five Stars</td>\n",
       "      <td>[Toys &amp; Games, Games, Card Games]</td>\n",
       "      <td>Dutch Blitz Card Game</td>\n",
       "      <td>[Blitz Vintage Card Game]</td>\n",
       "      <td>$24.95</td>\n",
       "      <td>Dutch Blitz Games Co</td>\n",
       "    </tr>\n",
       "  </tbody>\n",
       "</table>\n",
       "</div>"
      ],
      "text/plain": [
       "         asin            user  rating     timestamp  \\\n",
       "0  0000191639   AMEVO2LY6VEJA     5.0  1.388016e+09   \n",
       "1  0004950763  A3H4ZZTMCQK1A2     5.0  1.444781e+09   \n",
       "2  0005069491  A3C9CSW3TJITGT     4.0  1.377562e+09   \n",
       "3  0004983289   ASZZ869682237     5.0  1.522195e+09   \n",
       "4  0004983289  A2N9CIXRV5BBKM     5.0  1.497139e+09   \n",
       "\n",
       "                                              review  \\\n",
       "0  Great product, thank you! Our son loved the pu...   \n",
       "1                                      Truly amazing   \n",
       "2  I love these felt nursery rhyme characters and...   \n",
       "3  Love this game!!! Game came with 4 different c...   \n",
       "4  Love this game!  It's fast, entertaining and j...   \n",
       "\n",
       "                                      summary  \\\n",
       "0                                     Puzzles   \n",
       "1                                  Five Stars   \n",
       "2  Charming characters but busy work required   \n",
       "3                                  Fun Game!!   \n",
       "4                                  Five Stars   \n",
       "\n",
       "                                  category  \\\n",
       "0  [Toys & Games, Puzzles, Jigsaw Puzzles]   \n",
       "1                                       []   \n",
       "2                                       []   \n",
       "3        [Toys & Games, Games, Card Games]   \n",
       "4        [Toys & Games, Games, Card Games]   \n",
       "\n",
       "                                            title  \\\n",
       "0  Dr. Suess 19163 Dr. Seuss Puzzle 3 Pack Bundle   \n",
       "1     Pathfinder: Book of Beasts - Legendary Foes   \n",
       "2                        Nursery Rhymes Felt Book   \n",
       "3                           Dutch Blitz Card Game   \n",
       "4                           Dutch Blitz Card Game   \n",
       "\n",
       "                                         description  \\\n",
       "0  [Three Dr. Suess' Puzzles: Green Eggs and Ham,...   \n",
       "1  [<b>Prepare to be Afraid!</b><br /><br />The B...   \n",
       "2                                                 []   \n",
       "3                          [Blitz Vintage Card Game]   \n",
       "4                          [Blitz Vintage Card Game]   \n",
       "\n",
       "                                               price  \\\n",
       "0                                                      \n",
       "1  .a-box-inner{background-color:#fff}#alohaBuyBo...   \n",
       "2  .a-box-inner{background-color:#fff}#alohaBuyBo...   \n",
       "3                                             $24.95   \n",
       "4                                             $24.95   \n",
       "\n",
       "                                           brand  \n",
       "0                                      Dr. Seuss  \n",
       "1  Pathfinder Roleplaying Jon Brazer Productions  \n",
       "2                                   Betty Lukens  \n",
       "3                           Dutch Blitz Games Co  \n",
       "4                           Dutch Blitz Games Co  "
      ]
     },
     "execution_count": 26,
     "metadata": {},
     "output_type": "execute_result"
    }
   ],
   "source": [
    "data.head()"
   ]
  },
  {
   "cell_type": "code",
   "execution_count": 27,
   "metadata": {},
   "outputs": [
    {
     "data": {
      "text/plain": [
       "(list, list, str, str, str, str, str)"
      ]
     },
     "execution_count": 27,
     "metadata": {},
     "output_type": "execute_result"
    }
   ],
   "source": [
    "#查看title列数据类型\n",
    "type(data['category'][0]),type(data['description'][0]),type(data['title'][0]),type(data['price'][0]),type(data['brand'][0]),type(data['review'][0]),type(data['summary'][0])"
   ]
  },
  {
   "cell_type": "code",
   "execution_count": 28,
   "metadata": {},
   "outputs": [],
   "source": [
    "data['description'] = data['description'].apply(lambda x: ', '.join(x) if x else '')\n",
    "data['category'] = data['category'].apply(lambda x: ', '.join(x[1:]) if x else '')"
   ]
  },
  {
   "cell_type": "code",
   "execution_count": 29,
   "metadata": {},
   "outputs": [
    {
     "data": {
      "text/html": [
       "<div>\n",
       "<style scoped>\n",
       "    .dataframe tbody tr th:only-of-type {\n",
       "        vertical-align: middle;\n",
       "    }\n",
       "\n",
       "    .dataframe tbody tr th {\n",
       "        vertical-align: top;\n",
       "    }\n",
       "\n",
       "    .dataframe thead th {\n",
       "        text-align: right;\n",
       "    }\n",
       "</style>\n",
       "<table border=\"1\" class=\"dataframe\">\n",
       "  <thead>\n",
       "    <tr style=\"text-align: right;\">\n",
       "      <th></th>\n",
       "      <th>asin</th>\n",
       "      <th>user</th>\n",
       "      <th>rating</th>\n",
       "      <th>timestamp</th>\n",
       "      <th>review</th>\n",
       "      <th>summary</th>\n",
       "      <th>category</th>\n",
       "      <th>title</th>\n",
       "      <th>description</th>\n",
       "      <th>price</th>\n",
       "      <th>brand</th>\n",
       "    </tr>\n",
       "  </thead>\n",
       "  <tbody>\n",
       "    <tr>\n",
       "      <th>0</th>\n",
       "      <td>0000191639</td>\n",
       "      <td>AMEVO2LY6VEJA</td>\n",
       "      <td>5.0</td>\n",
       "      <td>1.388016e+09</td>\n",
       "      <td>Great product, thank you! Our son loved the pu...</td>\n",
       "      <td>Puzzles</td>\n",
       "      <td>Puzzles, Jigsaw Puzzles</td>\n",
       "      <td>Dr. Suess 19163 Dr. Seuss Puzzle 3 Pack Bundle</td>\n",
       "      <td>Three Dr. Suess' Puzzles: Green Eggs and Ham, ...</td>\n",
       "      <td></td>\n",
       "      <td>Dr. Seuss</td>\n",
       "    </tr>\n",
       "    <tr>\n",
       "      <th>1</th>\n",
       "      <td>0004950763</td>\n",
       "      <td>A3H4ZZTMCQK1A2</td>\n",
       "      <td>5.0</td>\n",
       "      <td>1.444781e+09</td>\n",
       "      <td>Truly amazing</td>\n",
       "      <td>Five Stars</td>\n",
       "      <td></td>\n",
       "      <td>Pathfinder: Book of Beasts - Legendary Foes</td>\n",
       "      <td>&lt;b&gt;Prepare to be Afraid!&lt;/b&gt;&lt;br /&gt;&lt;br /&gt;The Bo...</td>\n",
       "      <td>.a-box-inner{background-color:#fff}#alohaBuyBo...</td>\n",
       "      <td>Pathfinder Roleplaying Jon Brazer Productions</td>\n",
       "    </tr>\n",
       "    <tr>\n",
       "      <th>2</th>\n",
       "      <td>0005069491</td>\n",
       "      <td>A3C9CSW3TJITGT</td>\n",
       "      <td>4.0</td>\n",
       "      <td>1.377562e+09</td>\n",
       "      <td>I love these felt nursery rhyme characters and...</td>\n",
       "      <td>Charming characters but busy work required</td>\n",
       "      <td></td>\n",
       "      <td>Nursery Rhymes Felt Book</td>\n",
       "      <td></td>\n",
       "      <td>.a-box-inner{background-color:#fff}#alohaBuyBo...</td>\n",
       "      <td>Betty Lukens</td>\n",
       "    </tr>\n",
       "    <tr>\n",
       "      <th>3</th>\n",
       "      <td>0004983289</td>\n",
       "      <td>ASZZ869682237</td>\n",
       "      <td>5.0</td>\n",
       "      <td>1.522195e+09</td>\n",
       "      <td>Love this game!!! Game came with 4 different c...</td>\n",
       "      <td>Fun Game!!</td>\n",
       "      <td>Games, Card Games</td>\n",
       "      <td>Dutch Blitz Card Game</td>\n",
       "      <td>Blitz Vintage Card Game</td>\n",
       "      <td>$24.95</td>\n",
       "      <td>Dutch Blitz Games Co</td>\n",
       "    </tr>\n",
       "    <tr>\n",
       "      <th>4</th>\n",
       "      <td>0004983289</td>\n",
       "      <td>A2N9CIXRV5BBKM</td>\n",
       "      <td>5.0</td>\n",
       "      <td>1.497139e+09</td>\n",
       "      <td>Love this game!  It's fast, entertaining and j...</td>\n",
       "      <td>Five Stars</td>\n",
       "      <td>Games, Card Games</td>\n",
       "      <td>Dutch Blitz Card Game</td>\n",
       "      <td>Blitz Vintage Card Game</td>\n",
       "      <td>$24.95</td>\n",
       "      <td>Dutch Blitz Games Co</td>\n",
       "    </tr>\n",
       "  </tbody>\n",
       "</table>\n",
       "</div>"
      ],
      "text/plain": [
       "         asin            user  rating     timestamp  \\\n",
       "0  0000191639   AMEVO2LY6VEJA     5.0  1.388016e+09   \n",
       "1  0004950763  A3H4ZZTMCQK1A2     5.0  1.444781e+09   \n",
       "2  0005069491  A3C9CSW3TJITGT     4.0  1.377562e+09   \n",
       "3  0004983289   ASZZ869682237     5.0  1.522195e+09   \n",
       "4  0004983289  A2N9CIXRV5BBKM     5.0  1.497139e+09   \n",
       "\n",
       "                                              review  \\\n",
       "0  Great product, thank you! Our son loved the pu...   \n",
       "1                                      Truly amazing   \n",
       "2  I love these felt nursery rhyme characters and...   \n",
       "3  Love this game!!! Game came with 4 different c...   \n",
       "4  Love this game!  It's fast, entertaining and j...   \n",
       "\n",
       "                                      summary                 category  \\\n",
       "0                                     Puzzles  Puzzles, Jigsaw Puzzles   \n",
       "1                                  Five Stars                            \n",
       "2  Charming characters but busy work required                            \n",
       "3                                  Fun Game!!        Games, Card Games   \n",
       "4                                  Five Stars        Games, Card Games   \n",
       "\n",
       "                                            title  \\\n",
       "0  Dr. Suess 19163 Dr. Seuss Puzzle 3 Pack Bundle   \n",
       "1     Pathfinder: Book of Beasts - Legendary Foes   \n",
       "2                        Nursery Rhymes Felt Book   \n",
       "3                           Dutch Blitz Card Game   \n",
       "4                           Dutch Blitz Card Game   \n",
       "\n",
       "                                         description  \\\n",
       "0  Three Dr. Suess' Puzzles: Green Eggs and Ham, ...   \n",
       "1  <b>Prepare to be Afraid!</b><br /><br />The Bo...   \n",
       "2                                                      \n",
       "3                            Blitz Vintage Card Game   \n",
       "4                            Blitz Vintage Card Game   \n",
       "\n",
       "                                               price  \\\n",
       "0                                                      \n",
       "1  .a-box-inner{background-color:#fff}#alohaBuyBo...   \n",
       "2  .a-box-inner{background-color:#fff}#alohaBuyBo...   \n",
       "3                                             $24.95   \n",
       "4                                             $24.95   \n",
       "\n",
       "                                           brand  \n",
       "0                                      Dr. Seuss  \n",
       "1  Pathfinder Roleplaying Jon Brazer Productions  \n",
       "2                                   Betty Lukens  \n",
       "3                           Dutch Blitz Games Co  \n",
       "4                           Dutch Blitz Games Co  "
      ]
     },
     "execution_count": 29,
     "metadata": {},
     "output_type": "execute_result"
    }
   ],
   "source": [
    "data.head(5)"
   ]
  },
  {
   "cell_type": "code",
   "execution_count": 30,
   "metadata": {},
   "outputs": [
    {
     "data": {
      "text/html": [
       "<div>\n",
       "<style scoped>\n",
       "    .dataframe tbody tr th:only-of-type {\n",
       "        vertical-align: middle;\n",
       "    }\n",
       "\n",
       "    .dataframe tbody tr th {\n",
       "        vertical-align: top;\n",
       "    }\n",
       "\n",
       "    .dataframe thead th {\n",
       "        text-align: right;\n",
       "    }\n",
       "</style>\n",
       "<table border=\"1\" class=\"dataframe\">\n",
       "  <thead>\n",
       "    <tr style=\"text-align: right;\">\n",
       "      <th></th>\n",
       "      <th>asin</th>\n",
       "      <th>user</th>\n",
       "      <th>rating</th>\n",
       "      <th>timestamp</th>\n",
       "      <th>review</th>\n",
       "      <th>summary</th>\n",
       "      <th>category</th>\n",
       "      <th>title</th>\n",
       "      <th>description</th>\n",
       "      <th>price</th>\n",
       "      <th>brand</th>\n",
       "    </tr>\n",
       "  </thead>\n",
       "  <tbody>\n",
       "    <tr>\n",
       "      <th>0</th>\n",
       "      <td>0000191639</td>\n",
       "      <td>AMEVO2LY6VEJA</td>\n",
       "      <td>5.0</td>\n",
       "      <td>1.388016e+09</td>\n",
       "      <td>Great product, thank you! Our son loved the pu...</td>\n",
       "      <td>Puzzles</td>\n",
       "      <td>Puzzles, Jigsaw Puzzles</td>\n",
       "      <td>Dr. Suess 19163 Dr. Seuss Puzzle 3 Pack Bundle</td>\n",
       "      <td>Three Dr. Suess' Puzzles: Green Eggs and Ham, ...</td>\n",
       "      <td></td>\n",
       "      <td>Dr. Seuss</td>\n",
       "    </tr>\n",
       "    <tr>\n",
       "      <th>1</th>\n",
       "      <td>0004950763</td>\n",
       "      <td>A3H4ZZTMCQK1A2</td>\n",
       "      <td>5.0</td>\n",
       "      <td>1.444781e+09</td>\n",
       "      <td>Truly amazing</td>\n",
       "      <td>Five Stars</td>\n",
       "      <td></td>\n",
       "      <td>Pathfinder: Book of Beasts - Legendary Foes</td>\n",
       "      <td>&lt;b&gt;Prepare to be Afraid!&lt;/b&gt;&lt;br /&gt;&lt;br /&gt;The Bo...</td>\n",
       "      <td>.a-box-inner{background-color:#fff}#alohaBuyBo...</td>\n",
       "      <td>Pathfinder Roleplaying Jon Brazer Productions</td>\n",
       "    </tr>\n",
       "  </tbody>\n",
       "</table>\n",
       "</div>"
      ],
      "text/plain": [
       "         asin            user  rating     timestamp  \\\n",
       "0  0000191639   AMEVO2LY6VEJA     5.0  1.388016e+09   \n",
       "1  0004950763  A3H4ZZTMCQK1A2     5.0  1.444781e+09   \n",
       "\n",
       "                                              review     summary  \\\n",
       "0  Great product, thank you! Our son loved the pu...     Puzzles   \n",
       "1                                      Truly amazing  Five Stars   \n",
       "\n",
       "                  category                                           title  \\\n",
       "0  Puzzles, Jigsaw Puzzles  Dr. Suess 19163 Dr. Seuss Puzzle 3 Pack Bundle   \n",
       "1                              Pathfinder: Book of Beasts - Legendary Foes   \n",
       "\n",
       "                                         description  \\\n",
       "0  Three Dr. Suess' Puzzles: Green Eggs and Ham, ...   \n",
       "1  <b>Prepare to be Afraid!</b><br /><br />The Bo...   \n",
       "\n",
       "                                               price  \\\n",
       "0                                                      \n",
       "1  .a-box-inner{background-color:#fff}#alohaBuyBo...   \n",
       "\n",
       "                                           brand  \n",
       "0                                      Dr. Seuss  \n",
       "1  Pathfinder Roleplaying Jon Brazer Productions  "
      ]
     },
     "execution_count": 30,
     "metadata": {},
     "output_type": "execute_result"
    }
   ],
   "source": [
    "rating_ = data.copy()\n",
    "rating_.head(2)"
   ]
  },
  {
   "cell_type": "code",
   "execution_count": 31,
   "metadata": {},
   "outputs": [
    {
     "data": {
      "text/html": [
       "<div>\n",
       "<style scoped>\n",
       "    .dataframe tbody tr th:only-of-type {\n",
       "        vertical-align: middle;\n",
       "    }\n",
       "\n",
       "    .dataframe tbody tr th {\n",
       "        vertical-align: top;\n",
       "    }\n",
       "\n",
       "    .dataframe thead th {\n",
       "        text-align: right;\n",
       "    }\n",
       "</style>\n",
       "<table border=\"1\" class=\"dataframe\">\n",
       "  <thead>\n",
       "    <tr style=\"text-align: right;\">\n",
       "      <th></th>\n",
       "      <th>iid</th>\n",
       "      <th>uid</th>\n",
       "      <th>rating</th>\n",
       "      <th>timestamp</th>\n",
       "      <th>review</th>\n",
       "      <th>summary</th>\n",
       "      <th>category</th>\n",
       "      <th>title</th>\n",
       "      <th>description</th>\n",
       "      <th>price</th>\n",
       "      <th>brand</th>\n",
       "    </tr>\n",
       "  </thead>\n",
       "  <tbody>\n",
       "    <tr>\n",
       "      <th>0</th>\n",
       "      <td>0000191639</td>\n",
       "      <td>AMEVO2LY6VEJA</td>\n",
       "      <td>5.0</td>\n",
       "      <td>1.388016e+09</td>\n",
       "      <td>Great product, thank you! Our son loved the pu...</td>\n",
       "      <td>Puzzles</td>\n",
       "      <td>Puzzles, Jigsaw Puzzles</td>\n",
       "      <td>Dr. Suess 19163 Dr. Seuss Puzzle 3 Pack Bundle</td>\n",
       "      <td>Three Dr. Suess' Puzzles: Green Eggs and Ham, ...</td>\n",
       "      <td></td>\n",
       "      <td>Dr. Seuss</td>\n",
       "    </tr>\n",
       "    <tr>\n",
       "      <th>1</th>\n",
       "      <td>0004950763</td>\n",
       "      <td>A3H4ZZTMCQK1A2</td>\n",
       "      <td>5.0</td>\n",
       "      <td>1.444781e+09</td>\n",
       "      <td>Truly amazing</td>\n",
       "      <td>Five Stars</td>\n",
       "      <td></td>\n",
       "      <td>Pathfinder: Book of Beasts - Legendary Foes</td>\n",
       "      <td>&lt;b&gt;Prepare to be Afraid!&lt;/b&gt;&lt;br /&gt;&lt;br /&gt;The Bo...</td>\n",
       "      <td>.a-box-inner{background-color:#fff}#alohaBuyBo...</td>\n",
       "      <td>Pathfinder Roleplaying Jon Brazer Productions</td>\n",
       "    </tr>\n",
       "  </tbody>\n",
       "</table>\n",
       "</div>"
      ],
      "text/plain": [
       "          iid             uid  rating     timestamp  \\\n",
       "0  0000191639   AMEVO2LY6VEJA     5.0  1.388016e+09   \n",
       "1  0004950763  A3H4ZZTMCQK1A2     5.0  1.444781e+09   \n",
       "\n",
       "                                              review     summary  \\\n",
       "0  Great product, thank you! Our son loved the pu...     Puzzles   \n",
       "1                                      Truly amazing  Five Stars   \n",
       "\n",
       "                  category                                           title  \\\n",
       "0  Puzzles, Jigsaw Puzzles  Dr. Suess 19163 Dr. Seuss Puzzle 3 Pack Bundle   \n",
       "1                              Pathfinder: Book of Beasts - Legendary Foes   \n",
       "\n",
       "                                         description  \\\n",
       "0  Three Dr. Suess' Puzzles: Green Eggs and Ham, ...   \n",
       "1  <b>Prepare to be Afraid!</b><br /><br />The Bo...   \n",
       "\n",
       "                                               price  \\\n",
       "0                                                      \n",
       "1  .a-box-inner{background-color:#fff}#alohaBuyBo...   \n",
       "\n",
       "                                           brand  \n",
       "0                                      Dr. Seuss  \n",
       "1  Pathfinder Roleplaying Jon Brazer Productions  "
      ]
     },
     "execution_count": 31,
     "metadata": {},
     "output_type": "execute_result"
    }
   ],
   "source": [
    "rating_.columns = ['iid','uid','rating','timestamp', 'review', 'summary', 'category','title','description','price','brand']\n",
    "rating_.head(2)"
   ]
  },
  {
   "cell_type": "code",
   "execution_count": 32,
   "metadata": {},
   "outputs": [
    {
     "data": {
      "text/plain": [
       "(Timestamp('1999-10-06 00:00:00'), Timestamp('2018-10-05 00:00:00'))"
      ]
     },
     "execution_count": 32,
     "metadata": {},
     "output_type": "execute_result"
    }
   ],
   "source": [
    "date_min = pd.to_datetime(rating_.timestamp,unit='s').min()\n",
    "date_max = pd.to_datetime(rating_.timestamp,unit='s').max()\n",
    "date_min,date_max"
   ]
  },
  {
   "cell_type": "code",
   "execution_count": 33,
   "metadata": {},
   "outputs": [
    {
     "data": {
      "text/plain": [
       "(8191674, 11)"
      ]
     },
     "execution_count": 33,
     "metadata": {},
     "output_type": "execute_result"
    }
   ],
   "source": [
    "rating_.shape"
   ]
  },
  {
   "cell_type": "code",
   "execution_count": 33,
   "metadata": {},
   "outputs": [
    {
     "data": {
      "text/plain": [
       "Timedelta('215 days 00:00:00')"
      ]
     },
     "execution_count": 33,
     "metadata": {},
     "output_type": "execute_result"
    }
   ],
   "source": [
    "date_gap = (date_max-date_min)//(19*2)\n",
    "date_gap"
   ]
  },
  {
   "cell_type": "code",
   "execution_count": 34,
   "metadata": {},
   "outputs": [],
   "source": [
    "rating_['time'] = pd.to_datetime(rating_.timestamp, unit='s').map(lambda x: x.year )"
   ]
  },
  {
   "cell_type": "code",
   "execution_count": 35,
   "metadata": {},
   "outputs": [
    {
     "data": {
      "text/html": [
       "<div>\n",
       "<style scoped>\n",
       "    .dataframe tbody tr th:only-of-type {\n",
       "        vertical-align: middle;\n",
       "    }\n",
       "\n",
       "    .dataframe tbody tr th {\n",
       "        vertical-align: top;\n",
       "    }\n",
       "\n",
       "    .dataframe thead th {\n",
       "        text-align: right;\n",
       "    }\n",
       "</style>\n",
       "<table border=\"1\" class=\"dataframe\">\n",
       "  <thead>\n",
       "    <tr style=\"text-align: right;\">\n",
       "      <th></th>\n",
       "      <th>iid</th>\n",
       "      <th>uid</th>\n",
       "      <th>rating</th>\n",
       "      <th>timestamp</th>\n",
       "      <th>review</th>\n",
       "      <th>summary</th>\n",
       "      <th>category</th>\n",
       "      <th>title</th>\n",
       "      <th>description</th>\n",
       "      <th>price</th>\n",
       "      <th>brand</th>\n",
       "      <th>time</th>\n",
       "    </tr>\n",
       "  </thead>\n",
       "  <tbody>\n",
       "    <tr>\n",
       "      <th>0</th>\n",
       "      <td>0000191639</td>\n",
       "      <td>AMEVO2LY6VEJA</td>\n",
       "      <td>5.0</td>\n",
       "      <td>1.388016e+09</td>\n",
       "      <td>Great product, thank you! Our son loved the pu...</td>\n",
       "      <td>Puzzles</td>\n",
       "      <td>Puzzles, Jigsaw Puzzles</td>\n",
       "      <td>Dr. Suess 19163 Dr. Seuss Puzzle 3 Pack Bundle</td>\n",
       "      <td>Three Dr. Suess' Puzzles: Green Eggs and Ham, ...</td>\n",
       "      <td></td>\n",
       "      <td>Dr. Seuss</td>\n",
       "      <td>2013</td>\n",
       "    </tr>\n",
       "    <tr>\n",
       "      <th>1</th>\n",
       "      <td>0004950763</td>\n",
       "      <td>A3H4ZZTMCQK1A2</td>\n",
       "      <td>5.0</td>\n",
       "      <td>1.444781e+09</td>\n",
       "      <td>Truly amazing</td>\n",
       "      <td>Five Stars</td>\n",
       "      <td></td>\n",
       "      <td>Pathfinder: Book of Beasts - Legendary Foes</td>\n",
       "      <td>&lt;b&gt;Prepare to be Afraid!&lt;/b&gt;&lt;br /&gt;&lt;br /&gt;The Bo...</td>\n",
       "      <td>.a-box-inner{background-color:#fff}#alohaBuyBo...</td>\n",
       "      <td>Pathfinder Roleplaying Jon Brazer Productions</td>\n",
       "      <td>2015</td>\n",
       "    </tr>\n",
       "  </tbody>\n",
       "</table>\n",
       "</div>"
      ],
      "text/plain": [
       "          iid             uid  rating     timestamp  \\\n",
       "0  0000191639   AMEVO2LY6VEJA     5.0  1.388016e+09   \n",
       "1  0004950763  A3H4ZZTMCQK1A2     5.0  1.444781e+09   \n",
       "\n",
       "                                              review     summary  \\\n",
       "0  Great product, thank you! Our son loved the pu...     Puzzles   \n",
       "1                                      Truly amazing  Five Stars   \n",
       "\n",
       "                  category                                           title  \\\n",
       "0  Puzzles, Jigsaw Puzzles  Dr. Suess 19163 Dr. Seuss Puzzle 3 Pack Bundle   \n",
       "1                              Pathfinder: Book of Beasts - Legendary Foes   \n",
       "\n",
       "                                         description  \\\n",
       "0  Three Dr. Suess' Puzzles: Green Eggs and Ham, ...   \n",
       "1  <b>Prepare to be Afraid!</b><br /><br />The Bo...   \n",
       "\n",
       "                                               price  \\\n",
       "0                                                      \n",
       "1  .a-box-inner{background-color:#fff}#alohaBuyBo...   \n",
       "\n",
       "                                           brand  time  \n",
       "0                                      Dr. Seuss  2013  \n",
       "1  Pathfinder Roleplaying Jon Brazer Productions  2015  "
      ]
     },
     "execution_count": 35,
     "metadata": {},
     "output_type": "execute_result"
    }
   ],
   "source": [
    "rating_.head(2)"
   ]
  },
  {
   "cell_type": "code",
   "execution_count": 36,
   "metadata": {},
   "outputs": [
    {
     "data": {
      "text/plain": [
       "array([1999, 2000, 2001, 2002, 2003, 2004, 2005, 2006, 2007, 2008, 2009,\n",
       "       2010, 2011, 2012, 2013, 2014, 2015, 2016, 2017, 2018])"
      ]
     },
     "execution_count": 36,
     "metadata": {},
     "output_type": "execute_result"
    }
   ],
   "source": [
    "import numpy as np\n",
    "np.sort(rating_.time.unique())"
   ]
  },
  {
   "cell_type": "code",
   "execution_count": 37,
   "metadata": {},
   "outputs": [
    {
     "data": {
      "text/plain": [
       "((4202996,), (624261,))"
      ]
     },
     "execution_count": 37,
     "metadata": {},
     "output_type": "execute_result"
    }
   ],
   "source": [
    "rating_.uid.unique().shape, rating_.iid.unique().shape"
   ]
  },
  {
   "cell_type": "code",
   "execution_count": 38,
   "metadata": {},
   "outputs": [
    {
     "data": {
      "text/html": [
       "<div>\n",
       "<style scoped>\n",
       "    .dataframe tbody tr th:only-of-type {\n",
       "        vertical-align: middle;\n",
       "    }\n",
       "\n",
       "    .dataframe tbody tr th {\n",
       "        vertical-align: top;\n",
       "    }\n",
       "\n",
       "    .dataframe thead th {\n",
       "        text-align: right;\n",
       "    }\n",
       "</style>\n",
       "<table border=\"1\" class=\"dataframe\">\n",
       "  <thead>\n",
       "    <tr style=\"text-align: right;\">\n",
       "      <th></th>\n",
       "      <th>iid</th>\n",
       "      <th>uid</th>\n",
       "      <th>rating</th>\n",
       "      <th>timestamp</th>\n",
       "      <th>review</th>\n",
       "      <th>summary</th>\n",
       "      <th>category</th>\n",
       "      <th>title</th>\n",
       "      <th>description</th>\n",
       "      <th>price</th>\n",
       "      <th>brand</th>\n",
       "      <th>time</th>\n",
       "    </tr>\n",
       "  </thead>\n",
       "  <tbody>\n",
       "    <tr>\n",
       "      <th>0</th>\n",
       "      <td>0000191639</td>\n",
       "      <td>AMEVO2LY6VEJA</td>\n",
       "      <td>5.0</td>\n",
       "      <td>1.388016e+09</td>\n",
       "      <td>Great product, thank you! Our son loved the pu...</td>\n",
       "      <td>Puzzles</td>\n",
       "      <td>Puzzles, Jigsaw Puzzles</td>\n",
       "      <td>Dr. Suess 19163 Dr. Seuss Puzzle 3 Pack Bundle</td>\n",
       "      <td>Three Dr. Suess' Puzzles: Green Eggs and Ham, ...</td>\n",
       "      <td></td>\n",
       "      <td>Dr. Seuss</td>\n",
       "      <td>2013</td>\n",
       "    </tr>\n",
       "    <tr>\n",
       "      <th>1</th>\n",
       "      <td>0004950763</td>\n",
       "      <td>A3H4ZZTMCQK1A2</td>\n",
       "      <td>5.0</td>\n",
       "      <td>1.444781e+09</td>\n",
       "      <td>Truly amazing</td>\n",
       "      <td>Five Stars</td>\n",
       "      <td></td>\n",
       "      <td>Pathfinder: Book of Beasts - Legendary Foes</td>\n",
       "      <td>&lt;b&gt;Prepare to be Afraid!&lt;/b&gt;&lt;br /&gt;&lt;br /&gt;The Bo...</td>\n",
       "      <td>.a-box-inner{background-color:#fff}#alohaBuyBo...</td>\n",
       "      <td>Pathfinder Roleplaying Jon Brazer Productions</td>\n",
       "      <td>2015</td>\n",
       "    </tr>\n",
       "    <tr>\n",
       "      <th>2</th>\n",
       "      <td>0005069491</td>\n",
       "      <td>A3C9CSW3TJITGT</td>\n",
       "      <td>4.0</td>\n",
       "      <td>1.377562e+09</td>\n",
       "      <td>I love these felt nursery rhyme characters and...</td>\n",
       "      <td>Charming characters but busy work required</td>\n",
       "      <td></td>\n",
       "      <td>Nursery Rhymes Felt Book</td>\n",
       "      <td></td>\n",
       "      <td>.a-box-inner{background-color:#fff}#alohaBuyBo...</td>\n",
       "      <td>Betty Lukens</td>\n",
       "      <td>2013</td>\n",
       "    </tr>\n",
       "    <tr>\n",
       "      <th>3</th>\n",
       "      <td>0004983289</td>\n",
       "      <td>ASZZ869682237</td>\n",
       "      <td>5.0</td>\n",
       "      <td>1.522195e+09</td>\n",
       "      <td>Love this game!!! Game came with 4 different c...</td>\n",
       "      <td>Fun Game!!</td>\n",
       "      <td>Games, Card Games</td>\n",
       "      <td>Dutch Blitz Card Game</td>\n",
       "      <td>Blitz Vintage Card Game</td>\n",
       "      <td>$24.95</td>\n",
       "      <td>Dutch Blitz Games Co</td>\n",
       "      <td>2018</td>\n",
       "    </tr>\n",
       "    <tr>\n",
       "      <th>4</th>\n",
       "      <td>0004983289</td>\n",
       "      <td>A2N9CIXRV5BBKM</td>\n",
       "      <td>5.0</td>\n",
       "      <td>1.497139e+09</td>\n",
       "      <td>Love this game!  It's fast, entertaining and j...</td>\n",
       "      <td>Five Stars</td>\n",
       "      <td>Games, Card Games</td>\n",
       "      <td>Dutch Blitz Card Game</td>\n",
       "      <td>Blitz Vintage Card Game</td>\n",
       "      <td>$24.95</td>\n",
       "      <td>Dutch Blitz Games Co</td>\n",
       "      <td>2017</td>\n",
       "    </tr>\n",
       "  </tbody>\n",
       "</table>\n",
       "</div>"
      ],
      "text/plain": [
       "          iid             uid  rating     timestamp  \\\n",
       "0  0000191639   AMEVO2LY6VEJA     5.0  1.388016e+09   \n",
       "1  0004950763  A3H4ZZTMCQK1A2     5.0  1.444781e+09   \n",
       "2  0005069491  A3C9CSW3TJITGT     4.0  1.377562e+09   \n",
       "3  0004983289   ASZZ869682237     5.0  1.522195e+09   \n",
       "4  0004983289  A2N9CIXRV5BBKM     5.0  1.497139e+09   \n",
       "\n",
       "                                              review  \\\n",
       "0  Great product, thank you! Our son loved the pu...   \n",
       "1                                      Truly amazing   \n",
       "2  I love these felt nursery rhyme characters and...   \n",
       "3  Love this game!!! Game came with 4 different c...   \n",
       "4  Love this game!  It's fast, entertaining and j...   \n",
       "\n",
       "                                      summary                 category  \\\n",
       "0                                     Puzzles  Puzzles, Jigsaw Puzzles   \n",
       "1                                  Five Stars                            \n",
       "2  Charming characters but busy work required                            \n",
       "3                                  Fun Game!!        Games, Card Games   \n",
       "4                                  Five Stars        Games, Card Games   \n",
       "\n",
       "                                            title  \\\n",
       "0  Dr. Suess 19163 Dr. Seuss Puzzle 3 Pack Bundle   \n",
       "1     Pathfinder: Book of Beasts - Legendary Foes   \n",
       "2                        Nursery Rhymes Felt Book   \n",
       "3                           Dutch Blitz Card Game   \n",
       "4                           Dutch Blitz Card Game   \n",
       "\n",
       "                                         description  \\\n",
       "0  Three Dr. Suess' Puzzles: Green Eggs and Ham, ...   \n",
       "1  <b>Prepare to be Afraid!</b><br /><br />The Bo...   \n",
       "2                                                      \n",
       "3                            Blitz Vintage Card Game   \n",
       "4                            Blitz Vintage Card Game   \n",
       "\n",
       "                                               price  \\\n",
       "0                                                      \n",
       "1  .a-box-inner{background-color:#fff}#alohaBuyBo...   \n",
       "2  .a-box-inner{background-color:#fff}#alohaBuyBo...   \n",
       "3                                             $24.95   \n",
       "4                                             $24.95   \n",
       "\n",
       "                                           brand  time  \n",
       "0                                      Dr. Seuss  2013  \n",
       "1  Pathfinder Roleplaying Jon Brazer Productions  2015  \n",
       "2                                   Betty Lukens  2013  \n",
       "3                           Dutch Blitz Games Co  2018  \n",
       "4                           Dutch Blitz Games Co  2017  "
      ]
     },
     "execution_count": 38,
     "metadata": {},
     "output_type": "execute_result"
    }
   ],
   "source": [
    "rating_.head()"
   ]
  },
  {
   "cell_type": "code",
   "execution_count": 54,
   "metadata": {},
   "outputs": [],
   "source": [
    "rating__ = rating_.copy()"
   ]
  },
  {
   "cell_type": "code",
   "execution_count": 55,
   "metadata": {},
   "outputs": [],
   "source": [
    "s_rating = rating__[rating__.time.isin([2015,2016,2017,2018])].copy()\n",
    "s_rating['time'] = pd.to_datetime(s_rating.timestamp, unit='s').map(lambda x: (x.year-2015)*12+x.month)\n",
    "# s_rating = s_rating[s_rating.time.isin(range(1,13))]"
   ]
  },
  {
   "cell_type": "code",
   "execution_count": 56,
   "metadata": {},
   "outputs": [
    {
     "data": {
      "text/plain": [
       "(5788797, 12)"
      ]
     },
     "execution_count": 56,
     "metadata": {},
     "output_type": "execute_result"
    }
   ],
   "source": [
    "s_rating.shape"
   ]
  },
  {
   "cell_type": "code",
   "execution_count": 32,
   "metadata": {},
   "outputs": [
    {
     "data": {
      "text/plain": [
       "(7281147, 9)"
      ]
     },
     "execution_count": 32,
     "metadata": {},
     "output_type": "execute_result"
    }
   ],
   "source": [
    "s_rating.shape"
   ]
  },
  {
   "cell_type": "code",
   "execution_count": 57,
   "metadata": {},
   "outputs": [
    {
     "data": {
      "text/html": [
       "<div>\n",
       "<style scoped>\n",
       "    .dataframe tbody tr th:only-of-type {\n",
       "        vertical-align: middle;\n",
       "    }\n",
       "\n",
       "    .dataframe tbody tr th {\n",
       "        vertical-align: top;\n",
       "    }\n",
       "\n",
       "    .dataframe thead th {\n",
       "        text-align: right;\n",
       "    }\n",
       "</style>\n",
       "<table border=\"1\" class=\"dataframe\">\n",
       "  <thead>\n",
       "    <tr style=\"text-align: right;\">\n",
       "      <th></th>\n",
       "      <th>rating</th>\n",
       "    </tr>\n",
       "  </thead>\n",
       "  <tbody>\n",
       "    <tr>\n",
       "      <th>count</th>\n",
       "      <td>3.118455e+06</td>\n",
       "    </tr>\n",
       "    <tr>\n",
       "      <th>mean</th>\n",
       "      <td>1.856303e+00</td>\n",
       "    </tr>\n",
       "    <tr>\n",
       "      <th>std</th>\n",
       "      <td>2.707235e+00</td>\n",
       "    </tr>\n",
       "    <tr>\n",
       "      <th>min</th>\n",
       "      <td>1.000000e+00</td>\n",
       "    </tr>\n",
       "    <tr>\n",
       "      <th>25%</th>\n",
       "      <td>1.000000e+00</td>\n",
       "    </tr>\n",
       "    <tr>\n",
       "      <th>50%</th>\n",
       "      <td>1.000000e+00</td>\n",
       "    </tr>\n",
       "    <tr>\n",
       "      <th>75%</th>\n",
       "      <td>2.000000e+00</td>\n",
       "    </tr>\n",
       "    <tr>\n",
       "      <th>max</th>\n",
       "      <td>4.410000e+02</td>\n",
       "    </tr>\n",
       "  </tbody>\n",
       "</table>\n",
       "</div>"
      ],
      "text/plain": [
       "             rating\n",
       "count  3.118455e+06\n",
       "mean   1.856303e+00\n",
       "std    2.707235e+00\n",
       "min    1.000000e+00\n",
       "25%    1.000000e+00\n",
       "50%    1.000000e+00\n",
       "75%    2.000000e+00\n",
       "max    4.410000e+02"
      ]
     },
     "execution_count": 57,
     "metadata": {},
     "output_type": "execute_result"
    }
   ],
   "source": [
    "s_rating.groupby('uid').agg({\"rating\":'count'}).describe()"
   ]
  },
  {
   "cell_type": "code",
   "execution_count": 33,
   "metadata": {},
   "outputs": [
    {
     "data": {
      "text/html": [
       "<div>\n",
       "<style scoped>\n",
       "    .dataframe tbody tr th:only-of-type {\n",
       "        vertical-align: middle;\n",
       "    }\n",
       "\n",
       "    .dataframe tbody tr th {\n",
       "        vertical-align: top;\n",
       "    }\n",
       "\n",
       "    .dataframe thead th {\n",
       "        text-align: right;\n",
       "    }\n",
       "</style>\n",
       "<table border=\"1\" class=\"dataframe\">\n",
       "  <thead>\n",
       "    <tr style=\"text-align: right;\">\n",
       "      <th></th>\n",
       "      <th>rating</th>\n",
       "    </tr>\n",
       "  </thead>\n",
       "  <tbody>\n",
       "    <tr>\n",
       "      <th>count</th>\n",
       "      <td>3.330909e+06</td>\n",
       "    </tr>\n",
       "    <tr>\n",
       "      <th>mean</th>\n",
       "      <td>2.185934e+00</td>\n",
       "    </tr>\n",
       "    <tr>\n",
       "      <th>std</th>\n",
       "      <td>6.108465e+00</td>\n",
       "    </tr>\n",
       "    <tr>\n",
       "      <th>min</th>\n",
       "      <td>1.000000e+00</td>\n",
       "    </tr>\n",
       "    <tr>\n",
       "      <th>25%</th>\n",
       "      <td>1.000000e+00</td>\n",
       "    </tr>\n",
       "    <tr>\n",
       "      <th>50%</th>\n",
       "      <td>1.000000e+00</td>\n",
       "    </tr>\n",
       "    <tr>\n",
       "      <th>75%</th>\n",
       "      <td>2.000000e+00</td>\n",
       "    </tr>\n",
       "    <tr>\n",
       "      <th>max</th>\n",
       "      <td>1.294000e+03</td>\n",
       "    </tr>\n",
       "  </tbody>\n",
       "</table>\n",
       "</div>"
      ],
      "text/plain": [
       "             rating\n",
       "count  3.330909e+06\n",
       "mean   2.185934e+00\n",
       "std    6.108465e+00\n",
       "min    1.000000e+00\n",
       "25%    1.000000e+00\n",
       "50%    1.000000e+00\n",
       "75%    2.000000e+00\n",
       "max    1.294000e+03"
      ]
     },
     "execution_count": 33,
     "metadata": {},
     "output_type": "execute_result"
    }
   ],
   "source": [
    "s_rating.groupby('uid').agg({\"rating\":'count'}).describe()"
   ]
  },
  {
   "cell_type": "code",
   "execution_count": 58,
   "metadata": {},
   "outputs": [],
   "source": [
    "item_info = s_rating.groupby('iid').agg({\"rating\":'count'})\n",
    "user_info = s_rating.groupby('uid').agg({\"rating\":'count'})"
   ]
  },
  {
   "cell_type": "code",
   "execution_count": 60,
   "metadata": {},
   "outputs": [
    {
     "data": {
      "text/plain": [
       "((61403,), (16105,))"
      ]
     },
     "execution_count": 60,
     "metadata": {},
     "output_type": "execute_result"
    }
   ],
   "source": [
    "active_item = item_info[item_info['rating']>15].index #.sample(frac=10/20,random_state=2023).index\n",
    "active_user = user_info[user_info['rating']>15].index #.sample(frac=10/20,random_state=2023).index\n",
    "active_item.shape, active_user.shape"
   ]
  },
  {
   "cell_type": "code",
   "execution_count": 41,
   "metadata": {},
   "outputs": [
    {
     "data": {
      "text/plain": [
       "((68023,), (24291,))"
      ]
     },
     "execution_count": 41,
     "metadata": {},
     "output_type": "execute_result"
    }
   ],
   "source": [
    "active_item = item_info[item_info['rating']>20].index #.sample(frac=10/20,random_state=2023).index\n",
    "active_user = user_info[user_info['rating']>20].index #.sample(frac=10/20,random_state=2023).index\n",
    "active_item.shape, active_user.shape"
   ]
  },
  {
   "cell_type": "code",
   "execution_count": 61,
   "metadata": {},
   "outputs": [
    {
     "data": {
      "text/plain": [
       "(300497, 12)"
      ]
     },
     "execution_count": 61,
     "metadata": {},
     "output_type": "execute_result"
    }
   ],
   "source": [
    "s_rating = s_rating[s_rating['uid'].isin(active_user)]\n",
    "s_rating = s_rating[s_rating['iid'].isin(active_item)]\n",
    "s_rating.shape"
   ]
  },
  {
   "cell_type": "code",
   "execution_count": 36,
   "metadata": {},
   "outputs": [
    {
     "data": {
      "text/plain": [
       "(845689, 9)"
      ]
     },
     "execution_count": 36,
     "metadata": {},
     "output_type": "execute_result"
    }
   ],
   "source": [
    "s_rating = s_rating[s_rating['uid'].isin(active_user)]\n",
    "s_rating = s_rating[s_rating['iid'].isin(active_item)]\n",
    "s_rating.shape"
   ]
  },
  {
   "cell_type": "code",
   "execution_count": 62,
   "metadata": {},
   "outputs": [
    {
     "data": {
      "text/plain": [
       "(rating    18.779889\n",
       " dtype: float64,\n",
       " rating    5.99591\n",
       " dtype: float64)"
      ]
     },
     "execution_count": 62,
     "metadata": {},
     "output_type": "execute_result"
    }
   ],
   "source": [
    "item_info = s_rating.groupby('iid').agg({\"rating\":'count'})\n",
    "user_info = s_rating.groupby('uid').agg({\"rating\":'count'})\n",
    "user_info.mean(), item_info.mean()"
   ]
  },
  {
   "cell_type": "code",
   "execution_count": 37,
   "metadata": {},
   "outputs": [
    {
     "data": {
      "text/plain": [
       "(rating    34.018061\n",
       " dtype: float64,\n",
       " rating    16.628436\n",
       " dtype: float64)"
      ]
     },
     "execution_count": 37,
     "metadata": {},
     "output_type": "execute_result"
    }
   ],
   "source": [
    "item_info = s_rating.groupby('iid').agg({\"rating\":'count'})\n",
    "user_info = s_rating.groupby('uid').agg({\"rating\":'count'})\n",
    "user_info.mean(), item_info.mean()"
   ]
  },
  {
   "cell_type": "code",
   "execution_count": 63,
   "metadata": {},
   "outputs": [
    {
     "data": {
      "text/plain": [
       "((300497, 12), (16001,), (50117,))"
      ]
     },
     "execution_count": 63,
     "metadata": {},
     "output_type": "execute_result"
    }
   ],
   "source": [
    "s_rating.shape, s_rating.uid.unique().shape, s_rating.iid.unique().shape"
   ]
  },
  {
   "cell_type": "code",
   "execution_count": 38,
   "metadata": {},
   "outputs": [
    {
     "data": {
      "text/plain": [
       "((845689, 9), (24860,), (50858,))"
      ]
     },
     "execution_count": 38,
     "metadata": {},
     "output_type": "execute_result"
    }
   ],
   "source": [
    "s_rating.shape, s_rating.uid.unique().shape, s_rating.iid.unique().shape"
   ]
  },
  {
   "cell_type": "code",
   "execution_count": 64,
   "metadata": {},
   "outputs": [
    {
     "data": {
      "text/html": [
       "<div>\n",
       "<style scoped>\n",
       "    .dataframe tbody tr th:only-of-type {\n",
       "        vertical-align: middle;\n",
       "    }\n",
       "\n",
       "    .dataframe tbody tr th {\n",
       "        vertical-align: top;\n",
       "    }\n",
       "\n",
       "    .dataframe thead th {\n",
       "        text-align: right;\n",
       "    }\n",
       "</style>\n",
       "<table border=\"1\" class=\"dataframe\">\n",
       "  <thead>\n",
       "    <tr style=\"text-align: right;\">\n",
       "      <th></th>\n",
       "      <th>index</th>\n",
       "      <th>iid</th>\n",
       "      <th>uid</th>\n",
       "      <th>rating</th>\n",
       "      <th>timestamp</th>\n",
       "      <th>review</th>\n",
       "      <th>summary</th>\n",
       "      <th>category</th>\n",
       "      <th>title</th>\n",
       "      <th>description</th>\n",
       "      <th>price</th>\n",
       "      <th>brand</th>\n",
       "      <th>time</th>\n",
       "    </tr>\n",
       "  </thead>\n",
       "  <tbody>\n",
       "    <tr>\n",
       "      <th>0</th>\n",
       "      <td>174</td>\n",
       "      <td>0486427706</td>\n",
       "      <td>ALLSNTNR6N6UL</td>\n",
       "      <td>5.0</td>\n",
       "      <td>1.432426e+09</td>\n",
       "      <td>Exactly as described, nice pictures, great tra...</td>\n",
       "      <td>nice pictures, great transaction</td>\n",
       "      <td>Arts &amp; Crafts, Drawing &amp; Painting Supplies, Dr...</td>\n",
       "      <td>DOVER PUBLICATIONS Stained Glass Color Book Wi...</td>\n",
       "      <td>Product is unique and carries its own natural ...</td>\n",
       "      <td>$5.68</td>\n",
       "      <td>Dover Publications</td>\n",
       "      <td>5</td>\n",
       "    </tr>\n",
       "    <tr>\n",
       "      <th>1</th>\n",
       "      <td>196</td>\n",
       "      <td>0486448789</td>\n",
       "      <td>A3OJCR7TKQIPQM</td>\n",
       "      <td>5.0</td>\n",
       "      <td>1.433894e+09</td>\n",
       "      <td>Very Cute!</td>\n",
       "      <td>Very Cute!</td>\n",
       "      <td>Arts &amp; Crafts, Stickers</td>\n",
       "      <td>Dover Publications-Create Your Own Robot Stickers</td>\n",
       "      <td>&lt;div&gt;This space age character is likely to pop...</td>\n",
       "      <td>$3.04</td>\n",
       "      <td>Dover Publications</td>\n",
       "      <td>6</td>\n",
       "    </tr>\n",
       "  </tbody>\n",
       "</table>\n",
       "</div>"
      ],
      "text/plain": [
       "   index         iid             uid  rating     timestamp  \\\n",
       "0    174  0486427706   ALLSNTNR6N6UL     5.0  1.432426e+09   \n",
       "1    196  0486448789  A3OJCR7TKQIPQM     5.0  1.433894e+09   \n",
       "\n",
       "                                              review  \\\n",
       "0  Exactly as described, nice pictures, great tra...   \n",
       "1                                         Very Cute!   \n",
       "\n",
       "                            summary  \\\n",
       "0  nice pictures, great transaction   \n",
       "1                        Very Cute!   \n",
       "\n",
       "                                            category  \\\n",
       "0  Arts & Crafts, Drawing & Painting Supplies, Dr...   \n",
       "1                            Arts & Crafts, Stickers   \n",
       "\n",
       "                                               title  \\\n",
       "0  DOVER PUBLICATIONS Stained Glass Color Book Wi...   \n",
       "1  Dover Publications-Create Your Own Robot Stickers   \n",
       "\n",
       "                                         description  price  \\\n",
       "0  Product is unique and carries its own natural ...  $5.68   \n",
       "1  <div>This space age character is likely to pop...  $3.04   \n",
       "\n",
       "                brand  time  \n",
       "0  Dover Publications     5  \n",
       "1  Dover Publications     6  "
      ]
     },
     "execution_count": 64,
     "metadata": {},
     "output_type": "execute_result"
    }
   ],
   "source": [
    "s_rating = s_rating.reset_index()\n",
    "s_rating.head(2)"
   ]
  },
  {
   "cell_type": "code",
   "execution_count": 65,
   "metadata": {},
   "outputs": [
    {
     "data": {
      "text/plain": [
       "<Axes: xlabel='time'>"
      ]
     },
     "execution_count": 65,
     "metadata": {},
     "output_type": "execute_result"
    },
    {
     "data": {
      "image/png": "[encoded data removed]",
      "text/plain": [
       "<Figure size 640x480 with 1 Axes>"
      ]
     },
     "metadata": {},
     "output_type": "display_data"
    }
   ],
   "source": [
    "s_rating.groupby('time').agg({'rating':'count'}).reset_index().plot(x='time',kind='bar')"
   ]
  },
  {
   "cell_type": "code",
   "execution_count": 66,
   "metadata": {},
   "outputs": [
    {
     "data": {
      "text/plain": [
       "array([5., 3., 4., 1., 2.])"
      ]
     },
     "execution_count": 66,
     "metadata": {},
     "output_type": "execute_result"
    }
   ],
   "source": [
    "s_rating.rating.unique()"
   ]
  },
  {
   "cell_type": "code",
   "execution_count": 67,
   "metadata": {},
   "outputs": [
    {
     "data": {
      "text/plain": [
       "count    300497.000000\n",
       "mean          0.735132\n",
       "std           0.441264\n",
       "min           0.000000\n",
       "25%           0.000000\n",
       "50%           1.000000\n",
       "75%           1.000000\n",
       "max           1.000000\n",
       "Name: label, dtype: float64"
      ]
     },
     "execution_count": 67,
     "metadata": {},
     "output_type": "execute_result"
    }
   ],
   "source": [
    "s_rating['label'] = s_rating['rating'].apply(lambda x: 1 if x>=5 else 0)\n",
    "s_rating['label'].describe()"
   ]
  },
  {
   "cell_type": "code",
   "execution_count": 42,
   "metadata": {},
   "outputs": [
    {
     "data": {
      "text/plain": [
       "count    845689.00000\n",
       "mean          0.63175\n",
       "std           0.48233\n",
       "min           0.00000\n",
       "25%           0.00000\n",
       "50%           1.00000\n",
       "75%           1.00000\n",
       "max           1.00000\n",
       "Name: label, dtype: float64"
      ]
     },
     "execution_count": 42,
     "metadata": {},
     "output_type": "execute_result"
    }
   ],
   "source": [
    "s_rating['label'] = s_rating['rating'].apply(lambda x: 1 if x>=5 else 0)\n",
    "s_rating['label'].describe()"
   ]
  },
  {
   "cell_type": "code",
   "execution_count": 68,
   "metadata": {},
   "outputs": [
    {
     "data": {
      "text/plain": [
       "(16001, 50117)"
      ]
     },
     "execution_count": 68,
     "metadata": {},
     "output_type": "execute_result"
    }
   ],
   "source": [
    "users = s_rating.uid.unique()\n",
    "items = s_rating.iid.unique()\n",
    "users_map = dict(zip(users, np.arange(users.shape[0])+1))\n",
    "items_map = dict(zip(items, np.arange(items.shape[0])+1))\n",
    "s_rating['uid'] = s_rating['uid'].map(users_map)\n",
    "s_rating['iid'] = s_rating['iid'].map(items_map)\n",
    "s_rating.uid.max(), s_rating.iid.max()"
   ]
  },
  {
   "cell_type": "code",
   "execution_count": 69,
   "metadata": {},
   "outputs": [
    {
     "data": {
      "text/html": [
       "<div>\n",
       "<style scoped>\n",
       "    .dataframe tbody tr th:only-of-type {\n",
       "        vertical-align: middle;\n",
       "    }\n",
       "\n",
       "    .dataframe tbody tr th {\n",
       "        vertical-align: top;\n",
       "    }\n",
       "\n",
       "    .dataframe thead th {\n",
       "        text-align: right;\n",
       "    }\n",
       "</style>\n",
       "<table border=\"1\" class=\"dataframe\">\n",
       "  <thead>\n",
       "    <tr style=\"text-align: right;\">\n",
       "      <th></th>\n",
       "      <th>index</th>\n",
       "      <th>iid</th>\n",
       "      <th>uid</th>\n",
       "      <th>rating</th>\n",
       "      <th>timestamp</th>\n",
       "      <th>review</th>\n",
       "      <th>summary</th>\n",
       "      <th>category</th>\n",
       "      <th>title</th>\n",
       "      <th>description</th>\n",
       "      <th>price</th>\n",
       "      <th>brand</th>\n",
       "      <th>time</th>\n",
       "      <th>label</th>\n",
       "    </tr>\n",
       "  </thead>\n",
       "  <tbody>\n",
       "    <tr>\n",
       "      <th>0</th>\n",
       "      <td>174</td>\n",
       "      <td>1</td>\n",
       "      <td>1</td>\n",
       "      <td>5.0</td>\n",
       "      <td>1.432426e+09</td>\n",
       "      <td>Exactly as described, nice pictures, great tra...</td>\n",
       "      <td>nice pictures, great transaction</td>\n",
       "      <td>Arts &amp; Crafts, Drawing &amp; Painting Supplies, Dr...</td>\n",
       "      <td>DOVER PUBLICATIONS Stained Glass Color Book Wi...</td>\n",
       "      <td>Product is unique and carries its own natural ...</td>\n",
       "      <td>$5.68</td>\n",
       "      <td>Dover Publications</td>\n",
       "      <td>5</td>\n",
       "      <td>1</td>\n",
       "    </tr>\n",
       "    <tr>\n",
       "      <th>1</th>\n",
       "      <td>196</td>\n",
       "      <td>2</td>\n",
       "      <td>2</td>\n",
       "      <td>5.0</td>\n",
       "      <td>1.433894e+09</td>\n",
       "      <td>Very Cute!</td>\n",
       "      <td>Very Cute!</td>\n",
       "      <td>Arts &amp; Crafts, Stickers</td>\n",
       "      <td>Dover Publications-Create Your Own Robot Stickers</td>\n",
       "      <td>&lt;div&gt;This space age character is likely to pop...</td>\n",
       "      <td>$3.04</td>\n",
       "      <td>Dover Publications</td>\n",
       "      <td>6</td>\n",
       "      <td>1</td>\n",
       "    </tr>\n",
       "    <tr>\n",
       "      <th>2</th>\n",
       "      <td>201</td>\n",
       "      <td>2</td>\n",
       "      <td>3</td>\n",
       "      <td>5.0</td>\n",
       "      <td>1.426637e+09</td>\n",
       "      <td>AGE APPROPIATE. G'SON LOVED</td>\n",
       "      <td>Five Stars</td>\n",
       "      <td>Arts &amp; Crafts, Stickers</td>\n",
       "      <td>Dover Publications-Create Your Own Robot Stickers</td>\n",
       "      <td>&lt;div&gt;This space age character is likely to pop...</td>\n",
       "      <td>$3.04</td>\n",
       "      <td>Dover Publications</td>\n",
       "      <td>3</td>\n",
       "      <td>1</td>\n",
       "    </tr>\n",
       "    <tr>\n",
       "      <th>3</th>\n",
       "      <td>203</td>\n",
       "      <td>2</td>\n",
       "      <td>4</td>\n",
       "      <td>3.0</td>\n",
       "      <td>1.425514e+09</td>\n",
       "      <td>This is a tiny book. Only a few pages of stick...</td>\n",
       "      <td>Worked for a trip, Only a few pages</td>\n",
       "      <td>Arts &amp; Crafts, Stickers</td>\n",
       "      <td>Dover Publications-Create Your Own Robot Stickers</td>\n",
       "      <td>&lt;div&gt;This space age character is likely to pop...</td>\n",
       "      <td>$3.04</td>\n",
       "      <td>Dover Publications</td>\n",
       "      <td>3</td>\n",
       "      <td>0</td>\n",
       "    </tr>\n",
       "    <tr>\n",
       "      <th>4</th>\n",
       "      <td>278</td>\n",
       "      <td>2</td>\n",
       "      <td>5</td>\n",
       "      <td>5.0</td>\n",
       "      <td>1.451347e+09</td>\n",
       "      <td>This one you assemble a robot</td>\n",
       "      <td>These are cute</td>\n",
       "      <td>Arts &amp; Crafts, Stickers</td>\n",
       "      <td>Dover Publications-Create Your Own Robot Stickers</td>\n",
       "      <td>&lt;div&gt;This space age character is likely to pop...</td>\n",
       "      <td>$3.04</td>\n",
       "      <td>Dover Publications</td>\n",
       "      <td>12</td>\n",
       "      <td>1</td>\n",
       "    </tr>\n",
       "  </tbody>\n",
       "</table>\n",
       "</div>"
      ],
      "text/plain": [
       "   index  iid  uid  rating     timestamp  \\\n",
       "0    174    1    1     5.0  1.432426e+09   \n",
       "1    196    2    2     5.0  1.433894e+09   \n",
       "2    201    2    3     5.0  1.426637e+09   \n",
       "3    203    2    4     3.0  1.425514e+09   \n",
       "4    278    2    5     5.0  1.451347e+09   \n",
       "\n",
       "                                              review  \\\n",
       "0  Exactly as described, nice pictures, great tra...   \n",
       "1                                         Very Cute!   \n",
       "2                        AGE APPROPIATE. G'SON LOVED   \n",
       "3  This is a tiny book. Only a few pages of stick...   \n",
       "4                      This one you assemble a robot   \n",
       "\n",
       "                               summary  \\\n",
       "0     nice pictures, great transaction   \n",
       "1                           Very Cute!   \n",
       "2                           Five Stars   \n",
       "3  Worked for a trip, Only a few pages   \n",
       "4                       These are cute   \n",
       "\n",
       "                                            category  \\\n",
       "0  Arts & Crafts, Drawing & Painting Supplies, Dr...   \n",
       "1                            Arts & Crafts, Stickers   \n",
       "2                            Arts & Crafts, Stickers   \n",
       "3                            Arts & Crafts, Stickers   \n",
       "4                            Arts & Crafts, Stickers   \n",
       "\n",
       "                                               title  \\\n",
       "0  DOVER PUBLICATIONS Stained Glass Color Book Wi...   \n",
       "1  Dover Publications-Create Your Own Robot Stickers   \n",
       "2  Dover Publications-Create Your Own Robot Stickers   \n",
       "3  Dover Publications-Create Your Own Robot Stickers   \n",
       "4  Dover Publications-Create Your Own Robot Stickers   \n",
       "\n",
       "                                         description  price  \\\n",
       "0  Product is unique and carries its own natural ...  $5.68   \n",
       "1  <div>This space age character is likely to pop...  $3.04   \n",
       "2  <div>This space age character is likely to pop...  $3.04   \n",
       "3  <div>This space age character is likely to pop...  $3.04   \n",
       "4  <div>This space age character is likely to pop...  $3.04   \n",
       "\n",
       "                brand  time  label  \n",
       "0  Dover Publications     5      1  \n",
       "1  Dover Publications     6      1  \n",
       "2  Dover Publications     3      1  \n",
       "3  Dover Publications     3      0  \n",
       "4  Dover Publications    12      1  "
      ]
     },
     "execution_count": 69,
     "metadata": {},
     "output_type": "execute_result"
    }
   ],
   "source": [
    "s_rating.head()"
   ]
  },
  {
   "cell_type": "code",
   "execution_count": 72,
   "metadata": {},
   "outputs": [],
   "source": [
    "s_rating['review'] = s_rating['review'].fillna('')\n",
    "s_rating['summary'] = s_rating['summary'].fillna('')"
   ]
  },
  {
   "cell_type": "code",
   "execution_count": 73,
   "metadata": {},
   "outputs": [],
   "source": [
    "s_rating['description'] = s_rating['description'].apply(lambda x: re.sub(r'<[^>]+>', ' ', x.replace('&',' and ')))\n",
    "s_rating['description'] = s_rating['description'].apply(lambda x: re.sub(r'\\s+', ' ', x.strip()))\n",
    "s_rating['title'] = s_rating['title'].apply(lambda x: re.sub(r'<[^>]+>', ' ', x.replace('&',' and ')))\n",
    "s_rating['title'] = s_rating['title'].apply(lambda x: re.sub(r'\\s+', ' ', x.strip()))\n",
    "s_rating['category'] = s_rating['category'].apply(lambda x: re.sub(r'<[^>]+>', ' ', x.replace('&',' and ')))\n",
    "s_rating['category'] = s_rating['category'].apply(lambda x: re.sub(r'\\s+', ' ', x.strip()))\n",
    "s_rating['brand'] = s_rating['brand'].apply(lambda x: re.sub(r'<[^>]+>', ' ', x.replace('&',' and ')))\n",
    "s_rating['brand'] = s_rating['brand'].apply(lambda x: re.sub(r'\\s+', ' ', x.strip()))\n",
    "s_rating['price'] = s_rating['price'].apply(lambda x: re.sub(r'^(?!\\$[0-9]).*', '', x.strip()))\n",
    "s_rating['price'] = s_rating['price'].apply(lambda x: re.sub(r'\\s+', ' ', x.strip()))\n",
    "s_rating['review'] = s_rating['review'].apply(lambda x: re.sub(r'<[^>]+>', ' ', x.replace('&',' and ')))\n",
    "s_rating['review'] = s_rating['review'].apply(lambda x: re.sub(r'\\s+', ' ', x.strip()))\n",
    "s_rating['summary'] = s_rating['summary'].apply(lambda x: re.sub(r'<[^>]+>', ' ', x.replace('&',' and' )))\n",
    "s_rating['summary'] = s_rating['summary'].apply(lambda x: re.sub(r'\\s+', ' ', x.strip()))"
   ]
  },
  {
   "cell_type": "code",
   "execution_count": 74,
   "metadata": {},
   "outputs": [
    {
     "data": {
      "text/html": [
       "<div>\n",
       "<style scoped>\n",
       "    .dataframe tbody tr th:only-of-type {\n",
       "        vertical-align: middle;\n",
       "    }\n",
       "\n",
       "    .dataframe tbody tr th {\n",
       "        vertical-align: top;\n",
       "    }\n",
       "\n",
       "    .dataframe thead th {\n",
       "        text-align: right;\n",
       "    }\n",
       "</style>\n",
       "<table border=\"1\" class=\"dataframe\">\n",
       "  <thead>\n",
       "    <tr style=\"text-align: right;\">\n",
       "      <th></th>\n",
       "      <th>index</th>\n",
       "      <th>iid</th>\n",
       "      <th>uid</th>\n",
       "      <th>rating</th>\n",
       "      <th>timestamp</th>\n",
       "      <th>review</th>\n",
       "      <th>summary</th>\n",
       "      <th>category</th>\n",
       "      <th>title</th>\n",
       "      <th>description</th>\n",
       "      <th>price</th>\n",
       "      <th>brand</th>\n",
       "      <th>time</th>\n",
       "      <th>label</th>\n",
       "    </tr>\n",
       "  </thead>\n",
       "  <tbody>\n",
       "    <tr>\n",
       "      <th>0</th>\n",
       "      <td>174</td>\n",
       "      <td>1</td>\n",
       "      <td>1</td>\n",
       "      <td>5.0</td>\n",
       "      <td>1.432426e+09</td>\n",
       "      <td>Exactly as described, nice pictures, great tra...</td>\n",
       "      <td>nice pictures, great transaction</td>\n",
       "      <td>Arts and Crafts, Drawing and Painting Supplies...</td>\n",
       "      <td>DOVER PUBLICATIONS Stained Glass Color Book Wi...</td>\n",
       "      <td>Product is unique and carries its own natural ...</td>\n",
       "      <td>$5.68</td>\n",
       "      <td>Dover Publications</td>\n",
       "      <td>5</td>\n",
       "      <td>1</td>\n",
       "    </tr>\n",
       "    <tr>\n",
       "      <th>1</th>\n",
       "      <td>196</td>\n",
       "      <td>2</td>\n",
       "      <td>2</td>\n",
       "      <td>5.0</td>\n",
       "      <td>1.433894e+09</td>\n",
       "      <td>Very Cute!</td>\n",
       "      <td>Very Cute!</td>\n",
       "      <td>Arts and Crafts, Stickers</td>\n",
       "      <td>Dover Publications-Create Your Own Robot Stickers</td>\n",
       "      <td>This space age character is likely to pop up w...</td>\n",
       "      <td>$3.04</td>\n",
       "      <td>Dover Publications</td>\n",
       "      <td>6</td>\n",
       "      <td>1</td>\n",
       "    </tr>\n",
       "    <tr>\n",
       "      <th>2</th>\n",
       "      <td>201</td>\n",
       "      <td>2</td>\n",
       "      <td>3</td>\n",
       "      <td>5.0</td>\n",
       "      <td>1.426637e+09</td>\n",
       "      <td>AGE APPROPIATE. G'SON LOVED</td>\n",
       "      <td>Five Stars</td>\n",
       "      <td>Arts and Crafts, Stickers</td>\n",
       "      <td>Dover Publications-Create Your Own Robot Stickers</td>\n",
       "      <td>This space age character is likely to pop up w...</td>\n",
       "      <td>$3.04</td>\n",
       "      <td>Dover Publications</td>\n",
       "      <td>3</td>\n",
       "      <td>1</td>\n",
       "    </tr>\n",
       "    <tr>\n",
       "      <th>3</th>\n",
       "      <td>203</td>\n",
       "      <td>2</td>\n",
       "      <td>4</td>\n",
       "      <td>3.0</td>\n",
       "      <td>1.425514e+09</td>\n",
       "      <td>This is a tiny book. Only a few pages of stick...</td>\n",
       "      <td>Worked for a trip, Only a few pages</td>\n",
       "      <td>Arts and Crafts, Stickers</td>\n",
       "      <td>Dover Publications-Create Your Own Robot Stickers</td>\n",
       "      <td>This space age character is likely to pop up w...</td>\n",
       "      <td>$3.04</td>\n",
       "      <td>Dover Publications</td>\n",
       "      <td>3</td>\n",
       "      <td>0</td>\n",
       "    </tr>\n",
       "    <tr>\n",
       "      <th>4</th>\n",
       "      <td>278</td>\n",
       "      <td>2</td>\n",
       "      <td>5</td>\n",
       "      <td>5.0</td>\n",
       "      <td>1.451347e+09</td>\n",
       "      <td>This one you assemble a robot</td>\n",
       "      <td>These are cute</td>\n",
       "      <td>Arts and Crafts, Stickers</td>\n",
       "      <td>Dover Publications-Create Your Own Robot Stickers</td>\n",
       "      <td>This space age character is likely to pop up w...</td>\n",
       "      <td>$3.04</td>\n",
       "      <td>Dover Publications</td>\n",
       "      <td>12</td>\n",
       "      <td>1</td>\n",
       "    </tr>\n",
       "  </tbody>\n",
       "</table>\n",
       "</div>"
      ],
      "text/plain": [
       "   index  iid  uid  rating     timestamp  \\\n",
       "0    174    1    1     5.0  1.432426e+09   \n",
       "1    196    2    2     5.0  1.433894e+09   \n",
       "2    201    2    3     5.0  1.426637e+09   \n",
       "3    203    2    4     3.0  1.425514e+09   \n",
       "4    278    2    5     5.0  1.451347e+09   \n",
       "\n",
       "                                              review  \\\n",
       "0  Exactly as described, nice pictures, great tra...   \n",
       "1                                         Very Cute!   \n",
       "2                        AGE APPROPIATE. G'SON LOVED   \n",
       "3  This is a tiny book. Only a few pages of stick...   \n",
       "4                      This one you assemble a robot   \n",
       "\n",
       "                               summary  \\\n",
       "0     nice pictures, great transaction   \n",
       "1                           Very Cute!   \n",
       "2                           Five Stars   \n",
       "3  Worked for a trip, Only a few pages   \n",
       "4                       These are cute   \n",
       "\n",
       "                                            category  \\\n",
       "0  Arts and Crafts, Drawing and Painting Supplies...   \n",
       "1                          Arts and Crafts, Stickers   \n",
       "2                          Arts and Crafts, Stickers   \n",
       "3                          Arts and Crafts, Stickers   \n",
       "4                          Arts and Crafts, Stickers   \n",
       "\n",
       "                                               title  \\\n",
       "0  DOVER PUBLICATIONS Stained Glass Color Book Wi...   \n",
       "1  Dover Publications-Create Your Own Robot Stickers   \n",
       "2  Dover Publications-Create Your Own Robot Stickers   \n",
       "3  Dover Publications-Create Your Own Robot Stickers   \n",
       "4  Dover Publications-Create Your Own Robot Stickers   \n",
       "\n",
       "                                         description  price  \\\n",
       "0  Product is unique and carries its own natural ...  $5.68   \n",
       "1  This space age character is likely to pop up w...  $3.04   \n",
       "2  This space age character is likely to pop up w...  $3.04   \n",
       "3  This space age character is likely to pop up w...  $3.04   \n",
       "4  This space age character is likely to pop up w...  $3.04   \n",
       "\n",
       "                brand  time  label  \n",
       "0  Dover Publications     5      1  \n",
       "1  Dover Publications     6      1  \n",
       "2  Dover Publications     3      1  \n",
       "3  Dover Publications     3      0  \n",
       "4  Dover Publications    12      1  "
      ]
     },
     "execution_count": 74,
     "metadata": {},
     "output_type": "execute_result"
    }
   ],
   "source": [
    "s_rating.head()"
   ]
  },
  {
   "cell_type": "code",
   "execution_count": 75,
   "metadata": {},
   "outputs": [
    {
     "data": {
      "text/html": [
       "<div>\n",
       "<style scoped>\n",
       "    .dataframe tbody tr th:only-of-type {\n",
       "        vertical-align: middle;\n",
       "    }\n",
       "\n",
       "    .dataframe tbody tr th {\n",
       "        vertical-align: top;\n",
       "    }\n",
       "\n",
       "    .dataframe thead th {\n",
       "        text-align: right;\n",
       "    }\n",
       "</style>\n",
       "<table border=\"1\" class=\"dataframe\">\n",
       "  <thead>\n",
       "    <tr style=\"text-align: right;\">\n",
       "      <th></th>\n",
       "      <th>index</th>\n",
       "      <th>iid</th>\n",
       "      <th>uid</th>\n",
       "      <th>rating</th>\n",
       "      <th>timestamp</th>\n",
       "      <th>review</th>\n",
       "      <th>summary</th>\n",
       "      <th>category</th>\n",
       "      <th>title</th>\n",
       "      <th>description</th>\n",
       "      <th>price</th>\n",
       "      <th>brand</th>\n",
       "      <th>time</th>\n",
       "      <th>label</th>\n",
       "    </tr>\n",
       "  </thead>\n",
       "  <tbody>\n",
       "    <tr>\n",
       "      <th>300492</th>\n",
       "      <td>8191571</td>\n",
       "      <td>50116</td>\n",
       "      <td>10459</td>\n",
       "      <td>5.0</td>\n",
       "      <td>1.534032e+09</td>\n",
       "      <td>These work well and are a nice change from the...</td>\n",
       "      <td>Good value</td>\n",
       "      <td>Hobbies, Remote and App Controlled Vehicles an...</td>\n",
       "      <td>Geilienergy 6V 2000mAh NiMH RX Battery Packs w...</td>\n",
       "      <td></td>\n",
       "      <td>$10.99</td>\n",
       "      <td>GEILIENERGY</td>\n",
       "      <td>44</td>\n",
       "      <td>1</td>\n",
       "    </tr>\n",
       "    <tr>\n",
       "      <th>300493</th>\n",
       "      <td>8191628</td>\n",
       "      <td>50117</td>\n",
       "      <td>9819</td>\n",
       "      <td>5.0</td>\n",
       "      <td>1.527034e+09</td>\n",
       "      <td>I brought my 2 year old daughter to my doctor ...</td>\n",
       "      <td>she lit up with joy to receive it</td>\n",
       "      <td>Learning and Education, Early Development Toys...</td>\n",
       "      <td>Lewo Wooden Baby Toddler Toys Circle First Bea...</td>\n",
       "      <td></td>\n",
       "      <td>$19.99</td>\n",
       "      <td>Lewo</td>\n",
       "      <td>41</td>\n",
       "      <td>1</td>\n",
       "    </tr>\n",
       "    <tr>\n",
       "      <th>300494</th>\n",
       "      <td>8191631</td>\n",
       "      <td>50117</td>\n",
       "      <td>5582</td>\n",
       "      <td>2.0</td>\n",
       "      <td>1.524701e+09</td>\n",
       "      <td>I would give it 5 starts for how much my kids ...</td>\n",
       "      <td>Choking hazard beads come off ours!! Glue the ...</td>\n",
       "      <td>Learning and Education, Early Development Toys...</td>\n",
       "      <td>Lewo Wooden Baby Toddler Toys Circle First Bea...</td>\n",
       "      <td></td>\n",
       "      <td>$19.99</td>\n",
       "      <td>Lewo</td>\n",
       "      <td>40</td>\n",
       "      <td>0</td>\n",
       "    </tr>\n",
       "    <tr>\n",
       "      <th>300495</th>\n",
       "      <td>8191633</td>\n",
       "      <td>50117</td>\n",
       "      <td>1585</td>\n",
       "      <td>4.0</td>\n",
       "      <td>1.519171e+09</td>\n",
       "      <td>It's a cute toy for what it is. I'd originally...</td>\n",
       "      <td>Cute.</td>\n",
       "      <td>Learning and Education, Early Development Toys...</td>\n",
       "      <td>Lewo Wooden Baby Toddler Toys Circle First Bea...</td>\n",
       "      <td></td>\n",
       "      <td>$19.99</td>\n",
       "      <td>Lewo</td>\n",
       "      <td>38</td>\n",
       "      <td>0</td>\n",
       "    </tr>\n",
       "    <tr>\n",
       "      <th>300496</th>\n",
       "      <td>8191663</td>\n",
       "      <td>50117</td>\n",
       "      <td>1306</td>\n",
       "      <td>5.0</td>\n",
       "      <td>1.509754e+09</td>\n",
       "      <td>perfect for a little one</td>\n",
       "      <td>love it</td>\n",
       "      <td>Learning and Education, Early Development Toys...</td>\n",
       "      <td>Lewo Wooden Baby Toddler Toys Circle First Bea...</td>\n",
       "      <td></td>\n",
       "      <td>$19.99</td>\n",
       "      <td>Lewo</td>\n",
       "      <td>35</td>\n",
       "      <td>1</td>\n",
       "    </tr>\n",
       "  </tbody>\n",
       "</table>\n",
       "</div>"
      ],
      "text/plain": [
       "          index    iid    uid  rating     timestamp  \\\n",
       "300492  8191571  50116  10459     5.0  1.534032e+09   \n",
       "300493  8191628  50117   9819     5.0  1.527034e+09   \n",
       "300494  8191631  50117   5582     2.0  1.524701e+09   \n",
       "300495  8191633  50117   1585     4.0  1.519171e+09   \n",
       "300496  8191663  50117   1306     5.0  1.509754e+09   \n",
       "\n",
       "                                                   review  \\\n",
       "300492  These work well and are a nice change from the...   \n",
       "300493  I brought my 2 year old daughter to my doctor ...   \n",
       "300494  I would give it 5 starts for how much my kids ...   \n",
       "300495  It's a cute toy for what it is. I'd originally...   \n",
       "300496                           perfect for a little one   \n",
       "\n",
       "                                                  summary  \\\n",
       "300492                                         Good value   \n",
       "300493                  she lit up with joy to receive it   \n",
       "300494  Choking hazard beads come off ours!! Glue the ...   \n",
       "300495                                              Cute.   \n",
       "300496                                            love it   \n",
       "\n",
       "                                                 category  \\\n",
       "300492  Hobbies, Remote and App Controlled Vehicles an...   \n",
       "300493  Learning and Education, Early Development Toys...   \n",
       "300494  Learning and Education, Early Development Toys...   \n",
       "300495  Learning and Education, Early Development Toys...   \n",
       "300496  Learning and Education, Early Development Toys...   \n",
       "\n",
       "                                                    title description   price  \\\n",
       "300492  Geilienergy 6V 2000mAh NiMH RX Battery Packs w...              $10.99   \n",
       "300493  Lewo Wooden Baby Toddler Toys Circle First Bea...              $19.99   \n",
       "300494  Lewo Wooden Baby Toddler Toys Circle First Bea...              $19.99   \n",
       "300495  Lewo Wooden Baby Toddler Toys Circle First Bea...              $19.99   \n",
       "300496  Lewo Wooden Baby Toddler Toys Circle First Bea...              $19.99   \n",
       "\n",
       "              brand  time  label  \n",
       "300492  GEILIENERGY    44      1  \n",
       "300493         Lewo    41      1  \n",
       "300494         Lewo    40      0  \n",
       "300495         Lewo    38      0  \n",
       "300496         Lewo    35      1  "
      ]
     },
     "execution_count": 75,
     "metadata": {},
     "output_type": "execute_result"
    }
   ],
   "source": [
    "s_rating.tail()"
   ]
  },
  {
   "cell_type": "code",
   "execution_count": 76,
   "metadata": {},
   "outputs": [
    {
     "data": {
      "text/plain": [
       "(50117,)"
      ]
     },
     "execution_count": 76,
     "metadata": {},
     "output_type": "execute_result"
    }
   ],
   "source": [
    "s_rating.iid.unique().shape"
   ]
  },
  {
   "cell_type": "code",
   "execution_count": 77,
   "metadata": {},
   "outputs": [
    {
     "name": "stdout",
     "output_type": "stream",
     "text": [
      "50117\n"
     ]
    }
   ],
   "source": [
    "id2title = {}\n",
    "# title2id = {}\n",
    "for i in range(len(s_rating)):\n",
    "    iid = int(s_rating.iloc[i]['iid'])\n",
    "    title = str(s_rating.iloc[i]['title'])\n",
    "    description = str(s_rating.iloc[i]['description'])\n",
    "    category = str(s_rating.iloc[i]['category'])\n",
    "    brand = str(s_rating.iloc[i]['brand'])\n",
    "    price = str(s_rating.iloc[i]['price'])\n",
    "    if iid not in id2title:\n",
    "        id2title[iid] = {\n",
    "            'title':title,\n",
    "            'description':description,\n",
    "            'category':category,\n",
    "            'brand':brand,\n",
    "            'price':price,\n",
    "            }\n",
    "print(len(id2title.keys()))\n",
    "# print(len(id2title.keys()),len(title2id.keys()))\n"
   ]
  },
  {
   "cell_type": "code",
   "execution_count": 79,
   "metadata": {},
   "outputs": [],
   "source": [
    "#保存为字典 id2title 为 json 文件\n",
    "import json\n",
    "json_dir = '/home/yuqihang/workroot/models/data/collm/toysdu'\n",
    "json.dump(id2title, open(f\"{json_dir}/id2title.json\", \"w\"), indent=4)\n",
    "# json.dump(title2id, open(f\"{json_dir}/title2id.json\", \"w\"), indent=4)"
   ]
  },
  {
   "cell_type": "code",
   "execution_count": 62,
   "metadata": {},
   "outputs": [],
   "source": [
    "with open('/home/yuqihang/projects/CoLLM/collm-datasets/booknew/id2keywords.json','r') as f:\n",
    "    id2keywords = json.load(f)"
   ]
  },
  {
   "cell_type": "code",
   "execution_count": 71,
   "metadata": {},
   "outputs": [],
   "source": [
    "for idx,meta in id2title.items():\n",
    "    try:\n",
    "        meta['keywords'] = id2keywords[idx]['keywords']\n",
    "    except:\n",
    "        print(f'can\\'t find {idx} in id2keywords')\n",
    "    id2title[idx] = meta"
   ]
  },
  {
   "cell_type": "code",
   "execution_count": 72,
   "metadata": {},
   "outputs": [],
   "source": [
    "json.dump(id2title, open(f\"{json_dir}/id2title.json\", \"w\"), indent=4)"
   ]
  },
  {
   "cell_type": "code",
   "execution_count": 73,
   "metadata": {},
   "outputs": [],
   "source": [
    "# id2title = {}\n",
    "# for title,meta in title2id.items():\n",
    "#     idx = meta['id']\n",
    "#     del meta['id']\n",
    "#     meta['title'] = title\n",
    "#     id2title[idx] = meta"
   ]
  },
  {
   "cell_type": "code",
   "execution_count": 74,
   "metadata": {},
   "outputs": [],
   "source": [
    "# json.dump(id2title, open(f\"{json_dir}/id2title.json\", \"w\"), indent=4)"
   ]
  },
  {
   "cell_type": "code",
   "execution_count": 78,
   "metadata": {},
   "outputs": [],
   "source": [
    "del id2title\n",
    "# del title2id\n",
    "del title2keywords"
   ]
  },
  {
   "cell_type": "code",
   "execution_count": 83,
   "metadata": {},
   "outputs": [
    {
     "data": {
      "text/plain": [
       "((267209, 14), (16644, 14), (16644, 14))"
      ]
     },
     "execution_count": 83,
     "metadata": {},
     "output_type": "execute_result"
    }
   ],
   "source": [
    "rating_train = s_rating[s_rating.time.isin(range(33))].copy()\n",
    "rating_valid_test = s_rating[s_rating.time.isin(range(33,46))].copy()\n",
    "rating_valid_test.sort_values(by=\"timestamp\",inplace=True)\n",
    "N_ = rating_valid_test.shape[0]//2\n",
    "rating_valid = rating_valid_test.iloc[:N_].copy()\n",
    "rating_test = rating_valid_test.iloc[N_:].copy()\n",
    "rating_train.shape, rating_valid.shape, rating_test.shape"
   ]
  },
  {
   "cell_type": "code",
   "execution_count": 84,
   "metadata": {},
   "outputs": [
    {
     "data": {
      "text/plain": [
       "array([0, 1, 2, 3, 4])"
      ]
     },
     "execution_count": 84,
     "metadata": {},
     "output_type": "execute_result"
    }
   ],
   "source": [
    "rating_valid_test.timestamp.values[0:5].argsort()"
   ]
  },
  {
   "cell_type": "code",
   "execution_count": 85,
   "metadata": {},
   "outputs": [
    {
     "data": {
      "text/plain": [
       "(array([ 5,  6,  3, 12, 14, 26, 23, 21, 15,  1, 32, 10, 30, 24, 18, 17, 20,\n",
       "        13,  4, 25, 29, 22, 16,  2, 19,  8, 31, 28, 27, 11,  9,  7]),\n",
       " array([33, 34, 35, 36, 37]),\n",
       " array([37, 38, 39, 40, 41, 42, 43, 44, 45]))"
      ]
     },
     "execution_count": 85,
     "metadata": {},
     "output_type": "execute_result"
    }
   ],
   "source": [
    "rating_train.time.unique(),rating_valid.time.unique(),rating_test.time.unique()"
   ]
  },
  {
   "cell_type": "code",
   "execution_count": 86,
   "metadata": {},
   "outputs": [
    {
     "data": {
      "text/plain": [
       "rating    5.552049\n",
       "dtype: float64"
      ]
     },
     "execution_count": 86,
     "metadata": {},
     "output_type": "execute_result"
    }
   ],
   "source": [
    "s_rating[s_rating.time.isin(range(33))].groupby('iid').agg({\"rating\":'count'}).mean()"
   ]
  },
  {
   "cell_type": "code",
   "execution_count": 87,
   "metadata": {},
   "outputs": [],
   "source": [
    "train_user = rating_train['uid'].unique()\n",
    "train_item = rating_train['iid'].unique()\n",
    "rating_valid['not_cold'] = rating_valid[['uid','iid']].apply(lambda x: x.uid in train_user and x.iid in train_item, axis=1).astype(\"int\")\n",
    "rating_test['not_cold'] = rating_test[['uid','iid']].apply(lambda x: x.uid in train_user and x.iid in train_item, axis=1).astype(\"int\")"
   ]
  },
  {
   "cell_type": "code",
   "execution_count": 88,
   "metadata": {},
   "outputs": [
    {
     "data": {
      "text/plain": [
       "(count    16644.000000\n",
       " mean         0.779921\n",
       " std          0.414312\n",
       " min          0.000000\n",
       " 25%          1.000000\n",
       " 50%          1.000000\n",
       " 75%          1.000000\n",
       " max          1.000000\n",
       " Name: not_cold, dtype: float64,\n",
       " count    16644.000000\n",
       " mean         0.737503\n",
       " std          0.440004\n",
       " min          0.000000\n",
       " 25%          0.000000\n",
       " 50%          1.000000\n",
       " 75%          1.000000\n",
       " max          1.000000\n",
       " Name: not_cold, dtype: float64)"
      ]
     },
     "execution_count": 88,
     "metadata": {},
     "output_type": "execute_result"
    }
   ],
   "source": [
    "rating_valid['not_cold'].describe(), rating_test['not_cold'].describe()"
   ]
  },
  {
   "cell_type": "code",
   "execution_count": 89,
   "metadata": {},
   "outputs": [
    {
     "data": {
      "text/plain": [
       "((267209, 14), (16644, 15), (16644, 15))"
      ]
     },
     "execution_count": 89,
     "metadata": {},
     "output_type": "execute_result"
    }
   ],
   "source": [
    "rating_train.shape, rating_valid.shape, rating_test.shape"
   ]
  },
  {
   "cell_type": "code",
   "execution_count": 90,
   "metadata": {},
   "outputs": [
    {
     "data": {
      "text/plain": [
       "(              label              \n",
       "               count           sum\n",
       " count  15629.000000  15629.000000\n",
       " mean      17.096999     12.613539\n",
       " std       13.752546     10.369251\n",
       " min        1.000000      0.000000\n",
       " 25%       11.000000      7.000000\n",
       " 50%       15.000000     11.000000\n",
       " 75%       20.000000     16.000000\n",
       " max      426.000000    354.000000,\n",
       "               label              \n",
       "               count           sum\n",
       " count  48128.000000  48128.000000\n",
       " mean       5.552049      4.096098\n",
       " std        8.785605      6.825704\n",
       " min        1.000000      0.000000\n",
       " 25%        2.000000      1.000000\n",
       " 50%        3.000000      2.000000\n",
       " 75%        6.000000      5.000000\n",
       " max      596.000000    498.000000)"
      ]
     },
     "execution_count": 90,
     "metadata": {},
     "output_type": "execute_result"
    }
   ],
   "source": [
    "rating_train.groupby(\"uid\").agg({'label':['count','sum']}).describe(), rating_train.groupby(\"iid\").agg({'label':['count','sum']}).describe()"
   ]
  },
  {
   "cell_type": "code",
   "execution_count": 91,
   "metadata": {},
   "outputs": [
    {
     "data": {
      "text/plain": [
       "(              label              \n",
       "               count           sum\n",
       " count  15629.000000  15629.000000\n",
       " mean      17.096999     12.613539\n",
       " std       13.752546     10.369251\n",
       " min        1.000000      0.000000\n",
       " 25%       11.000000      7.000000\n",
       " 50%       15.000000     11.000000\n",
       " 75%       20.000000     16.000000\n",
       " max      426.000000    354.000000,\n",
       "               label              \n",
       "               count           sum\n",
       " count  48128.000000  48128.000000\n",
       " mean       5.552049      4.096098\n",
       " std        8.785605      6.825704\n",
       " min        1.000000      0.000000\n",
       " 25%        2.000000      1.000000\n",
       " 50%        3.000000      2.000000\n",
       " 75%        6.000000      5.000000\n",
       " max      596.000000    498.000000)"
      ]
     },
     "execution_count": 91,
     "metadata": {},
     "output_type": "execute_result"
    }
   ],
   "source": [
    "rating_train.groupby(\"uid\").agg({'label':['count','sum']}).describe(), rating_train.groupby(\"iid\").agg({'label':['count','sum']}).describe()"
   ]
  },
  {
   "cell_type": "code",
   "execution_count": 92,
   "metadata": {},
   "outputs": [
    {
     "data": {
      "text/plain": [
       "(             label             \n",
       "              count          sum\n",
       " count  4673.000000  4673.000000\n",
       " mean      3.561738     2.561738\n",
       " std       4.156569     3.449130\n",
       " min       1.000000     0.000000\n",
       " 25%       1.000000     1.000000\n",
       " 50%       2.000000     1.000000\n",
       " 75%       4.000000     3.000000\n",
       " max      72.000000    45.000000,\n",
       "               label              \n",
       "               count           sum\n",
       " count  10604.000000  10604.000000\n",
       " mean       1.569596      1.128914\n",
       " std        1.600647      1.246736\n",
       " min        1.000000      0.000000\n",
       " 25%        1.000000      1.000000\n",
       " 50%        1.000000      1.000000\n",
       " 75%        2.000000      1.000000\n",
       " max       50.000000     35.000000)"
      ]
     },
     "execution_count": 92,
     "metadata": {},
     "output_type": "execute_result"
    }
   ],
   "source": [
    "# rating_valid.groupby(\"uid\").agg({'label':['count','sum']}).describe()\n",
    "rating_test.groupby(\"uid\").agg({'label':['count','sum']}).describe(), rating_test.groupby(\"iid\").agg({'label':['count','sum']}).describe()\n",
    "# rating_valid_test.groupby(\"uid\").agg({'label':['count','sum']}).describe()"
   ]
  },
  {
   "attachments": {},
   "cell_type": "markdown",
   "metadata": {},
   "source": [
    "## split by time order"
   ]
  },
  {
   "cell_type": "code",
   "execution_count": 93,
   "metadata": {},
   "outputs": [
    {
     "data": {
      "text/plain": [
       "((267209, 14), (16644, 15), (16644, 15))"
      ]
     },
     "execution_count": 93,
     "metadata": {},
     "output_type": "execute_result"
    }
   ],
   "source": [
    "rating_train.shape, rating_valid.shape, rating_test.shape"
   ]
  },
  {
   "cell_type": "code",
   "execution_count": 94,
   "metadata": {},
   "outputs": [],
   "source": [
    "rating_valid_f = rating_valid\n",
    "rating_test_f = rating_test"
   ]
  },
  {
   "cell_type": "code",
   "execution_count": 95,
   "metadata": {},
   "outputs": [],
   "source": [
    "def filter_cold_start(train,valid,test):\n",
    "    train_user = train.uid.unique()\n",
    "    train_item = train.iid.unique()\n",
    "    valid = valid[valid['uid'].isin(train_user)]\n",
    "    test = test[test['uid'].isin(train_user)]\n",
    "    valid = valid[valid['iid'].isin(train_item)]\n",
    "    test = test[test['iid'].isin(train_item)]\n",
    "    return valid, test"
   ]
  },
  {
   "cell_type": "code",
   "execution_count": 96,
   "metadata": {},
   "outputs": [
    {
     "data": {
      "text/plain": [
       "(0.7377633238401401, 0.7087839461667869, 0.719238163902908)"
      ]
     },
     "execution_count": 96,
     "metadata": {},
     "output_type": "execute_result"
    }
   ],
   "source": [
    "rating_train.label.mean(), rating_valid.label.mean(), rating_test.label.mean()"
   ]
  },
  {
   "cell_type": "code",
   "execution_count": 88,
   "metadata": {},
   "outputs": [
    {
     "data": {
      "text/plain": [
       "(0.6354377732750347, 0.6287547545412534)"
      ]
     },
     "execution_count": 88,
     "metadata": {},
     "output_type": "execute_result"
    }
   ],
   "source": [
    "rating_valid_f.label.mean(), rating_test_f.label.mean() "
   ]
  },
  {
   "cell_type": "code",
   "execution_count": 97,
   "metadata": {},
   "outputs": [
    {
     "data": {
      "text/plain": [
       "Index(['index', 'iid', 'uid', 'rating', 'timestamp', 'review', 'summary',\n",
       "       'category', 'title', 'description', 'price', 'brand', 'time', 'label',\n",
       "       'not_cold'],\n",
       "      dtype='object')"
      ]
     },
     "execution_count": 97,
     "metadata": {},
     "output_type": "execute_result"
    }
   ],
   "source": [
    "rating_valid_f.columns"
   ]
  },
  {
   "cell_type": "code",
   "execution_count": 98,
   "metadata": {},
   "outputs": [],
   "source": [
    "import copy\n",
    "def deal_with_each_u_both(x,u):\n",
    "    items = np.array(x.iid)\n",
    "    labels = np.array(x.label)\n",
    "    titles = np.array(x.title)\n",
    "    descriptions = np.array(x.description)\n",
    "    timestamp = np.array(x.timestamp)\n",
    "    flags =  np.array(x.flag) \n",
    "    his = [0] # adding a '0' by default\n",
    "    his_label = [0]\n",
    "    # his_title = ['']\n",
    "    # his_desc = ['']\n",
    "    results = []\n",
    "    for i in range(items.shape[0]):\n",
    "        results.append((u, items[i], timestamp[i], np.array(his), np.array(his_label), labels[i], flags[i]))\n",
    "        # results.append((u, items[i], titles[i], timestamp[i], np.array(his), np.array(his_label), copy.copy(his_title), labels[i], flags[i]))\n",
    "        # training data\n",
    "        # if labels[i] > 0: # positive \n",
    "        his.append(items[i])\n",
    "        his_label.append(labels[i])\n",
    "        # his_title.append(titles[i])\n",
    "        # his_desc.append(descriptions[i])\n",
    "    return results\n",
    "\n",
    "def deal_with_each_u(x,u):\n",
    "    items = np.array(x.iid)\n",
    "    labels = np.array(x.label)\n",
    "    titles = np.array(x.title)\n",
    "    descriptions = np.array(x.description)\n",
    "    timestamp = np.array(x.timestamp)\n",
    "    flags =  np.array(x.flag) \n",
    "    his = [0] # adding a '0' by default\n",
    "    # his_title = ['']\n",
    "    # his_desc = ['']\n",
    "    results = []\n",
    "    for i in range(items.shape[0]):\n",
    "        results.append((u, items[i], timestamp[i], np.array(his), labels[i], flags[i]))\n",
    "        # results.append((u, items[i], titles[i], timestamp[i], np.array(his), copy.copy(his_title), labels[i], flags[i]))\n",
    "        # training data\n",
    "        if labels[i] > 0: # positive \n",
    "            his.append(items[i])\n",
    "            # his_title.append(titles[i])\n",
    "    return results"
   ]
  },
  {
   "cell_type": "code",
   "execution_count": 99,
   "metadata": {},
   "outputs": [],
   "source": [
    "rating_train = rating_train.copy()"
   ]
  },
  {
   "cell_type": "code",
   "execution_count": 100,
   "metadata": {},
   "outputs": [],
   "source": [
    "rating_train['flag'] =  pd.DataFrame(np.ones(rating_train.shape[0])*-1, index=rating_train.index)\n",
    "rating_valid_f['flag'] = pd.DataFrame(np.zeros(rating_valid_f.shape[0]), index=rating_valid_f.index)\n",
    "rating_test_f['flag'] = pd.DataFrame(np.ones(rating_test_f.shape[0]), index=rating_test_f.index)\n",
    "data_ = pd.concat([rating_train, rating_valid_f, rating_test_f],axis=0,ignore_index=True)\n",
    "data_ = data_.sort_values(by=['uid','timestamp'])\n",
    "u_inter_all = data_.groupby('uid').agg({'iid':list, 'label':list, 'title':list, 'timestamp':list, 'description':list, 'flag':list})"
   ]
  },
  {
   "cell_type": "code",
   "execution_count": 101,
   "metadata": {},
   "outputs": [
    {
     "data": {
      "text/plain": [
       "array([-1.,  0.,  1.])"
      ]
     },
     "execution_count": 101,
     "metadata": {},
     "output_type": "execute_result"
    }
   ],
   "source": [
    "data_.flag.unique()"
   ]
  },
  {
   "cell_type": "code",
   "execution_count": 102,
   "metadata": {},
   "outputs": [],
   "source": [
    "results = []\n",
    "results_both = []\n",
    "for u in u_inter_all.index:\n",
    "    results.extend(deal_with_each_u(u_inter_all.loc[u],u))\n",
    "    results_both.extend(deal_with_each_u_both(u_inter_all.loc[u],u))"
   ]
  },
  {
   "cell_type": "code",
   "execution_count": 103,
   "metadata": {},
   "outputs": [],
   "source": [
    "def list2pd(seqs):\n",
    "    u_, i_, time_, label_, his_, flag_ = [],[],[],[],[],[]\n",
    "    if len(seqs[0]) == 7:\n",
    "        his_label_ = []\n",
    "    for re_ in seqs:\n",
    "        u_.append(re_[0])\n",
    "        i_.append(re_[1])\n",
    "        time_.append(re_[2])\n",
    "        his_.append(re_[3])\n",
    "        if len(seqs[0]) == 7:\n",
    "            his_label_.append(re_[4])\n",
    "        label_.append(re_[-2])\n",
    "        flag_.append(re_[-1])\n",
    "    columns = {\"uid\":u_,'iid':i_,'label':label_, 'timestamp': time_ , 'his':his_, 'flag': flag_}\n",
    "    if len(seqs[0]) == 7:\n",
    "        columns['his_label']=his_label_\n",
    "    return pd.DataFrame(columns)"
   ]
  },
  {
   "cell_type": "code",
   "execution_count": 119,
   "metadata": {},
   "outputs": [],
   "source": [
    "data_ = list2pd(results_both)"
   ]
  },
  {
   "cell_type": "code",
   "execution_count": 120,
   "metadata": {},
   "outputs": [
    {
     "data": {
      "text/html": [
       "<div>\n",
       "<style scoped>\n",
       "    .dataframe tbody tr th:only-of-type {\n",
       "        vertical-align: middle;\n",
       "    }\n",
       "\n",
       "    .dataframe tbody tr th {\n",
       "        vertical-align: top;\n",
       "    }\n",
       "\n",
       "    .dataframe thead th {\n",
       "        text-align: right;\n",
       "    }\n",
       "</style>\n",
       "<table border=\"1\" class=\"dataframe\">\n",
       "  <thead>\n",
       "    <tr style=\"text-align: right;\">\n",
       "      <th></th>\n",
       "      <th>uid</th>\n",
       "      <th>iid</th>\n",
       "      <th>label</th>\n",
       "      <th>timestamp</th>\n",
       "      <th>his</th>\n",
       "      <th>flag</th>\n",
       "      <th>his_label</th>\n",
       "    </tr>\n",
       "  </thead>\n",
       "  <tbody>\n",
       "    <tr>\n",
       "      <th>0</th>\n",
       "      <td>1</td>\n",
       "      <td>11421</td>\n",
       "      <td>1</td>\n",
       "      <td>1.424909e+09</td>\n",
       "      <td>[0]</td>\n",
       "      <td>-1.0</td>\n",
       "      <td>[0]</td>\n",
       "    </tr>\n",
       "    <tr>\n",
       "      <th>1</th>\n",
       "      <td>1</td>\n",
       "      <td>6743</td>\n",
       "      <td>1</td>\n",
       "      <td>1.432339e+09</td>\n",
       "      <td>[0, 11421]</td>\n",
       "      <td>-1.0</td>\n",
       "      <td>[0, 1]</td>\n",
       "    </tr>\n",
       "    <tr>\n",
       "      <th>2</th>\n",
       "      <td>1</td>\n",
       "      <td>1</td>\n",
       "      <td>1</td>\n",
       "      <td>1.432426e+09</td>\n",
       "      <td>[0, 11421, 6743]</td>\n",
       "      <td>-1.0</td>\n",
       "      <td>[0, 1, 1]</td>\n",
       "    </tr>\n",
       "    <tr>\n",
       "      <th>3</th>\n",
       "      <td>1</td>\n",
       "      <td>4240</td>\n",
       "      <td>1</td>\n",
       "      <td>1.432426e+09</td>\n",
       "      <td>[0, 11421, 6743, 1]</td>\n",
       "      <td>-1.0</td>\n",
       "      <td>[0, 1, 1, 1]</td>\n",
       "    </tr>\n",
       "    <tr>\n",
       "      <th>4</th>\n",
       "      <td>1</td>\n",
       "      <td>4240</td>\n",
       "      <td>1</td>\n",
       "      <td>1.432426e+09</td>\n",
       "      <td>[0, 11421, 6743, 1, 4240]</td>\n",
       "      <td>-1.0</td>\n",
       "      <td>[0, 1, 1, 1, 1]</td>\n",
       "    </tr>\n",
       "    <tr>\n",
       "      <th>5</th>\n",
       "      <td>1</td>\n",
       "      <td>5806</td>\n",
       "      <td>1</td>\n",
       "      <td>1.432426e+09</td>\n",
       "      <td>[0, 11421, 6743, 1, 4240, 4240]</td>\n",
       "      <td>-1.0</td>\n",
       "      <td>[0, 1, 1, 1, 1, 1]</td>\n",
       "    </tr>\n",
       "    <tr>\n",
       "      <th>6</th>\n",
       "      <td>1</td>\n",
       "      <td>8126</td>\n",
       "      <td>1</td>\n",
       "      <td>1.432426e+09</td>\n",
       "      <td>[0, 11421, 6743, 1, 4240, 4240, 5806]</td>\n",
       "      <td>-1.0</td>\n",
       "      <td>[0, 1, 1, 1, 1, 1, 1]</td>\n",
       "    </tr>\n",
       "    <tr>\n",
       "      <th>7</th>\n",
       "      <td>1</td>\n",
       "      <td>14877</td>\n",
       "      <td>1</td>\n",
       "      <td>1.432426e+09</td>\n",
       "      <td>[0, 11421, 6743, 1, 4240, 4240, 5806, 8126]</td>\n",
       "      <td>-1.0</td>\n",
       "      <td>[0, 1, 1, 1, 1, 1, 1, 1]</td>\n",
       "    </tr>\n",
       "    <tr>\n",
       "      <th>8</th>\n",
       "      <td>1</td>\n",
       "      <td>14878</td>\n",
       "      <td>1</td>\n",
       "      <td>1.432426e+09</td>\n",
       "      <td>[0, 11421, 6743, 1, 4240, 4240, 5806, 8126, 14...</td>\n",
       "      <td>-1.0</td>\n",
       "      <td>[0, 1, 1, 1, 1, 1, 1, 1, 1]</td>\n",
       "    </tr>\n",
       "    <tr>\n",
       "      <th>9</th>\n",
       "      <td>1</td>\n",
       "      <td>30960</td>\n",
       "      <td>1</td>\n",
       "      <td>1.432426e+09</td>\n",
       "      <td>[0, 11421, 6743, 1, 4240, 4240, 5806, 8126, 14...</td>\n",
       "      <td>-1.0</td>\n",
       "      <td>[0, 1, 1, 1, 1, 1, 1, 1, 1, 1]</td>\n",
       "    </tr>\n",
       "  </tbody>\n",
       "</table>\n",
       "</div>"
      ],
      "text/plain": [
       "   uid    iid  label     timestamp  \\\n",
       "0    1  11421      1  1.424909e+09   \n",
       "1    1   6743      1  1.432339e+09   \n",
       "2    1      1      1  1.432426e+09   \n",
       "3    1   4240      1  1.432426e+09   \n",
       "4    1   4240      1  1.432426e+09   \n",
       "5    1   5806      1  1.432426e+09   \n",
       "6    1   8126      1  1.432426e+09   \n",
       "7    1  14877      1  1.432426e+09   \n",
       "8    1  14878      1  1.432426e+09   \n",
       "9    1  30960      1  1.432426e+09   \n",
       "\n",
       "                                                 his  flag  \\\n",
       "0                                                [0]  -1.0   \n",
       "1                                         [0, 11421]  -1.0   \n",
       "2                                   [0, 11421, 6743]  -1.0   \n",
       "3                                [0, 11421, 6743, 1]  -1.0   \n",
       "4                          [0, 11421, 6743, 1, 4240]  -1.0   \n",
       "5                    [0, 11421, 6743, 1, 4240, 4240]  -1.0   \n",
       "6              [0, 11421, 6743, 1, 4240, 4240, 5806]  -1.0   \n",
       "7        [0, 11421, 6743, 1, 4240, 4240, 5806, 8126]  -1.0   \n",
       "8  [0, 11421, 6743, 1, 4240, 4240, 5806, 8126, 14...  -1.0   \n",
       "9  [0, 11421, 6743, 1, 4240, 4240, 5806, 8126, 14...  -1.0   \n",
       "\n",
       "                        his_label  \n",
       "0                             [0]  \n",
       "1                          [0, 1]  \n",
       "2                       [0, 1, 1]  \n",
       "3                    [0, 1, 1, 1]  \n",
       "4                 [0, 1, 1, 1, 1]  \n",
       "5              [0, 1, 1, 1, 1, 1]  \n",
       "6           [0, 1, 1, 1, 1, 1, 1]  \n",
       "7        [0, 1, 1, 1, 1, 1, 1, 1]  \n",
       "8     [0, 1, 1, 1, 1, 1, 1, 1, 1]  \n",
       "9  [0, 1, 1, 1, 1, 1, 1, 1, 1, 1]  "
      ]
     },
     "execution_count": 120,
     "metadata": {},
     "output_type": "execute_result"
    }
   ],
   "source": [
    "data_.head(10)"
   ]
  },
  {
   "cell_type": "code",
   "execution_count": 121,
   "metadata": {},
   "outputs": [
    {
     "data": {
      "text/plain": [
       "count    300497.000000\n",
       "mean          0.735132\n",
       "std           0.441264\n",
       "min           0.000000\n",
       "25%           0.000000\n",
       "50%           1.000000\n",
       "75%           1.000000\n",
       "max           1.000000\n",
       "Name: label, dtype: float64"
      ]
     },
     "execution_count": 121,
     "metadata": {},
     "output_type": "execute_result"
    }
   ],
   "source": [
    "data_.label.describe()"
   ]
  },
  {
   "cell_type": "code",
   "execution_count": 122,
   "metadata": {},
   "outputs": [
    {
     "data": {
      "text/html": [
       "<div>\n",
       "<style scoped>\n",
       "    .dataframe tbody tr th:only-of-type {\n",
       "        vertical-align: middle;\n",
       "    }\n",
       "\n",
       "    .dataframe tbody tr th {\n",
       "        vertical-align: top;\n",
       "    }\n",
       "\n",
       "    .dataframe thead th {\n",
       "        text-align: right;\n",
       "    }\n",
       "</style>\n",
       "<table border=\"1\" class=\"dataframe\">\n",
       "  <thead>\n",
       "    <tr style=\"text-align: right;\">\n",
       "      <th></th>\n",
       "      <th>uid</th>\n",
       "      <th>iid</th>\n",
       "      <th>label</th>\n",
       "      <th>timestamp</th>\n",
       "      <th>his</th>\n",
       "      <th>flag</th>\n",
       "      <th>his_label</th>\n",
       "    </tr>\n",
       "  </thead>\n",
       "  <tbody>\n",
       "    <tr>\n",
       "      <th>300492</th>\n",
       "      <td>15997</td>\n",
       "      <td>47366</td>\n",
       "      <td>1</td>\n",
       "      <td>1.470096e+09</td>\n",
       "      <td>[0]</td>\n",
       "      <td>-1.0</td>\n",
       "      <td>[0]</td>\n",
       "    </tr>\n",
       "    <tr>\n",
       "      <th>300493</th>\n",
       "      <td>15998</td>\n",
       "      <td>48003</td>\n",
       "      <td>1</td>\n",
       "      <td>1.485130e+09</td>\n",
       "      <td>[0]</td>\n",
       "      <td>-1.0</td>\n",
       "      <td>[0]</td>\n",
       "    </tr>\n",
       "    <tr>\n",
       "      <th>300494</th>\n",
       "      <td>15999</td>\n",
       "      <td>49375</td>\n",
       "      <td>1</td>\n",
       "      <td>1.475626e+09</td>\n",
       "      <td>[0]</td>\n",
       "      <td>-1.0</td>\n",
       "      <td>[0]</td>\n",
       "    </tr>\n",
       "    <tr>\n",
       "      <th>300495</th>\n",
       "      <td>16000</td>\n",
       "      <td>49497</td>\n",
       "      <td>0</td>\n",
       "      <td>1.477008e+09</td>\n",
       "      <td>[0]</td>\n",
       "      <td>-1.0</td>\n",
       "      <td>[0]</td>\n",
       "    </tr>\n",
       "    <tr>\n",
       "      <th>300496</th>\n",
       "      <td>16001</td>\n",
       "      <td>49811</td>\n",
       "      <td>1</td>\n",
       "      <td>1.526688e+09</td>\n",
       "      <td>[0]</td>\n",
       "      <td>1.0</td>\n",
       "      <td>[0]</td>\n",
       "    </tr>\n",
       "  </tbody>\n",
       "</table>\n",
       "</div>"
      ],
      "text/plain": [
       "          uid    iid  label     timestamp  his  flag his_label\n",
       "300492  15997  47366      1  1.470096e+09  [0]  -1.0       [0]\n",
       "300493  15998  48003      1  1.485130e+09  [0]  -1.0       [0]\n",
       "300494  15999  49375      1  1.475626e+09  [0]  -1.0       [0]\n",
       "300495  16000  49497      0  1.477008e+09  [0]  -1.0       [0]\n",
       "300496  16001  49811      1  1.526688e+09  [0]   1.0       [0]"
      ]
     },
     "execution_count": 122,
     "metadata": {},
     "output_type": "execute_result"
    }
   ],
   "source": [
    "data_.tail(5)"
   ]
  },
  {
   "cell_type": "code",
   "execution_count": 123,
   "metadata": {},
   "outputs": [
    {
     "data": {
      "text/plain": [
       "((267209, 7), (16644, 7), (16644, 7))"
      ]
     },
     "execution_count": 123,
     "metadata": {},
     "output_type": "execute_result"
    }
   ],
   "source": [
    "train_ = data_[data_['flag'].isin([-1])].copy()\n",
    "valid_ = data_[data_['flag'].isin([0])].copy()\n",
    "test_ = data_[data_['flag'].isin([1])].copy()\n",
    "train_.shape,valid_.shape,test_.shape"
   ]
  },
  {
   "cell_type": "code",
   "execution_count": 124,
   "metadata": {},
   "outputs": [],
   "source": [
    "train_user = train_['uid'].unique()\n",
    "train_item = train_['iid'].unique()\n",
    "valid_['not_cold'] = valid_[['uid','iid']].apply(lambda x: x.uid in train_user and x.iid in train_item, axis=1).astype(\"int\")\n",
    "test_['not_cold'] = test_[['uid','iid']].apply(lambda x: x.uid in train_user and x.iid in train_item, axis=1).astype(\"int\")"
   ]
  },
  {
   "cell_type": "code",
   "execution_count": 125,
   "metadata": {},
   "outputs": [
    {
     "data": {
      "text/plain": [
       "(count    16644.000000\n",
       " mean         0.779921\n",
       " std          0.414312\n",
       " min          0.000000\n",
       " 25%          1.000000\n",
       " 50%          1.000000\n",
       " 75%          1.000000\n",
       " max          1.000000\n",
       " Name: not_cold, dtype: float64,\n",
       " count    16644.000000\n",
       " mean         0.737503\n",
       " std          0.440004\n",
       " min          0.000000\n",
       " 25%          0.000000\n",
       " 50%          1.000000\n",
       " 75%          1.000000\n",
       " max          1.000000\n",
       " Name: not_cold, dtype: float64)"
      ]
     },
     "execution_count": 125,
     "metadata": {},
     "output_type": "execute_result"
    }
   ],
   "source": [
    "valid_['not_cold'].describe(), test_['not_cold'].describe()"
   ]
  },
  {
   "cell_type": "code",
   "execution_count": 126,
   "metadata": {},
   "outputs": [
    {
     "data": {
      "text/html": [
       "<div>\n",
       "<style scoped>\n",
       "    .dataframe tbody tr th:only-of-type {\n",
       "        vertical-align: middle;\n",
       "    }\n",
       "\n",
       "    .dataframe tbody tr th {\n",
       "        vertical-align: top;\n",
       "    }\n",
       "\n",
       "    .dataframe thead th {\n",
       "        text-align: right;\n",
       "    }\n",
       "</style>\n",
       "<table border=\"1\" class=\"dataframe\">\n",
       "  <thead>\n",
       "    <tr style=\"text-align: right;\">\n",
       "      <th></th>\n",
       "      <th>uid</th>\n",
       "      <th>iid</th>\n",
       "      <th>label</th>\n",
       "      <th>timestamp</th>\n",
       "      <th>his</th>\n",
       "      <th>flag</th>\n",
       "      <th>his_label</th>\n",
       "      <th>not_cold</th>\n",
       "    </tr>\n",
       "  </thead>\n",
       "  <tbody>\n",
       "    <tr>\n",
       "      <th>0</th>\n",
       "      <td>1</td>\n",
       "      <td>11421</td>\n",
       "      <td>1</td>\n",
       "      <td>1.424909e+09</td>\n",
       "      <td>[0]</td>\n",
       "      <td>-1.0</td>\n",
       "      <td>[0]</td>\n",
       "      <td>1</td>\n",
       "    </tr>\n",
       "    <tr>\n",
       "      <th>1</th>\n",
       "      <td>1</td>\n",
       "      <td>6743</td>\n",
       "      <td>1</td>\n",
       "      <td>1.432339e+09</td>\n",
       "      <td>[0, 11421]</td>\n",
       "      <td>-1.0</td>\n",
       "      <td>[0, 1]</td>\n",
       "      <td>1</td>\n",
       "    </tr>\n",
       "  </tbody>\n",
       "</table>\n",
       "</div>"
      ],
      "text/plain": [
       "   uid    iid  label     timestamp         his  flag his_label  not_cold\n",
       "0    1  11421      1  1.424909e+09         [0]  -1.0       [0]         1\n",
       "1    1   6743      1  1.432339e+09  [0, 11421]  -1.0    [0, 1]         1"
      ]
     },
     "execution_count": 126,
     "metadata": {},
     "output_type": "execute_result"
    }
   ],
   "source": [
    "train_['not_cold'] = pd.DataFrame(np.ones(train_.shape[0]),index=train_.index).astype(\"int\")\n",
    "train_.head(2)"
   ]
  },
  {
   "cell_type": "code",
   "execution_count": 127,
   "metadata": {},
   "outputs": [],
   "source": [
    "save_path = \"/home/yuqihang/workroot/models/data/collm/toysdu/\"\n",
    "train_.to_pickle(os.path.join(save_path,\"train_ood2.pkl\"))\n",
    "valid_.to_pickle(os.path.join(save_path,\"valid_ood2.pkl\"))\n",
    "test_.to_pickle(os.path.join(save_path,\"test_ood2.pkl\"))"
   ]
  },
  {
   "cell_type": "code",
   "execution_count": 128,
   "metadata": {},
   "outputs": [
    {
     "data": {
      "text/html": [
       "<div>\n",
       "<style scoped>\n",
       "    .dataframe tbody tr th:only-of-type {\n",
       "        vertical-align: middle;\n",
       "    }\n",
       "\n",
       "    .dataframe tbody tr th {\n",
       "        vertical-align: top;\n",
       "    }\n",
       "\n",
       "    .dataframe thead th {\n",
       "        text-align: right;\n",
       "    }\n",
       "</style>\n",
       "<table border=\"1\" class=\"dataframe\">\n",
       "  <thead>\n",
       "    <tr style=\"text-align: right;\">\n",
       "      <th></th>\n",
       "      <th>uid</th>\n",
       "      <th>iid</th>\n",
       "      <th>label</th>\n",
       "      <th>timestamp</th>\n",
       "      <th>his</th>\n",
       "      <th>flag</th>\n",
       "      <th>his_label</th>\n",
       "      <th>not_cold</th>\n",
       "    </tr>\n",
       "  </thead>\n",
       "  <tbody>\n",
       "    <tr>\n",
       "      <th>0</th>\n",
       "      <td>1</td>\n",
       "      <td>11421</td>\n",
       "      <td>1</td>\n",
       "      <td>1.424909e+09</td>\n",
       "      <td>[0]</td>\n",
       "      <td>-1.0</td>\n",
       "      <td>[0]</td>\n",
       "      <td>1</td>\n",
       "    </tr>\n",
       "    <tr>\n",
       "      <th>1</th>\n",
       "      <td>1</td>\n",
       "      <td>6743</td>\n",
       "      <td>1</td>\n",
       "      <td>1.432339e+09</td>\n",
       "      <td>[0, 11421]</td>\n",
       "      <td>-1.0</td>\n",
       "      <td>[0, 1]</td>\n",
       "      <td>1</td>\n",
       "    </tr>\n",
       "  </tbody>\n",
       "</table>\n",
       "</div>"
      ],
      "text/plain": [
       "   uid    iid  label     timestamp         his  flag his_label  not_cold\n",
       "0    1  11421      1  1.424909e+09         [0]  -1.0       [0]         1\n",
       "1    1   6743      1  1.432339e+09  [0, 11421]  -1.0    [0, 1]         1"
      ]
     },
     "execution_count": 128,
     "metadata": {},
     "output_type": "execute_result"
    }
   ],
   "source": [
    "train_.head(2)"
   ]
  },
  {
   "cell_type": "code",
   "execution_count": 129,
   "metadata": {},
   "outputs": [
    {
     "data": {
      "text/plain": [
       "(16644, 8)"
      ]
     },
     "execution_count": 129,
     "metadata": {},
     "output_type": "execute_result"
    }
   ],
   "source": [
    "valid_.shape"
   ]
  },
  {
   "cell_type": "code",
   "execution_count": 130,
   "metadata": {},
   "outputs": [],
   "source": [
    "valid_small = valid_.sample(frac=0.25,random_state=2025)\n",
    "valid_small.to_pickle(os.path.join(save_path,\"valid_small_ood2.pkl\"))\n",
    "test_small = test_.sample(frac=0.25,random_state=2025)\n",
    "test_small.to_pickle(os.path.join(save_path,\"test_small_ood2.pkl\"))\n",
    "test_tiny= test_.sample(n=200, random_state=2025)\n",
    "test_tiny.to_pickle(os.path.join(save_path,\"test_tiny_ood2.pkl\"))"
   ]
  },
  {
   "cell_type": "code",
   "execution_count": 117,
   "metadata": {},
   "outputs": [
    {
     "data": {
      "text/plain": [
       "(4161, 7)"
      ]
     },
     "execution_count": 117,
     "metadata": {},
     "output_type": "execute_result"
    }
   ],
   "source": [
    "valid_small.shape"
   ]
  },
  {
   "cell_type": "code",
   "execution_count": 118,
   "metadata": {},
   "outputs": [
    {
     "data": {
      "text/plain": [
       "count    267209.000000\n",
       "mean         10.497158\n",
       "std          14.959360\n",
       "min           1.000000\n",
       "25%           3.000000\n",
       "50%           7.000000\n",
       "75%          13.000000\n",
       "max         354.000000\n",
       "Name: his, dtype: float64"
      ]
     },
     "execution_count": 118,
     "metadata": {},
     "output_type": "execute_result"
    }
   ],
   "source": [
    "train_['his'].apply(len).describe()"
   ]
  },
  {
   "cell_type": "code",
   "execution_count": 111,
   "metadata": {},
   "outputs": [
    {
     "data": {
      "text/plain": [
       "(0.6336170043240162, 0.6288648821244213, 0.6356056977631136)"
      ]
     },
     "execution_count": 111,
     "metadata": {},
     "output_type": "execute_result"
    }
   ],
   "source": [
    "train_.label.mean(), test_.label.mean(), valid_.label.mean()  "
   ]
  },
  {
   "cell_type": "code",
   "execution_count": 94,
   "metadata": {},
   "outputs": [
    {
     "data": {
      "text/html": [
       "<div>\n",
       "<style scoped>\n",
       "    .dataframe tbody tr th:only-of-type {\n",
       "        vertical-align: middle;\n",
       "    }\n",
       "\n",
       "    .dataframe tbody tr th {\n",
       "        vertical-align: top;\n",
       "    }\n",
       "\n",
       "    .dataframe thead tr th {\n",
       "        text-align: left;\n",
       "    }\n",
       "</style>\n",
       "<table border=\"1\" class=\"dataframe\">\n",
       "  <thead>\n",
       "    <tr>\n",
       "      <th></th>\n",
       "      <th colspan=\"2\" halign=\"left\">label</th>\n",
       "    </tr>\n",
       "    <tr>\n",
       "      <th></th>\n",
       "      <th>count</th>\n",
       "      <th>sum</th>\n",
       "    </tr>\n",
       "  </thead>\n",
       "  <tbody>\n",
       "    <tr>\n",
       "      <th>count</th>\n",
       "      <td>11673.000000</td>\n",
       "      <td>11673.000000</td>\n",
       "    </tr>\n",
       "    <tr>\n",
       "      <th>mean</th>\n",
       "      <td>3.219481</td>\n",
       "      <td>1.986807</td>\n",
       "    </tr>\n",
       "    <tr>\n",
       "      <th>std</th>\n",
       "      <td>3.586153</td>\n",
       "      <td>2.719840</td>\n",
       "    </tr>\n",
       "    <tr>\n",
       "      <th>min</th>\n",
       "      <td>1.000000</td>\n",
       "      <td>0.000000</td>\n",
       "    </tr>\n",
       "    <tr>\n",
       "      <th>25%</th>\n",
       "      <td>1.000000</td>\n",
       "      <td>1.000000</td>\n",
       "    </tr>\n",
       "    <tr>\n",
       "      <th>50%</th>\n",
       "      <td>2.000000</td>\n",
       "      <td>1.000000</td>\n",
       "    </tr>\n",
       "    <tr>\n",
       "      <th>75%</th>\n",
       "      <td>4.000000</td>\n",
       "      <td>2.000000</td>\n",
       "    </tr>\n",
       "    <tr>\n",
       "      <th>max</th>\n",
       "      <td>57.000000</td>\n",
       "      <td>49.000000</td>\n",
       "    </tr>\n",
       "  </tbody>\n",
       "</table>\n",
       "</div>"
      ],
      "text/plain": [
       "              label              \n",
       "              count           sum\n",
       "count  11673.000000  11673.000000\n",
       "mean       3.219481      1.986807\n",
       "std        3.586153      2.719840\n",
       "min        1.000000      0.000000\n",
       "25%        1.000000      1.000000\n",
       "50%        2.000000      1.000000\n",
       "75%        4.000000      2.000000\n",
       "max       57.000000     49.000000"
      ]
     },
     "execution_count": 94,
     "metadata": {},
     "output_type": "execute_result"
    }
   ],
   "source": [
    "test_.groupby(\"uid\").agg({\"label\":['count','sum']}).describe()"
   ]
  },
  {
   "cell_type": "code",
   "execution_count": 82,
   "metadata": {},
   "outputs": [
    {
     "data": {
      "text/html": [
       "<div>\n",
       "<style scoped>\n",
       "    .dataframe tbody tr th:only-of-type {\n",
       "        vertical-align: middle;\n",
       "    }\n",
       "\n",
       "    .dataframe tbody tr th {\n",
       "        vertical-align: top;\n",
       "    }\n",
       "\n",
       "    .dataframe thead tr th {\n",
       "        text-align: left;\n",
       "    }\n",
       "</style>\n",
       "<table border=\"1\" class=\"dataframe\">\n",
       "  <thead>\n",
       "    <tr>\n",
       "      <th></th>\n",
       "      <th colspan=\"2\" halign=\"left\">label</th>\n",
       "    </tr>\n",
       "    <tr>\n",
       "      <th></th>\n",
       "      <th>count</th>\n",
       "      <th>sum</th>\n",
       "    </tr>\n",
       "  </thead>\n",
       "  <tbody>\n",
       "    <tr>\n",
       "      <th>count</th>\n",
       "      <td>49923.000000</td>\n",
       "      <td>49923.000000</td>\n",
       "    </tr>\n",
       "    <tr>\n",
       "      <th>mean</th>\n",
       "      <td>15.811730</td>\n",
       "      <td>9.997476</td>\n",
       "    </tr>\n",
       "    <tr>\n",
       "      <th>std</th>\n",
       "      <td>28.974308</td>\n",
       "      <td>20.085800</td>\n",
       "    </tr>\n",
       "    <tr>\n",
       "      <th>min</th>\n",
       "      <td>1.000000</td>\n",
       "      <td>0.000000</td>\n",
       "    </tr>\n",
       "    <tr>\n",
       "      <th>25%</th>\n",
       "      <td>3.000000</td>\n",
       "      <td>2.000000</td>\n",
       "    </tr>\n",
       "    <tr>\n",
       "      <th>50%</th>\n",
       "      <td>7.000000</td>\n",
       "      <td>4.000000</td>\n",
       "    </tr>\n",
       "    <tr>\n",
       "      <th>75%</th>\n",
       "      <td>17.000000</td>\n",
       "      <td>10.000000</td>\n",
       "    </tr>\n",
       "    <tr>\n",
       "      <th>max</th>\n",
       "      <td>1060.000000</td>\n",
       "      <td>464.000000</td>\n",
       "    </tr>\n",
       "  </tbody>\n",
       "</table>\n",
       "</div>"
      ],
      "text/plain": [
       "              label              \n",
       "              count           sum\n",
       "count  49923.000000  49923.000000\n",
       "mean      15.811730      9.997476\n",
       "std       28.974308     20.085800\n",
       "min        1.000000      0.000000\n",
       "25%        3.000000      2.000000\n",
       "50%        7.000000      4.000000\n",
       "75%       17.000000     10.000000\n",
       "max     1060.000000    464.000000"
      ]
     },
     "execution_count": 82,
     "metadata": {},
     "output_type": "execute_result"
    }
   ],
   "source": [
    "train_.groupby(\"iid\").agg({\"label\":['count','sum']}).describe()"
   ]
  },
  {
   "cell_type": "code",
   "execution_count": 83,
   "metadata": {},
   "outputs": [
    {
     "data": {
      "text/plain": [
       "(10883,)"
      ]
     },
     "execution_count": 83,
     "metadata": {},
     "output_type": "execute_result"
    }
   ],
   "source": [
    "valid_[valid_['uid'].isin(train_['uid'].unique())].uid.unique().shape"
   ]
  },
  {
   "cell_type": "code",
   "execution_count": 84,
   "metadata": {},
   "outputs": [
    {
     "data": {
      "text/plain": [
       "array([ 4756,  3059, 37440, ..., 50848, 45323, 46200])"
      ]
     },
     "execution_count": 84,
     "metadata": {},
     "output_type": "execute_result"
    }
   ],
   "source": [
    "train_['iid'].unique()"
   ]
  },
  {
   "cell_type": "code",
   "execution_count": 85,
   "metadata": {},
   "outputs": [
    {
     "data": {
      "text/plain": [
       "(9873,)"
      ]
     },
     "execution_count": 85,
     "metadata": {},
     "output_type": "execute_result"
    }
   ],
   "source": [
    "valid_[valid_['iid'].isin(train_['iid'].unique())].iid.unique().shape"
   ]
  },
  {
   "cell_type": "code",
   "execution_count": 86,
   "metadata": {},
   "outputs": [
    {
     "data": {
      "text/plain": [
       "((10414,), (11911,))"
      ]
     },
     "execution_count": 86,
     "metadata": {},
     "output_type": "execute_result"
    }
   ],
   "source": [
    "valid_.iid.unique().shape, test_.iid.unique().shape"
   ]
  },
  {
   "cell_type": "code",
   "execution_count": 87,
   "metadata": {},
   "outputs": [
    {
     "data": {
      "text/plain": [
       "((10946,), (10883,))"
      ]
     },
     "execution_count": 87,
     "metadata": {},
     "output_type": "execute_result"
    }
   ],
   "source": [
    "valid_.uid.unique().shape, test_.uid.unique().shape"
   ]
  },
  {
   "cell_type": "code",
   "execution_count": 88,
   "metadata": {},
   "outputs": [
    {
     "data": {
      "text/plain": [
       "((24722,), (49923,))"
      ]
     },
     "execution_count": 88,
     "metadata": {},
     "output_type": "execute_result"
    }
   ],
   "source": [
    "train_.uid.unique().shape, train_.iid.unique().shape"
   ]
  },
  {
   "cell_type": "code",
   "execution_count": 89,
   "metadata": {},
   "outputs": [
    {
     "data": {
      "text/plain": [
       "((86,), (63,))"
      ]
     },
     "execution_count": 89,
     "metadata": {},
     "output_type": "execute_result"
    }
   ],
   "source": [
    "\n",
    "np.setdiff1d(test_.uid.unique(),train_.uid.unique()).shape, np.setdiff1d(valid_.uid.unique(),train_.uid.unique()).shape"
   ]
  },
  {
   "cell_type": "code",
   "execution_count": 90,
   "metadata": {},
   "outputs": [
    {
     "data": {
      "text/plain": [
       "((683,), (541,))"
      ]
     },
     "execution_count": 90,
     "metadata": {},
     "output_type": "execute_result"
    }
   ],
   "source": [
    "np.setdiff1d(test_.iid.unique(),train_.iid.unique()).shape, np.setdiff1d(valid_.iid.unique(),train_.iid.unique()).shape"
   ]
  },
  {
   "cell_type": "code",
   "execution_count": 91,
   "metadata": {},
   "outputs": [
    {
     "data": {
      "text/plain": [
       "(24861, 50859)"
      ]
     },
     "execution_count": 91,
     "metadata": {},
     "output_type": "execute_result"
    }
   ],
   "source": [
    "max(train_.uid.max(),test_.uid.max(),valid_.uid.max())+1, max(train_.iid.max(),test_.iid.max(),valid_.iid.max())+1"
   ]
  },
  {
   "cell_type": "code",
   "execution_count": 92,
   "metadata": {},
   "outputs": [
    {
     "data": {
      "text/html": [
       "<div>\n",
       "<style scoped>\n",
       "    .dataframe tbody tr th:only-of-type {\n",
       "        vertical-align: middle;\n",
       "    }\n",
       "\n",
       "    .dataframe tbody tr th {\n",
       "        vertical-align: top;\n",
       "    }\n",
       "\n",
       "    .dataframe thead tr th {\n",
       "        text-align: left;\n",
       "    }\n",
       "</style>\n",
       "<table border=\"1\" class=\"dataframe\">\n",
       "  <thead>\n",
       "    <tr>\n",
       "      <th></th>\n",
       "      <th colspan=\"2\" halign=\"left\">label</th>\n",
       "    </tr>\n",
       "    <tr>\n",
       "      <th></th>\n",
       "      <th>count</th>\n",
       "      <th>mean</th>\n",
       "    </tr>\n",
       "  </thead>\n",
       "  <tbody>\n",
       "    <tr>\n",
       "      <th>count</th>\n",
       "      <td>10946.000000</td>\n",
       "      <td>10946.000000</td>\n",
       "    </tr>\n",
       "    <tr>\n",
       "      <th>mean</th>\n",
       "      <td>2.572629</td>\n",
       "      <td>0.630332</td>\n",
       "    </tr>\n",
       "    <tr>\n",
       "      <th>std</th>\n",
       "      <td>2.696948</td>\n",
       "      <td>0.420832</td>\n",
       "    </tr>\n",
       "    <tr>\n",
       "      <th>min</th>\n",
       "      <td>1.000000</td>\n",
       "      <td>0.000000</td>\n",
       "    </tr>\n",
       "    <tr>\n",
       "      <th>25%</th>\n",
       "      <td>1.000000</td>\n",
       "      <td>0.142857</td>\n",
       "    </tr>\n",
       "    <tr>\n",
       "      <th>50%</th>\n",
       "      <td>2.000000</td>\n",
       "      <td>0.875000</td>\n",
       "    </tr>\n",
       "    <tr>\n",
       "      <th>75%</th>\n",
       "      <td>3.000000</td>\n",
       "      <td>1.000000</td>\n",
       "    </tr>\n",
       "    <tr>\n",
       "      <th>max</th>\n",
       "      <td>46.000000</td>\n",
       "      <td>1.000000</td>\n",
       "    </tr>\n",
       "  </tbody>\n",
       "</table>\n",
       "</div>"
      ],
      "text/plain": [
       "              label              \n",
       "              count          mean\n",
       "count  10946.000000  10946.000000\n",
       "mean       2.572629      0.630332\n",
       "std        2.696948      0.420832\n",
       "min        1.000000      0.000000\n",
       "25%        1.000000      0.142857\n",
       "50%        2.000000      0.875000\n",
       "75%        3.000000      1.000000\n",
       "max       46.000000      1.000000"
      ]
     },
     "execution_count": 92,
     "metadata": {},
     "output_type": "execute_result"
    }
   ],
   "source": [
    "valid_.groupby(\"uid\").agg({\"label\":['count','mean']}).describe()"
   ]
  },
  {
   "cell_type": "code",
   "execution_count": 93,
   "metadata": {},
   "outputs": [
    {
     "data": {
      "text/html": [
       "<div>\n",
       "<style scoped>\n",
       "    .dataframe tbody tr th:only-of-type {\n",
       "        vertical-align: middle;\n",
       "    }\n",
       "\n",
       "    .dataframe tbody tr th {\n",
       "        vertical-align: top;\n",
       "    }\n",
       "\n",
       "    .dataframe thead tr th {\n",
       "        text-align: left;\n",
       "    }\n",
       "</style>\n",
       "<table border=\"1\" class=\"dataframe\">\n",
       "  <thead>\n",
       "    <tr>\n",
       "      <th></th>\n",
       "      <th colspan=\"2\" halign=\"left\">label</th>\n",
       "    </tr>\n",
       "    <tr>\n",
       "      <th></th>\n",
       "      <th>count</th>\n",
       "      <th>mean</th>\n",
       "    </tr>\n",
       "  </thead>\n",
       "  <tbody>\n",
       "    <tr>\n",
       "      <th>count</th>\n",
       "      <td>10883.000000</td>\n",
       "      <td>10883.000000</td>\n",
       "    </tr>\n",
       "    <tr>\n",
       "      <th>mean</th>\n",
       "      <td>2.587522</td>\n",
       "      <td>0.630343</td>\n",
       "    </tr>\n",
       "    <tr>\n",
       "      <th>std</th>\n",
       "      <td>2.851553</td>\n",
       "      <td>0.423754</td>\n",
       "    </tr>\n",
       "    <tr>\n",
       "      <th>min</th>\n",
       "      <td>1.000000</td>\n",
       "      <td>0.000000</td>\n",
       "    </tr>\n",
       "    <tr>\n",
       "      <th>25%</th>\n",
       "      <td>1.000000</td>\n",
       "      <td>0.000000</td>\n",
       "    </tr>\n",
       "    <tr>\n",
       "      <th>50%</th>\n",
       "      <td>2.000000</td>\n",
       "      <td>1.000000</td>\n",
       "    </tr>\n",
       "    <tr>\n",
       "      <th>75%</th>\n",
       "      <td>3.000000</td>\n",
       "      <td>1.000000</td>\n",
       "    </tr>\n",
       "    <tr>\n",
       "      <th>max</th>\n",
       "      <td>92.000000</td>\n",
       "      <td>1.000000</td>\n",
       "    </tr>\n",
       "  </tbody>\n",
       "</table>\n",
       "</div>"
      ],
      "text/plain": [
       "              label              \n",
       "              count          mean\n",
       "count  10883.000000  10883.000000\n",
       "mean       2.587522      0.630343\n",
       "std        2.851553      0.423754\n",
       "min        1.000000      0.000000\n",
       "25%        1.000000      0.000000\n",
       "50%        2.000000      1.000000\n",
       "75%        3.000000      1.000000\n",
       "max       92.000000      1.000000"
      ]
     },
     "execution_count": 93,
     "metadata": {},
     "output_type": "execute_result"
    }
   ],
   "source": [
    "test_.groupby(\"uid\").agg({\"label\":['count','mean']}).describe()"
   ]
  },
  {
   "cell_type": "markdown",
   "metadata": {},
   "source": [
    "## read info"
   ]
  },
  {
   "cell_type": "code",
   "execution_count": 9,
   "metadata": {},
   "outputs": [],
   "source": [
    "# import pandas as pd\n",
    "save_path = \"/data/yuqihang/datasets/collm-datasets/booknew/\"\n",
    "# train_.to_pickle(os.path.join(save_path,\"train_ood2.pkl\"))\n",
    "# valid_.to_pickle(os.path.join(save_path,\"valid_ood2.pkl\"))\n",
    "test_ = pd.read_pickle(os.path.join(save_path,\"test_ood2.pkl\"))\n",
    "# data = pd.concat([train_,valid_,test_],axis=0)"
   ]
  },
  {
   "cell_type": "code",
   "execution_count": 10,
   "metadata": {},
   "outputs": [],
   "source": [
    "# 从test中随机采样获取200条作为test_tiny\n",
    "test_tiny= test_.sample(n=200, random_state=2025)\n",
    "test_tiny.to_pickle(os.path.join(save_path,\"test_tiny_ood2.pkl\"))"
   ]
  },
  {
   "cell_type": "code",
   "execution_count": 7,
   "metadata": {},
   "outputs": [
    {
     "data": {
      "text/html": [
       "<div>\n",
       "<style scoped>\n",
       "    .dataframe tbody tr th:only-of-type {\n",
       "        vertical-align: middle;\n",
       "    }\n",
       "\n",
       "    .dataframe tbody tr th {\n",
       "        vertical-align: top;\n",
       "    }\n",
       "\n",
       "    .dataframe thead th {\n",
       "        text-align: right;\n",
       "    }\n",
       "</style>\n",
       "<table border=\"1\" class=\"dataframe\">\n",
       "  <thead>\n",
       "    <tr style=\"text-align: right;\">\n",
       "      <th></th>\n",
       "      <th>uid</th>\n",
       "      <th>iid</th>\n",
       "      <th>label</th>\n",
       "      <th>timestamp</th>\n",
       "      <th>his</th>\n",
       "      <th>flag</th>\n",
       "      <th>his_label</th>\n",
       "      <th>not_cold</th>\n",
       "    </tr>\n",
       "  </thead>\n",
       "  <tbody>\n",
       "    <tr>\n",
       "      <th>191171</th>\n",
       "      <td>5804</td>\n",
       "      <td>6570</td>\n",
       "      <td>0</td>\n",
       "      <td>1.513555e+09</td>\n",
       "      <td>[0, 27079, 39289, 35499, 24100, 34624, 35639, ...</td>\n",
       "      <td>1.0</td>\n",
       "      <td>[0, 0, 0, 0, 0, 0, 0, 0, 1, 1, 1, 1, 1, 0, 1, ...</td>\n",
       "      <td>1</td>\n",
       "    </tr>\n",
       "    <tr>\n",
       "      <th>679137</th>\n",
       "      <td>19615</td>\n",
       "      <td>46888</td>\n",
       "      <td>1</td>\n",
       "      <td>1.514678e+09</td>\n",
       "      <td>[0, 17763, 17282, 24523, 24307, 24494, 27735, ...</td>\n",
       "      <td>1.0</td>\n",
       "      <td>[0, 1, 1, 1, 1, 1, 1, 0, 0, 1, 1, 1, 1, 0, 1, ...</td>\n",
       "      <td>1</td>\n",
       "    </tr>\n",
       "    <tr>\n",
       "      <th>412505</th>\n",
       "      <td>12411</td>\n",
       "      <td>33620</td>\n",
       "      <td>1</td>\n",
       "      <td>1.513037e+09</td>\n",
       "      <td>[0, 33401, 43627, 43455, 19316, 16577, 40047, ...</td>\n",
       "      <td>1.0</td>\n",
       "      <td>[0, 1, 1, 1, 1, 0, 1, 1, 1, 1, 1, 0, 1, 0, 1, ...</td>\n",
       "      <td>0</td>\n",
       "    </tr>\n",
       "    <tr>\n",
       "      <th>285172</th>\n",
       "      <td>7988</td>\n",
       "      <td>7750</td>\n",
       "      <td>1</td>\n",
       "      <td>1.514246e+09</td>\n",
       "      <td>[0, 2213, 3233, 14025, 14029, 21089, 21374, 21...</td>\n",
       "      <td>1.0</td>\n",
       "      <td>[0, 1, 1, 1, 1, 1, 1, 1, 1, 1, 1, 1, 1, 1, 1, ...</td>\n",
       "      <td>1</td>\n",
       "    </tr>\n",
       "    <tr>\n",
       "      <th>322394</th>\n",
       "      <td>9167</td>\n",
       "      <td>26440</td>\n",
       "      <td>1</td>\n",
       "      <td>1.512864e+09</td>\n",
       "      <td>[0, 27372, 10921, 19212, 33871, 42100, 26396, ...</td>\n",
       "      <td>1.0</td>\n",
       "      <td>[0, 1, 1, 1, 1, 1, 1, 0, 0, 1, 1, 0, 1, 1, 1, ...</td>\n",
       "      <td>1</td>\n",
       "    </tr>\n",
       "    <tr>\n",
       "      <th>...</th>\n",
       "      <td>...</td>\n",
       "      <td>...</td>\n",
       "      <td>...</td>\n",
       "      <td>...</td>\n",
       "      <td>...</td>\n",
       "      <td>...</td>\n",
       "      <td>...</td>\n",
       "      <td>...</td>\n",
       "    </tr>\n",
       "    <tr>\n",
       "      <th>725261</th>\n",
       "      <td>20972</td>\n",
       "      <td>45776</td>\n",
       "      <td>1</td>\n",
       "      <td>1.514419e+09</td>\n",
       "      <td>[0, 33924, 29894, 25774, 18838, 27262, 34278, ...</td>\n",
       "      <td>1.0</td>\n",
       "      <td>[0, 1, 0, 1, 1, 1, 1, 1, 1, 1, 1, 1, 1, 0, 1, ...</td>\n",
       "      <td>0</td>\n",
       "    </tr>\n",
       "    <tr>\n",
       "      <th>271835</th>\n",
       "      <td>7642</td>\n",
       "      <td>8836</td>\n",
       "      <td>1</td>\n",
       "      <td>1.512259e+09</td>\n",
       "      <td>[0, 6623, 20299, 31326, 6966, 33906, 35341, 18...</td>\n",
       "      <td>1.0</td>\n",
       "      <td>[0, 1, 1, 1, 0, 0, 1, 1, 0, 0, 0, 1, 0, 0, 1, ...</td>\n",
       "      <td>1</td>\n",
       "    </tr>\n",
       "    <tr>\n",
       "      <th>566985</th>\n",
       "      <td>16388</td>\n",
       "      <td>33308</td>\n",
       "      <td>0</td>\n",
       "      <td>1.512864e+09</td>\n",
       "      <td>[0, 23724, 24153, 30480, 28543, 32626, 25902, ...</td>\n",
       "      <td>1.0</td>\n",
       "      <td>[0, 0, 0, 0, 0, 0, 0, 0, 0, 0, 0, 0, 0, 0, 0, ...</td>\n",
       "      <td>1</td>\n",
       "    </tr>\n",
       "    <tr>\n",
       "      <th>47850</th>\n",
       "      <td>1531</td>\n",
       "      <td>23758</td>\n",
       "      <td>1</td>\n",
       "      <td>1.513555e+09</td>\n",
       "      <td>[0, 2024, 312, 20881, 301, 304, 302, 1760, 562...</td>\n",
       "      <td>1.0</td>\n",
       "      <td>[0, 1, 0, 0, 0, 0, 1, 0, 0, 0, 0, 1, 1, 1, 0, ...</td>\n",
       "      <td>1</td>\n",
       "    </tr>\n",
       "    <tr>\n",
       "      <th>674607</th>\n",
       "      <td>19461</td>\n",
       "      <td>44843</td>\n",
       "      <td>0</td>\n",
       "      <td>1.512346e+09</td>\n",
       "      <td>[0, 28712, 42716, 42718, 33895, 29837, 34274, ...</td>\n",
       "      <td>1.0</td>\n",
       "      <td>[0, 1, 1, 1, 0, 1, 0, 1, 0, 0, 1, 0, 0, 0, 0, ...</td>\n",
       "      <td>1</td>\n",
       "    </tr>\n",
       "  </tbody>\n",
       "</table>\n",
       "<p>200 rows × 8 columns</p>\n",
       "</div>"
      ],
      "text/plain": [
       "          uid    iid  label     timestamp  \\\n",
       "191171   5804   6570      0  1.513555e+09   \n",
       "679137  19615  46888      1  1.514678e+09   \n",
       "412505  12411  33620      1  1.513037e+09   \n",
       "285172   7988   7750      1  1.514246e+09   \n",
       "322394   9167  26440      1  1.512864e+09   \n",
       "...       ...    ...    ...           ...   \n",
       "725261  20972  45776      1  1.514419e+09   \n",
       "271835   7642   8836      1  1.512259e+09   \n",
       "566985  16388  33308      0  1.512864e+09   \n",
       "47850    1531  23758      1  1.513555e+09   \n",
       "674607  19461  44843      0  1.512346e+09   \n",
       "\n",
       "                                                      his  flag  \\\n",
       "191171  [0, 27079, 39289, 35499, 24100, 34624, 35639, ...   1.0   \n",
       "679137  [0, 17763, 17282, 24523, 24307, 24494, 27735, ...   1.0   \n",
       "412505  [0, 33401, 43627, 43455, 19316, 16577, 40047, ...   1.0   \n",
       "285172  [0, 2213, 3233, 14025, 14029, 21089, 21374, 21...   1.0   \n",
       "322394  [0, 27372, 10921, 19212, 33871, 42100, 26396, ...   1.0   \n",
       "...                                                   ...   ...   \n",
       "725261  [0, 33924, 29894, 25774, 18838, 27262, 34278, ...   1.0   \n",
       "271835  [0, 6623, 20299, 31326, 6966, 33906, 35341, 18...   1.0   \n",
       "566985  [0, 23724, 24153, 30480, 28543, 32626, 25902, ...   1.0   \n",
       "47850   [0, 2024, 312, 20881, 301, 304, 302, 1760, 562...   1.0   \n",
       "674607  [0, 28712, 42716, 42718, 33895, 29837, 34274, ...   1.0   \n",
       "\n",
       "                                                his_label  not_cold  \n",
       "191171  [0, 0, 0, 0, 0, 0, 0, 0, 1, 1, 1, 1, 1, 0, 1, ...         1  \n",
       "679137  [0, 1, 1, 1, 1, 1, 1, 0, 0, 1, 1, 1, 1, 0, 1, ...         1  \n",
       "412505  [0, 1, 1, 1, 1, 0, 1, 1, 1, 1, 1, 0, 1, 0, 1, ...         0  \n",
       "285172  [0, 1, 1, 1, 1, 1, 1, 1, 1, 1, 1, 1, 1, 1, 1, ...         1  \n",
       "322394  [0, 1, 1, 1, 1, 1, 1, 0, 0, 1, 1, 0, 1, 1, 1, ...         1  \n",
       "...                                                   ...       ...  \n",
       "725261  [0, 1, 0, 1, 1, 1, 1, 1, 1, 1, 1, 1, 1, 0, 1, ...         0  \n",
       "271835  [0, 1, 1, 1, 0, 0, 1, 1, 0, 0, 0, 1, 0, 0, 1, ...         1  \n",
       "566985  [0, 0, 0, 0, 0, 0, 0, 0, 0, 0, 0, 0, 0, 0, 0, ...         1  \n",
       "47850   [0, 1, 0, 0, 0, 0, 1, 0, 0, 0, 0, 1, 1, 1, 0, ...         1  \n",
       "674607  [0, 1, 1, 1, 0, 1, 0, 1, 0, 0, 1, 0, 0, 0, 0, ...         1  \n",
       "\n",
       "[200 rows x 8 columns]"
      ]
     },
     "execution_count": 7,
     "metadata": {},
     "output_type": "execute_result"
    }
   ],
   "source": [
    "test_tiny"
   ]
  },
  {
   "cell_type": "code",
   "execution_count": 7,
   "metadata": {},
   "outputs": [],
   "source": [
    "test_small = test_.sample(frac=0.25,random_state=2023)\n",
    "test_small.to_pickle(os.path.join(save_path,\"test_small_ood2.pkl\"))"
   ]
  },
  {
   "cell_type": "code",
   "execution_count": 95,
   "metadata": {},
   "outputs": [
    {
     "data": {
      "text/html": [
       "<div>\n",
       "<style scoped>\n",
       "    .dataframe tbody tr th:only-of-type {\n",
       "        vertical-align: middle;\n",
       "    }\n",
       "\n",
       "    .dataframe tbody tr th {\n",
       "        vertical-align: top;\n",
       "    }\n",
       "\n",
       "    .dataframe thead tr th {\n",
       "        text-align: left;\n",
       "    }\n",
       "</style>\n",
       "<table border=\"1\" class=\"dataframe\">\n",
       "  <thead>\n",
       "    <tr>\n",
       "      <th></th>\n",
       "      <th colspan=\"2\" halign=\"left\">label</th>\n",
       "    </tr>\n",
       "    <tr>\n",
       "      <th></th>\n",
       "      <th>sum</th>\n",
       "      <th>count</th>\n",
       "    </tr>\n",
       "  </thead>\n",
       "  <tbody>\n",
       "    <tr>\n",
       "      <th>count</th>\n",
       "      <td>24860.000000</td>\n",
       "      <td>24860.000000</td>\n",
       "    </tr>\n",
       "    <tr>\n",
       "      <th>mean</th>\n",
       "      <td>21.490909</td>\n",
       "      <td>34.018061</td>\n",
       "    </tr>\n",
       "    <tr>\n",
       "      <th>std</th>\n",
       "      <td>27.100474</td>\n",
       "      <td>37.169312</td>\n",
       "    </tr>\n",
       "    <tr>\n",
       "      <th>min</th>\n",
       "      <td>0.000000</td>\n",
       "      <td>1.000000</td>\n",
       "    </tr>\n",
       "    <tr>\n",
       "      <th>25%</th>\n",
       "      <td>8.000000</td>\n",
       "      <td>16.000000</td>\n",
       "    </tr>\n",
       "    <tr>\n",
       "      <th>50%</th>\n",
       "      <td>15.000000</td>\n",
       "      <td>24.000000</td>\n",
       "    </tr>\n",
       "    <tr>\n",
       "      <th>75%</th>\n",
       "      <td>26.000000</td>\n",
       "      <td>39.000000</td>\n",
       "    </tr>\n",
       "    <tr>\n",
       "      <th>max</th>\n",
       "      <td>925.000000</td>\n",
       "      <td>941.000000</td>\n",
       "    </tr>\n",
       "  </tbody>\n",
       "</table>\n",
       "</div>"
      ],
      "text/plain": [
       "              label              \n",
       "                sum         count\n",
       "count  24860.000000  24860.000000\n",
       "mean      21.490909     34.018061\n",
       "std       27.100474     37.169312\n",
       "min        0.000000      1.000000\n",
       "25%        8.000000     16.000000\n",
       "50%       15.000000     24.000000\n",
       "75%       26.000000     39.000000\n",
       "max      925.000000    941.000000"
      ]
     },
     "execution_count": 95,
     "metadata": {},
     "output_type": "execute_result"
    }
   ],
   "source": [
    "data.groupby(\"uid\").agg({\"label\":['sum','count']}).describe()"
   ]
  },
  {
   "cell_type": "code",
   "execution_count": 96,
   "metadata": {},
   "outputs": [
    {
     "data": {
      "text/html": [
       "<div>\n",
       "<style scoped>\n",
       "    .dataframe tbody tr th:only-of-type {\n",
       "        vertical-align: middle;\n",
       "    }\n",
       "\n",
       "    .dataframe tbody tr th {\n",
       "        vertical-align: top;\n",
       "    }\n",
       "\n",
       "    .dataframe thead th {\n",
       "        text-align: right;\n",
       "    }\n",
       "</style>\n",
       "<table border=\"1\" class=\"dataframe\">\n",
       "  <thead>\n",
       "    <tr style=\"text-align: right;\">\n",
       "      <th></th>\n",
       "      <th>uid</th>\n",
       "      <th>iid</th>\n",
       "      <th>label</th>\n",
       "      <th>timestamp</th>\n",
       "      <th>his</th>\n",
       "      <th>his_title</th>\n",
       "      <th>title</th>\n",
       "      <th>flag</th>\n",
       "      <th>not_cold</th>\n",
       "    </tr>\n",
       "  </thead>\n",
       "  <tbody>\n",
       "    <tr>\n",
       "      <th>0</th>\n",
       "      <td>1</td>\n",
       "      <td>4756</td>\n",
       "      <td>1</td>\n",
       "      <td>1.483920e+09</td>\n",
       "      <td>[0]</td>\n",
       "      <td>[]</td>\n",
       "      <td>ENDURANCE: SHACKLETON'S INCREDIBLE VOYAGE by L...</td>\n",
       "      <td>-1.0</td>\n",
       "      <td>1</td>\n",
       "    </tr>\n",
       "    <tr>\n",
       "      <th>1</th>\n",
       "      <td>1</td>\n",
       "      <td>3059</td>\n",
       "      <td>0</td>\n",
       "      <td>1.484525e+09</td>\n",
       "      <td>[0, 4756]</td>\n",
       "      <td>[, ENDURANCE: SHACKLETON'S INCREDIBLE VOYAGE b...</td>\n",
       "      <td>Norwegian Wood</td>\n",
       "      <td>-1.0</td>\n",
       "      <td>1</td>\n",
       "    </tr>\n",
       "    <tr>\n",
       "      <th>2</th>\n",
       "      <td>1</td>\n",
       "      <td>37440</td>\n",
       "      <td>1</td>\n",
       "      <td>1.484698e+09</td>\n",
       "      <td>[0, 4756]</td>\n",
       "      <td>[, ENDURANCE: SHACKLETON'S INCREDIBLE VOYAGE b...</td>\n",
       "      <td>Summer at Sunset (The Summer Series) (Volume 2)</td>\n",
       "      <td>-1.0</td>\n",
       "      <td>1</td>\n",
       "    </tr>\n",
       "    <tr>\n",
       "      <th>3</th>\n",
       "      <td>1</td>\n",
       "      <td>29038</td>\n",
       "      <td>0</td>\n",
       "      <td>1.485130e+09</td>\n",
       "      <td>[0, 4756, 37440]</td>\n",
       "      <td>[, ENDURANCE: SHACKLETON'S INCREDIBLE VOYAGE b...</td>\n",
       "      <td>Every Day Is a Holiday</td>\n",
       "      <td>-1.0</td>\n",
       "      <td>1</td>\n",
       "    </tr>\n",
       "    <tr>\n",
       "      <th>4</th>\n",
       "      <td>1</td>\n",
       "      <td>187</td>\n",
       "      <td>0</td>\n",
       "      <td>1.485389e+09</td>\n",
       "      <td>[0, 4756, 37440]</td>\n",
       "      <td>[, ENDURANCE: SHACKLETON'S INCREDIBLE VOYAGE b...</td>\n",
       "      <td>The Yiddish Policemen's Union: A Novel (P.S.)</td>\n",
       "      <td>-1.0</td>\n",
       "      <td>1</td>\n",
       "    </tr>\n",
       "  </tbody>\n",
       "</table>\n",
       "</div>"
      ],
      "text/plain": [
       "   uid    iid  label     timestamp               his  \\\n",
       "0    1   4756      1  1.483920e+09               [0]   \n",
       "1    1   3059      0  1.484525e+09         [0, 4756]   \n",
       "2    1  37440      1  1.484698e+09         [0, 4756]   \n",
       "3    1  29038      0  1.485130e+09  [0, 4756, 37440]   \n",
       "4    1    187      0  1.485389e+09  [0, 4756, 37440]   \n",
       "\n",
       "                                           his_title  \\\n",
       "0                                                 []   \n",
       "1  [, ENDURANCE: SHACKLETON'S INCREDIBLE VOYAGE b...   \n",
       "2  [, ENDURANCE: SHACKLETON'S INCREDIBLE VOYAGE b...   \n",
       "3  [, ENDURANCE: SHACKLETON'S INCREDIBLE VOYAGE b...   \n",
       "4  [, ENDURANCE: SHACKLETON'S INCREDIBLE VOYAGE b...   \n",
       "\n",
       "                                               title  flag  not_cold  \n",
       "0  ENDURANCE: SHACKLETON'S INCREDIBLE VOYAGE by L...  -1.0         1  \n",
       "1                                     Norwegian Wood  -1.0         1  \n",
       "2    Summer at Sunset (The Summer Series) (Volume 2)  -1.0         1  \n",
       "3                             Every Day Is a Holiday  -1.0         1  \n",
       "4      The Yiddish Policemen's Union: A Novel (P.S.)  -1.0         1  "
      ]
     },
     "execution_count": 96,
     "metadata": {},
     "output_type": "execute_result"
    }
   ],
   "source": [
    "data.head(5)"
   ]
  }
 ],
 "metadata": {
  "kernelspec": {
   "display_name": "minigpt4",
   "language": "python",
   "name": "python3"
  },
  "language_info": {
   "codemirror_mode": {
    "name": "ipython",
    "version": 3
   },
   "file_extension": ".py",
   "mimetype": "text/x-python",
   "name": "python",
   "nbconvert_exporter": "python",
   "pygments_lexer": "ipython3",
   "version": "3.9.0"
  },
  "orig_nbformat": 4
 },
 "nbformat": 4,
 "nbformat_minor": 2
}
