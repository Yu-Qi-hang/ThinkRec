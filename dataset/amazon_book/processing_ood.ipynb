{
 "cells": [
  {
   "cell_type": "code",
   "execution_count": 1,
   "metadata": {},
   "outputs": [],
   "source": [
    "import os\n",
    "import re\n",
    "import json\n",
    "import gzip\n",
    "import numpy as np\n",
    "import pandas as pd\n",
    "from urllib.request import urlopen"
   ]
  },
  {
   "cell_type": "code",
   "execution_count": 2,
   "metadata": {},
   "outputs": [],
   "source": [
    "def parse(path):\n",
    "  g = gzip.open(path, 'rb')\n",
    "  for l in g:\n",
    "    yield json.loads(l)\n",
    "\n",
    "def getDF(path):\n",
    "  i = 0\n",
    "  df = {}\n",
    "  for d in parse(path):\n",
    "    df[i] = d\n",
    "    i += 1\n",
    "  return pd.DataFrame.from_dict(df, orient='index')"
   ]
  },
  {
   "cell_type": "code",
   "execution_count": 3,
   "metadata": {},
   "outputs": [],
   "source": [
    "# df = getDF('/data/zyang/datasets/amazon_book/Books_5.json.gz')\n",
    "df = getDF('/data/yuqihang/datasets/recsys/Amazon/2018/Books.json.gz')"
   ]
  },
  {
   "cell_type": "code",
   "execution_count": 4,
   "metadata": {},
   "outputs": [
    {
     "data": {
      "text/html": [
       "<div>\n",
       "<style scoped>\n",
       "    .dataframe tbody tr th:only-of-type {\n",
       "        vertical-align: middle;\n",
       "    }\n",
       "\n",
       "    .dataframe tbody tr th {\n",
       "        vertical-align: top;\n",
       "    }\n",
       "\n",
       "    .dataframe thead th {\n",
       "        text-align: right;\n",
       "    }\n",
       "</style>\n",
       "<table border=\"1\" class=\"dataframe\">\n",
       "  <thead>\n",
       "    <tr style=\"text-align: right;\">\n",
       "      <th></th>\n",
       "      <th>overall</th>\n",
       "      <th>verified</th>\n",
       "      <th>reviewTime</th>\n",
       "      <th>reviewerID</th>\n",
       "      <th>asin</th>\n",
       "      <th>style</th>\n",
       "      <th>reviewerName</th>\n",
       "      <th>reviewText</th>\n",
       "      <th>summary</th>\n",
       "      <th>unixReviewTime</th>\n",
       "      <th>vote</th>\n",
       "      <th>image</th>\n",
       "    </tr>\n",
       "  </thead>\n",
       "  <tbody>\n",
       "    <tr>\n",
       "      <th>0</th>\n",
       "      <td>5.0</td>\n",
       "      <td>False</td>\n",
       "      <td>08 12, 2005</td>\n",
       "      <td>A1C6M8LCIX4M6M</td>\n",
       "      <td>0001713353</td>\n",
       "      <td>{'Format:': ' Paperback'}</td>\n",
       "      <td>June Bug</td>\n",
       "      <td>This book is a winner with both of my boys.  T...</td>\n",
       "      <td>Children's favorite</td>\n",
       "      <td>1123804800</td>\n",
       "      <td>NaN</td>\n",
       "      <td>NaN</td>\n",
       "    </tr>\n",
       "    <tr>\n",
       "      <th>1</th>\n",
       "      <td>5.0</td>\n",
       "      <td>False</td>\n",
       "      <td>03 30, 2005</td>\n",
       "      <td>A1REUF3A1YCPHM</td>\n",
       "      <td>0001713353</td>\n",
       "      <td>{'Format:': ' Hardcover'}</td>\n",
       "      <td>TW Ervin II</td>\n",
       "      <td>The King, the Mice and the Cheese by Nancy Gur...</td>\n",
       "      <td>A story children will love and learn from</td>\n",
       "      <td>1112140800</td>\n",
       "      <td>NaN</td>\n",
       "      <td>NaN</td>\n",
       "    </tr>\n",
       "  </tbody>\n",
       "</table>\n",
       "</div>"
      ],
      "text/plain": [
       "   overall  verified   reviewTime      reviewerID        asin  \\\n",
       "0      5.0     False  08 12, 2005  A1C6M8LCIX4M6M  0001713353   \n",
       "1      5.0     False  03 30, 2005  A1REUF3A1YCPHM  0001713353   \n",
       "\n",
       "                       style reviewerName  \\\n",
       "0  {'Format:': ' Paperback'}     June Bug   \n",
       "1  {'Format:': ' Hardcover'}  TW Ervin II   \n",
       "\n",
       "                                          reviewText  \\\n",
       "0  This book is a winner with both of my boys.  T...   \n",
       "1  The King, the Mice and the Cheese by Nancy Gur...   \n",
       "\n",
       "                                     summary  unixReviewTime vote image  \n",
       "0                        Children's favorite      1123804800  NaN   NaN  \n",
       "1  A story children will love and learn from      1112140800  NaN   NaN  "
      ]
     },
     "execution_count": 4,
     "metadata": {},
     "output_type": "execute_result"
    }
   ],
   "source": [
    "df.head(2)"
   ]
  },
  {
   "cell_type": "code",
   "execution_count": 5,
   "metadata": {},
   "outputs": [],
   "source": [
    "metadata = []\n",
    "with gzip.open('/data/yuqihang/datasets/recsys/Amazon/2018/meta_Books.json.gz') as f:\n",
    "    for l in f:\n",
    "        metadata.append(json.loads(l.strip()))"
   ]
  },
  {
   "cell_type": "code",
   "execution_count": 6,
   "metadata": {},
   "outputs": [
    {
     "name": "stdout",
     "output_type": "stream",
     "text": [
      "2934949\n",
      "{'category': [], 'tech1': '', 'description': ['It is a biology book with God&apos;s perspective.'], 'fit': '', 'title': 'Biology Gods Living Creation Third Edition 10 (A Beka Book Science Series)', 'also_buy': ['0669009075', 'B000K2P5SA', 'B00MD4G2N0', 'B000ASIPTK', '0130508470', '1892427524', '0321567919', 'B000BJBH20', '0547484631', 'B000HAJTQO', 'B000AUCX7I', '0130365645', 'B000BI1Y2O', '0395976715', '052817729X', '1579246443', 'B001CK63XK', '1591669847', '0395879884', '836585161X', 'B01J2F9BH6', 'B00KYEHR4E', '158008141X', '1857928393', '0927545829', 'B015AR0RA0', 'B000TVHHRE', '0865167990', '1579246052', 'B003NXXVD4', 'B000OH6AX0', '061802087X', 'B000NU2X02', '0743252012'], 'tech2': '', 'brand': 'Keith Graham', 'feature': [], 'rank': '1,349,781 in Books (', 'also_view': ['0019777701', 'B000AUCX7I', 'B000K2P5SA', 'B001CK63XK', 'B01J2F9BH6', 'B000BI1Y2O', '1932012540', 'B0095ZCRCK'], 'main_cat': 'Books', 'similar_item': '', 'date': '', 'price': '$39.94', 'asin': '0000092878', 'imageURL': [], 'imageURLHighRes': []}\n",
      "2934949\n"
     ]
    }
   ],
   "source": [
    "# total length of list, this number equals total number of products\n",
    "print(len(metadata))\n",
    "\n",
    "# first row of the list\n",
    "print(metadata[0])\n",
    "\n",
    "# convert list into pandas dataframe\n",
    "\n",
    "df_meta = pd.DataFrame.from_dict(metadata)\n",
    "\n",
    "print(len(df_meta))"
   ]
  },
  {
   "cell_type": "code",
   "execution_count": 7,
   "metadata": {},
   "outputs": [
    {
     "data": {
      "text/html": [
       "<div>\n",
       "<style scoped>\n",
       "    .dataframe tbody tr th:only-of-type {\n",
       "        vertical-align: middle;\n",
       "    }\n",
       "\n",
       "    .dataframe tbody tr th {\n",
       "        vertical-align: top;\n",
       "    }\n",
       "\n",
       "    .dataframe thead th {\n",
       "        text-align: right;\n",
       "    }\n",
       "</style>\n",
       "<table border=\"1\" class=\"dataframe\">\n",
       "  <thead>\n",
       "    <tr style=\"text-align: right;\">\n",
       "      <th></th>\n",
       "      <th>category</th>\n",
       "      <th>tech1</th>\n",
       "      <th>description</th>\n",
       "      <th>fit</th>\n",
       "      <th>title</th>\n",
       "      <th>also_buy</th>\n",
       "      <th>tech2</th>\n",
       "      <th>brand</th>\n",
       "      <th>feature</th>\n",
       "      <th>rank</th>\n",
       "      <th>also_view</th>\n",
       "      <th>main_cat</th>\n",
       "      <th>similar_item</th>\n",
       "      <th>date</th>\n",
       "      <th>price</th>\n",
       "      <th>asin</th>\n",
       "      <th>imageURL</th>\n",
       "      <th>imageURLHighRes</th>\n",
       "      <th>details</th>\n",
       "    </tr>\n",
       "  </thead>\n",
       "  <tbody>\n",
       "    <tr>\n",
       "      <th>0</th>\n",
       "      <td>[]</td>\n",
       "      <td></td>\n",
       "      <td>[It is a biology book with God&amp;apos;s perspect...</td>\n",
       "      <td></td>\n",
       "      <td>Biology Gods Living Creation Third Edition 10 ...</td>\n",
       "      <td>[0669009075, B000K2P5SA, B00MD4G2N0, B000ASIPT...</td>\n",
       "      <td></td>\n",
       "      <td>Keith Graham</td>\n",
       "      <td>[]</td>\n",
       "      <td>1,349,781 in Books (</td>\n",
       "      <td>[0019777701, B000AUCX7I, B000K2P5SA, B001CK63X...</td>\n",
       "      <td>Books</td>\n",
       "      <td></td>\n",
       "      <td></td>\n",
       "      <td>$39.94</td>\n",
       "      <td>0000092878</td>\n",
       "      <td>[]</td>\n",
       "      <td>[]</td>\n",
       "      <td>NaN</td>\n",
       "    </tr>\n",
       "    <tr>\n",
       "      <th>1</th>\n",
       "      <td>[Books, New, Used &amp; Rental Textbooks, Medicine...</td>\n",
       "      <td></td>\n",
       "      <td>[]</td>\n",
       "      <td></td>\n",
       "      <td>Mksap 16 Audio Companion: Medical Knowledge Se...</td>\n",
       "      <td>[]</td>\n",
       "      <td></td>\n",
       "      <td>Acp</td>\n",
       "      <td>[]</td>\n",
       "      <td>1,702,625 in Books (</td>\n",
       "      <td>[B01MUCYEV7, B01KUGTY6O]</td>\n",
       "      <td>Books</td>\n",
       "      <td></td>\n",
       "      <td></td>\n",
       "      <td></td>\n",
       "      <td>000047715X</td>\n",
       "      <td>[]</td>\n",
       "      <td>[]</td>\n",
       "      <td>NaN</td>\n",
       "    </tr>\n",
       "    <tr>\n",
       "      <th>2</th>\n",
       "      <td>[Books, Arts &amp; Photography, Music]</td>\n",
       "      <td></td>\n",
       "      <td>[Discography of American Punk, Hardcore, and P...</td>\n",
       "      <td></td>\n",
       "      <td>Flex! Discography of North American Punk, Hard...</td>\n",
       "      <td>[]</td>\n",
       "      <td></td>\n",
       "      <td>Burkhard Jarisch</td>\n",
       "      <td>[]</td>\n",
       "      <td>6,291,012 in Books (</td>\n",
       "      <td>[]</td>\n",
       "      <td>Books</td>\n",
       "      <td></td>\n",
       "      <td></td>\n",
       "      <td>$199.99</td>\n",
       "      <td>0000004545</td>\n",
       "      <td>[]</td>\n",
       "      <td>[]</td>\n",
       "      <td>NaN</td>\n",
       "    </tr>\n",
       "    <tr>\n",
       "      <th>3</th>\n",
       "      <td>[Books, Arts &amp; Photography, Music]</td>\n",
       "      <td></td>\n",
       "      <td>[This is a collection of classic gospel hymns ...</td>\n",
       "      <td></td>\n",
       "      <td>Heavenly Highway Hymns: Shaped-Note Hymnal</td>\n",
       "      <td>[]</td>\n",
       "      <td></td>\n",
       "      <td>Stamps/Baxter</td>\n",
       "      <td>[]</td>\n",
       "      <td>2,384,057 in Books (</td>\n",
       "      <td>[0006180116, 0996092730, B000QFOGY0, B06WWKNDL...</td>\n",
       "      <td>Books</td>\n",
       "      <td></td>\n",
       "      <td></td>\n",
       "      <td></td>\n",
       "      <td>0000013765</td>\n",
       "      <td>[]</td>\n",
       "      <td>[]</td>\n",
       "      <td>NaN</td>\n",
       "    </tr>\n",
       "    <tr>\n",
       "      <th>4</th>\n",
       "      <td>[]</td>\n",
       "      <td></td>\n",
       "      <td>[]</td>\n",
       "      <td></td>\n",
       "      <td>Georgina Goodman Nelson Womens Size 8.5 Purple...</td>\n",
       "      <td>[]</td>\n",
       "      <td></td>\n",
       "      <td></td>\n",
       "      <td>[]</td>\n",
       "      <td>11,735,726 in Books (</td>\n",
       "      <td>[]</td>\n",
       "      <td>Books</td>\n",
       "      <td></td>\n",
       "      <td></td>\n",
       "      <td>$164.10</td>\n",
       "      <td>0000000116</td>\n",
       "      <td>[]</td>\n",
       "      <td>[]</td>\n",
       "      <td>NaN</td>\n",
       "    </tr>\n",
       "  </tbody>\n",
       "</table>\n",
       "</div>"
      ],
      "text/plain": [
       "                                            category tech1  \\\n",
       "0                                                 []         \n",
       "1  [Books, New, Used & Rental Textbooks, Medicine...         \n",
       "2                 [Books, Arts & Photography, Music]         \n",
       "3                 [Books, Arts & Photography, Music]         \n",
       "4                                                 []         \n",
       "\n",
       "                                         description fit  \\\n",
       "0  [It is a biology book with God&apos;s perspect...       \n",
       "1                                                 []       \n",
       "2  [Discography of American Punk, Hardcore, and P...       \n",
       "3  [This is a collection of classic gospel hymns ...       \n",
       "4                                                 []       \n",
       "\n",
       "                                               title  \\\n",
       "0  Biology Gods Living Creation Third Edition 10 ...   \n",
       "1  Mksap 16 Audio Companion: Medical Knowledge Se...   \n",
       "2  Flex! Discography of North American Punk, Hard...   \n",
       "3         Heavenly Highway Hymns: Shaped-Note Hymnal   \n",
       "4  Georgina Goodman Nelson Womens Size 8.5 Purple...   \n",
       "\n",
       "                                            also_buy tech2             brand  \\\n",
       "0  [0669009075, B000K2P5SA, B00MD4G2N0, B000ASIPT...            Keith Graham   \n",
       "1                                                 []                     Acp   \n",
       "2                                                 []        Burkhard Jarisch   \n",
       "3                                                 []           Stamps/Baxter   \n",
       "4                                                 []                           \n",
       "\n",
       "  feature                   rank  \\\n",
       "0      []   1,349,781 in Books (   \n",
       "1      []   1,702,625 in Books (   \n",
       "2      []   6,291,012 in Books (   \n",
       "3      []   2,384,057 in Books (   \n",
       "4      []  11,735,726 in Books (   \n",
       "\n",
       "                                           also_view main_cat similar_item  \\\n",
       "0  [0019777701, B000AUCX7I, B000K2P5SA, B001CK63X...    Books                \n",
       "1                           [B01MUCYEV7, B01KUGTY6O]    Books                \n",
       "2                                                 []    Books                \n",
       "3  [0006180116, 0996092730, B000QFOGY0, B06WWKNDL...    Books                \n",
       "4                                                 []    Books                \n",
       "\n",
       "  date    price        asin imageURL imageURLHighRes details  \n",
       "0        $39.94  0000092878       []              []     NaN  \n",
       "1                000047715X       []              []     NaN  \n",
       "2       $199.99  0000004545       []              []     NaN  \n",
       "3                0000013765       []              []     NaN  \n",
       "4       $164.10  0000000116       []              []     NaN  "
      ]
     },
     "execution_count": 7,
     "metadata": {},
     "output_type": "execute_result"
    }
   ],
   "source": [
    "df_meta.head(5)"
   ]
  },
  {
   "cell_type": "code",
   "execution_count": 8,
   "metadata": {},
   "outputs": [
    {
     "name": "stdout",
     "output_type": "stream",
     "text": [
      "0\n",
      "2934949\n"
     ]
    }
   ],
   "source": [
    "df3 = df_meta.fillna('')\n",
    "df4 = df3[df3.title.str.contains('getTime')] # unformatted rows\n",
    "df5 = df3[~df3.title.str.contains('getTime')] # filter those unformatted rows\n",
    "print(len(df4))\n",
    "print(len(df5))"
   ]
  },
  {
   "cell_type": "code",
   "execution_count": 9,
   "metadata": {},
   "outputs": [
    {
     "data": {
      "text/plain": [
       "count    5.131162e+07\n",
       "mean     4.393247e+00\n",
       "std      1.045411e+00\n",
       "min      0.000000e+00\n",
       "25%      4.000000e+00\n",
       "50%      5.000000e+00\n",
       "75%      5.000000e+00\n",
       "max      5.000000e+00\n",
       "Name: overall, dtype: float64"
      ]
     },
     "execution_count": 9,
     "metadata": {},
     "output_type": "execute_result"
    }
   ],
   "source": [
    "# df['rating'].dropna().describe()\n",
    "df['overall'].dropna().describe()"
   ]
  },
  {
   "cell_type": "code",
   "execution_count": 10,
   "metadata": {},
   "outputs": [
    {
     "data": {
      "text/plain": [
       "Index(['overall', 'verified', 'reviewTime', 'reviewerID', 'asin', 'style',\n",
       "       'reviewerName', 'reviewText', 'summary', 'unixReviewTime', 'vote',\n",
       "       'image'],\n",
       "      dtype='object')"
      ]
     },
     "execution_count": 10,
     "metadata": {},
     "output_type": "execute_result"
    }
   ],
   "source": [
    "df.columns"
   ]
  },
  {
   "cell_type": "code",
   "execution_count": 11,
   "metadata": {},
   "outputs": [
    {
     "data": {
      "text/html": [
       "<div>\n",
       "<style scoped>\n",
       "    .dataframe tbody tr th:only-of-type {\n",
       "        vertical-align: middle;\n",
       "    }\n",
       "\n",
       "    .dataframe tbody tr th {\n",
       "        vertical-align: top;\n",
       "    }\n",
       "\n",
       "    .dataframe thead th {\n",
       "        text-align: right;\n",
       "    }\n",
       "</style>\n",
       "<table border=\"1\" class=\"dataframe\">\n",
       "  <thead>\n",
       "    <tr style=\"text-align: right;\">\n",
       "      <th></th>\n",
       "      <th>asin</th>\n",
       "      <th>reviewerID</th>\n",
       "      <th>overall</th>\n",
       "      <th>unixReviewTime</th>\n",
       "    </tr>\n",
       "  </thead>\n",
       "  <tbody>\n",
       "    <tr>\n",
       "      <th>0</th>\n",
       "      <td>0001713353</td>\n",
       "      <td>A1C6M8LCIX4M6M</td>\n",
       "      <td>5.0</td>\n",
       "      <td>1123804800</td>\n",
       "    </tr>\n",
       "    <tr>\n",
       "      <th>1</th>\n",
       "      <td>0001713353</td>\n",
       "      <td>A1REUF3A1YCPHM</td>\n",
       "      <td>5.0</td>\n",
       "      <td>1112140800</td>\n",
       "    </tr>\n",
       "  </tbody>\n",
       "</table>\n",
       "</div>"
      ],
      "text/plain": [
       "         asin      reviewerID  overall  unixReviewTime\n",
       "0  0001713353  A1C6M8LCIX4M6M      5.0      1123804800\n",
       "1  0001713353  A1REUF3A1YCPHM      5.0      1112140800"
      ]
     },
     "execution_count": 11,
     "metadata": {},
     "output_type": "execute_result"
    }
   ],
   "source": [
    "rating = df[['asin','reviewerID','overall','unixReviewTime']]\n",
    "# rating = df[['rating','timestamp','user_id','asin','helpful_vote']]\n",
    "rating.head(2) "
   ]
  },
  {
   "cell_type": "code",
   "execution_count": 12,
   "metadata": {},
   "outputs": [
    {
     "data": {
      "text/plain": [
       "count    5.131162e+07\n",
       "mean     4.393247e+00\n",
       "std      1.045411e+00\n",
       "min      0.000000e+00\n",
       "25%      4.000000e+00\n",
       "50%      5.000000e+00\n",
       "75%      5.000000e+00\n",
       "max      5.000000e+00\n",
       "Name: overall, dtype: float64"
      ]
     },
     "execution_count": 12,
     "metadata": {},
     "output_type": "execute_result"
    }
   ],
   "source": [
    "rating['overall'].describe()"
   ]
  },
  {
   "cell_type": "code",
   "execution_count": 13,
   "metadata": {},
   "outputs": [],
   "source": [
    "# rating = rating[['asin','reviewerID','overall','unixReviewTime']]\n",
    "# rating = rating[['asin','user_id','rating','timestamp']]\n",
    "rating.columns = ['asin','user','rating','timestamp']"
   ]
  },
  {
   "cell_type": "code",
   "execution_count": 14,
   "metadata": {},
   "outputs": [
    {
     "data": {
      "text/plain": [
       "Index(['category', 'tech1', 'description', 'fit', 'title', 'also_buy', 'tech2',\n",
       "       'brand', 'feature', 'rank', 'also_view', 'main_cat', 'similar_item',\n",
       "       'date', 'price', 'asin', 'imageURL', 'imageURLHighRes', 'details'],\n",
       "      dtype='object')"
      ]
     },
     "execution_count": 14,
     "metadata": {},
     "output_type": "execute_result"
    }
   ],
   "source": [
    "df5.columns"
   ]
  },
  {
   "cell_type": "code",
   "execution_count": 15,
   "metadata": {},
   "outputs": [
    {
     "data": {
      "text/html": [
       "<div>\n",
       "<style scoped>\n",
       "    .dataframe tbody tr th:only-of-type {\n",
       "        vertical-align: middle;\n",
       "    }\n",
       "\n",
       "    .dataframe tbody tr th {\n",
       "        vertical-align: top;\n",
       "    }\n",
       "\n",
       "    .dataframe thead th {\n",
       "        text-align: right;\n",
       "    }\n",
       "</style>\n",
       "<table border=\"1\" class=\"dataframe\">\n",
       "  <thead>\n",
       "    <tr style=\"text-align: right;\">\n",
       "      <th></th>\n",
       "      <th>asin</th>\n",
       "      <th>category</th>\n",
       "      <th>title</th>\n",
       "      <th>description</th>\n",
       "      <th>price</th>\n",
       "      <th>brand</th>\n",
       "    </tr>\n",
       "  </thead>\n",
       "  <tbody>\n",
       "    <tr>\n",
       "      <th>0</th>\n",
       "      <td>0000092878</td>\n",
       "      <td>[]</td>\n",
       "      <td>Biology Gods Living Creation Third Edition 10 ...</td>\n",
       "      <td>[It is a biology book with God&amp;apos;s perspect...</td>\n",
       "      <td>$39.94</td>\n",
       "      <td>Keith Graham</td>\n",
       "    </tr>\n",
       "    <tr>\n",
       "      <th>1</th>\n",
       "      <td>000047715X</td>\n",
       "      <td>[Books, New, Used &amp; Rental Textbooks, Medicine...</td>\n",
       "      <td>Mksap 16 Audio Companion: Medical Knowledge Se...</td>\n",
       "      <td>[]</td>\n",
       "      <td></td>\n",
       "      <td>Acp</td>\n",
       "    </tr>\n",
       "  </tbody>\n",
       "</table>\n",
       "</div>"
      ],
      "text/plain": [
       "         asin                                           category  \\\n",
       "0  0000092878                                                 []   \n",
       "1  000047715X  [Books, New, Used & Rental Textbooks, Medicine...   \n",
       "\n",
       "                                               title  \\\n",
       "0  Biology Gods Living Creation Third Edition 10 ...   \n",
       "1  Mksap 16 Audio Companion: Medical Knowledge Se...   \n",
       "\n",
       "                                         description   price         brand  \n",
       "0  [It is a biology book with God&apos;s perspect...  $39.94  Keith Graham  \n",
       "1                                                 []                   Acp  "
      ]
     },
     "execution_count": 15,
     "metadata": {},
     "output_type": "execute_result"
    }
   ],
   "source": [
    "# meta_data = df5[['asin','category','title','brand','price']]\n",
    "meta_data = df5[['asin','category','title','description','price','brand']]\n",
    "# meta_data.columns = ['asin','category','title','brand','price']\n",
    "meta_data.head(2)"
   ]
  },
  {
   "cell_type": "code",
   "execution_count": 16,
   "metadata": {},
   "outputs": [
    {
     "data": {
      "text/plain": [
       "(2934949, 6)"
      ]
     },
     "execution_count": 16,
     "metadata": {},
     "output_type": "execute_result"
    }
   ],
   "source": [
    "meta_data.shape"
   ]
  },
  {
   "cell_type": "code",
   "execution_count": 17,
   "metadata": {},
   "outputs": [
    {
     "name": "stderr",
     "output_type": "stream",
     "text": [
      "/tmp/ipykernel_2758201/2482686894.py:1: SettingWithCopyWarning: \n",
      "A value is trying to be set on a copy of a slice from a DataFrame.\n",
      "Try using .loc[row_indexer,col_indexer] = value instead\n",
      "\n",
      "See the caveats in the documentation: https://pandas.pydata.org/pandas-docs/stable/user_guide/indexing.html#returning-a-view-versus-a-copy\n",
      "  meta_data['title'] = meta_data['title'].apply(lambda x: re.sub(r'<[^>]+>', ' ', x.replace('&','')))\n",
      "/tmp/ipykernel_2758201/2482686894.py:2: SettingWithCopyWarning: \n",
      "A value is trying to be set on a copy of a slice from a DataFrame.\n",
      "Try using .loc[row_indexer,col_indexer] = value instead\n",
      "\n",
      "See the caveats in the documentation: https://pandas.pydata.org/pandas-docs/stable/user_guide/indexing.html#returning-a-view-versus-a-copy\n",
      "  meta_data['title'] = meta_data['title'].apply(lambda x: re.sub(r'\\s+', ' ', x.strip()))\n"
     ]
    }
   ],
   "source": [
    "meta_data['title'] = meta_data['title'].apply(lambda x: re.sub(r'<[^>]+>', ' ', x.replace('&','')))\n",
    "meta_data['title'] = meta_data['title'].apply(lambda x: re.sub(r'\\s+', ' ', x.strip()))"
   ]
  },
  {
   "cell_type": "code",
   "execution_count": 18,
   "metadata": {},
   "outputs": [
    {
     "data": {
      "text/plain": [
       "(2815506, 6)"
      ]
     },
     "execution_count": 18,
     "metadata": {},
     "output_type": "execute_result"
    }
   ],
   "source": [
    "meta_data = meta_data.drop_duplicates(subset=['asin'],keep='last')\n",
    "# meta_data = meta_data.drop_duplicates(subset=['title'],keep='last')\n",
    "meta_data.shape"
   ]
  },
  {
   "cell_type": "code",
   "execution_count": 26,
   "metadata": {},
   "outputs": [
    {
     "data": {
      "text/plain": [
       "2815506"
      ]
     },
     "execution_count": 26,
     "metadata": {},
     "output_type": "execute_result"
    }
   ],
   "source": [
    "len(set(meta_data['title']))"
   ]
  },
  {
   "cell_type": "code",
   "execution_count": 19,
   "metadata": {},
   "outputs": [
    {
     "data": {
      "text/html": [
       "<div>\n",
       "<style scoped>\n",
       "    .dataframe tbody tr th:only-of-type {\n",
       "        vertical-align: middle;\n",
       "    }\n",
       "\n",
       "    .dataframe tbody tr th {\n",
       "        vertical-align: top;\n",
       "    }\n",
       "\n",
       "    .dataframe thead th {\n",
       "        text-align: right;\n",
       "    }\n",
       "</style>\n",
       "<table border=\"1\" class=\"dataframe\">\n",
       "  <thead>\n",
       "    <tr style=\"text-align: right;\">\n",
       "      <th></th>\n",
       "      <th>asin</th>\n",
       "      <th>category</th>\n",
       "      <th>title</th>\n",
       "      <th>description</th>\n",
       "      <th>price</th>\n",
       "      <th>brand</th>\n",
       "    </tr>\n",
       "  </thead>\n",
       "  <tbody>\n",
       "    <tr>\n",
       "      <th>0</th>\n",
       "      <td>0000092878</td>\n",
       "      <td>[]</td>\n",
       "      <td>Biology Gods Living Creation Third Edition 10 ...</td>\n",
       "      <td>[It is a biology book with God&amp;apos;s perspect...</td>\n",
       "      <td>$39.94</td>\n",
       "      <td>Keith Graham</td>\n",
       "    </tr>\n",
       "    <tr>\n",
       "      <th>1</th>\n",
       "      <td>000047715X</td>\n",
       "      <td>[Books, New, Used &amp; Rental Textbooks, Medicine...</td>\n",
       "      <td>Mksap 16 Audio Companion: Medical Knowledge Se...</td>\n",
       "      <td>[]</td>\n",
       "      <td></td>\n",
       "      <td>Acp</td>\n",
       "    </tr>\n",
       "  </tbody>\n",
       "</table>\n",
       "</div>"
      ],
      "text/plain": [
       "         asin                                           category  \\\n",
       "0  0000092878                                                 []   \n",
       "1  000047715X  [Books, New, Used & Rental Textbooks, Medicine...   \n",
       "\n",
       "                                               title  \\\n",
       "0  Biology Gods Living Creation Third Edition 10 ...   \n",
       "1  Mksap 16 Audio Companion: Medical Knowledge Se...   \n",
       "\n",
       "                                         description   price         brand  \n",
       "0  [It is a biology book with God&apos;s perspect...  $39.94  Keith Graham  \n",
       "1                                                 []                   Acp  "
      ]
     },
     "execution_count": 19,
     "metadata": {},
     "output_type": "execute_result"
    }
   ],
   "source": [
    "meta_data.head(2)"
   ]
  },
  {
   "cell_type": "code",
   "execution_count": 20,
   "metadata": {},
   "outputs": [],
   "source": [
    "data = rating.merge(meta_data,on='asin',how='right')"
   ]
  },
  {
   "cell_type": "code",
   "execution_count": 21,
   "metadata": {},
   "outputs": [
    {
     "data": {
      "text/html": [
       "<div>\n",
       "<style scoped>\n",
       "    .dataframe tbody tr th:only-of-type {\n",
       "        vertical-align: middle;\n",
       "    }\n",
       "\n",
       "    .dataframe tbody tr th {\n",
       "        vertical-align: top;\n",
       "    }\n",
       "\n",
       "    .dataframe thead th {\n",
       "        text-align: right;\n",
       "    }\n",
       "</style>\n",
       "<table border=\"1\" class=\"dataframe\">\n",
       "  <thead>\n",
       "    <tr style=\"text-align: right;\">\n",
       "      <th></th>\n",
       "      <th>asin</th>\n",
       "      <th>user</th>\n",
       "      <th>rating</th>\n",
       "      <th>timestamp</th>\n",
       "      <th>category</th>\n",
       "      <th>title</th>\n",
       "      <th>description</th>\n",
       "      <th>price</th>\n",
       "      <th>brand</th>\n",
       "    </tr>\n",
       "  </thead>\n",
       "  <tbody>\n",
       "    <tr>\n",
       "      <th>0</th>\n",
       "      <td>0000092878</td>\n",
       "      <td>A1WL6RUI44BF5R</td>\n",
       "      <td>5.0</td>\n",
       "      <td>1.443830e+09</td>\n",
       "      <td>[]</td>\n",
       "      <td>Biology Gods Living Creation Third Edition 10 ...</td>\n",
       "      <td>[It is a biology book with God&amp;apos;s perspect...</td>\n",
       "      <td>$39.94</td>\n",
       "      <td>Keith Graham</td>\n",
       "    </tr>\n",
       "    <tr>\n",
       "      <th>1</th>\n",
       "      <td>0000092878</td>\n",
       "      <td>A7O68FOES8807</td>\n",
       "      <td>5.0</td>\n",
       "      <td>1.438128e+09</td>\n",
       "      <td>[]</td>\n",
       "      <td>Biology Gods Living Creation Third Edition 10 ...</td>\n",
       "      <td>[It is a biology book with God&amp;apos;s perspect...</td>\n",
       "      <td>$39.94</td>\n",
       "      <td>Keith Graham</td>\n",
       "    </tr>\n",
       "  </tbody>\n",
       "</table>\n",
       "</div>"
      ],
      "text/plain": [
       "         asin            user  rating     timestamp category  \\\n",
       "0  0000092878  A1WL6RUI44BF5R     5.0  1.443830e+09       []   \n",
       "1  0000092878   A7O68FOES8807     5.0  1.438128e+09       []   \n",
       "\n",
       "                                               title  \\\n",
       "0  Biology Gods Living Creation Third Edition 10 ...   \n",
       "1  Biology Gods Living Creation Third Edition 10 ...   \n",
       "\n",
       "                                         description   price         brand  \n",
       "0  [It is a biology book with God&apos;s perspect...  $39.94  Keith Graham  \n",
       "1  [It is a biology book with God&apos;s perspect...  $39.94  Keith Graham  "
      ]
     },
     "execution_count": 21,
     "metadata": {},
     "output_type": "execute_result"
    }
   ],
   "source": [
    "data.head(2)"
   ]
  },
  {
   "cell_type": "code",
   "execution_count": 22,
   "metadata": {},
   "outputs": [
    {
     "data": {
      "text/plain": [
       "(47059306, 9)"
      ]
     },
     "execution_count": 22,
     "metadata": {},
     "output_type": "execute_result"
    }
   ],
   "source": [
    "data.shape"
   ]
  },
  {
   "cell_type": "code",
   "execution_count": 23,
   "metadata": {},
   "outputs": [],
   "source": [
    "data.dropna(subset=['user'], inplace=True)\n",
    "data.dropna(subset=['asin'], inplace=True)\n",
    "data.dropna(subset=['title'], inplace=True)\n",
    "data.dropna(subset=['timestamp'], inplace=True)"
   ]
  },
  {
   "cell_type": "code",
   "execution_count": 24,
   "metadata": {},
   "outputs": [
    {
     "data": {
      "text/plain": [
       "(47059165, 9)"
      ]
     },
     "execution_count": 24,
     "metadata": {},
     "output_type": "execute_result"
    }
   ],
   "source": [
    "data.shape"
   ]
  },
  {
   "cell_type": "code",
   "execution_count": 25,
   "metadata": {},
   "outputs": [
    {
     "data": {
      "text/html": [
       "<div>\n",
       "<style scoped>\n",
       "    .dataframe tbody tr th:only-of-type {\n",
       "        vertical-align: middle;\n",
       "    }\n",
       "\n",
       "    .dataframe tbody tr th {\n",
       "        vertical-align: top;\n",
       "    }\n",
       "\n",
       "    .dataframe thead th {\n",
       "        text-align: right;\n",
       "    }\n",
       "</style>\n",
       "<table border=\"1\" class=\"dataframe\">\n",
       "  <thead>\n",
       "    <tr style=\"text-align: right;\">\n",
       "      <th></th>\n",
       "      <th>asin</th>\n",
       "      <th>user</th>\n",
       "      <th>rating</th>\n",
       "      <th>timestamp</th>\n",
       "      <th>category</th>\n",
       "      <th>title</th>\n",
       "      <th>description</th>\n",
       "      <th>price</th>\n",
       "      <th>brand</th>\n",
       "    </tr>\n",
       "  </thead>\n",
       "  <tbody>\n",
       "    <tr>\n",
       "      <th>0</th>\n",
       "      <td>0000092878</td>\n",
       "      <td>A1WL6RUI44BF5R</td>\n",
       "      <td>5.0</td>\n",
       "      <td>1.443830e+09</td>\n",
       "      <td>[]</td>\n",
       "      <td>Biology Gods Living Creation Third Edition 10 ...</td>\n",
       "      <td>[It is a biology book with God&amp;apos;s perspect...</td>\n",
       "      <td>$39.94</td>\n",
       "      <td>Keith Graham</td>\n",
       "    </tr>\n",
       "    <tr>\n",
       "      <th>1</th>\n",
       "      <td>0000092878</td>\n",
       "      <td>A7O68FOES8807</td>\n",
       "      <td>5.0</td>\n",
       "      <td>1.438128e+09</td>\n",
       "      <td>[]</td>\n",
       "      <td>Biology Gods Living Creation Third Edition 10 ...</td>\n",
       "      <td>[It is a biology book with God&amp;apos;s perspect...</td>\n",
       "      <td>$39.94</td>\n",
       "      <td>Keith Graham</td>\n",
       "    </tr>\n",
       "    <tr>\n",
       "      <th>2</th>\n",
       "      <td>000047715X</td>\n",
       "      <td>ASS457AQPDIFZ</td>\n",
       "      <td>5.0</td>\n",
       "      <td>1.409443e+09</td>\n",
       "      <td>[Books, New, Used &amp; Rental Textbooks, Medicine...</td>\n",
       "      <td>Mksap 16 Audio Companion: Medical Knowledge Se...</td>\n",
       "      <td>[]</td>\n",
       "      <td></td>\n",
       "      <td>Acp</td>\n",
       "    </tr>\n",
       "    <tr>\n",
       "      <th>3</th>\n",
       "      <td>000047715X</td>\n",
       "      <td>A3NMH1KTLG7CWX</td>\n",
       "      <td>5.0</td>\n",
       "      <td>1.398816e+09</td>\n",
       "      <td>[Books, New, Used &amp; Rental Textbooks, Medicine...</td>\n",
       "      <td>Mksap 16 Audio Companion: Medical Knowledge Se...</td>\n",
       "      <td>[]</td>\n",
       "      <td></td>\n",
       "      <td>Acp</td>\n",
       "    </tr>\n",
       "    <tr>\n",
       "      <th>4</th>\n",
       "      <td>000047715X</td>\n",
       "      <td>A2LI5026JCXQBA</td>\n",
       "      <td>4.0</td>\n",
       "      <td>1.398730e+09</td>\n",
       "      <td>[Books, New, Used &amp; Rental Textbooks, Medicine...</td>\n",
       "      <td>Mksap 16 Audio Companion: Medical Knowledge Se...</td>\n",
       "      <td>[]</td>\n",
       "      <td></td>\n",
       "      <td>Acp</td>\n",
       "    </tr>\n",
       "  </tbody>\n",
       "</table>\n",
       "</div>"
      ],
      "text/plain": [
       "         asin            user  rating     timestamp  \\\n",
       "0  0000092878  A1WL6RUI44BF5R     5.0  1.443830e+09   \n",
       "1  0000092878   A7O68FOES8807     5.0  1.438128e+09   \n",
       "2  000047715X   ASS457AQPDIFZ     5.0  1.409443e+09   \n",
       "3  000047715X  A3NMH1KTLG7CWX     5.0  1.398816e+09   \n",
       "4  000047715X  A2LI5026JCXQBA     4.0  1.398730e+09   \n",
       "\n",
       "                                            category  \\\n",
       "0                                                 []   \n",
       "1                                                 []   \n",
       "2  [Books, New, Used & Rental Textbooks, Medicine...   \n",
       "3  [Books, New, Used & Rental Textbooks, Medicine...   \n",
       "4  [Books, New, Used & Rental Textbooks, Medicine...   \n",
       "\n",
       "                                               title  \\\n",
       "0  Biology Gods Living Creation Third Edition 10 ...   \n",
       "1  Biology Gods Living Creation Third Edition 10 ...   \n",
       "2  Mksap 16 Audio Companion: Medical Knowledge Se...   \n",
       "3  Mksap 16 Audio Companion: Medical Knowledge Se...   \n",
       "4  Mksap 16 Audio Companion: Medical Knowledge Se...   \n",
       "\n",
       "                                         description   price         brand  \n",
       "0  [It is a biology book with God&apos;s perspect...  $39.94  Keith Graham  \n",
       "1  [It is a biology book with God&apos;s perspect...  $39.94  Keith Graham  \n",
       "2                                                 []                   Acp  \n",
       "3                                                 []                   Acp  \n",
       "4                                                 []                   Acp  "
      ]
     },
     "execution_count": 25,
     "metadata": {},
     "output_type": "execute_result"
    }
   ],
   "source": [
    "data.head()"
   ]
  },
  {
   "cell_type": "code",
   "execution_count": 27,
   "metadata": {},
   "outputs": [
    {
     "data": {
      "text/plain": [
       "(list, list, str, str, str)"
      ]
     },
     "execution_count": 27,
     "metadata": {},
     "output_type": "execute_result"
    }
   ],
   "source": [
    "#查看title列数据类型\n",
    "type(data['category'][0]),type(data['description'][0]),type(data['title'][0]),type(data['price'][0]),type(data['brand'][0])"
   ]
  },
  {
   "cell_type": "code",
   "execution_count": 28,
   "metadata": {},
   "outputs": [],
   "source": [
    "data['description'] = data['description'].apply(lambda x: ', '.join(x) if x else '')\n",
    "data['category'] = data['category'].apply(lambda x: ', '.join(x[1:]) if x else '')"
   ]
  },
  {
   "cell_type": "code",
   "execution_count": 29,
   "metadata": {},
   "outputs": [
    {
     "data": {
      "text/html": [
       "<div>\n",
       "<style scoped>\n",
       "    .dataframe tbody tr th:only-of-type {\n",
       "        vertical-align: middle;\n",
       "    }\n",
       "\n",
       "    .dataframe tbody tr th {\n",
       "        vertical-align: top;\n",
       "    }\n",
       "\n",
       "    .dataframe thead th {\n",
       "        text-align: right;\n",
       "    }\n",
       "</style>\n",
       "<table border=\"1\" class=\"dataframe\">\n",
       "  <thead>\n",
       "    <tr style=\"text-align: right;\">\n",
       "      <th></th>\n",
       "      <th>asin</th>\n",
       "      <th>user</th>\n",
       "      <th>rating</th>\n",
       "      <th>timestamp</th>\n",
       "      <th>category</th>\n",
       "      <th>title</th>\n",
       "      <th>description</th>\n",
       "      <th>price</th>\n",
       "      <th>brand</th>\n",
       "    </tr>\n",
       "  </thead>\n",
       "  <tbody>\n",
       "    <tr>\n",
       "      <th>0</th>\n",
       "      <td>0000092878</td>\n",
       "      <td>A1WL6RUI44BF5R</td>\n",
       "      <td>5.0</td>\n",
       "      <td>1.443830e+09</td>\n",
       "      <td></td>\n",
       "      <td>Biology Gods Living Creation Third Edition 10 ...</td>\n",
       "      <td>It is a biology book with God&amp;apos;s perspective.</td>\n",
       "      <td>$39.94</td>\n",
       "      <td>Keith Graham</td>\n",
       "    </tr>\n",
       "    <tr>\n",
       "      <th>1</th>\n",
       "      <td>0000092878</td>\n",
       "      <td>A7O68FOES8807</td>\n",
       "      <td>5.0</td>\n",
       "      <td>1.438128e+09</td>\n",
       "      <td></td>\n",
       "      <td>Biology Gods Living Creation Third Edition 10 ...</td>\n",
       "      <td>It is a biology book with God&amp;apos;s perspective.</td>\n",
       "      <td>$39.94</td>\n",
       "      <td>Keith Graham</td>\n",
       "    </tr>\n",
       "    <tr>\n",
       "      <th>2</th>\n",
       "      <td>000047715X</td>\n",
       "      <td>ASS457AQPDIFZ</td>\n",
       "      <td>5.0</td>\n",
       "      <td>1.409443e+09</td>\n",
       "      <td>Books, New, Used &amp; Rental Textbooks, Medicine ...</td>\n",
       "      <td>Mksap 16 Audio Companion: Medical Knowledge Se...</td>\n",
       "      <td></td>\n",
       "      <td></td>\n",
       "      <td>Acp</td>\n",
       "    </tr>\n",
       "    <tr>\n",
       "      <th>3</th>\n",
       "      <td>000047715X</td>\n",
       "      <td>A3NMH1KTLG7CWX</td>\n",
       "      <td>5.0</td>\n",
       "      <td>1.398816e+09</td>\n",
       "      <td>Books, New, Used &amp; Rental Textbooks, Medicine ...</td>\n",
       "      <td>Mksap 16 Audio Companion: Medical Knowledge Se...</td>\n",
       "      <td></td>\n",
       "      <td></td>\n",
       "      <td>Acp</td>\n",
       "    </tr>\n",
       "    <tr>\n",
       "      <th>4</th>\n",
       "      <td>000047715X</td>\n",
       "      <td>A2LI5026JCXQBA</td>\n",
       "      <td>4.0</td>\n",
       "      <td>1.398730e+09</td>\n",
       "      <td>Books, New, Used &amp; Rental Textbooks, Medicine ...</td>\n",
       "      <td>Mksap 16 Audio Companion: Medical Knowledge Se...</td>\n",
       "      <td></td>\n",
       "      <td></td>\n",
       "      <td>Acp</td>\n",
       "    </tr>\n",
       "  </tbody>\n",
       "</table>\n",
       "</div>"
      ],
      "text/plain": [
       "         asin            user  rating     timestamp  \\\n",
       "0  0000092878  A1WL6RUI44BF5R     5.0  1.443830e+09   \n",
       "1  0000092878   A7O68FOES8807     5.0  1.438128e+09   \n",
       "2  000047715X   ASS457AQPDIFZ     5.0  1.409443e+09   \n",
       "3  000047715X  A3NMH1KTLG7CWX     5.0  1.398816e+09   \n",
       "4  000047715X  A2LI5026JCXQBA     4.0  1.398730e+09   \n",
       "\n",
       "                                            category  \\\n",
       "0                                                      \n",
       "1                                                      \n",
       "2  Books, New, Used & Rental Textbooks, Medicine ...   \n",
       "3  Books, New, Used & Rental Textbooks, Medicine ...   \n",
       "4  Books, New, Used & Rental Textbooks, Medicine ...   \n",
       "\n",
       "                                               title  \\\n",
       "0  Biology Gods Living Creation Third Edition 10 ...   \n",
       "1  Biology Gods Living Creation Third Edition 10 ...   \n",
       "2  Mksap 16 Audio Companion: Medical Knowledge Se...   \n",
       "3  Mksap 16 Audio Companion: Medical Knowledge Se...   \n",
       "4  Mksap 16 Audio Companion: Medical Knowledge Se...   \n",
       "\n",
       "                                         description   price         brand  \n",
       "0  It is a biology book with God&apos;s perspective.  $39.94  Keith Graham  \n",
       "1  It is a biology book with God&apos;s perspective.  $39.94  Keith Graham  \n",
       "2                                                                      Acp  \n",
       "3                                                                      Acp  \n",
       "4                                                                      Acp  "
      ]
     },
     "execution_count": 29,
     "metadata": {},
     "output_type": "execute_result"
    }
   ],
   "source": [
    "data.head(5)"
   ]
  },
  {
   "cell_type": "code",
   "execution_count": 30,
   "metadata": {},
   "outputs": [
    {
     "data": {
      "text/html": [
       "<div>\n",
       "<style scoped>\n",
       "    .dataframe tbody tr th:only-of-type {\n",
       "        vertical-align: middle;\n",
       "    }\n",
       "\n",
       "    .dataframe tbody tr th {\n",
       "        vertical-align: top;\n",
       "    }\n",
       "\n",
       "    .dataframe thead th {\n",
       "        text-align: right;\n",
       "    }\n",
       "</style>\n",
       "<table border=\"1\" class=\"dataframe\">\n",
       "  <thead>\n",
       "    <tr style=\"text-align: right;\">\n",
       "      <th></th>\n",
       "      <th>asin</th>\n",
       "      <th>user</th>\n",
       "      <th>rating</th>\n",
       "      <th>timestamp</th>\n",
       "      <th>category</th>\n",
       "      <th>title</th>\n",
       "      <th>description</th>\n",
       "      <th>price</th>\n",
       "      <th>brand</th>\n",
       "    </tr>\n",
       "  </thead>\n",
       "  <tbody>\n",
       "    <tr>\n",
       "      <th>0</th>\n",
       "      <td>0000092878</td>\n",
       "      <td>A1WL6RUI44BF5R</td>\n",
       "      <td>5.0</td>\n",
       "      <td>1.443830e+09</td>\n",
       "      <td></td>\n",
       "      <td>Biology Gods Living Creation Third Edition 10 ...</td>\n",
       "      <td>It is a biology book with God&amp;apos;s perspective.</td>\n",
       "      <td>$39.94</td>\n",
       "      <td>Keith Graham</td>\n",
       "    </tr>\n",
       "    <tr>\n",
       "      <th>1</th>\n",
       "      <td>0000092878</td>\n",
       "      <td>A7O68FOES8807</td>\n",
       "      <td>5.0</td>\n",
       "      <td>1.438128e+09</td>\n",
       "      <td></td>\n",
       "      <td>Biology Gods Living Creation Third Edition 10 ...</td>\n",
       "      <td>It is a biology book with God&amp;apos;s perspective.</td>\n",
       "      <td>$39.94</td>\n",
       "      <td>Keith Graham</td>\n",
       "    </tr>\n",
       "  </tbody>\n",
       "</table>\n",
       "</div>"
      ],
      "text/plain": [
       "         asin            user  rating     timestamp category  \\\n",
       "0  0000092878  A1WL6RUI44BF5R     5.0  1.443830e+09            \n",
       "1  0000092878   A7O68FOES8807     5.0  1.438128e+09            \n",
       "\n",
       "                                               title  \\\n",
       "0  Biology Gods Living Creation Third Edition 10 ...   \n",
       "1  Biology Gods Living Creation Third Edition 10 ...   \n",
       "\n",
       "                                         description   price         brand  \n",
       "0  It is a biology book with God&apos;s perspective.  $39.94  Keith Graham  \n",
       "1  It is a biology book with God&apos;s perspective.  $39.94  Keith Graham  "
      ]
     },
     "execution_count": 30,
     "metadata": {},
     "output_type": "execute_result"
    }
   ],
   "source": [
    "rating_ = data.copy()\n",
    "rating_.head(2)"
   ]
  },
  {
   "cell_type": "code",
   "execution_count": 31,
   "metadata": {},
   "outputs": [
    {
     "data": {
      "text/html": [
       "<div>\n",
       "<style scoped>\n",
       "    .dataframe tbody tr th:only-of-type {\n",
       "        vertical-align: middle;\n",
       "    }\n",
       "\n",
       "    .dataframe tbody tr th {\n",
       "        vertical-align: top;\n",
       "    }\n",
       "\n",
       "    .dataframe thead th {\n",
       "        text-align: right;\n",
       "    }\n",
       "</style>\n",
       "<table border=\"1\" class=\"dataframe\">\n",
       "  <thead>\n",
       "    <tr style=\"text-align: right;\">\n",
       "      <th></th>\n",
       "      <th>iid</th>\n",
       "      <th>uid</th>\n",
       "      <th>rating</th>\n",
       "      <th>timestamp</th>\n",
       "      <th>category</th>\n",
       "      <th>title</th>\n",
       "      <th>description</th>\n",
       "      <th>price</th>\n",
       "      <th>brand</th>\n",
       "    </tr>\n",
       "  </thead>\n",
       "  <tbody>\n",
       "    <tr>\n",
       "      <th>0</th>\n",
       "      <td>0000092878</td>\n",
       "      <td>A1WL6RUI44BF5R</td>\n",
       "      <td>5.0</td>\n",
       "      <td>1.443830e+09</td>\n",
       "      <td></td>\n",
       "      <td>Biology Gods Living Creation Third Edition 10 ...</td>\n",
       "      <td>It is a biology book with God&amp;apos;s perspective.</td>\n",
       "      <td>$39.94</td>\n",
       "      <td>Keith Graham</td>\n",
       "    </tr>\n",
       "    <tr>\n",
       "      <th>1</th>\n",
       "      <td>0000092878</td>\n",
       "      <td>A7O68FOES8807</td>\n",
       "      <td>5.0</td>\n",
       "      <td>1.438128e+09</td>\n",
       "      <td></td>\n",
       "      <td>Biology Gods Living Creation Third Edition 10 ...</td>\n",
       "      <td>It is a biology book with God&amp;apos;s perspective.</td>\n",
       "      <td>$39.94</td>\n",
       "      <td>Keith Graham</td>\n",
       "    </tr>\n",
       "  </tbody>\n",
       "</table>\n",
       "</div>"
      ],
      "text/plain": [
       "          iid             uid  rating     timestamp category  \\\n",
       "0  0000092878  A1WL6RUI44BF5R     5.0  1.443830e+09            \n",
       "1  0000092878   A7O68FOES8807     5.0  1.438128e+09            \n",
       "\n",
       "                                               title  \\\n",
       "0  Biology Gods Living Creation Third Edition 10 ...   \n",
       "1  Biology Gods Living Creation Third Edition 10 ...   \n",
       "\n",
       "                                         description   price         brand  \n",
       "0  It is a biology book with God&apos;s perspective.  $39.94  Keith Graham  \n",
       "1  It is a biology book with God&apos;s perspective.  $39.94  Keith Graham  "
      ]
     },
     "execution_count": 31,
     "metadata": {},
     "output_type": "execute_result"
    }
   ],
   "source": [
    "rating_.columns = ['iid','uid','rating','timestamp','category','title','description','price','brand']\n",
    "rating_.head(2)"
   ]
  },
  {
   "cell_type": "code",
   "execution_count": 32,
   "metadata": {},
   "outputs": [
    {
     "data": {
      "text/plain": [
       "(Timestamp('1996-05-20 00:00:00'), Timestamp('2018-10-02 00:00:00'))"
      ]
     },
     "execution_count": 32,
     "metadata": {},
     "output_type": "execute_result"
    }
   ],
   "source": [
    "date_min = pd.to_datetime(rating_.timestamp,unit='s').min()\n",
    "date_max = pd.to_datetime(rating_.timestamp,unit='s').max()\n",
    "date_min,date_max"
   ]
  },
  {
   "cell_type": "code",
   "execution_count": 34,
   "metadata": {},
   "outputs": [
    {
     "data": {
      "text/plain": [
       "(47059165, 9)"
      ]
     },
     "execution_count": 34,
     "metadata": {},
     "output_type": "execute_result"
    }
   ],
   "source": [
    "rating_.shape"
   ]
  },
  {
   "cell_type": "code",
   "execution_count": 33,
   "metadata": {},
   "outputs": [
    {
     "data": {
      "text/plain": [
       "Timedelta('215 days 00:00:00')"
      ]
     },
     "execution_count": 33,
     "metadata": {},
     "output_type": "execute_result"
    }
   ],
   "source": [
    "date_gap = (date_max-date_min)//(19*2)\n",
    "date_gap"
   ]
  },
  {
   "cell_type": "code",
   "execution_count": 35,
   "metadata": {},
   "outputs": [],
   "source": [
    "rating_['time'] = pd.to_datetime(rating_.timestamp, unit='s').map(lambda x: x.year )"
   ]
  },
  {
   "cell_type": "code",
   "execution_count": 44,
   "metadata": {},
   "outputs": [
    {
     "data": {
      "text/html": [
       "<div>\n",
       "<style scoped>\n",
       "    .dataframe tbody tr th:only-of-type {\n",
       "        vertical-align: middle;\n",
       "    }\n",
       "\n",
       "    .dataframe tbody tr th {\n",
       "        vertical-align: top;\n",
       "    }\n",
       "\n",
       "    .dataframe thead th {\n",
       "        text-align: right;\n",
       "    }\n",
       "</style>\n",
       "<table border=\"1\" class=\"dataframe\">\n",
       "  <thead>\n",
       "    <tr style=\"text-align: right;\">\n",
       "      <th></th>\n",
       "      <th>iid</th>\n",
       "      <th>uid</th>\n",
       "      <th>rating</th>\n",
       "      <th>timestamp</th>\n",
       "      <th>category</th>\n",
       "      <th>title</th>\n",
       "      <th>description</th>\n",
       "      <th>price</th>\n",
       "      <th>brand</th>\n",
       "      <th>time</th>\n",
       "    </tr>\n",
       "  </thead>\n",
       "  <tbody>\n",
       "    <tr>\n",
       "      <th>0</th>\n",
       "      <td>0000092878</td>\n",
       "      <td>A1WL6RUI44BF5R</td>\n",
       "      <td>5.0</td>\n",
       "      <td>1.443830e+09</td>\n",
       "      <td></td>\n",
       "      <td>Biology Gods Living Creation Third Edition 10 ...</td>\n",
       "      <td>It is a biology book with God&amp;apos;s perspective.</td>\n",
       "      <td>$39.94</td>\n",
       "      <td>Keith Graham</td>\n",
       "      <td>2015</td>\n",
       "    </tr>\n",
       "    <tr>\n",
       "      <th>1</th>\n",
       "      <td>0000092878</td>\n",
       "      <td>A7O68FOES8807</td>\n",
       "      <td>5.0</td>\n",
       "      <td>1.438128e+09</td>\n",
       "      <td></td>\n",
       "      <td>Biology Gods Living Creation Third Edition 10 ...</td>\n",
       "      <td>It is a biology book with God&amp;apos;s perspective.</td>\n",
       "      <td>$39.94</td>\n",
       "      <td>Keith Graham</td>\n",
       "      <td>2015</td>\n",
       "    </tr>\n",
       "  </tbody>\n",
       "</table>\n",
       "</div>"
      ],
      "text/plain": [
       "          iid             uid  rating     timestamp category  \\\n",
       "0  0000092878  A1WL6RUI44BF5R     5.0  1.443830e+09            \n",
       "1  0000092878   A7O68FOES8807     5.0  1.438128e+09            \n",
       "\n",
       "                                               title  \\\n",
       "0  Biology Gods Living Creation Third Edition 10 ...   \n",
       "1  Biology Gods Living Creation Third Edition 10 ...   \n",
       "\n",
       "                                         description   price         brand  \\\n",
       "0  It is a biology book with God&apos;s perspective.  $39.94  Keith Graham   \n",
       "1  It is a biology book with God&apos;s perspective.  $39.94  Keith Graham   \n",
       "\n",
       "   time  \n",
       "0  2015  \n",
       "1  2015  "
      ]
     },
     "execution_count": 44,
     "metadata": {},
     "output_type": "execute_result"
    }
   ],
   "source": [
    "rating_.head(2)"
   ]
  },
  {
   "cell_type": "code",
   "execution_count": 45,
   "metadata": {},
   "outputs": [
    {
     "data": {
      "text/plain": [
       "array([1996, 1997, 1998, 1999, 2000, 2001, 2002, 2003, 2004, 2005, 2006,\n",
       "       2007, 2008, 2009, 2010, 2011, 2012, 2013, 2014, 2015, 2016, 2017,\n",
       "       2018])"
      ]
     },
     "execution_count": 45,
     "metadata": {},
     "output_type": "execute_result"
    }
   ],
   "source": [
    "import numpy as np\n",
    "np.sort(rating_.time.unique())"
   ]
  },
  {
   "cell_type": "code",
   "execution_count": 36,
   "metadata": {},
   "outputs": [
    {
     "data": {
      "text/plain": [
       "((14686755,), (2815365,))"
      ]
     },
     "execution_count": 36,
     "metadata": {},
     "output_type": "execute_result"
    }
   ],
   "source": [
    "rating_.uid.unique().shape, rating_.iid.unique().shape"
   ]
  },
  {
   "cell_type": "code",
   "execution_count": 37,
   "metadata": {},
   "outputs": [],
   "source": [
    "rating_ = rating_[['iid','uid','rating','timestamp','title','description','category','price','brand','time']]"
   ]
  },
  {
   "cell_type": "code",
   "execution_count": 33,
   "metadata": {},
   "outputs": [],
   "source": [
    "# rating_['length'] = rating_['description'].apply(lambda x: len(x.split()))"
   ]
  },
  {
   "cell_type": "code",
   "execution_count": 38,
   "metadata": {},
   "outputs": [
    {
     "data": {
      "text/html": [
       "<div>\n",
       "<style scoped>\n",
       "    .dataframe tbody tr th:only-of-type {\n",
       "        vertical-align: middle;\n",
       "    }\n",
       "\n",
       "    .dataframe tbody tr th {\n",
       "        vertical-align: top;\n",
       "    }\n",
       "\n",
       "    .dataframe thead th {\n",
       "        text-align: right;\n",
       "    }\n",
       "</style>\n",
       "<table border=\"1\" class=\"dataframe\">\n",
       "  <thead>\n",
       "    <tr style=\"text-align: right;\">\n",
       "      <th></th>\n",
       "      <th>iid</th>\n",
       "      <th>uid</th>\n",
       "      <th>rating</th>\n",
       "      <th>timestamp</th>\n",
       "      <th>title</th>\n",
       "      <th>description</th>\n",
       "      <th>category</th>\n",
       "      <th>price</th>\n",
       "      <th>brand</th>\n",
       "      <th>time</th>\n",
       "    </tr>\n",
       "  </thead>\n",
       "  <tbody>\n",
       "    <tr>\n",
       "      <th>0</th>\n",
       "      <td>0000092878</td>\n",
       "      <td>A1WL6RUI44BF5R</td>\n",
       "      <td>5.0</td>\n",
       "      <td>1.443830e+09</td>\n",
       "      <td>Biology Gods Living Creation Third Edition 10 ...</td>\n",
       "      <td>It is a biology book with God&amp;apos;s perspective.</td>\n",
       "      <td></td>\n",
       "      <td>$39.94</td>\n",
       "      <td>Keith Graham</td>\n",
       "      <td>2015</td>\n",
       "    </tr>\n",
       "    <tr>\n",
       "      <th>1</th>\n",
       "      <td>0000092878</td>\n",
       "      <td>A7O68FOES8807</td>\n",
       "      <td>5.0</td>\n",
       "      <td>1.438128e+09</td>\n",
       "      <td>Biology Gods Living Creation Third Edition 10 ...</td>\n",
       "      <td>It is a biology book with God&amp;apos;s perspective.</td>\n",
       "      <td></td>\n",
       "      <td>$39.94</td>\n",
       "      <td>Keith Graham</td>\n",
       "      <td>2015</td>\n",
       "    </tr>\n",
       "    <tr>\n",
       "      <th>2</th>\n",
       "      <td>000047715X</td>\n",
       "      <td>ASS457AQPDIFZ</td>\n",
       "      <td>5.0</td>\n",
       "      <td>1.409443e+09</td>\n",
       "      <td>Mksap 16 Audio Companion: Medical Knowledge Se...</td>\n",
       "      <td></td>\n",
       "      <td>Books, New, Used &amp; Rental Textbooks, Medicine ...</td>\n",
       "      <td></td>\n",
       "      <td>Acp</td>\n",
       "      <td>2014</td>\n",
       "    </tr>\n",
       "    <tr>\n",
       "      <th>3</th>\n",
       "      <td>000047715X</td>\n",
       "      <td>A3NMH1KTLG7CWX</td>\n",
       "      <td>5.0</td>\n",
       "      <td>1.398816e+09</td>\n",
       "      <td>Mksap 16 Audio Companion: Medical Knowledge Se...</td>\n",
       "      <td></td>\n",
       "      <td>Books, New, Used &amp; Rental Textbooks, Medicine ...</td>\n",
       "      <td></td>\n",
       "      <td>Acp</td>\n",
       "      <td>2014</td>\n",
       "    </tr>\n",
       "    <tr>\n",
       "      <th>4</th>\n",
       "      <td>000047715X</td>\n",
       "      <td>A2LI5026JCXQBA</td>\n",
       "      <td>4.0</td>\n",
       "      <td>1.398730e+09</td>\n",
       "      <td>Mksap 16 Audio Companion: Medical Knowledge Se...</td>\n",
       "      <td></td>\n",
       "      <td>Books, New, Used &amp; Rental Textbooks, Medicine ...</td>\n",
       "      <td></td>\n",
       "      <td>Acp</td>\n",
       "      <td>2014</td>\n",
       "    </tr>\n",
       "  </tbody>\n",
       "</table>\n",
       "</div>"
      ],
      "text/plain": [
       "          iid             uid  rating     timestamp  \\\n",
       "0  0000092878  A1WL6RUI44BF5R     5.0  1.443830e+09   \n",
       "1  0000092878   A7O68FOES8807     5.0  1.438128e+09   \n",
       "2  000047715X   ASS457AQPDIFZ     5.0  1.409443e+09   \n",
       "3  000047715X  A3NMH1KTLG7CWX     5.0  1.398816e+09   \n",
       "4  000047715X  A2LI5026JCXQBA     4.0  1.398730e+09   \n",
       "\n",
       "                                               title  \\\n",
       "0  Biology Gods Living Creation Third Edition 10 ...   \n",
       "1  Biology Gods Living Creation Third Edition 10 ...   \n",
       "2  Mksap 16 Audio Companion: Medical Knowledge Se...   \n",
       "3  Mksap 16 Audio Companion: Medical Knowledge Se...   \n",
       "4  Mksap 16 Audio Companion: Medical Knowledge Se...   \n",
       "\n",
       "                                         description  \\\n",
       "0  It is a biology book with God&apos;s perspective.   \n",
       "1  It is a biology book with God&apos;s perspective.   \n",
       "2                                                      \n",
       "3                                                      \n",
       "4                                                      \n",
       "\n",
       "                                            category   price         brand  \\\n",
       "0                                                     $39.94  Keith Graham   \n",
       "1                                                     $39.94  Keith Graham   \n",
       "2  Books, New, Used & Rental Textbooks, Medicine ...                   Acp   \n",
       "3  Books, New, Used & Rental Textbooks, Medicine ...                   Acp   \n",
       "4  Books, New, Used & Rental Textbooks, Medicine ...                   Acp   \n",
       "\n",
       "   time  \n",
       "0  2015  \n",
       "1  2015  \n",
       "2  2014  \n",
       "3  2014  \n",
       "4  2014  "
      ]
     },
     "execution_count": 38,
     "metadata": {},
     "output_type": "execute_result"
    }
   ],
   "source": [
    "rating_.head()"
   ]
  },
  {
   "cell_type": "code",
   "execution_count": 35,
   "metadata": {},
   "outputs": [],
   "source": [
    "# rating__ = rating_[rating_['length'] > 15]"
   ]
  },
  {
   "cell_type": "code",
   "execution_count": 36,
   "metadata": {},
   "outputs": [],
   "source": [
    "# rating__ = rating__[rating__['length'] < 500]"
   ]
  },
  {
   "cell_type": "code",
   "execution_count": 50,
   "metadata": {},
   "outputs": [
    {
     "ename": "NameError",
     "evalue": "name 'rating__' is not defined",
     "output_type": "error",
     "traceback": [
      "\u001b[0;31m---------------------------------------------------------------------------\u001b[0m",
      "\u001b[0;31mNameError\u001b[0m                                 Traceback (most recent call last)",
      "Cell \u001b[0;32mIn[50], line 1\u001b[0m\n\u001b[0;32m----> 1\u001b[0m \u001b[43mrating__\u001b[49m\u001b[38;5;241m.\u001b[39mlength\u001b[38;5;241m.\u001b[39mdescribe()\n",
      "\u001b[0;31mNameError\u001b[0m: name 'rating__' is not defined"
     ]
    }
   ],
   "source": [
    "# rating__.length.describe()"
   ]
  },
  {
   "cell_type": "code",
   "execution_count": 39,
   "metadata": {},
   "outputs": [],
   "source": [
    "rating__ = rating_.copy()"
   ]
  },
  {
   "cell_type": "code",
   "execution_count": 40,
   "metadata": {},
   "outputs": [],
   "source": [
    "s_rating = rating__[rating__.time.isin([2017])].copy()\n",
    "s_rating['time'] = pd.to_datetime(s_rating.timestamp, unit='s').map(lambda x: x.month)\n",
    "s_rating = s_rating[s_rating.time.isin(range(1,13))]"
   ]
  },
  {
   "cell_type": "code",
   "execution_count": 41,
   "metadata": {},
   "outputs": [
    {
     "data": {
      "text/plain": [
       "(6794797, 10)"
      ]
     },
     "execution_count": 41,
     "metadata": {},
     "output_type": "execute_result"
    }
   ],
   "source": [
    "s_rating.shape"
   ]
  },
  {
   "cell_type": "code",
   "execution_count": 32,
   "metadata": {},
   "outputs": [
    {
     "data": {
      "text/plain": [
       "(7281147, 9)"
      ]
     },
     "execution_count": 32,
     "metadata": {},
     "output_type": "execute_result"
    }
   ],
   "source": [
    "s_rating.shape"
   ]
  },
  {
   "cell_type": "code",
   "execution_count": 62,
   "metadata": {},
   "outputs": [
    {
     "data": {
      "text/html": [
       "<div>\n",
       "<style scoped>\n",
       "    .dataframe tbody tr th:only-of-type {\n",
       "        vertical-align: middle;\n",
       "    }\n",
       "\n",
       "    .dataframe tbody tr th {\n",
       "        vertical-align: top;\n",
       "    }\n",
       "\n",
       "    .dataframe thead th {\n",
       "        text-align: right;\n",
       "    }\n",
       "</style>\n",
       "<table border=\"1\" class=\"dataframe\">\n",
       "  <thead>\n",
       "    <tr style=\"text-align: right;\">\n",
       "      <th></th>\n",
       "      <th>rating</th>\n",
       "    </tr>\n",
       "  </thead>\n",
       "  <tbody>\n",
       "    <tr>\n",
       "      <th>count</th>\n",
       "      <td>3.189901e+06</td>\n",
       "    </tr>\n",
       "    <tr>\n",
       "      <th>mean</th>\n",
       "      <td>2.134410e+00</td>\n",
       "    </tr>\n",
       "    <tr>\n",
       "      <th>std</th>\n",
       "      <td>5.878166e+00</td>\n",
       "    </tr>\n",
       "    <tr>\n",
       "      <th>min</th>\n",
       "      <td>1.000000e+00</td>\n",
       "    </tr>\n",
       "    <tr>\n",
       "      <th>25%</th>\n",
       "      <td>1.000000e+00</td>\n",
       "    </tr>\n",
       "    <tr>\n",
       "      <th>50%</th>\n",
       "      <td>1.000000e+00</td>\n",
       "    </tr>\n",
       "    <tr>\n",
       "      <th>75%</th>\n",
       "      <td>2.000000e+00</td>\n",
       "    </tr>\n",
       "    <tr>\n",
       "      <th>max</th>\n",
       "      <td>1.188000e+03</td>\n",
       "    </tr>\n",
       "  </tbody>\n",
       "</table>\n",
       "</div>"
      ],
      "text/plain": [
       "             rating\n",
       "count  3.189901e+06\n",
       "mean   2.134410e+00\n",
       "std    5.878166e+00\n",
       "min    1.000000e+00\n",
       "25%    1.000000e+00\n",
       "50%    1.000000e+00\n",
       "75%    2.000000e+00\n",
       "max    1.188000e+03"
      ]
     },
     "execution_count": 62,
     "metadata": {},
     "output_type": "execute_result"
    }
   ],
   "source": [
    "s_rating.groupby('uid').agg({\"rating\":'count'}).describe()"
   ]
  },
  {
   "cell_type": "code",
   "execution_count": 33,
   "metadata": {},
   "outputs": [
    {
     "data": {
      "text/html": [
       "<div>\n",
       "<style scoped>\n",
       "    .dataframe tbody tr th:only-of-type {\n",
       "        vertical-align: middle;\n",
       "    }\n",
       "\n",
       "    .dataframe tbody tr th {\n",
       "        vertical-align: top;\n",
       "    }\n",
       "\n",
       "    .dataframe thead th {\n",
       "        text-align: right;\n",
       "    }\n",
       "</style>\n",
       "<table border=\"1\" class=\"dataframe\">\n",
       "  <thead>\n",
       "    <tr style=\"text-align: right;\">\n",
       "      <th></th>\n",
       "      <th>rating</th>\n",
       "    </tr>\n",
       "  </thead>\n",
       "  <tbody>\n",
       "    <tr>\n",
       "      <th>count</th>\n",
       "      <td>3.330909e+06</td>\n",
       "    </tr>\n",
       "    <tr>\n",
       "      <th>mean</th>\n",
       "      <td>2.185934e+00</td>\n",
       "    </tr>\n",
       "    <tr>\n",
       "      <th>std</th>\n",
       "      <td>6.108465e+00</td>\n",
       "    </tr>\n",
       "    <tr>\n",
       "      <th>min</th>\n",
       "      <td>1.000000e+00</td>\n",
       "    </tr>\n",
       "    <tr>\n",
       "      <th>25%</th>\n",
       "      <td>1.000000e+00</td>\n",
       "    </tr>\n",
       "    <tr>\n",
       "      <th>50%</th>\n",
       "      <td>1.000000e+00</td>\n",
       "    </tr>\n",
       "    <tr>\n",
       "      <th>75%</th>\n",
       "      <td>2.000000e+00</td>\n",
       "    </tr>\n",
       "    <tr>\n",
       "      <th>max</th>\n",
       "      <td>1.294000e+03</td>\n",
       "    </tr>\n",
       "  </tbody>\n",
       "</table>\n",
       "</div>"
      ],
      "text/plain": [
       "             rating\n",
       "count  3.330909e+06\n",
       "mean   2.185934e+00\n",
       "std    6.108465e+00\n",
       "min    1.000000e+00\n",
       "25%    1.000000e+00\n",
       "50%    1.000000e+00\n",
       "75%    2.000000e+00\n",
       "max    1.294000e+03"
      ]
     },
     "execution_count": 33,
     "metadata": {},
     "output_type": "execute_result"
    }
   ],
   "source": [
    "s_rating.groupby('uid').agg({\"rating\":'count'}).describe()"
   ]
  },
  {
   "cell_type": "code",
   "execution_count": 42,
   "metadata": {},
   "outputs": [],
   "source": [
    "item_info = s_rating.groupby('iid').agg({\"rating\":'count'})\n",
    "user_info = s_rating.groupby('uid').agg({\"rating\":'count'})"
   ]
  },
  {
   "cell_type": "code",
   "execution_count": 43,
   "metadata": {},
   "outputs": [
    {
     "data": {
      "text/plain": [
       "((54305,), (22856,))"
      ]
     },
     "execution_count": 43,
     "metadata": {},
     "output_type": "execute_result"
    }
   ],
   "source": [
    "active_item = item_info[item_info['rating']>20].index #.sample(frac=10/20,random_state=2023).index\n",
    "active_user = user_info[user_info['rating']>20].index #.sample(frac=10/20,random_state=2023).index\n",
    "active_item.shape, active_user.shape"
   ]
  },
  {
   "cell_type": "code",
   "execution_count": 41,
   "metadata": {},
   "outputs": [
    {
     "data": {
      "text/plain": [
       "((68023,), (24291,))"
      ]
     },
     "execution_count": 41,
     "metadata": {},
     "output_type": "execute_result"
    }
   ],
   "source": [
    "active_item = item_info[item_info['rating']>20].index #.sample(frac=10/20,random_state=2023).index\n",
    "active_user = user_info[user_info['rating']>20].index #.sample(frac=10/20,random_state=2023).index\n",
    "active_item.shape, active_user.shape"
   ]
  },
  {
   "cell_type": "code",
   "execution_count": 44,
   "metadata": {},
   "outputs": [
    {
     "data": {
      "text/plain": [
       "(763389, 10)"
      ]
     },
     "execution_count": 44,
     "metadata": {},
     "output_type": "execute_result"
    }
   ],
   "source": [
    "s_rating = s_rating[s_rating['uid'].isin(active_user)]\n",
    "s_rating = s_rating[s_rating['iid'].isin(active_item)]\n",
    "s_rating.shape"
   ]
  },
  {
   "cell_type": "code",
   "execution_count": 36,
   "metadata": {},
   "outputs": [
    {
     "data": {
      "text/plain": [
       "(845689, 9)"
      ]
     },
     "execution_count": 36,
     "metadata": {},
     "output_type": "execute_result"
    }
   ],
   "source": [
    "s_rating = s_rating[s_rating['uid'].isin(active_user)]\n",
    "s_rating = s_rating[s_rating['iid'].isin(active_item)]\n",
    "s_rating.shape"
   ]
  },
  {
   "cell_type": "code",
   "execution_count": 45,
   "metadata": {},
   "outputs": [
    {
     "data": {
      "text/plain": [
       "(rating    33.651708\n",
       " dtype: float64,\n",
       " rating    16.2223\n",
       " dtype: float64)"
      ]
     },
     "execution_count": 45,
     "metadata": {},
     "output_type": "execute_result"
    }
   ],
   "source": [
    "item_info = s_rating.groupby('iid').agg({\"rating\":'count'})\n",
    "user_info = s_rating.groupby('uid').agg({\"rating\":'count'})\n",
    "user_info.mean(), item_info.mean()"
   ]
  },
  {
   "cell_type": "code",
   "execution_count": 37,
   "metadata": {},
   "outputs": [
    {
     "data": {
      "text/plain": [
       "(rating    34.018061\n",
       " dtype: float64,\n",
       " rating    16.628436\n",
       " dtype: float64)"
      ]
     },
     "execution_count": 37,
     "metadata": {},
     "output_type": "execute_result"
    }
   ],
   "source": [
    "item_info = s_rating.groupby('iid').agg({\"rating\":'count'})\n",
    "user_info = s_rating.groupby('uid').agg({\"rating\":'count'})\n",
    "user_info.mean(), item_info.mean()"
   ]
  },
  {
   "cell_type": "code",
   "execution_count": 46,
   "metadata": {},
   "outputs": [
    {
     "data": {
      "text/plain": [
       "((763389, 10), (22685,), (47058,))"
      ]
     },
     "execution_count": 46,
     "metadata": {},
     "output_type": "execute_result"
    }
   ],
   "source": [
    "s_rating.shape, s_rating.uid.unique().shape, s_rating.iid.unique().shape"
   ]
  },
  {
   "cell_type": "code",
   "execution_count": 38,
   "metadata": {},
   "outputs": [
    {
     "data": {
      "text/plain": [
       "((845689, 9), (24860,), (50858,))"
      ]
     },
     "execution_count": 38,
     "metadata": {},
     "output_type": "execute_result"
    }
   ],
   "source": [
    "s_rating.shape, s_rating.uid.unique().shape, s_rating.iid.unique().shape"
   ]
  },
  {
   "cell_type": "code",
   "execution_count": 47,
   "metadata": {},
   "outputs": [
    {
     "data": {
      "text/html": [
       "<div>\n",
       "<style scoped>\n",
       "    .dataframe tbody tr th:only-of-type {\n",
       "        vertical-align: middle;\n",
       "    }\n",
       "\n",
       "    .dataframe tbody tr th {\n",
       "        vertical-align: top;\n",
       "    }\n",
       "\n",
       "    .dataframe thead th {\n",
       "        text-align: right;\n",
       "    }\n",
       "</style>\n",
       "<table border=\"1\" class=\"dataframe\">\n",
       "  <thead>\n",
       "    <tr style=\"text-align: right;\">\n",
       "      <th></th>\n",
       "      <th>index</th>\n",
       "      <th>iid</th>\n",
       "      <th>uid</th>\n",
       "      <th>rating</th>\n",
       "      <th>timestamp</th>\n",
       "      <th>title</th>\n",
       "      <th>description</th>\n",
       "      <th>category</th>\n",
       "      <th>price</th>\n",
       "      <th>brand</th>\n",
       "      <th>time</th>\n",
       "    </tr>\n",
       "  </thead>\n",
       "  <tbody>\n",
       "    <tr>\n",
       "      <th>0</th>\n",
       "      <td>267</td>\n",
       "      <td>0001050230</td>\n",
       "      <td>A2SLME0E0ENFCP</td>\n",
       "      <td>5.0</td>\n",
       "      <td>1.514678e+09</td>\n",
       "      <td>Love's Labour's Lost: Performed by Derek Jacob...</td>\n",
       "      <td>William Shakespeare is widely regarded as the ...</td>\n",
       "      <td>Books, Literature &amp; Fiction, Dramas &amp; Plays</td>\n",
       "      <td>$20.93</td>\n",
       "      <td>Visit Amazon's William Shakespeare Page</td>\n",
       "      <td>12</td>\n",
       "    </tr>\n",
       "    <tr>\n",
       "      <th>1</th>\n",
       "      <td>271</td>\n",
       "      <td>0001050230</td>\n",
       "      <td>A2RTH3REZ7YEDB</td>\n",
       "      <td>5.0</td>\n",
       "      <td>1.513642e+09</td>\n",
       "      <td>Love's Labour's Lost: Performed by Derek Jacob...</td>\n",
       "      <td>William Shakespeare is widely regarded as the ...</td>\n",
       "      <td>Books, Literature &amp; Fiction, Dramas &amp; Plays</td>\n",
       "      <td>$20.93</td>\n",
       "      <td>Visit Amazon's William Shakespeare Page</td>\n",
       "      <td>12</td>\n",
       "    </tr>\n",
       "  </tbody>\n",
       "</table>\n",
       "</div>"
      ],
      "text/plain": [
       "   index         iid             uid  rating     timestamp  \\\n",
       "0    267  0001050230  A2SLME0E0ENFCP     5.0  1.514678e+09   \n",
       "1    271  0001050230  A2RTH3REZ7YEDB     5.0  1.513642e+09   \n",
       "\n",
       "                                               title  \\\n",
       "0  Love's Labour's Lost: Performed by Derek Jacob...   \n",
       "1  Love's Labour's Lost: Performed by Derek Jacob...   \n",
       "\n",
       "                                         description  \\\n",
       "0  William Shakespeare is widely regarded as the ...   \n",
       "1  William Shakespeare is widely regarded as the ...   \n",
       "\n",
       "                                      category   price  \\\n",
       "0  Books, Literature & Fiction, Dramas & Plays  $20.93   \n",
       "1  Books, Literature & Fiction, Dramas & Plays  $20.93   \n",
       "\n",
       "                                     brand  time  \n",
       "0  Visit Amazon's William Shakespeare Page    12  \n",
       "1  Visit Amazon's William Shakespeare Page    12  "
      ]
     },
     "execution_count": 47,
     "metadata": {},
     "output_type": "execute_result"
    }
   ],
   "source": [
    "s_rating = s_rating.reset_index()\n",
    "s_rating.head(2)"
   ]
  },
  {
   "cell_type": "code",
   "execution_count": 48,
   "metadata": {},
   "outputs": [
    {
     "data": {
      "text/plain": [
       "<Axes: xlabel='time'>"
      ]
     },
     "execution_count": 48,
     "metadata": {},
     "output_type": "execute_result"
    },
    {
     "data": {
      "image/png": "[encoded data removed]",
      "text/plain": [
       "<Figure size 640x480 with 1 Axes>"
      ]
     },
     "metadata": {},
     "output_type": "display_data"
    }
   ],
   "source": [
    "s_rating.groupby('time').agg({'rating':'count'}).reset_index().plot(x='time',kind='bar')"
   ]
  },
  {
   "cell_type": "code",
   "execution_count": 49,
   "metadata": {},
   "outputs": [
    {
     "data": {
      "text/plain": [
       "array([5., 4., 3., 2., 1.])"
      ]
     },
     "execution_count": 49,
     "metadata": {},
     "output_type": "execute_result"
    }
   ],
   "source": [
    "s_rating.rating.unique()"
   ]
  },
  {
   "cell_type": "code",
   "execution_count": 50,
   "metadata": {},
   "outputs": [
    {
     "data": {
      "text/plain": [
       "count    763389.000000\n",
       "mean          0.633537\n",
       "std           0.481838\n",
       "min           0.000000\n",
       "25%           0.000000\n",
       "50%           1.000000\n",
       "75%           1.000000\n",
       "max           1.000000\n",
       "Name: label, dtype: float64"
      ]
     },
     "execution_count": 50,
     "metadata": {},
     "output_type": "execute_result"
    }
   ],
   "source": [
    "s_rating['label'] = s_rating['rating'].apply(lambda x: 1 if x>=5 else 0)\n",
    "s_rating['label'].describe()"
   ]
  },
  {
   "cell_type": "code",
   "execution_count": 42,
   "metadata": {},
   "outputs": [
    {
     "data": {
      "text/plain": [
       "count    845689.00000\n",
       "mean          0.63175\n",
       "std           0.48233\n",
       "min           0.00000\n",
       "25%           0.00000\n",
       "50%           1.00000\n",
       "75%           1.00000\n",
       "max           1.00000\n",
       "Name: label, dtype: float64"
      ]
     },
     "execution_count": 42,
     "metadata": {},
     "output_type": "execute_result"
    }
   ],
   "source": [
    "s_rating['label'] = s_rating['rating'].apply(lambda x: 1 if x>=5 else 0)\n",
    "s_rating['label'].describe()"
   ]
  },
  {
   "cell_type": "code",
   "execution_count": 51,
   "metadata": {},
   "outputs": [
    {
     "data": {
      "text/plain": [
       "(22685, 47058)"
      ]
     },
     "execution_count": 51,
     "metadata": {},
     "output_type": "execute_result"
    }
   ],
   "source": [
    "users = s_rating.uid.unique()\n",
    "items = s_rating.iid.unique()\n",
    "users_map = dict(zip(users, np.arange(users.shape[0])+1))\n",
    "items_map = dict(zip(items, np.arange(items.shape[0])+1))\n",
    "s_rating['uid'] = s_rating['uid'].map(users_map)\n",
    "s_rating['iid'] = s_rating['iid'].map(items_map)\n",
    "s_rating.uid.max(), s_rating.iid.max()"
   ]
  },
  {
   "cell_type": "code",
   "execution_count": 52,
   "metadata": {},
   "outputs": [],
   "source": [
    "s_rating['description'] = s_rating['description'].apply(lambda x: re.sub(r'<[^>]+>', ' ', x.replace('&','')))\n",
    "s_rating['description'] = s_rating['description'].apply(lambda x: re.sub(r'\\s+', ' ', x.strip()))\n",
    "s_rating['title'] = s_rating['title'].apply(lambda x: re.sub(r'<[^>]+>', ' ', x.replace('&','')))\n",
    "s_rating['title'] = s_rating['title'].apply(lambda x: re.sub(r'\\s+', ' ', x.strip()))\n",
    "s_rating['category'] = s_rating['category'].apply(lambda x: re.sub(r'<[^>]+>', ' ', x.replace('&','')))\n",
    "s_rating['category'] = s_rating['category'].apply(lambda x: re.sub(r'\\s+', ' ', x.strip()))\n",
    "s_rating['brand'] = s_rating['brand'].apply(lambda x: re.sub(r'<[^>]+>', ' ', x.replace('&','')))\n",
    "s_rating['brand'] = s_rating['brand'].apply(lambda x: re.sub(r'\\s+', ' ', x.strip()))\n",
    "s_rating['price'] = s_rating['price'].apply(lambda x: re.sub(r'\\s+', ' ', x.strip()))"
   ]
  },
  {
   "cell_type": "code",
   "execution_count": 53,
   "metadata": {},
   "outputs": [
    {
     "data": {
      "text/html": [
       "<div>\n",
       "<style scoped>\n",
       "    .dataframe tbody tr th:only-of-type {\n",
       "        vertical-align: middle;\n",
       "    }\n",
       "\n",
       "    .dataframe tbody tr th {\n",
       "        vertical-align: top;\n",
       "    }\n",
       "\n",
       "    .dataframe thead th {\n",
       "        text-align: right;\n",
       "    }\n",
       "</style>\n",
       "<table border=\"1\" class=\"dataframe\">\n",
       "  <thead>\n",
       "    <tr style=\"text-align: right;\">\n",
       "      <th></th>\n",
       "      <th>index</th>\n",
       "      <th>iid</th>\n",
       "      <th>uid</th>\n",
       "      <th>rating</th>\n",
       "      <th>timestamp</th>\n",
       "      <th>title</th>\n",
       "      <th>description</th>\n",
       "      <th>category</th>\n",
       "      <th>price</th>\n",
       "      <th>brand</th>\n",
       "      <th>time</th>\n",
       "      <th>label</th>\n",
       "    </tr>\n",
       "  </thead>\n",
       "  <tbody>\n",
       "    <tr>\n",
       "      <th>0</th>\n",
       "      <td>267</td>\n",
       "      <td>1</td>\n",
       "      <td>1</td>\n",
       "      <td>5.0</td>\n",
       "      <td>1.514678e+09</td>\n",
       "      <td>Love's Labour's Lost: Performed by Derek Jacob...</td>\n",
       "      <td>William Shakespeare is widely regarded as the ...</td>\n",
       "      <td>Books, Literature Fiction, Dramas Plays</td>\n",
       "      <td>$20.93</td>\n",
       "      <td>Visit Amazon's William Shakespeare Page</td>\n",
       "      <td>12</td>\n",
       "      <td>1</td>\n",
       "    </tr>\n",
       "    <tr>\n",
       "      <th>1</th>\n",
       "      <td>271</td>\n",
       "      <td>1</td>\n",
       "      <td>2</td>\n",
       "      <td>5.0</td>\n",
       "      <td>1.513642e+09</td>\n",
       "      <td>Love's Labour's Lost: Performed by Derek Jacob...</td>\n",
       "      <td>William Shakespeare is widely regarded as the ...</td>\n",
       "      <td>Books, Literature Fiction, Dramas Plays</td>\n",
       "      <td>$20.93</td>\n",
       "      <td>Visit Amazon's William Shakespeare Page</td>\n",
       "      <td>12</td>\n",
       "      <td>1</td>\n",
       "    </tr>\n",
       "    <tr>\n",
       "      <th>2</th>\n",
       "      <td>283</td>\n",
       "      <td>1</td>\n",
       "      <td>3</td>\n",
       "      <td>4.0</td>\n",
       "      <td>1.512518e+09</td>\n",
       "      <td>Love's Labour's Lost: Performed by Derek Jacob...</td>\n",
       "      <td>William Shakespeare is widely regarded as the ...</td>\n",
       "      <td>Books, Literature Fiction, Dramas Plays</td>\n",
       "      <td>$20.93</td>\n",
       "      <td>Visit Amazon's William Shakespeare Page</td>\n",
       "      <td>12</td>\n",
       "      <td>0</td>\n",
       "    </tr>\n",
       "    <tr>\n",
       "      <th>3</th>\n",
       "      <td>284</td>\n",
       "      <td>1</td>\n",
       "      <td>3</td>\n",
       "      <td>4.0</td>\n",
       "      <td>1.512518e+09</td>\n",
       "      <td>Love's Labour's Lost: Performed by Derek Jacob...</td>\n",
       "      <td>William Shakespeare is widely regarded as the ...</td>\n",
       "      <td>Books, Literature Fiction, Dramas Plays</td>\n",
       "      <td>$20.93</td>\n",
       "      <td>Visit Amazon's William Shakespeare Page</td>\n",
       "      <td>12</td>\n",
       "      <td>0</td>\n",
       "    </tr>\n",
       "    <tr>\n",
       "      <th>4</th>\n",
       "      <td>285</td>\n",
       "      <td>1</td>\n",
       "      <td>4</td>\n",
       "      <td>5.0</td>\n",
       "      <td>1.512346e+09</td>\n",
       "      <td>Love's Labour's Lost: Performed by Derek Jacob...</td>\n",
       "      <td>William Shakespeare is widely regarded as the ...</td>\n",
       "      <td>Books, Literature Fiction, Dramas Plays</td>\n",
       "      <td>$20.93</td>\n",
       "      <td>Visit Amazon's William Shakespeare Page</td>\n",
       "      <td>12</td>\n",
       "      <td>1</td>\n",
       "    </tr>\n",
       "  </tbody>\n",
       "</table>\n",
       "</div>"
      ],
      "text/plain": [
       "   index  iid  uid  rating     timestamp  \\\n",
       "0    267    1    1     5.0  1.514678e+09   \n",
       "1    271    1    2     5.0  1.513642e+09   \n",
       "2    283    1    3     4.0  1.512518e+09   \n",
       "3    284    1    3     4.0  1.512518e+09   \n",
       "4    285    1    4     5.0  1.512346e+09   \n",
       "\n",
       "                                               title  \\\n",
       "0  Love's Labour's Lost: Performed by Derek Jacob...   \n",
       "1  Love's Labour's Lost: Performed by Derek Jacob...   \n",
       "2  Love's Labour's Lost: Performed by Derek Jacob...   \n",
       "3  Love's Labour's Lost: Performed by Derek Jacob...   \n",
       "4  Love's Labour's Lost: Performed by Derek Jacob...   \n",
       "\n",
       "                                         description  \\\n",
       "0  William Shakespeare is widely regarded as the ...   \n",
       "1  William Shakespeare is widely regarded as the ...   \n",
       "2  William Shakespeare is widely regarded as the ...   \n",
       "3  William Shakespeare is widely regarded as the ...   \n",
       "4  William Shakespeare is widely regarded as the ...   \n",
       "\n",
       "                                  category   price  \\\n",
       "0  Books, Literature Fiction, Dramas Plays  $20.93   \n",
       "1  Books, Literature Fiction, Dramas Plays  $20.93   \n",
       "2  Books, Literature Fiction, Dramas Plays  $20.93   \n",
       "3  Books, Literature Fiction, Dramas Plays  $20.93   \n",
       "4  Books, Literature Fiction, Dramas Plays  $20.93   \n",
       "\n",
       "                                     brand  time  label  \n",
       "0  Visit Amazon's William Shakespeare Page    12      1  \n",
       "1  Visit Amazon's William Shakespeare Page    12      1  \n",
       "2  Visit Amazon's William Shakespeare Page    12      0  \n",
       "3  Visit Amazon's William Shakespeare Page    12      0  \n",
       "4  Visit Amazon's William Shakespeare Page    12      1  "
      ]
     },
     "execution_count": 53,
     "metadata": {},
     "output_type": "execute_result"
    }
   ],
   "source": [
    "s_rating.head()"
   ]
  },
  {
   "cell_type": "code",
   "execution_count": 54,
   "metadata": {},
   "outputs": [
    {
     "data": {
      "text/html": [
       "<div>\n",
       "<style scoped>\n",
       "    .dataframe tbody tr th:only-of-type {\n",
       "        vertical-align: middle;\n",
       "    }\n",
       "\n",
       "    .dataframe tbody tr th {\n",
       "        vertical-align: top;\n",
       "    }\n",
       "\n",
       "    .dataframe thead th {\n",
       "        text-align: right;\n",
       "    }\n",
       "</style>\n",
       "<table border=\"1\" class=\"dataframe\">\n",
       "  <thead>\n",
       "    <tr style=\"text-align: right;\">\n",
       "      <th></th>\n",
       "      <th>index</th>\n",
       "      <th>iid</th>\n",
       "      <th>uid</th>\n",
       "      <th>rating</th>\n",
       "      <th>timestamp</th>\n",
       "      <th>title</th>\n",
       "      <th>description</th>\n",
       "      <th>category</th>\n",
       "      <th>price</th>\n",
       "      <th>brand</th>\n",
       "      <th>time</th>\n",
       "      <th>label</th>\n",
       "    </tr>\n",
       "  </thead>\n",
       "  <tbody>\n",
       "    <tr>\n",
       "      <th>763384</th>\n",
       "      <td>47059237</td>\n",
       "      <td>47058</td>\n",
       "      <td>16137</td>\n",
       "      <td>4.0</td>\n",
       "      <td>1.490141e+09</td>\n",
       "      <td>The Seance (Jinn Series Book 1) eBook</td>\n",
       "      <td></td>\n",
       "      <td>Books, Literature Fiction, Genre Fiction</td>\n",
       "      <td></td>\n",
       "      <td>Visit Amazon's Ayse Hafiza Page</td>\n",
       "      <td>3</td>\n",
       "      <td>0</td>\n",
       "    </tr>\n",
       "    <tr>\n",
       "      <th>763385</th>\n",
       "      <td>47059240</td>\n",
       "      <td>47058</td>\n",
       "      <td>3899</td>\n",
       "      <td>3.0</td>\n",
       "      <td>1.499213e+09</td>\n",
       "      <td>The Seance (Jinn Series Book 1) eBook</td>\n",
       "      <td></td>\n",
       "      <td>Books, Literature Fiction, Genre Fiction</td>\n",
       "      <td></td>\n",
       "      <td>Visit Amazon's Ayse Hafiza Page</td>\n",
       "      <td>7</td>\n",
       "      <td>0</td>\n",
       "    </tr>\n",
       "    <tr>\n",
       "      <th>763386</th>\n",
       "      <td>47059241</td>\n",
       "      <td>47058</td>\n",
       "      <td>3069</td>\n",
       "      <td>3.0</td>\n",
       "      <td>1.498435e+09</td>\n",
       "      <td>The Seance (Jinn Series Book 1) eBook</td>\n",
       "      <td></td>\n",
       "      <td>Books, Literature Fiction, Genre Fiction</td>\n",
       "      <td></td>\n",
       "      <td>Visit Amazon's Ayse Hafiza Page</td>\n",
       "      <td>6</td>\n",
       "      <td>0</td>\n",
       "    </tr>\n",
       "    <tr>\n",
       "      <th>763387</th>\n",
       "      <td>47059242</td>\n",
       "      <td>47058</td>\n",
       "      <td>7745</td>\n",
       "      <td>4.0</td>\n",
       "      <td>1.498262e+09</td>\n",
       "      <td>The Seance (Jinn Series Book 1) eBook</td>\n",
       "      <td></td>\n",
       "      <td>Books, Literature Fiction, Genre Fiction</td>\n",
       "      <td></td>\n",
       "      <td>Visit Amazon's Ayse Hafiza Page</td>\n",
       "      <td>6</td>\n",
       "      <td>0</td>\n",
       "    </tr>\n",
       "    <tr>\n",
       "      <th>763388</th>\n",
       "      <td>47059247</td>\n",
       "      <td>47058</td>\n",
       "      <td>16642</td>\n",
       "      <td>5.0</td>\n",
       "      <td>1.493165e+09</td>\n",
       "      <td>The Seance (Jinn Series Book 1) eBook</td>\n",
       "      <td></td>\n",
       "      <td>Books, Literature Fiction, Genre Fiction</td>\n",
       "      <td></td>\n",
       "      <td>Visit Amazon's Ayse Hafiza Page</td>\n",
       "      <td>4</td>\n",
       "      <td>1</td>\n",
       "    </tr>\n",
       "  </tbody>\n",
       "</table>\n",
       "</div>"
      ],
      "text/plain": [
       "           index    iid    uid  rating     timestamp  \\\n",
       "763384  47059237  47058  16137     4.0  1.490141e+09   \n",
       "763385  47059240  47058   3899     3.0  1.499213e+09   \n",
       "763386  47059241  47058   3069     3.0  1.498435e+09   \n",
       "763387  47059242  47058   7745     4.0  1.498262e+09   \n",
       "763388  47059247  47058  16642     5.0  1.493165e+09   \n",
       "\n",
       "                                        title description  \\\n",
       "763384  The Seance (Jinn Series Book 1) eBook               \n",
       "763385  The Seance (Jinn Series Book 1) eBook               \n",
       "763386  The Seance (Jinn Series Book 1) eBook               \n",
       "763387  The Seance (Jinn Series Book 1) eBook               \n",
       "763388  The Seance (Jinn Series Book 1) eBook               \n",
       "\n",
       "                                        category price  \\\n",
       "763384  Books, Literature Fiction, Genre Fiction         \n",
       "763385  Books, Literature Fiction, Genre Fiction         \n",
       "763386  Books, Literature Fiction, Genre Fiction         \n",
       "763387  Books, Literature Fiction, Genre Fiction         \n",
       "763388  Books, Literature Fiction, Genre Fiction         \n",
       "\n",
       "                                  brand  time  label  \n",
       "763384  Visit Amazon's Ayse Hafiza Page     3      0  \n",
       "763385  Visit Amazon's Ayse Hafiza Page     7      0  \n",
       "763386  Visit Amazon's Ayse Hafiza Page     6      0  \n",
       "763387  Visit Amazon's Ayse Hafiza Page     6      0  \n",
       "763388  Visit Amazon's Ayse Hafiza Page     4      1  "
      ]
     },
     "execution_count": 54,
     "metadata": {},
     "output_type": "execute_result"
    }
   ],
   "source": [
    "s_rating.tail()"
   ]
  },
  {
   "cell_type": "code",
   "execution_count": 55,
   "metadata": {},
   "outputs": [
    {
     "data": {
      "text/plain": [
       "(47058,)"
      ]
     },
     "execution_count": 55,
     "metadata": {},
     "output_type": "execute_result"
    }
   ],
   "source": [
    "s_rating.iid.unique().shape"
   ]
  },
  {
   "cell_type": "code",
   "execution_count": 57,
   "metadata": {},
   "outputs": [
    {
     "name": "stdout",
     "output_type": "stream",
     "text": [
      "47058 47058\n"
     ]
    }
   ],
   "source": [
    "id2title = {}\n",
    "# title2id = {}\n",
    "for i in range(len(s_rating)):\n",
    "    iid = int(s_rating.iloc[i]['iid'])\n",
    "    title = str(s_rating.iloc[i]['title'])\n",
    "    description = str(s_rating.iloc[i]['description'])\n",
    "    category = str(s_rating.iloc[i]['category'])\n",
    "    brand = str(s_rating.iloc[i]['brand'])\n",
    "    price = str(s_rating.iloc[i]['price'])\n",
    "    if iid not in id2title:\n",
    "        id2title[iid] = {\n",
    "            'title':title,\n",
    "            'description':description,\n",
    "            'category':category,\n",
    "            'brand':brand,\n",
    "            'price':price,\n",
    "            }\n",
    "    # if title not in title2id:\n",
    "    #     title2id[title] = {\n",
    "    #         'id':iid,\n",
    "    #         'description':description,\n",
    "    #         'category':category,\n",
    "    #         'brand':brand,\n",
    "    #         'price':price,\n",
    "    #         }\n",
    "print(len(id2title.keys()))\n",
    "# print(len(id2title.keys()),len(title2id.keys()))\n"
   ]
  },
  {
   "cell_type": "code",
   "execution_count": 58,
   "metadata": {},
   "outputs": [],
   "source": [
    "#保存为字典 id2title 为 json 文件\n",
    "import json\n",
    "json_dir = '/home/yuqihang/projects/CoLLM/collm-datasets/bookdu'\n",
    "json.dump(id2title, open(f\"{json_dir}/id2title.json\", \"w\"), indent=4)\n",
    "# json.dump(title2id, open(f\"{json_dir}/title2id.json\", \"w\"), indent=4)"
   ]
  },
  {
   "cell_type": "code",
   "execution_count": 62,
   "metadata": {},
   "outputs": [],
   "source": [
    "with open('/home/yuqihang/projects/CoLLM/collm-datasets/booknew/id2keywords.json','r') as f:\n",
    "    id2keywords = json.load(f)"
   ]
  },
  {
   "cell_type": "code",
   "execution_count": 71,
   "metadata": {},
   "outputs": [],
   "source": [
    "for idx,meta in id2title.items():\n",
    "    try:\n",
    "        meta['keywords'] = id2keywords[idx]['keywords']\n",
    "    except:\n",
    "        print(f'can\\'t find {idx} in id2keywords')\n",
    "    id2title[idx] = meta"
   ]
  },
  {
   "cell_type": "code",
   "execution_count": 72,
   "metadata": {},
   "outputs": [],
   "source": [
    "json.dump(id2title, open(f\"{json_dir}/id2title.json\", \"w\"), indent=4)"
   ]
  },
  {
   "cell_type": "code",
   "execution_count": 73,
   "metadata": {},
   "outputs": [],
   "source": [
    "# id2title = {}\n",
    "# for title,meta in title2id.items():\n",
    "#     idx = meta['id']\n",
    "#     del meta['id']\n",
    "#     meta['title'] = title\n",
    "#     id2title[idx] = meta"
   ]
  },
  {
   "cell_type": "code",
   "execution_count": 74,
   "metadata": {},
   "outputs": [],
   "source": [
    "# json.dump(id2title, open(f\"{json_dir}/id2title.json\", \"w\"), indent=4)"
   ]
  },
  {
   "cell_type": "code",
   "execution_count": 78,
   "metadata": {},
   "outputs": [],
   "source": [
    "del id2title\n",
    "# del title2id\n",
    "del title2keywords"
   ]
  },
  {
   "cell_type": "code",
   "execution_count": 75,
   "metadata": {},
   "outputs": [
    {
     "data": {
      "text/plain": [
       "((650865, 12), (56262, 12), (56262, 12))"
      ]
     },
     "execution_count": 75,
     "metadata": {},
     "output_type": "execute_result"
    }
   ],
   "source": [
    "rating_train = s_rating[s_rating.time.isin(range(11))].copy()\n",
    "rating_valid_test = s_rating[s_rating.time.isin(range(11,13))].copy()\n",
    "rating_valid_test.sort_values(by=\"timestamp\",inplace=True)\n",
    "N_ = rating_valid_test.shape[0]//2\n",
    "rating_valid = rating_valid_test.iloc[:N_].copy()\n",
    "rating_test = rating_valid_test.iloc[N_:].copy()\n",
    "rating_train.shape, rating_valid.shape, rating_test.shape"
   ]
  },
  {
   "cell_type": "code",
   "execution_count": 76,
   "metadata": {},
   "outputs": [
    {
     "data": {
      "text/plain": [
       "array([0, 1, 2, 3, 4])"
      ]
     },
     "execution_count": 76,
     "metadata": {},
     "output_type": "execute_result"
    }
   ],
   "source": [
    "rating_valid_test.timestamp.values[0:5].argsort()"
   ]
  },
  {
   "cell_type": "code",
   "execution_count": 77,
   "metadata": {},
   "outputs": [
    {
     "data": {
      "text/plain": [
       "(array([10,  9,  8,  7,  6,  5,  4,  3,  2,  1]), array([11]), array([11, 12]))"
      ]
     },
     "execution_count": 77,
     "metadata": {},
     "output_type": "execute_result"
    }
   ],
   "source": [
    "rating_train.time.unique(),rating_valid.time.unique(),rating_test.time.unique()"
   ]
  },
  {
   "cell_type": "code",
   "execution_count": 79,
   "metadata": {},
   "outputs": [
    {
     "data": {
      "text/plain": [
       "rating    14.552925\n",
       "dtype: float64"
      ]
     },
     "execution_count": 79,
     "metadata": {},
     "output_type": "execute_result"
    }
   ],
   "source": [
    "s_rating[s_rating.time.isin(range(11))].groupby('iid').agg({\"rating\":'count'}).mean()"
   ]
  },
  {
   "cell_type": "code",
   "execution_count": 80,
   "metadata": {},
   "outputs": [],
   "source": [
    "train_user = rating_train['uid'].unique()\n",
    "train_item = rating_train['iid'].unique()\n",
    "rating_valid['not_cold'] = rating_valid[['uid','iid']].apply(lambda x: x.uid in train_user and x.iid in train_item, axis=1).astype(\"int\")\n",
    "rating_test['not_cold'] = rating_test[['uid','iid']].apply(lambda x: x.uid in train_user and x.iid in train_item, axis=1).astype(\"int\")"
   ]
  },
  {
   "cell_type": "code",
   "execution_count": 81,
   "metadata": {},
   "outputs": [
    {
     "data": {
      "text/plain": [
       "(count    56262.000000\n",
       " mean         0.628897\n",
       " std          0.483104\n",
       " min          0.000000\n",
       " 25%          0.000000\n",
       " 50%          1.000000\n",
       " 75%          1.000000\n",
       " max          1.000000\n",
       " Name: not_cold, dtype: float64,\n",
       " count    56262.000000\n",
       " mean         0.546319\n",
       " std          0.497854\n",
       " min          0.000000\n",
       " 25%          0.000000\n",
       " 50%          1.000000\n",
       " 75%          1.000000\n",
       " max          1.000000\n",
       " Name: not_cold, dtype: float64)"
      ]
     },
     "execution_count": 81,
     "metadata": {},
     "output_type": "execute_result"
    }
   ],
   "source": [
    "rating_valid['not_cold'].describe(), rating_test['not_cold'].describe()"
   ]
  },
  {
   "cell_type": "code",
   "execution_count": 82,
   "metadata": {},
   "outputs": [
    {
     "data": {
      "text/plain": [
       "((650865, 12), (56262, 13), (56262, 13))"
      ]
     },
     "execution_count": 82,
     "metadata": {},
     "output_type": "execute_result"
    }
   ],
   "source": [
    "rating_train.shape, rating_valid.shape, rating_test.shape"
   ]
  },
  {
   "cell_type": "code",
   "execution_count": 83,
   "metadata": {},
   "outputs": [
    {
     "data": {
      "text/plain": [
       "(              label              \n",
       "               count           sum\n",
       " count  22403.000000  22403.000000\n",
       " mean      29.052582     18.413114\n",
       " std       31.190940     22.854385\n",
       " min        1.000000      0.000000\n",
       " 25%       13.000000      6.000000\n",
       " 50%       21.000000     13.000000\n",
       " 75%       33.000000     22.000000\n",
       " max      759.000000    743.000000,\n",
       "               label              \n",
       "               count           sum\n",
       " count  44724.000000  44724.000000\n",
       " mean      14.552925      9.223437\n",
       " std       27.210174     18.869389\n",
       " min        1.000000      0.000000\n",
       " 25%        2.000000      1.000000\n",
       " 50%        6.000000      4.000000\n",
       " 75%       15.000000      9.000000\n",
       " max     1060.000000    447.000000)"
      ]
     },
     "execution_count": 83,
     "metadata": {},
     "output_type": "execute_result"
    }
   ],
   "source": [
    "rating_train.groupby(\"uid\").agg({'label':['count','sum']}).describe(), rating_train.groupby(\"iid\").agg({'label':['count','sum']}).describe()"
   ]
  },
  {
   "cell_type": "code",
   "execution_count": 138,
   "metadata": {},
   "outputs": [
    {
     "data": {
      "text/plain": [
       "(              label              \n",
       "               count           sum\n",
       " count  21700.000000  21700.000000\n",
       " mean      33.217005     19.755161\n",
       " std       31.872163     21.036342\n",
       " min        1.000000      0.000000\n",
       " 25%       17.000000      8.000000\n",
       " 50%       24.000000     15.000000\n",
       " 75%       38.000000     24.000000\n",
       " max      698.000000    642.000000,\n",
       "               label              \n",
       "               count           sum\n",
       " count  52444.000000  52444.000000\n",
       " mean      13.744356      8.174186\n",
       " std       25.850157     17.063427\n",
       " min        1.000000      0.000000\n",
       " 25%        2.000000      1.000000\n",
       " 50%        6.000000      3.000000\n",
       " 75%       15.000000      8.000000\n",
       " max     2120.000000   1272.000000)"
      ]
     },
     "execution_count": 138,
     "metadata": {},
     "output_type": "execute_result"
    }
   ],
   "source": [
    "rating_train.groupby(\"uid\").agg({'label':['count','sum']}).describe(), rating_train.groupby(\"iid\").agg({'label':['count','sum']}).describe()"
   ]
  },
  {
   "cell_type": "code",
   "execution_count": 233,
   "metadata": {},
   "outputs": [
    {
     "data": {
      "text/plain": [
       "(              label              \n",
       "               count           sum\n",
       " count  11673.000000  11673.000000\n",
       " mean       3.219481      1.986807\n",
       " std        3.586153      2.719840\n",
       " min        1.000000      0.000000\n",
       " 25%        1.000000      1.000000\n",
       " 50%        2.000000      1.000000\n",
       " 75%        4.000000      2.000000\n",
       " max       57.000000     49.000000,\n",
       "               label              \n",
       "               count           sum\n",
       " count  11741.000000  11741.000000\n",
       " mean       3.200835      1.975300\n",
       " std        9.644015      6.495411\n",
       " min        1.000000      0.000000\n",
       " 25%        1.000000      0.000000\n",
       " 50%        1.000000      1.000000\n",
       " 75%        2.000000      1.000000\n",
       " max      385.000000    211.000000)"
      ]
     },
     "execution_count": 233,
     "metadata": {},
     "output_type": "execute_result"
    }
   ],
   "source": [
    "# rating_valid.groupby(\"uid\").agg({'label':['count','sum']}).describe()\n",
    "rating_test.groupby(\"uid\").agg({'label':['count','sum']}).describe(), rating_test.groupby(\"iid\").agg({'label':['count','sum']}).describe()\n",
    "# rating_valid_test.groupby(\"uid\").agg({'label':['count','sum']}).describe()"
   ]
  },
  {
   "attachments": {},
   "cell_type": "markdown",
   "metadata": {},
   "source": [
    "## split by time order"
   ]
  },
  {
   "cell_type": "code",
   "execution_count": 84,
   "metadata": {},
   "outputs": [
    {
     "data": {
      "text/plain": [
       "((650865, 12), (56262, 13), (56262, 13))"
      ]
     },
     "execution_count": 84,
     "metadata": {},
     "output_type": "execute_result"
    }
   ],
   "source": [
    "rating_train.shape, rating_valid.shape, rating_test.shape"
   ]
  },
  {
   "cell_type": "code",
   "execution_count": 85,
   "metadata": {},
   "outputs": [],
   "source": [
    "rating_valid_f = rating_valid\n",
    "rating_test_f = rating_test"
   ]
  },
  {
   "cell_type": "code",
   "execution_count": 86,
   "metadata": {},
   "outputs": [],
   "source": [
    "def filter_cold_start(train,valid,test):\n",
    "    train_user = train.uid.unique()\n",
    "    train_item = train.iid.unique()\n",
    "    valid = valid[valid['uid'].isin(train_user)]\n",
    "    test = test[test['uid'].isin(train_user)]\n",
    "    valid = valid[valid['iid'].isin(train_item)]\n",
    "    test = test[test['iid'].isin(train_item)]\n",
    "    return valid, test"
   ]
  },
  {
   "cell_type": "code",
   "execution_count": 87,
   "metadata": {},
   "outputs": [
    {
     "data": {
      "text/plain": [
       "(0.6337858081168906, 0.6354377732750347, 0.6287547545412534)"
      ]
     },
     "execution_count": 87,
     "metadata": {},
     "output_type": "execute_result"
    }
   ],
   "source": [
    "rating_train.label.mean(), rating_valid.label.mean(), rating_test.label.mean()"
   ]
  },
  {
   "cell_type": "code",
   "execution_count": 88,
   "metadata": {},
   "outputs": [
    {
     "data": {
      "text/plain": [
       "(0.6354377732750347, 0.6287547545412534)"
      ]
     },
     "execution_count": 88,
     "metadata": {},
     "output_type": "execute_result"
    }
   ],
   "source": [
    "rating_valid_f.label.mean(), rating_test_f.label.mean() "
   ]
  },
  {
   "cell_type": "code",
   "execution_count": 89,
   "metadata": {},
   "outputs": [
    {
     "data": {
      "text/plain": [
       "Index(['index', 'iid', 'uid', 'rating', 'timestamp', 'title', 'description',\n",
       "       'category', 'price', 'brand', 'time', 'label', 'not_cold'],\n",
       "      dtype='object')"
      ]
     },
     "execution_count": 89,
     "metadata": {},
     "output_type": "execute_result"
    }
   ],
   "source": [
    "rating_valid_f.columns"
   ]
  },
  {
   "cell_type": "code",
   "execution_count": 99,
   "metadata": {},
   "outputs": [],
   "source": [
    "import copy\n",
    "def deal_with_each_u_both(x,u):\n",
    "    items = np.array(x.iid)\n",
    "    labels = np.array(x.label)\n",
    "    titles = np.array(x.title)\n",
    "    descriptions = np.array(x.description)\n",
    "    timestamp = np.array(x.timestamp)\n",
    "    flags =  np.array(x.flag) \n",
    "    his = [0] # adding a '0' by default\n",
    "    his_label = [0]\n",
    "    # his_title = ['']\n",
    "    # his_desc = ['']\n",
    "    results = []\n",
    "    for i in range(items.shape[0]):\n",
    "        results.append((u, items[i], timestamp[i], np.array(his), np.array(his_label), labels[i], flags[i]))\n",
    "        # results.append((u, items[i], titles[i], timestamp[i], np.array(his), np.array(his_label), copy.copy(his_title), labels[i], flags[i]))\n",
    "        # training data\n",
    "        # if labels[i] > 0: # positive \n",
    "        his.append(items[i])\n",
    "        his_label.append(labels[i])\n",
    "        # his_title.append(titles[i])\n",
    "        # his_desc.append(descriptions[i])\n",
    "    return results\n",
    "\n",
    "def deal_with_each_u(x,u):\n",
    "    items = np.array(x.iid)\n",
    "    labels = np.array(x.label)\n",
    "    titles = np.array(x.title)\n",
    "    descriptions = np.array(x.description)\n",
    "    timestamp = np.array(x.timestamp)\n",
    "    flags =  np.array(x.flag) \n",
    "    his = [0] # adding a '0' by default\n",
    "    # his_title = ['']\n",
    "    # his_desc = ['']\n",
    "    results = []\n",
    "    for i in range(items.shape[0]):\n",
    "        results.append((u, items[i], timestamp[i], np.array(his), labels[i], flags[i]))\n",
    "        # results.append((u, items[i], titles[i], timestamp[i], np.array(his), copy.copy(his_title), labels[i], flags[i]))\n",
    "        # training data\n",
    "        if labels[i] > 0: # positive \n",
    "            his.append(items[i])\n",
    "            # his_title.append(titles[i])\n",
    "    return results"
   ]
  },
  {
   "cell_type": "code",
   "execution_count": 91,
   "metadata": {},
   "outputs": [],
   "source": [
    "rating_train = rating_train.copy()"
   ]
  },
  {
   "cell_type": "code",
   "execution_count": 92,
   "metadata": {},
   "outputs": [],
   "source": [
    "rating_train['flag'] =  pd.DataFrame(np.ones(rating_train.shape[0])*-1, index=rating_train.index)\n",
    "rating_valid_f['flag'] = pd.DataFrame(np.zeros(rating_valid_f.shape[0]), index=rating_valid_f.index)\n",
    "rating_test_f['flag'] = pd.DataFrame(np.ones(rating_test_f.shape[0]), index=rating_test_f.index)\n",
    "data_ = pd.concat([rating_train, rating_valid_f, rating_test_f],axis=0,ignore_index=True)\n",
    "data_ = data_.sort_values(by=['uid','timestamp'])\n",
    "u_inter_all = data_.groupby('uid').agg({'iid':list, 'label':list, 'title':list, 'timestamp':list, 'description':list, 'flag':list})"
   ]
  },
  {
   "cell_type": "code",
   "execution_count": 93,
   "metadata": {},
   "outputs": [
    {
     "data": {
      "text/plain": [
       "array([-1.,  0.,  1.])"
      ]
     },
     "execution_count": 93,
     "metadata": {},
     "output_type": "execute_result"
    }
   ],
   "source": [
    "data_.flag.unique()"
   ]
  },
  {
   "cell_type": "code",
   "execution_count": 100,
   "metadata": {},
   "outputs": [],
   "source": [
    "results = []\n",
    "results_both = []\n",
    "for u in u_inter_all.index:\n",
    "    results.extend(deal_with_each_u(u_inter_all.loc[u],u))\n",
    "    results_both.extend(deal_with_each_u_both(u_inter_all.loc[u],u))"
   ]
  },
  {
   "cell_type": "code",
   "execution_count": 101,
   "metadata": {},
   "outputs": [],
   "source": [
    "def list2pd(seqs):\n",
    "    u_, i_, time_, label_, his_, flag_ = [],[],[],[],[],[]\n",
    "    if len(seqs[0]) == 7:\n",
    "        his_label_ = []\n",
    "    for re_ in seqs:\n",
    "        u_.append(re_[0])\n",
    "        i_.append(re_[1])\n",
    "        time_.append(re_[2])\n",
    "        his_.append(re_[3])\n",
    "        if len(seqs[0]) == 7:\n",
    "            his_label_.append(re_[4])\n",
    "        label_.append(re_[-2])\n",
    "        flag_.append(re_[-1])\n",
    "    columns = {\"uid\":u_,'iid':i_,'label':label_, 'timestamp': time_ , 'his':his_, 'flag': flag_}\n",
    "    if len(seqs[0]) == 7:\n",
    "        columns['his_label']=his_label_\n",
    "    return pd.DataFrame(columns)"
   ]
  },
  {
   "cell_type": "code",
   "execution_count": 97,
   "metadata": {},
   "outputs": [],
   "source": [
    "# u_, i_, title_, time_, label_, his_, his_title_, his_label_, flag_ = [],[],[],[],[],[],[],[],[]\n",
    "# for re_ in results:\n",
    "#     u_.append(re_[0])\n",
    "#     i_.append(re_[1])\n",
    "#     title_.append(re_[2])\n",
    "#     time_.append(re_[3])\n",
    "#     his_.append(re_[4])\n",
    "#     his_label_.append(re_[5])\n",
    "#     his_title_.append(re_[6])\n",
    "#     label_.append(re_[7])\n",
    "#     flag_.append(re_[8])"
   ]
  },
  {
   "cell_type": "code",
   "execution_count": 98,
   "metadata": {},
   "outputs": [],
   "source": [
    "data_ = pd.DataFrame({\"uid\":u_,'iid':i_,'label':label_, 'timestamp': time_ , 'his':his_,'his_title':his_title_,'title':title_, 'his_label':his_label_, 'flag': flag_})\n"
   ]
  },
  {
   "cell_type": "code",
   "execution_count": 130,
   "metadata": {},
   "outputs": [],
   "source": [
    "data_ = list2pd(results)"
   ]
  },
  {
   "cell_type": "code",
   "execution_count": 131,
   "metadata": {},
   "outputs": [
    {
     "data": {
      "text/html": [
       "<div>\n",
       "<style scoped>\n",
       "    .dataframe tbody tr th:only-of-type {\n",
       "        vertical-align: middle;\n",
       "    }\n",
       "\n",
       "    .dataframe tbody tr th {\n",
       "        vertical-align: top;\n",
       "    }\n",
       "\n",
       "    .dataframe thead th {\n",
       "        text-align: right;\n",
       "    }\n",
       "</style>\n",
       "<table border=\"1\" class=\"dataframe\">\n",
       "  <thead>\n",
       "    <tr style=\"text-align: right;\">\n",
       "      <th></th>\n",
       "      <th>uid</th>\n",
       "      <th>iid</th>\n",
       "      <th>label</th>\n",
       "      <th>timestamp</th>\n",
       "      <th>his</th>\n",
       "      <th>flag</th>\n",
       "    </tr>\n",
       "  </thead>\n",
       "  <tbody>\n",
       "    <tr>\n",
       "      <th>0</th>\n",
       "      <td>1</td>\n",
       "      <td>4114</td>\n",
       "      <td>1</td>\n",
       "      <td>1.483920e+09</td>\n",
       "      <td>[0]</td>\n",
       "      <td>-1.0</td>\n",
       "    </tr>\n",
       "    <tr>\n",
       "      <th>1</th>\n",
       "      <td>1</td>\n",
       "      <td>34136</td>\n",
       "      <td>1</td>\n",
       "      <td>1.484698e+09</td>\n",
       "      <td>[0, 4114]</td>\n",
       "      <td>-1.0</td>\n",
       "    </tr>\n",
       "    <tr>\n",
       "      <th>2</th>\n",
       "      <td>1</td>\n",
       "      <td>26120</td>\n",
       "      <td>0</td>\n",
       "      <td>1.485130e+09</td>\n",
       "      <td>[0, 4114, 34136]</td>\n",
       "      <td>-1.0</td>\n",
       "    </tr>\n",
       "    <tr>\n",
       "      <th>3</th>\n",
       "      <td>1</td>\n",
       "      <td>139</td>\n",
       "      <td>0</td>\n",
       "      <td>1.485389e+09</td>\n",
       "      <td>[0, 4114, 34136]</td>\n",
       "      <td>-1.0</td>\n",
       "    </tr>\n",
       "    <tr>\n",
       "      <th>4</th>\n",
       "      <td>1</td>\n",
       "      <td>15384</td>\n",
       "      <td>0</td>\n",
       "      <td>1.485475e+09</td>\n",
       "      <td>[0, 4114, 34136]</td>\n",
       "      <td>-1.0</td>\n",
       "    </tr>\n",
       "    <tr>\n",
       "      <th>5</th>\n",
       "      <td>1</td>\n",
       "      <td>2001</td>\n",
       "      <td>0</td>\n",
       "      <td>1.485734e+09</td>\n",
       "      <td>[0, 4114, 34136]</td>\n",
       "      <td>-1.0</td>\n",
       "    </tr>\n",
       "    <tr>\n",
       "      <th>6</th>\n",
       "      <td>1</td>\n",
       "      <td>2396</td>\n",
       "      <td>1</td>\n",
       "      <td>1.486166e+09</td>\n",
       "      <td>[0, 4114, 34136]</td>\n",
       "      <td>-1.0</td>\n",
       "    </tr>\n",
       "    <tr>\n",
       "      <th>7</th>\n",
       "      <td>1</td>\n",
       "      <td>7264</td>\n",
       "      <td>1</td>\n",
       "      <td>1.486426e+09</td>\n",
       "      <td>[0, 4114, 34136, 2396]</td>\n",
       "      <td>-1.0</td>\n",
       "    </tr>\n",
       "    <tr>\n",
       "      <th>8</th>\n",
       "      <td>1</td>\n",
       "      <td>43786</td>\n",
       "      <td>0</td>\n",
       "      <td>1.487203e+09</td>\n",
       "      <td>[0, 4114, 34136, 2396, 7264]</td>\n",
       "      <td>-1.0</td>\n",
       "    </tr>\n",
       "    <tr>\n",
       "      <th>9</th>\n",
       "      <td>1</td>\n",
       "      <td>22828</td>\n",
       "      <td>1</td>\n",
       "      <td>1.487549e+09</td>\n",
       "      <td>[0, 4114, 34136, 2396, 7264]</td>\n",
       "      <td>-1.0</td>\n",
       "    </tr>\n",
       "  </tbody>\n",
       "</table>\n",
       "</div>"
      ],
      "text/plain": [
       "   uid    iid  label     timestamp                           his  flag\n",
       "0    1   4114      1  1.483920e+09                           [0]  -1.0\n",
       "1    1  34136      1  1.484698e+09                     [0, 4114]  -1.0\n",
       "2    1  26120      0  1.485130e+09              [0, 4114, 34136]  -1.0\n",
       "3    1    139      0  1.485389e+09              [0, 4114, 34136]  -1.0\n",
       "4    1  15384      0  1.485475e+09              [0, 4114, 34136]  -1.0\n",
       "5    1   2001      0  1.485734e+09              [0, 4114, 34136]  -1.0\n",
       "6    1   2396      1  1.486166e+09              [0, 4114, 34136]  -1.0\n",
       "7    1   7264      1  1.486426e+09        [0, 4114, 34136, 2396]  -1.0\n",
       "8    1  43786      0  1.487203e+09  [0, 4114, 34136, 2396, 7264]  -1.0\n",
       "9    1  22828      1  1.487549e+09  [0, 4114, 34136, 2396, 7264]  -1.0"
      ]
     },
     "execution_count": 131,
     "metadata": {},
     "output_type": "execute_result"
    }
   ],
   "source": [
    "data_.head(10)"
   ]
  },
  {
   "cell_type": "code",
   "execution_count": 118,
   "metadata": {},
   "outputs": [
    {
     "data": {
      "text/plain": [
       "count    763389.000000\n",
       "mean          0.633537\n",
       "std           0.481838\n",
       "min           0.000000\n",
       "25%           0.000000\n",
       "50%           1.000000\n",
       "75%           1.000000\n",
       "max           1.000000\n",
       "Name: label, dtype: float64"
      ]
     },
     "execution_count": 118,
     "metadata": {},
     "output_type": "execute_result"
    }
   ],
   "source": [
    "data_.label.describe()"
   ]
  },
  {
   "cell_type": "code",
   "execution_count": 132,
   "metadata": {},
   "outputs": [
    {
     "data": {
      "text/html": [
       "<div>\n",
       "<style scoped>\n",
       "    .dataframe tbody tr th:only-of-type {\n",
       "        vertical-align: middle;\n",
       "    }\n",
       "\n",
       "    .dataframe tbody tr th {\n",
       "        vertical-align: top;\n",
       "    }\n",
       "\n",
       "    .dataframe thead th {\n",
       "        text-align: right;\n",
       "    }\n",
       "</style>\n",
       "<table border=\"1\" class=\"dataframe\">\n",
       "  <thead>\n",
       "    <tr style=\"text-align: right;\">\n",
       "      <th></th>\n",
       "      <th>uid</th>\n",
       "      <th>iid</th>\n",
       "      <th>label</th>\n",
       "      <th>timestamp</th>\n",
       "      <th>his</th>\n",
       "      <th>flag</th>\n",
       "    </tr>\n",
       "  </thead>\n",
       "  <tbody>\n",
       "    <tr>\n",
       "      <th>763384</th>\n",
       "      <td>22684</td>\n",
       "      <td>46234</td>\n",
       "      <td>1</td>\n",
       "      <td>1.510790e+09</td>\n",
       "      <td>[0, 46234, 46234, 46234, 46234, 46234, 46234, ...</td>\n",
       "      <td>0.0</td>\n",
       "    </tr>\n",
       "    <tr>\n",
       "      <th>763385</th>\n",
       "      <td>22684</td>\n",
       "      <td>46234</td>\n",
       "      <td>1</td>\n",
       "      <td>1.510790e+09</td>\n",
       "      <td>[0, 46234, 46234, 46234, 46234, 46234, 46234, ...</td>\n",
       "      <td>0.0</td>\n",
       "    </tr>\n",
       "    <tr>\n",
       "      <th>763386</th>\n",
       "      <td>22684</td>\n",
       "      <td>46234</td>\n",
       "      <td>1</td>\n",
       "      <td>1.510790e+09</td>\n",
       "      <td>[0, 46234, 46234, 46234, 46234, 46234, 46234, ...</td>\n",
       "      <td>0.0</td>\n",
       "    </tr>\n",
       "    <tr>\n",
       "      <th>763387</th>\n",
       "      <td>22684</td>\n",
       "      <td>46234</td>\n",
       "      <td>1</td>\n",
       "      <td>1.510790e+09</td>\n",
       "      <td>[0, 46234, 46234, 46234, 46234, 46234, 46234, ...</td>\n",
       "      <td>0.0</td>\n",
       "    </tr>\n",
       "    <tr>\n",
       "      <th>763388</th>\n",
       "      <td>22685</td>\n",
       "      <td>46454</td>\n",
       "      <td>1</td>\n",
       "      <td>1.502237e+09</td>\n",
       "      <td>[0]</td>\n",
       "      <td>-1.0</td>\n",
       "    </tr>\n",
       "  </tbody>\n",
       "</table>\n",
       "</div>"
      ],
      "text/plain": [
       "          uid    iid  label     timestamp  \\\n",
       "763384  22684  46234      1  1.510790e+09   \n",
       "763385  22684  46234      1  1.510790e+09   \n",
       "763386  22684  46234      1  1.510790e+09   \n",
       "763387  22684  46234      1  1.510790e+09   \n",
       "763388  22685  46454      1  1.502237e+09   \n",
       "\n",
       "                                                      his  flag  \n",
       "763384  [0, 46234, 46234, 46234, 46234, 46234, 46234, ...   0.0  \n",
       "763385  [0, 46234, 46234, 46234, 46234, 46234, 46234, ...   0.0  \n",
       "763386  [0, 46234, 46234, 46234, 46234, 46234, 46234, ...   0.0  \n",
       "763387  [0, 46234, 46234, 46234, 46234, 46234, 46234, ...   0.0  \n",
       "763388                                                [0]  -1.0  "
      ]
     },
     "execution_count": 132,
     "metadata": {},
     "output_type": "execute_result"
    }
   ],
   "source": [
    "data_.tail(5)"
   ]
  },
  {
   "cell_type": "code",
   "execution_count": 133,
   "metadata": {},
   "outputs": [
    {
     "data": {
      "text/plain": [
       "((650865, 6), (56262, 6), (56262, 6))"
      ]
     },
     "execution_count": 133,
     "metadata": {},
     "output_type": "execute_result"
    }
   ],
   "source": [
    "train_ = data_[data_['flag'].isin([-1])].copy()\n",
    "valid_ = data_[data_['flag'].isin([0])].copy()\n",
    "test_ = data_[data_['flag'].isin([1])].copy()\n",
    "train_.shape,valid_.shape,test_.shape"
   ]
  },
  {
   "cell_type": "code",
   "execution_count": 134,
   "metadata": {},
   "outputs": [],
   "source": [
    "train_user = train_['uid'].unique()\n",
    "train_item = train_['iid'].unique()\n",
    "valid_['not_cold'] = valid_[['uid','iid']].apply(lambda x: x.uid in train_user and x.iid in train_item, axis=1).astype(\"int\")\n",
    "test_['not_cold'] = test_[['uid','iid']].apply(lambda x: x.uid in train_user and x.iid in train_item, axis=1).astype(\"int\")"
   ]
  },
  {
   "cell_type": "code",
   "execution_count": 123,
   "metadata": {},
   "outputs": [
    {
     "data": {
      "text/plain": [
       "(count    56262.000000\n",
       " mean         0.628897\n",
       " std          0.483104\n",
       " min          0.000000\n",
       " 25%          0.000000\n",
       " 50%          1.000000\n",
       " 75%          1.000000\n",
       " max          1.000000\n",
       " Name: not_cold, dtype: float64,\n",
       " count    56262.000000\n",
       " mean         0.546319\n",
       " std          0.497854\n",
       " min          0.000000\n",
       " 25%          0.000000\n",
       " 50%          1.000000\n",
       " 75%          1.000000\n",
       " max          1.000000\n",
       " Name: not_cold, dtype: float64)"
      ]
     },
     "execution_count": 123,
     "metadata": {},
     "output_type": "execute_result"
    }
   ],
   "source": [
    "valid_['not_cold'].describe(), test_['not_cold'].describe()"
   ]
  },
  {
   "cell_type": "code",
   "execution_count": 135,
   "metadata": {},
   "outputs": [
    {
     "data": {
      "text/html": [
       "<div>\n",
       "<style scoped>\n",
       "    .dataframe tbody tr th:only-of-type {\n",
       "        vertical-align: middle;\n",
       "    }\n",
       "\n",
       "    .dataframe tbody tr th {\n",
       "        vertical-align: top;\n",
       "    }\n",
       "\n",
       "    .dataframe thead th {\n",
       "        text-align: right;\n",
       "    }\n",
       "</style>\n",
       "<table border=\"1\" class=\"dataframe\">\n",
       "  <thead>\n",
       "    <tr style=\"text-align: right;\">\n",
       "      <th></th>\n",
       "      <th>uid</th>\n",
       "      <th>iid</th>\n",
       "      <th>label</th>\n",
       "      <th>timestamp</th>\n",
       "      <th>his</th>\n",
       "      <th>flag</th>\n",
       "      <th>not_cold</th>\n",
       "    </tr>\n",
       "  </thead>\n",
       "  <tbody>\n",
       "    <tr>\n",
       "      <th>0</th>\n",
       "      <td>1</td>\n",
       "      <td>4114</td>\n",
       "      <td>1</td>\n",
       "      <td>1.483920e+09</td>\n",
       "      <td>[0]</td>\n",
       "      <td>-1.0</td>\n",
       "      <td>1</td>\n",
       "    </tr>\n",
       "    <tr>\n",
       "      <th>1</th>\n",
       "      <td>1</td>\n",
       "      <td>34136</td>\n",
       "      <td>1</td>\n",
       "      <td>1.484698e+09</td>\n",
       "      <td>[0, 4114]</td>\n",
       "      <td>-1.0</td>\n",
       "      <td>1</td>\n",
       "    </tr>\n",
       "  </tbody>\n",
       "</table>\n",
       "</div>"
      ],
      "text/plain": [
       "   uid    iid  label     timestamp        his  flag  not_cold\n",
       "0    1   4114      1  1.483920e+09        [0]  -1.0         1\n",
       "1    1  34136      1  1.484698e+09  [0, 4114]  -1.0         1"
      ]
     },
     "execution_count": 135,
     "metadata": {},
     "output_type": "execute_result"
    }
   ],
   "source": [
    "train_['not_cold'] = pd.DataFrame(np.ones(train_.shape[0]),index=train_.index).astype(\"int\")\n",
    "train_.head(2)"
   ]
  },
  {
   "cell_type": "code",
   "execution_count": 136,
   "metadata": {},
   "outputs": [],
   "source": [
    "save_path = \"/data/yuqihang/datasets/collm-datasets/booknew/\"\n",
    "train_.to_pickle(os.path.join(save_path,\"train_ood2.pkl\"))\n",
    "valid_.to_pickle(os.path.join(save_path,\"valid_ood2.pkl\"))\n",
    "test_.to_pickle(os.path.join(save_path,\"test_ood2.pkl\"))"
   ]
  },
  {
   "cell_type": "code",
   "execution_count": 137,
   "metadata": {},
   "outputs": [
    {
     "data": {
      "text/html": [
       "<div>\n",
       "<style scoped>\n",
       "    .dataframe tbody tr th:only-of-type {\n",
       "        vertical-align: middle;\n",
       "    }\n",
       "\n",
       "    .dataframe tbody tr th {\n",
       "        vertical-align: top;\n",
       "    }\n",
       "\n",
       "    .dataframe thead th {\n",
       "        text-align: right;\n",
       "    }\n",
       "</style>\n",
       "<table border=\"1\" class=\"dataframe\">\n",
       "  <thead>\n",
       "    <tr style=\"text-align: right;\">\n",
       "      <th></th>\n",
       "      <th>uid</th>\n",
       "      <th>iid</th>\n",
       "      <th>label</th>\n",
       "      <th>timestamp</th>\n",
       "      <th>his</th>\n",
       "      <th>flag</th>\n",
       "      <th>not_cold</th>\n",
       "    </tr>\n",
       "  </thead>\n",
       "  <tbody>\n",
       "    <tr>\n",
       "      <th>0</th>\n",
       "      <td>1</td>\n",
       "      <td>4114</td>\n",
       "      <td>1</td>\n",
       "      <td>1.483920e+09</td>\n",
       "      <td>[0]</td>\n",
       "      <td>-1.0</td>\n",
       "      <td>1</td>\n",
       "    </tr>\n",
       "    <tr>\n",
       "      <th>1</th>\n",
       "      <td>1</td>\n",
       "      <td>34136</td>\n",
       "      <td>1</td>\n",
       "      <td>1.484698e+09</td>\n",
       "      <td>[0, 4114]</td>\n",
       "      <td>-1.0</td>\n",
       "      <td>1</td>\n",
       "    </tr>\n",
       "  </tbody>\n",
       "</table>\n",
       "</div>"
      ],
      "text/plain": [
       "   uid    iid  label     timestamp        his  flag  not_cold\n",
       "0    1   4114      1  1.483920e+09        [0]  -1.0         1\n",
       "1    1  34136      1  1.484698e+09  [0, 4114]  -1.0         1"
      ]
     },
     "execution_count": 137,
     "metadata": {},
     "output_type": "execute_result"
    }
   ],
   "source": [
    "train_.head(2)"
   ]
  },
  {
   "cell_type": "code",
   "execution_count": 138,
   "metadata": {},
   "outputs": [
    {
     "data": {
      "text/plain": [
       "(56262, 7)"
      ]
     },
     "execution_count": 138,
     "metadata": {},
     "output_type": "execute_result"
    }
   ],
   "source": [
    "valid_.shape"
   ]
  },
  {
   "cell_type": "code",
   "execution_count": null,
   "metadata": {},
   "outputs": [],
   "source": [
    "valid_small = valid_.sample(frac=0.25,random_state=2025)\n",
    "valid_small.to_pickle(os.path.join(save_path,\"valid_small_ood2.pkl\"))\n",
    "from collections import Counter\n",
    "count = Counter(list(test_['uid']))\n",
    "filter_uids = []\n",
    "for uid,c in count.items():\n",
    "    if c>5:\n",
    "        filter_uids.append(uid)\n",
    "test_small = test_[test_['uid'].isin(filter_uids[::2])]\n",
    "# test_small = test_.sample(frac=0.25,random_state=2025)\n",
    "test_small.to_pickle(os.path.join(save_path,\"test_small_ood2.pkl\"))\n",
    "test_tiny= test_.sample(n=200, random_state=2025)\n",
    "test_tiny.to_pickle(os.path.join(save_path,\"test_tiny_ood2.pkl\"))"
   ]
  },
  {
   "cell_type": "code",
   "execution_count": 140,
   "metadata": {},
   "outputs": [
    {
     "data": {
      "text/plain": [
       "(14066, 7)"
      ]
     },
     "execution_count": 140,
     "metadata": {},
     "output_type": "execute_result"
    }
   ],
   "source": [
    "valid_small.shape"
   ]
  },
  {
   "cell_type": "code",
   "execution_count": 110,
   "metadata": {},
   "outputs": [
    {
     "data": {
      "text/plain": [
       "count    652634.000000\n",
       "mean         20.320345\n",
       "std          34.848066\n",
       "min           1.000000\n",
       "25%           4.000000\n",
       "50%          10.000000\n",
       "75%          23.000000\n",
       "max         745.000000\n",
       "Name: his, dtype: float64"
      ]
     },
     "execution_count": 110,
     "metadata": {},
     "output_type": "execute_result"
    }
   ],
   "source": [
    "train_['his'].apply(len).describe()"
   ]
  },
  {
   "cell_type": "code",
   "execution_count": 111,
   "metadata": {},
   "outputs": [
    {
     "data": {
      "text/plain": [
       "(0.6336170043240162, 0.6288648821244213, 0.6356056977631136)"
      ]
     },
     "execution_count": 111,
     "metadata": {},
     "output_type": "execute_result"
    }
   ],
   "source": [
    "train_.label.mean(), test_.label.mean(), valid_.label.mean()  "
   ]
  },
  {
   "cell_type": "code",
   "execution_count": 94,
   "metadata": {},
   "outputs": [
    {
     "data": {
      "text/html": [
       "<div>\n",
       "<style scoped>\n",
       "    .dataframe tbody tr th:only-of-type {\n",
       "        vertical-align: middle;\n",
       "    }\n",
       "\n",
       "    .dataframe tbody tr th {\n",
       "        vertical-align: top;\n",
       "    }\n",
       "\n",
       "    .dataframe thead tr th {\n",
       "        text-align: left;\n",
       "    }\n",
       "</style>\n",
       "<table border=\"1\" class=\"dataframe\">\n",
       "  <thead>\n",
       "    <tr>\n",
       "      <th></th>\n",
       "      <th colspan=\"2\" halign=\"left\">label</th>\n",
       "    </tr>\n",
       "    <tr>\n",
       "      <th></th>\n",
       "      <th>count</th>\n",
       "      <th>sum</th>\n",
       "    </tr>\n",
       "  </thead>\n",
       "  <tbody>\n",
       "    <tr>\n",
       "      <th>count</th>\n",
       "      <td>11673.000000</td>\n",
       "      <td>11673.000000</td>\n",
       "    </tr>\n",
       "    <tr>\n",
       "      <th>mean</th>\n",
       "      <td>3.219481</td>\n",
       "      <td>1.986807</td>\n",
       "    </tr>\n",
       "    <tr>\n",
       "      <th>std</th>\n",
       "      <td>3.586153</td>\n",
       "      <td>2.719840</td>\n",
       "    </tr>\n",
       "    <tr>\n",
       "      <th>min</th>\n",
       "      <td>1.000000</td>\n",
       "      <td>0.000000</td>\n",
       "    </tr>\n",
       "    <tr>\n",
       "      <th>25%</th>\n",
       "      <td>1.000000</td>\n",
       "      <td>1.000000</td>\n",
       "    </tr>\n",
       "    <tr>\n",
       "      <th>50%</th>\n",
       "      <td>2.000000</td>\n",
       "      <td>1.000000</td>\n",
       "    </tr>\n",
       "    <tr>\n",
       "      <th>75%</th>\n",
       "      <td>4.000000</td>\n",
       "      <td>2.000000</td>\n",
       "    </tr>\n",
       "    <tr>\n",
       "      <th>max</th>\n",
       "      <td>57.000000</td>\n",
       "      <td>49.000000</td>\n",
       "    </tr>\n",
       "  </tbody>\n",
       "</table>\n",
       "</div>"
      ],
      "text/plain": [
       "              label              \n",
       "              count           sum\n",
       "count  11673.000000  11673.000000\n",
       "mean       3.219481      1.986807\n",
       "std        3.586153      2.719840\n",
       "min        1.000000      0.000000\n",
       "25%        1.000000      1.000000\n",
       "50%        2.000000      1.000000\n",
       "75%        4.000000      2.000000\n",
       "max       57.000000     49.000000"
      ]
     },
     "execution_count": 94,
     "metadata": {},
     "output_type": "execute_result"
    }
   ],
   "source": [
    "test_.groupby(\"uid\").agg({\"label\":['count','sum']}).describe()"
   ]
  },
  {
   "cell_type": "code",
   "execution_count": 82,
   "metadata": {},
   "outputs": [
    {
     "data": {
      "text/html": [
       "<div>\n",
       "<style scoped>\n",
       "    .dataframe tbody tr th:only-of-type {\n",
       "        vertical-align: middle;\n",
       "    }\n",
       "\n",
       "    .dataframe tbody tr th {\n",
       "        vertical-align: top;\n",
       "    }\n",
       "\n",
       "    .dataframe thead tr th {\n",
       "        text-align: left;\n",
       "    }\n",
       "</style>\n",
       "<table border=\"1\" class=\"dataframe\">\n",
       "  <thead>\n",
       "    <tr>\n",
       "      <th></th>\n",
       "      <th colspan=\"2\" halign=\"left\">label</th>\n",
       "    </tr>\n",
       "    <tr>\n",
       "      <th></th>\n",
       "      <th>count</th>\n",
       "      <th>sum</th>\n",
       "    </tr>\n",
       "  </thead>\n",
       "  <tbody>\n",
       "    <tr>\n",
       "      <th>count</th>\n",
       "      <td>49923.000000</td>\n",
       "      <td>49923.000000</td>\n",
       "    </tr>\n",
       "    <tr>\n",
       "      <th>mean</th>\n",
       "      <td>15.811730</td>\n",
       "      <td>9.997476</td>\n",
       "    </tr>\n",
       "    <tr>\n",
       "      <th>std</th>\n",
       "      <td>28.974308</td>\n",
       "      <td>20.085800</td>\n",
       "    </tr>\n",
       "    <tr>\n",
       "      <th>min</th>\n",
       "      <td>1.000000</td>\n",
       "      <td>0.000000</td>\n",
       "    </tr>\n",
       "    <tr>\n",
       "      <th>25%</th>\n",
       "      <td>3.000000</td>\n",
       "      <td>2.000000</td>\n",
       "    </tr>\n",
       "    <tr>\n",
       "      <th>50%</th>\n",
       "      <td>7.000000</td>\n",
       "      <td>4.000000</td>\n",
       "    </tr>\n",
       "    <tr>\n",
       "      <th>75%</th>\n",
       "      <td>17.000000</td>\n",
       "      <td>10.000000</td>\n",
       "    </tr>\n",
       "    <tr>\n",
       "      <th>max</th>\n",
       "      <td>1060.000000</td>\n",
       "      <td>464.000000</td>\n",
       "    </tr>\n",
       "  </tbody>\n",
       "</table>\n",
       "</div>"
      ],
      "text/plain": [
       "              label              \n",
       "              count           sum\n",
       "count  49923.000000  49923.000000\n",
       "mean      15.811730      9.997476\n",
       "std       28.974308     20.085800\n",
       "min        1.000000      0.000000\n",
       "25%        3.000000      2.000000\n",
       "50%        7.000000      4.000000\n",
       "75%       17.000000     10.000000\n",
       "max     1060.000000    464.000000"
      ]
     },
     "execution_count": 82,
     "metadata": {},
     "output_type": "execute_result"
    }
   ],
   "source": [
    "train_.groupby(\"iid\").agg({\"label\":['count','sum']}).describe()"
   ]
  },
  {
   "cell_type": "code",
   "execution_count": 83,
   "metadata": {},
   "outputs": [
    {
     "data": {
      "text/plain": [
       "(10883,)"
      ]
     },
     "execution_count": 83,
     "metadata": {},
     "output_type": "execute_result"
    }
   ],
   "source": [
    "valid_[valid_['uid'].isin(train_['uid'].unique())].uid.unique().shape"
   ]
  },
  {
   "cell_type": "code",
   "execution_count": 84,
   "metadata": {},
   "outputs": [
    {
     "data": {
      "text/plain": [
       "array([ 4756,  3059, 37440, ..., 50848, 45323, 46200])"
      ]
     },
     "execution_count": 84,
     "metadata": {},
     "output_type": "execute_result"
    }
   ],
   "source": [
    "train_['iid'].unique()"
   ]
  },
  {
   "cell_type": "code",
   "execution_count": 85,
   "metadata": {},
   "outputs": [
    {
     "data": {
      "text/plain": [
       "(9873,)"
      ]
     },
     "execution_count": 85,
     "metadata": {},
     "output_type": "execute_result"
    }
   ],
   "source": [
    "valid_[valid_['iid'].isin(train_['iid'].unique())].iid.unique().shape"
   ]
  },
  {
   "cell_type": "code",
   "execution_count": 86,
   "metadata": {},
   "outputs": [
    {
     "data": {
      "text/plain": [
       "((10414,), (11911,))"
      ]
     },
     "execution_count": 86,
     "metadata": {},
     "output_type": "execute_result"
    }
   ],
   "source": [
    "valid_.iid.unique().shape, test_.iid.unique().shape"
   ]
  },
  {
   "cell_type": "code",
   "execution_count": 87,
   "metadata": {},
   "outputs": [
    {
     "data": {
      "text/plain": [
       "((10946,), (10883,))"
      ]
     },
     "execution_count": 87,
     "metadata": {},
     "output_type": "execute_result"
    }
   ],
   "source": [
    "valid_.uid.unique().shape, test_.uid.unique().shape"
   ]
  },
  {
   "cell_type": "code",
   "execution_count": 88,
   "metadata": {},
   "outputs": [
    {
     "data": {
      "text/plain": [
       "((24722,), (49923,))"
      ]
     },
     "execution_count": 88,
     "metadata": {},
     "output_type": "execute_result"
    }
   ],
   "source": [
    "train_.uid.unique().shape, train_.iid.unique().shape"
   ]
  },
  {
   "cell_type": "code",
   "execution_count": 89,
   "metadata": {},
   "outputs": [
    {
     "data": {
      "text/plain": [
       "((86,), (63,))"
      ]
     },
     "execution_count": 89,
     "metadata": {},
     "output_type": "execute_result"
    }
   ],
   "source": [
    "\n",
    "np.setdiff1d(test_.uid.unique(),train_.uid.unique()).shape, np.setdiff1d(valid_.uid.unique(),train_.uid.unique()).shape"
   ]
  },
  {
   "cell_type": "code",
   "execution_count": 90,
   "metadata": {},
   "outputs": [
    {
     "data": {
      "text/plain": [
       "((683,), (541,))"
      ]
     },
     "execution_count": 90,
     "metadata": {},
     "output_type": "execute_result"
    }
   ],
   "source": [
    "np.setdiff1d(test_.iid.unique(),train_.iid.unique()).shape, np.setdiff1d(valid_.iid.unique(),train_.iid.unique()).shape"
   ]
  },
  {
   "cell_type": "code",
   "execution_count": 91,
   "metadata": {},
   "outputs": [
    {
     "data": {
      "text/plain": [
       "(24861, 50859)"
      ]
     },
     "execution_count": 91,
     "metadata": {},
     "output_type": "execute_result"
    }
   ],
   "source": [
    "max(train_.uid.max(),test_.uid.max(),valid_.uid.max())+1, max(train_.iid.max(),test_.iid.max(),valid_.iid.max())+1"
   ]
  },
  {
   "cell_type": "code",
   "execution_count": 92,
   "metadata": {},
   "outputs": [
    {
     "data": {
      "text/html": [
       "<div>\n",
       "<style scoped>\n",
       "    .dataframe tbody tr th:only-of-type {\n",
       "        vertical-align: middle;\n",
       "    }\n",
       "\n",
       "    .dataframe tbody tr th {\n",
       "        vertical-align: top;\n",
       "    }\n",
       "\n",
       "    .dataframe thead tr th {\n",
       "        text-align: left;\n",
       "    }\n",
       "</style>\n",
       "<table border=\"1\" class=\"dataframe\">\n",
       "  <thead>\n",
       "    <tr>\n",
       "      <th></th>\n",
       "      <th colspan=\"2\" halign=\"left\">label</th>\n",
       "    </tr>\n",
       "    <tr>\n",
       "      <th></th>\n",
       "      <th>count</th>\n",
       "      <th>mean</th>\n",
       "    </tr>\n",
       "  </thead>\n",
       "  <tbody>\n",
       "    <tr>\n",
       "      <th>count</th>\n",
       "      <td>10946.000000</td>\n",
       "      <td>10946.000000</td>\n",
       "    </tr>\n",
       "    <tr>\n",
       "      <th>mean</th>\n",
       "      <td>2.572629</td>\n",
       "      <td>0.630332</td>\n",
       "    </tr>\n",
       "    <tr>\n",
       "      <th>std</th>\n",
       "      <td>2.696948</td>\n",
       "      <td>0.420832</td>\n",
       "    </tr>\n",
       "    <tr>\n",
       "      <th>min</th>\n",
       "      <td>1.000000</td>\n",
       "      <td>0.000000</td>\n",
       "    </tr>\n",
       "    <tr>\n",
       "      <th>25%</th>\n",
       "      <td>1.000000</td>\n",
       "      <td>0.142857</td>\n",
       "    </tr>\n",
       "    <tr>\n",
       "      <th>50%</th>\n",
       "      <td>2.000000</td>\n",
       "      <td>0.875000</td>\n",
       "    </tr>\n",
       "    <tr>\n",
       "      <th>75%</th>\n",
       "      <td>3.000000</td>\n",
       "      <td>1.000000</td>\n",
       "    </tr>\n",
       "    <tr>\n",
       "      <th>max</th>\n",
       "      <td>46.000000</td>\n",
       "      <td>1.000000</td>\n",
       "    </tr>\n",
       "  </tbody>\n",
       "</table>\n",
       "</div>"
      ],
      "text/plain": [
       "              label              \n",
       "              count          mean\n",
       "count  10946.000000  10946.000000\n",
       "mean       2.572629      0.630332\n",
       "std        2.696948      0.420832\n",
       "min        1.000000      0.000000\n",
       "25%        1.000000      0.142857\n",
       "50%        2.000000      0.875000\n",
       "75%        3.000000      1.000000\n",
       "max       46.000000      1.000000"
      ]
     },
     "execution_count": 92,
     "metadata": {},
     "output_type": "execute_result"
    }
   ],
   "source": [
    "valid_.groupby(\"uid\").agg({\"label\":['count','mean']}).describe()"
   ]
  },
  {
   "cell_type": "code",
   "execution_count": 93,
   "metadata": {},
   "outputs": [
    {
     "data": {
      "text/html": [
       "<div>\n",
       "<style scoped>\n",
       "    .dataframe tbody tr th:only-of-type {\n",
       "        vertical-align: middle;\n",
       "    }\n",
       "\n",
       "    .dataframe tbody tr th {\n",
       "        vertical-align: top;\n",
       "    }\n",
       "\n",
       "    .dataframe thead tr th {\n",
       "        text-align: left;\n",
       "    }\n",
       "</style>\n",
       "<table border=\"1\" class=\"dataframe\">\n",
       "  <thead>\n",
       "    <tr>\n",
       "      <th></th>\n",
       "      <th colspan=\"2\" halign=\"left\">label</th>\n",
       "    </tr>\n",
       "    <tr>\n",
       "      <th></th>\n",
       "      <th>count</th>\n",
       "      <th>mean</th>\n",
       "    </tr>\n",
       "  </thead>\n",
       "  <tbody>\n",
       "    <tr>\n",
       "      <th>count</th>\n",
       "      <td>10883.000000</td>\n",
       "      <td>10883.000000</td>\n",
       "    </tr>\n",
       "    <tr>\n",
       "      <th>mean</th>\n",
       "      <td>2.587522</td>\n",
       "      <td>0.630343</td>\n",
       "    </tr>\n",
       "    <tr>\n",
       "      <th>std</th>\n",
       "      <td>2.851553</td>\n",
       "      <td>0.423754</td>\n",
       "    </tr>\n",
       "    <tr>\n",
       "      <th>min</th>\n",
       "      <td>1.000000</td>\n",
       "      <td>0.000000</td>\n",
       "    </tr>\n",
       "    <tr>\n",
       "      <th>25%</th>\n",
       "      <td>1.000000</td>\n",
       "      <td>0.000000</td>\n",
       "    </tr>\n",
       "    <tr>\n",
       "      <th>50%</th>\n",
       "      <td>2.000000</td>\n",
       "      <td>1.000000</td>\n",
       "    </tr>\n",
       "    <tr>\n",
       "      <th>75%</th>\n",
       "      <td>3.000000</td>\n",
       "      <td>1.000000</td>\n",
       "    </tr>\n",
       "    <tr>\n",
       "      <th>max</th>\n",
       "      <td>92.000000</td>\n",
       "      <td>1.000000</td>\n",
       "    </tr>\n",
       "  </tbody>\n",
       "</table>\n",
       "</div>"
      ],
      "text/plain": [
       "              label              \n",
       "              count          mean\n",
       "count  10883.000000  10883.000000\n",
       "mean       2.587522      0.630343\n",
       "std        2.851553      0.423754\n",
       "min        1.000000      0.000000\n",
       "25%        1.000000      0.000000\n",
       "50%        2.000000      1.000000\n",
       "75%        3.000000      1.000000\n",
       "max       92.000000      1.000000"
      ]
     },
     "execution_count": 93,
     "metadata": {},
     "output_type": "execute_result"
    }
   ],
   "source": [
    "test_.groupby(\"uid\").agg({\"label\":['count','mean']}).describe()"
   ]
  },
  {
   "cell_type": "markdown",
   "metadata": {},
   "source": [
    "## read info"
   ]
  },
  {
   "cell_type": "code",
   "execution_count": 9,
   "metadata": {},
   "outputs": [],
   "source": [
    "# import pandas as pd\n",
    "save_path = \"/data/yuqihang/datasets/collm-datasets/booknew/\"\n",
    "# train_.to_pickle(os.path.join(save_path,\"train_ood2.pkl\"))\n",
    "# valid_.to_pickle(os.path.join(save_path,\"valid_ood2.pkl\"))\n",
    "test_ = pd.read_pickle(os.path.join(save_path,\"test_ood2.pkl\"))\n",
    "# data = pd.concat([train_,valid_,test_],axis=0)"
   ]
  },
  {
   "cell_type": "code",
   "execution_count": 10,
   "metadata": {},
   "outputs": [],
   "source": [
    "# 从test中随机采样获取200条作为test_tiny\n",
    "test_tiny= test_.sample(n=200, random_state=2025)\n",
    "test_tiny.to_pickle(os.path.join(save_path,\"test_tiny_ood2.pkl\"))"
   ]
  },
  {
   "cell_type": "code",
   "execution_count": 7,
   "metadata": {},
   "outputs": [
    {
     "data": {
      "text/html": [
       "<div>\n",
       "<style scoped>\n",
       "    .dataframe tbody tr th:only-of-type {\n",
       "        vertical-align: middle;\n",
       "    }\n",
       "\n",
       "    .dataframe tbody tr th {\n",
       "        vertical-align: top;\n",
       "    }\n",
       "\n",
       "    .dataframe thead th {\n",
       "        text-align: right;\n",
       "    }\n",
       "</style>\n",
       "<table border=\"1\" class=\"dataframe\">\n",
       "  <thead>\n",
       "    <tr style=\"text-align: right;\">\n",
       "      <th></th>\n",
       "      <th>uid</th>\n",
       "      <th>iid</th>\n",
       "      <th>label</th>\n",
       "      <th>timestamp</th>\n",
       "      <th>his</th>\n",
       "      <th>flag</th>\n",
       "      <th>his_label</th>\n",
       "      <th>not_cold</th>\n",
       "    </tr>\n",
       "  </thead>\n",
       "  <tbody>\n",
       "    <tr>\n",
       "      <th>191171</th>\n",
       "      <td>5804</td>\n",
       "      <td>6570</td>\n",
       "      <td>0</td>\n",
       "      <td>1.513555e+09</td>\n",
       "      <td>[0, 27079, 39289, 35499, 24100, 34624, 35639, ...</td>\n",
       "      <td>1.0</td>\n",
       "      <td>[0, 0, 0, 0, 0, 0, 0, 0, 1, 1, 1, 1, 1, 0, 1, ...</td>\n",
       "      <td>1</td>\n",
       "    </tr>\n",
       "    <tr>\n",
       "      <th>679137</th>\n",
       "      <td>19615</td>\n",
       "      <td>46888</td>\n",
       "      <td>1</td>\n",
       "      <td>1.514678e+09</td>\n",
       "      <td>[0, 17763, 17282, 24523, 24307, 24494, 27735, ...</td>\n",
       "      <td>1.0</td>\n",
       "      <td>[0, 1, 1, 1, 1, 1, 1, 0, 0, 1, 1, 1, 1, 0, 1, ...</td>\n",
       "      <td>1</td>\n",
       "    </tr>\n",
       "    <tr>\n",
       "      <th>412505</th>\n",
       "      <td>12411</td>\n",
       "      <td>33620</td>\n",
       "      <td>1</td>\n",
       "      <td>1.513037e+09</td>\n",
       "      <td>[0, 33401, 43627, 43455, 19316, 16577, 40047, ...</td>\n",
       "      <td>1.0</td>\n",
       "      <td>[0, 1, 1, 1, 1, 0, 1, 1, 1, 1, 1, 0, 1, 0, 1, ...</td>\n",
       "      <td>0</td>\n",
       "    </tr>\n",
       "    <tr>\n",
       "      <th>285172</th>\n",
       "      <td>7988</td>\n",
       "      <td>7750</td>\n",
       "      <td>1</td>\n",
       "      <td>1.514246e+09</td>\n",
       "      <td>[0, 2213, 3233, 14025, 14029, 21089, 21374, 21...</td>\n",
       "      <td>1.0</td>\n",
       "      <td>[0, 1, 1, 1, 1, 1, 1, 1, 1, 1, 1, 1, 1, 1, 1, ...</td>\n",
       "      <td>1</td>\n",
       "    </tr>\n",
       "    <tr>\n",
       "      <th>322394</th>\n",
       "      <td>9167</td>\n",
       "      <td>26440</td>\n",
       "      <td>1</td>\n",
       "      <td>1.512864e+09</td>\n",
       "      <td>[0, 27372, 10921, 19212, 33871, 42100, 26396, ...</td>\n",
       "      <td>1.0</td>\n",
       "      <td>[0, 1, 1, 1, 1, 1, 1, 0, 0, 1, 1, 0, 1, 1, 1, ...</td>\n",
       "      <td>1</td>\n",
       "    </tr>\n",
       "    <tr>\n",
       "      <th>...</th>\n",
       "      <td>...</td>\n",
       "      <td>...</td>\n",
       "      <td>...</td>\n",
       "      <td>...</td>\n",
       "      <td>...</td>\n",
       "      <td>...</td>\n",
       "      <td>...</td>\n",
       "      <td>...</td>\n",
       "    </tr>\n",
       "    <tr>\n",
       "      <th>725261</th>\n",
       "      <td>20972</td>\n",
       "      <td>45776</td>\n",
       "      <td>1</td>\n",
       "      <td>1.514419e+09</td>\n",
       "      <td>[0, 33924, 29894, 25774, 18838, 27262, 34278, ...</td>\n",
       "      <td>1.0</td>\n",
       "      <td>[0, 1, 0, 1, 1, 1, 1, 1, 1, 1, 1, 1, 1, 0, 1, ...</td>\n",
       "      <td>0</td>\n",
       "    </tr>\n",
       "    <tr>\n",
       "      <th>271835</th>\n",
       "      <td>7642</td>\n",
       "      <td>8836</td>\n",
       "      <td>1</td>\n",
       "      <td>1.512259e+09</td>\n",
       "      <td>[0, 6623, 20299, 31326, 6966, 33906, 35341, 18...</td>\n",
       "      <td>1.0</td>\n",
       "      <td>[0, 1, 1, 1, 0, 0, 1, 1, 0, 0, 0, 1, 0, 0, 1, ...</td>\n",
       "      <td>1</td>\n",
       "    </tr>\n",
       "    <tr>\n",
       "      <th>566985</th>\n",
       "      <td>16388</td>\n",
       "      <td>33308</td>\n",
       "      <td>0</td>\n",
       "      <td>1.512864e+09</td>\n",
       "      <td>[0, 23724, 24153, 30480, 28543, 32626, 25902, ...</td>\n",
       "      <td>1.0</td>\n",
       "      <td>[0, 0, 0, 0, 0, 0, 0, 0, 0, 0, 0, 0, 0, 0, 0, ...</td>\n",
       "      <td>1</td>\n",
       "    </tr>\n",
       "    <tr>\n",
       "      <th>47850</th>\n",
       "      <td>1531</td>\n",
       "      <td>23758</td>\n",
       "      <td>1</td>\n",
       "      <td>1.513555e+09</td>\n",
       "      <td>[0, 2024, 312, 20881, 301, 304, 302, 1760, 562...</td>\n",
       "      <td>1.0</td>\n",
       "      <td>[0, 1, 0, 0, 0, 0, 1, 0, 0, 0, 0, 1, 1, 1, 0, ...</td>\n",
       "      <td>1</td>\n",
       "    </tr>\n",
       "    <tr>\n",
       "      <th>674607</th>\n",
       "      <td>19461</td>\n",
       "      <td>44843</td>\n",
       "      <td>0</td>\n",
       "      <td>1.512346e+09</td>\n",
       "      <td>[0, 28712, 42716, 42718, 33895, 29837, 34274, ...</td>\n",
       "      <td>1.0</td>\n",
       "      <td>[0, 1, 1, 1, 0, 1, 0, 1, 0, 0, 1, 0, 0, 0, 0, ...</td>\n",
       "      <td>1</td>\n",
       "    </tr>\n",
       "  </tbody>\n",
       "</table>\n",
       "<p>200 rows × 8 columns</p>\n",
       "</div>"
      ],
      "text/plain": [
       "          uid    iid  label     timestamp  \\\n",
       "191171   5804   6570      0  1.513555e+09   \n",
       "679137  19615  46888      1  1.514678e+09   \n",
       "412505  12411  33620      1  1.513037e+09   \n",
       "285172   7988   7750      1  1.514246e+09   \n",
       "322394   9167  26440      1  1.512864e+09   \n",
       "...       ...    ...    ...           ...   \n",
       "725261  20972  45776      1  1.514419e+09   \n",
       "271835   7642   8836      1  1.512259e+09   \n",
       "566985  16388  33308      0  1.512864e+09   \n",
       "47850    1531  23758      1  1.513555e+09   \n",
       "674607  19461  44843      0  1.512346e+09   \n",
       "\n",
       "                                                      his  flag  \\\n",
       "191171  [0, 27079, 39289, 35499, 24100, 34624, 35639, ...   1.0   \n",
       "679137  [0, 17763, 17282, 24523, 24307, 24494, 27735, ...   1.0   \n",
       "412505  [0, 33401, 43627, 43455, 19316, 16577, 40047, ...   1.0   \n",
       "285172  [0, 2213, 3233, 14025, 14029, 21089, 21374, 21...   1.0   \n",
       "322394  [0, 27372, 10921, 19212, 33871, 42100, 26396, ...   1.0   \n",
       "...                                                   ...   ...   \n",
       "725261  [0, 33924, 29894, 25774, 18838, 27262, 34278, ...   1.0   \n",
       "271835  [0, 6623, 20299, 31326, 6966, 33906, 35341, 18...   1.0   \n",
       "566985  [0, 23724, 24153, 30480, 28543, 32626, 25902, ...   1.0   \n",
       "47850   [0, 2024, 312, 20881, 301, 304, 302, 1760, 562...   1.0   \n",
       "674607  [0, 28712, 42716, 42718, 33895, 29837, 34274, ...   1.0   \n",
       "\n",
       "                                                his_label  not_cold  \n",
       "191171  [0, 0, 0, 0, 0, 0, 0, 0, 1, 1, 1, 1, 1, 0, 1, ...         1  \n",
       "679137  [0, 1, 1, 1, 1, 1, 1, 0, 0, 1, 1, 1, 1, 0, 1, ...         1  \n",
       "412505  [0, 1, 1, 1, 1, 0, 1, 1, 1, 1, 1, 0, 1, 0, 1, ...         0  \n",
       "285172  [0, 1, 1, 1, 1, 1, 1, 1, 1, 1, 1, 1, 1, 1, 1, ...         1  \n",
       "322394  [0, 1, 1, 1, 1, 1, 1, 0, 0, 1, 1, 0, 1, 1, 1, ...         1  \n",
       "...                                                   ...       ...  \n",
       "725261  [0, 1, 0, 1, 1, 1, 1, 1, 1, 1, 1, 1, 1, 0, 1, ...         0  \n",
       "271835  [0, 1, 1, 1, 0, 0, 1, 1, 0, 0, 0, 1, 0, 0, 1, ...         1  \n",
       "566985  [0, 0, 0, 0, 0, 0, 0, 0, 0, 0, 0, 0, 0, 0, 0, ...         1  \n",
       "47850   [0, 1, 0, 0, 0, 0, 1, 0, 0, 0, 0, 1, 1, 1, 0, ...         1  \n",
       "674607  [0, 1, 1, 1, 0, 1, 0, 1, 0, 0, 1, 0, 0, 0, 0, ...         1  \n",
       "\n",
       "[200 rows x 8 columns]"
      ]
     },
     "execution_count": 7,
     "metadata": {},
     "output_type": "execute_result"
    }
   ],
   "source": [
    "test_tiny"
   ]
  },
  {
   "cell_type": "code",
   "execution_count": 7,
   "metadata": {},
   "outputs": [],
   "source": [
    "test_small = test_.sample(frac=0.25,random_state=2023)\n",
    "test_small.to_pickle(os.path.join(save_path,\"test_small_ood2.pkl\"))"
   ]
  },
  {
   "cell_type": "code",
   "execution_count": 95,
   "metadata": {},
   "outputs": [
    {
     "data": {
      "text/html": [
       "<div>\n",
       "<style scoped>\n",
       "    .dataframe tbody tr th:only-of-type {\n",
       "        vertical-align: middle;\n",
       "    }\n",
       "\n",
       "    .dataframe tbody tr th {\n",
       "        vertical-align: top;\n",
       "    }\n",
       "\n",
       "    .dataframe thead tr th {\n",
       "        text-align: left;\n",
       "    }\n",
       "</style>\n",
       "<table border=\"1\" class=\"dataframe\">\n",
       "  <thead>\n",
       "    <tr>\n",
       "      <th></th>\n",
       "      <th colspan=\"2\" halign=\"left\">label</th>\n",
       "    </tr>\n",
       "    <tr>\n",
       "      <th></th>\n",
       "      <th>sum</th>\n",
       "      <th>count</th>\n",
       "    </tr>\n",
       "  </thead>\n",
       "  <tbody>\n",
       "    <tr>\n",
       "      <th>count</th>\n",
       "      <td>24860.000000</td>\n",
       "      <td>24860.000000</td>\n",
       "    </tr>\n",
       "    <tr>\n",
       "      <th>mean</th>\n",
       "      <td>21.490909</td>\n",
       "      <td>34.018061</td>\n",
       "    </tr>\n",
       "    <tr>\n",
       "      <th>std</th>\n",
       "      <td>27.100474</td>\n",
       "      <td>37.169312</td>\n",
       "    </tr>\n",
       "    <tr>\n",
       "      <th>min</th>\n",
       "      <td>0.000000</td>\n",
       "      <td>1.000000</td>\n",
       "    </tr>\n",
       "    <tr>\n",
       "      <th>25%</th>\n",
       "      <td>8.000000</td>\n",
       "      <td>16.000000</td>\n",
       "    </tr>\n",
       "    <tr>\n",
       "      <th>50%</th>\n",
       "      <td>15.000000</td>\n",
       "      <td>24.000000</td>\n",
       "    </tr>\n",
       "    <tr>\n",
       "      <th>75%</th>\n",
       "      <td>26.000000</td>\n",
       "      <td>39.000000</td>\n",
       "    </tr>\n",
       "    <tr>\n",
       "      <th>max</th>\n",
       "      <td>925.000000</td>\n",
       "      <td>941.000000</td>\n",
       "    </tr>\n",
       "  </tbody>\n",
       "</table>\n",
       "</div>"
      ],
      "text/plain": [
       "              label              \n",
       "                sum         count\n",
       "count  24860.000000  24860.000000\n",
       "mean      21.490909     34.018061\n",
       "std       27.100474     37.169312\n",
       "min        0.000000      1.000000\n",
       "25%        8.000000     16.000000\n",
       "50%       15.000000     24.000000\n",
       "75%       26.000000     39.000000\n",
       "max      925.000000    941.000000"
      ]
     },
     "execution_count": 95,
     "metadata": {},
     "output_type": "execute_result"
    }
   ],
   "source": [
    "data.groupby(\"uid\").agg({\"label\":['sum','count']}).describe()"
   ]
  },
  {
   "cell_type": "code",
   "execution_count": 96,
   "metadata": {},
   "outputs": [
    {
     "data": {
      "text/html": [
       "<div>\n",
       "<style scoped>\n",
       "    .dataframe tbody tr th:only-of-type {\n",
       "        vertical-align: middle;\n",
       "    }\n",
       "\n",
       "    .dataframe tbody tr th {\n",
       "        vertical-align: top;\n",
       "    }\n",
       "\n",
       "    .dataframe thead th {\n",
       "        text-align: right;\n",
       "    }\n",
       "</style>\n",
       "<table border=\"1\" class=\"dataframe\">\n",
       "  <thead>\n",
       "    <tr style=\"text-align: right;\">\n",
       "      <th></th>\n",
       "      <th>uid</th>\n",
       "      <th>iid</th>\n",
       "      <th>label</th>\n",
       "      <th>timestamp</th>\n",
       "      <th>his</th>\n",
       "      <th>his_title</th>\n",
       "      <th>title</th>\n",
       "      <th>flag</th>\n",
       "      <th>not_cold</th>\n",
       "    </tr>\n",
       "  </thead>\n",
       "  <tbody>\n",
       "    <tr>\n",
       "      <th>0</th>\n",
       "      <td>1</td>\n",
       "      <td>4756</td>\n",
       "      <td>1</td>\n",
       "      <td>1.483920e+09</td>\n",
       "      <td>[0]</td>\n",
       "      <td>[]</td>\n",
       "      <td>ENDURANCE: SHACKLETON'S INCREDIBLE VOYAGE by L...</td>\n",
       "      <td>-1.0</td>\n",
       "      <td>1</td>\n",
       "    </tr>\n",
       "    <tr>\n",
       "      <th>1</th>\n",
       "      <td>1</td>\n",
       "      <td>3059</td>\n",
       "      <td>0</td>\n",
       "      <td>1.484525e+09</td>\n",
       "      <td>[0, 4756]</td>\n",
       "      <td>[, ENDURANCE: SHACKLETON'S INCREDIBLE VOYAGE b...</td>\n",
       "      <td>Norwegian Wood</td>\n",
       "      <td>-1.0</td>\n",
       "      <td>1</td>\n",
       "    </tr>\n",
       "    <tr>\n",
       "      <th>2</th>\n",
       "      <td>1</td>\n",
       "      <td>37440</td>\n",
       "      <td>1</td>\n",
       "      <td>1.484698e+09</td>\n",
       "      <td>[0, 4756]</td>\n",
       "      <td>[, ENDURANCE: SHACKLETON'S INCREDIBLE VOYAGE b...</td>\n",
       "      <td>Summer at Sunset (The Summer Series) (Volume 2)</td>\n",
       "      <td>-1.0</td>\n",
       "      <td>1</td>\n",
       "    </tr>\n",
       "    <tr>\n",
       "      <th>3</th>\n",
       "      <td>1</td>\n",
       "      <td>29038</td>\n",
       "      <td>0</td>\n",
       "      <td>1.485130e+09</td>\n",
       "      <td>[0, 4756, 37440]</td>\n",
       "      <td>[, ENDURANCE: SHACKLETON'S INCREDIBLE VOYAGE b...</td>\n",
       "      <td>Every Day Is a Holiday</td>\n",
       "      <td>-1.0</td>\n",
       "      <td>1</td>\n",
       "    </tr>\n",
       "    <tr>\n",
       "      <th>4</th>\n",
       "      <td>1</td>\n",
       "      <td>187</td>\n",
       "      <td>0</td>\n",
       "      <td>1.485389e+09</td>\n",
       "      <td>[0, 4756, 37440]</td>\n",
       "      <td>[, ENDURANCE: SHACKLETON'S INCREDIBLE VOYAGE b...</td>\n",
       "      <td>The Yiddish Policemen's Union: A Novel (P.S.)</td>\n",
       "      <td>-1.0</td>\n",
       "      <td>1</td>\n",
       "    </tr>\n",
       "  </tbody>\n",
       "</table>\n",
       "</div>"
      ],
      "text/plain": [
       "   uid    iid  label     timestamp               his  \\\n",
       "0    1   4756      1  1.483920e+09               [0]   \n",
       "1    1   3059      0  1.484525e+09         [0, 4756]   \n",
       "2    1  37440      1  1.484698e+09         [0, 4756]   \n",
       "3    1  29038      0  1.485130e+09  [0, 4756, 37440]   \n",
       "4    1    187      0  1.485389e+09  [0, 4756, 37440]   \n",
       "\n",
       "                                           his_title  \\\n",
       "0                                                 []   \n",
       "1  [, ENDURANCE: SHACKLETON'S INCREDIBLE VOYAGE b...   \n",
       "2  [, ENDURANCE: SHACKLETON'S INCREDIBLE VOYAGE b...   \n",
       "3  [, ENDURANCE: SHACKLETON'S INCREDIBLE VOYAGE b...   \n",
       "4  [, ENDURANCE: SHACKLETON'S INCREDIBLE VOYAGE b...   \n",
       "\n",
       "                                               title  flag  not_cold  \n",
       "0  ENDURANCE: SHACKLETON'S INCREDIBLE VOYAGE by L...  -1.0         1  \n",
       "1                                     Norwegian Wood  -1.0         1  \n",
       "2    Summer at Sunset (The Summer Series) (Volume 2)  -1.0         1  \n",
       "3                             Every Day Is a Holiday  -1.0         1  \n",
       "4      The Yiddish Policemen's Union: A Novel (P.S.)  -1.0         1  "
      ]
     },
     "execution_count": 96,
     "metadata": {},
     "output_type": "execute_result"
    }
   ],
   "source": [
    "data.head(5)"
   ]
  }
 ],
 "metadata": {
  "kernelspec": {
   "display_name": "Python 3",
   "language": "python",
   "name": "python3"
  },
  "language_info": {
   "codemirror_mode": {
    "name": "ipython",
    "version": 3
   },
   "file_extension": ".py",
   "mimetype": "text/x-python",
   "name": "python",
   "nbconvert_exporter": "python",
   "pygments_lexer": "ipython3",
   "version": "3.9.20"
  },
  "orig_nbformat": 4
 },
 "nbformat": 4,
 "nbformat_minor": 2
}
