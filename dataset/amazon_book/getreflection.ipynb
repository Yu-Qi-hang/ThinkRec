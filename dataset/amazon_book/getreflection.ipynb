{
 "cells": [
  {
   "cell_type": "markdown",
   "metadata": {},
   "source": [
    "## load wrong data"
   ]
  },
  {
   "cell_type": "code",
   "execution_count": 15,
   "metadata": {},
   "outputs": [],
   "source": [
    "import os\n",
    "import re\n",
    "import numpy as np\n",
    "import pandas as pd"
   ]
  },
  {
   "cell_type": "code",
   "execution_count": 2,
   "metadata": {},
   "outputs": [],
   "source": [
    "wrong_file = '/home/yuqihang/projects/CoLLM/collm-datasets/bookdu/reflection/wrong_1.txt'"
   ]
  },
  {
   "cell_type": "code",
   "execution_count": 3,
   "metadata": {},
   "outputs": [],
   "source": [
    "with open(wrong_file,'r') as f:\n",
    "    wrong_list = f.readlines()\n",
    "len(wrong_list)"
   ]
  },
  {
   "cell_type": "code",
   "execution_count": 5,
   "metadata": {},
   "outputs": [],
   "source": [
    "uid = []\n",
    "iid = []\n",
    "his = [] \n",
    "label = []\n",
    "his_label = []\n",
    "his_title = []\n",
    "title = []\n",
    "for line in wrong_list:\n",
    "    data = line.split('\\sep')\n",
    "    uid.append(int(data[0]))\n",
    "    iid.append(int(data[1]))\n",
    "    his.append(eval(data[2]))\n",
    "    label.append(int(data[3]))\n",
    "    his_label.append(eval(data[4]))\n",
    "    his_title.append(data[5].replace('with feature <ItemID> ',''))\n",
    "    title.append(data[6].replace('\\n',''))"
   ]
  },
  {
   "cell_type": "code",
   "execution_count": 6,
   "metadata": {},
   "outputs": [],
   "source": [
    "wrong_data = pd.DataFrame({\"uid\":uid,'iid':iid,'label':label, 'his':his,'his_label':his_label,'his_title':his_title,'title':title})"
   ]
  },
  {
   "cell_type": "code",
   "execution_count": 7,
   "metadata": {},
   "outputs": [
    {
     "data": {
      "text/html": [
       "<div>\n",
       "<style scoped>\n",
       "    .dataframe tbody tr th:only-of-type {\n",
       "        vertical-align: middle;\n",
       "    }\n",
       "\n",
       "    .dataframe tbody tr th {\n",
       "        vertical-align: top;\n",
       "    }\n",
       "\n",
       "    .dataframe thead th {\n",
       "        text-align: right;\n",
       "    }\n",
       "</style>\n",
       "<table border=\"1\" class=\"dataframe\">\n",
       "  <thead>\n",
       "    <tr style=\"text-align: right;\">\n",
       "      <th></th>\n",
       "      <th>uid</th>\n",
       "      <th>iid</th>\n",
       "      <th>label</th>\n",
       "      <th>his</th>\n",
       "      <th>his_label</th>\n",
       "      <th>his_title</th>\n",
       "      <th>title</th>\n",
       "    </tr>\n",
       "  </thead>\n",
       "  <tbody>\n",
       "    <tr>\n",
       "      <th>0</th>\n",
       "      <td>20927</td>\n",
       "      <td>40012</td>\n",
       "      <td>0</td>\n",
       "      <td>[30252, 44599, 36606, 44751, 45031, 44960, 187...</td>\n",
       "      <td>[0, 1, 1, 1, 1, 1, 1, 0, 1, 1]</td>\n",
       "      <td>\"The Palisade (Lavender Shores)\" (evaluation: ...</td>\n",
       "      <td>\"P.S. I Spook You\" with description: life, wri...</td>\n",
       "    </tr>\n",
       "    <tr>\n",
       "      <th>1</th>\n",
       "      <td>8483</td>\n",
       "      <td>20626</td>\n",
       "      <td>1</td>\n",
       "      <td>[40433, 20414, 20471, 33539, 39841, 34463, 347...</td>\n",
       "      <td>[1, 1, 0, 1, 0, 0, 0, 0, 1, 0]</td>\n",
       "      <td>\"The Bad Boy Next Door\" (evaluation: Yes) with...</td>\n",
       "      <td>\"The Bad Luck Bride: The Cavensham Heiresses\" ...</td>\n",
       "    </tr>\n",
       "    <tr>\n",
       "      <th>2</th>\n",
       "      <td>6390</td>\n",
       "      <td>3886</td>\n",
       "      <td>1</td>\n",
       "      <td>[20334, 10160, 9536, 37380, 15208, 19818]</td>\n",
       "      <td>[1, 0, 0, 1, 0, 1]</td>\n",
       "      <td>\"Wintersong: A Novel\" (evaluation: Yes) with d...</td>\n",
       "      <td>\"Greater Gotham: A History of New York City fr...</td>\n",
       "    </tr>\n",
       "    <tr>\n",
       "      <th>3</th>\n",
       "      <td>5639</td>\n",
       "      <td>21757</td>\n",
       "      <td>1</td>\n",
       "      <td>[40397, 42989, 36136, 2032, 23311, 38134, 2307...</td>\n",
       "      <td>[1, 0, 0, 1, 1, 1, 1, 1, 1, 1]</td>\n",
       "      <td>\"Accidentally Compromising the Duke\" (evaluati...</td>\n",
       "      <td>\"It Started with a Kiss (The Worthingtons)\" wi...</td>\n",
       "    </tr>\n",
       "    <tr>\n",
       "      <th>4</th>\n",
       "      <td>15532</td>\n",
       "      <td>45963</td>\n",
       "      <td>0</td>\n",
       "      <td>[33547, 33717, 33775, 43474, 40343, 33677, 169...</td>\n",
       "      <td>[1, 0, 1, 0, 1, 1, 0, 1, 1, 1]</td>\n",
       "      <td>\"Trick (A Cocky Cage Fighter Novel) (Volume 7)...</td>\n",
       "      <td>\"The Bartender (Modern Love) (Volume 1)\" with ...</td>\n",
       "    </tr>\n",
       "  </tbody>\n",
       "</table>\n",
       "</div>"
      ],
      "text/plain": [
       "     uid    iid  label                                                his  \\\n",
       "0  20927  40012      0  [30252, 44599, 36606, 44751, 45031, 44960, 187...   \n",
       "1   8483  20626      1  [40433, 20414, 20471, 33539, 39841, 34463, 347...   \n",
       "2   6390   3886      1          [20334, 10160, 9536, 37380, 15208, 19818]   \n",
       "3   5639  21757      1  [40397, 42989, 36136, 2032, 23311, 38134, 2307...   \n",
       "4  15532  45963      0  [33547, 33717, 33775, 43474, 40343, 33677, 169...   \n",
       "\n",
       "                        his_label  \\\n",
       "0  [0, 1, 1, 1, 1, 1, 1, 0, 1, 1]   \n",
       "1  [1, 1, 0, 1, 0, 0, 0, 0, 1, 0]   \n",
       "2              [1, 0, 0, 1, 0, 1]   \n",
       "3  [1, 0, 0, 1, 1, 1, 1, 1, 1, 1]   \n",
       "4  [1, 0, 1, 0, 1, 1, 0, 1, 1, 1]   \n",
       "\n",
       "                                           his_title  \\\n",
       "0  \"The Palisade (Lavender Shores)\" (evaluation: ...   \n",
       "1  \"The Bad Boy Next Door\" (evaluation: Yes) with...   \n",
       "2  \"Wintersong: A Novel\" (evaluation: Yes) with d...   \n",
       "3  \"Accidentally Compromising the Duke\" (evaluati...   \n",
       "4  \"Trick (A Cocky Cage Fighter Novel) (Volume 7)...   \n",
       "\n",
       "                                               title  \n",
       "0  \"P.S. I Spook You\" with description: life, wri...  \n",
       "1  \"The Bad Luck Bride: The Cavensham Heiresses\" ...  \n",
       "2  \"Greater Gotham: A History of New York City fr...  \n",
       "3  \"It Started with a Kiss (The Worthingtons)\" wi...  \n",
       "4  \"The Bartender (Modern Love) (Volume 1)\" with ...  "
      ]
     },
     "execution_count": 7,
     "metadata": {},
     "output_type": "execute_result"
    }
   ],
   "source": [
    "wrong_data.head()"
   ]
  },
  {
   "cell_type": "code",
   "execution_count": 8,
   "metadata": {},
   "outputs": [],
   "source": [
    "wrong_data['his_pad'] = wrong_data['his'].map(lambda x: [0]+x if len(x) < 10 else x)\n",
    "wrong_data['his_label_pad'] = wrong_data['his_label'].map(lambda x: [0]+x if len(x) < 10 else x)"
   ]
  },
  {
   "cell_type": "code",
   "execution_count": 9,
   "metadata": {},
   "outputs": [
    {
     "data": {
      "text/html": [
       "<div>\n",
       "<style scoped>\n",
       "    .dataframe tbody tr th:only-of-type {\n",
       "        vertical-align: middle;\n",
       "    }\n",
       "\n",
       "    .dataframe tbody tr th {\n",
       "        vertical-align: top;\n",
       "    }\n",
       "\n",
       "    .dataframe thead th {\n",
       "        text-align: right;\n",
       "    }\n",
       "</style>\n",
       "<table border=\"1\" class=\"dataframe\">\n",
       "  <thead>\n",
       "    <tr style=\"text-align: right;\">\n",
       "      <th></th>\n",
       "      <th>uid</th>\n",
       "      <th>iid</th>\n",
       "      <th>label</th>\n",
       "      <th>his</th>\n",
       "      <th>his_label</th>\n",
       "      <th>his_title</th>\n",
       "      <th>title</th>\n",
       "    </tr>\n",
       "  </thead>\n",
       "  <tbody>\n",
       "    <tr>\n",
       "      <th>0</th>\n",
       "      <td>20927</td>\n",
       "      <td>40012</td>\n",
       "      <td>0</td>\n",
       "      <td>[30252, 44599, 36606, 44751, 45031, 44960, 187...</td>\n",
       "      <td>[0, 1, 1, 1, 1, 1, 1, 0, 1, 1]</td>\n",
       "      <td>\"The Palisade (Lavender Shores)\" (evaluation: ...</td>\n",
       "      <td>\"P.S. I Spook You\" with description: life, wri...</td>\n",
       "    </tr>\n",
       "    <tr>\n",
       "      <th>1</th>\n",
       "      <td>8483</td>\n",
       "      <td>20626</td>\n",
       "      <td>1</td>\n",
       "      <td>[40433, 20414, 20471, 33539, 39841, 34463, 347...</td>\n",
       "      <td>[1, 1, 0, 1, 0, 0, 0, 0, 1, 0]</td>\n",
       "      <td>\"The Bad Boy Next Door\" (evaluation: Yes) with...</td>\n",
       "      <td>\"The Bad Luck Bride: The Cavensham Heiresses\" ...</td>\n",
       "    </tr>\n",
       "    <tr>\n",
       "      <th>2</th>\n",
       "      <td>6390</td>\n",
       "      <td>3886</td>\n",
       "      <td>1</td>\n",
       "      <td>[0, 20334, 10160, 9536, 37380, 15208, 19818]</td>\n",
       "      <td>[0, 1, 0, 0, 1, 0, 1]</td>\n",
       "      <td>\"Wintersong: A Novel\" (evaluation: Yes) with d...</td>\n",
       "      <td>\"Greater Gotham: A History of New York City fr...</td>\n",
       "    </tr>\n",
       "    <tr>\n",
       "      <th>3</th>\n",
       "      <td>5639</td>\n",
       "      <td>21757</td>\n",
       "      <td>1</td>\n",
       "      <td>[40397, 42989, 36136, 2032, 23311, 38134, 2307...</td>\n",
       "      <td>[1, 0, 0, 1, 1, 1, 1, 1, 1, 1]</td>\n",
       "      <td>\"Accidentally Compromising the Duke\" (evaluati...</td>\n",
       "      <td>\"It Started with a Kiss (The Worthingtons)\" wi...</td>\n",
       "    </tr>\n",
       "    <tr>\n",
       "      <th>4</th>\n",
       "      <td>15532</td>\n",
       "      <td>45963</td>\n",
       "      <td>0</td>\n",
       "      <td>[33547, 33717, 33775, 43474, 40343, 33677, 169...</td>\n",
       "      <td>[1, 0, 1, 0, 1, 1, 0, 1, 1, 1]</td>\n",
       "      <td>\"Trick (A Cocky Cage Fighter Novel) (Volume 7)...</td>\n",
       "      <td>\"The Bartender (Modern Love) (Volume 1)\" with ...</td>\n",
       "    </tr>\n",
       "  </tbody>\n",
       "</table>\n",
       "</div>"
      ],
      "text/plain": [
       "     uid    iid  label                                                his  \\\n",
       "0  20927  40012      0  [30252, 44599, 36606, 44751, 45031, 44960, 187...   \n",
       "1   8483  20626      1  [40433, 20414, 20471, 33539, 39841, 34463, 347...   \n",
       "2   6390   3886      1       [0, 20334, 10160, 9536, 37380, 15208, 19818]   \n",
       "3   5639  21757      1  [40397, 42989, 36136, 2032, 23311, 38134, 2307...   \n",
       "4  15532  45963      0  [33547, 33717, 33775, 43474, 40343, 33677, 169...   \n",
       "\n",
       "                        his_label  \\\n",
       "0  [0, 1, 1, 1, 1, 1, 1, 0, 1, 1]   \n",
       "1  [1, 1, 0, 1, 0, 0, 0, 0, 1, 0]   \n",
       "2           [0, 1, 0, 0, 1, 0, 1]   \n",
       "3  [1, 0, 0, 1, 1, 1, 1, 1, 1, 1]   \n",
       "4  [1, 0, 1, 0, 1, 1, 0, 1, 1, 1]   \n",
       "\n",
       "                                           his_title  \\\n",
       "0  \"The Palisade (Lavender Shores)\" (evaluation: ...   \n",
       "1  \"The Bad Boy Next Door\" (evaluation: Yes) with...   \n",
       "2  \"Wintersong: A Novel\" (evaluation: Yes) with d...   \n",
       "3  \"Accidentally Compromising the Duke\" (evaluati...   \n",
       "4  \"Trick (A Cocky Cage Fighter Novel) (Volume 7)...   \n",
       "\n",
       "                                               title  \n",
       "0  \"P.S. I Spook You\" with description: life, wri...  \n",
       "1  \"The Bad Luck Bride: The Cavensham Heiresses\" ...  \n",
       "2  \"Greater Gotham: A History of New York City fr...  \n",
       "3  \"It Started with a Kiss (The Worthingtons)\" wi...  \n",
       "4  \"The Bartender (Modern Love) (Volume 1)\" with ...  "
      ]
     },
     "execution_count": 9,
     "metadata": {},
     "output_type": "execute_result"
    }
   ],
   "source": [
    "wrong_data = wrong_data[['uid','iid','label','his_pad','his_label_pad','his_title','title']]\n",
    "wrong_data.columns = ['uid','iid','label','his','his_label','his_title','title']\n",
    "wrong_data.head()"
   ]
  },
  {
   "cell_type": "code",
   "execution_count": 10,
   "metadata": {},
   "outputs": [],
   "source": [
    "wrong_data.to_csv(wrong_file.replace('.txt','.csv'),index=False)"
   ]
  },
  {
   "cell_type": "markdown",
   "metadata": {},
   "source": [
    "## Get analysis"
   ]
  },
  {
   "cell_type": "code",
   "execution_count": 2,
   "metadata": {},
   "outputs": [],
   "source": [
    "import os\n",
    "import numpy as np\n",
    "import pandas as pd"
   ]
  },
  {
   "cell_type": "code",
   "execution_count": 56,
   "metadata": {},
   "outputs": [],
   "source": [
    "wrong_data = pd.read_csv('/home/yuqihang/projects/CoLLM/collm-datasets/bookdu/reflection/wrong_1.csv')"
   ]
  },
  {
   "cell_type": "code",
   "execution_count": 57,
   "metadata": {},
   "outputs": [],
   "source": [
    "from tqdm import tqdm\n",
    "import requests\n",
    "from openai import OpenAI\n",
    "url = 'https://api.siliconflow.cn/v1/'\n",
    "api_key = 'sk-aqjpdmbxfmztkooxohnyxcbngysqhpgmjwxojihwwzuxojnj'\n",
    "\n",
    "def get_response(client,message):\n",
    "    for delay_secs in (2**x for x in range(0, 10)):\n",
    "        try:\n",
    "            response = client.chat.completions.create(\n",
    "                model=\"Qwen/QwQ-32B\",\n",
    "                messages=message,\n",
    "                stream=False, \n",
    "                max_tokens=1024\n",
    "            )\n",
    "            content = response.choices[0].message.content\n",
    "            reasoning_content = response.choices[0].message.reasoning_content\n",
    "            return content, reasoning_content\n",
    "        except openai.OpenAIError as e:\n",
    "            randomness_collision_avoidance = random.randint(0, 1000) / 1000.0\n",
    "            sleep_dur = delay_secs + randomness_collision_avoidance\n",
    "            print(f\"Error: {e}. Retrying in {round(sleep_dur, 2)} seconds.\")\n",
    "            time.sleep(sleep_dur)\n",
    "            continue"
   ]
  },
  {
   "cell_type": "code",
   "execution_count": 58,
   "metadata": {},
   "outputs": [],
   "source": [
    "label2text = {0:'No',1:'Yes'}\n",
    "prompt_template = '''A user has given high ratings to the following books: <HisItemList>. Using all available information, make a prediction about whether the user would enjoy the book titled <TargetItemTitle>?'''\n",
    "hints = 'The correct response is <answer>. Reflect on multiple aspects based on historical information and reanalyze to determine if the target item will be liked by users. Explain the reason for the oversight based on the previous analysis.'"
   ]
  },
  {
   "cell_type": "code",
   "execution_count": 62,
   "metadata": {},
   "outputs": [
    {
     "name": "stderr",
     "output_type": "stream",
     "text": [
      "Generating Reasoning:   0%|          | 0/2 [00:00<?, ?it/s]"
     ]
    },
    {
     "name": "stderr",
     "output_type": "stream",
     "text": [
      "Generating Reasoning: 100%|██████████| 2/2 [01:14<00:00, 37.32s/it, cnt=2]\n"
     ]
    }
   ],
   "source": [
    "reasons = []\n",
    "sbar = tqdm(total = len(wrong_data))\n",
    "sbar.set_description('Generating Reasoning')\n",
    "for idx in range(len(wrong_data)):\n",
    "    row = wrong_data.iloc[idx]\n",
    "    label = row['label']\n",
    "    his_seq = row['his_title']\n",
    "    target = row['title']\n",
    "    message = prompt_template.replace('<HisItemList>',his_seq).replace('<TargetItemTitle>',target)\n",
    "    his_message = [\n",
    "        {\"role\": \"system\",\"content\": \"You are a helpful recommender answer with Yes or No.\"},\n",
    "        {\"role\": \"user\",\"content\": message}\n",
    "    ]\n",
    "    client = OpenAI(base_url=url,api_key=api_key)\n",
    "    answer,reasoning_content = get_response(client,his_message)\n",
    "    cnt = 1\n",
    "    while label2text[label] not in answer:\n",
    "        # his_message.pop(0)\n",
    "        his_message.append({\"role\": \"assistant\",\"content\": label2text[1-label]})\n",
    "        his_message.append({\"role\": \"user\",\"content\": hints.replace('<answer>',label2text[label])})\n",
    "        answer,reasoning_content = get_response(client,his_message)\n",
    "        cnt += 1\n",
    "    reasons.append(f'{label2text[label]}. {reasoning_content}')\n",
    "    sbar.set_postfix(cnt=cnt)\n",
    "    if cnt > 5:\n",
    "        print(f'cnt:{cnt}')\n",
    "    sbar.update(1)\n",
    "sbar.close()"
   ]
  },
  {
   "cell_type": "code",
   "execution_count": null,
   "metadata": {},
   "outputs": [],
   "source": [
    "wrong_data['reason'] = reasons"
   ]
  },
  {
   "cell_type": "code",
   "execution_count": null,
   "metadata": {},
   "outputs": [],
   "source": [
    "wrong_data.to_csv(wrong_file.replace('.txt','.csv'),index=False)"
   ]
  },
  {
   "cell_type": "markdown",
   "metadata": {},
   "source": [
    "## Merge csv"
   ]
  },
  {
   "cell_type": "code",
   "execution_count": 5,
   "metadata": {},
   "outputs": [],
   "source": [
    "import os\n",
    "import pandas as pd\n",
    "import numpy as np\n",
    "from glob import glob"
   ]
  },
  {
   "cell_type": "code",
   "execution_count": 2,
   "metadata": {},
   "outputs": [],
   "source": [
    "csv_dir = '/home/yuqihang/projects/CoLLM/collm-datasets/bookdu/reflection'"
   ]
  },
  {
   "cell_type": "code",
   "execution_count": 8,
   "metadata": {},
   "outputs": [],
   "source": [
    "csv_files = glob(f'{csv_dir}/wrong1*.csv')"
   ]
  },
  {
   "cell_type": "code",
   "execution_count": 9,
   "metadata": {},
   "outputs": [
    {
     "data": {
      "text/plain": [
       "['/home/yuqihang/projects/CoLLM/collm-datasets/bookdu/reflection/wrong1_batch_15.csv',\n",
       " '/home/yuqihang/projects/CoLLM/collm-datasets/bookdu/reflection/wrong1_batch_6.csv',\n",
       " '/home/yuqihang/projects/CoLLM/collm-datasets/bookdu/reflection/wrong1_batch_7.csv',\n",
       " '/home/yuqihang/projects/CoLLM/collm-datasets/bookdu/reflection/wrong1_batch_14.csv',\n",
       " '/home/yuqihang/projects/CoLLM/collm-datasets/bookdu/reflection/wrong1_batch_17.csv',\n",
       " '/home/yuqihang/projects/CoLLM/collm-datasets/bookdu/reflection/wrong1_batch_3.csv',\n",
       " '/home/yuqihang/projects/CoLLM/collm-datasets/bookdu/reflection/wrong1_batch_4.csv',\n",
       " '/home/yuqihang/projects/CoLLM/collm-datasets/bookdu/reflection/wrong1_batch_8.csv',\n",
       " '/home/yuqihang/projects/CoLLM/collm-datasets/bookdu/reflection/wrong1_batch_10.csv',\n",
       " '/home/yuqihang/projects/CoLLM/collm-datasets/bookdu/reflection/wrong1_batch_2.csv',\n",
       " '/home/yuqihang/projects/CoLLM/collm-datasets/bookdu/reflection/wrong1_batch_9.csv',\n",
       " '/home/yuqihang/projects/CoLLM/collm-datasets/bookdu/reflection/wrong1_batch_12.csv',\n",
       " '/home/yuqihang/projects/CoLLM/collm-datasets/bookdu/reflection/wrong1_batch_1.csv',\n",
       " '/home/yuqihang/projects/CoLLM/collm-datasets/bookdu/reflection/wrong1_batch_11.csv',\n",
       " '/home/yuqihang/projects/CoLLM/collm-datasets/bookdu/reflection/wrong1_batch_5.csv',\n",
       " '/home/yuqihang/projects/CoLLM/collm-datasets/bookdu/reflection/wrong1_batch_13.csv',\n",
       " '/home/yuqihang/projects/CoLLM/collm-datasets/bookdu/reflection/wrong1_batch_16.csv']"
      ]
     },
     "execution_count": 9,
     "metadata": {},
     "output_type": "execute_result"
    }
   ],
   "source": [
    "csv_files"
   ]
  },
  {
   "cell_type": "code",
   "execution_count": 10,
   "metadata": {},
   "outputs": [],
   "source": [
    "\n",
    "# csv_files = ['wrong_1.csv','wrong_2.csv']\n",
    "save_file = 'wrong.csv'"
   ]
  },
  {
   "cell_type": "code",
   "execution_count": 11,
   "metadata": {},
   "outputs": [],
   "source": [
    "dfs = []\n",
    "for csv_file in csv_files:\n",
    "    file_path = csv_file#os.path.join(csv_dir, csv_file)\n",
    "    if os.path.exists(file_path):\n",
    "        df = pd.read_csv(file_path)\n",
    "        if not dfs:\n",
    "            dfs.append(df)\n",
    "        else:\n",
    "            if list(df.columns) == list(dfs[0].columns):\n",
    "                dfs.append(df)\n",
    "            else:\n",
    "                print(f\"表头不一致: {csv_file}\")\n",
    "    else:\n",
    "        print(f\"文件不存在: {csv_file}\")\n",
    "if dfs:\n",
    "    df = pd.concat(dfs, ignore_index=True)\n",
    "else:\n",
    "    print(\"没有有效的文件可以合并\")"
   ]
  },
  {
   "cell_type": "code",
   "execution_count": 16,
   "metadata": {},
   "outputs": [],
   "source": [
    "def convert_str_2_list(x):\n",
    "    return np.array([int(item) for item in re.split(r'\\s+', x[1:-1].replace(',',' ').strip(' '))])\n",
    "def dftype(df):\n",
    "    for idx in df.columns:\n",
    "        if isinstance(df[idx][0],list) or isinstance(df[idx][0],np.ndarray):\n",
    "            print(idx,type(df[idx][0]),type(df[idx][0][0]))\n",
    "        else:\n",
    "            print(idx,type(df[idx][0]))"
   ]
  },
  {
   "cell_type": "code",
   "execution_count": 17,
   "metadata": {},
   "outputs": [],
   "source": [
    "df['his_label'] = df['his_label'].map(lambda x: convert_str_2_list(x))\n",
    "df['his'] = df['his'].map(lambda x: convert_str_2_list(x))"
   ]
  },
  {
   "cell_type": "code",
   "execution_count": 19,
   "metadata": {},
   "outputs": [
    {
     "name": "stdout",
     "output_type": "stream",
     "text": [
      "uid <class 'numpy.int64'>\n",
      "iid <class 'numpy.int64'>\n",
      "label <class 'numpy.int64'>\n",
      "his <class 'numpy.ndarray'> <class 'numpy.int64'>\n",
      "his_label <class 'numpy.ndarray'> <class 'numpy.int64'>\n",
      "his_title <class 'str'>\n",
      "title <class 'str'>\n",
      "reason <class 'str'>\n"
     ]
    }
   ],
   "source": [
    "dftype(df)"
   ]
  },
  {
   "cell_type": "code",
   "execution_count": 18,
   "metadata": {},
   "outputs": [
    {
     "data": {
      "text/html": [
       "<div>\n",
       "<style scoped>\n",
       "    .dataframe tbody tr th:only-of-type {\n",
       "        vertical-align: middle;\n",
       "    }\n",
       "\n",
       "    .dataframe tbody tr th {\n",
       "        vertical-align: top;\n",
       "    }\n",
       "\n",
       "    .dataframe thead th {\n",
       "        text-align: right;\n",
       "    }\n",
       "</style>\n",
       "<table border=\"1\" class=\"dataframe\">\n",
       "  <thead>\n",
       "    <tr style=\"text-align: right;\">\n",
       "      <th></th>\n",
       "      <th>uid</th>\n",
       "      <th>iid</th>\n",
       "      <th>label</th>\n",
       "      <th>his</th>\n",
       "      <th>his_label</th>\n",
       "      <th>his_title</th>\n",
       "      <th>title</th>\n",
       "      <th>reason</th>\n",
       "    </tr>\n",
       "  </thead>\n",
       "  <tbody>\n",
       "    <tr>\n",
       "      <th>0</th>\n",
       "      <td>6499</td>\n",
       "      <td>36528</td>\n",
       "      <td>1</td>\n",
       "      <td>[44615, 42128, 42138, 44666, 31597, 45289, 345...</td>\n",
       "      <td>[1, 0, 0, 0, 0, 0, 1, 0, 0, 0]</td>\n",
       "      <td>\"Absinthe\" (evaluation: Yes) with description:...</td>\n",
       "      <td>\"The Scotch Queen (Volume 2)\" with description...</td>\n",
       "      <td>Yes. Okay, let's see. The user has rated sever...</td>\n",
       "    </tr>\n",
       "    <tr>\n",
       "      <th>1</th>\n",
       "      <td>766</td>\n",
       "      <td>27516</td>\n",
       "      <td>1</td>\n",
       "      <td>[27577, 24274, 27600, 28509, 32022, 27658, 153...</td>\n",
       "      <td>[1, 0, 0, 0, 1, 0, 1, 1, 1, 1]</td>\n",
       "      <td>\"Can't Stop Loving You\" (evaluation: Yes) with...</td>\n",
       "      <td>\"It's In His Arms (A Red River Valley Novel)\" ...</td>\n",
       "      <td>Yes. Okay, let's tackle this recommendation. T...</td>\n",
       "    </tr>\n",
       "    <tr>\n",
       "      <th>2</th>\n",
       "      <td>11243</td>\n",
       "      <td>13856</td>\n",
       "      <td>0</td>\n",
       "      <td>[0, 12398, 4899, 14876, 13883]</td>\n",
       "      <td>[0, 0, 1, 1, 1]</td>\n",
       "      <td>\"Just a Kiss (A Summer Harbor Novel)\" (evaluat...</td>\n",
       "      <td>\"An Uncommon Courtship (Hawthorne House)\" with...</td>\n",
       "      <td>No. Okay, let me try to figure this out. The u...</td>\n",
       "    </tr>\n",
       "    <tr>\n",
       "      <th>3</th>\n",
       "      <td>9874</td>\n",
       "      <td>37781</td>\n",
       "      <td>1</td>\n",
       "      <td>[13366, 21248, 14235, 23834, 12693, 20765, 386...</td>\n",
       "      <td>[0, 0, 0, 0, 0, 0, 1, 1, 1, 0]</td>\n",
       "      <td>\"Miracles We Have Seen: America's Leading Phys...</td>\n",
       "      <td>\"Doughnut Economics: Seven Ways to Think Like ...</td>\n",
       "      <td>Yes. Okay, let me try to work through this ste...</td>\n",
       "    </tr>\n",
       "    <tr>\n",
       "      <th>4</th>\n",
       "      <td>13010</td>\n",
       "      <td>26645</td>\n",
       "      <td>0</td>\n",
       "      <td>[0, 17206, 46853, 25778, 27714, 17265]</td>\n",
       "      <td>[0, 1, 0, 1, 1, 1]</td>\n",
       "      <td>\"Just for Now: Escape to New Zealand Book Thre...</td>\n",
       "      <td>\"When Love Comes: A Diamond Creek, Alaska Nove...</td>\n",
       "      <td>No. Okay, let's tackle this again. The user ha...</td>\n",
       "    </tr>\n",
       "  </tbody>\n",
       "</table>\n",
       "</div>"
      ],
      "text/plain": [
       "     uid    iid  label                                                his  \\\n",
       "0   6499  36528      1  [44615, 42128, 42138, 44666, 31597, 45289, 345...   \n",
       "1    766  27516      1  [27577, 24274, 27600, 28509, 32022, 27658, 153...   \n",
       "2  11243  13856      0                     [0, 12398, 4899, 14876, 13883]   \n",
       "3   9874  37781      1  [13366, 21248, 14235, 23834, 12693, 20765, 386...   \n",
       "4  13010  26645      0             [0, 17206, 46853, 25778, 27714, 17265]   \n",
       "\n",
       "                        his_label  \\\n",
       "0  [1, 0, 0, 0, 0, 0, 1, 0, 0, 0]   \n",
       "1  [1, 0, 0, 0, 1, 0, 1, 1, 1, 1]   \n",
       "2                 [0, 0, 1, 1, 1]   \n",
       "3  [0, 0, 0, 0, 0, 0, 1, 1, 1, 0]   \n",
       "4              [0, 1, 0, 1, 1, 1]   \n",
       "\n",
       "                                           his_title  \\\n",
       "0  \"Absinthe\" (evaluation: Yes) with description:...   \n",
       "1  \"Can't Stop Loving You\" (evaluation: Yes) with...   \n",
       "2  \"Just a Kiss (A Summer Harbor Novel)\" (evaluat...   \n",
       "3  \"Miracles We Have Seen: America's Leading Phys...   \n",
       "4  \"Just for Now: Escape to New Zealand Book Thre...   \n",
       "\n",
       "                                               title  \\\n",
       "0  \"The Scotch Queen (Volume 2)\" with description...   \n",
       "1  \"It's In His Arms (A Red River Valley Novel)\" ...   \n",
       "2  \"An Uncommon Courtship (Hawthorne House)\" with...   \n",
       "3  \"Doughnut Economics: Seven Ways to Think Like ...   \n",
       "4  \"When Love Comes: A Diamond Creek, Alaska Nove...   \n",
       "\n",
       "                                              reason  \n",
       "0  Yes. Okay, let's see. The user has rated sever...  \n",
       "1  Yes. Okay, let's tackle this recommendation. T...  \n",
       "2  No. Okay, let me try to figure this out. The u...  \n",
       "3  Yes. Okay, let me try to work through this ste...  \n",
       "4  No. Okay, let's tackle this again. The user ha...  "
      ]
     },
     "execution_count": 18,
     "metadata": {},
     "output_type": "execute_result"
    }
   ],
   "source": [
    "df.head()"
   ]
  },
  {
   "cell_type": "code",
   "execution_count": 20,
   "metadata": {},
   "outputs": [
    {
     "data": {
      "text/plain": [
       "('/home/yuqihang/projects/CoLLM/collm-datasets/bookdu/reflection/wrong.csv',\n",
       " 850)"
      ]
     },
     "execution_count": 20,
     "metadata": {},
     "output_type": "execute_result"
    }
   ],
   "source": [
    "if len(save_file) == 0:\n",
    "    save_ids = [csv_file.split('.')[0].split('_')[1:] for csv_file in csv_files]\n",
    "    save_path = f'{csv_dir}/wrong_{\"_\".join(sorted(sum(save_ids,[])))}.csv'\n",
    "else:\n",
    "    save_path = f'{csv_dir}/{save_file}'\n",
    "if os.path.exists(save_path):\n",
    "    print(f'{save_path} already exists, skip')\n",
    "else:\n",
    "    df.to_csv(save_path,index=False)\n",
    "save_path,len(df)"
   ]
  },
  {
   "cell_type": "code",
   "execution_count": 21,
   "metadata": {},
   "outputs": [],
   "source": [
    "ori_df = pd.read_csv(f'{csv_dir}/reason.csv')"
   ]
  },
  {
   "cell_type": "code",
   "execution_count": 23,
   "metadata": {},
   "outputs": [],
   "source": [
    "ori_df['his_label'] = ori_df['his_label'].map(lambda x: convert_str_2_list(x))\n",
    "ori_df['his'] = ori_df['his'].map(lambda x: convert_str_2_list(x))"
   ]
  },
  {
   "cell_type": "code",
   "execution_count": 25,
   "metadata": {},
   "outputs": [],
   "source": [
    "df = pd.concat([ori_df,df], ignore_index=True)"
   ]
  },
  {
   "cell_type": "code",
   "execution_count": 26,
   "metadata": {},
   "outputs": [
    {
     "name": "stdout",
     "output_type": "stream",
     "text": [
      "uid <class 'numpy.int64'>\n",
      "iid <class 'numpy.int64'>\n",
      "label <class 'numpy.int64'>\n",
      "his <class 'numpy.ndarray'> <class 'numpy.int64'>\n",
      "his_label <class 'numpy.ndarray'> <class 'numpy.int64'>\n",
      "his_title <class 'str'>\n",
      "title <class 'str'>\n",
      "reason <class 'str'>\n"
     ]
    },
    {
     "data": {
      "text/plain": [
       "(4500, None)"
      ]
     },
     "execution_count": 26,
     "metadata": {},
     "output_type": "execute_result"
    }
   ],
   "source": [
    "len(df),dftype(df)"
   ]
  },
  {
   "cell_type": "markdown",
   "metadata": {},
   "source": [
    "## Convert to training data"
   ]
  },
  {
   "cell_type": "code",
   "execution_count": 29,
   "metadata": {},
   "outputs": [],
   "source": [
    "import re\n",
    "import pandas as pd\n",
    "import numpy as np"
   ]
  },
  {
   "cell_type": "code",
   "execution_count": 30,
   "metadata": {},
   "outputs": [],
   "source": [
    "df = pd.read_csv('/home/yuqihang/projects/CoLLM/collm-datasets/bookdu/reflection/reason.csv')"
   ]
  },
  {
   "cell_type": "code",
   "execution_count": 31,
   "metadata": {},
   "outputs": [],
   "source": [
    "train = pd.read_pickle('/home/yuqihang/projects/CoLLM/collm-datasets/bookdu/reason_ood2.pkl')"
   ]
  },
  {
   "cell_type": "code",
   "execution_count": 32,
   "metadata": {},
   "outputs": [
    {
     "data": {
      "text/plain": [
       "(3650, 7)"
      ]
     },
     "execution_count": 32,
     "metadata": {},
     "output_type": "execute_result"
    }
   ],
   "source": [
    "train.shape"
   ]
  },
  {
   "cell_type": "code",
   "execution_count": 33,
   "metadata": {},
   "outputs": [
    {
     "data": {
      "text/plain": [
       "3650"
      ]
     },
     "execution_count": 33,
     "metadata": {},
     "output_type": "execute_result"
    }
   ],
   "source": [
    "len(df)"
   ]
  },
  {
   "cell_type": "code",
   "execution_count": 5,
   "metadata": {},
   "outputs": [
    {
     "name": "stdout",
     "output_type": "stream",
     "text": [
      "650865\n"
     ]
    }
   ],
   "source": [
    "cnt = 0\n",
    "for idx in range(len(train)):\n",
    "    if train['not_cold'].iloc[idx] == 1:\n",
    "        cnt += 1\n",
    "print(cnt)"
   ]
  },
  {
   "cell_type": "code",
   "execution_count": 16,
   "metadata": {},
   "outputs": [
    {
     "data": {
      "text/html": [
       "<div>\n",
       "<style scoped>\n",
       "    .dataframe tbody tr th:only-of-type {\n",
       "        vertical-align: middle;\n",
       "    }\n",
       "\n",
       "    .dataframe tbody tr th {\n",
       "        vertical-align: top;\n",
       "    }\n",
       "\n",
       "    .dataframe thead th {\n",
       "        text-align: right;\n",
       "    }\n",
       "</style>\n",
       "<table border=\"1\" class=\"dataframe\">\n",
       "  <thead>\n",
       "    <tr style=\"text-align: right;\">\n",
       "      <th></th>\n",
       "      <th>uid</th>\n",
       "      <th>iid</th>\n",
       "      <th>label</th>\n",
       "      <th>timestamp</th>\n",
       "      <th>his</th>\n",
       "      <th>flag</th>\n",
       "      <th>his_label</th>\n",
       "      <th>not_cold</th>\n",
       "    </tr>\n",
       "  </thead>\n",
       "  <tbody>\n",
       "    <tr>\n",
       "      <th>0</th>\n",
       "      <td>1</td>\n",
       "      <td>4114</td>\n",
       "      <td>1</td>\n",
       "      <td>1.483920e+09</td>\n",
       "      <td>[0]</td>\n",
       "      <td>-1.0</td>\n",
       "      <td>[0]</td>\n",
       "      <td>1</td>\n",
       "    </tr>\n",
       "    <tr>\n",
       "      <th>1</th>\n",
       "      <td>1</td>\n",
       "      <td>34136</td>\n",
       "      <td>1</td>\n",
       "      <td>1.484698e+09</td>\n",
       "      <td>[0, 4114]</td>\n",
       "      <td>-1.0</td>\n",
       "      <td>[0, 1]</td>\n",
       "      <td>1</td>\n",
       "    </tr>\n",
       "  </tbody>\n",
       "</table>\n",
       "</div>"
      ],
      "text/plain": [
       "   uid    iid  label     timestamp        his  flag his_label  not_cold\n",
       "0    1   4114      1  1.483920e+09        [0]  -1.0       [0]         1\n",
       "1    1  34136      1  1.484698e+09  [0, 4114]  -1.0    [0, 1]         1"
      ]
     },
     "execution_count": 16,
     "metadata": {},
     "output_type": "execute_result"
    }
   ],
   "source": [
    "train.head(2)"
   ]
  },
  {
   "cell_type": "code",
   "execution_count": 27,
   "metadata": {},
   "outputs": [
    {
     "data": {
      "text/html": [
       "<div>\n",
       "<style scoped>\n",
       "    .dataframe tbody tr th:only-of-type {\n",
       "        vertical-align: middle;\n",
       "    }\n",
       "\n",
       "    .dataframe tbody tr th {\n",
       "        vertical-align: top;\n",
       "    }\n",
       "\n",
       "    .dataframe thead th {\n",
       "        text-align: right;\n",
       "    }\n",
       "</style>\n",
       "<table border=\"1\" class=\"dataframe\">\n",
       "  <thead>\n",
       "    <tr style=\"text-align: right;\">\n",
       "      <th></th>\n",
       "      <th>uid</th>\n",
       "      <th>iid</th>\n",
       "      <th>label</th>\n",
       "      <th>his</th>\n",
       "      <th>his_label</th>\n",
       "      <th>his_title</th>\n",
       "      <th>title</th>\n",
       "      <th>reason</th>\n",
       "    </tr>\n",
       "  </thead>\n",
       "  <tbody>\n",
       "    <tr>\n",
       "      <th>0</th>\n",
       "      <td>4366</td>\n",
       "      <td>27528</td>\n",
       "      <td>0</td>\n",
       "      <td>[6845, 18938, 42550, 15595, 19165, 25647, 3399...</td>\n",
       "      <td>[1, 1, 1, 1, 0, 1, 0, 1, 1, 0]</td>\n",
       "      <td>\"Call to Honor: An Anthology (A Team Poseidon ...</td>\n",
       "      <td>\"Tangled Up (Taking Chances)\" with description...</td>\n",
       "      <td>No. Okay, I need to reevaluate why the initial...</td>\n",
       "    </tr>\n",
       "    <tr>\n",
       "      <th>1</th>\n",
       "      <td>358</td>\n",
       "      <td>34004</td>\n",
       "      <td>0</td>\n",
       "      <td>[16302, 40934, 27313, 12594, 41187, 41331, 412...</td>\n",
       "      <td>[1, 1, 1, 1, 1, 1, 1, 1, 1, 0]</td>\n",
       "      <td>\"The Sixth Window\" (evaluation: Yes) with desc...</td>\n",
       "      <td>\"Silent Child\" with description: family, ameri...</td>\n",
       "      <td>No. Okay, let's tackle this recommendation pro...</td>\n",
       "    </tr>\n",
       "  </tbody>\n",
       "</table>\n",
       "</div>"
      ],
      "text/plain": [
       "    uid    iid  label                                                his  \\\n",
       "0  4366  27528      0  [6845, 18938, 42550, 15595, 19165, 25647, 3399...   \n",
       "1   358  34004      0  [16302, 40934, 27313, 12594, 41187, 41331, 412...   \n",
       "\n",
       "                        his_label  \\\n",
       "0  [1, 1, 1, 1, 0, 1, 0, 1, 1, 0]   \n",
       "1  [1, 1, 1, 1, 1, 1, 1, 1, 1, 0]   \n",
       "\n",
       "                                           his_title  \\\n",
       "0  \"Call to Honor: An Anthology (A Team Poseidon ...   \n",
       "1  \"The Sixth Window\" (evaluation: Yes) with desc...   \n",
       "\n",
       "                                               title  \\\n",
       "0  \"Tangled Up (Taking Chances)\" with description...   \n",
       "1  \"Silent Child\" with description: family, ameri...   \n",
       "\n",
       "                                              reason  \n",
       "0  No. Okay, I need to reevaluate why the initial...  \n",
       "1  No. Okay, let's tackle this recommendation pro...  "
      ]
     },
     "execution_count": 27,
     "metadata": {},
     "output_type": "execute_result"
    }
   ],
   "source": [
    "df.head(2)"
   ]
  },
  {
   "cell_type": "code",
   "execution_count": 28,
   "metadata": {},
   "outputs": [
    {
     "data": {
      "text/plain": [
       "4500"
      ]
     },
     "execution_count": 28,
     "metadata": {},
     "output_type": "execute_result"
    }
   ],
   "source": [
    "len(df)"
   ]
  },
  {
   "cell_type": "code",
   "execution_count": 29,
   "metadata": {},
   "outputs": [],
   "source": [
    "df['not_cold'] = pd.DataFrame(np.ones(df.shape[0]),index=df.index).astype(\"int\")"
   ]
  },
  {
   "cell_type": "code",
   "execution_count": 30,
   "metadata": {},
   "outputs": [],
   "source": [
    "wrong = df[['uid','iid','label','his','his_label','not_cold','reason']]"
   ]
  },
  {
   "cell_type": "code",
   "execution_count": 32,
   "metadata": {},
   "outputs": [
    {
     "data": {
      "text/html": [
       "<div>\n",
       "<style scoped>\n",
       "    .dataframe tbody tr th:only-of-type {\n",
       "        vertical-align: middle;\n",
       "    }\n",
       "\n",
       "    .dataframe tbody tr th {\n",
       "        vertical-align: top;\n",
       "    }\n",
       "\n",
       "    .dataframe thead th {\n",
       "        text-align: right;\n",
       "    }\n",
       "</style>\n",
       "<table border=\"1\" class=\"dataframe\">\n",
       "  <thead>\n",
       "    <tr style=\"text-align: right;\">\n",
       "      <th></th>\n",
       "      <th>uid</th>\n",
       "      <th>iid</th>\n",
       "      <th>label</th>\n",
       "      <th>his</th>\n",
       "      <th>his_label</th>\n",
       "      <th>not_cold</th>\n",
       "      <th>reason</th>\n",
       "    </tr>\n",
       "  </thead>\n",
       "  <tbody>\n",
       "    <tr>\n",
       "      <th>0</th>\n",
       "      <td>4366</td>\n",
       "      <td>27528</td>\n",
       "      <td>0</td>\n",
       "      <td>[6845, 18938, 42550, 15595, 19165, 25647, 3399...</td>\n",
       "      <td>[1, 1, 1, 1, 0, 1, 0, 1, 1, 0]</td>\n",
       "      <td>1</td>\n",
       "      <td>No. Okay, I need to reevaluate why the initial...</td>\n",
       "    </tr>\n",
       "    <tr>\n",
       "      <th>1</th>\n",
       "      <td>358</td>\n",
       "      <td>34004</td>\n",
       "      <td>0</td>\n",
       "      <td>[16302, 40934, 27313, 12594, 41187, 41331, 412...</td>\n",
       "      <td>[1, 1, 1, 1, 1, 1, 1, 1, 1, 0]</td>\n",
       "      <td>1</td>\n",
       "      <td>No. Okay, let's tackle this recommendation pro...</td>\n",
       "    </tr>\n",
       "  </tbody>\n",
       "</table>\n",
       "</div>"
      ],
      "text/plain": [
       "    uid    iid  label                                                his  \\\n",
       "0  4366  27528      0  [6845, 18938, 42550, 15595, 19165, 25647, 3399...   \n",
       "1   358  34004      0  [16302, 40934, 27313, 12594, 41187, 41331, 412...   \n",
       "\n",
       "                        his_label  not_cold  \\\n",
       "0  [1, 1, 1, 1, 0, 1, 0, 1, 1, 0]         1   \n",
       "1  [1, 1, 1, 1, 1, 1, 1, 1, 1, 0]         1   \n",
       "\n",
       "                                              reason  \n",
       "0  No. Okay, I need to reevaluate why the initial...  \n",
       "1  No. Okay, let's tackle this recommendation pro...  "
      ]
     },
     "execution_count": 32,
     "metadata": {},
     "output_type": "execute_result"
    }
   ],
   "source": [
    "wrong.head(2)"
   ]
  },
  {
   "cell_type": "code",
   "execution_count": 33,
   "metadata": {},
   "outputs": [
    {
     "ename": "AttributeError",
     "evalue": "'numpy.ndarray' object has no attribute 'replace'",
     "output_type": "error",
     "traceback": [
      "\u001b[0;31m---------------------------------------------------------------------------\u001b[0m",
      "\u001b[0;31mAttributeError\u001b[0m                            Traceback (most recent call last)",
      "Cell \u001b[0;32mIn[33], line 1\u001b[0m\n\u001b[0;32m----> 1\u001b[0m wrong[\u001b[38;5;124m'\u001b[39m\u001b[38;5;124mhis_label\u001b[39m\u001b[38;5;124m'\u001b[39m] \u001b[38;5;241m=\u001b[39m \u001b[43mwrong\u001b[49m\u001b[43m[\u001b[49m\u001b[38;5;124;43m'\u001b[39;49m\u001b[38;5;124;43mhis_label\u001b[39;49m\u001b[38;5;124;43m'\u001b[39;49m\u001b[43m]\u001b[49m\u001b[38;5;241;43m.\u001b[39;49m\u001b[43mmap\u001b[49m\u001b[43m(\u001b[49m\u001b[38;5;28;43;01mlambda\u001b[39;49;00m\u001b[43m \u001b[49m\u001b[43mx\u001b[49m\u001b[43m:\u001b[49m\u001b[43m \u001b[49m\u001b[43mconvert_str_2_list\u001b[49m\u001b[43m(\u001b[49m\u001b[43mx\u001b[49m\u001b[43m)\u001b[49m\u001b[43m)\u001b[49m\n\u001b[1;32m      2\u001b[0m wrong[\u001b[38;5;124m'\u001b[39m\u001b[38;5;124mhis\u001b[39m\u001b[38;5;124m'\u001b[39m] \u001b[38;5;241m=\u001b[39m wrong[\u001b[38;5;124m'\u001b[39m\u001b[38;5;124mhis\u001b[39m\u001b[38;5;124m'\u001b[39m]\u001b[38;5;241m.\u001b[39mmap(\u001b[38;5;28;01mlambda\u001b[39;00m x: convert_str_2_list(x))\n",
      "File \u001b[0;32m/data/yuqihang/envs/envs/collm/lib/python3.9/site-packages/pandas/core/series.py:4700\u001b[0m, in \u001b[0;36mSeries.map\u001b[0;34m(self, arg, na_action)\u001b[0m\n\u001b[1;32m   4620\u001b[0m \u001b[38;5;28;01mdef\u001b[39;00m \u001b[38;5;21mmap\u001b[39m(\n\u001b[1;32m   4621\u001b[0m     \u001b[38;5;28mself\u001b[39m,\n\u001b[1;32m   4622\u001b[0m     arg: Callable \u001b[38;5;241m|\u001b[39m Mapping \u001b[38;5;241m|\u001b[39m Series,\n\u001b[1;32m   4623\u001b[0m     na_action: Literal[\u001b[38;5;124m\"\u001b[39m\u001b[38;5;124mignore\u001b[39m\u001b[38;5;124m\"\u001b[39m] \u001b[38;5;241m|\u001b[39m \u001b[38;5;28;01mNone\u001b[39;00m \u001b[38;5;241m=\u001b[39m \u001b[38;5;28;01mNone\u001b[39;00m,\n\u001b[1;32m   4624\u001b[0m ) \u001b[38;5;241m-\u001b[39m\u001b[38;5;241m>\u001b[39m Series:\n\u001b[1;32m   4625\u001b[0m \u001b[38;5;250m    \u001b[39m\u001b[38;5;124;03m\"\"\"\u001b[39;00m\n\u001b[1;32m   4626\u001b[0m \u001b[38;5;124;03m    Map values of Series according to an input mapping or function.\u001b[39;00m\n\u001b[1;32m   4627\u001b[0m \n\u001b[0;32m   (...)\u001b[0m\n\u001b[1;32m   4698\u001b[0m \u001b[38;5;124;03m    dtype: object\u001b[39;00m\n\u001b[1;32m   4699\u001b[0m \u001b[38;5;124;03m    \"\"\"\u001b[39;00m\n\u001b[0;32m-> 4700\u001b[0m     new_values \u001b[38;5;241m=\u001b[39m \u001b[38;5;28;43mself\u001b[39;49m\u001b[38;5;241;43m.\u001b[39;49m\u001b[43m_map_values\u001b[49m\u001b[43m(\u001b[49m\u001b[43marg\u001b[49m\u001b[43m,\u001b[49m\u001b[43m \u001b[49m\u001b[43mna_action\u001b[49m\u001b[38;5;241;43m=\u001b[39;49m\u001b[43mna_action\u001b[49m\u001b[43m)\u001b[49m\n\u001b[1;32m   4701\u001b[0m     \u001b[38;5;28;01mreturn\u001b[39;00m \u001b[38;5;28mself\u001b[39m\u001b[38;5;241m.\u001b[39m_constructor(new_values, index\u001b[38;5;241m=\u001b[39m\u001b[38;5;28mself\u001b[39m\u001b[38;5;241m.\u001b[39mindex, copy\u001b[38;5;241m=\u001b[39m\u001b[38;5;28;01mFalse\u001b[39;00m)\u001b[38;5;241m.\u001b[39m__finalize__(\n\u001b[1;32m   4702\u001b[0m         \u001b[38;5;28mself\u001b[39m, method\u001b[38;5;241m=\u001b[39m\u001b[38;5;124m\"\u001b[39m\u001b[38;5;124mmap\u001b[39m\u001b[38;5;124m\"\u001b[39m\n\u001b[1;32m   4703\u001b[0m     )\n",
      "File \u001b[0;32m/data/yuqihang/envs/envs/collm/lib/python3.9/site-packages/pandas/core/base.py:921\u001b[0m, in \u001b[0;36mIndexOpsMixin._map_values\u001b[0;34m(self, mapper, na_action, convert)\u001b[0m\n\u001b[1;32m    918\u001b[0m \u001b[38;5;28;01mif\u001b[39;00m \u001b[38;5;28misinstance\u001b[39m(arr, ExtensionArray):\n\u001b[1;32m    919\u001b[0m     \u001b[38;5;28;01mreturn\u001b[39;00m arr\u001b[38;5;241m.\u001b[39mmap(mapper, na_action\u001b[38;5;241m=\u001b[39mna_action)\n\u001b[0;32m--> 921\u001b[0m \u001b[38;5;28;01mreturn\u001b[39;00m \u001b[43malgorithms\u001b[49m\u001b[38;5;241;43m.\u001b[39;49m\u001b[43mmap_array\u001b[49m\u001b[43m(\u001b[49m\u001b[43marr\u001b[49m\u001b[43m,\u001b[49m\u001b[43m \u001b[49m\u001b[43mmapper\u001b[49m\u001b[43m,\u001b[49m\u001b[43m \u001b[49m\u001b[43mna_action\u001b[49m\u001b[38;5;241;43m=\u001b[39;49m\u001b[43mna_action\u001b[49m\u001b[43m,\u001b[49m\u001b[43m \u001b[49m\u001b[43mconvert\u001b[49m\u001b[38;5;241;43m=\u001b[39;49m\u001b[43mconvert\u001b[49m\u001b[43m)\u001b[49m\n",
      "File \u001b[0;32m/data/yuqihang/envs/envs/collm/lib/python3.9/site-packages/pandas/core/algorithms.py:1743\u001b[0m, in \u001b[0;36mmap_array\u001b[0;34m(arr, mapper, na_action, convert)\u001b[0m\n\u001b[1;32m   1741\u001b[0m values \u001b[38;5;241m=\u001b[39m arr\u001b[38;5;241m.\u001b[39mastype(\u001b[38;5;28mobject\u001b[39m, copy\u001b[38;5;241m=\u001b[39m\u001b[38;5;28;01mFalse\u001b[39;00m)\n\u001b[1;32m   1742\u001b[0m \u001b[38;5;28;01mif\u001b[39;00m na_action \u001b[38;5;129;01mis\u001b[39;00m \u001b[38;5;28;01mNone\u001b[39;00m:\n\u001b[0;32m-> 1743\u001b[0m     \u001b[38;5;28;01mreturn\u001b[39;00m \u001b[43mlib\u001b[49m\u001b[38;5;241;43m.\u001b[39;49m\u001b[43mmap_infer\u001b[49m\u001b[43m(\u001b[49m\u001b[43mvalues\u001b[49m\u001b[43m,\u001b[49m\u001b[43m \u001b[49m\u001b[43mmapper\u001b[49m\u001b[43m,\u001b[49m\u001b[43m \u001b[49m\u001b[43mconvert\u001b[49m\u001b[38;5;241;43m=\u001b[39;49m\u001b[43mconvert\u001b[49m\u001b[43m)\u001b[49m\n\u001b[1;32m   1744\u001b[0m \u001b[38;5;28;01melse\u001b[39;00m:\n\u001b[1;32m   1745\u001b[0m     \u001b[38;5;28;01mreturn\u001b[39;00m lib\u001b[38;5;241m.\u001b[39mmap_infer_mask(\n\u001b[1;32m   1746\u001b[0m         values, mapper, mask\u001b[38;5;241m=\u001b[39misna(values)\u001b[38;5;241m.\u001b[39mview(np\u001b[38;5;241m.\u001b[39muint8), convert\u001b[38;5;241m=\u001b[39mconvert\n\u001b[1;32m   1747\u001b[0m     )\n",
      "File \u001b[0;32mlib.pyx:2972\u001b[0m, in \u001b[0;36mpandas._libs.lib.map_infer\u001b[0;34m()\u001b[0m\n",
      "Cell \u001b[0;32mIn[33], line 1\u001b[0m, in \u001b[0;36m<lambda>\u001b[0;34m(x)\u001b[0m\n\u001b[0;32m----> 1\u001b[0m wrong[\u001b[38;5;124m'\u001b[39m\u001b[38;5;124mhis_label\u001b[39m\u001b[38;5;124m'\u001b[39m] \u001b[38;5;241m=\u001b[39m wrong[\u001b[38;5;124m'\u001b[39m\u001b[38;5;124mhis_label\u001b[39m\u001b[38;5;124m'\u001b[39m]\u001b[38;5;241m.\u001b[39mmap(\u001b[38;5;28;01mlambda\u001b[39;00m x: \u001b[43mconvert_str_2_list\u001b[49m\u001b[43m(\u001b[49m\u001b[43mx\u001b[49m\u001b[43m)\u001b[49m)\n\u001b[1;32m      2\u001b[0m wrong[\u001b[38;5;124m'\u001b[39m\u001b[38;5;124mhis\u001b[39m\u001b[38;5;124m'\u001b[39m] \u001b[38;5;241m=\u001b[39m wrong[\u001b[38;5;124m'\u001b[39m\u001b[38;5;124mhis\u001b[39m\u001b[38;5;124m'\u001b[39m]\u001b[38;5;241m.\u001b[39mmap(\u001b[38;5;28;01mlambda\u001b[39;00m x: convert_str_2_list(x))\n",
      "Cell \u001b[0;32mIn[16], line 2\u001b[0m, in \u001b[0;36mconvert_str_2_list\u001b[0;34m(x)\u001b[0m\n\u001b[1;32m      1\u001b[0m \u001b[38;5;28;01mdef\u001b[39;00m \u001b[38;5;21mconvert_str_2_list\u001b[39m(x):\n\u001b[0;32m----> 2\u001b[0m     \u001b[38;5;28;01mreturn\u001b[39;00m np\u001b[38;5;241m.\u001b[39marray([\u001b[38;5;28mint\u001b[39m(item) \u001b[38;5;28;01mfor\u001b[39;00m item \u001b[38;5;129;01min\u001b[39;00m re\u001b[38;5;241m.\u001b[39msplit(\u001b[38;5;124mr\u001b[39m\u001b[38;5;124m'\u001b[39m\u001b[38;5;124m\\\u001b[39m\u001b[38;5;124ms+\u001b[39m\u001b[38;5;124m'\u001b[39m, \u001b[43mx\u001b[49m\u001b[43m[\u001b[49m\u001b[38;5;241;43m1\u001b[39;49m\u001b[43m:\u001b[49m\u001b[38;5;241;43m-\u001b[39;49m\u001b[38;5;241;43m1\u001b[39;49m\u001b[43m]\u001b[49m\u001b[38;5;241;43m.\u001b[39;49m\u001b[43mreplace\u001b[49m(\u001b[38;5;124m'\u001b[39m\u001b[38;5;124m,\u001b[39m\u001b[38;5;124m'\u001b[39m,\u001b[38;5;124m'\u001b[39m\u001b[38;5;124m \u001b[39m\u001b[38;5;124m'\u001b[39m)\u001b[38;5;241m.\u001b[39mstrip(\u001b[38;5;124m'\u001b[39m\u001b[38;5;124m \u001b[39m\u001b[38;5;124m'\u001b[39m))])\n",
      "\u001b[0;31mAttributeError\u001b[0m: 'numpy.ndarray' object has no attribute 'replace'"
     ]
    }
   ],
   "source": [
    "wrong['his_label'] = wrong['his_label'].map(lambda x: convert_str_2_list(x))\n",
    "wrong['his'] = wrong['his'].map(lambda x: convert_str_2_list(x))"
   ]
  },
  {
   "cell_type": "code",
   "execution_count": 34,
   "metadata": {},
   "outputs": [
    {
     "name": "stdout",
     "output_type": "stream",
     "text": [
      "uid <class 'numpy.int64'>\n",
      "iid <class 'numpy.int64'>\n",
      "label <class 'numpy.int64'>\n",
      "his <class 'numpy.ndarray'> <class 'numpy.int64'>\n",
      "his_label <class 'numpy.ndarray'> <class 'numpy.int64'>\n",
      "not_cold <class 'numpy.int64'>\n",
      "reason <class 'str'>\n"
     ]
    }
   ],
   "source": [
    "dftype(wrong)"
   ]
  },
  {
   "cell_type": "code",
   "execution_count": 35,
   "metadata": {},
   "outputs": [
    {
     "data": {
      "text/plain": [
       "4500"
      ]
     },
     "execution_count": 35,
     "metadata": {},
     "output_type": "execute_result"
    }
   ],
   "source": [
    "len(wrong)"
   ]
  },
  {
   "cell_type": "code",
   "execution_count": 36,
   "metadata": {},
   "outputs": [],
   "source": [
    "wrong.to_pickle('/home/yuqihang/projects/CoLLM/collm-datasets/bookdu/reason_ood2.pkl')"
   ]
  },
  {
   "cell_type": "code",
   "execution_count": null,
   "metadata": {},
   "outputs": [],
   "source": [
    "# ['uid','iid','his','label'] not_cold his_label"
   ]
  }
 ],
 "metadata": {
  "kernelspec": {
   "display_name": "collm",
   "language": "python",
   "name": "python3"
  },
  "language_info": {
   "codemirror_mode": {
    "name": "ipython",
    "version": 3
   },
   "file_extension": ".py",
   "mimetype": "text/x-python",
   "name": "python",
   "nbconvert_exporter": "python",
   "pygments_lexer": "ipython3",
   "version": "3.9.20"
  }
 },
 "nbformat": 4,
 "nbformat_minor": 2
}
