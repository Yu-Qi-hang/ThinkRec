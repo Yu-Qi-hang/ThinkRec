{
 "cells": [
  {
   "cell_type": "code",
   "execution_count": 1,
   "metadata": {},
   "outputs": [],
   "source": [
    "import os\n",
    "import re\n",
    "import json\n",
    "from tqdm import tqdm"
   ]
  },
  {
   "cell_type": "code",
   "execution_count": 18,
   "metadata": {},
   "outputs": [
    {
     "name": "stdout",
     "output_type": "stream",
     "text": [
      "{'beyond', 'thru', 'says', 'miss', 'i', 'please', 'serious', 'rather', 'forth', 'same', \"that'll\", 'hid', 'let', 'awfully', 'turns', 'at', 'backs', 'nd', 'unless', 'far', 'substantially', 'another', 'higher', 'had', 'indeed', 'causes', 'ie', 'seen', 'mug', 'sufficiently', 'theirs', 'anybody', 'promptly', 'keywords', 'effect', 'take', 'more', 'grouping', '7', 'clear', 'the', 'you', 're', 'particularly', 'previously', 'thanx', 'perhaps', 'shows', 'except', 'keep', 'km', 'seem', 'gotten', 'interesting', 'who', '10', 'successfully', 'refs', 'somethan', 'certain', 'til', 'showing', 'likely', 'ltd', 'thereto', 'available', 'needed', 'began', 'sure', 'used', 'about', 'begin', 'group', 'and', 'became', 'whether', 'different', 'throug', 'lest', 'knows', \"'d\", 'anything', 'eight', 'hundred', 'ca', 'either', 'downing', 'later', 'clearly', 'couldnt', 'howbeit', '8', 'important', 'also', 'qv', 'changes', 'wheres', 'always', 'ends', 'whereby', 'description', 'really', 'way', 'downwards', 'pages', 'beforehand', 'open', 'useful', 'groups', 's', 'u', 'got', 'interests', 'happens', 'somehow', 'adopted', 'below', 'large', 'okay', 'thered', 'primarily', 'why', \"you'll\", \"we'd\", 'non', 'hi', 'making', 'heres', 'zt', 'apart', 'face', 'a', 'orders', 'right', 'general', 'concerning', 'looking', 'pp', 'trying', 'uses', 'whereupon', 'he', 'follows', 'r', 'thereafter', 'adj', 'sides', 'approximately', 'eighty', 'suggest', 'taking', 'wed', 'zz', 'related', 'made', 'three', 'up', 'problem', 'somewhere', 'act', 'opens', 'biol', 'associated', 'co', 'so', 'we', 'furthers', 'under', 'containing', 'keeps', 'obtained', 'wonder', 'slightly', 'nonetheless', 'whats', 'makes', 'arise', 'newer', 'our', 'world', 'kg', 'came', 'have', 'similarly', \"what's\", \"we'll\", 'noone', 'mrs', \"i'll\", 'seriously', \"they'd\", 'theyre', 'predominantly', 'especially', 'twice', 'getting', 'presumably', 'page', 'least', 'immediately', 'whence', 'however', 'she', \"i'd\", 'as', 'brand', 'wanted', 'etc', 'should', 'better', 'what', 'again', 'like', 'for', 'ZZ', 'needs', 'sees', \"there've\", 'respectively', 'puts', 'further', 'everywhere', 'y', 'com', 'fifth', 'older', 'date', 'described', 'ended', 'seemed', 'value', 'ups', 'line', 'each', 'afterwards', 'than', 'show', 'someone', 'past', 'somebody', 'accordance', 'parted', 'known', 'places', 'most', 'immediate', 'many', 'usefully', 'resulting', 'therein', 'regardless', 'anyway', \"i'm\", 'ff', 'almost', 'sorry', 'point', 'can', 'worked', 'somewhat', 'fully', 'enough', 'six', 'instead', 'longest', 'still', 'necessary', 'meanwhile', 'ours', 'their', 'eg', 'hereby', '2', 'ones', 'great', 'na', 'never', 'outside', 'specifying', 'aside', 'information', 'novel', 'sent', 'know', 'c', 'viz', 'not', 'ZT', 'help', 'kept', 'being', 'best', 'year', 'potentially', 'whomever', 'yourselves', 'against', 'upon', 'ts', 'very', '0', 'where', 'tries', 'various', 'good', 'keys', 'ok', 'goods', 'knew', 'myself', 'herself', 'tell', 'put', 'me', 'specified', 'due', 'give', 'becomes', 'how', 'j', 'even', 'ran', 'recently', 'ref', 'thus', 'considering', 'faces', 'thoughts', 'maybe', 'obtain', 'followed', 'said', 'thanks', 'arent', 'just', \"can't\", 'backing', 'yet', 'thou', 'second', 'zero', 'into', 'neither', 'unlike', 'k', 'o', 'plus', 'often', 'hello', 'man', 'owing', 'whither', \"you've\", 'sub', 'exactly', 'after', 'between', 'wish', 'by', \"aren't\", 'things', 'during', 'else', 'p', 'hed', \"she'll\", 'smallest', 'herein', 'nevertheless', 'inner', \"wasn't\", 'first', 'this', 'greetings', 'provides', 'differently', 'youngest', 'giving', \"'re\", 'since', 'these', 'both', 'nowhere', 'showns', \"here's\", \"they're\", 'thoughh', 'thousand', 'rd', \"c'mon\", 'it', 'uucp', 'two', 'course', 'invention', 'lately', 'is', 'newest', 'throughout', 'case', 'seeing', 'five', 'need', 'shown', 'include', 'less', 'only', 'nothing', 'significantly', 'kind', 'some', 'ordered', 'given', 'apparently', 'therefore', 'mainly', 'regards', 'vs', 'ever', 'members', 'through', 'within', 'thereof', 'visit', 'few', 'state', 'consequently', 'affecting', 'obviously', 'namely', 'latterly', 'welcome', \"isn't\", \"a's\", 'm', 'moreover', 'f', 'itself', 'et-al', 'among', 'necessarily', 'present', 'results', 'highest', 'down', 'ask', 'index', 'make', 'there', 'several', 'w', 'unto', 'if', 'back', 'via', 'points', 'which', \"'s\", 'gets', 'indicate', 'presents', 'young', 'l', 'are', 'everything', 'your', 'thoroughly', 'definitely', 'inc', 'over', 'out', 'ml', 'because', 'hardly', 'specifically', 'recent', 'wherever', 'yourself', 'appear', 'having', 'with', 'were', 'despite', 'latest', 'become', \"it'd\", 'might', 'onto', 'thereby', 'will', 'alone', 'proud', 'possible', 't', 'becoming', 'do', \"we're\", 'say', \"don't\", 'whenever', 'off', 'anyhow', 'backed', 'hes', 'sup', \"shouldn't\", 'though', 'here', 'high', 'million', 'name', 'reasonably', 'today', 'fact', 'greater', 'according', 'when', 'allows', 'anyone', 'beginnings', 'fix', 'areas', 'mr', 'old', \"there'll\", \"it's\", 'furthermore', 'thereupon', 'readily', 'much', 'b', 'going', \"you'd\", 'mean', 'nearly', 'inward', 'early', 'example', 'resulted', \"there's\", 'find', 'grouped', 'et', 'sometime', \"c's\", 'meantime', 'must', '6', 'third', 'wanting', 'lets', 'other', 'little', 'v', 'none', 'sec', 'hereupon', 'means', 'whod', 'gave', 'yes', 'goes', 'briefly', 'saying', 'behind', 'shall', 'poorly', 'regarding', 'asking', 'placed', 'would', 'theyd', 'discuss', 'unfortunately', 'his', 'interested', 'downs', 'particular', 'indicates', \"that's\", 'usefulness', 'no', 'above', 'ord', 'omitted', 'accordingly', 'thing', 'turn', 'across', 'oldest', 'merely', 'room', 'x', 'whoever', 'ah', 'end', 'too', 'in', 'seeming', 'evenly', 'thats', 'gone', 'cases', 'showed', 'thinks', \"we've\", 'g', 'seems', \"'t\", 'selves', 'together', '$', 'former', 'part', 'him', 'small', \"let's\", 'anymore', \"i've\", 'them', 'they', 'allow', 'asks', \"they'll\", 'done', 'asked', 'went', 'one', 'usually', 'able', 'thorough', 'its', 'mg', 'us', 'gives', 'of', 'until', 'beside', \"hasn't\", 'presenting', 'last', 'actually', 'whos', \"n't\", 'opening', 'or', 'differ', 'hence', 'currently', 'furthered', 'felt', 'mostly', 'research', 'truly', 'furthering', 'overall', 'amongst', 'greatest', 'taken', 'from', \"that've\", 'big', 'tends', 'besides', 'see', 'appropriate', 'ignored', 'abst', 'amazon', 'cannot', 'anywhere', 'go', \"hadn't\", 'id', 'side', 'shed', 'soon', 'th', 'opened', 'work', 'stop', 'men', 'facts', 'q', 'hither', 'himself', 'working', 'states', 'begins', 'n', 'sensible', \"weren't\", 'auth', 'does', 'was', 'following', 'insofar', 'interest', '3', 'contain', 'without', 'that', 'such', 'importance', 'nine', \"didn't\", 'comes', '5', 'parts', \"doesn't\", 'around', 'seven', 'thought', 'words', 'ed', 'yours', 'pointing', 'widely', 'wants', 'anyways', 'noted', 'member', 'could', 'itd', 'long', 'doing', \"you're\", 'everybody', 'come', 'consider', 'beings', 'finds', 'beauty', 'inasmuch', 'unlikely', \"wouldn't\", 'place', 'order', 'nos', \"they've\", 'entirely', 'look', 'looks', 'ourselves', 'normally', 'parting', 'vols', 'numbers', \"haven't\", 'hereafter', 'new', \"'m\", 'theres', 'run', 'beginning', 'announce', 'specify', 'pointed', 'been', \"he's\", 'then', 'on', 'found', 'use', 'everyone', 'ending', 'probably', 'www', '1', 'may', 'e', 'well', 'wherein', 'indicated', 'corresponding', 'possibly', 'similar', \"who'll\", 'think', 'rooms', 'self', 'tried', 'did', 'tip', 'que', 'works', 'youre', 'generally', 'took', 'category', 'significant', 'all', 'downed', 'hopefully', 'shes', \"won't\", 'seconds', 'nay', 'years', 'longer', 'largely', 'problems', 'am', 'latter', 'every', 'my', 'contains', 'those', 'elsewhere', 'cant', 'describe', 'her', 'try', \"'ll\", \"who's\", 'im', 'un', 'brief', 'section', 'hers', 'themselves', 'toward', 'affected', 'whim', 'whatever', 'now', 'younger', 'd', 'needing', 'liked', 'to', 'towards', 'quickly', 'saw', 'wells', 'vol', 'thence', 'cause', 'oh', \"couldn't\", \"ain't\", \"what'll\", \"t's\", 'nobody', 'price', 'but', 'quite', 'something', 'others', 'turned', 'whose', 'h', 'turning', 'thank', 'get', 'nor', \"'ve\", 'using', '9', 'ordering', 'whole', 'whereas', 'affects', 'full', 'willing', 'while', 'ought', 'number', 'whom', 'sometimes', 'z', 'otherwise', 'although', 'presented', '4', 'already', 'appreciate', 'four', 'has', 'therere', 'whereafter', 'added', 'next', 'own', 'per', 'secondly', 'along', 'aren', 'formerly', 'near', 'believe', 'area', 'be', 'ways', 'away', 'ninety', 'home', \"where's\", 'once', 'want', 'strongly', 'century', 'before', 'any', 'an', 'ex', 'certainly', \"it'll\", 'smaller', 'relatively', 'edu', 'youd'}\n"
     ]
    }
   ],
   "source": [
    "stop_file = \"stopwords.txt\"\n",
    "with open(stop_file, \"r\") as f:\n",
    "    stopwords = f.read().split(\"\\n\")\n",
    "stopwords = [s.strip() for s in stopwords]\n",
    "stopwords = set(stopwords)\n",
    "print(stopwords)"
   ]
  },
  {
   "cell_type": "code",
   "execution_count": 20,
   "metadata": {},
   "outputs": [
    {
     "name": "stdout",
     "output_type": "stream",
     "text": [
      "dict_keys(['1', '2', '3', '4', '5', '6', '7', '8', '9', '10', '11', '12', '13', '14', '15', '16', '17', '18', '19', '20', '21', '22', '23', '24', '25', '26', '27', '28', '29', '30', '31', '32', '33', '34', '35', '36', '37', '38', '39', '40', '41', '42', '43', '44', '45', '46', '47', '48', '49', '50', '51', '52', '53', '54', '55', '56', '57', '58', '59', '60', '61', '62', '63', '64', '65', '66', '67', '68', '69', '70', '71', '72', '73', '74', '75', '76', '77', '78', '79', '80', '81', '82', '83', '84', '85', '86', '87', '88', '89', '90', '91', '92', '93', '94', '95', '96', '97', '98', '99', '100', '101', '102', '103', '104', '105', '106', '107', '108', '109', '110', '111', '112', '113', '114', '115', '116', '117', '118', '119', '120', '121', '122', '123', '124', '125', '126', '127', '128', '129', '130', '131', '132', '133', '134', '135', '136', '137', '138', '139', '140', '141', '142', '143', '144', '145', '146', '147', '148', '149', '150', '151', '152', '153', '154', '155', '156', '157', '158', '159', '160', '161', '162', '163', '164', '165', '166', '167', '168', '169', '170', '171', '172', '173', '174', '175', '176', '177', '178', '179', '180', '181', '182', '183', '184', '185', '186', '187', '188', '189', '190', '191', '192', '193', '194', '195', '196', '197', '198', '199', '200', '201', '202', '203', '204', '205', '206', '207', '208', '209', '210', '211', '212', '213', '214', '215', '216', '217', '218', '219', '220', '221', '222', '223', '224', '225', '226', '227', '228', '229', '230', '231', '232', '233', '234', '235', '236', '237', '238', '239', '240', '241', '242', '243', '244', '245', '246', '247', '248', '249', '250', '251', '252', '253', '254', '255', '256', '257', '258', '259', '260', '261', '262', '263', '264', '265', '266', '267', '268', '269', '270', '271', '272', '273', '274', '275', '276', '277', '278', '279', '280', '281', '282', '283', '284', '285', '286', '287', '288', '289', '290', '291', '292', '293', '294', '295', '296', '297', '298', '299', '300', '301', '302', '303', '304', '305', '306', '307', '308', '309', '310', '311', '312', '313', '314', '315', '316', '317', '318', '319', '320', '321', '322', '323', '324', '325', '326', '327', '328', '329', '330', '331', '332', '333', '334', '335', '336', '337', '338', '339', '340', '341', '342', '343', '344', '345', '346', '347', '348', '349', '350', '351', '352', '353', '354', '355', '356', '357', '358', '359', '360', '361', '362', '363', '364', '365', '366', '367', '368', '369', '370', '371', '372', '373', '374', '375', '376', '377', '378', '379', '380', '381', '382', '383', '384', '385', '386', '387', '388', '389', '390', '391', '392', '393', '394', '395', '396', '397', '398', '399', '400', '401', '402', '403', '404', '405', '406', '407', '408', '409', '410', '411', '412', '413', '414', '415', '416', '417', '418', '419', '420', '421', '422', '423', '424', '425', '426', '427', '428', '429', '430', '431', '432', '433', '434', '435', '436', '437', '438', '439', '440', '441', '442', '443', '444', '445', '446', '447', '448', '449', '450', '451', '452', '453', '454', '455', '456', '457', '458', '459', '460', '461', '462', '463', '464', '465', '466', '467', '468', '469', '470', '471', '472', '473', '474', '475', '476', '477', '478', '479', '480', '481', '482', '483', '484', '485', '486', '487', '488', '489', '490', '491', '492', '493', '494', '495', '496', '497', '498', '499', '500', '501', '502', '503', '504', '505', '506', '507', '508', '509', '510', '511', '512', '513', '514', '515', '516', '517', '518', '519', '520', '521', '522', '523', '524', '525', '526', '527', '528', '529', '530', '531', '532', '533', '534', '535', '536', '537', '538', '539', '540', '541', '542', '543', '544', '545', '546', '547', '548', '549', '550', '551', '552', '553', '554', '555', '556', '557', '558', '559', '560', '561', '562', '563', '564', '565', '566', '567', '568', '569', '570', '571', '572', '573', '574', '575', '576', '577', '578', '579', '580', '581', '582', '583', '584', '585', '586', '587', '588', '589', '590', '591', '592', '593', '594', '595', '596', '597', '598', '599', '600', '601', '602', '603', '604', '605', '606', '607', '608', '609', '610', '611', '612', '613', '614', '615', '616', '617', '618', '619', '620', '621', '622', '623', '624', '625', '626', '627', '628', '629', '630', '631', '632', '633', '634', '635', '636', '637', '638', '639', '640', '641', '642', '643', '644', '645', '646', '647', '648'])\n"
     ]
    }
   ],
   "source": [
    "data_dir = '/home/yuqihang/workroot/models/data/collm/beauty'\n",
    "id2key_file = os.path.join(data_dir, 'id2keywords2.json')\n",
    "id2title = os.path.join(data_dir, 'id2title.json')\n",
    "# save_dir = os.path.join(data_dir, 'id2keywords.json')\n",
    "\n",
    "with open(id2key_file, 'r') as f:\n",
    "    id2key = json.load(f)\n",
    "with open(id2titles, 'r') as f:\n",
    "    id2titles = json.load(f)\n",
    "print(id2key.keys())"
   ]
  },
  {
   "cell_type": "code",
   "execution_count": 21,
   "metadata": {},
   "outputs": [
    {
     "name": "stderr",
     "output_type": "stream",
     "text": [
      "100%|██████████| 648/648 [09:13<00:00,  1.17it/s, key=gloss, buy, flawless, gorgeous, cosmetics, highlight, highlighting, featured]  \n"
     ]
    },
    {
     "name": "stderr",
     "output_type": "stream",
     "text": []
    }
   ],
   "source": [
    "sbar = tqdm(total=len(id2key))\n",
    "for key,meta in list(id2key.items()):\n",
    "    keywords = meta['keywords']\n",
    "    # print(keywords)\n",
    "    #替换数字替换类似 1920s 19th 1. 这样子的串\n",
    "    keywords = re.sub(r'\\d+[.stndrh ]\\s*', '', keywords.replace('-',' ').replace('$',' '))\n",
    "    #以空格分割，去除停用词\n",
    "    keywords = set(re.split(r'\\s*,\\s*', keywords.lower()))-stopwords\n",
    "    # 去除长度小于3的词和包含 \\ 的词\n",
    "    keywords = [k for k in keywords if len(k) >= 3 and '\\\\'not in k][:10]\n",
    "    id2key[key]['keywords'] = ', '.join(keywords)\n",
    "    sbar.set_postfix(key=id2key[key]['keywords'])\n",
    "    sbar.update(1)\n",
    "    # print(keywords)\n",
    "# with open(save_dir, 'w') as f:\n",
    "#     json.dump(id2key, f, indent=4)\n"
   ]
  },
  {
   "cell_type": "code",
   "execution_count": 24,
   "metadata": {},
   "outputs": [],
   "source": [
    "for idx,meta in id2titles.items():\n",
    "    meta['keywords'] = id2key[idx]['keywords']\n",
    "    id2titles[idx] = meta"
   ]
  },
  {
   "cell_type": "code",
   "execution_count": 25,
   "metadata": {},
   "outputs": [
    {
     "data": {
      "text/plain": [
       "{'title': 'Braun Clean amp; Renew Refill Cartridges CCR - 2 Count (Packaging May Vary)',\n",
       " 'description': 'With Braun Clean Renew refills, you can keep your shaver in like-new condition every day. Offered in multiple pack sizes, the Clean Renew refills are used in Brauns patented Clean Renew system base for when you are looking to clean, charge and lubricate your Braun shaver.',\n",
       " 'brand': 'Braun',\n",
       " 'price': '$11.94',\n",
       " 'keywords': 'makeup, hair, belts, fashion, clothes, style, accessories, wallets, shoes, clothing'}"
      ]
     },
     "execution_count": 25,
     "metadata": {},
     "output_type": "execute_result"
    }
   ],
   "source": [
    "id2titles['1']"
   ]
  },
  {
   "cell_type": "code",
   "execution_count": 26,
   "metadata": {},
   "outputs": [],
   "source": [
    "with open(os.path.join(data_dir, 'id2title2.json'), 'w') as f:\n",
    "    titles = json.dump(id2titles, f, indent=4)"
   ]
  }
 ],
 "metadata": {
  "kernelspec": {
   "display_name": "llara",
   "language": "python",
   "name": "python3"
  },
  "language_info": {
   "codemirror_mode": {
    "name": "ipython",
    "version": 3
   },
   "file_extension": ".py",
   "mimetype": "text/x-python",
   "name": "python",
   "nbconvert_exporter": "python",
   "pygments_lexer": "ipython3",
   "version": "3.9.0"
  }
 },
 "nbformat": 4,
 "nbformat_minor": 2
}
