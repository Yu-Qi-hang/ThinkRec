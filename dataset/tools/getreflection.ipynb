{
 "cells": [
  {
   "cell_type": "markdown",
   "metadata": {},
   "source": [
    "## load wrong data"
   ]
  },
  {
   "cell_type": "code",
   "execution_count": 15,
   "metadata": {},
   "outputs": [],
   "source": [
    "import os\n",
    "import re\n",
    "import numpy as np\n",
    "import pandas as pd"
   ]
  },
  {
   "cell_type": "code",
   "execution_count": 2,
   "metadata": {},
   "outputs": [],
   "source": [
    "wrong_file = '/home/yuqihang/projects/CoLLM/collm-datasets/bookdu/reflection/wrong_1.txt'"
   ]
  },
  {
   "cell_type": "code",
   "execution_count": 3,
   "metadata": {},
   "outputs": [],
   "source": [
    "with open(wrong_file,'r') as f:\n",
    "    wrong_list = f.readlines()\n",
    "len(wrong_list)"
   ]
  },
  {
   "cell_type": "code",
   "execution_count": 5,
   "metadata": {},
   "outputs": [],
   "source": [
    "uid = []\n",
    "iid = []\n",
    "his = [] \n",
    "label = []\n",
    "his_label = []\n",
    "his_title = []\n",
    "title = []\n",
    "for line in wrong_list:\n",
    "    data = line.split('\\sep')\n",
    "    uid.append(int(data[0]))\n",
    "    iid.append(int(data[1]))\n",
    "    his.append(eval(data[2]))\n",
    "    label.append(int(data[3]))\n",
    "    his_label.append(eval(data[4]))\n",
    "    his_title.append(data[5].replace('with feature <ItemID> ',''))\n",
    "    title.append(data[6].replace('\\n',''))"
   ]
  },
  {
   "cell_type": "code",
   "execution_count": 6,
   "metadata": {},
   "outputs": [],
   "source": [
    "wrong_data = pd.DataFrame({\"uid\":uid,'iid':iid,'label':label, 'his':his,'his_label':his_label,'his_title':his_title,'title':title})"
   ]
  },
  {
   "cell_type": "code",
   "execution_count": 7,
   "metadata": {},
   "outputs": [
    {
     "data": {
      "text/html": [
       "<div>\n",
       "<style scoped>\n",
       "    .dataframe tbody tr th:only-of-type {\n",
       "        vertical-align: middle;\n",
       "    }\n",
       "\n",
       "    .dataframe tbody tr th {\n",
       "        vertical-align: top;\n",
       "    }\n",
       "\n",
       "    .dataframe thead th {\n",
       "        text-align: right;\n",
       "    }\n",
       "</style>\n",
       "<table border=\"1\" class=\"dataframe\">\n",
       "  <thead>\n",
       "    <tr style=\"text-align: right;\">\n",
       "      <th></th>\n",
       "      <th>uid</th>\n",
       "      <th>iid</th>\n",
       "      <th>label</th>\n",
       "      <th>his</th>\n",
       "      <th>his_label</th>\n",
       "      <th>his_title</th>\n",
       "      <th>title</th>\n",
       "    </tr>\n",
       "  </thead>\n",
       "  <tbody>\n",
       "    <tr>\n",
       "      <th>0</th>\n",
       "      <td>20927</td>\n",
       "      <td>40012</td>\n",
       "      <td>0</td>\n",
       "      <td>[30252, 44599, 36606, 44751, 45031, 44960, 187...</td>\n",
       "      <td>[0, 1, 1, 1, 1, 1, 1, 0, 1, 1]</td>\n",
       "      <td>\"The Palisade (Lavender Shores)\" (evaluation: ...</td>\n",
       "      <td>\"P.S. I Spook You\" with description: life, wri...</td>\n",
       "    </tr>\n",
       "    <tr>\n",
       "      <th>1</th>\n",
       "      <td>8483</td>\n",
       "      <td>20626</td>\n",
       "      <td>1</td>\n",
       "      <td>[40433, 20414, 20471, 33539, 39841, 34463, 347...</td>\n",
       "      <td>[1, 1, 0, 1, 0, 0, 0, 0, 1, 0]</td>\n",
       "      <td>\"The Bad Boy Next Door\" (evaluation: Yes) with...</td>\n",
       "      <td>\"The Bad Luck Bride: The Cavensham Heiresses\" ...</td>\n",
       "    </tr>\n",
       "    <tr>\n",
       "      <th>2</th>\n",
       "      <td>6390</td>\n",
       "      <td>3886</td>\n",
       "      <td>1</td>\n",
       "      <td>[20334, 10160, 9536, 37380, 15208, 19818]</td>\n",
       "      <td>[1, 0, 0, 1, 0, 1]</td>\n",
       "      <td>\"Wintersong: A Novel\" (evaluation: Yes) with d...</td>\n",
       "      <td>\"Greater Gotham: A History of New York City fr...</td>\n",
       "    </tr>\n",
       "    <tr>\n",
       "      <th>3</th>\n",
       "      <td>5639</td>\n",
       "      <td>21757</td>\n",
       "      <td>1</td>\n",
       "      <td>[40397, 42989, 36136, 2032, 23311, 38134, 2307...</td>\n",
       "      <td>[1, 0, 0, 1, 1, 1, 1, 1, 1, 1]</td>\n",
       "      <td>\"Accidentally Compromising the Duke\" (evaluati...</td>\n",
       "      <td>\"It Started with a Kiss (The Worthingtons)\" wi...</td>\n",
       "    </tr>\n",
       "    <tr>\n",
       "      <th>4</th>\n",
       "      <td>15532</td>\n",
       "      <td>45963</td>\n",
       "      <td>0</td>\n",
       "      <td>[33547, 33717, 33775, 43474, 40343, 33677, 169...</td>\n",
       "      <td>[1, 0, 1, 0, 1, 1, 0, 1, 1, 1]</td>\n",
       "      <td>\"Trick (A Cocky Cage Fighter Novel) (Volume 7)...</td>\n",
       "      <td>\"The Bartender (Modern Love) (Volume 1)\" with ...</td>\n",
       "    </tr>\n",
       "  </tbody>\n",
       "</table>\n",
       "</div>"
      ],
      "text/plain": [
       "     uid    iid  label                                                his  \\\n",
       "0  20927  40012      0  [30252, 44599, 36606, 44751, 45031, 44960, 187...   \n",
       "1   8483  20626      1  [40433, 20414, 20471, 33539, 39841, 34463, 347...   \n",
       "2   6390   3886      1          [20334, 10160, 9536, 37380, 15208, 19818]   \n",
       "3   5639  21757      1  [40397, 42989, 36136, 2032, 23311, 38134, 2307...   \n",
       "4  15532  45963      0  [33547, 33717, 33775, 43474, 40343, 33677, 169...   \n",
       "\n",
       "                        his_label  \\\n",
       "0  [0, 1, 1, 1, 1, 1, 1, 0, 1, 1]   \n",
       "1  [1, 1, 0, 1, 0, 0, 0, 0, 1, 0]   \n",
       "2              [1, 0, 0, 1, 0, 1]   \n",
       "3  [1, 0, 0, 1, 1, 1, 1, 1, 1, 1]   \n",
       "4  [1, 0, 1, 0, 1, 1, 0, 1, 1, 1]   \n",
       "\n",
       "                                           his_title  \\\n",
       "0  \"The Palisade (Lavender Shores)\" (evaluation: ...   \n",
       "1  \"The Bad Boy Next Door\" (evaluation: Yes) with...   \n",
       "2  \"Wintersong: A Novel\" (evaluation: Yes) with d...   \n",
       "3  \"Accidentally Compromising the Duke\" (evaluati...   \n",
       "4  \"Trick (A Cocky Cage Fighter Novel) (Volume 7)...   \n",
       "\n",
       "                                               title  \n",
       "0  \"P.S. I Spook You\" with description: life, wri...  \n",
       "1  \"The Bad Luck Bride: The Cavensham Heiresses\" ...  \n",
       "2  \"Greater Gotham: A History of New York City fr...  \n",
       "3  \"It Started with a Kiss (The Worthingtons)\" wi...  \n",
       "4  \"The Bartender (Modern Love) (Volume 1)\" with ...  "
      ]
     },
     "execution_count": 7,
     "metadata": {},
     "output_type": "execute_result"
    }
   ],
   "source": [
    "wrong_data.head()"
   ]
  },
  {
   "cell_type": "code",
   "execution_count": 8,
   "metadata": {},
   "outputs": [],
   "source": [
    "wrong_data['his_pad'] = wrong_data['his'].map(lambda x: [0]+x if len(x) < 10 else x)\n",
    "wrong_data['his_label_pad'] = wrong_data['his_label'].map(lambda x: [0]+x if len(x) < 10 else x)"
   ]
  },
  {
   "cell_type": "code",
   "execution_count": 9,
   "metadata": {},
   "outputs": [
    {
     "data": {
      "text/html": [
       "<div>\n",
       "<style scoped>\n",
       "    .dataframe tbody tr th:only-of-type {\n",
       "        vertical-align: middle;\n",
       "    }\n",
       "\n",
       "    .dataframe tbody tr th {\n",
       "        vertical-align: top;\n",
       "    }\n",
       "\n",
       "    .dataframe thead th {\n",
       "        text-align: right;\n",
       "    }\n",
       "</style>\n",
       "<table border=\"1\" class=\"dataframe\">\n",
       "  <thead>\n",
       "    <tr style=\"text-align: right;\">\n",
       "      <th></th>\n",
       "      <th>uid</th>\n",
       "      <th>iid</th>\n",
       "      <th>label</th>\n",
       "      <th>his</th>\n",
       "      <th>his_label</th>\n",
       "      <th>his_title</th>\n",
       "      <th>title</th>\n",
       "    </tr>\n",
       "  </thead>\n",
       "  <tbody>\n",
       "    <tr>\n",
       "      <th>0</th>\n",
       "      <td>20927</td>\n",
       "      <td>40012</td>\n",
       "      <td>0</td>\n",
       "      <td>[30252, 44599, 36606, 44751, 45031, 44960, 187...</td>\n",
       "      <td>[0, 1, 1, 1, 1, 1, 1, 0, 1, 1]</td>\n",
       "      <td>\"The Palisade (Lavender Shores)\" (evaluation: ...</td>\n",
       "      <td>\"P.S. I Spook You\" with description: life, wri...</td>\n",
       "    </tr>\n",
       "    <tr>\n",
       "      <th>1</th>\n",
       "      <td>8483</td>\n",
       "      <td>20626</td>\n",
       "      <td>1</td>\n",
       "      <td>[40433, 20414, 20471, 33539, 39841, 34463, 347...</td>\n",
       "      <td>[1, 1, 0, 1, 0, 0, 0, 0, 1, 0]</td>\n",
       "      <td>\"The Bad Boy Next Door\" (evaluation: Yes) with...</td>\n",
       "      <td>\"The Bad Luck Bride: The Cavensham Heiresses\" ...</td>\n",
       "    </tr>\n",
       "    <tr>\n",
       "      <th>2</th>\n",
       "      <td>6390</td>\n",
       "      <td>3886</td>\n",
       "      <td>1</td>\n",
       "      <td>[0, 20334, 10160, 9536, 37380, 15208, 19818]</td>\n",
       "      <td>[0, 1, 0, 0, 1, 0, 1]</td>\n",
       "      <td>\"Wintersong: A Novel\" (evaluation: Yes) with d...</td>\n",
       "      <td>\"Greater Gotham: A History of New York City fr...</td>\n",
       "    </tr>\n",
       "    <tr>\n",
       "      <th>3</th>\n",
       "      <td>5639</td>\n",
       "      <td>21757</td>\n",
       "      <td>1</td>\n",
       "      <td>[40397, 42989, 36136, 2032, 23311, 38134, 2307...</td>\n",
       "      <td>[1, 0, 0, 1, 1, 1, 1, 1, 1, 1]</td>\n",
       "      <td>\"Accidentally Compromising the Duke\" (evaluati...</td>\n",
       "      <td>\"It Started with a Kiss (The Worthingtons)\" wi...</td>\n",
       "    </tr>\n",
       "    <tr>\n",
       "      <th>4</th>\n",
       "      <td>15532</td>\n",
       "      <td>45963</td>\n",
       "      <td>0</td>\n",
       "      <td>[33547, 33717, 33775, 43474, 40343, 33677, 169...</td>\n",
       "      <td>[1, 0, 1, 0, 1, 1, 0, 1, 1, 1]</td>\n",
       "      <td>\"Trick (A Cocky Cage Fighter Novel) (Volume 7)...</td>\n",
       "      <td>\"The Bartender (Modern Love) (Volume 1)\" with ...</td>\n",
       "    </tr>\n",
       "  </tbody>\n",
       "</table>\n",
       "</div>"
      ],
      "text/plain": [
       "     uid    iid  label                                                his  \\\n",
       "0  20927  40012      0  [30252, 44599, 36606, 44751, 45031, 44960, 187...   \n",
       "1   8483  20626      1  [40433, 20414, 20471, 33539, 39841, 34463, 347...   \n",
       "2   6390   3886      1       [0, 20334, 10160, 9536, 37380, 15208, 19818]   \n",
       "3   5639  21757      1  [40397, 42989, 36136, 2032, 23311, 38134, 2307...   \n",
       "4  15532  45963      0  [33547, 33717, 33775, 43474, 40343, 33677, 169...   \n",
       "\n",
       "                        his_label  \\\n",
       "0  [0, 1, 1, 1, 1, 1, 1, 0, 1, 1]   \n",
       "1  [1, 1, 0, 1, 0, 0, 0, 0, 1, 0]   \n",
       "2           [0, 1, 0, 0, 1, 0, 1]   \n",
       "3  [1, 0, 0, 1, 1, 1, 1, 1, 1, 1]   \n",
       "4  [1, 0, 1, 0, 1, 1, 0, 1, 1, 1]   \n",
       "\n",
       "                                           his_title  \\\n",
       "0  \"The Palisade (Lavender Shores)\" (evaluation: ...   \n",
       "1  \"The Bad Boy Next Door\" (evaluation: Yes) with...   \n",
       "2  \"Wintersong: A Novel\" (evaluation: Yes) with d...   \n",
       "3  \"Accidentally Compromising the Duke\" (evaluati...   \n",
       "4  \"Trick (A Cocky Cage Fighter Novel) (Volume 7)...   \n",
       "\n",
       "                                               title  \n",
       "0  \"P.S. I Spook You\" with description: life, wri...  \n",
       "1  \"The Bad Luck Bride: The Cavensham Heiresses\" ...  \n",
       "2  \"Greater Gotham: A History of New York City fr...  \n",
       "3  \"It Started with a Kiss (The Worthingtons)\" wi...  \n",
       "4  \"The Bartender (Modern Love) (Volume 1)\" with ...  "
      ]
     },
     "execution_count": 9,
     "metadata": {},
     "output_type": "execute_result"
    }
   ],
   "source": [
    "wrong_data = wrong_data[['uid','iid','label','his_pad','his_label_pad','his_title','title']]\n",
    "wrong_data.columns = ['uid','iid','label','his','his_label','his_title','title']\n",
    "wrong_data.head()"
   ]
  },
  {
   "cell_type": "code",
   "execution_count": 10,
   "metadata": {},
   "outputs": [],
   "source": [
    "wrong_data.to_csv(wrong_file.replace('.txt','.csv'),index=False)"
   ]
  },
  {
   "cell_type": "markdown",
   "metadata": {},
   "source": [
    "## Get analysis"
   ]
  },
  {
   "cell_type": "code",
   "execution_count": 2,
   "metadata": {},
   "outputs": [],
   "source": [
    "import os\n",
    "import numpy as np\n",
    "import pandas as pd"
   ]
  },
  {
   "cell_type": "code",
   "execution_count": 56,
   "metadata": {},
   "outputs": [],
   "source": [
    "wrong_data = pd.read_csv('/home/yuqihang/projects/CoLLM/collm-datasets/bookdu/reflection/wrong_1.csv')"
   ]
  },
  {
   "cell_type": "code",
   "execution_count": 57,
   "metadata": {},
   "outputs": [],
   "source": [
    "from tqdm import tqdm\n",
    "import requests\n",
    "from openai import OpenAI\n",
    "url = 'https://api.siliconflow.cn/v1/'\n",
    "api_key = 'sk-aqjpdmbxfmztkooxohnyxcbngysqhpgmjwxojihwwzuxojnj'\n",
    "\n",
    "def get_response(client,message):\n",
    "    for delay_secs in (2**x for x in range(0, 10)):\n",
    "        try:\n",
    "            response = client.chat.completions.create(\n",
    "                model=\"Qwen/QwQ-32B\",\n",
    "                messages=message,\n",
    "                stream=False, \n",
    "                max_tokens=1024\n",
    "            )\n",
    "            content = response.choices[0].message.content\n",
    "            reasoning_content = response.choices[0].message.reasoning_content\n",
    "            return content, reasoning_content\n",
    "        except openai.OpenAIError as e:\n",
    "            randomness_collision_avoidance = random.randint(0, 1000) / 1000.0\n",
    "            sleep_dur = delay_secs + randomness_collision_avoidance\n",
    "            print(f\"Error: {e}. Retrying in {round(sleep_dur, 2)} seconds.\")\n",
    "            time.sleep(sleep_dur)\n",
    "            continue"
   ]
  },
  {
   "cell_type": "code",
   "execution_count": 58,
   "metadata": {},
   "outputs": [],
   "source": [
    "label2text = {0:'No',1:'Yes'}\n",
    "prompt_template = '''A user has given high ratings to the following books: <HisItemList>. Using all available information, make a prediction about whether the user would enjoy the book titled <TargetItemTitle>?'''\n",
    "hints = 'The correct response is <answer>. Reflect on multiple aspects based on historical information and reanalyze to determine if the target item will be liked by users. Explain the reason for the oversight based on the previous analysis.'"
   ]
  },
  {
   "cell_type": "code",
   "execution_count": 62,
   "metadata": {},
   "outputs": [
    {
     "name": "stderr",
     "output_type": "stream",
     "text": [
      "Generating Reasoning:   0%|          | 0/2 [00:00<?, ?it/s]"
     ]
    },
    {
     "name": "stderr",
     "output_type": "stream",
     "text": [
      "Generating Reasoning: 100%|██████████| 2/2 [01:14<00:00, 37.32s/it, cnt=2]\n"
     ]
    }
   ],
   "source": [
    "reasons = []\n",
    "sbar = tqdm(total = len(wrong_data))\n",
    "sbar.set_description('Generating Reasoning')\n",
    "for idx in range(len(wrong_data)):\n",
    "    row = wrong_data.iloc[idx]\n",
    "    label = row['label']\n",
    "    his_seq = row['his_title']\n",
    "    target = row['title']\n",
    "    message = prompt_template.replace('<HisItemList>',his_seq).replace('<TargetItemTitle>',target)\n",
    "    his_message = [\n",
    "        {\"role\": \"system\",\"content\": \"You are a helpful recommender answer with Yes or No.\"},\n",
    "        {\"role\": \"user\",\"content\": message}\n",
    "    ]\n",
    "    client = OpenAI(base_url=url,api_key=api_key)\n",
    "    answer,reasoning_content = get_response(client,his_message)\n",
    "    cnt = 1\n",
    "    while label2text[label] not in answer:\n",
    "        # his_message.pop(0)\n",
    "        his_message.append({\"role\": \"assistant\",\"content\": label2text[1-label]})\n",
    "        his_message.append({\"role\": \"user\",\"content\": hints.replace('<answer>',label2text[label])})\n",
    "        answer,reasoning_content = get_response(client,his_message)\n",
    "        cnt += 1\n",
    "    reasons.append(f'{label2text[label]}. {reasoning_content}')\n",
    "    sbar.set_postfix(cnt=cnt)\n",
    "    if cnt > 5:\n",
    "        print(f'cnt:{cnt}')\n",
    "    sbar.update(1)\n",
    "sbar.close()"
   ]
  },
  {
   "cell_type": "code",
   "execution_count": null,
   "metadata": {},
   "outputs": [],
   "source": [
    "wrong_data['reason'] = reasons"
   ]
  },
  {
   "cell_type": "code",
   "execution_count": null,
   "metadata": {},
   "outputs": [],
   "source": [
    "wrong_data.to_csv(wrong_file.replace('.txt','.csv'),index=False)"
   ]
  },
  {
   "cell_type": "markdown",
   "metadata": {},
   "source": [
    "## Merge csv"
   ]
  },
  {
   "cell_type": "code",
   "execution_count": 1,
   "metadata": {},
   "outputs": [],
   "source": [
    "import os\n",
    "import pandas as pd\n",
    "import numpy as np\n",
    "import re\n",
    "from glob import glob"
   ]
  },
  {
   "cell_type": "code",
   "execution_count": 2,
   "metadata": {},
   "outputs": [],
   "source": [
    "csv_dir = '/home/yuqihang/workroot/models/data/collm/yelpdu/reason'"
   ]
  },
  {
   "cell_type": "code",
   "execution_count": 3,
   "metadata": {},
   "outputs": [],
   "source": [
    "csv_files = glob(f'{csv_dir}/wrong*.csv')"
   ]
  },
  {
   "cell_type": "code",
   "execution_count": 4,
   "metadata": {},
   "outputs": [
    {
     "data": {
      "text/plain": [
       "['/home/yuqihang/workroot/models/data/collm/ml1mdu/reason/wrong_batch_15.csv',\n",
       " '/home/yuqihang/workroot/models/data/collm/ml1mdu/reason/wrong_batch_17.csv',\n",
       " '/home/yuqihang/workroot/models/data/collm/ml1mdu/reason/wrong_batch_7.csv',\n",
       " '/home/yuqihang/workroot/models/data/collm/ml1mdu/reason/wrong_batch_14.csv',\n",
       " '/home/yuqihang/workroot/models/data/collm/ml1mdu/reason/wrong_batch_1.csv',\n",
       " '/home/yuqihang/workroot/models/data/collm/ml1mdu/reason/wrong_batch_11.csv',\n",
       " '/home/yuqihang/workroot/models/data/collm/ml1mdu/reason/wrong_batch_3.csv',\n",
       " '/home/yuqihang/workroot/models/data/collm/ml1mdu/reason/wrong_batch_13.csv',\n",
       " '/home/yuqihang/workroot/models/data/collm/ml1mdu/reason/wrong_batch_5.csv',\n",
       " '/home/yuqihang/workroot/models/data/collm/ml1mdu/reason/wrong_batch_8.csv',\n",
       " '/home/yuqihang/workroot/models/data/collm/ml1mdu/reason/wrong_batch_6.csv',\n",
       " '/home/yuqihang/workroot/models/data/collm/ml1mdu/reason/wrong_batch_18.csv',\n",
       " '/home/yuqihang/workroot/models/data/collm/ml1mdu/reason/wrong_batch_19.csv',\n",
       " '/home/yuqihang/workroot/models/data/collm/ml1mdu/reason/wrong_batch_9.csv',\n",
       " '/home/yuqihang/workroot/models/data/collm/ml1mdu/reason/wrong_batch_20.csv',\n",
       " '/home/yuqihang/workroot/models/data/collm/ml1mdu/reason/wrong_batch_10.csv',\n",
       " '/home/yuqihang/workroot/models/data/collm/ml1mdu/reason/wrong_batch_16.csv',\n",
       " '/home/yuqihang/workroot/models/data/collm/ml1mdu/reason/wrong_batch_2.csv',\n",
       " '/home/yuqihang/workroot/models/data/collm/ml1mdu/reason/wrong_batch_12.csv',\n",
       " '/home/yuqihang/workroot/models/data/collm/ml1mdu/reason/wrong_batch_4.csv']"
      ]
     },
     "execution_count": 4,
     "metadata": {},
     "output_type": "execute_result"
    }
   ],
   "source": [
    "csv_files"
   ]
  },
  {
   "cell_type": "code",
   "execution_count": 5,
   "metadata": {},
   "outputs": [],
   "source": [
    "save_file = 'reason.csv'"
   ]
  },
  {
   "cell_type": "code",
   "execution_count": 6,
   "metadata": {},
   "outputs": [],
   "source": [
    "dfs = []\n",
    "for csv_file in csv_files:\n",
    "    file_path = csv_file#os.path.join(csv_dir, csv_file)\n",
    "    if os.path.exists(file_path):\n",
    "        df = pd.read_csv(file_path)\n",
    "        if not dfs:\n",
    "            dfs.append(df)\n",
    "        else:\n",
    "            if list(df.columns) == list(dfs[0].columns):\n",
    "                dfs.append(df)\n",
    "            else:\n",
    "                print(f\"表头不一致: {csv_file}\")\n",
    "    else:\n",
    "        print(f\"文件不存在: {csv_file}\")\n",
    "if dfs:\n",
    "    df = pd.concat(dfs, ignore_index=True)\n",
    "else:\n",
    "    print(\"没有有效的文件可以合并\")"
   ]
  },
  {
   "cell_type": "code",
   "execution_count": 7,
   "metadata": {},
   "outputs": [],
   "source": [
    "def convert_str_2_list(x):\n",
    "    return np.array([int(item) for item in re.split(r'\\s+', x[1:-1].replace(',',' ').strip(' '))])\n",
    "def dftype(df):\n",
    "    for idx in df.columns:\n",
    "        if isinstance(df[idx][0],list) or isinstance(df[idx][0],np.ndarray):\n",
    "            print(idx,type(df[idx][0]),type(df[idx][0][0]))\n",
    "        else:\n",
    "            print(idx,type(df[idx][0]))"
   ]
  },
  {
   "cell_type": "code",
   "execution_count": 9,
   "metadata": {},
   "outputs": [],
   "source": [
    "df['his_label'] = df['his_label'].map(lambda x: convert_str_2_list(x))\n",
    "df['his'] = df['his'].map(lambda x: convert_str_2_list(x))"
   ]
  },
  {
   "cell_type": "code",
   "execution_count": 12,
   "metadata": {},
   "outputs": [],
   "source": [
    "df['reason'] = df['reason'].apply(lambda x: re.sub(r'\\s+', ' ', x.strip()))"
   ]
  },
  {
   "cell_type": "code",
   "execution_count": 10,
   "metadata": {},
   "outputs": [
    {
     "name": "stdout",
     "output_type": "stream",
     "text": [
      "uid <class 'numpy.int64'>\n",
      "iid <class 'numpy.int64'>\n",
      "label <class 'numpy.int64'>\n",
      "his <class 'numpy.ndarray'> <class 'numpy.int64'>\n",
      "his_label <class 'numpy.ndarray'> <class 'numpy.int64'>\n",
      "his_title <class 'str'>\n",
      "title <class 'str'>\n",
      "reason <class 'str'>\n"
     ]
    }
   ],
   "source": [
    "dftype(df)"
   ]
  },
  {
   "cell_type": "code",
   "execution_count": 13,
   "metadata": {},
   "outputs": [
    {
     "data": {
      "text/html": [
       "<div>\n",
       "<style scoped>\n",
       "    .dataframe tbody tr th:only-of-type {\n",
       "        vertical-align: middle;\n",
       "    }\n",
       "\n",
       "    .dataframe tbody tr th {\n",
       "        vertical-align: top;\n",
       "    }\n",
       "\n",
       "    .dataframe thead th {\n",
       "        text-align: right;\n",
       "    }\n",
       "</style>\n",
       "<table border=\"1\" class=\"dataframe\">\n",
       "  <thead>\n",
       "    <tr style=\"text-align: right;\">\n",
       "      <th></th>\n",
       "      <th>uid</th>\n",
       "      <th>iid</th>\n",
       "      <th>label</th>\n",
       "      <th>his</th>\n",
       "      <th>his_label</th>\n",
       "      <th>his_title</th>\n",
       "      <th>title</th>\n",
       "      <th>reason</th>\n",
       "    </tr>\n",
       "  </thead>\n",
       "  <tbody>\n",
       "    <tr>\n",
       "      <th>0</th>\n",
       "      <td>2275</td>\n",
       "      <td>531</td>\n",
       "      <td>1</td>\n",
       "      <td>[2696, 2081, 341, 1774, 2933, 3132, 1062, 3576...</td>\n",
       "      <td>[1, 1, 0, 0, 0, 1, 1, 0, 0, 0]</td>\n",
       "      <td>\"Love &amp; Sex\" (evaluation: Yes) with descriptio...</td>\n",
       "      <td>\"Hurricane, The\" with description: Drama</td>\n",
       "      <td>Yes. Okay, let's see. The user wants me to pre...</td>\n",
       "    </tr>\n",
       "    <tr>\n",
       "      <th>1</th>\n",
       "      <td>2275</td>\n",
       "      <td>900</td>\n",
       "      <td>0</td>\n",
       "      <td>[3285, 2696, 2081, 341, 1774, 2933, 3132, 1062...</td>\n",
       "      <td>[0, 1, 1, 0, 0, 0, 1, 1, 0, 0]</td>\n",
       "      <td>\"Eight Days a Week\" (evaluation: No) with desc...</td>\n",
       "      <td>\"Big Momma's House\" with description: Comedy</td>\n",
       "      <td>No. Alright, let's tackle this problem step by...</td>\n",
       "    </tr>\n",
       "    <tr>\n",
       "      <th>2</th>\n",
       "      <td>2279</td>\n",
       "      <td>185</td>\n",
       "      <td>1</td>\n",
       "      <td>[647, 848, 738, 559, 1221, 1096, 6, 1345, 642,...</td>\n",
       "      <td>[1, 0, 0, 0, 0, 0, 0, 1, 0, 1]</td>\n",
       "      <td>\"Star Trek IV: The Voyage Home\" (evaluation: Y...</td>\n",
       "      <td>\"Being John Malkovich\" with description: Comedy</td>\n",
       "      <td>Yes. Okay, let me try to figure this out. So, ...</td>\n",
       "    </tr>\n",
       "    <tr>\n",
       "      <th>3</th>\n",
       "      <td>2279</td>\n",
       "      <td>2092</td>\n",
       "      <td>1</td>\n",
       "      <td>[999, 647, 848, 738, 559, 1221, 1096, 6, 1345,...</td>\n",
       "      <td>[1, 1, 0, 0, 0, 0, 0, 0, 1, 0]</td>\n",
       "      <td>\"Metropolis\" (evaluation: Yes) with descriptio...</td>\n",
       "      <td>\"Wonder Boys\" with description: Comedy, Drama</td>\n",
       "      <td>Yes. Okay, let me try to work through this ste...</td>\n",
       "    </tr>\n",
       "    <tr>\n",
       "      <th>4</th>\n",
       "      <td>2296</td>\n",
       "      <td>1196</td>\n",
       "      <td>1</td>\n",
       "      <td>[1119, 1150, 2379, 264, 1180, 483, 1617, 302, ...</td>\n",
       "      <td>[0, 0, 0, 1, 0, 1, 1, 0, 1, 1]</td>\n",
       "      <td>\"Scream\" (evaluation: No) with description: Ho...</td>\n",
       "      <td>\"Some Like It Hot\" with description: Comedy, C...</td>\n",
       "      <td>Yes. Okay, let me try to figure this out. The ...</td>\n",
       "    </tr>\n",
       "  </tbody>\n",
       "</table>\n",
       "</div>"
      ],
      "text/plain": [
       "    uid   iid  label                                                his  \\\n",
       "0  2275   531      1  [2696, 2081, 341, 1774, 2933, 3132, 1062, 3576...   \n",
       "1  2275   900      0  [3285, 2696, 2081, 341, 1774, 2933, 3132, 1062...   \n",
       "2  2279   185      1  [647, 848, 738, 559, 1221, 1096, 6, 1345, 642,...   \n",
       "3  2279  2092      1  [999, 647, 848, 738, 559, 1221, 1096, 6, 1345,...   \n",
       "4  2296  1196      1  [1119, 1150, 2379, 264, 1180, 483, 1617, 302, ...   \n",
       "\n",
       "                        his_label  \\\n",
       "0  [1, 1, 0, 0, 0, 1, 1, 0, 0, 0]   \n",
       "1  [0, 1, 1, 0, 0, 0, 1, 1, 0, 0]   \n",
       "2  [1, 0, 0, 0, 0, 0, 0, 1, 0, 1]   \n",
       "3  [1, 1, 0, 0, 0, 0, 0, 0, 1, 0]   \n",
       "4  [0, 0, 0, 1, 0, 1, 1, 0, 1, 1]   \n",
       "\n",
       "                                           his_title  \\\n",
       "0  \"Love & Sex\" (evaluation: Yes) with descriptio...   \n",
       "1  \"Eight Days a Week\" (evaluation: No) with desc...   \n",
       "2  \"Star Trek IV: The Voyage Home\" (evaluation: Y...   \n",
       "3  \"Metropolis\" (evaluation: Yes) with descriptio...   \n",
       "4  \"Scream\" (evaluation: No) with description: Ho...   \n",
       "\n",
       "                                               title  \\\n",
       "0           \"Hurricane, The\" with description: Drama   \n",
       "1       \"Big Momma's House\" with description: Comedy   \n",
       "2    \"Being John Malkovich\" with description: Comedy   \n",
       "3      \"Wonder Boys\" with description: Comedy, Drama   \n",
       "4  \"Some Like It Hot\" with description: Comedy, C...   \n",
       "\n",
       "                                              reason  \n",
       "0  Yes. Okay, let's see. The user wants me to pre...  \n",
       "1  No. Alright, let's tackle this problem step by...  \n",
       "2  Yes. Okay, let me try to figure this out. So, ...  \n",
       "3  Yes. Okay, let me try to work through this ste...  \n",
       "4  Yes. Okay, let me try to figure this out. The ...  "
      ]
     },
     "execution_count": 13,
     "metadata": {},
     "output_type": "execute_result"
    }
   ],
   "source": [
    "df.head()"
   ]
  },
  {
   "cell_type": "code",
   "execution_count": 14,
   "metadata": {},
   "outputs": [
    {
     "data": {
      "text/plain": [
       "('/home/yuqihang/workroot/models/data/collm/ml1mdu/reason/reason.csv', 1000)"
      ]
     },
     "execution_count": 14,
     "metadata": {},
     "output_type": "execute_result"
    }
   ],
   "source": [
    "if len(save_file) == 0:\n",
    "    save_ids = [csv_file.split('.')[0].split('_')[1:] for csv_file in csv_files]\n",
    "    save_path = f'{csv_dir}/wrong_{\"_\".join(sorted(sum(save_ids,[])))}.csv'\n",
    "else:\n",
    "    save_path = f'{csv_dir}/{save_file}'\n",
    "if os.path.exists(save_path):\n",
    "    print(f'{save_path} already exists, skip')\n",
    "else:\n",
    "    df.to_csv(save_path,index=False)\n",
    "save_path,len(df)"
   ]
  },
  {
   "cell_type": "code",
   "execution_count": 15,
   "metadata": {},
   "outputs": [
    {
     "name": "stdout",
     "output_type": "stream",
     "text": [
      "uid <class 'numpy.int64'>\n",
      "iid <class 'numpy.int64'>\n",
      "label <class 'numpy.int64'>\n",
      "his <class 'numpy.ndarray'> <class 'numpy.int64'>\n",
      "his_label <class 'numpy.ndarray'> <class 'numpy.int64'>\n",
      "his_title <class 'str'>\n",
      "title <class 'str'>\n",
      "reason <class 'str'>\n"
     ]
    },
    {
     "data": {
      "text/plain": [
       "(1000, None)"
      ]
     },
     "execution_count": 15,
     "metadata": {},
     "output_type": "execute_result"
    }
   ],
   "source": [
    "len(df),dftype(df)"
   ]
  },
  {
   "cell_type": "markdown",
   "metadata": {},
   "source": [
    "## Convert to training data"
   ]
  },
  {
   "cell_type": "code",
   "execution_count": 37,
   "metadata": {},
   "outputs": [],
   "source": [
    "import re\n",
    "import pandas as pd\n",
    "import numpy as np"
   ]
  },
  {
   "cell_type": "code",
   "execution_count": 30,
   "metadata": {},
   "outputs": [],
   "source": [
    "df = pd.read_csv('/home/yuqihang/projects/CoLLM/collm-datasets/bookdu/reflection/reason.csv')"
   ]
  },
  {
   "cell_type": "code",
   "execution_count": 38,
   "metadata": {},
   "outputs": [
    {
     "data": {
      "text/html": [
       "<div>\n",
       "<style scoped>\n",
       "    .dataframe tbody tr th:only-of-type {\n",
       "        vertical-align: middle;\n",
       "    }\n",
       "\n",
       "    .dataframe tbody tr th {\n",
       "        vertical-align: top;\n",
       "    }\n",
       "\n",
       "    .dataframe thead th {\n",
       "        text-align: right;\n",
       "    }\n",
       "</style>\n",
       "<table border=\"1\" class=\"dataframe\">\n",
       "  <thead>\n",
       "    <tr style=\"text-align: right;\">\n",
       "      <th></th>\n",
       "      <th>uid</th>\n",
       "      <th>iid</th>\n",
       "      <th>label</th>\n",
       "      <th>his</th>\n",
       "      <th>his_label</th>\n",
       "      <th>his_title</th>\n",
       "      <th>title</th>\n",
       "      <th>reason</th>\n",
       "    </tr>\n",
       "  </thead>\n",
       "  <tbody>\n",
       "    <tr>\n",
       "      <th>0</th>\n",
       "      <td>11630</td>\n",
       "      <td>20516</td>\n",
       "      <td>0</td>\n",
       "      <td>[12376, 17251, 19283, 26190, 42681, 43495, 101...</td>\n",
       "      <td>[1, 1, 0, 1, 1, 1, 1, 1, 1, 0]</td>\n",
       "      <td>\"Lanlan 3x3x2 Speed Brain Teaser Cube Puzzle, ...</td>\n",
       "      <td>\"New!! Shengshou 10x10x10 Speed Cube Puzzle 10...</td>\n",
       "      <td>No. Okay, let's see. The user has rated severa...</td>\n",
       "    </tr>\n",
       "    <tr>\n",
       "      <th>1</th>\n",
       "      <td>11639</td>\n",
       "      <td>46199</td>\n",
       "      <td>1</td>\n",
       "      <td>[28323, 28875, 31560, 33108, 31681, 32123, 399...</td>\n",
       "      <td>[1, 0, 0, 1, 1, 1, 1, 1, 1, 1]</td>\n",
       "      <td>\"My Little Pony Equestria Girls Rainbow Rocks ...</td>\n",
       "      <td>\"Play-Doh Doctor Drill 'n Fill Set\" with descr...</td>\n",
       "      <td>Yes. Okay, let me try to figure this out again...</td>\n",
       "    </tr>\n",
       "  </tbody>\n",
       "</table>\n",
       "</div>"
      ],
      "text/plain": [
       "     uid    iid  label                                                his  \\\n",
       "0  11630  20516      0  [12376, 17251, 19283, 26190, 42681, 43495, 101...   \n",
       "1  11639  46199      1  [28323, 28875, 31560, 33108, 31681, 32123, 399...   \n",
       "\n",
       "                        his_label  \\\n",
       "0  [1, 1, 0, 1, 1, 1, 1, 1, 1, 0]   \n",
       "1  [1, 0, 0, 1, 1, 1, 1, 1, 1, 1]   \n",
       "\n",
       "                                           his_title  \\\n",
       "0  \"Lanlan 3x3x2 Speed Brain Teaser Cube Puzzle, ...   \n",
       "1  \"My Little Pony Equestria Girls Rainbow Rocks ...   \n",
       "\n",
       "                                               title  \\\n",
       "0  \"New!! Shengshou 10x10x10 Speed Cube Puzzle 10...   \n",
       "1  \"Play-Doh Doctor Drill 'n Fill Set\" with descr...   \n",
       "\n",
       "                                              reason  \n",
       "0  No. Okay, let's see. The user has rated severa...  \n",
       "1  Yes. Okay, let me try to figure this out again...  "
      ]
     },
     "execution_count": 38,
     "metadata": {},
     "output_type": "execute_result"
    }
   ],
   "source": [
    "df.head(2)"
   ]
  },
  {
   "cell_type": "code",
   "execution_count": 39,
   "metadata": {},
   "outputs": [
    {
     "data": {
      "text/plain": [
       "1600"
      ]
     },
     "execution_count": 39,
     "metadata": {},
     "output_type": "execute_result"
    }
   ],
   "source": [
    "len(df)"
   ]
  },
  {
   "cell_type": "code",
   "execution_count": 16,
   "metadata": {},
   "outputs": [],
   "source": [
    "df['not_cold'] = pd.DataFrame(np.ones(df.shape[0]),index=df.index).astype(\"int\")"
   ]
  },
  {
   "cell_type": "code",
   "execution_count": 17,
   "metadata": {},
   "outputs": [],
   "source": [
    "wrong = df[['uid','iid','label','his','his_label','not_cold','reason']]"
   ]
  },
  {
   "cell_type": "code",
   "execution_count": 18,
   "metadata": {},
   "outputs": [
    {
     "data": {
      "text/html": [
       "<div>\n",
       "<style scoped>\n",
       "    .dataframe tbody tr th:only-of-type {\n",
       "        vertical-align: middle;\n",
       "    }\n",
       "\n",
       "    .dataframe tbody tr th {\n",
       "        vertical-align: top;\n",
       "    }\n",
       "\n",
       "    .dataframe thead th {\n",
       "        text-align: right;\n",
       "    }\n",
       "</style>\n",
       "<table border=\"1\" class=\"dataframe\">\n",
       "  <thead>\n",
       "    <tr style=\"text-align: right;\">\n",
       "      <th></th>\n",
       "      <th>uid</th>\n",
       "      <th>iid</th>\n",
       "      <th>label</th>\n",
       "      <th>his</th>\n",
       "      <th>his_label</th>\n",
       "      <th>not_cold</th>\n",
       "      <th>reason</th>\n",
       "    </tr>\n",
       "  </thead>\n",
       "  <tbody>\n",
       "    <tr>\n",
       "      <th>0</th>\n",
       "      <td>2275</td>\n",
       "      <td>531</td>\n",
       "      <td>1</td>\n",
       "      <td>[2696, 2081, 341, 1774, 2933, 3132, 1062, 3576...</td>\n",
       "      <td>[1, 1, 0, 0, 0, 1, 1, 0, 0, 0]</td>\n",
       "      <td>1</td>\n",
       "      <td>Yes. Okay, let's see. The user wants me to pre...</td>\n",
       "    </tr>\n",
       "    <tr>\n",
       "      <th>1</th>\n",
       "      <td>2275</td>\n",
       "      <td>900</td>\n",
       "      <td>0</td>\n",
       "      <td>[3285, 2696, 2081, 341, 1774, 2933, 3132, 1062...</td>\n",
       "      <td>[0, 1, 1, 0, 0, 0, 1, 1, 0, 0]</td>\n",
       "      <td>1</td>\n",
       "      <td>No. Alright, let's tackle this problem step by...</td>\n",
       "    </tr>\n",
       "  </tbody>\n",
       "</table>\n",
       "</div>"
      ],
      "text/plain": [
       "    uid  iid  label                                                his  \\\n",
       "0  2275  531      1  [2696, 2081, 341, 1774, 2933, 3132, 1062, 3576...   \n",
       "1  2275  900      0  [3285, 2696, 2081, 341, 1774, 2933, 3132, 1062...   \n",
       "\n",
       "                        his_label  not_cold  \\\n",
       "0  [1, 1, 0, 0, 0, 1, 1, 0, 0, 0]         1   \n",
       "1  [0, 1, 1, 0, 0, 0, 1, 1, 0, 0]         1   \n",
       "\n",
       "                                              reason  \n",
       "0  Yes. Okay, let's see. The user wants me to pre...  \n",
       "1  No. Alright, let's tackle this problem step by...  "
      ]
     },
     "execution_count": 18,
     "metadata": {},
     "output_type": "execute_result"
    }
   ],
   "source": [
    "wrong.head(2)"
   ]
  },
  {
   "cell_type": "code",
   "execution_count": 19,
   "metadata": {},
   "outputs": [
    {
     "name": "stdout",
     "output_type": "stream",
     "text": [
      "uid <class 'numpy.int64'>\n",
      "iid <class 'numpy.int64'>\n",
      "label <class 'numpy.int64'>\n",
      "his <class 'numpy.ndarray'> <class 'numpy.int64'>\n",
      "his_label <class 'numpy.ndarray'> <class 'numpy.int64'>\n",
      "not_cold <class 'numpy.int64'>\n",
      "reason <class 'str'>\n"
     ]
    }
   ],
   "source": [
    "dftype(wrong)"
   ]
  },
  {
   "cell_type": "code",
   "execution_count": 20,
   "metadata": {},
   "outputs": [
    {
     "data": {
      "text/plain": [
       "1000"
      ]
     },
     "execution_count": 20,
     "metadata": {},
     "output_type": "execute_result"
    }
   ],
   "source": [
    "len(wrong)"
   ]
  },
  {
   "cell_type": "code",
   "execution_count": 21,
   "metadata": {},
   "outputs": [],
   "source": [
    "wrong.to_pickle('/home/yuqihang/workroot/models/data/collm/ml1mdu/reason_ood2.pkl')"
   ]
  }
 ],
 "metadata": {
  "kernelspec": {
   "display_name": "collm",
   "language": "python",
   "name": "python3"
  },
  "language_info": {
   "codemirror_mode": {
    "name": "ipython",
    "version": 3
   },
   "file_extension": ".py",
   "mimetype": "text/x-python",
   "name": "python",
   "nbconvert_exporter": "python",
   "pygments_lexer": "ipython3",
   "version": "3.10.16"
  }
 },
 "nbformat": 4,
 "nbformat_minor": 2
}
