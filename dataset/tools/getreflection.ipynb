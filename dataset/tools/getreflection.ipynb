{
 "cells": [
  {
   "cell_type": "markdown",
   "metadata": {},
   "source": [
    "## get wrong data"
   ]
  },
  {
   "cell_type": "code",
   "execution_count": 27,
   "metadata": {},
   "outputs": [],
   "source": [
    "import os\n",
    "import re\n",
    "import json\n",
    "import numpy as np\n",
    "import pandas as pd"
   ]
  },
  {
   "cell_type": "code",
   "execution_count": null,
   "metadata": {},
   "outputs": [],
   "source": [
    "data_dir = '/home/yuqihang/projects/CoLLM/collm-datasets/yelpdu'"
   ]
  },
  {
   "cell_type": "code",
   "execution_count": null,
   "metadata": {},
   "outputs": [],
   "source": [
    "train_ = pd.read_pickle(os.path.join(data_dir, 'train_ood2.pkl'))"
   ]
  },
  {
   "cell_type": "code",
   "execution_count": 28,
   "metadata": {},
   "outputs": [],
   "source": [
    "id2title = json.load(open(os.path.join(data_dir, 'id2title.json'), 'r'))"
   ]
  },
  {
   "cell_type": "code",
   "execution_count": 6,
   "metadata": {},
   "outputs": [],
   "source": [
    "n_clusters = 4\n",
    "mf_ = pd.read_csv(os.path.join(data_dir, f\"mf_user_group_{n_clusters}.csv\"))\n",
    "lightgcn_ = pd.read_csv(os.path.join(data_dir, f\"lightgcn_user_group_{n_clusters}.csv\"))\n",
    "sasrec_ = pd.read_csv(os.path.join(data_dir, f\"sasrec_user_group_{n_clusters}.csv\"))"
   ]
  },
  {
   "cell_type": "code",
   "execution_count": 8,
   "metadata": {},
   "outputs": [],
   "source": [
    "lightgcn = lightgcn_[lightgcn_['cluster']==0]"
   ]
  },
  {
   "cell_type": "code",
   "execution_count": 59,
   "metadata": {},
   "outputs": [],
   "source": [
    "sasrec = sasrec_[sasrec_['cluster']==2]"
   ]
  },
  {
   "cell_type": "code",
   "execution_count": 60,
   "metadata": {},
   "outputs": [
    {
     "data": {
      "text/plain": [
       "1594"
      ]
     },
     "execution_count": 60,
     "metadata": {},
     "output_type": "execute_result"
    }
   ],
   "source": [
    "len(sasrec)"
   ]
  },
  {
   "cell_type": "code",
   "execution_count": 13,
   "metadata": {},
   "outputs": [
    {
     "data": {
      "text/html": [
       "<div>\n",
       "<style scoped>\n",
       "    .dataframe tbody tr th:only-of-type {\n",
       "        vertical-align: middle;\n",
       "    }\n",
       "\n",
       "    .dataframe tbody tr th {\n",
       "        vertical-align: top;\n",
       "    }\n",
       "\n",
       "    .dataframe thead th {\n",
       "        text-align: right;\n",
       "    }\n",
       "</style>\n",
       "<table border=\"1\" class=\"dataframe\">\n",
       "  <thead>\n",
       "    <tr style=\"text-align: right;\">\n",
       "      <th></th>\n",
       "      <th>user_id</th>\n",
       "      <th>cluster</th>\n",
       "    </tr>\n",
       "  </thead>\n",
       "  <tbody>\n",
       "    <tr>\n",
       "      <th>7</th>\n",
       "      <td>8</td>\n",
       "      <td>0</td>\n",
       "    </tr>\n",
       "    <tr>\n",
       "      <th>19</th>\n",
       "      <td>20</td>\n",
       "      <td>0</td>\n",
       "    </tr>\n",
       "  </tbody>\n",
       "</table>\n",
       "</div>"
      ],
      "text/plain": [
       "    user_id  cluster\n",
       "7         8        0\n",
       "19       20        0"
      ]
     },
     "execution_count": 13,
     "metadata": {},
     "output_type": "execute_result"
    }
   ],
   "source": [
    "lightgcn.head(2)"
   ]
  },
  {
   "cell_type": "code",
   "execution_count": 22,
   "metadata": {},
   "outputs": [],
   "source": [
    "train = train_[train_.uid.isin(list(lightgcn.user_id))].reset_index(drop=True)"
   ]
  },
  {
   "cell_type": "code",
   "execution_count": 42,
   "metadata": {},
   "outputs": [
    {
     "data": {
      "text/html": [
       "<div>\n",
       "<style scoped>\n",
       "    .dataframe tbody tr th:only-of-type {\n",
       "        vertical-align: middle;\n",
       "    }\n",
       "\n",
       "    .dataframe tbody tr th {\n",
       "        vertical-align: top;\n",
       "    }\n",
       "\n",
       "    .dataframe thead th {\n",
       "        text-align: right;\n",
       "    }\n",
       "</style>\n",
       "<table border=\"1\" class=\"dataframe\">\n",
       "  <thead>\n",
       "    <tr style=\"text-align: right;\">\n",
       "      <th></th>\n",
       "      <th>uid</th>\n",
       "      <th>iid</th>\n",
       "      <th>label</th>\n",
       "      <th>timestamp</th>\n",
       "      <th>flag</th>\n",
       "      <th>not_cold</th>\n",
       "      <th>new_his</th>\n",
       "      <th>new_his_label</th>\n",
       "    </tr>\n",
       "  </thead>\n",
       "  <tbody>\n",
       "    <tr>\n",
       "      <th>0</th>\n",
       "      <td>8</td>\n",
       "      <td>56004</td>\n",
       "      <td>0</td>\n",
       "      <td>1.279321e+09</td>\n",
       "      <td>-1.0</td>\n",
       "      <td>1</td>\n",
       "      <td>[52117, 29932, 13421, 2950, 3433, 18779, 9905,...</td>\n",
       "      <td>[1, 1, 1, 1, 1, 1, 1, 1, 1, 1]</td>\n",
       "    </tr>\n",
       "    <tr>\n",
       "      <th>1</th>\n",
       "      <td>8</td>\n",
       "      <td>55777</td>\n",
       "      <td>1</td>\n",
       "      <td>1.279322e+09</td>\n",
       "      <td>-1.0</td>\n",
       "      <td>1</td>\n",
       "      <td>[29932, 13421, 2950, 3433, 18779, 9905, 29146,...</td>\n",
       "      <td>[1, 1, 1, 1, 1, 1, 1, 1, 1, 0]</td>\n",
       "    </tr>\n",
       "  </tbody>\n",
       "</table>\n",
       "</div>"
      ],
      "text/plain": [
       "   uid    iid  label     timestamp  flag  not_cold  \\\n",
       "0    8  56004      0  1.279321e+09  -1.0         1   \n",
       "1    8  55777      1  1.279322e+09  -1.0         1   \n",
       "\n",
       "                                             new_his  \\\n",
       "0  [52117, 29932, 13421, 2950, 3433, 18779, 9905,...   \n",
       "1  [29932, 13421, 2950, 3433, 18779, 9905, 29146,...   \n",
       "\n",
       "                    new_his_label  \n",
       "0  [1, 1, 1, 1, 1, 1, 1, 1, 1, 1]  \n",
       "1  [1, 1, 1, 1, 1, 1, 1, 1, 1, 0]  "
      ]
     },
     "execution_count": 42,
     "metadata": {},
     "output_type": "execute_result"
    }
   ],
   "source": [
    "train.head(2)"
   ]
  },
  {
   "cell_type": "code",
   "execution_count": 30,
   "metadata": {},
   "outputs": [],
   "source": [
    "train['length']=train['his'].apply(lambda x:len(x) if x[0]!=0 else len(x)-1)"
   ]
  },
  {
   "cell_type": "code",
   "execution_count": 46,
   "metadata": {},
   "outputs": [
    {
     "data": {
      "text/plain": [
       "(29678, 9)"
      ]
     },
     "execution_count": 46,
     "metadata": {},
     "output_type": "execute_result"
    }
   ],
   "source": [
    "train_.shape"
   ]
  },
  {
   "cell_type": "code",
   "execution_count": null,
   "metadata": {},
   "outputs": [],
   "source": [
    "train = train[train.length>10]"
   ]
  },
  {
   "cell_type": "code",
   "execution_count": 40,
   "metadata": {},
   "outputs": [],
   "source": [
    "train['new_his'] = train['his'].apply(lambda x: x[-10:])\n",
    "train['new_his_label'] = train['his_label'].apply(lambda x: x[-10:])"
   ]
  },
  {
   "cell_type": "code",
   "execution_count": 41,
   "metadata": {},
   "outputs": [],
   "source": [
    "del train['his']\n",
    "del train['his_label']\n",
    "del train['length']"
   ]
  },
  {
   "cell_type": "code",
   "execution_count": 43,
   "metadata": {},
   "outputs": [],
   "source": [
    "train['sum'] = train['new_his_label'].apply(lambda x: sum(x))"
   ]
  },
  {
   "cell_type": "code",
   "execution_count": null,
   "metadata": {},
   "outputs": [],
   "source": [
    "train = train[train['sum']==5].reset_index(drop=True)"
   ]
  },
  {
   "cell_type": "code",
   "execution_count": 61,
   "metadata": {},
   "outputs": [
    {
     "data": {
      "text/html": [
       "<div>\n",
       "<style scoped>\n",
       "    .dataframe tbody tr th:only-of-type {\n",
       "        vertical-align: middle;\n",
       "    }\n",
       "\n",
       "    .dataframe tbody tr th {\n",
       "        vertical-align: top;\n",
       "    }\n",
       "\n",
       "    .dataframe thead th {\n",
       "        text-align: right;\n",
       "    }\n",
       "</style>\n",
       "<table border=\"1\" class=\"dataframe\">\n",
       "  <thead>\n",
       "    <tr style=\"text-align: right;\">\n",
       "      <th></th>\n",
       "      <th>user_id</th>\n",
       "      <th>cluster</th>\n",
       "      <th>embedding</th>\n",
       "    </tr>\n",
       "  </thead>\n",
       "  <tbody>\n",
       "    <tr>\n",
       "      <th>8</th>\n",
       "      <td>9</td>\n",
       "      <td>2</td>\n",
       "      <td>[-0.006025682669132948, -1.1818451881408691, 1...</td>\n",
       "    </tr>\n",
       "    <tr>\n",
       "      <th>18</th>\n",
       "      <td>19</td>\n",
       "      <td>2</td>\n",
       "      <td>[-0.006059326697140932, -4.829181671142578, 6....</td>\n",
       "    </tr>\n",
       "  </tbody>\n",
       "</table>\n",
       "</div>"
      ],
      "text/plain": [
       "    user_id  cluster                                          embedding\n",
       "8         9        2  [-0.006025682669132948, -1.1818451881408691, 1...\n",
       "18       19        2  [-0.006059326697140932, -4.829181671142578, 6...."
      ]
     },
     "execution_count": 61,
     "metadata": {},
     "output_type": "execute_result"
    }
   ],
   "source": [
    "sasrec.head(2)"
   ]
  },
  {
   "cell_type": "code",
   "execution_count": 64,
   "metadata": {},
   "outputs": [],
   "source": [
    "train_ = train[train['uid'].isin(list(sasrec['user_id']))]"
   ]
  },
  {
   "cell_type": "code",
   "execution_count": 65,
   "metadata": {},
   "outputs": [
    {
     "data": {
      "text/plain": [
       "(808, 9)"
      ]
     },
     "execution_count": 65,
     "metadata": {},
     "output_type": "execute_result"
    }
   ],
   "source": [
    "train_.shape"
   ]
  },
  {
   "cell_type": "code",
   "execution_count": 67,
   "metadata": {},
   "outputs": [],
   "source": [
    "train_ = train_.sample(n=300,random_state=2025)"
   ]
  },
  {
   "cell_type": "code",
   "execution_count": 71,
   "metadata": {},
   "outputs": [],
   "source": [
    "train = train_.reset_index(drop=True)"
   ]
  },
  {
   "cell_type": "code",
   "execution_count": 72,
   "metadata": {},
   "outputs": [
    {
     "data": {
      "text/html": [
       "<div>\n",
       "<style scoped>\n",
       "    .dataframe tbody tr th:only-of-type {\n",
       "        vertical-align: middle;\n",
       "    }\n",
       "\n",
       "    .dataframe tbody tr th {\n",
       "        vertical-align: top;\n",
       "    }\n",
       "\n",
       "    .dataframe thead th {\n",
       "        text-align: right;\n",
       "    }\n",
       "</style>\n",
       "<table border=\"1\" class=\"dataframe\">\n",
       "  <thead>\n",
       "    <tr style=\"text-align: right;\">\n",
       "      <th></th>\n",
       "      <th>uid</th>\n",
       "      <th>iid</th>\n",
       "      <th>label</th>\n",
       "      <th>timestamp</th>\n",
       "      <th>flag</th>\n",
       "      <th>not_cold</th>\n",
       "      <th>new_his</th>\n",
       "      <th>new_his_label</th>\n",
       "      <th>sum</th>\n",
       "    </tr>\n",
       "  </thead>\n",
       "  <tbody>\n",
       "    <tr>\n",
       "      <th>0</th>\n",
       "      <td>4727</td>\n",
       "      <td>59036</td>\n",
       "      <td>1</td>\n",
       "      <td>1.317657e+09</td>\n",
       "      <td>-1.0</td>\n",
       "      <td>1</td>\n",
       "      <td>[35792, 56519, 44856, 35299, 21383, 21209, 213...</td>\n",
       "      <td>[0, 1, 0, 1, 1, 0, 1, 0, 0, 1]</td>\n",
       "      <td>5</td>\n",
       "    </tr>\n",
       "    <tr>\n",
       "      <th>1</th>\n",
       "      <td>5745</td>\n",
       "      <td>56744</td>\n",
       "      <td>0</td>\n",
       "      <td>1.427460e+09</td>\n",
       "      <td>-1.0</td>\n",
       "      <td>1</td>\n",
       "      <td>[35305, 2097, 46950, 9987, 17520, 43418, 28222...</td>\n",
       "      <td>[0, 0, 1, 1, 0, 0, 1, 1, 0, 1]</td>\n",
       "      <td>5</td>\n",
       "    </tr>\n",
       "  </tbody>\n",
       "</table>\n",
       "</div>"
      ],
      "text/plain": [
       "    uid    iid  label     timestamp  flag  not_cold  \\\n",
       "0  4727  59036      1  1.317657e+09  -1.0         1   \n",
       "1  5745  56744      0  1.427460e+09  -1.0         1   \n",
       "\n",
       "                                             new_his  \\\n",
       "0  [35792, 56519, 44856, 35299, 21383, 21209, 213...   \n",
       "1  [35305, 2097, 46950, 9987, 17520, 43418, 28222...   \n",
       "\n",
       "                    new_his_label  sum  \n",
       "0  [0, 1, 0, 1, 1, 0, 1, 0, 0, 1]    5  \n",
       "1  [0, 0, 1, 1, 0, 0, 1, 1, 0, 1]    5  "
      ]
     },
     "execution_count": 72,
     "metadata": {},
     "output_type": "execute_result"
    }
   ],
   "source": [
    "train.head(2)"
   ]
  },
  {
   "cell_type": "code",
   "execution_count": 73,
   "metadata": {},
   "outputs": [],
   "source": [
    "save_path = '/home/yuqihang/projects/CoLLM/collm-datasets/ml1mdu/reason/wrong_.txt'"
   ]
  },
  {
   "cell_type": "code",
   "execution_count": 76,
   "metadata": {},
   "outputs": [],
   "source": [
    "for idx in range(len(train)):\n",
    "    line = f'{train.uid[idx]}\\sep{train.iid[idx]}\\sep{list(train.new_his[idx])}\\sep{train.label[idx]}\\sep{list(train.new_his_label[idx])}\\sep{convert_title_list_v4(turnid2txt(train.new_his[idx]),train.new_his_label[idx])}\\sep{convert_title_list_v4(turnid2txt(train.iid[idx]))}'\n",
    "    print(line,file=open(save_path,'a'))"
   ]
  },
  {
   "cell_type": "code",
   "execution_count": 57,
   "metadata": {},
   "outputs": [],
   "source": [
    "txt = convert_title_list_v4(turnid2txt(train.new_his[0]),train.new_his_label[0])"
   ]
  },
  {
   "cell_type": "code",
   "execution_count": null,
   "metadata": {},
   "outputs": [],
   "source": [
    "# data = line.split('\\sep')\n",
    "# uid.append(int(data[0]))\n",
    "# iid.append(int(data[1]))\n",
    "# his.append(eval(data[2]))\n",
    "# label.append(int(data[3]))\n",
    "# his_label.append(eval(data[4]))\n",
    "# his_title.append(data[5].replace('with feature <ItemID> ',''))\n",
    "# title.append(data[6].replace('\\n',''))\n",
    "# 5944\\sep1073\\sep[407, 905, 1507, 1529, 2293, 123, 1337, 754, 1076, 1089]\\sep0\\sep[1, 0, 0, 0, 0, 0, 0, 0, 0, 0]\\sep\"Patriot, The\" (evaluation: Yes) with description: Action, Drama, War; \"Seven Years in Tibet\" (evaluation: No) with description: Drama, War; \"To Be or Not to Be\" (evaluation: No) with description: Comedy, Drama, War; \"English Patient, The\" (evaluation: No) with description: Drama, Romance, War; \"Heartbreak Ridge\" (evaluation: No) with description: Action, War; \"Thin Red Line, The\" (evaluation: No) with description: Action, Drama, War; \"Red Dawn\" (evaluation: No) with description: Action, War; \"G.I. Jane\" (evaluation: No) with description: Action, Drama, War; \"Mars Attacks!\" (evaluation: No) with description: Action, Comedy, Sci-Fi, War; \"Hot Shots! Part Deux\" (evaluation: No) with description: Action, Comedy, War\\sep\"Rambo: First Blood Part II\" with description: Action, War"
   ]
  },
  {
   "cell_type": "code",
   "execution_count": 25,
   "metadata": {},
   "outputs": [],
   "source": [
    "def convert_str_2_list(x):\n",
    "    return np.array([int(item) for item in re.split(r'\\s+', x[1:-1].replace(',',' ').strip(' '))])\n",
    "def dftype(df):\n",
    "    for idx in df.columns:\n",
    "        if isinstance(df[idx][0],list) or isinstance(df[idx][0],np.ndarray):\n",
    "            print(idx,type(df[idx][0]),type(df[idx][0][0]))\n",
    "        else:\n",
    "            print(idx,type(df[idx][0]))"
   ]
  },
  {
   "cell_type": "code",
   "execution_count": 56,
   "metadata": {},
   "outputs": [],
   "source": [
    "def turn2list(sample):\n",
    "    if isinstance(sample,list):\n",
    "        sample = sample\n",
    "    elif isinstance(sample, str):\n",
    "        sample = [sample]\n",
    "    else:\n",
    "        try:\n",
    "            sample = list(sample)\n",
    "        except:\n",
    "            raise ValueError(\"sample must be a list or a str\")\n",
    "    return sample\n",
    "\n",
    "def turnid2txt(ids):\n",
    "    if isinstance(ids,(int,np.integer)):\n",
    "        ids = [ids]\n",
    "    elif isinstance(ids,list):\n",
    "        pass\n",
    "    else:\n",
    "        try :\n",
    "            ids = list(ids)\n",
    "        except:\n",
    "            raise NotImplementedError(f\"Unsupported type of ids {type(ids)}\")\n",
    "    titles = [id2title[str(idx)]['title'] for idx in ids]\n",
    "    descriptions = None\n",
    "    descriptions = [id2title[str(idx)]['keywords'] for idx in ids]\n",
    "    return titles, descriptions\n",
    "    \n",
    "def convert_title_list_v4(samples=None,labels=None,withid=False):\n",
    "    if len(samples) == 2:\n",
    "        titles,descs = samples\n",
    "    elif len(samples) == 1:\n",
    "        titles = samples\n",
    "        desc = None\n",
    "    else:\n",
    "        raise ValueError(\"size of samples must be 1 or 2\")\n",
    "\n",
    "    titles = turn2list(titles)\n",
    "    if labels is not None:\n",
    "        label2eval = {0:\"No\",1:\"Yes\"}\n",
    "        labels = [label2eval[label] for label in turn2list(labels)]\n",
    "    if descs is not None:\n",
    "        descs = turn2list(descs)\n",
    "    \n",
    "    itemsymbol = '<ItemID>'\n",
    "    items = []\n",
    "\n",
    "    for idx, title in enumerate(titles):\n",
    "        if title.strip(\" \")==\"\":\n",
    "            item = f'\"Unknow\"'\n",
    "        else:\n",
    "            item = f'\"{title.strip(\" \")}\"'\n",
    "        if withid:\n",
    "            item = f'{item} with feature {itemsymbol}'\n",
    "        if labels is not None:\n",
    "            item = f'{item} (evaluation: {labels[idx]})'\n",
    "        if descs is not None:\n",
    "            desc = descs[idx].strip(' ')\n",
    "            desc = re.sub(r'<[^>]+>', '', desc)\n",
    "            desc = re.sub(r'\\s+', ' ', desc)\n",
    "            item = f'{item} with description: {desc}'\n",
    "        items.append(item)\n",
    "    # print(\"Example of prompts:\", items[0])\n",
    "\n",
    "    if len(items)>0:\n",
    "        return \"; \".join(items)\n",
    "    else:\n",
    "        return \"unkow\""
   ]
  },
  {
   "cell_type": "code",
   "execution_count": 77,
   "metadata": {},
   "outputs": [
    {
     "name": "stdout",
     "output_type": "stream",
     "text": [
      "uid <class 'numpy.int64'>\n",
      "iid <class 'numpy.int64'>\n",
      "label <class 'numpy.int64'>\n",
      "timestamp <class 'numpy.float64'>\n",
      "flag <class 'numpy.float64'>\n",
      "not_cold <class 'numpy.int64'>\n",
      "new_his <class 'numpy.ndarray'> <class 'numpy.int64'>\n",
      "new_his_label <class 'numpy.ndarray'> <class 'numpy.int64'>\n",
      "sum <class 'numpy.int64'>\n"
     ]
    }
   ],
   "source": [
    "dftype(train)"
   ]
  },
  {
   "cell_type": "code",
   "execution_count": 78,
   "metadata": {},
   "outputs": [
    {
     "data": {
      "text/plain": [
       "(300, 9)"
      ]
     },
     "execution_count": 78,
     "metadata": {},
     "output_type": "execute_result"
    }
   ],
   "source": [
    "train.shape"
   ]
  },
  {
   "cell_type": "markdown",
   "metadata": {},
   "source": [
    "## load wrong data"
   ]
  },
  {
   "cell_type": "code",
   "execution_count": 15,
   "metadata": {},
   "outputs": [],
   "source": [
    "import os\n",
    "import re\n",
    "import numpy as np\n",
    "import pandas as pd"
   ]
  },
  {
   "cell_type": "code",
   "execution_count": 2,
   "metadata": {},
   "outputs": [],
   "source": [
    "wrong_file = '/home/yuqihang/projects/CoLLM/collm-datasets/bookdu/reflection/wrong_1.txt'"
   ]
  },
  {
   "cell_type": "code",
   "execution_count": 3,
   "metadata": {},
   "outputs": [],
   "source": [
    "with open(wrong_file,'r') as f:\n",
    "    wrong_list = f.readlines()\n",
    "len(wrong_list)"
   ]
  },
  {
   "cell_type": "code",
   "execution_count": 5,
   "metadata": {},
   "outputs": [],
   "source": [
    "uid = []\n",
    "iid = []\n",
    "his = [] \n",
    "label = []\n",
    "his_label = []\n",
    "his_title = []\n",
    "title = []\n",
    "for line in wrong_list:\n",
    "    data = line.split('\\sep')\n",
    "    uid.append(int(data[0]))\n",
    "    iid.append(int(data[1]))\n",
    "    his.append(eval(data[2]))\n",
    "    label.append(int(data[3]))\n",
    "    his_label.append(eval(data[4]))\n",
    "    his_title.append(data[5].replace('with feature <ItemID> ',''))\n",
    "    title.append(data[6].replace('\\n',''))"
   ]
  },
  {
   "cell_type": "code",
   "execution_count": 6,
   "metadata": {},
   "outputs": [],
   "source": [
    "wrong_data = pd.DataFrame({\"uid\":uid,'iid':iid,'label':label, 'his':his,'his_label':his_label,'his_title':his_title,'title':title})"
   ]
  },
  {
   "cell_type": "code",
   "execution_count": 7,
   "metadata": {},
   "outputs": [
    {
     "data": {
      "text/html": [
       "<div>\n",
       "<style scoped>\n",
       "    .dataframe tbody tr th:only-of-type {\n",
       "        vertical-align: middle;\n",
       "    }\n",
       "\n",
       "    .dataframe tbody tr th {\n",
       "        vertical-align: top;\n",
       "    }\n",
       "\n",
       "    .dataframe thead th {\n",
       "        text-align: right;\n",
       "    }\n",
       "</style>\n",
       "<table border=\"1\" class=\"dataframe\">\n",
       "  <thead>\n",
       "    <tr style=\"text-align: right;\">\n",
       "      <th></th>\n",
       "      <th>uid</th>\n",
       "      <th>iid</th>\n",
       "      <th>label</th>\n",
       "      <th>his</th>\n",
       "      <th>his_label</th>\n",
       "      <th>his_title</th>\n",
       "      <th>title</th>\n",
       "    </tr>\n",
       "  </thead>\n",
       "  <tbody>\n",
       "    <tr>\n",
       "      <th>0</th>\n",
       "      <td>20927</td>\n",
       "      <td>40012</td>\n",
       "      <td>0</td>\n",
       "      <td>[30252, 44599, 36606, 44751, 45031, 44960, 187...</td>\n",
       "      <td>[0, 1, 1, 1, 1, 1, 1, 0, 1, 1]</td>\n",
       "      <td>\"The Palisade (Lavender Shores)\" (evaluation: ...</td>\n",
       "      <td>\"P.S. I Spook You\" with description: life, wri...</td>\n",
       "    </tr>\n",
       "    <tr>\n",
       "      <th>1</th>\n",
       "      <td>8483</td>\n",
       "      <td>20626</td>\n",
       "      <td>1</td>\n",
       "      <td>[40433, 20414, 20471, 33539, 39841, 34463, 347...</td>\n",
       "      <td>[1, 1, 0, 1, 0, 0, 0, 0, 1, 0]</td>\n",
       "      <td>\"The Bad Boy Next Door\" (evaluation: Yes) with...</td>\n",
       "      <td>\"The Bad Luck Bride: The Cavensham Heiresses\" ...</td>\n",
       "    </tr>\n",
       "    <tr>\n",
       "      <th>2</th>\n",
       "      <td>6390</td>\n",
       "      <td>3886</td>\n",
       "      <td>1</td>\n",
       "      <td>[20334, 10160, 9536, 37380, 15208, 19818]</td>\n",
       "      <td>[1, 0, 0, 1, 0, 1]</td>\n",
       "      <td>\"Wintersong: A Novel\" (evaluation: Yes) with d...</td>\n",
       "      <td>\"Greater Gotham: A History of New York City fr...</td>\n",
       "    </tr>\n",
       "    <tr>\n",
       "      <th>3</th>\n",
       "      <td>5639</td>\n",
       "      <td>21757</td>\n",
       "      <td>1</td>\n",
       "      <td>[40397, 42989, 36136, 2032, 23311, 38134, 2307...</td>\n",
       "      <td>[1, 0, 0, 1, 1, 1, 1, 1, 1, 1]</td>\n",
       "      <td>\"Accidentally Compromising the Duke\" (evaluati...</td>\n",
       "      <td>\"It Started with a Kiss (The Worthingtons)\" wi...</td>\n",
       "    </tr>\n",
       "    <tr>\n",
       "      <th>4</th>\n",
       "      <td>15532</td>\n",
       "      <td>45963</td>\n",
       "      <td>0</td>\n",
       "      <td>[33547, 33717, 33775, 43474, 40343, 33677, 169...</td>\n",
       "      <td>[1, 0, 1, 0, 1, 1, 0, 1, 1, 1]</td>\n",
       "      <td>\"Trick (A Cocky Cage Fighter Novel) (Volume 7)...</td>\n",
       "      <td>\"The Bartender (Modern Love) (Volume 1)\" with ...</td>\n",
       "    </tr>\n",
       "  </tbody>\n",
       "</table>\n",
       "</div>"
      ],
      "text/plain": [
       "     uid    iid  label                                                his  \\\n",
       "0  20927  40012      0  [30252, 44599, 36606, 44751, 45031, 44960, 187...   \n",
       "1   8483  20626      1  [40433, 20414, 20471, 33539, 39841, 34463, 347...   \n",
       "2   6390   3886      1          [20334, 10160, 9536, 37380, 15208, 19818]   \n",
       "3   5639  21757      1  [40397, 42989, 36136, 2032, 23311, 38134, 2307...   \n",
       "4  15532  45963      0  [33547, 33717, 33775, 43474, 40343, 33677, 169...   \n",
       "\n",
       "                        his_label  \\\n",
       "0  [0, 1, 1, 1, 1, 1, 1, 0, 1, 1]   \n",
       "1  [1, 1, 0, 1, 0, 0, 0, 0, 1, 0]   \n",
       "2              [1, 0, 0, 1, 0, 1]   \n",
       "3  [1, 0, 0, 1, 1, 1, 1, 1, 1, 1]   \n",
       "4  [1, 0, 1, 0, 1, 1, 0, 1, 1, 1]   \n",
       "\n",
       "                                           his_title  \\\n",
       "0  \"The Palisade (Lavender Shores)\" (evaluation: ...   \n",
       "1  \"The Bad Boy Next Door\" (evaluation: Yes) with...   \n",
       "2  \"Wintersong: A Novel\" (evaluation: Yes) with d...   \n",
       "3  \"Accidentally Compromising the Duke\" (evaluati...   \n",
       "4  \"Trick (A Cocky Cage Fighter Novel) (Volume 7)...   \n",
       "\n",
       "                                               title  \n",
       "0  \"P.S. I Spook You\" with description: life, wri...  \n",
       "1  \"The Bad Luck Bride: The Cavensham Heiresses\" ...  \n",
       "2  \"Greater Gotham: A History of New York City fr...  \n",
       "3  \"It Started with a Kiss (The Worthingtons)\" wi...  \n",
       "4  \"The Bartender (Modern Love) (Volume 1)\" with ...  "
      ]
     },
     "execution_count": 7,
     "metadata": {},
     "output_type": "execute_result"
    }
   ],
   "source": [
    "wrong_data.head()"
   ]
  },
  {
   "cell_type": "code",
   "execution_count": 8,
   "metadata": {},
   "outputs": [],
   "source": [
    "wrong_data['his_pad'] = wrong_data['his'].map(lambda x: [0]+x if len(x) < 10 else x)\n",
    "wrong_data['his_label_pad'] = wrong_data['his_label'].map(lambda x: [0]+x if len(x) < 10 else x)"
   ]
  },
  {
   "cell_type": "code",
   "execution_count": 9,
   "metadata": {},
   "outputs": [
    {
     "data": {
      "text/html": [
       "<div>\n",
       "<style scoped>\n",
       "    .dataframe tbody tr th:only-of-type {\n",
       "        vertical-align: middle;\n",
       "    }\n",
       "\n",
       "    .dataframe tbody tr th {\n",
       "        vertical-align: top;\n",
       "    }\n",
       "\n",
       "    .dataframe thead th {\n",
       "        text-align: right;\n",
       "    }\n",
       "</style>\n",
       "<table border=\"1\" class=\"dataframe\">\n",
       "  <thead>\n",
       "    <tr style=\"text-align: right;\">\n",
       "      <th></th>\n",
       "      <th>uid</th>\n",
       "      <th>iid</th>\n",
       "      <th>label</th>\n",
       "      <th>his</th>\n",
       "      <th>his_label</th>\n",
       "      <th>his_title</th>\n",
       "      <th>title</th>\n",
       "    </tr>\n",
       "  </thead>\n",
       "  <tbody>\n",
       "    <tr>\n",
       "      <th>0</th>\n",
       "      <td>20927</td>\n",
       "      <td>40012</td>\n",
       "      <td>0</td>\n",
       "      <td>[30252, 44599, 36606, 44751, 45031, 44960, 187...</td>\n",
       "      <td>[0, 1, 1, 1, 1, 1, 1, 0, 1, 1]</td>\n",
       "      <td>\"The Palisade (Lavender Shores)\" (evaluation: ...</td>\n",
       "      <td>\"P.S. I Spook You\" with description: life, wri...</td>\n",
       "    </tr>\n",
       "    <tr>\n",
       "      <th>1</th>\n",
       "      <td>8483</td>\n",
       "      <td>20626</td>\n",
       "      <td>1</td>\n",
       "      <td>[40433, 20414, 20471, 33539, 39841, 34463, 347...</td>\n",
       "      <td>[1, 1, 0, 1, 0, 0, 0, 0, 1, 0]</td>\n",
       "      <td>\"The Bad Boy Next Door\" (evaluation: Yes) with...</td>\n",
       "      <td>\"The Bad Luck Bride: The Cavensham Heiresses\" ...</td>\n",
       "    </tr>\n",
       "    <tr>\n",
       "      <th>2</th>\n",
       "      <td>6390</td>\n",
       "      <td>3886</td>\n",
       "      <td>1</td>\n",
       "      <td>[0, 20334, 10160, 9536, 37380, 15208, 19818]</td>\n",
       "      <td>[0, 1, 0, 0, 1, 0, 1]</td>\n",
       "      <td>\"Wintersong: A Novel\" (evaluation: Yes) with d...</td>\n",
       "      <td>\"Greater Gotham: A History of New York City fr...</td>\n",
       "    </tr>\n",
       "    <tr>\n",
       "      <th>3</th>\n",
       "      <td>5639</td>\n",
       "      <td>21757</td>\n",
       "      <td>1</td>\n",
       "      <td>[40397, 42989, 36136, 2032, 23311, 38134, 2307...</td>\n",
       "      <td>[1, 0, 0, 1, 1, 1, 1, 1, 1, 1]</td>\n",
       "      <td>\"Accidentally Compromising the Duke\" (evaluati...</td>\n",
       "      <td>\"It Started with a Kiss (The Worthingtons)\" wi...</td>\n",
       "    </tr>\n",
       "    <tr>\n",
       "      <th>4</th>\n",
       "      <td>15532</td>\n",
       "      <td>45963</td>\n",
       "      <td>0</td>\n",
       "      <td>[33547, 33717, 33775, 43474, 40343, 33677, 169...</td>\n",
       "      <td>[1, 0, 1, 0, 1, 1, 0, 1, 1, 1]</td>\n",
       "      <td>\"Trick (A Cocky Cage Fighter Novel) (Volume 7)...</td>\n",
       "      <td>\"The Bartender (Modern Love) (Volume 1)\" with ...</td>\n",
       "    </tr>\n",
       "  </tbody>\n",
       "</table>\n",
       "</div>"
      ],
      "text/plain": [
       "     uid    iid  label                                                his  \\\n",
       "0  20927  40012      0  [30252, 44599, 36606, 44751, 45031, 44960, 187...   \n",
       "1   8483  20626      1  [40433, 20414, 20471, 33539, 39841, 34463, 347...   \n",
       "2   6390   3886      1       [0, 20334, 10160, 9536, 37380, 15208, 19818]   \n",
       "3   5639  21757      1  [40397, 42989, 36136, 2032, 23311, 38134, 2307...   \n",
       "4  15532  45963      0  [33547, 33717, 33775, 43474, 40343, 33677, 169...   \n",
       "\n",
       "                        his_label  \\\n",
       "0  [0, 1, 1, 1, 1, 1, 1, 0, 1, 1]   \n",
       "1  [1, 1, 0, 1, 0, 0, 0, 0, 1, 0]   \n",
       "2           [0, 1, 0, 0, 1, 0, 1]   \n",
       "3  [1, 0, 0, 1, 1, 1, 1, 1, 1, 1]   \n",
       "4  [1, 0, 1, 0, 1, 1, 0, 1, 1, 1]   \n",
       "\n",
       "                                           his_title  \\\n",
       "0  \"The Palisade (Lavender Shores)\" (evaluation: ...   \n",
       "1  \"The Bad Boy Next Door\" (evaluation: Yes) with...   \n",
       "2  \"Wintersong: A Novel\" (evaluation: Yes) with d...   \n",
       "3  \"Accidentally Compromising the Duke\" (evaluati...   \n",
       "4  \"Trick (A Cocky Cage Fighter Novel) (Volume 7)...   \n",
       "\n",
       "                                               title  \n",
       "0  \"P.S. I Spook You\" with description: life, wri...  \n",
       "1  \"The Bad Luck Bride: The Cavensham Heiresses\" ...  \n",
       "2  \"Greater Gotham: A History of New York City fr...  \n",
       "3  \"It Started with a Kiss (The Worthingtons)\" wi...  \n",
       "4  \"The Bartender (Modern Love) (Volume 1)\" with ...  "
      ]
     },
     "execution_count": 9,
     "metadata": {},
     "output_type": "execute_result"
    }
   ],
   "source": [
    "wrong_data = wrong_data[['uid','iid','label','his_pad','his_label_pad','his_title','title']]\n",
    "wrong_data.columns = ['uid','iid','label','his','his_label','his_title','title']\n",
    "wrong_data.head()"
   ]
  },
  {
   "cell_type": "code",
   "execution_count": 10,
   "metadata": {},
   "outputs": [],
   "source": [
    "wrong_data.to_csv(wrong_file.replace('.txt','.csv'),index=False)"
   ]
  },
  {
   "cell_type": "markdown",
   "metadata": {},
   "source": [
    "## Get analysis"
   ]
  },
  {
   "cell_type": "code",
   "execution_count": 2,
   "metadata": {},
   "outputs": [],
   "source": [
    "import os\n",
    "import numpy as np\n",
    "import pandas as pd"
   ]
  },
  {
   "cell_type": "code",
   "execution_count": 56,
   "metadata": {},
   "outputs": [],
   "source": [
    "wrong_data = pd.read_csv('/home/yuqihang/projects/CoLLM/collm-datasets/bookdu/reflection/wrong_1.csv')"
   ]
  },
  {
   "cell_type": "code",
   "execution_count": 57,
   "metadata": {},
   "outputs": [],
   "source": [
    "from tqdm import tqdm\n",
    "import requests\n",
    "from openai import OpenAI\n",
    "url = 'https://api.siliconflow.cn/v1/'\n",
    "api_key = 'sk-aqjpdmbxfmztkooxohnyxcbngysqhpgmjwxojihwwzuxojnj'\n",
    "\n",
    "def get_response(client,message):\n",
    "    for delay_secs in (2**x for x in range(0, 10)):\n",
    "        try:\n",
    "            response = client.chat.completions.create(\n",
    "                model=\"Qwen/QwQ-32B\",\n",
    "                messages=message,\n",
    "                stream=False, \n",
    "                max_tokens=1024\n",
    "            )\n",
    "            content = response.choices[0].message.content\n",
    "            reasoning_content = response.choices[0].message.reasoning_content\n",
    "            return content, reasoning_content\n",
    "        except openai.OpenAIError as e:\n",
    "            randomness_collision_avoidance = random.randint(0, 1000) / 1000.0\n",
    "            sleep_dur = delay_secs + randomness_collision_avoidance\n",
    "            print(f\"Error: {e}. Retrying in {round(sleep_dur, 2)} seconds.\")\n",
    "            time.sleep(sleep_dur)\n",
    "            continue"
   ]
  },
  {
   "cell_type": "code",
   "execution_count": 58,
   "metadata": {},
   "outputs": [],
   "source": [
    "label2text = {0:'No',1:'Yes'}\n",
    "prompt_template = '''A user has given high ratings to the following books: <HisItemList>. Using all available information, make a prediction about whether the user would enjoy the book titled <TargetItemTitle>?'''\n",
    "hints = 'The correct response is <answer>. Reflect on multiple aspects based on historical information and reanalyze to determine if the target item will be liked by users. Explain the reason for the oversight based on the previous analysis.'"
   ]
  },
  {
   "cell_type": "code",
   "execution_count": 62,
   "metadata": {},
   "outputs": [
    {
     "name": "stderr",
     "output_type": "stream",
     "text": [
      "Generating Reasoning:   0%|          | 0/2 [00:00<?, ?it/s]"
     ]
    },
    {
     "name": "stderr",
     "output_type": "stream",
     "text": [
      "Generating Reasoning: 100%|██████████| 2/2 [01:14<00:00, 37.32s/it, cnt=2]\n"
     ]
    }
   ],
   "source": [
    "reasons = []\n",
    "sbar = tqdm(total = len(wrong_data))\n",
    "sbar.set_description('Generating Reasoning')\n",
    "for idx in range(len(wrong_data)):\n",
    "    row = wrong_data.iloc[idx]\n",
    "    label = row['label']\n",
    "    his_seq = row['his_title']\n",
    "    target = row['title']\n",
    "    message = prompt_template.replace('<HisItemList>',his_seq).replace('<TargetItemTitle>',target)\n",
    "    his_message = [\n",
    "        {\"role\": \"system\",\"content\": \"You are a helpful recommender answer with Yes or No.\"},\n",
    "        {\"role\": \"user\",\"content\": message}\n",
    "    ]\n",
    "    client = OpenAI(base_url=url,api_key=api_key)\n",
    "    answer,reasoning_content = get_response(client,his_message)\n",
    "    cnt = 1\n",
    "    while label2text[label] not in answer:\n",
    "        # his_message.pop(0)\n",
    "        his_message.append({\"role\": \"assistant\",\"content\": label2text[1-label]})\n",
    "        his_message.append({\"role\": \"user\",\"content\": hints.replace('<answer>',label2text[label])})\n",
    "        answer,reasoning_content = get_response(client,his_message)\n",
    "        cnt += 1\n",
    "    reasons.append(f'{label2text[label]}. {reasoning_content}')\n",
    "    sbar.set_postfix(cnt=cnt)\n",
    "    if cnt > 5:\n",
    "        print(f'cnt:{cnt}')\n",
    "    sbar.update(1)\n",
    "sbar.close()"
   ]
  },
  {
   "cell_type": "code",
   "execution_count": null,
   "metadata": {},
   "outputs": [],
   "source": [
    "wrong_data['reason'] = reasons"
   ]
  },
  {
   "cell_type": "code",
   "execution_count": null,
   "metadata": {},
   "outputs": [],
   "source": [
    "wrong_data.to_csv(wrong_file.replace('.txt','.csv'),index=False)"
   ]
  },
  {
   "cell_type": "markdown",
   "metadata": {},
   "source": [
    "## Merge csv"
   ]
  },
  {
   "cell_type": "code",
   "execution_count": 1,
   "metadata": {},
   "outputs": [],
   "source": [
    "import os\n",
    "import pandas as pd\n",
    "import numpy as np\n",
    "import re\n",
    "from glob import glob"
   ]
  },
  {
   "cell_type": "code",
   "execution_count": 2,
   "metadata": {},
   "outputs": [],
   "source": [
    "csv_dir = '/data/yuqihang/datasets/collm-datasets/yelpdu/reason'"
   ]
  },
  {
   "cell_type": "code",
   "execution_count": 6,
   "metadata": {},
   "outputs": [],
   "source": [
    "csv_files = glob(f'{csv_dir}/*.csv')"
   ]
  },
  {
   "cell_type": "code",
   "execution_count": 7,
   "metadata": {},
   "outputs": [
    {
     "data": {
      "text/plain": [
       "['/data/yuqihang/datasets/collm-datasets/yelpdu/reason/wrong__batch_6.csv',\n",
       " '/data/yuqihang/datasets/collm-datasets/yelpdu/reason/wrong__batch_1.csv',\n",
       " '/data/yuqihang/datasets/collm-datasets/yelpdu/reason/wrong__batch_3.csv',\n",
       " '/data/yuqihang/datasets/collm-datasets/yelpdu/reason/wrong__batch_5.csv',\n",
       " '/data/yuqihang/datasets/collm-datasets/yelpdu/reason/wrong__batch_4.csv',\n",
       " '/data/yuqihang/datasets/collm-datasets/yelpdu/reason/reason_.csv',\n",
       " '/data/yuqihang/datasets/collm-datasets/yelpdu/reason/wrong__batch_2.csv']"
      ]
     },
     "execution_count": 7,
     "metadata": {},
     "output_type": "execute_result"
    }
   ],
   "source": [
    "csv_files"
   ]
  },
  {
   "cell_type": "code",
   "execution_count": 8,
   "metadata": {},
   "outputs": [],
   "source": [
    "save_file = 'reason.csv'"
   ]
  },
  {
   "cell_type": "code",
   "execution_count": 9,
   "metadata": {},
   "outputs": [],
   "source": [
    "dfs = []\n",
    "for csv_file in csv_files:\n",
    "    file_path = csv_file#os.path.join(csv_dir, csv_file)\n",
    "    if os.path.exists(file_path):\n",
    "        df = pd.read_csv(file_path)\n",
    "        if not dfs:\n",
    "            dfs.append(df)\n",
    "        else:\n",
    "            if list(df.columns) == list(dfs[0].columns):\n",
    "                dfs.append(df)\n",
    "            else:\n",
    "                print(f\"表头不一致: {csv_file}\")\n",
    "    else:\n",
    "        print(f\"文件不存在: {csv_file}\")\n",
    "if dfs:\n",
    "    df = pd.concat(dfs, ignore_index=True)\n",
    "else:\n",
    "    print(\"没有有效的文件可以合并\")"
   ]
  },
  {
   "cell_type": "code",
   "execution_count": 10,
   "metadata": {},
   "outputs": [],
   "source": [
    "def convert_str_2_list(x):\n",
    "    return np.array([int(item) for item in re.split(r'\\s+', x[1:-1].replace(',',' ').strip(' '))])\n",
    "def dftype(df):\n",
    "    for idx in df.columns:\n",
    "        if isinstance(df[idx][0],list) or isinstance(df[idx][0],np.ndarray):\n",
    "            print(idx,type(df[idx][0]),type(df[idx][0][0]))\n",
    "        else:\n",
    "            print(idx,type(df[idx][0]))"
   ]
  },
  {
   "cell_type": "code",
   "execution_count": 24,
   "metadata": {},
   "outputs": [],
   "source": [
    "df['his_label'] = df['his_label'].map(lambda x: convert_str_2_list(x))\n",
    "df['his'] = df['his'].map(lambda x: convert_str_2_list(x))"
   ]
  },
  {
   "cell_type": "code",
   "execution_count": 12,
   "metadata": {},
   "outputs": [],
   "source": [
    "df['reason'] = df['reason'].apply(lambda x: re.sub(r'\\s+', ' ', x.strip()))"
   ]
  },
  {
   "cell_type": "code",
   "execution_count": 13,
   "metadata": {},
   "outputs": [
    {
     "name": "stdout",
     "output_type": "stream",
     "text": [
      "uid <class 'numpy.int64'>\n",
      "iid <class 'numpy.int64'>\n",
      "label <class 'numpy.int64'>\n",
      "his <class 'numpy.ndarray'> <class 'numpy.int64'>\n",
      "his_label <class 'numpy.ndarray'> <class 'numpy.int64'>\n",
      "his_title <class 'str'>\n",
      "title <class 'str'>\n",
      "reason <class 'str'>\n"
     ]
    }
   ],
   "source": [
    "dftype(df)"
   ]
  },
  {
   "cell_type": "code",
   "execution_count": 14,
   "metadata": {},
   "outputs": [
    {
     "data": {
      "text/html": [
       "<div>\n",
       "<style scoped>\n",
       "    .dataframe tbody tr th:only-of-type {\n",
       "        vertical-align: middle;\n",
       "    }\n",
       "\n",
       "    .dataframe tbody tr th {\n",
       "        vertical-align: top;\n",
       "    }\n",
       "\n",
       "    .dataframe thead th {\n",
       "        text-align: right;\n",
       "    }\n",
       "</style>\n",
       "<table border=\"1\" class=\"dataframe\">\n",
       "  <thead>\n",
       "    <tr style=\"text-align: right;\">\n",
       "      <th></th>\n",
       "      <th>uid</th>\n",
       "      <th>iid</th>\n",
       "      <th>label</th>\n",
       "      <th>his</th>\n",
       "      <th>his_label</th>\n",
       "      <th>his_title</th>\n",
       "      <th>title</th>\n",
       "      <th>reason</th>\n",
       "    </tr>\n",
       "  </thead>\n",
       "  <tbody>\n",
       "    <tr>\n",
       "      <th>0</th>\n",
       "      <td>30756</td>\n",
       "      <td>26802</td>\n",
       "      <td>1</td>\n",
       "      <td>[8499, 12623, 48701, 20557, 8509, 42044, 52363...</td>\n",
       "      <td>[0, 1, 0, 1, 1, 0, 1, 0, 1, 0]</td>\n",
       "      <td>\"Charlie Was a Sinner\" (evaluation: No) with d...</td>\n",
       "      <td>\"Bardot Cafe\" with description: drinks, happy ...</td>\n",
       "      <td>Yes. Okay, let's try to figure out if the user...</td>\n",
       "    </tr>\n",
       "    <tr>\n",
       "      <th>1</th>\n",
       "      <td>5264</td>\n",
       "      <td>46343</td>\n",
       "      <td>1</td>\n",
       "      <td>[30869, 11569, 36587, 55412, 32091, 30197, 381...</td>\n",
       "      <td>[0, 1, 0, 1, 0, 1, 0, 1, 0, 1]</td>\n",
       "      <td>\"Tortas Frontera\" (evaluation: No) with descri...</td>\n",
       "      <td>\"Joy Tsin Lau Chinese Restaurant\" with descrip...</td>\n",
       "      <td>Yes. Okay, so I need to figure out if the user...</td>\n",
       "    </tr>\n",
       "    <tr>\n",
       "      <th>2</th>\n",
       "      <td>1439</td>\n",
       "      <td>52273</td>\n",
       "      <td>1</td>\n",
       "      <td>[39738, 58332, 118, 21152, 25721, 45295, 59051...</td>\n",
       "      <td>[0, 1, 1, 0, 0, 0, 1, 1, 0, 1]</td>\n",
       "      <td>\"Barcade\" (evaluation: No) with description: b...</td>\n",
       "      <td>\"Wiljax Famous Sandwiches\" with description: l...</td>\n",
       "      <td>Yes. Okay, let's see. The user wants to know i...</td>\n",
       "    </tr>\n",
       "    <tr>\n",
       "      <th>3</th>\n",
       "      <td>1439</td>\n",
       "      <td>53722</td>\n",
       "      <td>1</td>\n",
       "      <td>[38161, 55432, 14865, 34957, 13335, 51403, 580...</td>\n",
       "      <td>[0, 1, 1, 0, 0, 0, 1, 0, 1, 1]</td>\n",
       "      <td>\"The Farmhouse\" (evaluation: No) with descript...</td>\n",
       "      <td>\"L'Oceano Ristorante\" with description: seafoo...</td>\n",
       "      <td>Yes. Alright, let's tackle this problem. The u...</td>\n",
       "    </tr>\n",
       "    <tr>\n",
       "      <th>4</th>\n",
       "      <td>10706</td>\n",
       "      <td>9896</td>\n",
       "      <td>1</td>\n",
       "      <td>[7248, 35554, 39957, 12701, 33502, 19315, 5481...</td>\n",
       "      <td>[0, 1, 0, 1, 0, 1, 1, 1, 0, 0]</td>\n",
       "      <td>\"Drago's Seafood Restaurant\" (evaluation: No) ...</td>\n",
       "      <td>\"Le Bercail Restaurant\" with description: kids...</td>\n",
       "      <td>Yes. Okay, let me try to work through this ste...</td>\n",
       "    </tr>\n",
       "  </tbody>\n",
       "</table>\n",
       "</div>"
      ],
      "text/plain": [
       "     uid    iid  label                                                his  \\\n",
       "0  30756  26802      1  [8499, 12623, 48701, 20557, 8509, 42044, 52363...   \n",
       "1   5264  46343      1  [30869, 11569, 36587, 55412, 32091, 30197, 381...   \n",
       "2   1439  52273      1  [39738, 58332, 118, 21152, 25721, 45295, 59051...   \n",
       "3   1439  53722      1  [38161, 55432, 14865, 34957, 13335, 51403, 580...   \n",
       "4  10706   9896      1  [7248, 35554, 39957, 12701, 33502, 19315, 5481...   \n",
       "\n",
       "                        his_label  \\\n",
       "0  [0, 1, 0, 1, 1, 0, 1, 0, 1, 0]   \n",
       "1  [0, 1, 0, 1, 0, 1, 0, 1, 0, 1]   \n",
       "2  [0, 1, 1, 0, 0, 0, 1, 1, 0, 1]   \n",
       "3  [0, 1, 1, 0, 0, 0, 1, 0, 1, 1]   \n",
       "4  [0, 1, 0, 1, 0, 1, 1, 1, 0, 0]   \n",
       "\n",
       "                                           his_title  \\\n",
       "0  \"Charlie Was a Sinner\" (evaluation: No) with d...   \n",
       "1  \"Tortas Frontera\" (evaluation: No) with descri...   \n",
       "2  \"Barcade\" (evaluation: No) with description: b...   \n",
       "3  \"The Farmhouse\" (evaluation: No) with descript...   \n",
       "4  \"Drago's Seafood Restaurant\" (evaluation: No) ...   \n",
       "\n",
       "                                               title  \\\n",
       "0  \"Bardot Cafe\" with description: drinks, happy ...   \n",
       "1  \"Joy Tsin Lau Chinese Restaurant\" with descrip...   \n",
       "2  \"Wiljax Famous Sandwiches\" with description: l...   \n",
       "3  \"L'Oceano Ristorante\" with description: seafoo...   \n",
       "4  \"Le Bercail Restaurant\" with description: kids...   \n",
       "\n",
       "                                              reason  \n",
       "0  Yes. Okay, let's try to figure out if the user...  \n",
       "1  Yes. Okay, so I need to figure out if the user...  \n",
       "2  Yes. Okay, let's see. The user wants to know i...  \n",
       "3  Yes. Alright, let's tackle this problem. The u...  \n",
       "4  Yes. Okay, let me try to work through this ste...  "
      ]
     },
     "execution_count": 14,
     "metadata": {},
     "output_type": "execute_result"
    }
   ],
   "source": [
    "df.head()"
   ]
  },
  {
   "cell_type": "code",
   "execution_count": 15,
   "metadata": {},
   "outputs": [
    {
     "data": {
      "text/plain": [
       "('/data/yuqihang/datasets/collm-datasets/yelpdu/reason/reason.csv', 3800)"
      ]
     },
     "execution_count": 15,
     "metadata": {},
     "output_type": "execute_result"
    }
   ],
   "source": [
    "if len(save_file) == 0:\n",
    "    save_ids = [csv_file.split('.')[0].split('_')[1:] for csv_file in csv_files]\n",
    "    save_path = f'{csv_dir}/wrong_{\"_\".join(sorted(sum(save_ids,[])))}.csv'\n",
    "else:\n",
    "    save_path = f'{csv_dir}/{save_file}'\n",
    "if os.path.exists(save_path):\n",
    "    print(f'{save_path} already exists, skip')\n",
    "else:\n",
    "    df.to_csv(save_path,index=False)\n",
    "save_path,len(df)"
   ]
  },
  {
   "cell_type": "code",
   "execution_count": 16,
   "metadata": {},
   "outputs": [
    {
     "name": "stdout",
     "output_type": "stream",
     "text": [
      "uid <class 'numpy.int64'>\n",
      "iid <class 'numpy.int64'>\n",
      "label <class 'numpy.int64'>\n",
      "his <class 'numpy.ndarray'> <class 'numpy.int64'>\n",
      "his_label <class 'numpy.ndarray'> <class 'numpy.int64'>\n",
      "his_title <class 'str'>\n",
      "title <class 'str'>\n",
      "reason <class 'str'>\n"
     ]
    },
    {
     "data": {
      "text/plain": [
       "(3800, None)"
      ]
     },
     "execution_count": 16,
     "metadata": {},
     "output_type": "execute_result"
    }
   ],
   "source": [
    "len(df),dftype(df)"
   ]
  },
  {
   "cell_type": "markdown",
   "metadata": {},
   "source": [
    "## Convert to training data"
   ]
  },
  {
   "cell_type": "code",
   "execution_count": 37,
   "metadata": {},
   "outputs": [],
   "source": [
    "import re\n",
    "import pandas as pd\n",
    "import numpy as np"
   ]
  },
  {
   "cell_type": "code",
   "execution_count": 17,
   "metadata": {},
   "outputs": [],
   "source": [
    "df = pd.read_csv('/data/yuqihang/datasets/collm-datasets/yelpdu/reason/reason.csv')"
   ]
  },
  {
   "cell_type": "code",
   "execution_count": 25,
   "metadata": {},
   "outputs": [
    {
     "data": {
      "text/html": [
       "<div>\n",
       "<style scoped>\n",
       "    .dataframe tbody tr th:only-of-type {\n",
       "        vertical-align: middle;\n",
       "    }\n",
       "\n",
       "    .dataframe tbody tr th {\n",
       "        vertical-align: top;\n",
       "    }\n",
       "\n",
       "    .dataframe thead th {\n",
       "        text-align: right;\n",
       "    }\n",
       "</style>\n",
       "<table border=\"1\" class=\"dataframe\">\n",
       "  <thead>\n",
       "    <tr style=\"text-align: right;\">\n",
       "      <th></th>\n",
       "      <th>uid</th>\n",
       "      <th>iid</th>\n",
       "      <th>label</th>\n",
       "      <th>his</th>\n",
       "      <th>his_label</th>\n",
       "      <th>his_title</th>\n",
       "      <th>title</th>\n",
       "      <th>reason</th>\n",
       "      <th>not_cold</th>\n",
       "    </tr>\n",
       "  </thead>\n",
       "  <tbody>\n",
       "    <tr>\n",
       "      <th>0</th>\n",
       "      <td>30756</td>\n",
       "      <td>26802</td>\n",
       "      <td>1</td>\n",
       "      <td>[8499, 12623, 48701, 20557, 8509, 42044, 52363...</td>\n",
       "      <td>[0, 1, 0, 1, 1, 0, 1, 0, 1, 0]</td>\n",
       "      <td>\"Charlie Was a Sinner\" (evaluation: No) with d...</td>\n",
       "      <td>\"Bardot Cafe\" with description: drinks, happy ...</td>\n",
       "      <td>Yes. Okay, let's try to figure out if the user...</td>\n",
       "      <td>1</td>\n",
       "    </tr>\n",
       "    <tr>\n",
       "      <th>1</th>\n",
       "      <td>5264</td>\n",
       "      <td>46343</td>\n",
       "      <td>1</td>\n",
       "      <td>[30869, 11569, 36587, 55412, 32091, 30197, 381...</td>\n",
       "      <td>[0, 1, 0, 1, 0, 1, 0, 1, 0, 1]</td>\n",
       "      <td>\"Tortas Frontera\" (evaluation: No) with descri...</td>\n",
       "      <td>\"Joy Tsin Lau Chinese Restaurant\" with descrip...</td>\n",
       "      <td>Yes. Okay, so I need to figure out if the user...</td>\n",
       "      <td>1</td>\n",
       "    </tr>\n",
       "  </tbody>\n",
       "</table>\n",
       "</div>"
      ],
      "text/plain": [
       "     uid    iid  label                                                his  \\\n",
       "0  30756  26802      1  [8499, 12623, 48701, 20557, 8509, 42044, 52363...   \n",
       "1   5264  46343      1  [30869, 11569, 36587, 55412, 32091, 30197, 381...   \n",
       "\n",
       "                        his_label  \\\n",
       "0  [0, 1, 0, 1, 1, 0, 1, 0, 1, 0]   \n",
       "1  [0, 1, 0, 1, 0, 1, 0, 1, 0, 1]   \n",
       "\n",
       "                                           his_title  \\\n",
       "0  \"Charlie Was a Sinner\" (evaluation: No) with d...   \n",
       "1  \"Tortas Frontera\" (evaluation: No) with descri...   \n",
       "\n",
       "                                               title  \\\n",
       "0  \"Bardot Cafe\" with description: drinks, happy ...   \n",
       "1  \"Joy Tsin Lau Chinese Restaurant\" with descrip...   \n",
       "\n",
       "                                              reason  not_cold  \n",
       "0  Yes. Okay, let's try to figure out if the user...         1  \n",
       "1  Yes. Okay, so I need to figure out if the user...         1  "
      ]
     },
     "execution_count": 25,
     "metadata": {},
     "output_type": "execute_result"
    }
   ],
   "source": [
    "df.head(2)"
   ]
  },
  {
   "cell_type": "code",
   "execution_count": 26,
   "metadata": {},
   "outputs": [
    {
     "data": {
      "text/plain": [
       "3800"
      ]
     },
     "execution_count": 26,
     "metadata": {},
     "output_type": "execute_result"
    }
   ],
   "source": [
    "len(df)"
   ]
  },
  {
   "cell_type": "code",
   "execution_count": 27,
   "metadata": {},
   "outputs": [],
   "source": [
    "df['not_cold'] = pd.DataFrame(np.ones(df.shape[0]),index=df.index).astype(\"int\")"
   ]
  },
  {
   "cell_type": "code",
   "execution_count": 28,
   "metadata": {},
   "outputs": [],
   "source": [
    "wrong = df[['uid','iid','label','his','his_label','not_cold','reason']]"
   ]
  },
  {
   "cell_type": "code",
   "execution_count": 29,
   "metadata": {},
   "outputs": [
    {
     "data": {
      "text/html": [
       "<div>\n",
       "<style scoped>\n",
       "    .dataframe tbody tr th:only-of-type {\n",
       "        vertical-align: middle;\n",
       "    }\n",
       "\n",
       "    .dataframe tbody tr th {\n",
       "        vertical-align: top;\n",
       "    }\n",
       "\n",
       "    .dataframe thead th {\n",
       "        text-align: right;\n",
       "    }\n",
       "</style>\n",
       "<table border=\"1\" class=\"dataframe\">\n",
       "  <thead>\n",
       "    <tr style=\"text-align: right;\">\n",
       "      <th></th>\n",
       "      <th>uid</th>\n",
       "      <th>iid</th>\n",
       "      <th>label</th>\n",
       "      <th>his</th>\n",
       "      <th>his_label</th>\n",
       "      <th>not_cold</th>\n",
       "      <th>reason</th>\n",
       "    </tr>\n",
       "  </thead>\n",
       "  <tbody>\n",
       "    <tr>\n",
       "      <th>0</th>\n",
       "      <td>30756</td>\n",
       "      <td>26802</td>\n",
       "      <td>1</td>\n",
       "      <td>[8499, 12623, 48701, 20557, 8509, 42044, 52363...</td>\n",
       "      <td>[0, 1, 0, 1, 1, 0, 1, 0, 1, 0]</td>\n",
       "      <td>1</td>\n",
       "      <td>Yes. Okay, let's try to figure out if the user...</td>\n",
       "    </tr>\n",
       "    <tr>\n",
       "      <th>1</th>\n",
       "      <td>5264</td>\n",
       "      <td>46343</td>\n",
       "      <td>1</td>\n",
       "      <td>[30869, 11569, 36587, 55412, 32091, 30197, 381...</td>\n",
       "      <td>[0, 1, 0, 1, 0, 1, 0, 1, 0, 1]</td>\n",
       "      <td>1</td>\n",
       "      <td>Yes. Okay, so I need to figure out if the user...</td>\n",
       "    </tr>\n",
       "  </tbody>\n",
       "</table>\n",
       "</div>"
      ],
      "text/plain": [
       "     uid    iid  label                                                his  \\\n",
       "0  30756  26802      1  [8499, 12623, 48701, 20557, 8509, 42044, 52363...   \n",
       "1   5264  46343      1  [30869, 11569, 36587, 55412, 32091, 30197, 381...   \n",
       "\n",
       "                        his_label  not_cold  \\\n",
       "0  [0, 1, 0, 1, 1, 0, 1, 0, 1, 0]         1   \n",
       "1  [0, 1, 0, 1, 0, 1, 0, 1, 0, 1]         1   \n",
       "\n",
       "                                              reason  \n",
       "0  Yes. Okay, let's try to figure out if the user...  \n",
       "1  Yes. Okay, so I need to figure out if the user...  "
      ]
     },
     "execution_count": 29,
     "metadata": {},
     "output_type": "execute_result"
    }
   ],
   "source": [
    "wrong.head(2)"
   ]
  },
  {
   "cell_type": "code",
   "execution_count": 30,
   "metadata": {},
   "outputs": [
    {
     "name": "stdout",
     "output_type": "stream",
     "text": [
      "uid <class 'numpy.int64'>\n",
      "iid <class 'numpy.int64'>\n",
      "label <class 'numpy.int64'>\n",
      "his <class 'numpy.ndarray'> <class 'numpy.int64'>\n",
      "his_label <class 'numpy.ndarray'> <class 'numpy.int64'>\n",
      "not_cold <class 'numpy.int64'>\n",
      "reason <class 'str'>\n"
     ]
    }
   ],
   "source": [
    "dftype(wrong)"
   ]
  },
  {
   "cell_type": "code",
   "execution_count": 31,
   "metadata": {},
   "outputs": [
    {
     "data": {
      "text/plain": [
       "3800"
      ]
     },
     "execution_count": 31,
     "metadata": {},
     "output_type": "execute_result"
    }
   ],
   "source": [
    "len(wrong)"
   ]
  },
  {
   "cell_type": "code",
   "execution_count": 32,
   "metadata": {},
   "outputs": [],
   "source": [
    "wrong.to_pickle('/data/yuqihang/datasets/collm-datasets/yelpdu/reason_ood2.pkl')"
   ]
  }
 ],
 "metadata": {
  "kernelspec": {
   "display_name": "Python 3",
   "language": "python",
   "name": "python3"
  },
  "language_info": {
   "codemirror_mode": {
    "name": "ipython",
    "version": 3
   },
   "file_extension": ".py",
   "mimetype": "text/x-python",
   "name": "python",
   "nbconvert_exporter": "python",
   "pygments_lexer": "ipython3",
   "version": "3.9.20"
  }
 },
 "nbformat": 4,
 "nbformat_minor": 2
}
