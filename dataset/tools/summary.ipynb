{
 "cells": [
  {
   "cell_type": "markdown",
   "metadata": {},
   "source": [
    "## 总结item的关键词"
   ]
  },
  {
   "cell_type": "code",
   "execution_count": 1,
   "metadata": {},
   "outputs": [],
   "source": [
    "from modelscope import AutoModelForCausalLM, AutoTokenizer\n",
    "from modelscope import GenerationConfig\n",
    "import os\n",
    "import torch"
   ]
  },
  {
   "cell_type": "code",
   "execution_count": 2,
   "metadata": {},
   "outputs": [],
   "source": [
    "# 设置GPU\n",
    "torch.cuda.set_device(4)"
   ]
  },
  {
   "cell_type": "code",
   "execution_count": 3,
   "metadata": {},
   "outputs": [],
   "source": [
    "device = torch.device(\"cuda:4\" if torch.cuda.is_available() else \"cpu\")"
   ]
  },
  {
   "cell_type": "code",
   "execution_count": 4,
   "metadata": {},
   "outputs": [
    {
     "data": {
      "text/plain": [
       "device(type='cuda', index=4)"
      ]
     },
     "execution_count": 4,
     "metadata": {},
     "output_type": "execute_result"
    }
   ],
   "source": [
    "device"
   ]
  },
  {
   "cell_type": "code",
   "execution_count": 6,
   "metadata": {},
   "outputs": [],
   "source": [
    "tokenizer = AutoTokenizer.from_pretrained(\"/home/yuqihang/workroot/models/llm/nlp_polylm_qwen_7b_text_generation\", revision = 'v1.0.1', trust_remote_code=True)"
   ]
  },
  {
   "cell_type": "code",
   "execution_count": 5,
   "metadata": {},
   "outputs": [
    {
     "name": "stderr",
     "output_type": "stream",
     "text": [
      "Try importing flash-attention for faster inference...\n",
      "Warning: import flash_attn rotary fail, please install FlashAttention rotary to get higher efficiency https://github.com/Dao-AILab/flash-attention/tree/main/csrc/rotary\n",
      "Warning: import flash_attn rms_norm fail, please install FlashAttention layer_norm to get higher efficiency https://github.com/Dao-AILab/flash-attention/tree/main/csrc/layer_norm\n",
      "Warning: import flash_attn fail, please install FlashAttention to get higher efficiency https://github.com/Dao-AILab/flash-attention\n"
     ]
    },
    {
     "data": {
      "application/vnd.jupyter.widget-view+json": {
       "model_id": "7cea8da4edfb46849d4eb680d5eee79b",
       "version_major": 2,
       "version_minor": 0
      },
      "text/plain": [
       "Loading checkpoint shards:   0%|          | 0/8 [00:00<?, ?it/s]"
      ]
     },
     "metadata": {},
     "output_type": "display_data"
    }
   ],
   "source": [
    "model = AutoModelForCausalLM.from_pretrained(\"/home/yuqihang/workroot/models/llm/nlp_polylm_qwen_7b_text_generation\", revision = 'v1.0.1',trust_remote_code=True, bf16=True).eval().to(device)"
   ]
  },
  {
   "cell_type": "code",
   "execution_count": 7,
   "metadata": {},
   "outputs": [],
   "source": [
    "# 创建 GenerationConfig 对象\n",
    "generation_config = GenerationConfig.from_pretrained(\n",
    "    \"/home/yuqihang/workroot/models/llm/nlp_polylm_qwen_7b_text_generation\",\n",
    "    revision='v1.0.1',\n",
    "    trust_remote_code=True\n",
    ")\n",
    "\n",
    "# 更新配置参数\n",
    "generation_config.max_new_tokens = 32\n",
    "generation_config.min_length = 1\n",
    "generation_config.do_sample = False  # 禁用采样，启用贪婪搜索\n",
    "generation_config.num_beams = 4      # 使用束搜索，宽度为 4\n",
    "generation_config.num_return_sequences = 1  # 返回一个序列\n",
    "generation_config.repetition_penalty = 1.2  # 重复惩罚系数\n",
    "generation_config.no_repeat_ngram_size = 2  # 不重复的 n-gram 大小\n",
    "generation_config.early_stopping = True\n",
    "\n",
    "# 将配置应用到模型\n",
    "model.generation_config = generation_config"
   ]
  },
  {
   "cell_type": "code",
   "execution_count": 8,
   "metadata": {},
   "outputs": [],
   "source": [
    "import numpy as np\n",
    "import pandas as pd\n",
    "import json"
   ]
  },
  {
   "cell_type": "code",
   "execution_count": null,
   "metadata": {},
   "outputs": [],
   "source": [
    "json_path = '/home/yuqihang/projects/CoLLM/collm-datasets/booknew/id2title.json'\n",
    "rawdict = json.load(open(json_path, 'r'))"
   ]
  },
  {
   "cell_type": "code",
   "execution_count": null,
   "metadata": {},
   "outputs": [],
   "source": [
    "data_types = ['book','movie']\n",
    "data_type_id = 0\n",
    "prompt_prefix = f'You are a skilled text summarizer. Your task is to extract up to ten key words from the given profile of the {data_types[data_type_id]} above. Do not include the word \"book\" in your summary. Answers should contain only keywords, which should be separated by commas.\\nKeywords:'"
   ]
  },
  {
   "cell_type": "code",
   "execution_count": null,
   "metadata": {},
   "outputs": [],
   "source": [
    "def get_desc(meta:dict)->str:\n",
    "    description = ''\n",
    "    candidates = ['category','brand','price','description']\n",
    "    for item in candidates:\n",
    "        if item in meta:\n",
    "            description = f'{description}\"{item.capitalize()}\":{\" \".join(meta[item].replace(\"...\",\".\").replace(\"&\",\"and\").replace(\"Book\",\"\").replace(\"book\",\"\").split()[:100])}.'\n",
    "    return description"
   ]
  },
  {
   "cell_type": "code",
   "execution_count": null,
   "metadata": {},
   "outputs": [],
   "source": [
    "testdic = {\n",
    "    'description':\"\\\"I didn't want to put it down the entire time I was reading ...I still can't stop thinking about it.\\\" --Megan, Starky Reviews \\\"Great storytelling ... This isNOT a cookie-cutter dystopian read.\\\" --Dianne, Tome Tender Book Blog \\\"This book was AWESOME!... An epic read ... If you ... love books like The Hunger Games, Divergent, and The Maze Runner, this book is right up your alley ...Five stars!\\\" --Stephanie, TeacherofYA's Book Blog \\\"This book is incredible! ... Imaginative ... fast paced ... full of action ... filled with a lot of twists and turns ... and the world building is truly fantastic ... 5 Brilliant Stars.\\\" --Karen Jo, Sincerely Karen Jo \\\"5 Stars!!!!!! Unputdownable!! ... My new favorite book ... If YOU love a good dystopian + romance ... Then you need this book in your life.\\\" --Megan,i fall in love book blog \\\"An intensely awesome read ... The suspense and the thrilling scenarios kept me on edge ... Very creative and brilliant ... Highly recommended.\\\" --Denise, Goodreads \\\"This bookoffers everything from action to romance with twists that keep you guessing. If you enjoyedthe Divergent Seriesyou will definitely enjoy this! A must-read.\\\" --Ashley, Goodreads \\\"This post-apocalyptic, young adult, science fiction is a page turner from start to finish!Similar to The Giver in the beginning and things just get more and more interesting ... Highly recommend!\\\" -- Susie, Goodreads \\\"An amazing read .. Most stories seem predictable at some point but this one surprised me. At only one single point was I able to say, yep I see what's going to happen next. Yeah, right. I was totally wrong.\\\" --Amanda, Goodreads\",\n",
    "    'brand':'Yilin Publisher',\n",
    "    'price':'$87.1'\n",
    "}\n",
    "print(get_desc(testdic))"
   ]
  },
  {
   "cell_type": "code",
   "execution_count": null,
   "metadata": {},
   "outputs": [],
   "source": [
    "inputs = tokenizer(f'{get_desc(testdic)}\\n{prompt_prefix}', return_tensors='pt')\n",
    "inputs = inputs.to(device)\n",
    "pred = model.generate(**inputs)\n",
    "raw = tokenizer.decode(pred.cpu()[0], skip_special_tokens=True)\n",
    "print(raw)\n",
    "keywords = ', '.join(raw.split('Keywords:')[-1].strip().replace('\"','').split(', ')[:10])\n",
    "print(keywords)"
   ]
  },
  {
   "cell_type": "code",
   "execution_count": null,
   "metadata": {},
   "outputs": [],
   "source": [
    "from tqdm import tqdm"
   ]
  },
  {
   "cell_type": "code",
   "execution_count": null,
   "metadata": {},
   "outputs": [],
   "source": [
    "sbar = tqdm(total=5)\n",
    "for idx,meta in list(rawdict.items())[:5]:\n",
    "    inputs = tokenizer(f'{get_desc(meta)}\\n{prompt_prefix}:', return_tensors='pt')\n",
    "    inputs = inputs.to(device)\n",
    "    pred = model.generate(**inputs)\n",
    "    raw = tokenizer.decode(pred.cpu()[0], skip_special_tokens=True)\n",
    "    raw_words = raw.split('Keywords:')[-1].strip()\n",
    "    cleaned_words = raw_words.replace('\"','').replace(':','').replace('  ',' ').split(', ')\n",
    "    filer_words = list(filter(lambda x: x not in ['book','books','Book','Books'], cleaned_words))[:10]\n",
    "    # print(raw)\n",
    "    keywords = ', '.join(filer_words)\n",
    "    # rawdict[idx]['keywords'] = keywords\n",
    "    torch.cuda.empty_cache()\n",
    "    sbar.set_postfix(keywords=keywords)\n",
    "    sbar.update()"
   ]
  }
 ],
 "metadata": {
  "kernelspec": {
   "display_name": "collm",
   "language": "python",
   "name": "python3"
  },
  "language_info": {
   "codemirror_mode": {
    "name": "ipython",
    "version": 3
   },
   "file_extension": ".py",
   "mimetype": "text/x-python",
   "name": "python",
   "nbconvert_exporter": "python",
   "pygments_lexer": "ipython3",
   "version": "3.10.16"
  }
 },
 "nbformat": 4,
 "nbformat_minor": 2
}
