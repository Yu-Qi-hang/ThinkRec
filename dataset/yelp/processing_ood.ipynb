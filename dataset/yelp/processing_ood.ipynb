{
 "cells": [
  {
   "cell_type": "code",
   "execution_count": 1,
   "metadata": {},
   "outputs": [],
   "source": [
    "import os\n",
    "import re\n",
    "import json\n",
    "import gzip\n",
    "import numpy as np\n",
    "import pandas as pd\n",
    "from urllib.request import urlopen"
   ]
  },
  {
   "cell_type": "code",
   "execution_count": 2,
   "metadata": {},
   "outputs": [],
   "source": [
    "business_file = '/home/yuqihang/workroot/models/data/recsys/yelp/yelp_academic_dataset_business.json'\n",
    "review_file = '/home/yuqihang/workroot/models/data/recsys/yelp/yelp_academic_dataset_review.json'\n",
    "review = pd.read_json(review_file, lines=True)\n",
    "business = pd.read_json(business_file, lines=True)\n"
   ]
  },
  {
   "cell_type": "code",
   "execution_count": 14,
   "metadata": {},
   "outputs": [
    {
     "data": {
      "text/html": [
       "<div>\n",
       "<style scoped>\n",
       "    .dataframe tbody tr th:only-of-type {\n",
       "        vertical-align: middle;\n",
       "    }\n",
       "\n",
       "    .dataframe tbody tr th {\n",
       "        vertical-align: top;\n",
       "    }\n",
       "\n",
       "    .dataframe thead th {\n",
       "        text-align: right;\n",
       "    }\n",
       "</style>\n",
       "<table border=\"1\" class=\"dataframe\">\n",
       "  <thead>\n",
       "    <tr style=\"text-align: right;\">\n",
       "      <th></th>\n",
       "      <th>business_id</th>\n",
       "      <th>name</th>\n",
       "      <th>address</th>\n",
       "      <th>city</th>\n",
       "      <th>state</th>\n",
       "      <th>postal_code</th>\n",
       "      <th>latitude</th>\n",
       "      <th>longitude</th>\n",
       "      <th>stars</th>\n",
       "      <th>review_count</th>\n",
       "      <th>is_open</th>\n",
       "      <th>attributes</th>\n",
       "      <th>categories</th>\n",
       "      <th>hours</th>\n",
       "    </tr>\n",
       "  </thead>\n",
       "  <tbody>\n",
       "    <tr>\n",
       "      <th>0</th>\n",
       "      <td>Pns2l4eNsfO8kk83dixA6A</td>\n",
       "      <td>Abby Rappoport, LAC, CMQ</td>\n",
       "      <td>1616 Chapala St, Ste 2</td>\n",
       "      <td>Santa Barbara</td>\n",
       "      <td>CA</td>\n",
       "      <td>93101</td>\n",
       "      <td>34.426679</td>\n",
       "      <td>-119.711197</td>\n",
       "      <td>5.0</td>\n",
       "      <td>7</td>\n",
       "      <td>0</td>\n",
       "      <td>{'ByAppointmentOnly': 'True'}</td>\n",
       "      <td>Doctors, Traditional Chinese Medicine, Naturop...</td>\n",
       "      <td>None</td>\n",
       "    </tr>\n",
       "    <tr>\n",
       "      <th>1</th>\n",
       "      <td>mpf3x-BjTdTEA3yCZrAYPw</td>\n",
       "      <td>The UPS Store</td>\n",
       "      <td>87 Grasso Plaza Shopping Center</td>\n",
       "      <td>Affton</td>\n",
       "      <td>MO</td>\n",
       "      <td>63123</td>\n",
       "      <td>38.551126</td>\n",
       "      <td>-90.335695</td>\n",
       "      <td>3.0</td>\n",
       "      <td>15</td>\n",
       "      <td>1</td>\n",
       "      <td>{'BusinessAcceptsCreditCards': 'True'}</td>\n",
       "      <td>Shipping Centers, Local Services, Notaries, Ma...</td>\n",
       "      <td>{'Monday': '0:0-0:0', 'Tuesday': '8:0-18:30', ...</td>\n",
       "    </tr>\n",
       "  </tbody>\n",
       "</table>\n",
       "</div>"
      ],
      "text/plain": [
       "              business_id                      name  \\\n",
       "0  Pns2l4eNsfO8kk83dixA6A  Abby Rappoport, LAC, CMQ   \n",
       "1  mpf3x-BjTdTEA3yCZrAYPw             The UPS Store   \n",
       "\n",
       "                           address           city state postal_code  \\\n",
       "0           1616 Chapala St, Ste 2  Santa Barbara    CA       93101   \n",
       "1  87 Grasso Plaza Shopping Center         Affton    MO       63123   \n",
       "\n",
       "    latitude   longitude  stars  review_count  is_open  \\\n",
       "0  34.426679 -119.711197    5.0             7        0   \n",
       "1  38.551126  -90.335695    3.0            15        1   \n",
       "\n",
       "                               attributes  \\\n",
       "0           {'ByAppointmentOnly': 'True'}   \n",
       "1  {'BusinessAcceptsCreditCards': 'True'}   \n",
       "\n",
       "                                          categories  \\\n",
       "0  Doctors, Traditional Chinese Medicine, Naturop...   \n",
       "1  Shipping Centers, Local Services, Notaries, Ma...   \n",
       "\n",
       "                                               hours  \n",
       "0                                               None  \n",
       "1  {'Monday': '0:0-0:0', 'Tuesday': '8:0-18:30', ...  "
      ]
     },
     "execution_count": 14,
     "metadata": {},
     "output_type": "execute_result"
    }
   ],
   "source": [
    "business.head(2)"
   ]
  },
  {
   "cell_type": "code",
   "execution_count": 15,
   "metadata": {},
   "outputs": [
    {
     "data": {
      "text/html": [
       "<div>\n",
       "<style scoped>\n",
       "    .dataframe tbody tr th:only-of-type {\n",
       "        vertical-align: middle;\n",
       "    }\n",
       "\n",
       "    .dataframe tbody tr th {\n",
       "        vertical-align: top;\n",
       "    }\n",
       "\n",
       "    .dataframe thead th {\n",
       "        text-align: right;\n",
       "    }\n",
       "</style>\n",
       "<table border=\"1\" class=\"dataframe\">\n",
       "  <thead>\n",
       "    <tr style=\"text-align: right;\">\n",
       "      <th></th>\n",
       "      <th>review_id</th>\n",
       "      <th>user_id</th>\n",
       "      <th>business_id</th>\n",
       "      <th>stars</th>\n",
       "      <th>useful</th>\n",
       "      <th>funny</th>\n",
       "      <th>cool</th>\n",
       "      <th>text</th>\n",
       "      <th>date</th>\n",
       "    </tr>\n",
       "  </thead>\n",
       "  <tbody>\n",
       "    <tr>\n",
       "      <th>0</th>\n",
       "      <td>KU_O5udG6zpxOg-VcAEodg</td>\n",
       "      <td>mh_-eMZ6K5RLWhZyISBhwA</td>\n",
       "      <td>XQfwVwDr-v0ZS3_CbbE5Xw</td>\n",
       "      <td>3</td>\n",
       "      <td>0</td>\n",
       "      <td>0</td>\n",
       "      <td>0</td>\n",
       "      <td>If you decide to eat here, just be aware it is...</td>\n",
       "      <td>2018-07-07 22:09:11</td>\n",
       "    </tr>\n",
       "    <tr>\n",
       "      <th>1</th>\n",
       "      <td>BiTunyQ73aT9WBnpR9DZGw</td>\n",
       "      <td>OyoGAe7OKpv6SyGZT5g77Q</td>\n",
       "      <td>7ATYjTIgM3jUlt4UM3IypQ</td>\n",
       "      <td>5</td>\n",
       "      <td>1</td>\n",
       "      <td>0</td>\n",
       "      <td>1</td>\n",
       "      <td>I've taken a lot of spin classes over the year...</td>\n",
       "      <td>2012-01-03 15:28:18</td>\n",
       "    </tr>\n",
       "  </tbody>\n",
       "</table>\n",
       "</div>"
      ],
      "text/plain": [
       "                review_id                 user_id             business_id  \\\n",
       "0  KU_O5udG6zpxOg-VcAEodg  mh_-eMZ6K5RLWhZyISBhwA  XQfwVwDr-v0ZS3_CbbE5Xw   \n",
       "1  BiTunyQ73aT9WBnpR9DZGw  OyoGAe7OKpv6SyGZT5g77Q  7ATYjTIgM3jUlt4UM3IypQ   \n",
       "\n",
       "   stars  useful  funny  cool  \\\n",
       "0      3       0      0     0   \n",
       "1      5       1      0     1   \n",
       "\n",
       "                                                text                date  \n",
       "0  If you decide to eat here, just be aware it is... 2018-07-07 22:09:11  \n",
       "1  I've taken a lot of spin classes over the year... 2012-01-03 15:28:18  "
      ]
     },
     "execution_count": 15,
     "metadata": {},
     "output_type": "execute_result"
    }
   ],
   "source": [
    "review.head(2)"
   ]
  },
  {
   "cell_type": "code",
   "execution_count": 17,
   "metadata": {},
   "outputs": [],
   "source": [
    "df_meta = business\n",
    "df = review"
   ]
  },
  {
   "cell_type": "code",
   "execution_count": 20,
   "metadata": {},
   "outputs": [
    {
     "name": "stdout",
     "output_type": "stream",
     "text": [
      "150346\n"
     ]
    }
   ],
   "source": [
    "print(len(df_meta))"
   ]
  },
  {
   "cell_type": "code",
   "execution_count": 21,
   "metadata": {},
   "outputs": [
    {
     "data": {
      "text/html": [
       "<div>\n",
       "<style scoped>\n",
       "    .dataframe tbody tr th:only-of-type {\n",
       "        vertical-align: middle;\n",
       "    }\n",
       "\n",
       "    .dataframe tbody tr th {\n",
       "        vertical-align: top;\n",
       "    }\n",
       "\n",
       "    .dataframe thead th {\n",
       "        text-align: right;\n",
       "    }\n",
       "</style>\n",
       "<table border=\"1\" class=\"dataframe\">\n",
       "  <thead>\n",
       "    <tr style=\"text-align: right;\">\n",
       "      <th></th>\n",
       "      <th>business_id</th>\n",
       "      <th>name</th>\n",
       "      <th>address</th>\n",
       "      <th>city</th>\n",
       "      <th>state</th>\n",
       "      <th>postal_code</th>\n",
       "      <th>latitude</th>\n",
       "      <th>longitude</th>\n",
       "      <th>stars</th>\n",
       "      <th>review_count</th>\n",
       "      <th>is_open</th>\n",
       "      <th>attributes</th>\n",
       "      <th>categories</th>\n",
       "      <th>hours</th>\n",
       "    </tr>\n",
       "  </thead>\n",
       "  <tbody>\n",
       "    <tr>\n",
       "      <th>0</th>\n",
       "      <td>Pns2l4eNsfO8kk83dixA6A</td>\n",
       "      <td>Abby Rappoport, LAC, CMQ</td>\n",
       "      <td>1616 Chapala St, Ste 2</td>\n",
       "      <td>Santa Barbara</td>\n",
       "      <td>CA</td>\n",
       "      <td>93101</td>\n",
       "      <td>34.426679</td>\n",
       "      <td>-119.711197</td>\n",
       "      <td>5.0</td>\n",
       "      <td>7</td>\n",
       "      <td>0</td>\n",
       "      <td>{'ByAppointmentOnly': 'True'}</td>\n",
       "      <td>Doctors, Traditional Chinese Medicine, Naturop...</td>\n",
       "      <td>None</td>\n",
       "    </tr>\n",
       "    <tr>\n",
       "      <th>1</th>\n",
       "      <td>mpf3x-BjTdTEA3yCZrAYPw</td>\n",
       "      <td>The UPS Store</td>\n",
       "      <td>87 Grasso Plaza Shopping Center</td>\n",
       "      <td>Affton</td>\n",
       "      <td>MO</td>\n",
       "      <td>63123</td>\n",
       "      <td>38.551126</td>\n",
       "      <td>-90.335695</td>\n",
       "      <td>3.0</td>\n",
       "      <td>15</td>\n",
       "      <td>1</td>\n",
       "      <td>{'BusinessAcceptsCreditCards': 'True'}</td>\n",
       "      <td>Shipping Centers, Local Services, Notaries, Ma...</td>\n",
       "      <td>{'Monday': '0:0-0:0', 'Tuesday': '8:0-18:30', ...</td>\n",
       "    </tr>\n",
       "    <tr>\n",
       "      <th>2</th>\n",
       "      <td>tUFrWirKiKi_TAnsVWINQQ</td>\n",
       "      <td>Target</td>\n",
       "      <td>5255 E Broadway Blvd</td>\n",
       "      <td>Tucson</td>\n",
       "      <td>AZ</td>\n",
       "      <td>85711</td>\n",
       "      <td>32.223236</td>\n",
       "      <td>-110.880452</td>\n",
       "      <td>3.5</td>\n",
       "      <td>22</td>\n",
       "      <td>0</td>\n",
       "      <td>{'BikeParking': 'True', 'BusinessAcceptsCredit...</td>\n",
       "      <td>Department Stores, Shopping, Fashion, Home &amp; G...</td>\n",
       "      <td>{'Monday': '8:0-22:0', 'Tuesday': '8:0-22:0', ...</td>\n",
       "    </tr>\n",
       "    <tr>\n",
       "      <th>3</th>\n",
       "      <td>MTSW4McQd7CbVtyjqoe9mw</td>\n",
       "      <td>St Honore Pastries</td>\n",
       "      <td>935 Race St</td>\n",
       "      <td>Philadelphia</td>\n",
       "      <td>PA</td>\n",
       "      <td>19107</td>\n",
       "      <td>39.955505</td>\n",
       "      <td>-75.155564</td>\n",
       "      <td>4.0</td>\n",
       "      <td>80</td>\n",
       "      <td>1</td>\n",
       "      <td>{'RestaurantsDelivery': 'False', 'OutdoorSeati...</td>\n",
       "      <td>Restaurants, Food, Bubble Tea, Coffee &amp; Tea, B...</td>\n",
       "      <td>{'Monday': '7:0-20:0', 'Tuesday': '7:0-20:0', ...</td>\n",
       "    </tr>\n",
       "    <tr>\n",
       "      <th>4</th>\n",
       "      <td>mWMc6_wTdE0EUBKIGXDVfA</td>\n",
       "      <td>Perkiomen Valley Brewery</td>\n",
       "      <td>101 Walnut St</td>\n",
       "      <td>Green Lane</td>\n",
       "      <td>PA</td>\n",
       "      <td>18054</td>\n",
       "      <td>40.338183</td>\n",
       "      <td>-75.471659</td>\n",
       "      <td>4.5</td>\n",
       "      <td>13</td>\n",
       "      <td>1</td>\n",
       "      <td>{'BusinessAcceptsCreditCards': 'True', 'Wheelc...</td>\n",
       "      <td>Brewpubs, Breweries, Food</td>\n",
       "      <td>{'Wednesday': '14:0-22:0', 'Thursday': '16:0-2...</td>\n",
       "    </tr>\n",
       "  </tbody>\n",
       "</table>\n",
       "</div>"
      ],
      "text/plain": [
       "              business_id                      name  \\\n",
       "0  Pns2l4eNsfO8kk83dixA6A  Abby Rappoport, LAC, CMQ   \n",
       "1  mpf3x-BjTdTEA3yCZrAYPw             The UPS Store   \n",
       "2  tUFrWirKiKi_TAnsVWINQQ                    Target   \n",
       "3  MTSW4McQd7CbVtyjqoe9mw        St Honore Pastries   \n",
       "4  mWMc6_wTdE0EUBKIGXDVfA  Perkiomen Valley Brewery   \n",
       "\n",
       "                           address           city state postal_code  \\\n",
       "0           1616 Chapala St, Ste 2  Santa Barbara    CA       93101   \n",
       "1  87 Grasso Plaza Shopping Center         Affton    MO       63123   \n",
       "2             5255 E Broadway Blvd         Tucson    AZ       85711   \n",
       "3                      935 Race St   Philadelphia    PA       19107   \n",
       "4                    101 Walnut St     Green Lane    PA       18054   \n",
       "\n",
       "    latitude   longitude  stars  review_count  is_open  \\\n",
       "0  34.426679 -119.711197    5.0             7        0   \n",
       "1  38.551126  -90.335695    3.0            15        1   \n",
       "2  32.223236 -110.880452    3.5            22        0   \n",
       "3  39.955505  -75.155564    4.0            80        1   \n",
       "4  40.338183  -75.471659    4.5            13        1   \n",
       "\n",
       "                                          attributes  \\\n",
       "0                      {'ByAppointmentOnly': 'True'}   \n",
       "1             {'BusinessAcceptsCreditCards': 'True'}   \n",
       "2  {'BikeParking': 'True', 'BusinessAcceptsCredit...   \n",
       "3  {'RestaurantsDelivery': 'False', 'OutdoorSeati...   \n",
       "4  {'BusinessAcceptsCreditCards': 'True', 'Wheelc...   \n",
       "\n",
       "                                          categories  \\\n",
       "0  Doctors, Traditional Chinese Medicine, Naturop...   \n",
       "1  Shipping Centers, Local Services, Notaries, Ma...   \n",
       "2  Department Stores, Shopping, Fashion, Home & G...   \n",
       "3  Restaurants, Food, Bubble Tea, Coffee & Tea, B...   \n",
       "4                          Brewpubs, Breweries, Food   \n",
       "\n",
       "                                               hours  \n",
       "0                                               None  \n",
       "1  {'Monday': '0:0-0:0', 'Tuesday': '8:0-18:30', ...  \n",
       "2  {'Monday': '8:0-22:0', 'Tuesday': '8:0-22:0', ...  \n",
       "3  {'Monday': '7:0-20:0', 'Tuesday': '7:0-20:0', ...  \n",
       "4  {'Wednesday': '14:0-22:0', 'Thursday': '16:0-2...  "
      ]
     },
     "execution_count": 21,
     "metadata": {},
     "output_type": "execute_result"
    }
   ],
   "source": [
    "df_meta.head(5)"
   ]
  },
  {
   "cell_type": "code",
   "execution_count": 33,
   "metadata": {},
   "outputs": [],
   "source": [
    "import pycountry"
   ]
  },
  {
   "cell_type": "code",
   "execution_count": 22,
   "metadata": {},
   "outputs": [
    {
     "name": "stdout",
     "output_type": "stream",
     "text": [
      "0\n",
      "150346\n"
     ]
    }
   ],
   "source": [
    "df3 = df_meta.fillna('')\n",
    "df4 = df3[df3.name.str.contains('getTime')] # unformatted rows\n",
    "df5 = df3[~df3.name.str.contains('getTime')] # filter those unformatted rows\n",
    "print(len(df4))\n",
    "print(len(df5))"
   ]
  },
  {
   "cell_type": "code",
   "execution_count": 23,
   "metadata": {},
   "outputs": [
    {
     "data": {
      "text/plain": [
       "count    6.990280e+06\n",
       "mean     3.748584e+00\n",
       "std      1.478705e+00\n",
       "min      1.000000e+00\n",
       "25%      3.000000e+00\n",
       "50%      4.000000e+00\n",
       "75%      5.000000e+00\n",
       "max      5.000000e+00\n",
       "Name: stars, dtype: float64"
      ]
     },
     "execution_count": 23,
     "metadata": {},
     "output_type": "execute_result"
    }
   ],
   "source": [
    "df['stars'].dropna().describe()"
   ]
  },
  {
   "cell_type": "code",
   "execution_count": 24,
   "metadata": {},
   "outputs": [
    {
     "data": {
      "text/plain": [
       "Index(['review_id', 'user_id', 'business_id', 'stars', 'useful', 'funny',\n",
       "       'cool', 'text', 'date'],\n",
       "      dtype='object')"
      ]
     },
     "execution_count": 24,
     "metadata": {},
     "output_type": "execute_result"
    }
   ],
   "source": [
    "df.columns"
   ]
  },
  {
   "cell_type": "code",
   "execution_count": 25,
   "metadata": {},
   "outputs": [
    {
     "data": {
      "text/html": [
       "<div>\n",
       "<style scoped>\n",
       "    .dataframe tbody tr th:only-of-type {\n",
       "        vertical-align: middle;\n",
       "    }\n",
       "\n",
       "    .dataframe tbody tr th {\n",
       "        vertical-align: top;\n",
       "    }\n",
       "\n",
       "    .dataframe thead th {\n",
       "        text-align: right;\n",
       "    }\n",
       "</style>\n",
       "<table border=\"1\" class=\"dataframe\">\n",
       "  <thead>\n",
       "    <tr style=\"text-align: right;\">\n",
       "      <th></th>\n",
       "      <th>business_id</th>\n",
       "      <th>user_id</th>\n",
       "      <th>stars</th>\n",
       "      <th>date</th>\n",
       "    </tr>\n",
       "  </thead>\n",
       "  <tbody>\n",
       "    <tr>\n",
       "      <th>0</th>\n",
       "      <td>XQfwVwDr-v0ZS3_CbbE5Xw</td>\n",
       "      <td>mh_-eMZ6K5RLWhZyISBhwA</td>\n",
       "      <td>3</td>\n",
       "      <td>2018-07-07 22:09:11</td>\n",
       "    </tr>\n",
       "    <tr>\n",
       "      <th>1</th>\n",
       "      <td>7ATYjTIgM3jUlt4UM3IypQ</td>\n",
       "      <td>OyoGAe7OKpv6SyGZT5g77Q</td>\n",
       "      <td>5</td>\n",
       "      <td>2012-01-03 15:28:18</td>\n",
       "    </tr>\n",
       "  </tbody>\n",
       "</table>\n",
       "</div>"
      ],
      "text/plain": [
       "              business_id                 user_id  stars                date\n",
       "0  XQfwVwDr-v0ZS3_CbbE5Xw  mh_-eMZ6K5RLWhZyISBhwA      3 2018-07-07 22:09:11\n",
       "1  7ATYjTIgM3jUlt4UM3IypQ  OyoGAe7OKpv6SyGZT5g77Q      5 2012-01-03 15:28:18"
      ]
     },
     "execution_count": 25,
     "metadata": {},
     "output_type": "execute_result"
    }
   ],
   "source": [
    "rating = df[['business_id','user_id','stars','date']]\n",
    "rating.head(2) "
   ]
  },
  {
   "cell_type": "code",
   "execution_count": 27,
   "metadata": {},
   "outputs": [
    {
     "name": "stderr",
     "output_type": "stream",
     "text": [
      "/tmp/ipykernel_1367491/4252277853.py:1: SettingWithCopyWarning: \n",
      "A value is trying to be set on a copy of a slice from a DataFrame.\n",
      "Try using .loc[row_indexer,col_indexer] = value instead\n",
      "\n",
      "See the caveats in the documentation: https://pandas.pydata.org/pandas-docs/stable/user_guide/indexing.html#returning-a-view-versus-a-copy\n",
      "  rating['timestamp'] = rating['date'].apply(lambda x: pd.Timestamp(x).timestamp())\n"
     ]
    }
   ],
   "source": [
    "rating['timestamp'] = rating['date'].apply(lambda x: pd.Timestamp(x).timestamp())"
   ]
  },
  {
   "cell_type": "code",
   "execution_count": 28,
   "metadata": {},
   "outputs": [
    {
     "data": {
      "text/html": [
       "<div>\n",
       "<style scoped>\n",
       "    .dataframe tbody tr th:only-of-type {\n",
       "        vertical-align: middle;\n",
       "    }\n",
       "\n",
       "    .dataframe tbody tr th {\n",
       "        vertical-align: top;\n",
       "    }\n",
       "\n",
       "    .dataframe thead th {\n",
       "        text-align: right;\n",
       "    }\n",
       "</style>\n",
       "<table border=\"1\" class=\"dataframe\">\n",
       "  <thead>\n",
       "    <tr style=\"text-align: right;\">\n",
       "      <th></th>\n",
       "      <th>business_id</th>\n",
       "      <th>user_id</th>\n",
       "      <th>stars</th>\n",
       "      <th>date</th>\n",
       "      <th>timestamp</th>\n",
       "    </tr>\n",
       "  </thead>\n",
       "  <tbody>\n",
       "    <tr>\n",
       "      <th>0</th>\n",
       "      <td>XQfwVwDr-v0ZS3_CbbE5Xw</td>\n",
       "      <td>mh_-eMZ6K5RLWhZyISBhwA</td>\n",
       "      <td>3</td>\n",
       "      <td>2018-07-07 22:09:11</td>\n",
       "      <td>1.531001e+09</td>\n",
       "    </tr>\n",
       "    <tr>\n",
       "      <th>1</th>\n",
       "      <td>7ATYjTIgM3jUlt4UM3IypQ</td>\n",
       "      <td>OyoGAe7OKpv6SyGZT5g77Q</td>\n",
       "      <td>5</td>\n",
       "      <td>2012-01-03 15:28:18</td>\n",
       "      <td>1.325604e+09</td>\n",
       "    </tr>\n",
       "    <tr>\n",
       "      <th>2</th>\n",
       "      <td>YjUWPpI6HXG530lwP-fb2A</td>\n",
       "      <td>8g_iMtfSiwikVnbP2etR0A</td>\n",
       "      <td>3</td>\n",
       "      <td>2014-02-05 20:30:30</td>\n",
       "      <td>1.391632e+09</td>\n",
       "    </tr>\n",
       "    <tr>\n",
       "      <th>3</th>\n",
       "      <td>kxX2SOes4o-D3ZQBkiMRfA</td>\n",
       "      <td>_7bHUi9Uuf5__HHc_Q8guQ</td>\n",
       "      <td>5</td>\n",
       "      <td>2015-01-04 00:01:03</td>\n",
       "      <td>1.420330e+09</td>\n",
       "    </tr>\n",
       "    <tr>\n",
       "      <th>4</th>\n",
       "      <td>e4Vwtrqf-wpJfwesgvdgxQ</td>\n",
       "      <td>bcjbaE6dDog4jkNY91ncLQ</td>\n",
       "      <td>4</td>\n",
       "      <td>2017-01-14 20:54:15</td>\n",
       "      <td>1.484427e+09</td>\n",
       "    </tr>\n",
       "  </tbody>\n",
       "</table>\n",
       "</div>"
      ],
      "text/plain": [
       "              business_id                 user_id  stars                date  \\\n",
       "0  XQfwVwDr-v0ZS3_CbbE5Xw  mh_-eMZ6K5RLWhZyISBhwA      3 2018-07-07 22:09:11   \n",
       "1  7ATYjTIgM3jUlt4UM3IypQ  OyoGAe7OKpv6SyGZT5g77Q      5 2012-01-03 15:28:18   \n",
       "2  YjUWPpI6HXG530lwP-fb2A  8g_iMtfSiwikVnbP2etR0A      3 2014-02-05 20:30:30   \n",
       "3  kxX2SOes4o-D3ZQBkiMRfA  _7bHUi9Uuf5__HHc_Q8guQ      5 2015-01-04 00:01:03   \n",
       "4  e4Vwtrqf-wpJfwesgvdgxQ  bcjbaE6dDog4jkNY91ncLQ      4 2017-01-14 20:54:15   \n",
       "\n",
       "      timestamp  \n",
       "0  1.531001e+09  \n",
       "1  1.325604e+09  \n",
       "2  1.391632e+09  \n",
       "3  1.420330e+09  \n",
       "4  1.484427e+09  "
      ]
     },
     "execution_count": 28,
     "metadata": {},
     "output_type": "execute_result"
    }
   ],
   "source": [
    "rating.head()"
   ]
  },
  {
   "cell_type": "code",
   "execution_count": 30,
   "metadata": {},
   "outputs": [
    {
     "data": {
      "text/plain": [
       "count    6.990280e+06\n",
       "mean     3.748584e+00\n",
       "std      1.478705e+00\n",
       "min      1.000000e+00\n",
       "25%      3.000000e+00\n",
       "50%      4.000000e+00\n",
       "75%      5.000000e+00\n",
       "max      5.000000e+00\n",
       "Name: stars, dtype: float64"
      ]
     },
     "execution_count": 30,
     "metadata": {},
     "output_type": "execute_result"
    }
   ],
   "source": [
    "rating['stars'].describe()"
   ]
  },
  {
   "cell_type": "code",
   "execution_count": 31,
   "metadata": {},
   "outputs": [],
   "source": [
    "rating.columns = ['iid','uid','rating','date','timestamp']"
   ]
  },
  {
   "cell_type": "code",
   "execution_count": null,
   "metadata": {},
   "outputs": [],
   "source": [
    "del rating['date']"
   ]
  },
  {
   "cell_type": "code",
   "execution_count": 32,
   "metadata": {},
   "outputs": [
    {
     "data": {
      "text/plain": [
       "Index(['business_id', 'name', 'address', 'city', 'state', 'postal_code',\n",
       "       'latitude', 'longitude', 'stars', 'review_count', 'is_open',\n",
       "       'attributes', 'categories', 'hours'],\n",
       "      dtype='object')"
      ]
     },
     "execution_count": 32,
     "metadata": {},
     "output_type": "execute_result"
    }
   ],
   "source": [
    "df5.columns"
   ]
  },
  {
   "cell_type": "code",
   "execution_count": 35,
   "metadata": {},
   "outputs": [],
   "source": [
    "def alpha2name(x):\n",
    "    try:\n",
    "        country = pycountry.countries.get(alpha_2=x)\n",
    "        return country.name\n",
    "    except:\n",
    "        return ''\n",
    "        \n",
    "def attr2desc(x):\n",
    "    desc = []\n",
    "    if isinstance(x, dict):\n",
    "        for choices, eva in x.items():\n",
    "            if eva == 'True':\n",
    "                choices = re.split('(?=[A-Z])', choices)\n",
    "                choices = ' '.join([choice.lower() for choice in choices if choice])\n",
    "                desc.append(choices)\n",
    "    return ', '.join(desc)"
   ]
  },
  {
   "cell_type": "code",
   "execution_count": 38,
   "metadata": {},
   "outputs": [],
   "source": [
    "df5['state'] = df5['state'].map(alpha2name)\n",
    "df5['address'] = df5['city']+', '+df5['state']"
   ]
  },
  {
   "cell_type": "code",
   "execution_count": 50,
   "metadata": {},
   "outputs": [],
   "source": [
    "df5['desc'] = df5['attributes'].apply(lambda x: attr2desc(x))"
   ]
  },
  {
   "cell_type": "code",
   "execution_count": 51,
   "metadata": {},
   "outputs": [
    {
     "data": {
      "text/html": [
       "<div>\n",
       "<style scoped>\n",
       "    .dataframe tbody tr th:only-of-type {\n",
       "        vertical-align: middle;\n",
       "    }\n",
       "\n",
       "    .dataframe tbody tr th {\n",
       "        vertical-align: top;\n",
       "    }\n",
       "\n",
       "    .dataframe thead th {\n",
       "        text-align: right;\n",
       "    }\n",
       "</style>\n",
       "<table border=\"1\" class=\"dataframe\">\n",
       "  <thead>\n",
       "    <tr style=\"text-align: right;\">\n",
       "      <th></th>\n",
       "      <th>business_id</th>\n",
       "      <th>name</th>\n",
       "      <th>address</th>\n",
       "      <th>city</th>\n",
       "      <th>state</th>\n",
       "      <th>postal_code</th>\n",
       "      <th>latitude</th>\n",
       "      <th>longitude</th>\n",
       "      <th>stars</th>\n",
       "      <th>review_count</th>\n",
       "      <th>is_open</th>\n",
       "      <th>attributes</th>\n",
       "      <th>categories</th>\n",
       "      <th>hours</th>\n",
       "      <th>desc</th>\n",
       "    </tr>\n",
       "  </thead>\n",
       "  <tbody>\n",
       "    <tr>\n",
       "      <th>0</th>\n",
       "      <td>Pns2l4eNsfO8kk83dixA6A</td>\n",
       "      <td>Abby Rappoport, LAC, CMQ</td>\n",
       "      <td>Santa Barbara, Canada</td>\n",
       "      <td>Santa Barbara</td>\n",
       "      <td>Canada</td>\n",
       "      <td>93101</td>\n",
       "      <td>34.426679</td>\n",
       "      <td>-119.711197</td>\n",
       "      <td>5.0</td>\n",
       "      <td>7</td>\n",
       "      <td>0</td>\n",
       "      <td>{'ByAppointmentOnly': 'True'}</td>\n",
       "      <td>Doctors, Traditional Chinese Medicine, Naturop...</td>\n",
       "      <td></td>\n",
       "      <td>by appointment only</td>\n",
       "    </tr>\n",
       "    <tr>\n",
       "      <th>1</th>\n",
       "      <td>mpf3x-BjTdTEA3yCZrAYPw</td>\n",
       "      <td>The UPS Store</td>\n",
       "      <td>Affton, Macao</td>\n",
       "      <td>Affton</td>\n",
       "      <td>Macao</td>\n",
       "      <td>63123</td>\n",
       "      <td>38.551126</td>\n",
       "      <td>-90.335695</td>\n",
       "      <td>3.0</td>\n",
       "      <td>15</td>\n",
       "      <td>1</td>\n",
       "      <td>{'BusinessAcceptsCreditCards': 'True'}</td>\n",
       "      <td>Shipping Centers, Local Services, Notaries, Ma...</td>\n",
       "      <td>{'Monday': '0:0-0:0', 'Tuesday': '8:0-18:30', ...</td>\n",
       "      <td>business accepts credit cards</td>\n",
       "    </tr>\n",
       "    <tr>\n",
       "      <th>2</th>\n",
       "      <td>tUFrWirKiKi_TAnsVWINQQ</td>\n",
       "      <td>Target</td>\n",
       "      <td>Tucson, Azerbaijan</td>\n",
       "      <td>Tucson</td>\n",
       "      <td>Azerbaijan</td>\n",
       "      <td>85711</td>\n",
       "      <td>32.223236</td>\n",
       "      <td>-110.880452</td>\n",
       "      <td>3.5</td>\n",
       "      <td>22</td>\n",
       "      <td>0</td>\n",
       "      <td>{'BikeParking': 'True', 'BusinessAcceptsCredit...</td>\n",
       "      <td>Department Stores, Shopping, Fashion, Home &amp; G...</td>\n",
       "      <td>{'Monday': '8:0-22:0', 'Tuesday': '8:0-22:0', ...</td>\n",
       "      <td>bike parking, business accepts credit cards, w...</td>\n",
       "    </tr>\n",
       "    <tr>\n",
       "      <th>3</th>\n",
       "      <td>MTSW4McQd7CbVtyjqoe9mw</td>\n",
       "      <td>St Honore Pastries</td>\n",
       "      <td>Philadelphia, Panama</td>\n",
       "      <td>Philadelphia</td>\n",
       "      <td>Panama</td>\n",
       "      <td>19107</td>\n",
       "      <td>39.955505</td>\n",
       "      <td>-75.155564</td>\n",
       "      <td>4.0</td>\n",
       "      <td>80</td>\n",
       "      <td>1</td>\n",
       "      <td>{'RestaurantsDelivery': 'False', 'OutdoorSeati...</td>\n",
       "      <td>Restaurants, Food, Bubble Tea, Coffee &amp; Tea, B...</td>\n",
       "      <td>{'Monday': '7:0-20:0', 'Tuesday': '7:0-20:0', ...</td>\n",
       "      <td>bike parking, restaurants take out, caters</td>\n",
       "    </tr>\n",
       "    <tr>\n",
       "      <th>4</th>\n",
       "      <td>mWMc6_wTdE0EUBKIGXDVfA</td>\n",
       "      <td>Perkiomen Valley Brewery</td>\n",
       "      <td>Green Lane, Panama</td>\n",
       "      <td>Green Lane</td>\n",
       "      <td>Panama</td>\n",
       "      <td>18054</td>\n",
       "      <td>40.338183</td>\n",
       "      <td>-75.471659</td>\n",
       "      <td>4.5</td>\n",
       "      <td>13</td>\n",
       "      <td>1</td>\n",
       "      <td>{'BusinessAcceptsCreditCards': 'True', 'Wheelc...</td>\n",
       "      <td>Brewpubs, Breweries, Food</td>\n",
       "      <td>{'Wednesday': '14:0-22:0', 'Thursday': '16:0-2...</td>\n",
       "      <td>business accepts credit cards, wheelchair acce...</td>\n",
       "    </tr>\n",
       "    <tr>\n",
       "      <th>5</th>\n",
       "      <td>CF33F8-E6oudUQ46HnavjQ</td>\n",
       "      <td>Sonic Drive-In</td>\n",
       "      <td>Ashland City, Tunisia</td>\n",
       "      <td>Ashland City</td>\n",
       "      <td>Tunisia</td>\n",
       "      <td>37015</td>\n",
       "      <td>36.269593</td>\n",
       "      <td>-87.058943</td>\n",
       "      <td>2.0</td>\n",
       "      <td>6</td>\n",
       "      <td>1</td>\n",
       "      <td>{'BusinessParking': 'None', 'BusinessAcceptsCr...</td>\n",
       "      <td>Burgers, Fast Food, Sandwiches, Food, Ice Crea...</td>\n",
       "      <td>{'Monday': '0:0-0:0', 'Tuesday': '6:0-22:0', '...</td>\n",
       "      <td>business accepts credit cards, outdoor seating...</td>\n",
       "    </tr>\n",
       "    <tr>\n",
       "      <th>6</th>\n",
       "      <td>n_0UpQx1hsNbnPUSlodU8w</td>\n",
       "      <td>Famous Footwear</td>\n",
       "      <td>Brentwood, Macao</td>\n",
       "      <td>Brentwood</td>\n",
       "      <td>Macao</td>\n",
       "      <td>63144</td>\n",
       "      <td>38.627695</td>\n",
       "      <td>-90.340465</td>\n",
       "      <td>2.5</td>\n",
       "      <td>13</td>\n",
       "      <td>1</td>\n",
       "      <td>{'BusinessAcceptsCreditCards': 'True', 'Restau...</td>\n",
       "      <td>Sporting Goods, Fashion, Shoe Stores, Shopping...</td>\n",
       "      <td>{'Monday': '0:0-0:0', 'Tuesday': '10:0-18:0', ...</td>\n",
       "      <td>business accepts credit cards, bike parking</td>\n",
       "    </tr>\n",
       "    <tr>\n",
       "      <th>7</th>\n",
       "      <td>qkRM_2X51Yqxk3btlwAQIg</td>\n",
       "      <td>Temple Beth-El</td>\n",
       "      <td>St. Petersburg,</td>\n",
       "      <td>St. Petersburg</td>\n",
       "      <td></td>\n",
       "      <td>33707</td>\n",
       "      <td>27.766590</td>\n",
       "      <td>-82.732983</td>\n",
       "      <td>3.5</td>\n",
       "      <td>5</td>\n",
       "      <td>1</td>\n",
       "      <td></td>\n",
       "      <td>Synagogues, Religious Organizations</td>\n",
       "      <td>{'Monday': '9:0-17:0', 'Tuesday': '9:0-17:0', ...</td>\n",
       "      <td></td>\n",
       "    </tr>\n",
       "    <tr>\n",
       "      <th>8</th>\n",
       "      <td>k0hlBqXX-Bt0vf1op7Jr1w</td>\n",
       "      <td>Tsevi's Pub And Grill</td>\n",
       "      <td>Affton, Macao</td>\n",
       "      <td>Affton</td>\n",
       "      <td>Macao</td>\n",
       "      <td>63123</td>\n",
       "      <td>38.565165</td>\n",
       "      <td>-90.321087</td>\n",
       "      <td>3.0</td>\n",
       "      <td>19</td>\n",
       "      <td>0</td>\n",
       "      <td>{'Caters': 'True', 'Alcohol': 'u'full_bar'', '...</td>\n",
       "      <td>Pubs, Restaurants, Italian, Bars, American (Tr...</td>\n",
       "      <td></td>\n",
       "      <td>caters, restaurants take out, has t v, busines...</td>\n",
       "    </tr>\n",
       "    <tr>\n",
       "      <th>9</th>\n",
       "      <td>bBDDEgkFA1Otx9Lfe7BZUQ</td>\n",
       "      <td>Sonic Drive-In</td>\n",
       "      <td>Nashville, Tunisia</td>\n",
       "      <td>Nashville</td>\n",
       "      <td>Tunisia</td>\n",
       "      <td>37207</td>\n",
       "      <td>36.208102</td>\n",
       "      <td>-86.768170</td>\n",
       "      <td>1.5</td>\n",
       "      <td>10</td>\n",
       "      <td>1</td>\n",
       "      <td>{'RestaurantsAttire': ''casual'', 'Restaurants...</td>\n",
       "      <td>Ice Cream &amp; Frozen Yogurt, Fast Food, Burgers,...</td>\n",
       "      <td>{'Monday': '0:0-0:0', 'Tuesday': '6:0-21:0', '...</td>\n",
       "      <td>business accepts credit cards, outdoor seating...</td>\n",
       "    </tr>\n",
       "    <tr>\n",
       "      <th>10</th>\n",
       "      <td>UJsufbvfyfONHeWdvAHKjA</td>\n",
       "      <td>Marshalls</td>\n",
       "      <td>Land O' Lakes,</td>\n",
       "      <td>Land O' Lakes</td>\n",
       "      <td></td>\n",
       "      <td>34639</td>\n",
       "      <td>28.190459</td>\n",
       "      <td>-82.457380</td>\n",
       "      <td>3.5</td>\n",
       "      <td>6</td>\n",
       "      <td>1</td>\n",
       "      <td>{'RestaurantsPriceRange2': '2', 'BikeParking':...</td>\n",
       "      <td>Department Stores, Shopping, Fashion</td>\n",
       "      <td>{'Monday': '9:30-21:30', 'Tuesday': '9:30-21:3...</td>\n",
       "      <td>bike parking, business accepts credit cards</td>\n",
       "    </tr>\n",
       "    <tr>\n",
       "      <th>11</th>\n",
       "      <td>eEOYSgkmpB90uNA7lDOMRA</td>\n",
       "      <td>Vietnamese Food Truck</td>\n",
       "      <td>Tampa Bay,</td>\n",
       "      <td>Tampa Bay</td>\n",
       "      <td></td>\n",
       "      <td>33602</td>\n",
       "      <td>27.955269</td>\n",
       "      <td>-82.456320</td>\n",
       "      <td>4.0</td>\n",
       "      <td>10</td>\n",
       "      <td>1</td>\n",
       "      <td>{'Alcohol': ''none'', 'OutdoorSeating': 'None'...</td>\n",
       "      <td>Vietnamese, Food, Restaurants, Food Trucks</td>\n",
       "      <td>{'Monday': '11:0-14:0', 'Tuesday': '11:0-14:0'...</td>\n",
       "      <td></td>\n",
       "    </tr>\n",
       "  </tbody>\n",
       "</table>\n",
       "</div>"
      ],
      "text/plain": [
       "               business_id                      name                address  \\\n",
       "0   Pns2l4eNsfO8kk83dixA6A  Abby Rappoport, LAC, CMQ  Santa Barbara, Canada   \n",
       "1   mpf3x-BjTdTEA3yCZrAYPw             The UPS Store          Affton, Macao   \n",
       "2   tUFrWirKiKi_TAnsVWINQQ                    Target     Tucson, Azerbaijan   \n",
       "3   MTSW4McQd7CbVtyjqoe9mw        St Honore Pastries   Philadelphia, Panama   \n",
       "4   mWMc6_wTdE0EUBKIGXDVfA  Perkiomen Valley Brewery     Green Lane, Panama   \n",
       "5   CF33F8-E6oudUQ46HnavjQ            Sonic Drive-In  Ashland City, Tunisia   \n",
       "6   n_0UpQx1hsNbnPUSlodU8w           Famous Footwear       Brentwood, Macao   \n",
       "7   qkRM_2X51Yqxk3btlwAQIg            Temple Beth-El       St. Petersburg,    \n",
       "8   k0hlBqXX-Bt0vf1op7Jr1w     Tsevi's Pub And Grill          Affton, Macao   \n",
       "9   bBDDEgkFA1Otx9Lfe7BZUQ            Sonic Drive-In     Nashville, Tunisia   \n",
       "10  UJsufbvfyfONHeWdvAHKjA                 Marshalls        Land O' Lakes,    \n",
       "11  eEOYSgkmpB90uNA7lDOMRA     Vietnamese Food Truck            Tampa Bay,    \n",
       "\n",
       "              city       state postal_code   latitude   longitude  stars  \\\n",
       "0    Santa Barbara      Canada       93101  34.426679 -119.711197    5.0   \n",
       "1           Affton       Macao       63123  38.551126  -90.335695    3.0   \n",
       "2           Tucson  Azerbaijan       85711  32.223236 -110.880452    3.5   \n",
       "3     Philadelphia      Panama       19107  39.955505  -75.155564    4.0   \n",
       "4       Green Lane      Panama       18054  40.338183  -75.471659    4.5   \n",
       "5     Ashland City     Tunisia       37015  36.269593  -87.058943    2.0   \n",
       "6        Brentwood       Macao       63144  38.627695  -90.340465    2.5   \n",
       "7   St. Petersburg                   33707  27.766590  -82.732983    3.5   \n",
       "8           Affton       Macao       63123  38.565165  -90.321087    3.0   \n",
       "9        Nashville     Tunisia       37207  36.208102  -86.768170    1.5   \n",
       "10   Land O' Lakes                   34639  28.190459  -82.457380    3.5   \n",
       "11       Tampa Bay                   33602  27.955269  -82.456320    4.0   \n",
       "\n",
       "    review_count  is_open                                         attributes  \\\n",
       "0              7        0                      {'ByAppointmentOnly': 'True'}   \n",
       "1             15        1             {'BusinessAcceptsCreditCards': 'True'}   \n",
       "2             22        0  {'BikeParking': 'True', 'BusinessAcceptsCredit...   \n",
       "3             80        1  {'RestaurantsDelivery': 'False', 'OutdoorSeati...   \n",
       "4             13        1  {'BusinessAcceptsCreditCards': 'True', 'Wheelc...   \n",
       "5              6        1  {'BusinessParking': 'None', 'BusinessAcceptsCr...   \n",
       "6             13        1  {'BusinessAcceptsCreditCards': 'True', 'Restau...   \n",
       "7              5        1                                                      \n",
       "8             19        0  {'Caters': 'True', 'Alcohol': 'u'full_bar'', '...   \n",
       "9             10        1  {'RestaurantsAttire': ''casual'', 'Restaurants...   \n",
       "10             6        1  {'RestaurantsPriceRange2': '2', 'BikeParking':...   \n",
       "11            10        1  {'Alcohol': ''none'', 'OutdoorSeating': 'None'...   \n",
       "\n",
       "                                           categories  \\\n",
       "0   Doctors, Traditional Chinese Medicine, Naturop...   \n",
       "1   Shipping Centers, Local Services, Notaries, Ma...   \n",
       "2   Department Stores, Shopping, Fashion, Home & G...   \n",
       "3   Restaurants, Food, Bubble Tea, Coffee & Tea, B...   \n",
       "4                           Brewpubs, Breweries, Food   \n",
       "5   Burgers, Fast Food, Sandwiches, Food, Ice Crea...   \n",
       "6   Sporting Goods, Fashion, Shoe Stores, Shopping...   \n",
       "7                 Synagogues, Religious Organizations   \n",
       "8   Pubs, Restaurants, Italian, Bars, American (Tr...   \n",
       "9   Ice Cream & Frozen Yogurt, Fast Food, Burgers,...   \n",
       "10               Department Stores, Shopping, Fashion   \n",
       "11         Vietnamese, Food, Restaurants, Food Trucks   \n",
       "\n",
       "                                                hours  \\\n",
       "0                                                       \n",
       "1   {'Monday': '0:0-0:0', 'Tuesday': '8:0-18:30', ...   \n",
       "2   {'Monday': '8:0-22:0', 'Tuesday': '8:0-22:0', ...   \n",
       "3   {'Monday': '7:0-20:0', 'Tuesday': '7:0-20:0', ...   \n",
       "4   {'Wednesday': '14:0-22:0', 'Thursday': '16:0-2...   \n",
       "5   {'Monday': '0:0-0:0', 'Tuesday': '6:0-22:0', '...   \n",
       "6   {'Monday': '0:0-0:0', 'Tuesday': '10:0-18:0', ...   \n",
       "7   {'Monday': '9:0-17:0', 'Tuesday': '9:0-17:0', ...   \n",
       "8                                                       \n",
       "9   {'Monday': '0:0-0:0', 'Tuesday': '6:0-21:0', '...   \n",
       "10  {'Monday': '9:30-21:30', 'Tuesday': '9:30-21:3...   \n",
       "11  {'Monday': '11:0-14:0', 'Tuesday': '11:0-14:0'...   \n",
       "\n",
       "                                                 desc  \n",
       "0                                 by appointment only  \n",
       "1                       business accepts credit cards  \n",
       "2   bike parking, business accepts credit cards, w...  \n",
       "3          bike parking, restaurants take out, caters  \n",
       "4   business accepts credit cards, wheelchair acce...  \n",
       "5   business accepts credit cards, outdoor seating...  \n",
       "6         business accepts credit cards, bike parking  \n",
       "7                                                      \n",
       "8   caters, restaurants take out, has t v, busines...  \n",
       "9   business accepts credit cards, outdoor seating...  \n",
       "10        bike parking, business accepts credit cards  \n",
       "11                                                     "
      ]
     },
     "execution_count": 51,
     "metadata": {},
     "output_type": "execute_result"
    }
   ],
   "source": []
  },
  {
   "cell_type": "code",
   "execution_count": 52,
   "metadata": {},
   "outputs": [
    {
     "data": {
      "text/html": [
       "<div>\n",
       "<style scoped>\n",
       "    .dataframe tbody tr th:only-of-type {\n",
       "        vertical-align: middle;\n",
       "    }\n",
       "\n",
       "    .dataframe tbody tr th {\n",
       "        vertical-align: top;\n",
       "    }\n",
       "\n",
       "    .dataframe thead th {\n",
       "        text-align: right;\n",
       "    }\n",
       "</style>\n",
       "<table border=\"1\" class=\"dataframe\">\n",
       "  <thead>\n",
       "    <tr style=\"text-align: right;\">\n",
       "      <th></th>\n",
       "      <th>business_id</th>\n",
       "      <th>categories</th>\n",
       "      <th>name</th>\n",
       "      <th>desc</th>\n",
       "      <th>address</th>\n",
       "    </tr>\n",
       "  </thead>\n",
       "  <tbody>\n",
       "    <tr>\n",
       "      <th>0</th>\n",
       "      <td>Pns2l4eNsfO8kk83dixA6A</td>\n",
       "      <td>Doctors, Traditional Chinese Medicine, Naturop...</td>\n",
       "      <td>Abby Rappoport, LAC, CMQ</td>\n",
       "      <td>by appointment only</td>\n",
       "      <td>Santa Barbara, Canada</td>\n",
       "    </tr>\n",
       "    <tr>\n",
       "      <th>1</th>\n",
       "      <td>mpf3x-BjTdTEA3yCZrAYPw</td>\n",
       "      <td>Shipping Centers, Local Services, Notaries, Ma...</td>\n",
       "      <td>The UPS Store</td>\n",
       "      <td>business accepts credit cards</td>\n",
       "      <td>Affton, Macao</td>\n",
       "    </tr>\n",
       "  </tbody>\n",
       "</table>\n",
       "</div>"
      ],
      "text/plain": [
       "              business_id                                         categories  \\\n",
       "0  Pns2l4eNsfO8kk83dixA6A  Doctors, Traditional Chinese Medicine, Naturop...   \n",
       "1  mpf3x-BjTdTEA3yCZrAYPw  Shipping Centers, Local Services, Notaries, Ma...   \n",
       "\n",
       "                       name                           desc  \\\n",
       "0  Abby Rappoport, LAC, CMQ            by appointment only   \n",
       "1             The UPS Store  business accepts credit cards   \n",
       "\n",
       "                 address  \n",
       "0  Santa Barbara, Canada  \n",
       "1          Affton, Macao  "
      ]
     },
     "execution_count": 52,
     "metadata": {},
     "output_type": "execute_result"
    }
   ],
   "source": [
    "meta_data = df5[['business_id','categories','name','desc','address']]\n",
    "meta_data.head(2)"
   ]
  },
  {
   "cell_type": "code",
   "execution_count": 53,
   "metadata": {},
   "outputs": [
    {
     "data": {
      "text/plain": [
       "(150346, 5)"
      ]
     },
     "execution_count": 53,
     "metadata": {},
     "output_type": "execute_result"
    }
   ],
   "source": [
    "meta_data.shape"
   ]
  },
  {
   "cell_type": "code",
   "execution_count": 55,
   "metadata": {},
   "outputs": [
    {
     "name": "stderr",
     "output_type": "stream",
     "text": [
      "/tmp/ipykernel_1367491/3253740050.py:1: SettingWithCopyWarning: \n",
      "A value is trying to be set on a copy of a slice from a DataFrame.\n",
      "Try using .loc[row_indexer,col_indexer] = value instead\n",
      "\n",
      "See the caveats in the documentation: https://pandas.pydata.org/pandas-docs/stable/user_guide/indexing.html#returning-a-view-versus-a-copy\n",
      "  meta_data['name'] = meta_data['name'].apply(lambda x: re.sub(r'<[^>]+>', ' ', x.replace('&','')))\n",
      "/tmp/ipykernel_1367491/3253740050.py:2: SettingWithCopyWarning: \n",
      "A value is trying to be set on a copy of a slice from a DataFrame.\n",
      "Try using .loc[row_indexer,col_indexer] = value instead\n",
      "\n",
      "See the caveats in the documentation: https://pandas.pydata.org/pandas-docs/stable/user_guide/indexing.html#returning-a-view-versus-a-copy\n",
      "  meta_data['name'] = meta_data['name'].apply(lambda x: re.sub(r'\\s+', ' ', x.strip()))\n"
     ]
    }
   ],
   "source": [
    "meta_data['name'] = meta_data['name'].apply(lambda x: re.sub(r'<[^>]+>', ' ', x.replace('&','')))\n",
    "meta_data['name'] = meta_data['name'].apply(lambda x: re.sub(r'\\s+', ' ', x.strip()))"
   ]
  },
  {
   "cell_type": "code",
   "execution_count": 57,
   "metadata": {},
   "outputs": [
    {
     "data": {
      "text/plain": [
       "(150346, 5)"
      ]
     },
     "execution_count": 57,
     "metadata": {},
     "output_type": "execute_result"
    }
   ],
   "source": [
    "meta_data = meta_data.drop_duplicates(subset=['business_id'],keep='last')\n",
    "meta_data.shape"
   ]
  },
  {
   "cell_type": "code",
   "execution_count": 58,
   "metadata": {},
   "outputs": [
    {
     "data": {
      "text/plain": [
       "114037"
      ]
     },
     "execution_count": 58,
     "metadata": {},
     "output_type": "execute_result"
    }
   ],
   "source": [
    "len(set(meta_data['name']))"
   ]
  },
  {
   "cell_type": "code",
   "execution_count": 63,
   "metadata": {},
   "outputs": [],
   "source": [
    "meta_data.columns = ['iid', 'category', 'title', 'desc', 'address']"
   ]
  },
  {
   "cell_type": "code",
   "execution_count": 64,
   "metadata": {},
   "outputs": [
    {
     "data": {
      "text/html": [
       "<div>\n",
       "<style scoped>\n",
       "    .dataframe tbody tr th:only-of-type {\n",
       "        vertical-align: middle;\n",
       "    }\n",
       "\n",
       "    .dataframe tbody tr th {\n",
       "        vertical-align: top;\n",
       "    }\n",
       "\n",
       "    .dataframe thead th {\n",
       "        text-align: right;\n",
       "    }\n",
       "</style>\n",
       "<table border=\"1\" class=\"dataframe\">\n",
       "  <thead>\n",
       "    <tr style=\"text-align: right;\">\n",
       "      <th></th>\n",
       "      <th>iid</th>\n",
       "      <th>category</th>\n",
       "      <th>title</th>\n",
       "      <th>desc</th>\n",
       "      <th>address</th>\n",
       "    </tr>\n",
       "  </thead>\n",
       "  <tbody>\n",
       "    <tr>\n",
       "      <th>0</th>\n",
       "      <td>Pns2l4eNsfO8kk83dixA6A</td>\n",
       "      <td>Doctors, Traditional Chinese Medicine, Naturop...</td>\n",
       "      <td>Abby Rappoport, LAC, CMQ</td>\n",
       "      <td>by appointment only</td>\n",
       "      <td>Santa Barbara, Canada</td>\n",
       "    </tr>\n",
       "    <tr>\n",
       "      <th>1</th>\n",
       "      <td>mpf3x-BjTdTEA3yCZrAYPw</td>\n",
       "      <td>Shipping Centers, Local Services, Notaries, Ma...</td>\n",
       "      <td>The UPS Store</td>\n",
       "      <td>business accepts credit cards</td>\n",
       "      <td>Affton, Macao</td>\n",
       "    </tr>\n",
       "  </tbody>\n",
       "</table>\n",
       "</div>"
      ],
      "text/plain": [
       "                      iid                                           category  \\\n",
       "0  Pns2l4eNsfO8kk83dixA6A  Doctors, Traditional Chinese Medicine, Naturop...   \n",
       "1  mpf3x-BjTdTEA3yCZrAYPw  Shipping Centers, Local Services, Notaries, Ma...   \n",
       "\n",
       "                      title                           desc  \\\n",
       "0  Abby Rappoport, LAC, CMQ            by appointment only   \n",
       "1             The UPS Store  business accepts credit cards   \n",
       "\n",
       "                 address  \n",
       "0  Santa Barbara, Canada  \n",
       "1          Affton, Macao  "
      ]
     },
     "execution_count": 64,
     "metadata": {},
     "output_type": "execute_result"
    }
   ],
   "source": [
    "meta_data.head(2)"
   ]
  },
  {
   "cell_type": "code",
   "execution_count": 60,
   "metadata": {},
   "outputs": [
    {
     "data": {
      "text/html": [
       "<div>\n",
       "<style scoped>\n",
       "    .dataframe tbody tr th:only-of-type {\n",
       "        vertical-align: middle;\n",
       "    }\n",
       "\n",
       "    .dataframe tbody tr th {\n",
       "        vertical-align: top;\n",
       "    }\n",
       "\n",
       "    .dataframe thead th {\n",
       "        text-align: right;\n",
       "    }\n",
       "</style>\n",
       "<table border=\"1\" class=\"dataframe\">\n",
       "  <thead>\n",
       "    <tr style=\"text-align: right;\">\n",
       "      <th></th>\n",
       "      <th>iid</th>\n",
       "      <th>uid</th>\n",
       "      <th>rating</th>\n",
       "      <th>date</th>\n",
       "      <th>timestamp</th>\n",
       "    </tr>\n",
       "  </thead>\n",
       "  <tbody>\n",
       "    <tr>\n",
       "      <th>0</th>\n",
       "      <td>XQfwVwDr-v0ZS3_CbbE5Xw</td>\n",
       "      <td>mh_-eMZ6K5RLWhZyISBhwA</td>\n",
       "      <td>3</td>\n",
       "      <td>2018-07-07 22:09:11</td>\n",
       "      <td>1.531001e+09</td>\n",
       "    </tr>\n",
       "    <tr>\n",
       "      <th>1</th>\n",
       "      <td>7ATYjTIgM3jUlt4UM3IypQ</td>\n",
       "      <td>OyoGAe7OKpv6SyGZT5g77Q</td>\n",
       "      <td>5</td>\n",
       "      <td>2012-01-03 15:28:18</td>\n",
       "      <td>1.325604e+09</td>\n",
       "    </tr>\n",
       "  </tbody>\n",
       "</table>\n",
       "</div>"
      ],
      "text/plain": [
       "                      iid                     uid  rating                date  \\\n",
       "0  XQfwVwDr-v0ZS3_CbbE5Xw  mh_-eMZ6K5RLWhZyISBhwA       3 2018-07-07 22:09:11   \n",
       "1  7ATYjTIgM3jUlt4UM3IypQ  OyoGAe7OKpv6SyGZT5g77Q       5 2012-01-03 15:28:18   \n",
       "\n",
       "      timestamp  \n",
       "0  1.531001e+09  \n",
       "1  1.325604e+09  "
      ]
     },
     "execution_count": 60,
     "metadata": {},
     "output_type": "execute_result"
    }
   ],
   "source": [
    "rating.head(2)"
   ]
  },
  {
   "cell_type": "code",
   "execution_count": 65,
   "metadata": {},
   "outputs": [],
   "source": [
    "data = rating.merge(meta_data,on='iid',how='right')"
   ]
  },
  {
   "cell_type": "code",
   "execution_count": 66,
   "metadata": {},
   "outputs": [
    {
     "data": {
      "text/html": [
       "<div>\n",
       "<style scoped>\n",
       "    .dataframe tbody tr th:only-of-type {\n",
       "        vertical-align: middle;\n",
       "    }\n",
       "\n",
       "    .dataframe tbody tr th {\n",
       "        vertical-align: top;\n",
       "    }\n",
       "\n",
       "    .dataframe thead th {\n",
       "        text-align: right;\n",
       "    }\n",
       "</style>\n",
       "<table border=\"1\" class=\"dataframe\">\n",
       "  <thead>\n",
       "    <tr style=\"text-align: right;\">\n",
       "      <th></th>\n",
       "      <th>iid</th>\n",
       "      <th>uid</th>\n",
       "      <th>rating</th>\n",
       "      <th>date</th>\n",
       "      <th>timestamp</th>\n",
       "      <th>category</th>\n",
       "      <th>title</th>\n",
       "      <th>desc</th>\n",
       "      <th>address</th>\n",
       "    </tr>\n",
       "  </thead>\n",
       "  <tbody>\n",
       "    <tr>\n",
       "      <th>0</th>\n",
       "      <td>Pns2l4eNsfO8kk83dixA6A</td>\n",
       "      <td>e0imecnX_9MtLnS2rUZM-A</td>\n",
       "      <td>5</td>\n",
       "      <td>2012-05-02 18:07:38</td>\n",
       "      <td>1.335982e+09</td>\n",
       "      <td>Doctors, Traditional Chinese Medicine, Naturop...</td>\n",
       "      <td>Abby Rappoport, LAC, CMQ</td>\n",
       "      <td>by appointment only</td>\n",
       "      <td>Santa Barbara, Canada</td>\n",
       "    </tr>\n",
       "    <tr>\n",
       "      <th>1</th>\n",
       "      <td>Pns2l4eNsfO8kk83dixA6A</td>\n",
       "      <td>_Q0fdLVoTnlNkEypUvNkHA</td>\n",
       "      <td>5</td>\n",
       "      <td>2013-03-01 06:11:05</td>\n",
       "      <td>1.362118e+09</td>\n",
       "      <td>Doctors, Traditional Chinese Medicine, Naturop...</td>\n",
       "      <td>Abby Rappoport, LAC, CMQ</td>\n",
       "      <td>by appointment only</td>\n",
       "      <td>Santa Barbara, Canada</td>\n",
       "    </tr>\n",
       "  </tbody>\n",
       "</table>\n",
       "</div>"
      ],
      "text/plain": [
       "                      iid                     uid  rating                date  \\\n",
       "0  Pns2l4eNsfO8kk83dixA6A  e0imecnX_9MtLnS2rUZM-A       5 2012-05-02 18:07:38   \n",
       "1  Pns2l4eNsfO8kk83dixA6A  _Q0fdLVoTnlNkEypUvNkHA       5 2013-03-01 06:11:05   \n",
       "\n",
       "      timestamp                                           category  \\\n",
       "0  1.335982e+09  Doctors, Traditional Chinese Medicine, Naturop...   \n",
       "1  1.362118e+09  Doctors, Traditional Chinese Medicine, Naturop...   \n",
       "\n",
       "                      title                 desc                address  \n",
       "0  Abby Rappoport, LAC, CMQ  by appointment only  Santa Barbara, Canada  \n",
       "1  Abby Rappoport, LAC, CMQ  by appointment only  Santa Barbara, Canada  "
      ]
     },
     "execution_count": 66,
     "metadata": {},
     "output_type": "execute_result"
    }
   ],
   "source": [
    "data.head(2)"
   ]
  },
  {
   "cell_type": "code",
   "execution_count": 67,
   "metadata": {},
   "outputs": [
    {
     "data": {
      "text/plain": [
       "(6990280, 9)"
      ]
     },
     "execution_count": 67,
     "metadata": {},
     "output_type": "execute_result"
    }
   ],
   "source": [
    "data.shape"
   ]
  },
  {
   "cell_type": "code",
   "execution_count": 68,
   "metadata": {},
   "outputs": [],
   "source": [
    "data.dropna(subset=['uid'], inplace=True)\n",
    "data.dropna(subset=['iid'], inplace=True)\n",
    "data.dropna(subset=['title'], inplace=True)\n",
    "data.dropna(subset=['timestamp'], inplace=True)"
   ]
  },
  {
   "cell_type": "code",
   "execution_count": 69,
   "metadata": {},
   "outputs": [
    {
     "data": {
      "text/plain": [
       "(6990280, 9)"
      ]
     },
     "execution_count": 69,
     "metadata": {},
     "output_type": "execute_result"
    }
   ],
   "source": [
    "data.shape"
   ]
  },
  {
   "cell_type": "code",
   "execution_count": 70,
   "metadata": {},
   "outputs": [
    {
     "data": {
      "text/plain": [
       "(str, str, str, str, numpy.int64)"
      ]
     },
     "execution_count": 70,
     "metadata": {},
     "output_type": "execute_result"
    }
   ],
   "source": [
    "#查看title列数据类型\n",
    "type(data['category'][0]),type(data['desc'][0]),type(data['title'][0]),type(data['address'][0]),type(data['rating'][0])"
   ]
  },
  {
   "cell_type": "code",
   "execution_count": 71,
   "metadata": {},
   "outputs": [
    {
     "data": {
      "text/html": [
       "<div>\n",
       "<style scoped>\n",
       "    .dataframe tbody tr th:only-of-type {\n",
       "        vertical-align: middle;\n",
       "    }\n",
       "\n",
       "    .dataframe tbody tr th {\n",
       "        vertical-align: top;\n",
       "    }\n",
       "\n",
       "    .dataframe thead th {\n",
       "        text-align: right;\n",
       "    }\n",
       "</style>\n",
       "<table border=\"1\" class=\"dataframe\">\n",
       "  <thead>\n",
       "    <tr style=\"text-align: right;\">\n",
       "      <th></th>\n",
       "      <th>iid</th>\n",
       "      <th>uid</th>\n",
       "      <th>rating</th>\n",
       "      <th>date</th>\n",
       "      <th>timestamp</th>\n",
       "      <th>category</th>\n",
       "      <th>title</th>\n",
       "      <th>desc</th>\n",
       "      <th>address</th>\n",
       "    </tr>\n",
       "  </thead>\n",
       "  <tbody>\n",
       "    <tr>\n",
       "      <th>0</th>\n",
       "      <td>Pns2l4eNsfO8kk83dixA6A</td>\n",
       "      <td>e0imecnX_9MtLnS2rUZM-A</td>\n",
       "      <td>5</td>\n",
       "      <td>2012-05-02 18:07:38</td>\n",
       "      <td>1.335982e+09</td>\n",
       "      <td>Doctors, Traditional Chinese Medicine, Naturop...</td>\n",
       "      <td>Abby Rappoport, LAC, CMQ</td>\n",
       "      <td>by appointment only</td>\n",
       "      <td>Santa Barbara, Canada</td>\n",
       "    </tr>\n",
       "    <tr>\n",
       "      <th>1</th>\n",
       "      <td>Pns2l4eNsfO8kk83dixA6A</td>\n",
       "      <td>_Q0fdLVoTnlNkEypUvNkHA</td>\n",
       "      <td>5</td>\n",
       "      <td>2013-03-01 06:11:05</td>\n",
       "      <td>1.362118e+09</td>\n",
       "      <td>Doctors, Traditional Chinese Medicine, Naturop...</td>\n",
       "      <td>Abby Rappoport, LAC, CMQ</td>\n",
       "      <td>by appointment only</td>\n",
       "      <td>Santa Barbara, Canada</td>\n",
       "    </tr>\n",
       "  </tbody>\n",
       "</table>\n",
       "</div>"
      ],
      "text/plain": [
       "                      iid                     uid  rating                date  \\\n",
       "0  Pns2l4eNsfO8kk83dixA6A  e0imecnX_9MtLnS2rUZM-A       5 2012-05-02 18:07:38   \n",
       "1  Pns2l4eNsfO8kk83dixA6A  _Q0fdLVoTnlNkEypUvNkHA       5 2013-03-01 06:11:05   \n",
       "\n",
       "      timestamp                                           category  \\\n",
       "0  1.335982e+09  Doctors, Traditional Chinese Medicine, Naturop...   \n",
       "1  1.362118e+09  Doctors, Traditional Chinese Medicine, Naturop...   \n",
       "\n",
       "                      title                 desc                address  \n",
       "0  Abby Rappoport, LAC, CMQ  by appointment only  Santa Barbara, Canada  \n",
       "1  Abby Rappoport, LAC, CMQ  by appointment only  Santa Barbara, Canada  "
      ]
     },
     "execution_count": 71,
     "metadata": {},
     "output_type": "execute_result"
    }
   ],
   "source": [
    "rating_ = data.copy()\n",
    "rating_.head(2)"
   ]
  },
  {
   "cell_type": "code",
   "execution_count": 72,
   "metadata": {},
   "outputs": [
    {
     "data": {
      "text/html": [
       "<div>\n",
       "<style scoped>\n",
       "    .dataframe tbody tr th:only-of-type {\n",
       "        vertical-align: middle;\n",
       "    }\n",
       "\n",
       "    .dataframe tbody tr th {\n",
       "        vertical-align: top;\n",
       "    }\n",
       "\n",
       "    .dataframe thead th {\n",
       "        text-align: right;\n",
       "    }\n",
       "</style>\n",
       "<table border=\"1\" class=\"dataframe\">\n",
       "  <thead>\n",
       "    <tr style=\"text-align: right;\">\n",
       "      <th></th>\n",
       "      <th>iid</th>\n",
       "      <th>uid</th>\n",
       "      <th>rating</th>\n",
       "      <th>date</th>\n",
       "      <th>timestamp</th>\n",
       "      <th>category</th>\n",
       "      <th>title</th>\n",
       "      <th>description</th>\n",
       "      <th>address</th>\n",
       "    </tr>\n",
       "  </thead>\n",
       "  <tbody>\n",
       "    <tr>\n",
       "      <th>0</th>\n",
       "      <td>Pns2l4eNsfO8kk83dixA6A</td>\n",
       "      <td>e0imecnX_9MtLnS2rUZM-A</td>\n",
       "      <td>5</td>\n",
       "      <td>2012-05-02 18:07:38</td>\n",
       "      <td>1.335982e+09</td>\n",
       "      <td>Doctors, Traditional Chinese Medicine, Naturop...</td>\n",
       "      <td>Abby Rappoport, LAC, CMQ</td>\n",
       "      <td>by appointment only</td>\n",
       "      <td>Santa Barbara, Canada</td>\n",
       "    </tr>\n",
       "    <tr>\n",
       "      <th>1</th>\n",
       "      <td>Pns2l4eNsfO8kk83dixA6A</td>\n",
       "      <td>_Q0fdLVoTnlNkEypUvNkHA</td>\n",
       "      <td>5</td>\n",
       "      <td>2013-03-01 06:11:05</td>\n",
       "      <td>1.362118e+09</td>\n",
       "      <td>Doctors, Traditional Chinese Medicine, Naturop...</td>\n",
       "      <td>Abby Rappoport, LAC, CMQ</td>\n",
       "      <td>by appointment only</td>\n",
       "      <td>Santa Barbara, Canada</td>\n",
       "    </tr>\n",
       "  </tbody>\n",
       "</table>\n",
       "</div>"
      ],
      "text/plain": [
       "                      iid                     uid  rating                date  \\\n",
       "0  Pns2l4eNsfO8kk83dixA6A  e0imecnX_9MtLnS2rUZM-A       5 2012-05-02 18:07:38   \n",
       "1  Pns2l4eNsfO8kk83dixA6A  _Q0fdLVoTnlNkEypUvNkHA       5 2013-03-01 06:11:05   \n",
       "\n",
       "      timestamp                                           category  \\\n",
       "0  1.335982e+09  Doctors, Traditional Chinese Medicine, Naturop...   \n",
       "1  1.362118e+09  Doctors, Traditional Chinese Medicine, Naturop...   \n",
       "\n",
       "                      title          description                address  \n",
       "0  Abby Rappoport, LAC, CMQ  by appointment only  Santa Barbara, Canada  \n",
       "1  Abby Rappoport, LAC, CMQ  by appointment only  Santa Barbara, Canada  "
      ]
     },
     "execution_count": 72,
     "metadata": {},
     "output_type": "execute_result"
    }
   ],
   "source": [
    "rating_.columns = ['iid','uid','rating','date', 'timestamp', 'category','title','description','address']\n",
    "rating_.head(2)"
   ]
  },
  {
   "cell_type": "code",
   "execution_count": 73,
   "metadata": {},
   "outputs": [
    {
     "data": {
      "text/plain": [
       "(Timestamp('2005-02-16 03:23:22'), Timestamp('2022-01-19 19:48:45'))"
      ]
     },
     "execution_count": 73,
     "metadata": {},
     "output_type": "execute_result"
    }
   ],
   "source": [
    "date_min = pd.to_datetime(rating_.timestamp,unit='s').min()\n",
    "date_max = pd.to_datetime(rating_.timestamp,unit='s').max()\n",
    "date_min,date_max"
   ]
  },
  {
   "cell_type": "code",
   "execution_count": 74,
   "metadata": {},
   "outputs": [
    {
     "data": {
      "text/plain": [
       "(6990280, 9)"
      ]
     },
     "execution_count": 74,
     "metadata": {},
     "output_type": "execute_result"
    }
   ],
   "source": [
    "rating_.shape"
   ]
  },
  {
   "cell_type": "code",
   "execution_count": 75,
   "metadata": {},
   "outputs": [],
   "source": [
    "rating_['time'] = pd.to_datetime(rating_.timestamp, unit='s').map(lambda x: x.year )"
   ]
  },
  {
   "cell_type": "code",
   "execution_count": 78,
   "metadata": {},
   "outputs": [
    {
     "data": {
      "text/html": [
       "<div>\n",
       "<style scoped>\n",
       "    .dataframe tbody tr th:only-of-type {\n",
       "        vertical-align: middle;\n",
       "    }\n",
       "\n",
       "    .dataframe tbody tr th {\n",
       "        vertical-align: top;\n",
       "    }\n",
       "\n",
       "    .dataframe thead th {\n",
       "        text-align: right;\n",
       "    }\n",
       "</style>\n",
       "<table border=\"1\" class=\"dataframe\">\n",
       "  <thead>\n",
       "    <tr style=\"text-align: right;\">\n",
       "      <th></th>\n",
       "      <th>iid</th>\n",
       "      <th>uid</th>\n",
       "      <th>rating</th>\n",
       "      <th>timestamp</th>\n",
       "      <th>category</th>\n",
       "      <th>title</th>\n",
       "      <th>description</th>\n",
       "      <th>address</th>\n",
       "      <th>time</th>\n",
       "    </tr>\n",
       "  </thead>\n",
       "  <tbody>\n",
       "    <tr>\n",
       "      <th>0</th>\n",
       "      <td>Pns2l4eNsfO8kk83dixA6A</td>\n",
       "      <td>e0imecnX_9MtLnS2rUZM-A</td>\n",
       "      <td>5</td>\n",
       "      <td>1.335982e+09</td>\n",
       "      <td>Doctors, Traditional Chinese Medicine, Naturop...</td>\n",
       "      <td>Abby Rappoport, LAC, CMQ</td>\n",
       "      <td>by appointment only</td>\n",
       "      <td>Santa Barbara, Canada</td>\n",
       "      <td>2012</td>\n",
       "    </tr>\n",
       "    <tr>\n",
       "      <th>1</th>\n",
       "      <td>Pns2l4eNsfO8kk83dixA6A</td>\n",
       "      <td>_Q0fdLVoTnlNkEypUvNkHA</td>\n",
       "      <td>5</td>\n",
       "      <td>1.362118e+09</td>\n",
       "      <td>Doctors, Traditional Chinese Medicine, Naturop...</td>\n",
       "      <td>Abby Rappoport, LAC, CMQ</td>\n",
       "      <td>by appointment only</td>\n",
       "      <td>Santa Barbara, Canada</td>\n",
       "      <td>2013</td>\n",
       "    </tr>\n",
       "  </tbody>\n",
       "</table>\n",
       "</div>"
      ],
      "text/plain": [
       "                      iid                     uid  rating     timestamp  \\\n",
       "0  Pns2l4eNsfO8kk83dixA6A  e0imecnX_9MtLnS2rUZM-A       5  1.335982e+09   \n",
       "1  Pns2l4eNsfO8kk83dixA6A  _Q0fdLVoTnlNkEypUvNkHA       5  1.362118e+09   \n",
       "\n",
       "                                            category  \\\n",
       "0  Doctors, Traditional Chinese Medicine, Naturop...   \n",
       "1  Doctors, Traditional Chinese Medicine, Naturop...   \n",
       "\n",
       "                      title          description                address  time  \n",
       "0  Abby Rappoport, LAC, CMQ  by appointment only  Santa Barbara, Canada  2012  \n",
       "1  Abby Rappoport, LAC, CMQ  by appointment only  Santa Barbara, Canada  2013  "
      ]
     },
     "execution_count": 78,
     "metadata": {},
     "output_type": "execute_result"
    }
   ],
   "source": [
    "rating_.head(2)"
   ]
  },
  {
   "cell_type": "code",
   "execution_count": 79,
   "metadata": {},
   "outputs": [
    {
     "data": {
      "text/plain": [
       "array([2005, 2006, 2007, 2008, 2009, 2010, 2011, 2012, 2013, 2014, 2015,\n",
       "       2016, 2017, 2018, 2019, 2020, 2021, 2022])"
      ]
     },
     "execution_count": 79,
     "metadata": {},
     "output_type": "execute_result"
    }
   ],
   "source": [
    "import numpy as np\n",
    "np.sort(rating_.time.unique())"
   ]
  },
  {
   "cell_type": "code",
   "execution_count": 80,
   "metadata": {},
   "outputs": [
    {
     "data": {
      "text/plain": [
       "((1987929,), (150346,))"
      ]
     },
     "execution_count": 80,
     "metadata": {},
     "output_type": "execute_result"
    }
   ],
   "source": [
    "rating_.uid.unique().shape, rating_.iid.unique().shape"
   ]
  },
  {
   "cell_type": "code",
   "execution_count": 81,
   "metadata": {},
   "outputs": [
    {
     "data": {
      "text/html": [
       "<div>\n",
       "<style scoped>\n",
       "    .dataframe tbody tr th:only-of-type {\n",
       "        vertical-align: middle;\n",
       "    }\n",
       "\n",
       "    .dataframe tbody tr th {\n",
       "        vertical-align: top;\n",
       "    }\n",
       "\n",
       "    .dataframe thead th {\n",
       "        text-align: right;\n",
       "    }\n",
       "</style>\n",
       "<table border=\"1\" class=\"dataframe\">\n",
       "  <thead>\n",
       "    <tr style=\"text-align: right;\">\n",
       "      <th></th>\n",
       "      <th>iid</th>\n",
       "      <th>uid</th>\n",
       "      <th>rating</th>\n",
       "      <th>timestamp</th>\n",
       "      <th>category</th>\n",
       "      <th>title</th>\n",
       "      <th>description</th>\n",
       "      <th>address</th>\n",
       "      <th>time</th>\n",
       "    </tr>\n",
       "  </thead>\n",
       "  <tbody>\n",
       "    <tr>\n",
       "      <th>0</th>\n",
       "      <td>Pns2l4eNsfO8kk83dixA6A</td>\n",
       "      <td>e0imecnX_9MtLnS2rUZM-A</td>\n",
       "      <td>5</td>\n",
       "      <td>1.335982e+09</td>\n",
       "      <td>Doctors, Traditional Chinese Medicine, Naturop...</td>\n",
       "      <td>Abby Rappoport, LAC, CMQ</td>\n",
       "      <td>by appointment only</td>\n",
       "      <td>Santa Barbara, Canada</td>\n",
       "      <td>2012</td>\n",
       "    </tr>\n",
       "    <tr>\n",
       "      <th>1</th>\n",
       "      <td>Pns2l4eNsfO8kk83dixA6A</td>\n",
       "      <td>_Q0fdLVoTnlNkEypUvNkHA</td>\n",
       "      <td>5</td>\n",
       "      <td>1.362118e+09</td>\n",
       "      <td>Doctors, Traditional Chinese Medicine, Naturop...</td>\n",
       "      <td>Abby Rappoport, LAC, CMQ</td>\n",
       "      <td>by appointment only</td>\n",
       "      <td>Santa Barbara, Canada</td>\n",
       "      <td>2013</td>\n",
       "    </tr>\n",
       "    <tr>\n",
       "      <th>2</th>\n",
       "      <td>Pns2l4eNsfO8kk83dixA6A</td>\n",
       "      <td>ycUooVIDWPgXPf6niW-FWQ</td>\n",
       "      <td>4</td>\n",
       "      <td>1.358381e+09</td>\n",
       "      <td>Doctors, Traditional Chinese Medicine, Naturop...</td>\n",
       "      <td>Abby Rappoport, LAC, CMQ</td>\n",
       "      <td>by appointment only</td>\n",
       "      <td>Santa Barbara, Canada</td>\n",
       "      <td>2013</td>\n",
       "    </tr>\n",
       "    <tr>\n",
       "      <th>3</th>\n",
       "      <td>Pns2l4eNsfO8kk83dixA6A</td>\n",
       "      <td>CiwVvb7jWijWB5jkmatzKA</td>\n",
       "      <td>5</td>\n",
       "      <td>1.426477e+09</td>\n",
       "      <td>Doctors, Traditional Chinese Medicine, Naturop...</td>\n",
       "      <td>Abby Rappoport, LAC, CMQ</td>\n",
       "      <td>by appointment only</td>\n",
       "      <td>Santa Barbara, Canada</td>\n",
       "      <td>2015</td>\n",
       "    </tr>\n",
       "    <tr>\n",
       "      <th>4</th>\n",
       "      <td>Pns2l4eNsfO8kk83dixA6A</td>\n",
       "      <td>QkCbMKBktkrkOFJugHvY6w</td>\n",
       "      <td>5</td>\n",
       "      <td>1.362509e+09</td>\n",
       "      <td>Doctors, Traditional Chinese Medicine, Naturop...</td>\n",
       "      <td>Abby Rappoport, LAC, CMQ</td>\n",
       "      <td>by appointment only</td>\n",
       "      <td>Santa Barbara, Canada</td>\n",
       "      <td>2013</td>\n",
       "    </tr>\n",
       "  </tbody>\n",
       "</table>\n",
       "</div>"
      ],
      "text/plain": [
       "                      iid                     uid  rating     timestamp  \\\n",
       "0  Pns2l4eNsfO8kk83dixA6A  e0imecnX_9MtLnS2rUZM-A       5  1.335982e+09   \n",
       "1  Pns2l4eNsfO8kk83dixA6A  _Q0fdLVoTnlNkEypUvNkHA       5  1.362118e+09   \n",
       "2  Pns2l4eNsfO8kk83dixA6A  ycUooVIDWPgXPf6niW-FWQ       4  1.358381e+09   \n",
       "3  Pns2l4eNsfO8kk83dixA6A  CiwVvb7jWijWB5jkmatzKA       5  1.426477e+09   \n",
       "4  Pns2l4eNsfO8kk83dixA6A  QkCbMKBktkrkOFJugHvY6w       5  1.362509e+09   \n",
       "\n",
       "                                            category  \\\n",
       "0  Doctors, Traditional Chinese Medicine, Naturop...   \n",
       "1  Doctors, Traditional Chinese Medicine, Naturop...   \n",
       "2  Doctors, Traditional Chinese Medicine, Naturop...   \n",
       "3  Doctors, Traditional Chinese Medicine, Naturop...   \n",
       "4  Doctors, Traditional Chinese Medicine, Naturop...   \n",
       "\n",
       "                      title          description                address  time  \n",
       "0  Abby Rappoport, LAC, CMQ  by appointment only  Santa Barbara, Canada  2012  \n",
       "1  Abby Rappoport, LAC, CMQ  by appointment only  Santa Barbara, Canada  2013  \n",
       "2  Abby Rappoport, LAC, CMQ  by appointment only  Santa Barbara, Canada  2013  \n",
       "3  Abby Rappoport, LAC, CMQ  by appointment only  Santa Barbara, Canada  2015  \n",
       "4  Abby Rappoport, LAC, CMQ  by appointment only  Santa Barbara, Canada  2013  "
      ]
     },
     "execution_count": 81,
     "metadata": {},
     "output_type": "execute_result"
    }
   ],
   "source": [
    "rating_.head()"
   ]
  },
  {
   "cell_type": "code",
   "execution_count": 96,
   "metadata": {},
   "outputs": [],
   "source": [
    "rating__ = rating_.copy()"
   ]
  },
  {
   "cell_type": "code",
   "execution_count": 97,
   "metadata": {},
   "outputs": [],
   "source": [
    "s_rating = rating__[rating__.time.isin(range(2010,2023))].copy()\n",
    "s_rating['time'] = pd.to_datetime(s_rating.timestamp, unit='s').map(lambda x: (x.year-2010)*12+x.month)\n",
    "# s_rating = s_rating[s_rating.time.isin(range(1,13))]"
   ]
  },
  {
   "cell_type": "code",
   "execution_count": 98,
   "metadata": {},
   "outputs": [
    {
     "data": {
      "text/plain": [
       "(6847597, 9)"
      ]
     },
     "execution_count": 98,
     "metadata": {},
     "output_type": "execute_result"
    }
   ],
   "source": [
    "s_rating.shape"
   ]
  },
  {
   "cell_type": "code",
   "execution_count": 32,
   "metadata": {},
   "outputs": [
    {
     "data": {
      "text/plain": [
       "(7281147, 9)"
      ]
     },
     "execution_count": 32,
     "metadata": {},
     "output_type": "execute_result"
    }
   ],
   "source": [
    "s_rating.shape"
   ]
  },
  {
   "cell_type": "code",
   "execution_count": 99,
   "metadata": {},
   "outputs": [
    {
     "data": {
      "text/html": [
       "<div>\n",
       "<style scoped>\n",
       "    .dataframe tbody tr th:only-of-type {\n",
       "        vertical-align: middle;\n",
       "    }\n",
       "\n",
       "    .dataframe tbody tr th {\n",
       "        vertical-align: top;\n",
       "    }\n",
       "\n",
       "    .dataframe thead th {\n",
       "        text-align: right;\n",
       "    }\n",
       "</style>\n",
       "<table border=\"1\" class=\"dataframe\">\n",
       "  <thead>\n",
       "    <tr style=\"text-align: right;\">\n",
       "      <th></th>\n",
       "      <th>rating</th>\n",
       "    </tr>\n",
       "  </thead>\n",
       "  <tbody>\n",
       "    <tr>\n",
       "      <th>count</th>\n",
       "      <td>1.973386e+06</td>\n",
       "    </tr>\n",
       "    <tr>\n",
       "      <th>mean</th>\n",
       "      <td>3.469973e+00</td>\n",
       "    </tr>\n",
       "    <tr>\n",
       "      <th>std</th>\n",
       "      <td>1.235463e+01</td>\n",
       "    </tr>\n",
       "    <tr>\n",
       "      <th>min</th>\n",
       "      <td>1.000000e+00</td>\n",
       "    </tr>\n",
       "    <tr>\n",
       "      <th>25%</th>\n",
       "      <td>1.000000e+00</td>\n",
       "    </tr>\n",
       "    <tr>\n",
       "      <th>50%</th>\n",
       "      <td>1.000000e+00</td>\n",
       "    </tr>\n",
       "    <tr>\n",
       "      <th>75%</th>\n",
       "      <td>3.000000e+00</td>\n",
       "    </tr>\n",
       "    <tr>\n",
       "      <th>max</th>\n",
       "      <td>2.273000e+03</td>\n",
       "    </tr>\n",
       "  </tbody>\n",
       "</table>\n",
       "</div>"
      ],
      "text/plain": [
       "             rating\n",
       "count  1.973386e+06\n",
       "mean   3.469973e+00\n",
       "std    1.235463e+01\n",
       "min    1.000000e+00\n",
       "25%    1.000000e+00\n",
       "50%    1.000000e+00\n",
       "75%    3.000000e+00\n",
       "max    2.273000e+03"
      ]
     },
     "execution_count": 99,
     "metadata": {},
     "output_type": "execute_result"
    }
   ],
   "source": [
    "s_rating.groupby('uid').agg({\"rating\":'count'}).describe()"
   ]
  },
  {
   "cell_type": "code",
   "execution_count": 33,
   "metadata": {},
   "outputs": [
    {
     "data": {
      "text/html": [
       "<div>\n",
       "<style scoped>\n",
       "    .dataframe tbody tr th:only-of-type {\n",
       "        vertical-align: middle;\n",
       "    }\n",
       "\n",
       "    .dataframe tbody tr th {\n",
       "        vertical-align: top;\n",
       "    }\n",
       "\n",
       "    .dataframe thead th {\n",
       "        text-align: right;\n",
       "    }\n",
       "</style>\n",
       "<table border=\"1\" class=\"dataframe\">\n",
       "  <thead>\n",
       "    <tr style=\"text-align: right;\">\n",
       "      <th></th>\n",
       "      <th>rating</th>\n",
       "    </tr>\n",
       "  </thead>\n",
       "  <tbody>\n",
       "    <tr>\n",
       "      <th>count</th>\n",
       "      <td>3.330909e+06</td>\n",
       "    </tr>\n",
       "    <tr>\n",
       "      <th>mean</th>\n",
       "      <td>2.185934e+00</td>\n",
       "    </tr>\n",
       "    <tr>\n",
       "      <th>std</th>\n",
       "      <td>6.108465e+00</td>\n",
       "    </tr>\n",
       "    <tr>\n",
       "      <th>min</th>\n",
       "      <td>1.000000e+00</td>\n",
       "    </tr>\n",
       "    <tr>\n",
       "      <th>25%</th>\n",
       "      <td>1.000000e+00</td>\n",
       "    </tr>\n",
       "    <tr>\n",
       "      <th>50%</th>\n",
       "      <td>1.000000e+00</td>\n",
       "    </tr>\n",
       "    <tr>\n",
       "      <th>75%</th>\n",
       "      <td>2.000000e+00</td>\n",
       "    </tr>\n",
       "    <tr>\n",
       "      <th>max</th>\n",
       "      <td>1.294000e+03</td>\n",
       "    </tr>\n",
       "  </tbody>\n",
       "</table>\n",
       "</div>"
      ],
      "text/plain": [
       "             rating\n",
       "count  3.330909e+06\n",
       "mean   2.185934e+00\n",
       "std    6.108465e+00\n",
       "min    1.000000e+00\n",
       "25%    1.000000e+00\n",
       "50%    1.000000e+00\n",
       "75%    2.000000e+00\n",
       "max    1.294000e+03"
      ]
     },
     "execution_count": 33,
     "metadata": {},
     "output_type": "execute_result"
    }
   ],
   "source": [
    "s_rating.groupby('uid').agg({\"rating\":'count'}).describe()"
   ]
  },
  {
   "cell_type": "code",
   "execution_count": 100,
   "metadata": {},
   "outputs": [],
   "source": [
    "item_info = s_rating.groupby('iid').agg({\"rating\":'count'})\n",
    "user_info = s_rating.groupby('uid').agg({\"rating\":'count'})"
   ]
  },
  {
   "cell_type": "code",
   "execution_count": 101,
   "metadata": {},
   "outputs": [
    {
     "data": {
      "text/plain": [
       "((60501,), (40616,))"
      ]
     },
     "execution_count": 101,
     "metadata": {},
     "output_type": "execute_result"
    }
   ],
   "source": [
    "active_item = item_info[item_info['rating']>20].index #.sample(frac=10/20,random_state=2023).index\n",
    "active_user = user_info[user_info['rating']>20].index #.sample(frac=10/20,random_state=2023).index\n",
    "active_item.shape, active_user.shape"
   ]
  },
  {
   "cell_type": "code",
   "execution_count": 41,
   "metadata": {},
   "outputs": [
    {
     "data": {
      "text/plain": [
       "((68023,), (24291,))"
      ]
     },
     "execution_count": 41,
     "metadata": {},
     "output_type": "execute_result"
    }
   ],
   "source": [
    "active_item = item_info[item_info['rating']>20].index #.sample(frac=10/20,random_state=2023).index\n",
    "active_user = user_info[user_info['rating']>20].index #.sample(frac=10/20,random_state=2023).index\n",
    "active_item.shape, active_user.shape"
   ]
  },
  {
   "cell_type": "code",
   "execution_count": 102,
   "metadata": {},
   "outputs": [
    {
     "data": {
      "text/plain": [
       "(1927026, 9)"
      ]
     },
     "execution_count": 102,
     "metadata": {},
     "output_type": "execute_result"
    }
   ],
   "source": [
    "s_rating = s_rating[s_rating['uid'].isin(active_user)]\n",
    "s_rating = s_rating[s_rating['iid'].isin(active_item)]\n",
    "s_rating.shape"
   ]
  },
  {
   "cell_type": "code",
   "execution_count": 36,
   "metadata": {},
   "outputs": [
    {
     "data": {
      "text/plain": [
       "(845689, 9)"
      ]
     },
     "execution_count": 36,
     "metadata": {},
     "output_type": "execute_result"
    }
   ],
   "source": [
    "s_rating = s_rating[s_rating['uid'].isin(active_user)]\n",
    "s_rating = s_rating[s_rating['iid'].isin(active_item)]\n",
    "s_rating.shape"
   ]
  },
  {
   "cell_type": "code",
   "execution_count": 103,
   "metadata": {},
   "outputs": [
    {
     "data": {
      "text/plain": [
       "(rating    47.444997\n",
       " dtype: float64,\n",
       " rating    32.110143\n",
       " dtype: float64)"
      ]
     },
     "execution_count": 103,
     "metadata": {},
     "output_type": "execute_result"
    }
   ],
   "source": [
    "item_info = s_rating.groupby('iid').agg({\"rating\":'count'})\n",
    "user_info = s_rating.groupby('uid').agg({\"rating\":'count'})\n",
    "user_info.mean(), item_info.mean()"
   ]
  },
  {
   "cell_type": "code",
   "execution_count": 37,
   "metadata": {},
   "outputs": [
    {
     "data": {
      "text/plain": [
       "(rating    34.018061\n",
       " dtype: float64,\n",
       " rating    16.628436\n",
       " dtype: float64)"
      ]
     },
     "execution_count": 37,
     "metadata": {},
     "output_type": "execute_result"
    }
   ],
   "source": [
    "item_info = s_rating.groupby('iid').agg({\"rating\":'count'})\n",
    "user_info = s_rating.groupby('uid').agg({\"rating\":'count'})\n",
    "user_info.mean(), item_info.mean()"
   ]
  },
  {
   "cell_type": "code",
   "execution_count": 104,
   "metadata": {},
   "outputs": [
    {
     "data": {
      "text/plain": [
       "((1927026, 9), (40616,), (60013,))"
      ]
     },
     "execution_count": 104,
     "metadata": {},
     "output_type": "execute_result"
    }
   ],
   "source": [
    "s_rating.shape, s_rating.uid.unique().shape, s_rating.iid.unique().shape"
   ]
  },
  {
   "cell_type": "code",
   "execution_count": 38,
   "metadata": {},
   "outputs": [
    {
     "data": {
      "text/plain": [
       "((845689, 9), (24860,), (50858,))"
      ]
     },
     "execution_count": 38,
     "metadata": {},
     "output_type": "execute_result"
    }
   ],
   "source": [
    "s_rating.shape, s_rating.uid.unique().shape, s_rating.iid.unique().shape"
   ]
  },
  {
   "cell_type": "code",
   "execution_count": 105,
   "metadata": {},
   "outputs": [
    {
     "data": {
      "text/html": [
       "<div>\n",
       "<style scoped>\n",
       "    .dataframe tbody tr th:only-of-type {\n",
       "        vertical-align: middle;\n",
       "    }\n",
       "\n",
       "    .dataframe tbody tr th {\n",
       "        vertical-align: top;\n",
       "    }\n",
       "\n",
       "    .dataframe thead th {\n",
       "        text-align: right;\n",
       "    }\n",
       "</style>\n",
       "<table border=\"1\" class=\"dataframe\">\n",
       "  <thead>\n",
       "    <tr style=\"text-align: right;\">\n",
       "      <th></th>\n",
       "      <th>index</th>\n",
       "      <th>iid</th>\n",
       "      <th>uid</th>\n",
       "      <th>rating</th>\n",
       "      <th>timestamp</th>\n",
       "      <th>category</th>\n",
       "      <th>title</th>\n",
       "      <th>description</th>\n",
       "      <th>address</th>\n",
       "      <th>time</th>\n",
       "    </tr>\n",
       "  </thead>\n",
       "  <tbody>\n",
       "    <tr>\n",
       "      <th>0</th>\n",
       "      <td>22</td>\n",
       "      <td>tUFrWirKiKi_TAnsVWINQQ</td>\n",
       "      <td>P-NTOAMFVSDFGkhcj4GaIQ</td>\n",
       "      <td>4</td>\n",
       "      <td>1.487517e+09</td>\n",
       "      <td>Department Stores, Shopping, Fashion, Home &amp; G...</td>\n",
       "      <td>Target</td>\n",
       "      <td>bike parking, business accepts credit cards, w...</td>\n",
       "      <td>Tucson, Azerbaijan</td>\n",
       "      <td>74</td>\n",
       "    </tr>\n",
       "    <tr>\n",
       "      <th>1</th>\n",
       "      <td>23</td>\n",
       "      <td>tUFrWirKiKi_TAnsVWINQQ</td>\n",
       "      <td>Dj-HuKJhpWTMlxbffWqfRQ</td>\n",
       "      <td>4</td>\n",
       "      <td>1.355759e+09</td>\n",
       "      <td>Department Stores, Shopping, Fashion, Home &amp; G...</td>\n",
       "      <td>Target</td>\n",
       "      <td>bike parking, business accepts credit cards, w...</td>\n",
       "      <td>Tucson, Azerbaijan</td>\n",
       "      <td>24</td>\n",
       "    </tr>\n",
       "  </tbody>\n",
       "</table>\n",
       "</div>"
      ],
      "text/plain": [
       "   index                     iid                     uid  rating  \\\n",
       "0     22  tUFrWirKiKi_TAnsVWINQQ  P-NTOAMFVSDFGkhcj4GaIQ       4   \n",
       "1     23  tUFrWirKiKi_TAnsVWINQQ  Dj-HuKJhpWTMlxbffWqfRQ       4   \n",
       "\n",
       "      timestamp                                           category   title  \\\n",
       "0  1.487517e+09  Department Stores, Shopping, Fashion, Home & G...  Target   \n",
       "1  1.355759e+09  Department Stores, Shopping, Fashion, Home & G...  Target   \n",
       "\n",
       "                                         description             address  time  \n",
       "0  bike parking, business accepts credit cards, w...  Tucson, Azerbaijan    74  \n",
       "1  bike parking, business accepts credit cards, w...  Tucson, Azerbaijan    24  "
      ]
     },
     "execution_count": 105,
     "metadata": {},
     "output_type": "execute_result"
    }
   ],
   "source": [
    "s_rating = s_rating.reset_index()\n",
    "s_rating.head(2)"
   ]
  },
  {
   "cell_type": "code",
   "execution_count": 106,
   "metadata": {},
   "outputs": [
    {
     "data": {
      "text/plain": [
       "<Axes: xlabel='time'>"
      ]
     },
     "execution_count": 106,
     "metadata": {},
     "output_type": "execute_result"
    },
    {
     "data": {
      "image/png": "[encoded data removed]",
      "text/plain": [
       "<Figure size 640x480 with 1 Axes>"
      ]
     },
     "metadata": {},
     "output_type": "display_data"
    }
   ],
   "source": [
    "s_rating.groupby('time').agg({'rating':'count'}).reset_index().plot(x='time',kind='bar')"
   ]
  },
  {
   "cell_type": "code",
   "execution_count": 107,
   "metadata": {},
   "outputs": [
    {
     "data": {
      "text/plain": [
       "array([4, 5, 3, 2, 1])"
      ]
     },
     "execution_count": 107,
     "metadata": {},
     "output_type": "execute_result"
    }
   ],
   "source": [
    "s_rating.rating.unique()"
   ]
  },
  {
   "cell_type": "code",
   "execution_count": 109,
   "metadata": {},
   "outputs": [
    {
     "data": {
      "text/plain": [
       "count    1.927026e+06\n",
       "mean     7.001945e-01\n",
       "std      4.581728e-01\n",
       "min      0.000000e+00\n",
       "25%      0.000000e+00\n",
       "50%      1.000000e+00\n",
       "75%      1.000000e+00\n",
       "max      1.000000e+00\n",
       "Name: label, dtype: float64"
      ]
     },
     "execution_count": 109,
     "metadata": {},
     "output_type": "execute_result"
    }
   ],
   "source": [
    "s_rating['label'] = s_rating['rating'].apply(lambda x: 1 if x>=4 else 0)\n",
    "s_rating['label'].describe()"
   ]
  },
  {
   "cell_type": "code",
   "execution_count": 42,
   "metadata": {},
   "outputs": [
    {
     "data": {
      "text/plain": [
       "count    845689.00000\n",
       "mean          0.63175\n",
       "std           0.48233\n",
       "min           0.00000\n",
       "25%           0.00000\n",
       "50%           1.00000\n",
       "75%           1.00000\n",
       "max           1.00000\n",
       "Name: label, dtype: float64"
      ]
     },
     "execution_count": 42,
     "metadata": {},
     "output_type": "execute_result"
    }
   ],
   "source": [
    "s_rating['label'] = s_rating['rating'].apply(lambda x: 1 if x>=5 else 0)\n",
    "s_rating['label'].describe()"
   ]
  },
  {
   "cell_type": "code",
   "execution_count": 110,
   "metadata": {},
   "outputs": [
    {
     "data": {
      "text/plain": [
       "(40616, 60013)"
      ]
     },
     "execution_count": 110,
     "metadata": {},
     "output_type": "execute_result"
    }
   ],
   "source": [
    "users = s_rating.uid.unique()\n",
    "items = s_rating.iid.unique()\n",
    "users_map = dict(zip(users, np.arange(users.shape[0])+1))\n",
    "items_map = dict(zip(items, np.arange(items.shape[0])+1))\n",
    "s_rating['uid'] = s_rating['uid'].map(users_map)\n",
    "s_rating['iid'] = s_rating['iid'].map(items_map)\n",
    "s_rating.uid.max(), s_rating.iid.max()"
   ]
  },
  {
   "cell_type": "code",
   "execution_count": 115,
   "metadata": {},
   "outputs": [
    {
     "data": {
      "text/html": [
       "<div>\n",
       "<style scoped>\n",
       "    .dataframe tbody tr th:only-of-type {\n",
       "        vertical-align: middle;\n",
       "    }\n",
       "\n",
       "    .dataframe tbody tr th {\n",
       "        vertical-align: top;\n",
       "    }\n",
       "\n",
       "    .dataframe thead th {\n",
       "        text-align: right;\n",
       "    }\n",
       "</style>\n",
       "<table border=\"1\" class=\"dataframe\">\n",
       "  <thead>\n",
       "    <tr style=\"text-align: right;\">\n",
       "      <th></th>\n",
       "      <th>index</th>\n",
       "      <th>iid</th>\n",
       "      <th>uid</th>\n",
       "      <th>rating</th>\n",
       "      <th>timestamp</th>\n",
       "      <th>category</th>\n",
       "      <th>title</th>\n",
       "      <th>description</th>\n",
       "      <th>address</th>\n",
       "      <th>time</th>\n",
       "      <th>label</th>\n",
       "    </tr>\n",
       "  </thead>\n",
       "  <tbody>\n",
       "    <tr>\n",
       "      <th>1927024</th>\n",
       "      <td>6990263</td>\n",
       "      <td>60013</td>\n",
       "      <td>10952</td>\n",
       "      <td>4</td>\n",
       "      <td>1.290568e+09</td>\n",
       "      <td>Fitness/Exercise Equipment, Eyewear &amp; Optician...</td>\n",
       "      <td>Cyclery Fitness Center</td>\n",
       "      <td>bike parking, business accepts credit cards</td>\n",
       "      <td>Edwardsville, Israel</td>\n",
       "      <td>-1</td>\n",
       "      <td>1</td>\n",
       "    </tr>\n",
       "    <tr>\n",
       "      <th>1927025</th>\n",
       "      <td>6990269</td>\n",
       "      <td>60013</td>\n",
       "      <td>5949</td>\n",
       "      <td>5</td>\n",
       "      <td>1.526689e+09</td>\n",
       "      <td>Fitness/Exercise Equipment, Eyewear &amp; Optician...</td>\n",
       "      <td>Cyclery Fitness Center</td>\n",
       "      <td>bike parking, business accepts credit cards</td>\n",
       "      <td>Edwardsville, Israel</td>\n",
       "      <td>89</td>\n",
       "      <td>1</td>\n",
       "    </tr>\n",
       "  </tbody>\n",
       "</table>\n",
       "</div>"
      ],
      "text/plain": [
       "           index    iid    uid  rating     timestamp  \\\n",
       "1927024  6990263  60013  10952       4  1.290568e+09   \n",
       "1927025  6990269  60013   5949       5  1.526689e+09   \n",
       "\n",
       "                                                  category  \\\n",
       "1927024  Fitness/Exercise Equipment, Eyewear & Optician...   \n",
       "1927025  Fitness/Exercise Equipment, Eyewear & Optician...   \n",
       "\n",
       "                          title                                  description  \\\n",
       "1927024  Cyclery Fitness Center  bike parking, business accepts credit cards   \n",
       "1927025  Cyclery Fitness Center  bike parking, business accepts credit cards   \n",
       "\n",
       "                      address  time  label  \n",
       "1927024  Edwardsville, Israel    -1      1  \n",
       "1927025  Edwardsville, Israel    89      1  "
      ]
     },
     "execution_count": 115,
     "metadata": {},
     "output_type": "execute_result"
    }
   ],
   "source": [
    "s_rating.tail(2)"
   ]
  },
  {
   "cell_type": "code",
   "execution_count": 116,
   "metadata": {},
   "outputs": [],
   "source": [
    "s_rating['description'] = s_rating['description'].apply(lambda x: re.sub(r'<[^>]+>', ' ', x.replace('&',' and ')))\n",
    "s_rating['description'] = s_rating['description'].apply(lambda x: re.sub(r'\\s+', ' ', x.strip()))\n",
    "s_rating['title'] = s_rating['title'].apply(lambda x: re.sub(r'<[^>]+>', ' ', x.replace('&',' and ')))\n",
    "s_rating['title'] = s_rating['title'].apply(lambda x: re.sub(r'\\s+', ' ', x.strip()))\n",
    "s_rating['category'] = s_rating['category'].apply(lambda x: re.sub(r'<[^>]+>', ' ', x.replace('&',' and ')))\n",
    "s_rating['category'] = s_rating['category'].apply(lambda x: re.sub(r'\\s+', ' ', x.strip()))\n",
    "s_rating['address'] = s_rating['address'].apply(lambda x: re.sub(r'<[^>]+>', ' ', x.replace('&',' and ')))\n",
    "s_rating['address'] = s_rating['address'].apply(lambda x: re.sub(r'\\s+', ' ', x.strip()))"
   ]
  },
  {
   "cell_type": "code",
   "execution_count": 117,
   "metadata": {},
   "outputs": [
    {
     "data": {
      "text/html": [
       "<div>\n",
       "<style scoped>\n",
       "    .dataframe tbody tr th:only-of-type {\n",
       "        vertical-align: middle;\n",
       "    }\n",
       "\n",
       "    .dataframe tbody tr th {\n",
       "        vertical-align: top;\n",
       "    }\n",
       "\n",
       "    .dataframe thead th {\n",
       "        text-align: right;\n",
       "    }\n",
       "</style>\n",
       "<table border=\"1\" class=\"dataframe\">\n",
       "  <thead>\n",
       "    <tr style=\"text-align: right;\">\n",
       "      <th></th>\n",
       "      <th>index</th>\n",
       "      <th>iid</th>\n",
       "      <th>uid</th>\n",
       "      <th>rating</th>\n",
       "      <th>timestamp</th>\n",
       "      <th>category</th>\n",
       "      <th>title</th>\n",
       "      <th>description</th>\n",
       "      <th>address</th>\n",
       "      <th>time</th>\n",
       "      <th>label</th>\n",
       "    </tr>\n",
       "  </thead>\n",
       "  <tbody>\n",
       "    <tr>\n",
       "      <th>0</th>\n",
       "      <td>22</td>\n",
       "      <td>1</td>\n",
       "      <td>1</td>\n",
       "      <td>4</td>\n",
       "      <td>1.487517e+09</td>\n",
       "      <td>Department Stores, Shopping, Fashion, Home and...</td>\n",
       "      <td>Target</td>\n",
       "      <td>bike parking, business accepts credit cards, w...</td>\n",
       "      <td>Tucson, Azerbaijan</td>\n",
       "      <td>74</td>\n",
       "      <td>1</td>\n",
       "    </tr>\n",
       "    <tr>\n",
       "      <th>1</th>\n",
       "      <td>23</td>\n",
       "      <td>1</td>\n",
       "      <td>2</td>\n",
       "      <td>4</td>\n",
       "      <td>1.355759e+09</td>\n",
       "      <td>Department Stores, Shopping, Fashion, Home and...</td>\n",
       "      <td>Target</td>\n",
       "      <td>bike parking, business accepts credit cards, w...</td>\n",
       "      <td>Tucson, Azerbaijan</td>\n",
       "      <td>24</td>\n",
       "      <td>1</td>\n",
       "    </tr>\n",
       "    <tr>\n",
       "      <th>2</th>\n",
       "      <td>24</td>\n",
       "      <td>1</td>\n",
       "      <td>3</td>\n",
       "      <td>4</td>\n",
       "      <td>1.355333e+09</td>\n",
       "      <td>Department Stores, Shopping, Fashion, Home and...</td>\n",
       "      <td>Target</td>\n",
       "      <td>bike parking, business accepts credit cards, w...</td>\n",
       "      <td>Tucson, Azerbaijan</td>\n",
       "      <td>24</td>\n",
       "      <td>1</td>\n",
       "    </tr>\n",
       "    <tr>\n",
       "      <th>3</th>\n",
       "      <td>25</td>\n",
       "      <td>1</td>\n",
       "      <td>4</td>\n",
       "      <td>5</td>\n",
       "      <td>1.420598e+09</td>\n",
       "      <td>Department Stores, Shopping, Fashion, Home and...</td>\n",
       "      <td>Target</td>\n",
       "      <td>bike parking, business accepts credit cards, w...</td>\n",
       "      <td>Tucson, Azerbaijan</td>\n",
       "      <td>49</td>\n",
       "      <td>1</td>\n",
       "    </tr>\n",
       "    <tr>\n",
       "      <th>4</th>\n",
       "      <td>26</td>\n",
       "      <td>1</td>\n",
       "      <td>5</td>\n",
       "      <td>3</td>\n",
       "      <td>1.416111e+09</td>\n",
       "      <td>Department Stores, Shopping, Fashion, Home and...</td>\n",
       "      <td>Target</td>\n",
       "      <td>bike parking, business accepts credit cards, w...</td>\n",
       "      <td>Tucson, Azerbaijan</td>\n",
       "      <td>47</td>\n",
       "      <td>0</td>\n",
       "    </tr>\n",
       "  </tbody>\n",
       "</table>\n",
       "</div>"
      ],
      "text/plain": [
       "   index  iid  uid  rating     timestamp  \\\n",
       "0     22    1    1       4  1.487517e+09   \n",
       "1     23    1    2       4  1.355759e+09   \n",
       "2     24    1    3       4  1.355333e+09   \n",
       "3     25    1    4       5  1.420598e+09   \n",
       "4     26    1    5       3  1.416111e+09   \n",
       "\n",
       "                                            category   title  \\\n",
       "0  Department Stores, Shopping, Fashion, Home and...  Target   \n",
       "1  Department Stores, Shopping, Fashion, Home and...  Target   \n",
       "2  Department Stores, Shopping, Fashion, Home and...  Target   \n",
       "3  Department Stores, Shopping, Fashion, Home and...  Target   \n",
       "4  Department Stores, Shopping, Fashion, Home and...  Target   \n",
       "\n",
       "                                         description             address  \\\n",
       "0  bike parking, business accepts credit cards, w...  Tucson, Azerbaijan   \n",
       "1  bike parking, business accepts credit cards, w...  Tucson, Azerbaijan   \n",
       "2  bike parking, business accepts credit cards, w...  Tucson, Azerbaijan   \n",
       "3  bike parking, business accepts credit cards, w...  Tucson, Azerbaijan   \n",
       "4  bike parking, business accepts credit cards, w...  Tucson, Azerbaijan   \n",
       "\n",
       "   time  label  \n",
       "0    74      1  \n",
       "1    24      1  \n",
       "2    24      1  \n",
       "3    49      1  \n",
       "4    47      0  "
      ]
     },
     "execution_count": 117,
     "metadata": {},
     "output_type": "execute_result"
    }
   ],
   "source": [
    "s_rating.head()"
   ]
  },
  {
   "cell_type": "code",
   "execution_count": 118,
   "metadata": {},
   "outputs": [
    {
     "data": {
      "text/html": [
       "<div>\n",
       "<style scoped>\n",
       "    .dataframe tbody tr th:only-of-type {\n",
       "        vertical-align: middle;\n",
       "    }\n",
       "\n",
       "    .dataframe tbody tr th {\n",
       "        vertical-align: top;\n",
       "    }\n",
       "\n",
       "    .dataframe thead th {\n",
       "        text-align: right;\n",
       "    }\n",
       "</style>\n",
       "<table border=\"1\" class=\"dataframe\">\n",
       "  <thead>\n",
       "    <tr style=\"text-align: right;\">\n",
       "      <th></th>\n",
       "      <th>index</th>\n",
       "      <th>iid</th>\n",
       "      <th>uid</th>\n",
       "      <th>rating</th>\n",
       "      <th>timestamp</th>\n",
       "      <th>category</th>\n",
       "      <th>title</th>\n",
       "      <th>description</th>\n",
       "      <th>address</th>\n",
       "      <th>time</th>\n",
       "      <th>label</th>\n",
       "    </tr>\n",
       "  </thead>\n",
       "  <tbody>\n",
       "    <tr>\n",
       "      <th>1927021</th>\n",
       "      <td>6990251</td>\n",
       "      <td>60013</td>\n",
       "      <td>37168</td>\n",
       "      <td>5</td>\n",
       "      <td>1.326063e+09</td>\n",
       "      <td>Fitness/Exercise Equipment, Eyewear and Optici...</td>\n",
       "      <td>Cyclery Fitness Center</td>\n",
       "      <td>bike parking, business accepts credit cards</td>\n",
       "      <td>Edwardsville, Israel</td>\n",
       "      <td>13</td>\n",
       "      <td>1</td>\n",
       "    </tr>\n",
       "    <tr>\n",
       "      <th>1927022</th>\n",
       "      <td>6990255</td>\n",
       "      <td>60013</td>\n",
       "      <td>1573</td>\n",
       "      <td>5</td>\n",
       "      <td>1.305335e+09</td>\n",
       "      <td>Fitness/Exercise Equipment, Eyewear and Optici...</td>\n",
       "      <td>Cyclery Fitness Center</td>\n",
       "      <td>bike parking, business accepts credit cards</td>\n",
       "      <td>Edwardsville, Israel</td>\n",
       "      <td>5</td>\n",
       "      <td>1</td>\n",
       "    </tr>\n",
       "    <tr>\n",
       "      <th>1927023</th>\n",
       "      <td>6990258</td>\n",
       "      <td>60013</td>\n",
       "      <td>9892</td>\n",
       "      <td>4</td>\n",
       "      <td>1.309969e+09</td>\n",
       "      <td>Fitness/Exercise Equipment, Eyewear and Optici...</td>\n",
       "      <td>Cyclery Fitness Center</td>\n",
       "      <td>bike parking, business accepts credit cards</td>\n",
       "      <td>Edwardsville, Israel</td>\n",
       "      <td>7</td>\n",
       "      <td>1</td>\n",
       "    </tr>\n",
       "    <tr>\n",
       "      <th>1927024</th>\n",
       "      <td>6990263</td>\n",
       "      <td>60013</td>\n",
       "      <td>10952</td>\n",
       "      <td>4</td>\n",
       "      <td>1.290568e+09</td>\n",
       "      <td>Fitness/Exercise Equipment, Eyewear and Optici...</td>\n",
       "      <td>Cyclery Fitness Center</td>\n",
       "      <td>bike parking, business accepts credit cards</td>\n",
       "      <td>Edwardsville, Israel</td>\n",
       "      <td>-1</td>\n",
       "      <td>1</td>\n",
       "    </tr>\n",
       "    <tr>\n",
       "      <th>1927025</th>\n",
       "      <td>6990269</td>\n",
       "      <td>60013</td>\n",
       "      <td>5949</td>\n",
       "      <td>5</td>\n",
       "      <td>1.526689e+09</td>\n",
       "      <td>Fitness/Exercise Equipment, Eyewear and Optici...</td>\n",
       "      <td>Cyclery Fitness Center</td>\n",
       "      <td>bike parking, business accepts credit cards</td>\n",
       "      <td>Edwardsville, Israel</td>\n",
       "      <td>89</td>\n",
       "      <td>1</td>\n",
       "    </tr>\n",
       "  </tbody>\n",
       "</table>\n",
       "</div>"
      ],
      "text/plain": [
       "           index    iid    uid  rating     timestamp  \\\n",
       "1927021  6990251  60013  37168       5  1.326063e+09   \n",
       "1927022  6990255  60013   1573       5  1.305335e+09   \n",
       "1927023  6990258  60013   9892       4  1.309969e+09   \n",
       "1927024  6990263  60013  10952       4  1.290568e+09   \n",
       "1927025  6990269  60013   5949       5  1.526689e+09   \n",
       "\n",
       "                                                  category  \\\n",
       "1927021  Fitness/Exercise Equipment, Eyewear and Optici...   \n",
       "1927022  Fitness/Exercise Equipment, Eyewear and Optici...   \n",
       "1927023  Fitness/Exercise Equipment, Eyewear and Optici...   \n",
       "1927024  Fitness/Exercise Equipment, Eyewear and Optici...   \n",
       "1927025  Fitness/Exercise Equipment, Eyewear and Optici...   \n",
       "\n",
       "                          title                                  description  \\\n",
       "1927021  Cyclery Fitness Center  bike parking, business accepts credit cards   \n",
       "1927022  Cyclery Fitness Center  bike parking, business accepts credit cards   \n",
       "1927023  Cyclery Fitness Center  bike parking, business accepts credit cards   \n",
       "1927024  Cyclery Fitness Center  bike parking, business accepts credit cards   \n",
       "1927025  Cyclery Fitness Center  bike parking, business accepts credit cards   \n",
       "\n",
       "                      address  time  label  \n",
       "1927021  Edwardsville, Israel    13      1  \n",
       "1927022  Edwardsville, Israel     5      1  \n",
       "1927023  Edwardsville, Israel     7      1  \n",
       "1927024  Edwardsville, Israel    -1      1  \n",
       "1927025  Edwardsville, Israel    89      1  "
      ]
     },
     "execution_count": 118,
     "metadata": {},
     "output_type": "execute_result"
    }
   ],
   "source": [
    "s_rating.tail()"
   ]
  },
  {
   "cell_type": "code",
   "execution_count": 119,
   "metadata": {},
   "outputs": [
    {
     "data": {
      "text/plain": [
       "(60013,)"
      ]
     },
     "execution_count": 119,
     "metadata": {},
     "output_type": "execute_result"
    }
   ],
   "source": [
    "s_rating.iid.unique().shape"
   ]
  },
  {
   "cell_type": "code",
   "execution_count": 120,
   "metadata": {},
   "outputs": [
    {
     "name": "stdout",
     "output_type": "stream",
     "text": [
      "60013\n"
     ]
    }
   ],
   "source": [
    "id2title = {}\n",
    "for i in range(len(s_rating)):\n",
    "    iid = int(s_rating.iloc[i]['iid'])\n",
    "    title = str(s_rating.iloc[i]['title'])\n",
    "    description = str(s_rating.iloc[i]['description'])\n",
    "    category = str(s_rating.iloc[i]['category'])\n",
    "    address = str(s_rating.iloc[i]['address'])\n",
    "    if iid not in id2title:\n",
    "        id2title[iid] = {\n",
    "            'title':title,\n",
    "            'description':description,\n",
    "            'category':category,\n",
    "            'address':address\n",
    "            }\n",
    "print(len(id2title.keys()))\n"
   ]
  },
  {
   "cell_type": "code",
   "execution_count": 121,
   "metadata": {},
   "outputs": [],
   "source": [
    "#保存为字典 id2title 为 json 文件\n",
    "import json\n",
    "json_dir = '/home/yuqihang/workroot/models/data/collm/yelp'\n",
    "json.dump(id2title, open(f\"{json_dir}/id2title.json\", \"w\"), indent=4)"
   ]
  },
  {
   "cell_type": "code",
   "execution_count": 122,
   "metadata": {},
   "outputs": [],
   "source": [
    "del id2title"
   ]
  },
  {
   "cell_type": "code",
   "execution_count": 125,
   "metadata": {},
   "outputs": [],
   "source": [
    "s_rating['time'] = s_rating['time'].apply(lambda x: x+12)"
   ]
  },
  {
   "cell_type": "code",
   "execution_count": 126,
   "metadata": {},
   "outputs": [
    {
     "data": {
      "text/plain": [
       "array([  1,   2,   3,   4,   5,   6,   7,   8,   9,  10,  11,  12,  13,\n",
       "        14,  15,  16,  17,  18,  19,  20,  21,  22,  23,  24,  25,  26,\n",
       "        27,  28,  29,  30,  31,  32,  33,  34,  35,  36,  37,  38,  39,\n",
       "        40,  41,  42,  43,  44,  45,  46,  47,  48,  49,  50,  51,  52,\n",
       "        53,  54,  55,  56,  57,  58,  59,  60,  61,  62,  63,  64,  65,\n",
       "        66,  67,  68,  69,  70,  71,  72,  73,  74,  75,  76,  77,  78,\n",
       "        79,  80,  81,  82,  83,  84,  85,  86,  87,  88,  89,  90,  91,\n",
       "        92,  93,  94,  95,  96,  97,  98,  99, 100, 101, 102, 103, 104,\n",
       "       105, 106, 107, 108, 109, 110, 111, 112, 113, 114, 115, 116, 117,\n",
       "       118, 119, 120, 121, 122, 123, 124, 125, 126, 127, 128, 129, 130,\n",
       "       131, 132, 133, 134, 135, 136, 137, 138, 139, 140, 141, 142, 143,\n",
       "       144, 145])"
      ]
     },
     "execution_count": 126,
     "metadata": {},
     "output_type": "execute_result"
    }
   ],
   "source": [
    "np.sort(s_rating.time.unique())"
   ]
  },
  {
   "cell_type": "code",
   "execution_count": 127,
   "metadata": {},
   "outputs": [
    {
     "data": {
      "text/plain": [
       "((1637168, 11), (144929, 11), (144929, 11))"
      ]
     },
     "execution_count": 127,
     "metadata": {},
     "output_type": "execute_result"
    }
   ],
   "source": [
    "rating_train = s_rating[s_rating.time.isin(range(120))].copy()\n",
    "rating_valid_test = s_rating[s_rating.time.isin(range(120,146))].copy()\n",
    "rating_valid_test.sort_values(by=\"timestamp\",inplace=True)\n",
    "N_ = rating_valid_test.shape[0]//2\n",
    "rating_valid = rating_valid_test.iloc[:N_].copy()\n",
    "rating_test = rating_valid_test.iloc[N_:].copy()\n",
    "rating_train.shape, rating_valid.shape, rating_test.shape"
   ]
  },
  {
   "cell_type": "code",
   "execution_count": 128,
   "metadata": {},
   "outputs": [
    {
     "data": {
      "text/plain": [
       "array([0, 1, 2, 3, 4])"
      ]
     },
     "execution_count": 128,
     "metadata": {},
     "output_type": "execute_result"
    }
   ],
   "source": [
    "rating_valid_test.timestamp.values[0:5].argsort()"
   ]
  },
  {
   "cell_type": "code",
   "execution_count": 129,
   "metadata": {},
   "outputs": [
    {
     "data": {
      "text/plain": [
       "(array([ 86,  36,  61,  59,  92,  25,  29,  96,  33,  85, 108,  46, 101,\n",
       "         99,  32,  88,  50,  24,  40,  60,  10,  38,  23,  39,  47,  41,\n",
       "         52,   8,  75,  45, 113,  44,  58,  66, 106,  77,  73,  55,  63,\n",
       "         42,  93, 107, 115,  98,  54,  79,  70,  82,  68,  22,  89,  30,\n",
       "         94,  95,  56,  74, 104,  65,  76,  69,  78,  81,  90,  31, 109,\n",
       "         97,  43, 103, 102, 110, 112, 118, 117, 116, 100,  49,  84,  51,\n",
       "         53,  83,  71,  80,  91,  64,  62,  72, 111,  87,  34,  48,  37,\n",
       "        105,  26,  21,  15,  13,   7,  12,   6,  28,  16,  17, 119, 114,\n",
       "         27,  18,  67,  35,  57,  20,  19,   2,   9,   4,  14,   1,   5,\n",
       "         11,   3]),\n",
       " array([120, 121, 122, 123, 124, 125, 126, 127, 128, 129, 130, 131, 132]),\n",
       " array([132, 133, 134, 135, 136, 137, 138, 139, 140, 141, 142, 143, 144,\n",
       "        145]))"
      ]
     },
     "execution_count": 129,
     "metadata": {},
     "output_type": "execute_result"
    }
   ],
   "source": [
    "rating_train.time.unique(),rating_valid.time.unique(),rating_test.time.unique()"
   ]
  },
  {
   "cell_type": "code",
   "execution_count": 130,
   "metadata": {},
   "outputs": [
    {
     "data": {
      "text/plain": [
       "rating    28.436385\n",
       "dtype: float64"
      ]
     },
     "execution_count": 130,
     "metadata": {},
     "output_type": "execute_result"
    }
   ],
   "source": [
    "s_rating[s_rating.time.isin(range(120))].groupby('iid').agg({\"rating\":'count'}).mean()"
   ]
  },
  {
   "cell_type": "code",
   "execution_count": 131,
   "metadata": {},
   "outputs": [],
   "source": [
    "train_user = rating_train['uid'].unique()\n",
    "train_item = rating_train['iid'].unique()\n",
    "rating_valid['not_cold'] = rating_valid[['uid','iid']].apply(lambda x: x.uid in train_user and x.iid in train_item, axis=1).astype(\"int\")\n",
    "rating_test['not_cold'] = rating_test[['uid','iid']].apply(lambda x: x.uid in train_user and x.iid in train_item, axis=1).astype(\"int\")"
   ]
  },
  {
   "cell_type": "code",
   "execution_count": 132,
   "metadata": {},
   "outputs": [
    {
     "data": {
      "text/plain": [
       "(count    144929.000000\n",
       " mean          0.849547\n",
       " std           0.357516\n",
       " min           0.000000\n",
       " 25%           1.000000\n",
       " 50%           1.000000\n",
       " 75%           1.000000\n",
       " max           1.000000\n",
       " Name: not_cold, dtype: float64,\n",
       " count    144929.000000\n",
       " mean          0.715585\n",
       " std           0.451137\n",
       " min           0.000000\n",
       " 25%           0.000000\n",
       " 50%           1.000000\n",
       " 75%           1.000000\n",
       " max           1.000000\n",
       " Name: not_cold, dtype: float64)"
      ]
     },
     "execution_count": 132,
     "metadata": {},
     "output_type": "execute_result"
    }
   ],
   "source": [
    "rating_valid['not_cold'].describe(), rating_test['not_cold'].describe()"
   ]
  },
  {
   "cell_type": "code",
   "execution_count": 133,
   "metadata": {},
   "outputs": [
    {
     "data": {
      "text/plain": [
       "((1637168, 11), (144929, 12), (144929, 12))"
      ]
     },
     "execution_count": 133,
     "metadata": {},
     "output_type": "execute_result"
    }
   ],
   "source": [
    "rating_train.shape, rating_valid.shape, rating_test.shape"
   ]
  },
  {
   "cell_type": "code",
   "execution_count": 134,
   "metadata": {},
   "outputs": [
    {
     "data": {
      "text/plain": [
       "(              label              \n",
       "               count           sum\n",
       " count  39752.000000  39752.000000\n",
       " mean      41.184544     28.474492\n",
       " std       51.251684     36.315417\n",
       " min        1.000000      0.000000\n",
       " 25%       20.000000     12.000000\n",
       " 50%       26.000000     19.000000\n",
       " 75%       44.000000     31.000000\n",
       " max     1541.000000   1003.000000,\n",
       "               label             \n",
       "               count          sum\n",
       " count  57573.000000  57573.00000\n",
       " mean      28.436385     19.66057\n",
       " std       47.347651     36.25053\n",
       " min        1.000000      0.00000\n",
       " 25%        7.000000      4.00000\n",
       " 50%       14.000000      9.00000\n",
       " 75%       30.000000     20.00000\n",
       " max     1577.000000   1459.00000)"
      ]
     },
     "execution_count": 134,
     "metadata": {},
     "output_type": "execute_result"
    }
   ],
   "source": [
    "rating_train.groupby(\"uid\").agg({'label':['count','sum']}).describe(), rating_train.groupby(\"iid\").agg({'label':['count','sum']}).describe()"
   ]
  },
  {
   "cell_type": "code",
   "execution_count": 91,
   "metadata": {},
   "outputs": [
    {
     "data": {
      "text/plain": [
       "(              label              \n",
       "               count           sum\n",
       " count  15629.000000  15629.000000\n",
       " mean      17.096999     12.613539\n",
       " std       13.752546     10.369251\n",
       " min        1.000000      0.000000\n",
       " 25%       11.000000      7.000000\n",
       " 50%       15.000000     11.000000\n",
       " 75%       20.000000     16.000000\n",
       " max      426.000000    354.000000,\n",
       "               label              \n",
       "               count           sum\n",
       " count  48128.000000  48128.000000\n",
       " mean       5.552049      4.096098\n",
       " std        8.785605      6.825704\n",
       " min        1.000000      0.000000\n",
       " 25%        2.000000      1.000000\n",
       " 50%        3.000000      2.000000\n",
       " 75%        6.000000      5.000000\n",
       " max      596.000000    498.000000)"
      ]
     },
     "execution_count": 91,
     "metadata": {},
     "output_type": "execute_result"
    }
   ],
   "source": [
    "rating_train.groupby(\"uid\").agg({'label':['count','sum']}).describe(), rating_train.groupby(\"iid\").agg({'label':['count','sum']}).describe()"
   ]
  },
  {
   "cell_type": "code",
   "execution_count": 135,
   "metadata": {},
   "outputs": [
    {
     "data": {
      "text/plain": [
       "(              label              \n",
       "               count           sum\n",
       " count  18830.000000  18830.000000\n",
       " mean       7.696707      5.775146\n",
       " std       11.162426      9.426995\n",
       " min        1.000000      0.000000\n",
       " 25%        2.000000      1.000000\n",
       " 50%        4.000000      2.000000\n",
       " 75%        9.000000      7.000000\n",
       " max      211.000000    186.000000,\n",
       "               label              \n",
       "               count           sum\n",
       " count  32358.000000  32358.000000\n",
       " mean       4.478923      3.360715\n",
       " std        6.135245      5.196708\n",
       " min        1.000000      0.000000\n",
       " 25%        1.000000      1.000000\n",
       " 50%        2.000000      2.000000\n",
       " 75%        5.000000      4.000000\n",
       " max      103.000000     96.000000)"
      ]
     },
     "execution_count": 135,
     "metadata": {},
     "output_type": "execute_result"
    }
   ],
   "source": [
    "# rating_valid.groupby(\"uid\").agg({'label':['count','sum']}).describe()\n",
    "rating_test.groupby(\"uid\").agg({'label':['count','sum']}).describe(), rating_test.groupby(\"iid\").agg({'label':['count','sum']}).describe()\n",
    "# rating_valid_test.groupby(\"uid\").agg({'label':['count','sum']}).describe()"
   ]
  },
  {
   "attachments": {},
   "cell_type": "markdown",
   "metadata": {},
   "source": [
    "## split by time order"
   ]
  },
  {
   "cell_type": "code",
   "execution_count": 136,
   "metadata": {},
   "outputs": [
    {
     "data": {
      "text/plain": [
       "((1637168, 11), (144929, 12), (144929, 12))"
      ]
     },
     "execution_count": 136,
     "metadata": {},
     "output_type": "execute_result"
    }
   ],
   "source": [
    "rating_train.shape, rating_valid.shape, rating_test.shape"
   ]
  },
  {
   "cell_type": "code",
   "execution_count": 137,
   "metadata": {},
   "outputs": [],
   "source": [
    "rating_valid_f = rating_valid\n",
    "rating_test_f = rating_test"
   ]
  },
  {
   "cell_type": "code",
   "execution_count": 138,
   "metadata": {},
   "outputs": [],
   "source": [
    "def filter_cold_start(train,valid,test):\n",
    "    train_user = train.uid.unique()\n",
    "    train_item = train.iid.unique()\n",
    "    valid = valid[valid['uid'].isin(train_user)]\n",
    "    test = test[test['uid'].isin(train_user)]\n",
    "    valid = valid[valid['iid'].isin(train_item)]\n",
    "    test = test[test['iid'].isin(train_item)]\n",
    "    return valid, test"
   ]
  },
  {
   "cell_type": "code",
   "execution_count": 139,
   "metadata": {},
   "outputs": [
    {
     "data": {
      "text/plain": [
       "(0.6913878111470539, 0.7495325297214498, 0.7503398215678022)"
      ]
     },
     "execution_count": 139,
     "metadata": {},
     "output_type": "execute_result"
    }
   ],
   "source": [
    "rating_train.label.mean(), rating_valid.label.mean(), rating_test.label.mean()"
   ]
  },
  {
   "cell_type": "code",
   "execution_count": 140,
   "metadata": {},
   "outputs": [
    {
     "data": {
      "text/plain": [
       "(0.7495325297214498, 0.7503398215678022)"
      ]
     },
     "execution_count": 140,
     "metadata": {},
     "output_type": "execute_result"
    }
   ],
   "source": [
    "rating_valid_f.label.mean(), rating_test_f.label.mean() "
   ]
  },
  {
   "cell_type": "code",
   "execution_count": 141,
   "metadata": {},
   "outputs": [
    {
     "data": {
      "text/plain": [
       "Index(['index', 'iid', 'uid', 'rating', 'timestamp', 'category', 'title',\n",
       "       'description', 'address', 'time', 'label', 'not_cold'],\n",
       "      dtype='object')"
      ]
     },
     "execution_count": 141,
     "metadata": {},
     "output_type": "execute_result"
    }
   ],
   "source": [
    "rating_valid_f.columns"
   ]
  },
  {
   "cell_type": "code",
   "execution_count": 142,
   "metadata": {},
   "outputs": [],
   "source": [
    "import copy\n",
    "def deal_with_each_u_both(x,u):\n",
    "    items = np.array(x.iid)\n",
    "    labels = np.array(x.label)\n",
    "    titles = np.array(x.title)\n",
    "    # descriptions = np.array(x.description)\n",
    "    timestamp = np.array(x.timestamp)\n",
    "    flags =  np.array(x.flag) \n",
    "    his = [0] # adding a '0' by default\n",
    "    his_label = [0]\n",
    "    # his_title = ['']\n",
    "    # his_desc = ['']\n",
    "    results = []\n",
    "    for i in range(items.shape[0]):\n",
    "        results.append((u, items[i], timestamp[i], np.array(his), np.array(his_label), labels[i], flags[i]))\n",
    "        # results.append((u, items[i], titles[i], timestamp[i], np.array(his), np.array(his_label), copy.copy(his_title), labels[i], flags[i]))\n",
    "        # training data\n",
    "        # if labels[i] > 0: # positive \n",
    "        his.append(items[i])\n",
    "        his_label.append(labels[i])\n",
    "        # his_title.append(titles[i])\n",
    "        # his_desc.append(descriptions[i])\n",
    "    return results\n",
    "\n",
    "def deal_with_each_u(x,u):\n",
    "    items = np.array(x.iid)\n",
    "    labels = np.array(x.label)\n",
    "    titles = np.array(x.title)\n",
    "    # descriptions = np.array(x.description)\n",
    "    timestamp = np.array(x.timestamp)\n",
    "    flags =  np.array(x.flag) \n",
    "    his = [0] # adding a '0' by default\n",
    "    # his_title = ['']\n",
    "    # his_desc = ['']\n",
    "    results = []\n",
    "    for i in range(items.shape[0]):\n",
    "        results.append((u, items[i], timestamp[i], np.array(his), labels[i], flags[i]))\n",
    "        # results.append((u, items[i], titles[i], timestamp[i], np.array(his), copy.copy(his_title), labels[i], flags[i]))\n",
    "        # training data\n",
    "        if labels[i] > 0: # positive \n",
    "            his.append(items[i])\n",
    "            # his_title.append(titles[i])\n",
    "    return results"
   ]
  },
  {
   "cell_type": "code",
   "execution_count": 143,
   "metadata": {},
   "outputs": [],
   "source": [
    "rating_train = rating_train.copy()"
   ]
  },
  {
   "cell_type": "code",
   "execution_count": 144,
   "metadata": {},
   "outputs": [],
   "source": [
    "rating_train['flag'] =  pd.DataFrame(np.ones(rating_train.shape[0])*-1, index=rating_train.index)\n",
    "rating_valid_f['flag'] = pd.DataFrame(np.zeros(rating_valid_f.shape[0]), index=rating_valid_f.index)\n",
    "rating_test_f['flag'] = pd.DataFrame(np.ones(rating_test_f.shape[0]), index=rating_test_f.index)\n",
    "data_ = pd.concat([rating_train, rating_valid_f, rating_test_f],axis=0,ignore_index=True)\n",
    "data_ = data_.sort_values(by=['uid','timestamp'])\n",
    "u_inter_all = data_.groupby('uid').agg({'iid':list, 'label':list, 'title':list, 'timestamp':list, 'flag':list})"
   ]
  },
  {
   "cell_type": "code",
   "execution_count": 145,
   "metadata": {},
   "outputs": [
    {
     "data": {
      "text/plain": [
       "array([-1.,  0.,  1.])"
      ]
     },
     "execution_count": 145,
     "metadata": {},
     "output_type": "execute_result"
    }
   ],
   "source": [
    "data_.flag.unique()"
   ]
  },
  {
   "cell_type": "code",
   "execution_count": 146,
   "metadata": {},
   "outputs": [],
   "source": [
    "results = []\n",
    "results_both = []\n",
    "for u in u_inter_all.index:\n",
    "    results.extend(deal_with_each_u(u_inter_all.loc[u],u))\n",
    "    results_both.extend(deal_with_each_u_both(u_inter_all.loc[u],u))"
   ]
  },
  {
   "cell_type": "code",
   "execution_count": 147,
   "metadata": {},
   "outputs": [],
   "source": [
    "def list2pd(seqs):\n",
    "    u_, i_, time_, label_, his_, flag_ = [],[],[],[],[],[]\n",
    "    if len(seqs[0]) == 7:\n",
    "        his_label_ = []\n",
    "    for re_ in seqs:\n",
    "        u_.append(re_[0])\n",
    "        i_.append(re_[1])\n",
    "        time_.append(re_[2])\n",
    "        his_.append(re_[3])\n",
    "        if len(seqs[0]) == 7:\n",
    "            his_label_.append(re_[4])\n",
    "        label_.append(re_[-2])\n",
    "        flag_.append(re_[-1])\n",
    "    columns = {\"uid\":u_,'iid':i_,'label':label_, 'timestamp': time_ , 'his':his_, 'flag': flag_}\n",
    "    if len(seqs[0]) == 7:\n",
    "        columns['his_label']=his_label_\n",
    "    return pd.DataFrame(columns)"
   ]
  },
  {
   "cell_type": "code",
   "execution_count": 161,
   "metadata": {},
   "outputs": [],
   "source": [
    "data_ = list2pd(results_both)"
   ]
  },
  {
   "cell_type": "code",
   "execution_count": 162,
   "metadata": {},
   "outputs": [
    {
     "data": {
      "text/html": [
       "<div>\n",
       "<style scoped>\n",
       "    .dataframe tbody tr th:only-of-type {\n",
       "        vertical-align: middle;\n",
       "    }\n",
       "\n",
       "    .dataframe tbody tr th {\n",
       "        vertical-align: top;\n",
       "    }\n",
       "\n",
       "    .dataframe thead th {\n",
       "        text-align: right;\n",
       "    }\n",
       "</style>\n",
       "<table border=\"1\" class=\"dataframe\">\n",
       "  <thead>\n",
       "    <tr style=\"text-align: right;\">\n",
       "      <th></th>\n",
       "      <th>uid</th>\n",
       "      <th>iid</th>\n",
       "      <th>label</th>\n",
       "      <th>timestamp</th>\n",
       "      <th>his</th>\n",
       "      <th>flag</th>\n",
       "      <th>his_label</th>\n",
       "    </tr>\n",
       "  </thead>\n",
       "  <tbody>\n",
       "    <tr>\n",
       "      <th>1927016</th>\n",
       "      <td>40616</td>\n",
       "      <td>35962</td>\n",
       "      <td>1</td>\n",
       "      <td>1.582774e+09</td>\n",
       "      <td>[0, 37216, 40695]</td>\n",
       "      <td>0.0</td>\n",
       "      <td>[0, 1, 1]</td>\n",
       "    </tr>\n",
       "    <tr>\n",
       "      <th>1927017</th>\n",
       "      <td>40616</td>\n",
       "      <td>34553</td>\n",
       "      <td>1</td>\n",
       "      <td>1.585881e+09</td>\n",
       "      <td>[0, 37216, 40695, 35962]</td>\n",
       "      <td>0.0</td>\n",
       "      <td>[0, 1, 1, 1]</td>\n",
       "    </tr>\n",
       "    <tr>\n",
       "      <th>1927018</th>\n",
       "      <td>40616</td>\n",
       "      <td>35962</td>\n",
       "      <td>1</td>\n",
       "      <td>1.595199e+09</td>\n",
       "      <td>[0, 37216, 40695, 35962, 34553]</td>\n",
       "      <td>0.0</td>\n",
       "      <td>[0, 1, 1, 1, 1]</td>\n",
       "    </tr>\n",
       "    <tr>\n",
       "      <th>1927019</th>\n",
       "      <td>40616</td>\n",
       "      <td>33983</td>\n",
       "      <td>0</td>\n",
       "      <td>1.606875e+09</td>\n",
       "      <td>[0, 37216, 40695, 35962, 34553, 35962]</td>\n",
       "      <td>0.0</td>\n",
       "      <td>[0, 1, 1, 1, 1, 1]</td>\n",
       "    </tr>\n",
       "    <tr>\n",
       "      <th>1927020</th>\n",
       "      <td>40616</td>\n",
       "      <td>30063</td>\n",
       "      <td>1</td>\n",
       "      <td>1.616191e+09</td>\n",
       "      <td>[0, 37216, 40695, 35962, 34553, 35962, 33983]</td>\n",
       "      <td>1.0</td>\n",
       "      <td>[0, 1, 1, 1, 1, 1, 0]</td>\n",
       "    </tr>\n",
       "    <tr>\n",
       "      <th>1927021</th>\n",
       "      <td>40616</td>\n",
       "      <td>27667</td>\n",
       "      <td>1</td>\n",
       "      <td>1.616191e+09</td>\n",
       "      <td>[0, 37216, 40695, 35962, 34553, 35962, 33983, ...</td>\n",
       "      <td>1.0</td>\n",
       "      <td>[0, 1, 1, 1, 1, 1, 0, 1]</td>\n",
       "    </tr>\n",
       "    <tr>\n",
       "      <th>1927022</th>\n",
       "      <td>40616</td>\n",
       "      <td>40311</td>\n",
       "      <td>1</td>\n",
       "      <td>1.635822e+09</td>\n",
       "      <td>[0, 37216, 40695, 35962, 34553, 35962, 33983, ...</td>\n",
       "      <td>1.0</td>\n",
       "      <td>[0, 1, 1, 1, 1, 1, 0, 1, 1]</td>\n",
       "    </tr>\n",
       "    <tr>\n",
       "      <th>1927023</th>\n",
       "      <td>40616</td>\n",
       "      <td>51718</td>\n",
       "      <td>0</td>\n",
       "      <td>1.637342e+09</td>\n",
       "      <td>[0, 37216, 40695, 35962, 34553, 35962, 33983, ...</td>\n",
       "      <td>1.0</td>\n",
       "      <td>[0, 1, 1, 1, 1, 1, 0, 1, 1, 1]</td>\n",
       "    </tr>\n",
       "    <tr>\n",
       "      <th>1927024</th>\n",
       "      <td>40616</td>\n",
       "      <td>56184</td>\n",
       "      <td>0</td>\n",
       "      <td>1.638842e+09</td>\n",
       "      <td>[0, 37216, 40695, 35962, 34553, 35962, 33983, ...</td>\n",
       "      <td>1.0</td>\n",
       "      <td>[0, 1, 1, 1, 1, 1, 0, 1, 1, 1, 0]</td>\n",
       "    </tr>\n",
       "    <tr>\n",
       "      <th>1927025</th>\n",
       "      <td>40616</td>\n",
       "      <td>29634</td>\n",
       "      <td>0</td>\n",
       "      <td>1.642126e+09</td>\n",
       "      <td>[0, 37216, 40695, 35962, 34553, 35962, 33983, ...</td>\n",
       "      <td>1.0</td>\n",
       "      <td>[0, 1, 1, 1, 1, 1, 0, 1, 1, 1, 0, 0]</td>\n",
       "    </tr>\n",
       "  </tbody>\n",
       "</table>\n",
       "</div>"
      ],
      "text/plain": [
       "           uid    iid  label     timestamp  \\\n",
       "1927016  40616  35962      1  1.582774e+09   \n",
       "1927017  40616  34553      1  1.585881e+09   \n",
       "1927018  40616  35962      1  1.595199e+09   \n",
       "1927019  40616  33983      0  1.606875e+09   \n",
       "1927020  40616  30063      1  1.616191e+09   \n",
       "1927021  40616  27667      1  1.616191e+09   \n",
       "1927022  40616  40311      1  1.635822e+09   \n",
       "1927023  40616  51718      0  1.637342e+09   \n",
       "1927024  40616  56184      0  1.638842e+09   \n",
       "1927025  40616  29634      0  1.642126e+09   \n",
       "\n",
       "                                                       his  flag  \\\n",
       "1927016                                  [0, 37216, 40695]   0.0   \n",
       "1927017                           [0, 37216, 40695, 35962]   0.0   \n",
       "1927018                    [0, 37216, 40695, 35962, 34553]   0.0   \n",
       "1927019             [0, 37216, 40695, 35962, 34553, 35962]   0.0   \n",
       "1927020      [0, 37216, 40695, 35962, 34553, 35962, 33983]   1.0   \n",
       "1927021  [0, 37216, 40695, 35962, 34553, 35962, 33983, ...   1.0   \n",
       "1927022  [0, 37216, 40695, 35962, 34553, 35962, 33983, ...   1.0   \n",
       "1927023  [0, 37216, 40695, 35962, 34553, 35962, 33983, ...   1.0   \n",
       "1927024  [0, 37216, 40695, 35962, 34553, 35962, 33983, ...   1.0   \n",
       "1927025  [0, 37216, 40695, 35962, 34553, 35962, 33983, ...   1.0   \n",
       "\n",
       "                                    his_label  \n",
       "1927016                             [0, 1, 1]  \n",
       "1927017                          [0, 1, 1, 1]  \n",
       "1927018                       [0, 1, 1, 1, 1]  \n",
       "1927019                    [0, 1, 1, 1, 1, 1]  \n",
       "1927020                 [0, 1, 1, 1, 1, 1, 0]  \n",
       "1927021              [0, 1, 1, 1, 1, 1, 0, 1]  \n",
       "1927022           [0, 1, 1, 1, 1, 1, 0, 1, 1]  \n",
       "1927023        [0, 1, 1, 1, 1, 1, 0, 1, 1, 1]  \n",
       "1927024     [0, 1, 1, 1, 1, 1, 0, 1, 1, 1, 0]  \n",
       "1927025  [0, 1, 1, 1, 1, 1, 0, 1, 1, 1, 0, 0]  "
      ]
     },
     "execution_count": 162,
     "metadata": {},
     "output_type": "execute_result"
    }
   ],
   "source": [
    "data_.tail(10)"
   ]
  },
  {
   "cell_type": "code",
   "execution_count": 151,
   "metadata": {},
   "outputs": [
    {
     "data": {
      "text/plain": [
       "count    1.927026e+06\n",
       "mean     7.001945e-01\n",
       "std      4.581728e-01\n",
       "min      0.000000e+00\n",
       "25%      0.000000e+00\n",
       "50%      1.000000e+00\n",
       "75%      1.000000e+00\n",
       "max      1.000000e+00\n",
       "Name: label, dtype: float64"
      ]
     },
     "execution_count": 151,
     "metadata": {},
     "output_type": "execute_result"
    }
   ],
   "source": [
    "data_.label.describe()"
   ]
  },
  {
   "cell_type": "code",
   "execution_count": 122,
   "metadata": {},
   "outputs": [
    {
     "data": {
      "text/html": [
       "<div>\n",
       "<style scoped>\n",
       "    .dataframe tbody tr th:only-of-type {\n",
       "        vertical-align: middle;\n",
       "    }\n",
       "\n",
       "    .dataframe tbody tr th {\n",
       "        vertical-align: top;\n",
       "    }\n",
       "\n",
       "    .dataframe thead th {\n",
       "        text-align: right;\n",
       "    }\n",
       "</style>\n",
       "<table border=\"1\" class=\"dataframe\">\n",
       "  <thead>\n",
       "    <tr style=\"text-align: right;\">\n",
       "      <th></th>\n",
       "      <th>uid</th>\n",
       "      <th>iid</th>\n",
       "      <th>label</th>\n",
       "      <th>timestamp</th>\n",
       "      <th>his</th>\n",
       "      <th>flag</th>\n",
       "      <th>his_label</th>\n",
       "    </tr>\n",
       "  </thead>\n",
       "  <tbody>\n",
       "    <tr>\n",
       "      <th>300492</th>\n",
       "      <td>15997</td>\n",
       "      <td>47366</td>\n",
       "      <td>1</td>\n",
       "      <td>1.470096e+09</td>\n",
       "      <td>[0]</td>\n",
       "      <td>-1.0</td>\n",
       "      <td>[0]</td>\n",
       "    </tr>\n",
       "    <tr>\n",
       "      <th>300493</th>\n",
       "      <td>15998</td>\n",
       "      <td>48003</td>\n",
       "      <td>1</td>\n",
       "      <td>1.485130e+09</td>\n",
       "      <td>[0]</td>\n",
       "      <td>-1.0</td>\n",
       "      <td>[0]</td>\n",
       "    </tr>\n",
       "    <tr>\n",
       "      <th>300494</th>\n",
       "      <td>15999</td>\n",
       "      <td>49375</td>\n",
       "      <td>1</td>\n",
       "      <td>1.475626e+09</td>\n",
       "      <td>[0]</td>\n",
       "      <td>-1.0</td>\n",
       "      <td>[0]</td>\n",
       "    </tr>\n",
       "    <tr>\n",
       "      <th>300495</th>\n",
       "      <td>16000</td>\n",
       "      <td>49497</td>\n",
       "      <td>0</td>\n",
       "      <td>1.477008e+09</td>\n",
       "      <td>[0]</td>\n",
       "      <td>-1.0</td>\n",
       "      <td>[0]</td>\n",
       "    </tr>\n",
       "    <tr>\n",
       "      <th>300496</th>\n",
       "      <td>16001</td>\n",
       "      <td>49811</td>\n",
       "      <td>1</td>\n",
       "      <td>1.526688e+09</td>\n",
       "      <td>[0]</td>\n",
       "      <td>1.0</td>\n",
       "      <td>[0]</td>\n",
       "    </tr>\n",
       "  </tbody>\n",
       "</table>\n",
       "</div>"
      ],
      "text/plain": [
       "          uid    iid  label     timestamp  his  flag his_label\n",
       "300492  15997  47366      1  1.470096e+09  [0]  -1.0       [0]\n",
       "300493  15998  48003      1  1.485130e+09  [0]  -1.0       [0]\n",
       "300494  15999  49375      1  1.475626e+09  [0]  -1.0       [0]\n",
       "300495  16000  49497      0  1.477008e+09  [0]  -1.0       [0]\n",
       "300496  16001  49811      1  1.526688e+09  [0]   1.0       [0]"
      ]
     },
     "execution_count": 122,
     "metadata": {},
     "output_type": "execute_result"
    }
   ],
   "source": [
    "data_.tail(5)"
   ]
  },
  {
   "cell_type": "code",
   "execution_count": 163,
   "metadata": {},
   "outputs": [
    {
     "data": {
      "text/plain": [
       "((1637168, 7), (144929, 7), (144929, 7))"
      ]
     },
     "execution_count": 163,
     "metadata": {},
     "output_type": "execute_result"
    }
   ],
   "source": [
    "train_ = data_[data_['flag'].isin([-1])].copy()\n",
    "valid_ = data_[data_['flag'].isin([0])].copy()\n",
    "test_ = data_[data_['flag'].isin([1])].copy()\n",
    "train_.shape,valid_.shape,test_.shape"
   ]
  },
  {
   "cell_type": "code",
   "execution_count": 164,
   "metadata": {},
   "outputs": [],
   "source": [
    "train_user = train_['uid'].unique()\n",
    "train_item = train_['iid'].unique()\n",
    "valid_['not_cold'] = valid_[['uid','iid']].apply(lambda x: x.uid in train_user and x.iid in train_item, axis=1).astype(\"int\")\n",
    "test_['not_cold'] = test_[['uid','iid']].apply(lambda x: x.uid in train_user and x.iid in train_item, axis=1).astype(\"int\")"
   ]
  },
  {
   "cell_type": "code",
   "execution_count": 165,
   "metadata": {},
   "outputs": [
    {
     "data": {
      "text/plain": [
       "(count    144929.000000\n",
       " mean          0.849547\n",
       " std           0.357516\n",
       " min           0.000000\n",
       " 25%           1.000000\n",
       " 50%           1.000000\n",
       " 75%           1.000000\n",
       " max           1.000000\n",
       " Name: not_cold, dtype: float64,\n",
       " count    144929.000000\n",
       " mean          0.715585\n",
       " std           0.451137\n",
       " min           0.000000\n",
       " 25%           0.000000\n",
       " 50%           1.000000\n",
       " 75%           1.000000\n",
       " max           1.000000\n",
       " Name: not_cold, dtype: float64)"
      ]
     },
     "execution_count": 165,
     "metadata": {},
     "output_type": "execute_result"
    }
   ],
   "source": [
    "valid_['not_cold'].describe(), test_['not_cold'].describe()"
   ]
  },
  {
   "cell_type": "code",
   "execution_count": 166,
   "metadata": {},
   "outputs": [
    {
     "data": {
      "text/html": [
       "<div>\n",
       "<style scoped>\n",
       "    .dataframe tbody tr th:only-of-type {\n",
       "        vertical-align: middle;\n",
       "    }\n",
       "\n",
       "    .dataframe tbody tr th {\n",
       "        vertical-align: top;\n",
       "    }\n",
       "\n",
       "    .dataframe thead th {\n",
       "        text-align: right;\n",
       "    }\n",
       "</style>\n",
       "<table border=\"1\" class=\"dataframe\">\n",
       "  <thead>\n",
       "    <tr style=\"text-align: right;\">\n",
       "      <th></th>\n",
       "      <th>uid</th>\n",
       "      <th>iid</th>\n",
       "      <th>label</th>\n",
       "      <th>timestamp</th>\n",
       "      <th>his</th>\n",
       "      <th>flag</th>\n",
       "      <th>his_label</th>\n",
       "      <th>not_cold</th>\n",
       "    </tr>\n",
       "  </thead>\n",
       "  <tbody>\n",
       "    <tr>\n",
       "      <th>0</th>\n",
       "      <td>1</td>\n",
       "      <td>21536</td>\n",
       "      <td>0</td>\n",
       "      <td>1.320423e+09</td>\n",
       "      <td>[0]</td>\n",
       "      <td>-1.0</td>\n",
       "      <td>[0]</td>\n",
       "      <td>1</td>\n",
       "    </tr>\n",
       "    <tr>\n",
       "      <th>1</th>\n",
       "      <td>1</td>\n",
       "      <td>14956</td>\n",
       "      <td>1</td>\n",
       "      <td>1.320424e+09</td>\n",
       "      <td>[0, 21536]</td>\n",
       "      <td>-1.0</td>\n",
       "      <td>[0, 0]</td>\n",
       "      <td>1</td>\n",
       "    </tr>\n",
       "  </tbody>\n",
       "</table>\n",
       "</div>"
      ],
      "text/plain": [
       "   uid    iid  label     timestamp         his  flag his_label  not_cold\n",
       "0    1  21536      0  1.320423e+09         [0]  -1.0       [0]         1\n",
       "1    1  14956      1  1.320424e+09  [0, 21536]  -1.0    [0, 0]         1"
      ]
     },
     "execution_count": 166,
     "metadata": {},
     "output_type": "execute_result"
    }
   ],
   "source": [
    "train_['not_cold'] = pd.DataFrame(np.ones(train_.shape[0]),index=train_.index).astype(\"int\")\n",
    "train_.head(2)"
   ]
  },
  {
   "cell_type": "code",
   "execution_count": 167,
   "metadata": {},
   "outputs": [],
   "source": [
    "save_path = \"/home/yuqihang/workroot/models/data/collm/yelpdu/\"\n",
    "train_.to_pickle(os.path.join(save_path,\"train_ood2.pkl\"))\n",
    "valid_.to_pickle(os.path.join(save_path,\"valid_ood2.pkl\"))\n",
    "test_.to_pickle(os.path.join(save_path,\"test_ood2.pkl\"))"
   ]
  },
  {
   "cell_type": "code",
   "execution_count": 168,
   "metadata": {},
   "outputs": [
    {
     "data": {
      "text/plain": [
       "(144929, 8)"
      ]
     },
     "execution_count": 168,
     "metadata": {},
     "output_type": "execute_result"
    }
   ],
   "source": [
    "valid_.shape"
   ]
  },
  {
   "cell_type": "code",
   "execution_count": 169,
   "metadata": {},
   "outputs": [],
   "source": [
    "valid_small = valid_.sample(frac=0.1,random_state=2025)\n",
    "valid_small.to_pickle(os.path.join(save_path,\"valid_small_ood2.pkl\"))\n",
    "test_small = test_.sample(frac=0.1,random_state=2025)\n",
    "test_small.to_pickle(os.path.join(save_path,\"test_small_ood2.pkl\"))\n",
    "test_tiny= test_.sample(n=200, random_state=2025)\n",
    "test_tiny.to_pickle(os.path.join(save_path,\"test_tiny_ood2.pkl\"))"
   ]
  },
  {
   "cell_type": "code",
   "execution_count": 170,
   "metadata": {},
   "outputs": [
    {
     "data": {
      "text/plain": [
       "(14493, 8)"
      ]
     },
     "execution_count": 170,
     "metadata": {},
     "output_type": "execute_result"
    }
   ],
   "source": [
    "valid_small.shape"
   ]
  },
  {
   "cell_type": "code",
   "execution_count": 171,
   "metadata": {},
   "outputs": [
    {
     "data": {
      "text/plain": [
       "(14493, 8)"
      ]
     },
     "execution_count": 171,
     "metadata": {},
     "output_type": "execute_result"
    }
   ],
   "source": [
    "test_small.shape"
   ]
  },
  {
   "cell_type": "code",
   "execution_count": 118,
   "metadata": {},
   "outputs": [
    {
     "data": {
      "text/plain": [
       "count    267209.000000\n",
       "mean         10.497158\n",
       "std          14.959360\n",
       "min           1.000000\n",
       "25%           3.000000\n",
       "50%           7.000000\n",
       "75%          13.000000\n",
       "max         354.000000\n",
       "Name: his, dtype: float64"
      ]
     },
     "execution_count": 118,
     "metadata": {},
     "output_type": "execute_result"
    }
   ],
   "source": [
    "train_['his'].apply(len).describe()"
   ]
  },
  {
   "cell_type": "code",
   "execution_count": 111,
   "metadata": {},
   "outputs": [
    {
     "data": {
      "text/plain": [
       "(0.6336170043240162, 0.6288648821244213, 0.6356056977631136)"
      ]
     },
     "execution_count": 111,
     "metadata": {},
     "output_type": "execute_result"
    }
   ],
   "source": [
    "train_.label.mean(), test_.label.mean(), valid_.label.mean()  "
   ]
  },
  {
   "cell_type": "code",
   "execution_count": 94,
   "metadata": {},
   "outputs": [
    {
     "data": {
      "text/html": [
       "<div>\n",
       "<style scoped>\n",
       "    .dataframe tbody tr th:only-of-type {\n",
       "        vertical-align: middle;\n",
       "    }\n",
       "\n",
       "    .dataframe tbody tr th {\n",
       "        vertical-align: top;\n",
       "    }\n",
       "\n",
       "    .dataframe thead tr th {\n",
       "        text-align: left;\n",
       "    }\n",
       "</style>\n",
       "<table border=\"1\" class=\"dataframe\">\n",
       "  <thead>\n",
       "    <tr>\n",
       "      <th></th>\n",
       "      <th colspan=\"2\" halign=\"left\">label</th>\n",
       "    </tr>\n",
       "    <tr>\n",
       "      <th></th>\n",
       "      <th>count</th>\n",
       "      <th>sum</th>\n",
       "    </tr>\n",
       "  </thead>\n",
       "  <tbody>\n",
       "    <tr>\n",
       "      <th>count</th>\n",
       "      <td>11673.000000</td>\n",
       "      <td>11673.000000</td>\n",
       "    </tr>\n",
       "    <tr>\n",
       "      <th>mean</th>\n",
       "      <td>3.219481</td>\n",
       "      <td>1.986807</td>\n",
       "    </tr>\n",
       "    <tr>\n",
       "      <th>std</th>\n",
       "      <td>3.586153</td>\n",
       "      <td>2.719840</td>\n",
       "    </tr>\n",
       "    <tr>\n",
       "      <th>min</th>\n",
       "      <td>1.000000</td>\n",
       "      <td>0.000000</td>\n",
       "    </tr>\n",
       "    <tr>\n",
       "      <th>25%</th>\n",
       "      <td>1.000000</td>\n",
       "      <td>1.000000</td>\n",
       "    </tr>\n",
       "    <tr>\n",
       "      <th>50%</th>\n",
       "      <td>2.000000</td>\n",
       "      <td>1.000000</td>\n",
       "    </tr>\n",
       "    <tr>\n",
       "      <th>75%</th>\n",
       "      <td>4.000000</td>\n",
       "      <td>2.000000</td>\n",
       "    </tr>\n",
       "    <tr>\n",
       "      <th>max</th>\n",
       "      <td>57.000000</td>\n",
       "      <td>49.000000</td>\n",
       "    </tr>\n",
       "  </tbody>\n",
       "</table>\n",
       "</div>"
      ],
      "text/plain": [
       "              label              \n",
       "              count           sum\n",
       "count  11673.000000  11673.000000\n",
       "mean       3.219481      1.986807\n",
       "std        3.586153      2.719840\n",
       "min        1.000000      0.000000\n",
       "25%        1.000000      1.000000\n",
       "50%        2.000000      1.000000\n",
       "75%        4.000000      2.000000\n",
       "max       57.000000     49.000000"
      ]
     },
     "execution_count": 94,
     "metadata": {},
     "output_type": "execute_result"
    }
   ],
   "source": [
    "test_.groupby(\"uid\").agg({\"label\":['count','sum']}).describe()"
   ]
  },
  {
   "cell_type": "code",
   "execution_count": 82,
   "metadata": {},
   "outputs": [
    {
     "data": {
      "text/html": [
       "<div>\n",
       "<style scoped>\n",
       "    .dataframe tbody tr th:only-of-type {\n",
       "        vertical-align: middle;\n",
       "    }\n",
       "\n",
       "    .dataframe tbody tr th {\n",
       "        vertical-align: top;\n",
       "    }\n",
       "\n",
       "    .dataframe thead tr th {\n",
       "        text-align: left;\n",
       "    }\n",
       "</style>\n",
       "<table border=\"1\" class=\"dataframe\">\n",
       "  <thead>\n",
       "    <tr>\n",
       "      <th></th>\n",
       "      <th colspan=\"2\" halign=\"left\">label</th>\n",
       "    </tr>\n",
       "    <tr>\n",
       "      <th></th>\n",
       "      <th>count</th>\n",
       "      <th>sum</th>\n",
       "    </tr>\n",
       "  </thead>\n",
       "  <tbody>\n",
       "    <tr>\n",
       "      <th>count</th>\n",
       "      <td>49923.000000</td>\n",
       "      <td>49923.000000</td>\n",
       "    </tr>\n",
       "    <tr>\n",
       "      <th>mean</th>\n",
       "      <td>15.811730</td>\n",
       "      <td>9.997476</td>\n",
       "    </tr>\n",
       "    <tr>\n",
       "      <th>std</th>\n",
       "      <td>28.974308</td>\n",
       "      <td>20.085800</td>\n",
       "    </tr>\n",
       "    <tr>\n",
       "      <th>min</th>\n",
       "      <td>1.000000</td>\n",
       "      <td>0.000000</td>\n",
       "    </tr>\n",
       "    <tr>\n",
       "      <th>25%</th>\n",
       "      <td>3.000000</td>\n",
       "      <td>2.000000</td>\n",
       "    </tr>\n",
       "    <tr>\n",
       "      <th>50%</th>\n",
       "      <td>7.000000</td>\n",
       "      <td>4.000000</td>\n",
       "    </tr>\n",
       "    <tr>\n",
       "      <th>75%</th>\n",
       "      <td>17.000000</td>\n",
       "      <td>10.000000</td>\n",
       "    </tr>\n",
       "    <tr>\n",
       "      <th>max</th>\n",
       "      <td>1060.000000</td>\n",
       "      <td>464.000000</td>\n",
       "    </tr>\n",
       "  </tbody>\n",
       "</table>\n",
       "</div>"
      ],
      "text/plain": [
       "              label              \n",
       "              count           sum\n",
       "count  49923.000000  49923.000000\n",
       "mean      15.811730      9.997476\n",
       "std       28.974308     20.085800\n",
       "min        1.000000      0.000000\n",
       "25%        3.000000      2.000000\n",
       "50%        7.000000      4.000000\n",
       "75%       17.000000     10.000000\n",
       "max     1060.000000    464.000000"
      ]
     },
     "execution_count": 82,
     "metadata": {},
     "output_type": "execute_result"
    }
   ],
   "source": [
    "train_.groupby(\"iid\").agg({\"label\":['count','sum']}).describe()"
   ]
  },
  {
   "cell_type": "code",
   "execution_count": 83,
   "metadata": {},
   "outputs": [
    {
     "data": {
      "text/plain": [
       "(10883,)"
      ]
     },
     "execution_count": 83,
     "metadata": {},
     "output_type": "execute_result"
    }
   ],
   "source": [
    "valid_[valid_['uid'].isin(train_['uid'].unique())].uid.unique().shape"
   ]
  },
  {
   "cell_type": "code",
   "execution_count": 84,
   "metadata": {},
   "outputs": [
    {
     "data": {
      "text/plain": [
       "array([ 4756,  3059, 37440, ..., 50848, 45323, 46200])"
      ]
     },
     "execution_count": 84,
     "metadata": {},
     "output_type": "execute_result"
    }
   ],
   "source": [
    "train_['iid'].unique()"
   ]
  },
  {
   "cell_type": "code",
   "execution_count": 85,
   "metadata": {},
   "outputs": [
    {
     "data": {
      "text/plain": [
       "(9873,)"
      ]
     },
     "execution_count": 85,
     "metadata": {},
     "output_type": "execute_result"
    }
   ],
   "source": [
    "valid_[valid_['iid'].isin(train_['iid'].unique())].iid.unique().shape"
   ]
  },
  {
   "cell_type": "code",
   "execution_count": 86,
   "metadata": {},
   "outputs": [
    {
     "data": {
      "text/plain": [
       "((10414,), (11911,))"
      ]
     },
     "execution_count": 86,
     "metadata": {},
     "output_type": "execute_result"
    }
   ],
   "source": [
    "valid_.iid.unique().shape, test_.iid.unique().shape"
   ]
  },
  {
   "cell_type": "code",
   "execution_count": 87,
   "metadata": {},
   "outputs": [
    {
     "data": {
      "text/plain": [
       "((10946,), (10883,))"
      ]
     },
     "execution_count": 87,
     "metadata": {},
     "output_type": "execute_result"
    }
   ],
   "source": [
    "valid_.uid.unique().shape, test_.uid.unique().shape"
   ]
  },
  {
   "cell_type": "code",
   "execution_count": 88,
   "metadata": {},
   "outputs": [
    {
     "data": {
      "text/plain": [
       "((24722,), (49923,))"
      ]
     },
     "execution_count": 88,
     "metadata": {},
     "output_type": "execute_result"
    }
   ],
   "source": [
    "train_.uid.unique().shape, train_.iid.unique().shape"
   ]
  },
  {
   "cell_type": "code",
   "execution_count": 89,
   "metadata": {},
   "outputs": [
    {
     "data": {
      "text/plain": [
       "((86,), (63,))"
      ]
     },
     "execution_count": 89,
     "metadata": {},
     "output_type": "execute_result"
    }
   ],
   "source": [
    "\n",
    "np.setdiff1d(test_.uid.unique(),train_.uid.unique()).shape, np.setdiff1d(valid_.uid.unique(),train_.uid.unique()).shape"
   ]
  },
  {
   "cell_type": "code",
   "execution_count": 90,
   "metadata": {},
   "outputs": [
    {
     "data": {
      "text/plain": [
       "((683,), (541,))"
      ]
     },
     "execution_count": 90,
     "metadata": {},
     "output_type": "execute_result"
    }
   ],
   "source": [
    "np.setdiff1d(test_.iid.unique(),train_.iid.unique()).shape, np.setdiff1d(valid_.iid.unique(),train_.iid.unique()).shape"
   ]
  },
  {
   "cell_type": "code",
   "execution_count": 91,
   "metadata": {},
   "outputs": [
    {
     "data": {
      "text/plain": [
       "(24861, 50859)"
      ]
     },
     "execution_count": 91,
     "metadata": {},
     "output_type": "execute_result"
    }
   ],
   "source": [
    "max(train_.uid.max(),test_.uid.max(),valid_.uid.max())+1, max(train_.iid.max(),test_.iid.max(),valid_.iid.max())+1"
   ]
  },
  {
   "cell_type": "code",
   "execution_count": 92,
   "metadata": {},
   "outputs": [
    {
     "data": {
      "text/html": [
       "<div>\n",
       "<style scoped>\n",
       "    .dataframe tbody tr th:only-of-type {\n",
       "        vertical-align: middle;\n",
       "    }\n",
       "\n",
       "    .dataframe tbody tr th {\n",
       "        vertical-align: top;\n",
       "    }\n",
       "\n",
       "    .dataframe thead tr th {\n",
       "        text-align: left;\n",
       "    }\n",
       "</style>\n",
       "<table border=\"1\" class=\"dataframe\">\n",
       "  <thead>\n",
       "    <tr>\n",
       "      <th></th>\n",
       "      <th colspan=\"2\" halign=\"left\">label</th>\n",
       "    </tr>\n",
       "    <tr>\n",
       "      <th></th>\n",
       "      <th>count</th>\n",
       "      <th>mean</th>\n",
       "    </tr>\n",
       "  </thead>\n",
       "  <tbody>\n",
       "    <tr>\n",
       "      <th>count</th>\n",
       "      <td>10946.000000</td>\n",
       "      <td>10946.000000</td>\n",
       "    </tr>\n",
       "    <tr>\n",
       "      <th>mean</th>\n",
       "      <td>2.572629</td>\n",
       "      <td>0.630332</td>\n",
       "    </tr>\n",
       "    <tr>\n",
       "      <th>std</th>\n",
       "      <td>2.696948</td>\n",
       "      <td>0.420832</td>\n",
       "    </tr>\n",
       "    <tr>\n",
       "      <th>min</th>\n",
       "      <td>1.000000</td>\n",
       "      <td>0.000000</td>\n",
       "    </tr>\n",
       "    <tr>\n",
       "      <th>25%</th>\n",
       "      <td>1.000000</td>\n",
       "      <td>0.142857</td>\n",
       "    </tr>\n",
       "    <tr>\n",
       "      <th>50%</th>\n",
       "      <td>2.000000</td>\n",
       "      <td>0.875000</td>\n",
       "    </tr>\n",
       "    <tr>\n",
       "      <th>75%</th>\n",
       "      <td>3.000000</td>\n",
       "      <td>1.000000</td>\n",
       "    </tr>\n",
       "    <tr>\n",
       "      <th>max</th>\n",
       "      <td>46.000000</td>\n",
       "      <td>1.000000</td>\n",
       "    </tr>\n",
       "  </tbody>\n",
       "</table>\n",
       "</div>"
      ],
      "text/plain": [
       "              label              \n",
       "              count          mean\n",
       "count  10946.000000  10946.000000\n",
       "mean       2.572629      0.630332\n",
       "std        2.696948      0.420832\n",
       "min        1.000000      0.000000\n",
       "25%        1.000000      0.142857\n",
       "50%        2.000000      0.875000\n",
       "75%        3.000000      1.000000\n",
       "max       46.000000      1.000000"
      ]
     },
     "execution_count": 92,
     "metadata": {},
     "output_type": "execute_result"
    }
   ],
   "source": [
    "valid_.groupby(\"uid\").agg({\"label\":['count','mean']}).describe()"
   ]
  },
  {
   "cell_type": "code",
   "execution_count": 93,
   "metadata": {},
   "outputs": [
    {
     "data": {
      "text/html": [
       "<div>\n",
       "<style scoped>\n",
       "    .dataframe tbody tr th:only-of-type {\n",
       "        vertical-align: middle;\n",
       "    }\n",
       "\n",
       "    .dataframe tbody tr th {\n",
       "        vertical-align: top;\n",
       "    }\n",
       "\n",
       "    .dataframe thead tr th {\n",
       "        text-align: left;\n",
       "    }\n",
       "</style>\n",
       "<table border=\"1\" class=\"dataframe\">\n",
       "  <thead>\n",
       "    <tr>\n",
       "      <th></th>\n",
       "      <th colspan=\"2\" halign=\"left\">label</th>\n",
       "    </tr>\n",
       "    <tr>\n",
       "      <th></th>\n",
       "      <th>count</th>\n",
       "      <th>mean</th>\n",
       "    </tr>\n",
       "  </thead>\n",
       "  <tbody>\n",
       "    <tr>\n",
       "      <th>count</th>\n",
       "      <td>10883.000000</td>\n",
       "      <td>10883.000000</td>\n",
       "    </tr>\n",
       "    <tr>\n",
       "      <th>mean</th>\n",
       "      <td>2.587522</td>\n",
       "      <td>0.630343</td>\n",
       "    </tr>\n",
       "    <tr>\n",
       "      <th>std</th>\n",
       "      <td>2.851553</td>\n",
       "      <td>0.423754</td>\n",
       "    </tr>\n",
       "    <tr>\n",
       "      <th>min</th>\n",
       "      <td>1.000000</td>\n",
       "      <td>0.000000</td>\n",
       "    </tr>\n",
       "    <tr>\n",
       "      <th>25%</th>\n",
       "      <td>1.000000</td>\n",
       "      <td>0.000000</td>\n",
       "    </tr>\n",
       "    <tr>\n",
       "      <th>50%</th>\n",
       "      <td>2.000000</td>\n",
       "      <td>1.000000</td>\n",
       "    </tr>\n",
       "    <tr>\n",
       "      <th>75%</th>\n",
       "      <td>3.000000</td>\n",
       "      <td>1.000000</td>\n",
       "    </tr>\n",
       "    <tr>\n",
       "      <th>max</th>\n",
       "      <td>92.000000</td>\n",
       "      <td>1.000000</td>\n",
       "    </tr>\n",
       "  </tbody>\n",
       "</table>\n",
       "</div>"
      ],
      "text/plain": [
       "              label              \n",
       "              count          mean\n",
       "count  10883.000000  10883.000000\n",
       "mean       2.587522      0.630343\n",
       "std        2.851553      0.423754\n",
       "min        1.000000      0.000000\n",
       "25%        1.000000      0.000000\n",
       "50%        2.000000      1.000000\n",
       "75%        3.000000      1.000000\n",
       "max       92.000000      1.000000"
      ]
     },
     "execution_count": 93,
     "metadata": {},
     "output_type": "execute_result"
    }
   ],
   "source": [
    "test_.groupby(\"uid\").agg({\"label\":['count','mean']}).describe()"
   ]
  },
  {
   "cell_type": "markdown",
   "metadata": {},
   "source": [
    "## read info"
   ]
  },
  {
   "cell_type": "code",
   "execution_count": 9,
   "metadata": {},
   "outputs": [],
   "source": [
    "# import pandas as pd\n",
    "save_path = \"/data/yuqihang/datasets/collm-datasets/booknew/\"\n",
    "# train_.to_pickle(os.path.join(save_path,\"train_ood2.pkl\"))\n",
    "# valid_.to_pickle(os.path.join(save_path,\"valid_ood2.pkl\"))\n",
    "test_ = pd.read_pickle(os.path.join(save_path,\"test_ood2.pkl\"))\n",
    "# data = pd.concat([train_,valid_,test_],axis=0)"
   ]
  },
  {
   "cell_type": "code",
   "execution_count": 10,
   "metadata": {},
   "outputs": [],
   "source": [
    "# 从test中随机采样获取200条作为test_tiny\n",
    "test_tiny= test_.sample(n=200, random_state=2025)\n",
    "test_tiny.to_pickle(os.path.join(save_path,\"test_tiny_ood2.pkl\"))"
   ]
  },
  {
   "cell_type": "code",
   "execution_count": 7,
   "metadata": {},
   "outputs": [
    {
     "data": {
      "text/html": [
       "<div>\n",
       "<style scoped>\n",
       "    .dataframe tbody tr th:only-of-type {\n",
       "        vertical-align: middle;\n",
       "    }\n",
       "\n",
       "    .dataframe tbody tr th {\n",
       "        vertical-align: top;\n",
       "    }\n",
       "\n",
       "    .dataframe thead th {\n",
       "        text-align: right;\n",
       "    }\n",
       "</style>\n",
       "<table border=\"1\" class=\"dataframe\">\n",
       "  <thead>\n",
       "    <tr style=\"text-align: right;\">\n",
       "      <th></th>\n",
       "      <th>uid</th>\n",
       "      <th>iid</th>\n",
       "      <th>label</th>\n",
       "      <th>timestamp</th>\n",
       "      <th>his</th>\n",
       "      <th>flag</th>\n",
       "      <th>his_label</th>\n",
       "      <th>not_cold</th>\n",
       "    </tr>\n",
       "  </thead>\n",
       "  <tbody>\n",
       "    <tr>\n",
       "      <th>191171</th>\n",
       "      <td>5804</td>\n",
       "      <td>6570</td>\n",
       "      <td>0</td>\n",
       "      <td>1.513555e+09</td>\n",
       "      <td>[0, 27079, 39289, 35499, 24100, 34624, 35639, ...</td>\n",
       "      <td>1.0</td>\n",
       "      <td>[0, 0, 0, 0, 0, 0, 0, 0, 1, 1, 1, 1, 1, 0, 1, ...</td>\n",
       "      <td>1</td>\n",
       "    </tr>\n",
       "    <tr>\n",
       "      <th>679137</th>\n",
       "      <td>19615</td>\n",
       "      <td>46888</td>\n",
       "      <td>1</td>\n",
       "      <td>1.514678e+09</td>\n",
       "      <td>[0, 17763, 17282, 24523, 24307, 24494, 27735, ...</td>\n",
       "      <td>1.0</td>\n",
       "      <td>[0, 1, 1, 1, 1, 1, 1, 0, 0, 1, 1, 1, 1, 0, 1, ...</td>\n",
       "      <td>1</td>\n",
       "    </tr>\n",
       "    <tr>\n",
       "      <th>412505</th>\n",
       "      <td>12411</td>\n",
       "      <td>33620</td>\n",
       "      <td>1</td>\n",
       "      <td>1.513037e+09</td>\n",
       "      <td>[0, 33401, 43627, 43455, 19316, 16577, 40047, ...</td>\n",
       "      <td>1.0</td>\n",
       "      <td>[0, 1, 1, 1, 1, 0, 1, 1, 1, 1, 1, 0, 1, 0, 1, ...</td>\n",
       "      <td>0</td>\n",
       "    </tr>\n",
       "    <tr>\n",
       "      <th>285172</th>\n",
       "      <td>7988</td>\n",
       "      <td>7750</td>\n",
       "      <td>1</td>\n",
       "      <td>1.514246e+09</td>\n",
       "      <td>[0, 2213, 3233, 14025, 14029, 21089, 21374, 21...</td>\n",
       "      <td>1.0</td>\n",
       "      <td>[0, 1, 1, 1, 1, 1, 1, 1, 1, 1, 1, 1, 1, 1, 1, ...</td>\n",
       "      <td>1</td>\n",
       "    </tr>\n",
       "    <tr>\n",
       "      <th>322394</th>\n",
       "      <td>9167</td>\n",
       "      <td>26440</td>\n",
       "      <td>1</td>\n",
       "      <td>1.512864e+09</td>\n",
       "      <td>[0, 27372, 10921, 19212, 33871, 42100, 26396, ...</td>\n",
       "      <td>1.0</td>\n",
       "      <td>[0, 1, 1, 1, 1, 1, 1, 0, 0, 1, 1, 0, 1, 1, 1, ...</td>\n",
       "      <td>1</td>\n",
       "    </tr>\n",
       "    <tr>\n",
       "      <th>...</th>\n",
       "      <td>...</td>\n",
       "      <td>...</td>\n",
       "      <td>...</td>\n",
       "      <td>...</td>\n",
       "      <td>...</td>\n",
       "      <td>...</td>\n",
       "      <td>...</td>\n",
       "      <td>...</td>\n",
       "    </tr>\n",
       "    <tr>\n",
       "      <th>725261</th>\n",
       "      <td>20972</td>\n",
       "      <td>45776</td>\n",
       "      <td>1</td>\n",
       "      <td>1.514419e+09</td>\n",
       "      <td>[0, 33924, 29894, 25774, 18838, 27262, 34278, ...</td>\n",
       "      <td>1.0</td>\n",
       "      <td>[0, 1, 0, 1, 1, 1, 1, 1, 1, 1, 1, 1, 1, 0, 1, ...</td>\n",
       "      <td>0</td>\n",
       "    </tr>\n",
       "    <tr>\n",
       "      <th>271835</th>\n",
       "      <td>7642</td>\n",
       "      <td>8836</td>\n",
       "      <td>1</td>\n",
       "      <td>1.512259e+09</td>\n",
       "      <td>[0, 6623, 20299, 31326, 6966, 33906, 35341, 18...</td>\n",
       "      <td>1.0</td>\n",
       "      <td>[0, 1, 1, 1, 0, 0, 1, 1, 0, 0, 0, 1, 0, 0, 1, ...</td>\n",
       "      <td>1</td>\n",
       "    </tr>\n",
       "    <tr>\n",
       "      <th>566985</th>\n",
       "      <td>16388</td>\n",
       "      <td>33308</td>\n",
       "      <td>0</td>\n",
       "      <td>1.512864e+09</td>\n",
       "      <td>[0, 23724, 24153, 30480, 28543, 32626, 25902, ...</td>\n",
       "      <td>1.0</td>\n",
       "      <td>[0, 0, 0, 0, 0, 0, 0, 0, 0, 0, 0, 0, 0, 0, 0, ...</td>\n",
       "      <td>1</td>\n",
       "    </tr>\n",
       "    <tr>\n",
       "      <th>47850</th>\n",
       "      <td>1531</td>\n",
       "      <td>23758</td>\n",
       "      <td>1</td>\n",
       "      <td>1.513555e+09</td>\n",
       "      <td>[0, 2024, 312, 20881, 301, 304, 302, 1760, 562...</td>\n",
       "      <td>1.0</td>\n",
       "      <td>[0, 1, 0, 0, 0, 0, 1, 0, 0, 0, 0, 1, 1, 1, 0, ...</td>\n",
       "      <td>1</td>\n",
       "    </tr>\n",
       "    <tr>\n",
       "      <th>674607</th>\n",
       "      <td>19461</td>\n",
       "      <td>44843</td>\n",
       "      <td>0</td>\n",
       "      <td>1.512346e+09</td>\n",
       "      <td>[0, 28712, 42716, 42718, 33895, 29837, 34274, ...</td>\n",
       "      <td>1.0</td>\n",
       "      <td>[0, 1, 1, 1, 0, 1, 0, 1, 0, 0, 1, 0, 0, 0, 0, ...</td>\n",
       "      <td>1</td>\n",
       "    </tr>\n",
       "  </tbody>\n",
       "</table>\n",
       "<p>200 rows × 8 columns</p>\n",
       "</div>"
      ],
      "text/plain": [
       "          uid    iid  label     timestamp  \\\n",
       "191171   5804   6570      0  1.513555e+09   \n",
       "679137  19615  46888      1  1.514678e+09   \n",
       "412505  12411  33620      1  1.513037e+09   \n",
       "285172   7988   7750      1  1.514246e+09   \n",
       "322394   9167  26440      1  1.512864e+09   \n",
       "...       ...    ...    ...           ...   \n",
       "725261  20972  45776      1  1.514419e+09   \n",
       "271835   7642   8836      1  1.512259e+09   \n",
       "566985  16388  33308      0  1.512864e+09   \n",
       "47850    1531  23758      1  1.513555e+09   \n",
       "674607  19461  44843      0  1.512346e+09   \n",
       "\n",
       "                                                      his  flag  \\\n",
       "191171  [0, 27079, 39289, 35499, 24100, 34624, 35639, ...   1.0   \n",
       "679137  [0, 17763, 17282, 24523, 24307, 24494, 27735, ...   1.0   \n",
       "412505  [0, 33401, 43627, 43455, 19316, 16577, 40047, ...   1.0   \n",
       "285172  [0, 2213, 3233, 14025, 14029, 21089, 21374, 21...   1.0   \n",
       "322394  [0, 27372, 10921, 19212, 33871, 42100, 26396, ...   1.0   \n",
       "...                                                   ...   ...   \n",
       "725261  [0, 33924, 29894, 25774, 18838, 27262, 34278, ...   1.0   \n",
       "271835  [0, 6623, 20299, 31326, 6966, 33906, 35341, 18...   1.0   \n",
       "566985  [0, 23724, 24153, 30480, 28543, 32626, 25902, ...   1.0   \n",
       "47850   [0, 2024, 312, 20881, 301, 304, 302, 1760, 562...   1.0   \n",
       "674607  [0, 28712, 42716, 42718, 33895, 29837, 34274, ...   1.0   \n",
       "\n",
       "                                                his_label  not_cold  \n",
       "191171  [0, 0, 0, 0, 0, 0, 0, 0, 1, 1, 1, 1, 1, 0, 1, ...         1  \n",
       "679137  [0, 1, 1, 1, 1, 1, 1, 0, 0, 1, 1, 1, 1, 0, 1, ...         1  \n",
       "412505  [0, 1, 1, 1, 1, 0, 1, 1, 1, 1, 1, 0, 1, 0, 1, ...         0  \n",
       "285172  [0, 1, 1, 1, 1, 1, 1, 1, 1, 1, 1, 1, 1, 1, 1, ...         1  \n",
       "322394  [0, 1, 1, 1, 1, 1, 1, 0, 0, 1, 1, 0, 1, 1, 1, ...         1  \n",
       "...                                                   ...       ...  \n",
       "725261  [0, 1, 0, 1, 1, 1, 1, 1, 1, 1, 1, 1, 1, 0, 1, ...         0  \n",
       "271835  [0, 1, 1, 1, 0, 0, 1, 1, 0, 0, 0, 1, 0, 0, 1, ...         1  \n",
       "566985  [0, 0, 0, 0, 0, 0, 0, 0, 0, 0, 0, 0, 0, 0, 0, ...         1  \n",
       "47850   [0, 1, 0, 0, 0, 0, 1, 0, 0, 0, 0, 1, 1, 1, 0, ...         1  \n",
       "674607  [0, 1, 1, 1, 0, 1, 0, 1, 0, 0, 1, 0, 0, 0, 0, ...         1  \n",
       "\n",
       "[200 rows x 8 columns]"
      ]
     },
     "execution_count": 7,
     "metadata": {},
     "output_type": "execute_result"
    }
   ],
   "source": [
    "test_tiny"
   ]
  },
  {
   "cell_type": "code",
   "execution_count": 7,
   "metadata": {},
   "outputs": [],
   "source": [
    "test_small = test_.sample(frac=0.25,random_state=2023)\n",
    "test_small.to_pickle(os.path.join(save_path,\"test_small_ood2.pkl\"))"
   ]
  },
  {
   "cell_type": "code",
   "execution_count": 95,
   "metadata": {},
   "outputs": [
    {
     "data": {
      "text/html": [
       "<div>\n",
       "<style scoped>\n",
       "    .dataframe tbody tr th:only-of-type {\n",
       "        vertical-align: middle;\n",
       "    }\n",
       "\n",
       "    .dataframe tbody tr th {\n",
       "        vertical-align: top;\n",
       "    }\n",
       "\n",
       "    .dataframe thead tr th {\n",
       "        text-align: left;\n",
       "    }\n",
       "</style>\n",
       "<table border=\"1\" class=\"dataframe\">\n",
       "  <thead>\n",
       "    <tr>\n",
       "      <th></th>\n",
       "      <th colspan=\"2\" halign=\"left\">label</th>\n",
       "    </tr>\n",
       "    <tr>\n",
       "      <th></th>\n",
       "      <th>sum</th>\n",
       "      <th>count</th>\n",
       "    </tr>\n",
       "  </thead>\n",
       "  <tbody>\n",
       "    <tr>\n",
       "      <th>count</th>\n",
       "      <td>24860.000000</td>\n",
       "      <td>24860.000000</td>\n",
       "    </tr>\n",
       "    <tr>\n",
       "      <th>mean</th>\n",
       "      <td>21.490909</td>\n",
       "      <td>34.018061</td>\n",
       "    </tr>\n",
       "    <tr>\n",
       "      <th>std</th>\n",
       "      <td>27.100474</td>\n",
       "      <td>37.169312</td>\n",
       "    </tr>\n",
       "    <tr>\n",
       "      <th>min</th>\n",
       "      <td>0.000000</td>\n",
       "      <td>1.000000</td>\n",
       "    </tr>\n",
       "    <tr>\n",
       "      <th>25%</th>\n",
       "      <td>8.000000</td>\n",
       "      <td>16.000000</td>\n",
       "    </tr>\n",
       "    <tr>\n",
       "      <th>50%</th>\n",
       "      <td>15.000000</td>\n",
       "      <td>24.000000</td>\n",
       "    </tr>\n",
       "    <tr>\n",
       "      <th>75%</th>\n",
       "      <td>26.000000</td>\n",
       "      <td>39.000000</td>\n",
       "    </tr>\n",
       "    <tr>\n",
       "      <th>max</th>\n",
       "      <td>925.000000</td>\n",
       "      <td>941.000000</td>\n",
       "    </tr>\n",
       "  </tbody>\n",
       "</table>\n",
       "</div>"
      ],
      "text/plain": [
       "              label              \n",
       "                sum         count\n",
       "count  24860.000000  24860.000000\n",
       "mean      21.490909     34.018061\n",
       "std       27.100474     37.169312\n",
       "min        0.000000      1.000000\n",
       "25%        8.000000     16.000000\n",
       "50%       15.000000     24.000000\n",
       "75%       26.000000     39.000000\n",
       "max      925.000000    941.000000"
      ]
     },
     "execution_count": 95,
     "metadata": {},
     "output_type": "execute_result"
    }
   ],
   "source": [
    "data.groupby(\"uid\").agg({\"label\":['sum','count']}).describe()"
   ]
  },
  {
   "cell_type": "code",
   "execution_count": 96,
   "metadata": {},
   "outputs": [
    {
     "data": {
      "text/html": [
       "<div>\n",
       "<style scoped>\n",
       "    .dataframe tbody tr th:only-of-type {\n",
       "        vertical-align: middle;\n",
       "    }\n",
       "\n",
       "    .dataframe tbody tr th {\n",
       "        vertical-align: top;\n",
       "    }\n",
       "\n",
       "    .dataframe thead th {\n",
       "        text-align: right;\n",
       "    }\n",
       "</style>\n",
       "<table border=\"1\" class=\"dataframe\">\n",
       "  <thead>\n",
       "    <tr style=\"text-align: right;\">\n",
       "      <th></th>\n",
       "      <th>uid</th>\n",
       "      <th>iid</th>\n",
       "      <th>label</th>\n",
       "      <th>timestamp</th>\n",
       "      <th>his</th>\n",
       "      <th>his_title</th>\n",
       "      <th>title</th>\n",
       "      <th>flag</th>\n",
       "      <th>not_cold</th>\n",
       "    </tr>\n",
       "  </thead>\n",
       "  <tbody>\n",
       "    <tr>\n",
       "      <th>0</th>\n",
       "      <td>1</td>\n",
       "      <td>4756</td>\n",
       "      <td>1</td>\n",
       "      <td>1.483920e+09</td>\n",
       "      <td>[0]</td>\n",
       "      <td>[]</td>\n",
       "      <td>ENDURANCE: SHACKLETON'S INCREDIBLE VOYAGE by L...</td>\n",
       "      <td>-1.0</td>\n",
       "      <td>1</td>\n",
       "    </tr>\n",
       "    <tr>\n",
       "      <th>1</th>\n",
       "      <td>1</td>\n",
       "      <td>3059</td>\n",
       "      <td>0</td>\n",
       "      <td>1.484525e+09</td>\n",
       "      <td>[0, 4756]</td>\n",
       "      <td>[, ENDURANCE: SHACKLETON'S INCREDIBLE VOYAGE b...</td>\n",
       "      <td>Norwegian Wood</td>\n",
       "      <td>-1.0</td>\n",
       "      <td>1</td>\n",
       "    </tr>\n",
       "    <tr>\n",
       "      <th>2</th>\n",
       "      <td>1</td>\n",
       "      <td>37440</td>\n",
       "      <td>1</td>\n",
       "      <td>1.484698e+09</td>\n",
       "      <td>[0, 4756]</td>\n",
       "      <td>[, ENDURANCE: SHACKLETON'S INCREDIBLE VOYAGE b...</td>\n",
       "      <td>Summer at Sunset (The Summer Series) (Volume 2)</td>\n",
       "      <td>-1.0</td>\n",
       "      <td>1</td>\n",
       "    </tr>\n",
       "    <tr>\n",
       "      <th>3</th>\n",
       "      <td>1</td>\n",
       "      <td>29038</td>\n",
       "      <td>0</td>\n",
       "      <td>1.485130e+09</td>\n",
       "      <td>[0, 4756, 37440]</td>\n",
       "      <td>[, ENDURANCE: SHACKLETON'S INCREDIBLE VOYAGE b...</td>\n",
       "      <td>Every Day Is a Holiday</td>\n",
       "      <td>-1.0</td>\n",
       "      <td>1</td>\n",
       "    </tr>\n",
       "    <tr>\n",
       "      <th>4</th>\n",
       "      <td>1</td>\n",
       "      <td>187</td>\n",
       "      <td>0</td>\n",
       "      <td>1.485389e+09</td>\n",
       "      <td>[0, 4756, 37440]</td>\n",
       "      <td>[, ENDURANCE: SHACKLETON'S INCREDIBLE VOYAGE b...</td>\n",
       "      <td>The Yiddish Policemen's Union: A Novel (P.S.)</td>\n",
       "      <td>-1.0</td>\n",
       "      <td>1</td>\n",
       "    </tr>\n",
       "  </tbody>\n",
       "</table>\n",
       "</div>"
      ],
      "text/plain": [
       "   uid    iid  label     timestamp               his  \\\n",
       "0    1   4756      1  1.483920e+09               [0]   \n",
       "1    1   3059      0  1.484525e+09         [0, 4756]   \n",
       "2    1  37440      1  1.484698e+09         [0, 4756]   \n",
       "3    1  29038      0  1.485130e+09  [0, 4756, 37440]   \n",
       "4    1    187      0  1.485389e+09  [0, 4756, 37440]   \n",
       "\n",
       "                                           his_title  \\\n",
       "0                                                 []   \n",
       "1  [, ENDURANCE: SHACKLETON'S INCREDIBLE VOYAGE b...   \n",
       "2  [, ENDURANCE: SHACKLETON'S INCREDIBLE VOYAGE b...   \n",
       "3  [, ENDURANCE: SHACKLETON'S INCREDIBLE VOYAGE b...   \n",
       "4  [, ENDURANCE: SHACKLETON'S INCREDIBLE VOYAGE b...   \n",
       "\n",
       "                                               title  flag  not_cold  \n",
       "0  ENDURANCE: SHACKLETON'S INCREDIBLE VOYAGE by L...  -1.0         1  \n",
       "1                                     Norwegian Wood  -1.0         1  \n",
       "2    Summer at Sunset (The Summer Series) (Volume 2)  -1.0         1  \n",
       "3                             Every Day Is a Holiday  -1.0         1  \n",
       "4      The Yiddish Policemen's Union: A Novel (P.S.)  -1.0         1  "
      ]
     },
     "execution_count": 96,
     "metadata": {},
     "output_type": "execute_result"
    }
   ],
   "source": [
    "data.head(5)"
   ]
  }
 ],
 "metadata": {
  "kernelspec": {
   "display_name": "minigpt4",
   "language": "python",
   "name": "python3"
  },
  "language_info": {
   "codemirror_mode": {
    "name": "ipython",
    "version": 3
   },
   "file_extension": ".py",
   "mimetype": "text/x-python",
   "name": "python",
   "nbconvert_exporter": "python",
   "pygments_lexer": "ipython3",
   "version": "3.10.16"
  },
  "orig_nbformat": 4
 },
 "nbformat": 4,
 "nbformat_minor": 2
}
